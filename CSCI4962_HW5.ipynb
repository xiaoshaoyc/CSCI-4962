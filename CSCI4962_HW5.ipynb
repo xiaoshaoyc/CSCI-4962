{
  "cells": [
    {
      "cell_type": "markdown",
      "metadata": {
        "id": "view-in-github",
        "colab_type": "text"
      },
      "source": [
        "<a href=\"https://colab.research.google.com/github/xiaoshaoyc/CSCI-4962/blob/main/CSCI4962_HW5.ipynb\" target=\"_parent\"><img src=\"https://colab.research.google.com/assets/colab-badge.svg\" alt=\"Open In Colab\"/></a>"
      ]
    },
    {
      "cell_type": "code",
      "execution_count": 1,
      "metadata": {
        "colab": {
          "base_uri": "https://localhost:8080/"
        },
        "id": "lxIK-lXFXDq6",
        "outputId": "132c66d0-aef3-4e08-d69f-f7dbfff99587"
      },
      "outputs": [
        {
          "output_type": "stream",
          "name": "stdout",
          "text": [
            "Sat Nov  5 20:41:53 2022       \n",
            "+-----------------------------------------------------------------------------+\n",
            "| NVIDIA-SMI 460.32.03    Driver Version: 460.32.03    CUDA Version: 11.2     |\n",
            "|-------------------------------+----------------------+----------------------+\n",
            "| GPU  Name        Persistence-M| Bus-Id        Disp.A | Volatile Uncorr. ECC |\n",
            "| Fan  Temp  Perf  Pwr:Usage/Cap|         Memory-Usage | GPU-Util  Compute M. |\n",
            "|                               |                      |               MIG M. |\n",
            "|===============================+======================+======================|\n",
            "|   0  Tesla T4            Off  | 00000000:00:04.0 Off |                    0 |\n",
            "| N/A   46C    P8    10W /  70W |      0MiB / 15109MiB |      0%      Default |\n",
            "|                               |                      |                  N/A |\n",
            "+-------------------------------+----------------------+----------------------+\n",
            "                                                                               \n",
            "+-----------------------------------------------------------------------------+\n",
            "| Processes:                                                                  |\n",
            "|  GPU   GI   CI        PID   Type   Process name                  GPU Memory |\n",
            "|        ID   ID                                                   Usage      |\n",
            "|=============================================================================|\n",
            "|  No running processes found                                                 |\n",
            "+-----------------------------------------------------------------------------+\n"
          ]
        }
      ],
      "source": [
        "# we used GPU to accelerate the training\n",
        "# please make sure the runtime has an available gpu(i.e. 'cuda:0')\n",
        "# if you want to run it.\n",
        "!nvidia-smi"
      ]
    },
    {
      "cell_type": "code",
      "execution_count": 2,
      "metadata": {
        "id": "Mg-SqWWgSNRY"
      },
      "outputs": [],
      "source": [
        "# init\n",
        "import math\n",
        "import time\n",
        "import copy\n",
        "import numpy as np\n",
        "from tqdm import tqdm\n",
        "from matplotlib import pyplot as plt\n",
        "\n",
        "import torch\n",
        "import torchvision\n",
        "import torchvision.transforms as transforms\n",
        "from torch.utils.data import DataLoader\n",
        "from torch.utils.data import random_split, ConcatDataset\n",
        "from torch.utils.data import TensorDataset\n",
        "import torch.optim as optim\n",
        "from torch import nn\n",
        "from torchsummary import summary"
      ]
    },
    {
      "cell_type": "markdown",
      "metadata": {
        "id": "nqzP7yWTUSf7"
      },
      "source": [
        "# Task2\n",
        "The CIFAR-10 dataset contains 60000 images with a resolution of 3x32x32(RGB·W·H) in 10 classes. The dataset is balanced, with 6000 images per class. In addition, this dataset is a clean datatset. As mentioned in previous homework, the EDA we can do for graphic input is limited since every pixel is independent. The CIFAR-10 dataset contains clean data, meaning there is **no missing data**. \n"
      ]
    },
    {
      "cell_type": "code",
      "execution_count": 3,
      "metadata": {
        "colab": {
          "base_uri": "https://localhost:8080/"
        },
        "id": "nMjW7fKpVCUG",
        "outputId": "193b562a-0f98-42c8-9b74-101f9bc4e716"
      },
      "outputs": [
        {
          "output_type": "stream",
          "name": "stdout",
          "text": [
            "Files already downloaded and verified\n",
            "Files already downloaded and verified\n"
          ]
        }
      ],
      "source": [
        "def transform1(x):\n",
        "  # transformation for raw image data\n",
        "  return torch.tensor(np.array(x).reshape(-1) / 255)\n",
        "\n",
        "def y_trans(y):\n",
        "  # transformation for label\n",
        "  return (y == 1) * 1.0\n",
        "\n",
        "transform = transforms.Compose(\n",
        "    [transforms.ToTensor(),\n",
        "     transforms.Normalize((0.5, 0.5, 0.5), (0.5, 0.5, 0.5)), # [0,1] => [-1,1]\n",
        "    #  lambda x: x.\n",
        "     ])\n",
        "\n",
        "# Here, we store all the data in memory to accelerate training\n",
        "class Mem_dataset(torch.utils.data.Dataset):\n",
        "  def __init__(self, dataset) -> None:\n",
        "    super().__init__()\n",
        "    self.cache = {}\n",
        "    self.dataset = dataset\n",
        "\n",
        "  def __getitem__(self, index):\n",
        "    if index in self.cache:\n",
        "      return self.cache[index]\n",
        "    else:\n",
        "      item = self.dataset[index]\n",
        "      self.cache[index] = item\n",
        "      return item\n",
        "\n",
        "  def __len__(self):\n",
        "    return len(self.dataset) \n",
        "\n",
        "trainset_raw = torchvision.datasets.CIFAR10(root='./data', train=True,\n",
        "                     download=True, transform=transform)\n",
        "\n",
        "testset_raw = torchvision.datasets.CIFAR10(root='./data', train=False,\n",
        "                     download=True, transform=transform)\n",
        "\n",
        "# load everything to memory for speed\n",
        "trainset = Mem_dataset(trainset_raw)\n",
        "testset = Mem_dataset(testset_raw)\n",
        "\n",
        "\n",
        "classes = ('plane', 'car', 'bird', 'cat',\n",
        "           'deer', 'dog', 'frog', 'horse', 'ship', 'truck')\n",
        "\n"
      ]
    },
    {
      "cell_type": "code",
      "execution_count": 4,
      "metadata": {
        "colab": {
          "base_uri": "https://localhost:8080/",
          "height": 237
        },
        "id": "Mk06vK1ASwGz",
        "outputId": "c6d7ef80-cfcd-4bff-c6ec-126b5f4c347d"
      },
      "outputs": [
        {
          "output_type": "stream",
          "name": "stdout",
          "text": [
            "all data\n",
            "torch.Size([60000, 3, 32, 32])\n",
            "[6000, 6000, 6000, 6000, 6000, 6000, 6000, 6000, 6000, 6000]\n",
            "\n",
            "trainset\n",
            "len(trainset) = 50000\n",
            "[5000, 5000, 5000, 5000, 5000, 5000, 5000, 5000, 5000, 5000]\n",
            "\n",
            "testset\n",
            "len(testset) = 10000\n",
            "[1000, 1000, 1000, 1000, 1000, 1000, 1000, 1000, 1000, 1000]\n"
          ]
        },
        {
          "output_type": "execute_result",
          "data": {
            "text/plain": [
              "'\\nThere is an excessive amount of data in the testset, \\nbut 50000 images are enough to train our model.\\n'"
            ],
            "application/vnd.google.colaboratory.intrinsic+json": {
              "type": "string"
            }
          },
          "metadata": {},
          "execution_count": 4
        }
      ],
      "source": [
        "# Exploratory Data Analysis\n",
        "dataset_X, dataset_Y = zip( *(list(trainset) + list(testset)) )\n",
        "dataset_X = torch.stack(dataset_X)\n",
        "dataset_Y = torch.tensor(list(dataset_Y))\n",
        "print('all data')\n",
        "print(dataset_X.shape)\n",
        "\n",
        "num_per_class = []\n",
        "for i in range(10):\n",
        "  num_per_class.append(\n",
        "      len(list(filter(lambda x:x==i, dataset_Y)))\n",
        "  )\n",
        "\n",
        "print(num_per_class)\n",
        "\n",
        "print()\n",
        "print('trainset')\n",
        "print(f'len(trainset) = {len(trainset)}')\n",
        "\n",
        "num_per_class = []\n",
        "for i in range(10):\n",
        "  num_per_class.append(\n",
        "      len(list(filter(lambda x:x[1]==i, trainset)))\n",
        "  )\n",
        "print(num_per_class)\n",
        "\n",
        "print()\n",
        "print('testset')\n",
        "print(f'len(testset) = {len(testset)}')\n",
        "\n",
        "num_per_class = []\n",
        "for i in range(10):\n",
        "  num_per_class.append(\n",
        "      len(list(filter(lambda x:x[1]==i, testset)))\n",
        "  )\n",
        "print(num_per_class)\n",
        "\n",
        "\n",
        "\"\"\"\n",
        "There is an excessive amount of data in the testset, \n",
        "but 50000 images are enough to train our model.\n",
        "\"\"\""
      ]
    },
    {
      "cell_type": "code",
      "execution_count": 5,
      "metadata": {
        "colab": {
          "base_uri": "https://localhost:8080/",
          "height": 132
        },
        "id": "tmCzd_oiPe5d",
        "outputId": "472e3cdb-bfcc-4834-cd59-f85fc017668b"
      },
      "outputs": [
        {
          "output_type": "stream",
          "name": "stdout",
          "text": [
            "torch.Size([3, 32, 32])\n"
          ]
        },
        {
          "output_type": "display_data",
          "data": {
            "text/plain": [
              "<Figure size 432x288 with 1 Axes>"
            ],
            "image/png": "[encoded data removed]"
          },
          "metadata": {
            "needs_background": "light"
          }
        },
        {
          "output_type": "stream",
          "name": "stdout",
          "text": [
            "frog  truck truck deer  car   car   bird  horse\n"
          ]
        }
      ],
      "source": [
        "# Exploratory Data Analysis\n",
        "\n",
        "def imshow(img):\n",
        "    img = img / 2 + 0.5     # unnormalize\n",
        "    npimg = img.numpy()\n",
        "    #( M, N, 3): an image with RGB values (0-1 float or 0-255 int)\n",
        "    plt.imshow(np.transpose(npimg, (1, 2, 0)))\n",
        "    plt.show()\n",
        "\n",
        "\n",
        "# get some random training images\n",
        "images, labels = dataset_X[:8], dataset_Y[:8]\n",
        "print(images[0].shape)\n",
        "# show images\n",
        "imshow(torchvision.utils.make_grid(images))\n",
        "# print labels\n",
        "print(' '.join(f'{classes[labels[j]]:5s}' for j in range(8)))\n",
        "\n"
      ]
    },
    {
      "cell_type": "code",
      "execution_count": 6,
      "metadata": {
        "id": "K34GE2_dNZWO"
      },
      "outputs": [],
      "source": [
        "def draw_loss(loss_list, title):\n",
        "  plt.plot(loss_list)\n",
        "  plt.title(title)\n",
        "  plt.xlabel('epoch')\n",
        "  plt.ylabel('loss')\n",
        "  last_x = len(loss_list) - 1\n",
        "  last_y = loss_list[-1]\n",
        "  plt.text(last_x*0.95, last_y*1.1, f'{last_y:.4}')\n"
      ]
    },
    {
      "cell_type": "code",
      "execution_count": 72,
      "metadata": {
        "id": "l5sVv8uLXOm0"
      },
      "outputs": [],
      "source": [
        "# define model (forward propagation)\n",
        "def ConvBNSiLUMaxPool(in_ch, out_ch):\n",
        "  return nn.Sequential(\n",
        "        nn.Conv2d(in_ch, out_ch, 3, 1, 1),\n",
        "        nn.BatchNorm2d(out_ch),\n",
        "        nn.SiLU(),\n",
        "        nn.MaxPool2d(2, 2), # 16\n",
        "      )\n",
        "\n",
        "DEVICE = torch.device('cuda:0')\n",
        "get_model = lambda : nn.Sequential(\n",
        "    ConvBNSiLUMaxPool(3, 64), # 16\n",
        "    ConvBNSiLUMaxPool(64, 128), # 8\n",
        "    ConvBNSiLUMaxPool(128, 256), # 4\n",
        "    ConvBNSiLUMaxPool(256, 512), # 2\n",
        "    nn.Conv2d(512, 1024, 2, stride=2, padding=0), # 1\n",
        "    nn.SiLU(),\n",
        "    nn.Flatten(),\n",
        "    nn.Linear(1024, 10), # 10 classes\n",
        "    nn.Sigmoid()\n",
        ")\n",
        "model = get_model()"
      ]
    },
    {
      "cell_type": "code",
      "execution_count": 73,
      "metadata": {
        "colab": {
          "base_uri": "https://localhost:8080/"
        },
        "id": "wPf40AQliFiW",
        "outputId": "f970f661-b41d-4be3-dc00-0e07e31d3c1b"
      },
      "outputs": [
        {
          "output_type": "execute_result",
          "data": {
            "text/plain": [
              "Sequential(\n",
              "  (0): Sequential(\n",
              "    (0): Conv2d(3, 64, kernel_size=(3, 3), stride=(1, 1), padding=(1, 1))\n",
              "    (1): BatchNorm2d(64, eps=1e-05, momentum=0.1, affine=True, track_running_stats=True)\n",
              "    (2): SiLU()\n",
              "    (3): MaxPool2d(kernel_size=2, stride=2, padding=0, dilation=1, ceil_mode=False)\n",
              "  )\n",
              "  (1): Sequential(\n",
              "    (0): Conv2d(64, 128, kernel_size=(3, 3), stride=(1, 1), padding=(1, 1))\n",
              "    (1): BatchNorm2d(128, eps=1e-05, momentum=0.1, affine=True, track_running_stats=True)\n",
              "    (2): SiLU()\n",
              "    (3): MaxPool2d(kernel_size=2, stride=2, padding=0, dilation=1, ceil_mode=False)\n",
              "  )\n",
              "  (2): Sequential(\n",
              "    (0): Conv2d(128, 256, kernel_size=(3, 3), stride=(1, 1), padding=(1, 1))\n",
              "    (1): BatchNorm2d(256, eps=1e-05, momentum=0.1, affine=True, track_running_stats=True)\n",
              "    (2): SiLU()\n",
              "    (3): MaxPool2d(kernel_size=2, stride=2, padding=0, dilation=1, ceil_mode=False)\n",
              "  )\n",
              "  (3): Sequential(\n",
              "    (0): Conv2d(256, 512, kernel_size=(3, 3), stride=(1, 1), padding=(1, 1))\n",
              "    (1): BatchNorm2d(512, eps=1e-05, momentum=0.1, affine=True, track_running_stats=True)\n",
              "    (2): SiLU()\n",
              "    (3): MaxPool2d(kernel_size=2, stride=2, padding=0, dilation=1, ceil_mode=False)\n",
              "  )\n",
              "  (4): Conv2d(512, 1024, kernel_size=(2, 2), stride=(2, 2))\n",
              "  (5): SiLU()\n",
              "  (6): Flatten(start_dim=1, end_dim=-1)\n",
              "  (7): Linear(in_features=1024, out_features=10, bias=True)\n",
              "  (8): Sigmoid()\n",
              ")"
            ]
          },
          "metadata": {},
          "execution_count": 73
        }
      ],
      "source": [
        "model"
      ]
    },
    {
      "cell_type": "code",
      "execution_count": 76,
      "metadata": {
        "colab": {
          "base_uri": "https://localhost:8080/"
        },
        "id": "AA3r9YUEhzy1",
        "outputId": "14079ee8-f6d6-4494-bb35-5624e7c43856"
      },
      "outputs": [
        {
          "output_type": "stream",
          "name": "stdout",
          "text": [
            "----------------------------------------------------------------\n",
            "        Layer (type)               Output Shape         Param #\n",
            "================================================================\n",
            "            Conv2d-1           [-1, 64, 32, 32]           1,792\n",
            "       BatchNorm2d-2           [-1, 64, 32, 32]             128\n",
            "              SiLU-3           [-1, 64, 32, 32]               0\n",
            "         MaxPool2d-4           [-1, 64, 16, 16]               0\n",
            "            Conv2d-5          [-1, 128, 16, 16]          73,856\n",
            "       BatchNorm2d-6          [-1, 128, 16, 16]             256\n",
            "              SiLU-7          [-1, 128, 16, 16]               0\n",
            "         MaxPool2d-8            [-1, 128, 8, 8]               0\n",
            "            Conv2d-9            [-1, 256, 8, 8]         295,168\n",
            "      BatchNorm2d-10            [-1, 256, 8, 8]             512\n",
            "             SiLU-11            [-1, 256, 8, 8]               0\n",
            "        MaxPool2d-12            [-1, 256, 4, 4]               0\n",
            "           Conv2d-13            [-1, 512, 4, 4]       1,180,160\n",
            "      BatchNorm2d-14            [-1, 512, 4, 4]           1,024\n",
            "             SiLU-15            [-1, 512, 4, 4]               0\n",
            "        MaxPool2d-16            [-1, 512, 2, 2]               0\n",
            "           Conv2d-17           [-1, 1024, 1, 1]       2,098,176\n",
            "             SiLU-18           [-1, 1024, 1, 1]               0\n",
            "          Flatten-19                 [-1, 1024]               0\n",
            "           Linear-20                   [-1, 10]          10,250\n",
            "          Sigmoid-21                   [-1, 10]               0\n",
            "================================================================\n",
            "Total params: 3,661,322\n",
            "Trainable params: 3,661,322\n",
            "Non-trainable params: 0\n",
            "----------------------------------------------------------------\n",
            "Input size (MB): 0.01\n",
            "Forward/backward pass size (MB): 3.07\n",
            "Params size (MB): 13.97\n",
            "Estimated Total Size (MB): 17.05\n",
            "----------------------------------------------------------------\n"
          ]
        }
      ],
      "source": [
        "summary(model.to(DEVICE), (3, 32, 32))"
      ]
    },
    {
      "cell_type": "code",
      "execution_count": 112,
      "metadata": {
        "id": "e6nDYXTCiPht"
      },
      "outputs": [],
      "source": [
        "# define some useful functions\n",
        "\n",
        "@torch.no_grad()\n",
        "def val_acc(m, loss_fn, valloader):\n",
        "  total_num = 0\n",
        "  correct_num = 0\n",
        "  loss_list = []\n",
        "  m = m.eval()\n",
        "  for x, y in valloader:\n",
        "    x = x.to(DEVICE)\n",
        "    y = y.to(DEVICE)\n",
        "    y_pred = m(x)\n",
        "    \n",
        "    loss = loss_fn(y_pred, y)\n",
        "    loss_list.append(loss.item())\n",
        "\n",
        "    y_pred = torch.argmax(y_pred, dim=1)\n",
        "    correct_num += torch.sum( (y_pred == y)*1 ).item()\n",
        "    total_num += len(y)\n",
        "\n",
        "  return correct_num / total_num, sum(loss_list) / len(loss_list)\n",
        "\n",
        "def train(epoch, m, loss_fn, optimizer, trainloader, valloader=None):\n",
        "  pbar = tqdm(range(epoch))\n",
        "  loss_list = []\n",
        "  val_acc_list = []\n",
        "  val_acc_v = 0.\n",
        "  val_loss = 0.\n",
        "  best_model = copy.deepcopy(m.state_dict())\n",
        "  best_val_acc = 0.\n",
        "  best_epoch = 200\n",
        "  total_time = 0.\n",
        "  for i in pbar:\n",
        "    sub_loss_list = []\n",
        "\n",
        "    m = m.train()\n",
        "    start = time.time()\n",
        "    for x, y in trainloader:\n",
        "      x = x.to(DEVICE)\n",
        "      y = y.to(DEVICE)\n",
        "      y_pred = m(x)\n",
        "\n",
        "      optimizer.zero_grad()\n",
        "      loss = loss_fn(y_pred, y)\n",
        "      loss_num = loss.item()\n",
        "      sub_loss_list.append(loss_num)\n",
        "      pbar.set_description(f'val_acc={val_acc_v:.4} val_loss={val_loss:.4} loss={loss_num:.4}') \n",
        "\n",
        "      loss.backward()\n",
        "      optimizer.step()\n",
        "\n",
        "    end = time.time()\n",
        "    \n",
        "    total_time =+ (end - start)\n",
        "    epoch_loss = sum(sub_loss_list) / len(sub_loss_list)\n",
        "    loss_list.append(epoch_loss)\n",
        "\n",
        "    if valloader is not None:\n",
        "      del x; del y # free some GPU memory\n",
        "      val_acc_v, val_loss = val_acc(m, loss_fn, valloader)\n",
        "      pbar.set_description(f'val_acc={val_acc_v:.4} val_loss={val_loss:.4} loss={loss_num:.4}') \n",
        "      val_acc_list.append(val_acc_v)\n",
        "      if (i > best_epoch) and (val_acc_v > best_val_acc):\n",
        "        best_epoch = i\n",
        "        best_val_acc = val_acc_v\n",
        "        best_model = copy.deepcopy(m.state_dict())\n",
        "\n",
        "  print(f'train finished in {total_time}s. Best model at epoch={best_epoch} with val_loss={best_val_acc}')\n",
        "  m.load_state_dict(best_model)\n",
        "  return loss_list, val_acc_list"
      ]
    },
    {
      "cell_type": "code",
      "execution_count": 102,
      "metadata": {
        "id": "QNKB68BhiPsM"
      },
      "outputs": [],
      "source": [
        "trainloader = DataLoader(trainset, batch_size=3000, shuffle=True)\n",
        "testloader = DataLoader(testset, batch_size=3500, shuffle=False)"
      ]
    },
    {
      "cell_type": "code",
      "execution_count": 103,
      "metadata": {
        "id": "4Bk2NWoba967"
      },
      "outputs": [],
      "source": [
        "import gc\n",
        "gc.collect()\n",
        "torch.cuda.empty_cache()"
      ]
    },
    {
      "cell_type": "code",
      "execution_count": 104,
      "metadata": {
        "colab": {
          "base_uri": "https://localhost:8080/"
        },
        "id": "hVKDMuSMjUh9",
        "outputId": "cfcffa67-a600-4a3a-9502-0630e249d5aa"
      },
      "outputs": [
        {
          "output_type": "stream",
          "name": "stderr",
          "text": [
            "val_acc=0.7144 loss=1.581: 100%|██████████| 300/300 [54:55<00:00, 10.99s/it]"
          ]
        },
        {
          "output_type": "stream",
          "name": "stdout",
          "text": [
            "train finished in 10.450820446014404s. Best model at epoch=288 with val_loss=0.7531\n"
          ]
        },
        {
          "output_type": "stream",
          "name": "stderr",
          "text": [
            "\n"
          ]
        }
      ],
      "source": [
        "model = get_model().to(DEVICE)\n",
        "optimizer = optim.Adam(model.parameters(), lr=0.01, betas=(0.9,0.9), eps=1e-8, weight_decay=0.001)\n",
        "loss_fn = nn.CrossEntropyLoss()\n",
        "loss_list, val_acc_list = train(300, model, loss_fn, optimizer, trainloader, testloader)"
      ]
    },
    {
      "cell_type": "code",
      "source": [
        "plt.plot(loss_list, label=\"train loss\")\n",
        "plt.xlabel(\"epoch\")\n",
        "plt.ylabel(\"loss\")\n",
        "plt.legend()"
      ],
      "metadata": {
        "colab": {
          "base_uri": "https://localhost:8080/",
          "height": 297
        },
        "id": "ds3fuhLoSPsD",
        "outputId": "0ec13f1f-aae6-4bd2-c95e-1decf1aec9f5"
      },
      "execution_count": 106,
      "outputs": [
        {
          "output_type": "execute_result",
          "data": {
            "text/plain": [
              "<matplotlib.legend.Legend at 0x7f326bf5c050>"
            ]
          },
          "metadata": {},
          "execution_count": 106
        },
        {
          "output_type": "display_data",
          "data": {
            "text/plain": [
              "<Figure size 432x288 with 1 Axes>"
            ],
            "image/png": "[encoded data removed]"
          },
          "metadata": {
            "needs_background": "light"
          }
        }
      ]
    },
    {
      "cell_type": "code",
      "source": [
        "!wget https://raw.githubusercontent.com/pytorch/hub/master/imagenet_classes.txt"
      ],
      "metadata": {
        "colab": {
          "base_uri": "https://localhost:8080/"
        },
        "id": "FVKkUqfiqL6K",
        "outputId": "1d337dd5-84ae-4d06-9747-c8962c87d9c1"
      },
      "execution_count": 30,
      "outputs": [
        {
          "output_type": "stream",
          "name": "stdout",
          "text": [
            "--2022-11-05 21:18:27--  https://raw.githubusercontent.com/pytorch/hub/master/imagenet_classes.txt\n",
            "Resolving raw.githubusercontent.com (raw.githubusercontent.com)... 185.199.108.133, 185.199.109.133, 185.199.110.133, ...\n",
            "Connecting to raw.githubusercontent.com (raw.githubusercontent.com)|185.199.108.133|:443... connected.\n",
            "HTTP request sent, awaiting response... 200 OK\n",
            "Length: 10472 (10K) [text/plain]\n",
            "Saving to: ‘imagenet_classes.txt’\n",
            "\n",
            "\rimagenet_classes.tx   0%[                    ]       0  --.-KB/s               \rimagenet_classes.tx 100%[===================>]  10.23K  --.-KB/s    in 0s      \n",
            "\n",
            "2022-11-05 21:18:27 (77.9 MB/s) - ‘imagenet_classes.txt’ saved [10472/10472]\n",
            "\n"
          ]
        }
      ]
    },
    {
      "cell_type": "code",
      "execution_count": 66,
      "metadata": {
        "id": "XzCIFfnjBGX4"
      },
      "outputs": [],
      "source": [
        "from torchvision.models import resnet18, ResNet18_Weights\n",
        "\n",
        "# https://pytorch.org/vision/main/models.html#initializing-pre-trained-models\n",
        "# New weights with accuracy 80.858%\n",
        "\n",
        "# tranfer learning\n",
        "resnet = resnet18(weights=ResNet18_Weights.DEFAULT)\n",
        "resnet.fc = nn.Linear(512, 10)\n",
        "resnet = resnet.to(DEVICE)\n"
      ]
    },
    {
      "cell_type": "code",
      "source": [
        "resnet = resnet.to('cpu')"
      ],
      "metadata": {
        "id": "Mb8NXg-lEpFp"
      },
      "execution_count": 98,
      "outputs": []
    },
    {
      "cell_type": "code",
      "source": [
        "optimizer2 = optim.Adam(resnet.parameters(), lr=0.01, betas=(0.9,0.9), eps=1e-8, weight_decay=0.001)\n",
        "# optimizer2 = optim.SGD(resnet.parameters(), lr=0.02, momentum=0.9, weight_decay=0.001)\n",
        "loss_fn2 = nn.CrossEntropyLoss()\n",
        "loss_list2, val_acc_list2 = train(300, resnet, loss_fn2, optimizer2, trainloader, testloader)\n"
      ],
      "metadata": {
        "colab": {
          "base_uri": "https://localhost:8080/"
        },
        "id": "7bwMpSg8is2i",
        "outputId": "3ae66d37-e231-48cb-867a-c3669b1f39bb"
      },
      "execution_count": 67,
      "outputs": [
        {
          "output_type": "stream",
          "name": "stderr",
          "text": [
            "val_acc=0.7361 loss=0.229: 100%|██████████| 300/300 [36:08<00:00,  7.23s/it]"
          ]
        },
        {
          "output_type": "stream",
          "name": "stdout",
          "text": [
            "train finished in 6.735654830932617s. Best model at epoch=210 with val_loss=0.7175\n"
          ]
        },
        {
          "output_type": "stream",
          "name": "stderr",
          "text": [
            "\n"
          ]
        }
      ]
    },
    {
      "cell_type": "code",
      "source": [
        "plt.plot(loss_list2, label=\"train loss\")\n",
        "plt.xlabel(\"epoch\")\n",
        "plt.ylabel(\"loss\")\n",
        "plt.legend()"
      ],
      "metadata": {
        "colab": {
          "base_uri": "https://localhost:8080/",
          "height": 297
        },
        "id": "SgbKnjDWxGzD",
        "outputId": "f33aef02-1535-4a17-c5aa-247f8def9e69"
      },
      "execution_count": 81,
      "outputs": [
        {
          "output_type": "execute_result",
          "data": {
            "text/plain": [
              "<matplotlib.legend.Legend at 0x7f325ea31510>"
            ]
          },
          "metadata": {},
          "execution_count": 81
        },
        {
          "output_type": "display_data",
          "data": {
            "text/plain": [
              "<Figure size 432x288 with 1 Axes>"
            ],
            "image/png": "[encoded data removed]"
          },
          "metadata": {
            "needs_background": "light"
          }
        }
      ]
    },
    {
      "cell_type": "code",
      "source": [
        "summary(resnet, (3,32,32))"
      ],
      "metadata": {
        "colab": {
          "base_uri": "https://localhost:8080/"
        },
        "id": "fkZ56vl0giGN",
        "outputId": "83c4e6d1-0b61-4ea0-c6a0-52d56b76603a"
      },
      "execution_count": 60,
      "outputs": [
        {
          "output_type": "stream",
          "name": "stdout",
          "text": [
            "----------------------------------------------------------------\n",
            "        Layer (type)               Output Shape         Param #\n",
            "================================================================\n",
            "            Conv2d-1           [-1, 64, 16, 16]           9,408\n",
            "       BatchNorm2d-2           [-1, 64, 16, 16]             128\n",
            "              ReLU-3           [-1, 64, 16, 16]               0\n",
            "         MaxPool2d-4             [-1, 64, 8, 8]               0\n",
            "            Conv2d-5             [-1, 64, 8, 8]          36,864\n",
            "       BatchNorm2d-6             [-1, 64, 8, 8]             128\n",
            "              ReLU-7             [-1, 64, 8, 8]               0\n",
            "            Conv2d-8             [-1, 64, 8, 8]          36,864\n",
            "       BatchNorm2d-9             [-1, 64, 8, 8]             128\n",
            "             ReLU-10             [-1, 64, 8, 8]               0\n",
            "       BasicBlock-11             [-1, 64, 8, 8]               0\n",
            "           Conv2d-12             [-1, 64, 8, 8]          36,864\n",
            "      BatchNorm2d-13             [-1, 64, 8, 8]             128\n",
            "             ReLU-14             [-1, 64, 8, 8]               0\n",
            "           Conv2d-15             [-1, 64, 8, 8]          36,864\n",
            "      BatchNorm2d-16             [-1, 64, 8, 8]             128\n",
            "             ReLU-17             [-1, 64, 8, 8]               0\n",
            "       BasicBlock-18             [-1, 64, 8, 8]               0\n",
            "           Conv2d-19            [-1, 128, 4, 4]          73,728\n",
            "      BatchNorm2d-20            [-1, 128, 4, 4]             256\n",
            "             ReLU-21            [-1, 128, 4, 4]               0\n",
            "           Conv2d-22            [-1, 128, 4, 4]         147,456\n",
            "      BatchNorm2d-23            [-1, 128, 4, 4]             256\n",
            "           Conv2d-24            [-1, 128, 4, 4]           8,192\n",
            "      BatchNorm2d-25            [-1, 128, 4, 4]             256\n",
            "             ReLU-26            [-1, 128, 4, 4]               0\n",
            "       BasicBlock-27            [-1, 128, 4, 4]               0\n",
            "           Conv2d-28            [-1, 128, 4, 4]         147,456\n",
            "      BatchNorm2d-29            [-1, 128, 4, 4]             256\n",
            "             ReLU-30            [-1, 128, 4, 4]               0\n",
            "           Conv2d-31            [-1, 128, 4, 4]         147,456\n",
            "      BatchNorm2d-32            [-1, 128, 4, 4]             256\n",
            "             ReLU-33            [-1, 128, 4, 4]               0\n",
            "       BasicBlock-34            [-1, 128, 4, 4]               0\n",
            "           Conv2d-35            [-1, 256, 2, 2]         294,912\n",
            "      BatchNorm2d-36            [-1, 256, 2, 2]             512\n",
            "             ReLU-37            [-1, 256, 2, 2]               0\n",
            "           Conv2d-38            [-1, 256, 2, 2]         589,824\n",
            "      BatchNorm2d-39            [-1, 256, 2, 2]             512\n",
            "           Conv2d-40            [-1, 256, 2, 2]          32,768\n",
            "      BatchNorm2d-41            [-1, 256, 2, 2]             512\n",
            "             ReLU-42            [-1, 256, 2, 2]               0\n",
            "       BasicBlock-43            [-1, 256, 2, 2]               0\n",
            "           Conv2d-44            [-1, 256, 2, 2]         589,824\n",
            "      BatchNorm2d-45            [-1, 256, 2, 2]             512\n",
            "             ReLU-46            [-1, 256, 2, 2]               0\n",
            "           Conv2d-47            [-1, 256, 2, 2]         589,824\n",
            "      BatchNorm2d-48            [-1, 256, 2, 2]             512\n",
            "             ReLU-49            [-1, 256, 2, 2]               0\n",
            "       BasicBlock-50            [-1, 256, 2, 2]               0\n",
            "           Conv2d-51            [-1, 512, 1, 1]       1,179,648\n",
            "      BatchNorm2d-52            [-1, 512, 1, 1]           1,024\n",
            "             ReLU-53            [-1, 512, 1, 1]               0\n",
            "           Conv2d-54            [-1, 512, 1, 1]       2,359,296\n",
            "      BatchNorm2d-55            [-1, 512, 1, 1]           1,024\n",
            "           Conv2d-56            [-1, 512, 1, 1]         131,072\n",
            "      BatchNorm2d-57            [-1, 512, 1, 1]           1,024\n",
            "             ReLU-58            [-1, 512, 1, 1]               0\n",
            "       BasicBlock-59            [-1, 512, 1, 1]               0\n",
            "           Conv2d-60            [-1, 512, 1, 1]       2,359,296\n",
            "      BatchNorm2d-61            [-1, 512, 1, 1]           1,024\n",
            "             ReLU-62            [-1, 512, 1, 1]               0\n",
            "           Conv2d-63            [-1, 512, 1, 1]       2,359,296\n",
            "      BatchNorm2d-64            [-1, 512, 1, 1]           1,024\n",
            "             ReLU-65            [-1, 512, 1, 1]               0\n",
            "       BasicBlock-66            [-1, 512, 1, 1]               0\n",
            "AdaptiveAvgPool2d-67            [-1, 512, 1, 1]               0\n",
            "           Linear-68                   [-1, 10]           5,130\n",
            "================================================================\n",
            "Total params: 11,181,642\n",
            "Trainable params: 11,181,642\n",
            "Non-trainable params: 0\n",
            "----------------------------------------------------------------\n",
            "Input size (MB): 0.01\n",
            "Forward/backward pass size (MB): 1.29\n",
            "Params size (MB): 42.65\n",
            "Estimated Total Size (MB): 43.95\n",
            "----------------------------------------------------------------\n"
          ]
        }
      ]
    },
    {
      "cell_type": "code",
      "source": [
        "transform2 = transforms.Compose([\n",
        "    transforms.RandomResizedCrop(size=(32, 32)),\n",
        "    transforms.RandomVerticalFlip(),\n",
        "    transforms.ToTensor(),\n",
        "    transforms.Normalize((0.5, 0.5, 0.5), (0.5, 0.5, 0.5)),\n",
        "  ])\n",
        "\n",
        "trainset_raw2 = torchvision.datasets.CIFAR10(root='./data', train=True,\n",
        "                     download=True, transform=transform2)\n",
        "\n",
        "testset_raw2 = torchvision.datasets.CIFAR10(root='./data', train=False,\n",
        "                     download=True, transform=transform)\n",
        "\n",
        "\n",
        "classes = ('plane', 'car', 'bird', 'cat',\n",
        "           'deer', 'dog', 'frog', 'horse', 'ship', 'truck')\n",
        "\n"
      ],
      "metadata": {
        "colab": {
          "base_uri": "https://localhost:8080/"
        },
        "id": "zj1XF99e2_9I",
        "outputId": "fc62274e-d923-44e7-9bbf-c00d4b778899"
      },
      "execution_count": 114,
      "outputs": [
        {
          "output_type": "stream",
          "name": "stdout",
          "text": [
            "Files already downloaded and verified\n",
            "Files already downloaded and verified\n"
          ]
        }
      ]
    },
    {
      "cell_type": "code",
      "source": [
        "model = nn.Sequential(\n",
        "    ConvBNSiLUMaxPool(3, 64), # 16\n",
        "    ConvBNSiLUMaxPool(64, 128), # 8\n",
        "    ConvBNSiLUMaxPool(128, 256), # 4\n",
        "    ConvBNSiLUMaxPool(256, 512), # 2\n",
        "    nn.Conv2d(512, 1024, 2, stride=2, padding=0), # 1\n",
        "    nn.SiLU(),\n",
        "    nn.Flatten(),\n",
        "    nn.Linear(1024, 10), # 10 classes\n",
        "    nn.Sigmoid()\n",
        ")\n",
        "model = model.to(DEVICE)"
      ],
      "metadata": {
        "id": "-sQ-gcIf3FN0"
      },
      "execution_count": 115,
      "outputs": []
    },
    {
      "cell_type": "code",
      "source": [
        "trainloader = DataLoader(trainset_raw2, batch_size=3000, shuffle=True, num_workers=2)\n",
        "testloader = DataLoader(testset_raw2, batch_size=3500, shuffle=False, num_workers=2)\n",
        "optimizer = optim.Adam(model.parameters(), lr=0.01, betas=(0.9,0.9), eps=1e-8, weight_decay=0.001)\n",
        "loss_fn = nn.CrossEntropyLoss()\n",
        "\n",
        "loss_list, val_acc_list = train(300, model, loss_fn, optimizer, trainloader, testloader)"
      ],
      "metadata": {
        "colab": {
          "base_uri": "https://localhost:8080/"
        },
        "id": "yjJXtSy03bT0",
        "outputId": "6502b71f-0a4c-49b6-c395-53afcc26cde8"
      },
      "execution_count": null,
      "outputs": [
        {
          "output_type": "stream",
          "name": "stderr",
          "text": [
            "val_acc=0.5244 val_loss=1.831 loss=1.841:  90%|█████████ | 450/500 [2:41:34<17:35, 21.11s/it]"
          ]
        }
      ]
    },
    {
      "cell_type": "markdown",
      "metadata": {
        "id": "ZGbF4HXrjrP6"
      },
      "source": [
        "# OLD"
      ]
    },
    {
      "cell_type": "code",
      "execution_count": null,
      "metadata": {
        "colab": {
          "base_uri": "https://localhost:8080/",
          "height": 313
        },
        "id": "kLLiFzTkPoFQ",
        "outputId": "a4139f93-6da6-41e8-f72a-97849bb708de"
      },
      "outputs": [
        {
          "data": {
            "text/plain": [
              "<matplotlib.legend.Legend at 0x7fa87f71c390>"
            ]
          },
          "execution_count": 122,
          "metadata": {},
          "output_type": "execute_result"
        },
        {
          "data": {
            "image/png": "[encoded data removed]",
            "text/plain": [
              "<Figure size 432x288 with 1 Axes>"
            ]
          },
          "metadata": {},
          "output_type": "display_data"
        }
      ],
      "source": [
        "# compare different algorithm\n",
        "plt.plot(vanilla_loss_list, label='Vanilla')\n",
        "plt.plot(adam_loss_list, label='Adam')\n",
        "plt.plot(rmsprop_loss_list, label='Rmsprop')\n",
        "plt.title('Vanilla v.s. Adam v.s. Rmsprop')\n",
        "plt.xlabel('epoch')\n",
        "plt.ylabel('loss')\n",
        "plt.legend()"
      ]
    },
    {
      "cell_type": "markdown",
      "metadata": {
        "id": "MFAmXzLgXTXI"
      },
      "source": [
        "We used each of Vanilla, Adam, and Rmsprop to train our model for 50 epoches. The Vanilla algorithm reaches an in-sample err of `0.480`; the Adam algorithm achieved an in-sample error of `0.169`; the Rmsprop algorithm had an in-sample error of `0.175`. We should use the advanced optimization algorithm since it gives a boost to our learning speed, and the model will converge faster."
      ]
    },
    {
      "cell_type": "markdown",
      "metadata": {
        "id": "FdkrQ0bMe28h"
      },
      "source": [
        "# TEST"
      ]
    },
    {
      "cell_type": "code",
      "execution_count": null,
      "metadata": {
        "colab": {
          "base_uri": "https://localhost:8080/",
          "height": 350
        },
        "id": "8Fa8VfY8e2LQ",
        "outputId": "b573fedf-833e-4e95-c4b9-066eeaaf6fd4"
      },
      "outputs": [
        {
          "name": "stdout",
          "output_type": "stream",
          "text": [
            "preparing data\n",
            "start training for 500 epoch\n"
          ]
        },
        {
          "name": "stderr",
          "output_type": "stream",
          "text": [
            "loss=0.05902452903341372: 100%|██████████| 500/500 [01:48<00:00,  4.60it/s]\n"
          ]
        },
        {
          "data": {
            "image/png": "[encoded data removed]",
            "text/plain": [
              "<Figure size 432x288 with 1 Axes>"
            ]
          },
          "metadata": {},
          "output_type": "display_data"
        }
      ],
      "source": [
        "# Adam\n",
        "optimizer = Adam(0.001, (0.9, 0.999), 1e-08)\n",
        "adam_loss_list = train(500, W, B, optimizer)\n",
        "draw_loss(adam_loss_list, 'adam_loss')"
      ]
    }
  ],
  "metadata": {
    "accelerator": "GPU",
    "colab": {
      "collapsed_sections": [],
      "provenance": [],
      "authorship_tag": "ABX9TyOrhHom9MF/sPIfO+PG/jt8",
      "include_colab_link": true
    },
    "gpuClass": "standard",
    "kernelspec": {
      "display_name": "Python 3",
      "name": "python3"
    },
    "language_info": {
      "name": "python"
    }
  },
  "nbformat": 4,
  "nbformat_minor": 0
}
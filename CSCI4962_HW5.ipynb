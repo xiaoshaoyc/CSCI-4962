{
  "cells": [
    {
      "cell_type": "markdown",
      "metadata": {
        "id": "view-in-github",
        "colab_type": "text"
      },
      "source": [
        "<a href=\"https://colab.research.google.com/github/xiaoshaoyc/CSCI-4962/blob/main/CSCI4962_HW5.ipynb\" target=\"_parent\"><img src=\"https://colab.research.google.com/assets/colab-badge.svg\" alt=\"Open In Colab\"/></a>"
      ]
    },
    {
      "cell_type": "code",
      "execution_count": null,
      "metadata": {
        "colab": {
          "base_uri": "https://localhost:8080/"
        },
        "id": "lxIK-lXFXDq6",
        "outputId": "3d972b76-10c0-4eee-da2c-0f1c7b2a00c4"
      },
      "outputs": [
        {
          "output_type": "stream",
          "name": "stdout",
          "text": [
            "Sun Nov  6 16:26:39 2022       \n",
            "+-----------------------------------------------------------------------------+\n",
            "| NVIDIA-SMI 460.32.03    Driver Version: 460.32.03    CUDA Version: 11.2     |\n",
            "|-------------------------------+----------------------+----------------------+\n",
            "| GPU  Name        Persistence-M| Bus-Id        Disp.A | Volatile Uncorr. ECC |\n",
            "| Fan  Temp  Perf  Pwr:Usage/Cap|         Memory-Usage | GPU-Util  Compute M. |\n",
            "|                               |                      |               MIG M. |\n",
            "|===============================+======================+======================|\n",
            "|   0  Tesla T4            Off  | 00000000:00:04.0 Off |                    0 |\n",
            "| N/A   55C    P8    11W /  70W |      0MiB / 15109MiB |      0%      Default |\n",
            "|                               |                      |                  N/A |\n",
            "+-------------------------------+----------------------+----------------------+\n",
            "                                                                               \n",
            "+-----------------------------------------------------------------------------+\n",
            "| Processes:                                                                  |\n",
            "|  GPU   GI   CI        PID   Type   Process name                  GPU Memory |\n",
            "|        ID   ID                                                   Usage      |\n",
            "|=============================================================================|\n",
            "|  No running processes found                                                 |\n",
            "+-----------------------------------------------------------------------------+\n"
          ]
        }
      ],
      "source": [
        "# we used GPU to accelerate the training\n",
        "# please make sure the runtime has an available gpu(i.e. 'cuda:0')\n",
        "# if you want to run it.\n",
        "!nvidia-smi"
      ]
    },
    {
      "cell_type": "code",
      "execution_count": null,
      "metadata": {
        "id": "Mg-SqWWgSNRY"
      },
      "outputs": [],
      "source": [
        "# init\n",
        "import math\n",
        "import time\n",
        "import copy\n",
        "import numpy as np\n",
        "from tqdm import tqdm\n",
        "from matplotlib import pyplot as plt\n",
        "\n",
        "import torch\n",
        "import torchvision\n",
        "import torchvision.transforms as transforms\n",
        "from torch.utils.data import DataLoader\n",
        "from torch.utils.data import random_split, ConcatDataset\n",
        "from torch.utils.data import TensorDataset\n",
        "import torch.optim as optim\n",
        "from torch import nn\n",
        "from torchsummary import summary"
      ]
    },
    {
      "cell_type": "markdown",
      "metadata": {
        "id": "nqzP7yWTUSf7"
      },
      "source": [
        "# Part1\n",
        "I used the CIFAR-10 dataset. The CIFAR-10 dataset contains 60000 images with a resolution of 3x32x32(RGB·W·H) in 10 classes. The dataset is balanced, with 6000 images per class. In addition, this dataset is a clean datatset. As mentioned in previous homework, the EDA we can do for graphic input is limited since every pixel is independent. The CIFAR-10 dataset contains clean data, meaning there is no missing dat. \n"
      ]
    },
    {
      "cell_type": "code",
      "execution_count": null,
      "metadata": {
        "colab": {
          "base_uri": "https://localhost:8080/",
          "height": 104,
          "referenced_widgets": [
            "332554c3b9854981b10fbac6855e40bd",
            "c42341ac02c74f54b239fb90bb690a6c",
            "1216f16331d24821a2f7f24adbb1402f",
            "e554e5975f7f48008717e19f8f07d6f4",
            "f070d1fd68fb4546bdbc31effb49b92b",
            "6cf173d39a414913aeed8f8d6e28e99f",
            "0045844d56604d238713445a2c9d0ffa",
            "f269e107408041ff9f6d4970cef2aa30",
            "dc8e271e2d164639a4b898783dc86204",
            "1d042526027b4d868fb8290c8667a3dc",
            "9046035fa5044bb88abf59b990a8eba6"
          ]
        },
        "id": "nMjW7fKpVCUG",
        "outputId": "6d326ff1-1011-4f6a-f3d3-7d689837b866"
      },
      "outputs": [
        {
          "output_type": "stream",
          "name": "stdout",
          "text": [
            "Downloading https://www.cs.toronto.edu/~kriz/cifar-10-python.tar.gz to ./data/cifar-10-python.tar.gz\n"
          ]
        },
        {
          "output_type": "display_data",
          "data": {
            "text/plain": [
              "  0%|          | 0/170498071 [00:00<?, ?it/s]"
            ],
            "application/vnd.jupyter.widget-view+json": {
              "version_major": 2,
              "version_minor": 0,
              "model_id": "332554c3b9854981b10fbac6855e40bd"
            }
          },
          "metadata": {}
        },
        {
          "output_type": "stream",
          "name": "stdout",
          "text": [
            "Extracting ./data/cifar-10-python.tar.gz to ./data\n",
            "Files already downloaded and verified\n"
          ]
        }
      ],
      "source": [
        "def transform1(x):\n",
        "  # transformation for raw image data\n",
        "  return torch.tensor(np.array(x).reshape(-1) / 255)\n",
        "\n",
        "def y_trans(y):\n",
        "  # transformation for label\n",
        "  return (y == 1) * 1.0\n",
        "\n",
        "transform = transforms.Compose(\n",
        "    [transforms.ToTensor(),\n",
        "     transforms.Normalize((0.5, 0.5, 0.5), (0.5, 0.5, 0.5)), # normalize\n",
        "     ])\n",
        "\n",
        "# Here, we store all the data in memory to accelerate training\n",
        "class Mem_dataset(torch.utils.data.Dataset):\n",
        "  def __init__(self, dataset) -> None:\n",
        "    super().__init__()\n",
        "    self.cache = {}\n",
        "    self.dataset = dataset\n",
        "\n",
        "  def __getitem__(self, index):\n",
        "    if index in self.cache:\n",
        "      return self.cache[index]\n",
        "    else:\n",
        "      item = self.dataset[index]\n",
        "      self.cache[index] = item\n",
        "      return item\n",
        "\n",
        "  def __len__(self):\n",
        "    return len(self.dataset) \n",
        "\n",
        "trainset_raw = torchvision.datasets.CIFAR10(root='./data', train=True,\n",
        "                     download=True, transform=transform)\n",
        "\n",
        "testset_raw = torchvision.datasets.CIFAR10(root='./data', train=False,\n",
        "                     download=True, transform=transform)\n",
        "\n",
        "# load everything to memory for speed\n",
        "trainset = Mem_dataset(trainset_raw)\n",
        "testset = Mem_dataset(testset_raw)\n",
        "\n",
        "\n",
        "classes = ('plane', 'car', 'bird', 'cat',\n",
        "           'deer', 'dog', 'frog', 'horse', 'ship', 'truck')\n",
        "\n"
      ]
    },
    {
      "cell_type": "code",
      "execution_count": null,
      "metadata": {
        "colab": {
          "base_uri": "https://localhost:8080/",
          "height": 235
        },
        "id": "Mk06vK1ASwGz",
        "outputId": "178469a4-a1ee-4e75-b1d1-9bc2b040fe7e"
      },
      "outputs": [
        {
          "output_type": "stream",
          "name": "stdout",
          "text": [
            "all data\n",
            "torch.Size([60000, 3, 32, 32])\n",
            "[6000, 6000, 6000, 6000, 6000, 6000, 6000, 6000, 6000, 6000]\n",
            "\n",
            "trainset\n",
            "len(trainset) = 50000\n",
            "[5000, 5000, 5000, 5000, 5000, 5000, 5000, 5000, 5000, 5000]\n",
            "\n",
            "testset\n",
            "len(testset) = 10000\n",
            "[1000, 1000, 1000, 1000, 1000, 1000, 1000, 1000, 1000, 1000]\n"
          ]
        },
        {
          "output_type": "execute_result",
          "data": {
            "text/plain": [
              "'\\nThere is an excessive amount of data in the testset, \\nbut 50000 images are enough to train our model.\\n'"
            ],
            "application/vnd.google.colaboratory.intrinsic+json": {
              "type": "string"
            }
          },
          "metadata": {},
          "execution_count": 4
        }
      ],
      "source": [
        "# Exploratory Data Analysis\n",
        "dataset_X, dataset_Y = zip( *(list(trainset) + list(testset)) )\n",
        "dataset_X = torch.stack(dataset_X)\n",
        "dataset_Y = torch.tensor(list(dataset_Y))\n",
        "print('all data')\n",
        "print(dataset_X.shape)\n",
        "\n",
        "num_per_class = []\n",
        "for i in range(10):\n",
        "  num_per_class.append(\n",
        "      len(list(filter(lambda x:x==i, dataset_Y)))\n",
        "  )\n",
        "\n",
        "print(num_per_class)\n",
        "\n",
        "print()\n",
        "print('trainset')\n",
        "print(f'len(trainset) = {len(trainset)}')\n",
        "\n",
        "num_per_class = []\n",
        "for i in range(10):\n",
        "  num_per_class.append(\n",
        "      len(list(filter(lambda x:x[1]==i, trainset)))\n",
        "  )\n",
        "print(num_per_class)\n",
        "\n",
        "print()\n",
        "print('testset')\n",
        "print(f'len(testset) = {len(testset)}')\n",
        "\n",
        "num_per_class = []\n",
        "for i in range(10):\n",
        "  num_per_class.append(\n",
        "      len(list(filter(lambda x:x[1]==i, testset)))\n",
        "  )\n",
        "print(num_per_class)\n",
        "\n",
        "\n",
        "\"\"\"\n",
        "There is an excessive amount of data in the testset, \n",
        "but 50000 images are enough to train our model.\n",
        "\"\"\""
      ]
    },
    {
      "cell_type": "code",
      "execution_count": null,
      "metadata": {
        "colab": {
          "base_uri": "https://localhost:8080/",
          "height": 131
        },
        "id": "tmCzd_oiPe5d",
        "outputId": "d05727db-b58a-4477-df1a-c1949d58bf4b"
      },
      "outputs": [
        {
          "output_type": "stream",
          "name": "stdout",
          "text": [
            "torch.Size([3, 32, 32])\n"
          ]
        },
        {
          "output_type": "display_data",
          "data": {
            "text/plain": [
              "<Figure size 432x288 with 1 Axes>"
            ],
            "image/png": "[encoded data removed]"
          },
          "metadata": {
            "needs_background": "light"
          }
        },
        {
          "output_type": "stream",
          "name": "stdout",
          "text": [
            "frog  truck truck deer  car   car   bird  horse\n"
          ]
        }
      ],
      "source": [
        "# Exploratory Data Analysis\n",
        "\n",
        "def imshow(img):\n",
        "    img = img / 2 + 0.5     # unnormalize\n",
        "    npimg = img.numpy()\n",
        "    #( M, N, 3): an image with RGB values (0-1 float or 0-255 int)\n",
        "    plt.imshow(np.transpose(npimg, (1, 2, 0)))\n",
        "    plt.show()\n",
        "\n",
        "\n",
        "# get some random training images\n",
        "images, labels = dataset_X[:8], dataset_Y[:8]\n",
        "print(images[0].shape)\n",
        "# show images\n",
        "imshow(torchvision.utils.make_grid(images))\n",
        "# print labels\n",
        "print(' '.join(f'{classes[labels[j]]:5s}' for j in range(8)))\n",
        "\n"
      ]
    },
    {
      "cell_type": "code",
      "execution_count": null,
      "metadata": {
        "id": "K34GE2_dNZWO"
      },
      "outputs": [],
      "source": [
        "def draw_loss(loss_list, title):\n",
        "  plt.plot(loss_list)\n",
        "  plt.title(title)\n",
        "  plt.xlabel('epoch')\n",
        "  plt.ylabel('loss')\n",
        "  last_x = len(loss_list) - 1\n",
        "  last_y = loss_list[-1]\n",
        "  plt.text(last_x*0.95, last_y*1.1, f'{last_y:.4}')\n"
      ]
    },
    {
      "cell_type": "markdown",
      "source": [
        "### model architecture\n",
        "\n",
        "Our model has 5 conv layers and 4 max pooling layers. I added Batch Norm layers\n",
        "after convolutional layers to reduce covariate shift, and chose `SiLu()` as my activation function to alleviate the vanishing gradient problem. After extracting the feature map to size(1,1), we use a fully connected layer to get the final classcification from our features.\n",
        "\n",
        "Since our input images are very small, we adopted a small kernel (3x3) to collect as many patterns as possible with reducing training parameters as a side benefit. We utilized max pooling layers to make our feature maps more robust and promote our feature maps to a more abstract level.\n"
      ],
      "metadata": {
        "id": "8UhjDW5Cpqk7"
      }
    },
    {
      "cell_type": "code",
      "execution_count": null,
      "metadata": {
        "id": "l5sVv8uLXOm0"
      },
      "outputs": [],
      "source": [
        "# define model (forward propagation)\n",
        "def ConvBNSiLUMaxPool(in_ch, out_ch):\n",
        "  return nn.Sequential(\n",
        "        nn.Conv2d(in_ch, out_ch, 3, 1, 1),\n",
        "        nn.BatchNorm2d(out_ch),\n",
        "        nn.SiLU(),\n",
        "        nn.MaxPool2d(2, 2), # 16\n",
        "      )\n",
        "\n",
        "DEVICE = torch.device('cuda:0')\n",
        "get_model = lambda : nn.Sequential(\n",
        "    ConvBNSiLUMaxPool(3, 64), # 16\n",
        "    ConvBNSiLUMaxPool(64, 128), # 8\n",
        "    ConvBNSiLUMaxPool(128, 256), # 4\n",
        "    ConvBNSiLUMaxPool(256, 512), # 2\n",
        "    nn.Conv2d(512, 1024, 2, stride=2, padding=0), # 1\n",
        "    nn.SiLU(),\n",
        "    nn.Flatten(),\n",
        "    nn.Linear(1024, 10), # 10 classes\n",
        "    nn.Sigmoid()\n",
        ")\n",
        "model = get_model()"
      ]
    },
    {
      "cell_type": "code",
      "execution_count": null,
      "metadata": {
        "colab": {
          "base_uri": "https://localhost:8080/"
        },
        "id": "wPf40AQliFiW",
        "outputId": "efa92240-b8f0-4b86-c26a-e589f6e79985"
      },
      "outputs": [
        {
          "output_type": "execute_result",
          "data": {
            "text/plain": [
              "Sequential(\n",
              "  (0): Sequential(\n",
              "    (0): Conv2d(3, 64, kernel_size=(3, 3), stride=(1, 1), padding=(1, 1))\n",
              "    (1): BatchNorm2d(64, eps=1e-05, momentum=0.1, affine=True, track_running_stats=True)\n",
              "    (2): SiLU()\n",
              "    (3): MaxPool2d(kernel_size=2, stride=2, padding=0, dilation=1, ceil_mode=False)\n",
              "  )\n",
              "  (1): Sequential(\n",
              "    (0): Conv2d(64, 128, kernel_size=(3, 3), stride=(1, 1), padding=(1, 1))\n",
              "    (1): BatchNorm2d(128, eps=1e-05, momentum=0.1, affine=True, track_running_stats=True)\n",
              "    (2): SiLU()\n",
              "    (3): MaxPool2d(kernel_size=2, stride=2, padding=0, dilation=1, ceil_mode=False)\n",
              "  )\n",
              "  (2): Sequential(\n",
              "    (0): Conv2d(128, 256, kernel_size=(3, 3), stride=(1, 1), padding=(1, 1))\n",
              "    (1): BatchNorm2d(256, eps=1e-05, momentum=0.1, affine=True, track_running_stats=True)\n",
              "    (2): SiLU()\n",
              "    (3): MaxPool2d(kernel_size=2, stride=2, padding=0, dilation=1, ceil_mode=False)\n",
              "  )\n",
              "  (3): Sequential(\n",
              "    (0): Conv2d(256, 512, kernel_size=(3, 3), stride=(1, 1), padding=(1, 1))\n",
              "    (1): BatchNorm2d(512, eps=1e-05, momentum=0.1, affine=True, track_running_stats=True)\n",
              "    (2): SiLU()\n",
              "    (3): MaxPool2d(kernel_size=2, stride=2, padding=0, dilation=1, ceil_mode=False)\n",
              "  )\n",
              "  (4): Conv2d(512, 1024, kernel_size=(2, 2), stride=(2, 2))\n",
              "  (5): SiLU()\n",
              "  (6): Flatten(start_dim=1, end_dim=-1)\n",
              "  (7): Linear(in_features=1024, out_features=10, bias=True)\n",
              "  (8): Sigmoid()\n",
              ")"
            ]
          },
          "metadata": {},
          "execution_count": 8
        }
      ],
      "source": [
        "model"
      ]
    },
    {
      "cell_type": "code",
      "execution_count": null,
      "metadata": {
        "colab": {
          "base_uri": "https://localhost:8080/"
        },
        "id": "AA3r9YUEhzy1",
        "outputId": "324222a9-8ea2-4b08-9f58-9428cf984e8d"
      },
      "outputs": [
        {
          "output_type": "stream",
          "name": "stdout",
          "text": [
            "----------------------------------------------------------------\n",
            "        Layer (type)               Output Shape         Param #\n",
            "================================================================\n",
            "            Conv2d-1           [-1, 64, 32, 32]           1,792\n",
            "       BatchNorm2d-2           [-1, 64, 32, 32]             128\n",
            "              SiLU-3           [-1, 64, 32, 32]               0\n",
            "         MaxPool2d-4           [-1, 64, 16, 16]               0\n",
            "            Conv2d-5          [-1, 128, 16, 16]          73,856\n",
            "       BatchNorm2d-6          [-1, 128, 16, 16]             256\n",
            "              SiLU-7          [-1, 128, 16, 16]               0\n",
            "         MaxPool2d-8            [-1, 128, 8, 8]               0\n",
            "            Conv2d-9            [-1, 256, 8, 8]         295,168\n",
            "      BatchNorm2d-10            [-1, 256, 8, 8]             512\n",
            "             SiLU-11            [-1, 256, 8, 8]               0\n",
            "        MaxPool2d-12            [-1, 256, 4, 4]               0\n",
            "           Conv2d-13            [-1, 512, 4, 4]       1,180,160\n",
            "      BatchNorm2d-14            [-1, 512, 4, 4]           1,024\n",
            "             SiLU-15            [-1, 512, 4, 4]               0\n",
            "        MaxPool2d-16            [-1, 512, 2, 2]               0\n",
            "           Conv2d-17           [-1, 1024, 1, 1]       2,098,176\n",
            "             SiLU-18           [-1, 1024, 1, 1]               0\n",
            "          Flatten-19                 [-1, 1024]               0\n",
            "           Linear-20                   [-1, 10]          10,250\n",
            "          Sigmoid-21                   [-1, 10]               0\n",
            "================================================================\n",
            "Total params: 3,661,322\n",
            "Trainable params: 3,661,322\n",
            "Non-trainable params: 0\n",
            "----------------------------------------------------------------\n",
            "Input size (MB): 0.01\n",
            "Forward/backward pass size (MB): 3.07\n",
            "Params size (MB): 13.97\n",
            "Estimated Total Size (MB): 17.05\n",
            "----------------------------------------------------------------\n"
          ]
        }
      ],
      "source": [
        "summary(model.to(DEVICE), (3, 32, 32))"
      ]
    },
    {
      "cell_type": "markdown",
      "source": [
        "We used `CrossEntropyLoss` as our loss function and accuracy as our metric to evaluate the performance of the model. Accuracy is calculated as \n",
        "\n",
        "$$ \n",
        "acc = \\frac{\\text{correct classified images}}{\\text{total number of images}}\n",
        "$$"
      ],
      "metadata": {
        "id": "buXybynevOfi"
      }
    },
    {
      "cell_type": "code",
      "execution_count": null,
      "metadata": {
        "id": "e6nDYXTCiPht"
      },
      "outputs": [],
      "source": [
        "# define some useful functions\n",
        "\n",
        "@torch.no_grad()\n",
        "def val_acc(m, loss_fn, valloader):\n",
        "  total_num = 0\n",
        "  correct_num = 0\n",
        "  loss_list = []\n",
        "  m = m.eval()\n",
        "  for x, y in valloader:\n",
        "    x = x.to(DEVICE)\n",
        "    y = y.to(DEVICE)\n",
        "    y_pred = m(x)\n",
        "    \n",
        "    loss = loss_fn(y_pred, y)\n",
        "    loss_list.append(loss.item())\n",
        "\n",
        "    y_pred = torch.argmax(y_pred, dim=1)\n",
        "    correct_num += torch.sum( (y_pred == y)*1 ).item()\n",
        "    total_num += len(y)\n",
        "\n",
        "  return correct_num / total_num, sum(loss_list) / len(loss_list)\n",
        "\n",
        "def train(epoch, m, loss_fn, optimizer, trainloader, valloader=None, best_epoch_start=200):\n",
        "  pbar = tqdm(range(epoch))\n",
        "  loss_list = []\n",
        "  val_acc_list = []\n",
        "  val_acc_v = 0.\n",
        "  val_loss = 0.\n",
        "  best_model = copy.deepcopy(m.state_dict())\n",
        "  best_val_acc = 0.\n",
        "  best_epoch = best_epoch_start\n",
        "  total_time = 0.\n",
        "  for i in pbar:\n",
        "    sub_loss_list = []\n",
        "\n",
        "    m = m.train()\n",
        "    start = time.time()\n",
        "    for x, y in trainloader:\n",
        "      x = x.to(DEVICE)\n",
        "      y = y.to(DEVICE)\n",
        "      y_pred = m(x)\n",
        "\n",
        "      optimizer.zero_grad()\n",
        "      loss = loss_fn(y_pred, y)\n",
        "      loss_num = loss.item()\n",
        "      sub_loss_list.append(loss_num)\n",
        "      pbar.set_description(f'val_acc={val_acc_v:.4} val_loss={val_loss:.4} loss={loss_num:.4}') \n",
        "\n",
        "      loss.backward()\n",
        "      optimizer.step()\n",
        "\n",
        "    end = time.time()\n",
        "    \n",
        "    total_time = total_time + (end - start)\n",
        "    epoch_loss = sum(sub_loss_list) / len(sub_loss_list)\n",
        "    loss_list.append(epoch_loss)\n",
        "\n",
        "    if valloader is not None:\n",
        "      del x; del y # free some GPU memory\n",
        "      val_acc_v, val_loss = val_acc(m, loss_fn, valloader)\n",
        "      pbar.set_description(f'val_acc={val_acc_v:.4} val_loss={val_loss:.4} loss={loss_num:.4}') \n",
        "      val_acc_list.append(val_acc_v)\n",
        "      if (i > best_epoch) and (val_acc_v > best_val_acc):\n",
        "        best_epoch = i\n",
        "        best_val_acc = val_acc_v\n",
        "        best_model = copy.deepcopy(m.state_dict())\n",
        "\n",
        "  print(f'\\ntraining finished in {total_time}s. Best model at epoch={best_epoch} with val_acc={best_val_acc}')\n",
        "  m.load_state_dict(best_model)\n",
        "  return loss_list, val_acc_list"
      ]
    },
    {
      "cell_type": "code",
      "execution_count": null,
      "metadata": {
        "id": "QNKB68BhiPsM"
      },
      "outputs": [],
      "source": [
        "trainloader = DataLoader(trainset, batch_size=3000, shuffle=True)\n",
        "testloader = DataLoader(testset, batch_size=3500, shuffle=False)"
      ]
    },
    {
      "cell_type": "code",
      "execution_count": null,
      "metadata": {
        "id": "4Bk2NWoba967"
      },
      "outputs": [],
      "source": [
        "import gc\n",
        "gc.collect()\n",
        "torch.cuda.empty_cache()"
      ]
    },
    {
      "cell_type": "markdown",
      "source": [
        "#### result\n",
        "We trained our model for 300 epochs, and the model converged at around epoch 250. The best model is found at epoch 251 with a validation accuracy of 0.7679. We switched to `SGD` as the optimizer to train our model since hyperparameter tuning showed that `SGD` outperforms `Adam`."
      ],
      "metadata": {
        "id": "KNKiILTm0lTz"
      }
    },
    {
      "cell_type": "code",
      "execution_count": null,
      "metadata": {
        "colab": {
          "base_uri": "https://localhost:8080/"
        },
        "id": "hVKDMuSMjUh9",
        "outputId": "a7138a76-3540-4239-992b-5f785a87b398"
      },
      "outputs": [
        {
          "output_type": "stream",
          "name": "stderr",
          "text": [
            "val_acc=0.7583 val_loss=1.718 loss=1.485: 100%|██████████| 300/300 [49:58<00:00, 10.00s/it]"
          ]
        },
        {
          "output_type": "stream",
          "name": "stdout",
          "text": [
            "\n",
            "training finished in 2758.2801716327667s. Best model at epoch=251 with val_acc=0.7679\n"
          ]
        },
        {
          "output_type": "stream",
          "name": "stderr",
          "text": [
            "\n"
          ]
        }
      ],
      "source": [
        "model = get_model().to(DEVICE)\n",
        "# optimizer = optim.Adam(model.parameters(), lr=0.01, betas=(0.9,0.9), eps=1e-8, weight_decay=0.001)\n",
        "optimizer = optim.SGD(model.parameters(), lr=0.01, momentum=0.9, weight_decay=0.001)\n",
        "loss_fn = nn.CrossEntropyLoss()\n",
        "loss_list, val_acc_list = train(300, model, loss_fn, optimizer, trainloader, testloader)"
      ]
    },
    {
      "cell_type": "code",
      "source": [
        "plt.plot(loss_list, label=\"train loss\")\n",
        "plt.xlabel(\"epoch\")\n",
        "plt.ylabel(\"loss\")\n",
        "plt.legend()"
      ],
      "metadata": {
        "colab": {
          "base_uri": "https://localhost:8080/",
          "height": 300
        },
        "id": "ds3fuhLoSPsD",
        "outputId": "c81c600b-8723-4c71-b15c-0471e849fe8d"
      },
      "execution_count": null,
      "outputs": [
        {
          "output_type": "execute_result",
          "data": {
            "text/plain": [
              "<matplotlib.legend.Legend at 0x7fc321058d10>"
            ]
          },
          "metadata": {},
          "execution_count": 31
        },
        {
          "output_type": "display_data",
          "data": {
            "text/plain": [
              "<Figure size 432x288 with 1 Axes>"
            ],
            "image/png": "[encoded data removed]"
          },
          "metadata": {
            "needs_background": "light"
          }
        }
      ]
    },
    {
      "cell_type": "code",
      "source": [
        "import time\n",
        "time_str = time.strftime(\"%Y-%m-%d-%H:%M\")\n",
        "torch.save(model.state_dict(), f\"csci4962_hw5_{time_str}.pt\")"
      ],
      "metadata": {
        "id": "GXJbYr4XPI5O"
      },
      "execution_count": null,
      "outputs": []
    },
    {
      "cell_type": "code",
      "source": [
        "!wget https://raw.githubusercontent.com/pytorch/hub/master/imagenet_classes.txt"
      ],
      "metadata": {
        "id": "FVKkUqfiqL6K"
      },
      "execution_count": null,
      "outputs": []
    },
    {
      "cell_type": "markdown",
      "source": [
        "# Part 2\n",
        "We used Resnet18 as our base model and run the transfer learning for 100 epoches. The best model is found at epoch 98 with a validation accuracy of 0.7928. The increased number of parameters of the Resnet18 brings more capacity and more computations, and there are some signs of overfitting even if we set the weight decay to a relatively high value.\n",
        "\n",
        "However, since the convolutional layers are pretrained, the Resnet18 converged faster than our model. The Resnet18 model also yields a better performance compared to our model since it has more parameters (thus more powerful) and the conv layers are pretrained on ImageNet, a more complex image dataset.\n",
        "\n",
        "| model | converage at | early stopping at | test accuracy |\n",
        "|---|---|---|---|\n",
        "| our model | epoch 250 | epoch 251 | 0.7679 |\n",
        "| Resnet18 | epoch 15 | epoch 98 | 0.7928 |"
      ],
      "metadata": {
        "id": "0TzGoheF1KKW"
      }
    },
    {
      "cell_type": "code",
      "execution_count": null,
      "metadata": {
        "id": "XzCIFfnjBGX4"
      },
      "outputs": [],
      "source": [
        "from torchvision.models import resnet18, ResNet18_Weights\n",
        "\n",
        "# https://pytorch.org/vision/main/models.html#initializing-pre-trained-models\n",
        "# New weights with accuracy 80.858%\n",
        "\n",
        "# tranfer learning\n",
        "resnet = resnet18(weights=ResNet18_Weights.DEFAULT)\n",
        "resnet.fc = nn.Linear(512, 10)\n",
        "resnet = resnet.to(DEVICE)\n"
      ]
    },
    {
      "cell_type": "code",
      "source": [
        "# optimizer2 = optim.Adam(resnet.parameters(), lr=0.01, betas=(0.9,0.9), eps=1e-8, weight_decay=0.01)\n",
        "optimizer2 = optim.SGD(resnet.parameters(), lr=0.01, momentum=0.9, weight_decay=0.01)\n",
        "loss_fn2 = nn.CrossEntropyLoss()\n",
        "loss_list2, val_acc_list2 = train(100, resnet, loss_fn2, optimizer2, trainloader, testloader, 30)\n"
      ],
      "metadata": {
        "colab": {
          "base_uri": "https://localhost:8080/"
        },
        "id": "PgrpdZ252iAK",
        "outputId": "80d13a60-b004-4da3-c2bf-4ec4fc882b41"
      },
      "execution_count": null,
      "outputs": [
        {
          "output_type": "stream",
          "name": "stderr",
          "text": [
            "val_acc=0.791 val_loss=0.761 loss=0.01782: 100%|██████████| 100/100 [12:06<00:00,  7.27s/it]"
          ]
        },
        {
          "output_type": "stream",
          "name": "stdout",
          "text": [
            "\n",
            "training finished in 6.697664022445679s. Best model at epoch=98 with val_acc=0.7928\n"
          ]
        },
        {
          "output_type": "stream",
          "name": "stderr",
          "text": [
            "\n"
          ]
        }
      ]
    },
    {
      "cell_type": "code",
      "source": [
        "plt.plot(loss_list2, label=\"train loss\")\n",
        "plt.xlabel(\"epoch\")\n",
        "plt.ylabel(\"loss\")\n",
        "plt.legend()"
      ],
      "metadata": {
        "colab": {
          "base_uri": "https://localhost:8080/",
          "height": 297
        },
        "id": "MxH-sIVt7BK8",
        "outputId": "ab0e750a-52b2-4e5b-c4ef-74d0f6d7d20f"
      },
      "execution_count": null,
      "outputs": [
        {
          "output_type": "execute_result",
          "data": {
            "text/plain": [
              "<matplotlib.legend.Legend at 0x7fc32af895d0>"
            ]
          },
          "metadata": {},
          "execution_count": 26
        },
        {
          "output_type": "display_data",
          "data": {
            "text/plain": [
              "<Figure size 432x288 with 1 Axes>"
            ],
            "image/png": "[encoded data removed]"
          },
          "metadata": {
            "needs_background": "light"
          }
        }
      ]
    },
    {
      "cell_type": "code",
      "source": [
        "time_str = time.strftime(\"%Y-%m-%d-%H:%M\")\n",
        "torch.save(resnet.state_dict(), f\"csci4962_hw5_resnet_{time_str}.pt\")"
      ],
      "metadata": {
        "id": "kqi89oPAQJ-C"
      },
      "execution_count": null,
      "outputs": []
    },
    {
      "cell_type": "code",
      "source": [
        "summary(resnet, (3,32,32))"
      ],
      "metadata": {
        "colab": {
          "base_uri": "https://localhost:8080/"
        },
        "id": "fkZ56vl0giGN",
        "outputId": "83c4e6d1-0b61-4ea0-c6a0-52d56b76603a"
      },
      "execution_count": null,
      "outputs": [
        {
          "output_type": "stream",
          "name": "stdout",
          "text": [
            "----------------------------------------------------------------\n",
            "        Layer (type)               Output Shape         Param #\n",
            "================================================================\n",
            "            Conv2d-1           [-1, 64, 16, 16]           9,408\n",
            "       BatchNorm2d-2           [-1, 64, 16, 16]             128\n",
            "              ReLU-3           [-1, 64, 16, 16]               0\n",
            "         MaxPool2d-4             [-1, 64, 8, 8]               0\n",
            "            Conv2d-5             [-1, 64, 8, 8]          36,864\n",
            "       BatchNorm2d-6             [-1, 64, 8, 8]             128\n",
            "              ReLU-7             [-1, 64, 8, 8]               0\n",
            "            Conv2d-8             [-1, 64, 8, 8]          36,864\n",
            "       BatchNorm2d-9             [-1, 64, 8, 8]             128\n",
            "             ReLU-10             [-1, 64, 8, 8]               0\n",
            "       BasicBlock-11             [-1, 64, 8, 8]               0\n",
            "           Conv2d-12             [-1, 64, 8, 8]          36,864\n",
            "      BatchNorm2d-13             [-1, 64, 8, 8]             128\n",
            "             ReLU-14             [-1, 64, 8, 8]               0\n",
            "           Conv2d-15             [-1, 64, 8, 8]          36,864\n",
            "      BatchNorm2d-16             [-1, 64, 8, 8]             128\n",
            "             ReLU-17             [-1, 64, 8, 8]               0\n",
            "       BasicBlock-18             [-1, 64, 8, 8]               0\n",
            "           Conv2d-19            [-1, 128, 4, 4]          73,728\n",
            "      BatchNorm2d-20            [-1, 128, 4, 4]             256\n",
            "             ReLU-21            [-1, 128, 4, 4]               0\n",
            "           Conv2d-22            [-1, 128, 4, 4]         147,456\n",
            "      BatchNorm2d-23            [-1, 128, 4, 4]             256\n",
            "           Conv2d-24            [-1, 128, 4, 4]           8,192\n",
            "      BatchNorm2d-25            [-1, 128, 4, 4]             256\n",
            "             ReLU-26            [-1, 128, 4, 4]               0\n",
            "       BasicBlock-27            [-1, 128, 4, 4]               0\n",
            "           Conv2d-28            [-1, 128, 4, 4]         147,456\n",
            "      BatchNorm2d-29            [-1, 128, 4, 4]             256\n",
            "             ReLU-30            [-1, 128, 4, 4]               0\n",
            "           Conv2d-31            [-1, 128, 4, 4]         147,456\n",
            "      BatchNorm2d-32            [-1, 128, 4, 4]             256\n",
            "             ReLU-33            [-1, 128, 4, 4]               0\n",
            "       BasicBlock-34            [-1, 128, 4, 4]               0\n",
            "           Conv2d-35            [-1, 256, 2, 2]         294,912\n",
            "      BatchNorm2d-36            [-1, 256, 2, 2]             512\n",
            "             ReLU-37            [-1, 256, 2, 2]               0\n",
            "           Conv2d-38            [-1, 256, 2, 2]         589,824\n",
            "      BatchNorm2d-39            [-1, 256, 2, 2]             512\n",
            "           Conv2d-40            [-1, 256, 2, 2]          32,768\n",
            "      BatchNorm2d-41            [-1, 256, 2, 2]             512\n",
            "             ReLU-42            [-1, 256, 2, 2]               0\n",
            "       BasicBlock-43            [-1, 256, 2, 2]               0\n",
            "           Conv2d-44            [-1, 256, 2, 2]         589,824\n",
            "      BatchNorm2d-45            [-1, 256, 2, 2]             512\n",
            "             ReLU-46            [-1, 256, 2, 2]               0\n",
            "           Conv2d-47            [-1, 256, 2, 2]         589,824\n",
            "      BatchNorm2d-48            [-1, 256, 2, 2]             512\n",
            "             ReLU-49            [-1, 256, 2, 2]               0\n",
            "       BasicBlock-50            [-1, 256, 2, 2]               0\n",
            "           Conv2d-51            [-1, 512, 1, 1]       1,179,648\n",
            "      BatchNorm2d-52            [-1, 512, 1, 1]           1,024\n",
            "             ReLU-53            [-1, 512, 1, 1]               0\n",
            "           Conv2d-54            [-1, 512, 1, 1]       2,359,296\n",
            "      BatchNorm2d-55            [-1, 512, 1, 1]           1,024\n",
            "           Conv2d-56            [-1, 512, 1, 1]         131,072\n",
            "      BatchNorm2d-57            [-1, 512, 1, 1]           1,024\n",
            "             ReLU-58            [-1, 512, 1, 1]               0\n",
            "       BasicBlock-59            [-1, 512, 1, 1]               0\n",
            "           Conv2d-60            [-1, 512, 1, 1]       2,359,296\n",
            "      BatchNorm2d-61            [-1, 512, 1, 1]           1,024\n",
            "             ReLU-62            [-1, 512, 1, 1]               0\n",
            "           Conv2d-63            [-1, 512, 1, 1]       2,359,296\n",
            "      BatchNorm2d-64            [-1, 512, 1, 1]           1,024\n",
            "             ReLU-65            [-1, 512, 1, 1]               0\n",
            "       BasicBlock-66            [-1, 512, 1, 1]               0\n",
            "AdaptiveAvgPool2d-67            [-1, 512, 1, 1]               0\n",
            "           Linear-68                   [-1, 10]           5,130\n",
            "================================================================\n",
            "Total params: 11,181,642\n",
            "Trainable params: 11,181,642\n",
            "Non-trainable params: 0\n",
            "----------------------------------------------------------------\n",
            "Input size (MB): 0.01\n",
            "Forward/backward pass size (MB): 1.29\n",
            "Params size (MB): 42.65\n",
            "Estimated Total Size (MB): 43.95\n",
            "----------------------------------------------------------------\n"
          ]
        }
      ]
    },
    {
      "cell_type": "markdown",
      "source": [
        "# Part3\n",
        "We used two data augmentation techniques: random rotation and random horizontal flip. \n",
        "\n",
        "We inially trained our model for 300 epochs, and the model did not converge. So, we trained the model for an additional 300 epochs to a total of 600 epochs, and the model converaged at around epoch 550. The best model is found at epoch 569 with a validation accuracy of 0.8139.\n",
        "\n",
        "With data augmentation, our model took much longer to converage compared to our model without augmentation since the patterns of images are more complex and hard to predict. The training speed is slowed since our data augmentation is calculated on the CPU, and our low-end two-cores virtual CPU became our bottleneck.\n",
        "\n",
        "Although we sacrificed the training speed. our accuracy increased obviously. Data augmentation not only guided our model to choose the right patterns (as otherwise loss will increase) for the convolutional layers but also prevented overfitting since we have more unique data samples.\n",
        "\n",
        "\n",
        "| model | converage at | early stopping at | test accuracy |\n",
        "|---|---|---|---|\n",
        "| our model | epoch 250 | epoch 251 | 0.7679 |\n",
        "| Resnet18 | epoch 15 | epoch 98 | 0.7928 |\n",
        "| our model with augmentation | epoch 550 | epoch 569 | 0.8139 |"
      ],
      "metadata": {
        "id": "SxO9EAb-AHcY"
      }
    },
    {
      "cell_type": "code",
      "source": [
        "transform2 = transforms.Compose([\n",
        "    transforms.RandomRotation(30),\n",
        "    transforms.RandomHorizontalFlip(),\n",
        "    transforms.ToTensor(),\n",
        "    transforms.Normalize((0.5, 0.5, 0.5), (0.5, 0.5, 0.5)),\n",
        "  ])\n",
        "\n",
        "trainset_raw2 = torchvision.datasets.CIFAR10(root='./data', train=True,\n",
        "                     download=True, transform=transform2)\n",
        "\n",
        "testset_raw2 = torchvision.datasets.CIFAR10(root='./data', train=False,\n",
        "                     download=True, transform=transform)\n",
        "\n",
        "\n",
        "classes = ('plane', 'car', 'bird', 'cat',\n",
        "           'deer', 'dog', 'frog', 'horse', 'ship', 'truck')\n",
        "\n"
      ],
      "metadata": {
        "colab": {
          "base_uri": "https://localhost:8080/"
        },
        "id": "zj1XF99e2_9I",
        "outputId": "28ec23ac-552a-451e-d3b2-119153e57af4"
      },
      "execution_count": null,
      "outputs": [
        {
          "output_type": "stream",
          "name": "stdout",
          "text": [
            "Files already downloaded and verified\n",
            "Files already downloaded and verified\n"
          ]
        }
      ]
    },
    {
      "cell_type": "code",
      "source": [
        "# augmented data\n",
        "dataset_X, dataset_Y = zip( *(list(trainset_raw2)) )\n",
        "dataset_X = torch.stack(dataset_X)\n",
        "dataset_Y = torch.tensor(list(dataset_Y))\n",
        "\n",
        "def imshow(img):\n",
        "    img = img / 2 + 0.5     # unnormalize\n",
        "    npimg = img.numpy()\n",
        "    #( M, N, 3): an image with RGB values (0-1 float or 0-255 int)\n",
        "    plt.imshow(np.transpose(npimg, (1, 2, 0)))\n",
        "    plt.show()\n",
        "\n",
        "\n",
        "# get some random training images\n",
        "images, labels = dataset_X[:8], dataset_Y[:8]\n",
        "print(images[0].shape)\n",
        "# show images\n",
        "imshow(torchvision.utils.make_grid(images))\n",
        "# print labels\n",
        "print(' '.join(f'{classes[labels[j]]:5s}' for j in range(8)))"
      ],
      "metadata": {
        "colab": {
          "base_uri": "https://localhost:8080/",
          "height": 131
        },
        "id": "Vb7iXbSy78To",
        "outputId": "ef3c99ed-215e-4086-eacb-b6b5a899f52e"
      },
      "execution_count": null,
      "outputs": [
        {
          "output_type": "stream",
          "name": "stdout",
          "text": [
            "torch.Size([3, 32, 32])\n"
          ]
        },
        {
          "output_type": "display_data",
          "data": {
            "text/plain": [
              "<Figure size 432x288 with 1 Axes>"
            ],
            "image/png": "[encoded data removed]"
          },
          "metadata": {
            "needs_background": "light"
          }
        },
        {
          "output_type": "stream",
          "name": "stdout",
          "text": [
            "frog  truck truck deer  car   car   bird  horse\n"
          ]
        }
      ]
    },
    {
      "cell_type": "code",
      "source": [
        "model2 = get_model().to(DEVICE)"
      ],
      "metadata": {
        "id": "clIrwdc9_zcf"
      },
      "execution_count": null,
      "outputs": []
    },
    {
      "cell_type": "code",
      "source": [
        "trainloader = DataLoader(trainset_raw2, batch_size=2500, shuffle=True, num_workers=2)\n",
        "testloader = DataLoader(testset_raw2, batch_size=3000, shuffle=False, num_workers=2)\n",
        "\n",
        "# optimizer = optim.Adam(model.parameters(), lr=0.01, betas=(0.9,0.9), eps=1e-8, weight_decay=0.001)\n",
        "optimizer = optim.SGD(model2.parameters(), lr=0.01, momentum=0.9, weight_decay=0.001)\n",
        "loss_fn = nn.CrossEntropyLoss()\n",
        "\n",
        "loss_list3, val_acc_list3 = train(300, model2, loss_fn, optimizer, trainloader, testloader)"
      ],
      "metadata": {
        "colab": {
          "base_uri": "https://localhost:8080/"
        },
        "id": "j2qiT6Xa_nAI",
        "outputId": "faaeaeab-ea5a-4e7f-fac4-a838f1532114"
      },
      "execution_count": null,
      "outputs": [
        {
          "output_type": "stream",
          "name": "stderr",
          "text": [
            "val_acc=0.7355 val_loss=1.663 loss=1.649: 100%|██████████| 300/300 [1:36:23<00:00, 19.28s/it]"
          ]
        },
        {
          "output_type": "stream",
          "name": "stdout",
          "text": [
            "\n",
            "training finished in 5005.21452832222s. Best model at epoch=282 with val_acc=0.7467\n"
          ]
        },
        {
          "output_type": "stream",
          "name": "stderr",
          "text": [
            "\n"
          ]
        }
      ]
    },
    {
      "cell_type": "code",
      "source": [
        "# epoch 301 - epoch 600\n",
        "loss_list3_2, val_acc_list3_2 = train(300, model2, loss_fn, optimizer, trainloader, testloader, 0)"
      ],
      "metadata": {
        "colab": {
          "base_uri": "https://localhost:8080/"
        },
        "id": "cc2HGn_r2JpC",
        "outputId": "e8e5dd94-bb8e-4778-d1cc-b24f3007dab2"
      },
      "execution_count": null,
      "outputs": [
        {
          "output_type": "stream",
          "name": "stderr",
          "text": [
            "val_acc=0.7851 val_loss=1.636 loss=1.593: 100%|██████████| 300/300 [1:33:15<00:00, 18.65s/it]"
          ]
        },
        {
          "output_type": "stream",
          "name": "stdout",
          "text": [
            "\n",
            "training finished in 4860.53208231926s. Best model at epoch=269 with val_acc=0.8139\n"
          ]
        },
        {
          "output_type": "stream",
          "name": "stderr",
          "text": [
            "\n"
          ]
        }
      ]
    },
    {
      "cell_type": "code",
      "source": [
        "# showing epoch 0 to epoch 450\n",
        "plt.plot(loss_list3+loss_list3_2, label=\"train loss\")\n",
        "plt.xlabel(\"epoch\")\n",
        "plt.ylabel(\"loss\")\n",
        "plt.legend()"
      ],
      "metadata": {
        "colab": {
          "base_uri": "https://localhost:8080/",
          "height": 297
        },
        "id": "CjJF24eu45VV",
        "outputId": "ef94246d-a9ae-4a3c-ae78-e20b2a1d3f97"
      },
      "execution_count": null,
      "outputs": [
        {
          "output_type": "execute_result",
          "data": {
            "text/plain": [
              "<matplotlib.legend.Legend at 0x7fc320ceccd0>"
            ]
          },
          "metadata": {},
          "execution_count": 54
        },
        {
          "output_type": "display_data",
          "data": {
            "text/plain": [
              "<Figure size 432x288 with 1 Axes>"
            ],
            "image/png": "[encoded data removed]"
          },
          "metadata": {
            "needs_background": "light"
          }
        }
      ]
    },
    {
      "cell_type": "code",
      "source": [
        "time_str = time.strftime(\"%Y-%m-%d-%H:%M\")\n",
        "torch.save(model.state_dict(), f\"csci4962_hw5_aug_{time_str}.pt\")"
      ],
      "metadata": {
        "id": "SSGjx8voQoao"
      },
      "execution_count": null,
      "outputs": []
    }
  ],
  "metadata": {
    "accelerator": "GPU",
    "colab": {
      "collapsed_sections": [],
      "provenance": [],
      "authorship_tag": "ABX9TyOPpV6vW+3ohcZUUTrNk8qq",
      "include_colab_link": true
    },
    "gpuClass": "standard",
    "kernelspec": {
      "display_name": "Python 3",
      "name": "python3"
    },
    "language_info": {
      "name": "python"
    },
    "widgets": {
      "application/vnd.jupyter.widget-state+json": {
        "332554c3b9854981b10fbac6855e40bd": {
          "model_module": "@jupyter-widgets/controls",
          "model_name": "HBoxModel",
          "model_module_version": "1.5.0",
          "state": {
            "_dom_classes": [],
            "_model_module": "@jupyter-widgets/controls",
            "_model_module_version": "1.5.0",
            "_model_name": "HBoxModel",
            "_view_count": null,
            "_view_module": "@jupyter-widgets/controls",
            "_view_module_version": "1.5.0",
            "_view_name": "HBoxView",
            "box_style": "",
            "children": [
              "IPY_MODEL_c42341ac02c74f54b239fb90bb690a6c",
              "IPY_MODEL_1216f16331d24821a2f7f24adbb1402f",
              "IPY_MODEL_e554e5975f7f48008717e19f8f07d6f4"
            ],
            "layout": "IPY_MODEL_f070d1fd68fb4546bdbc31effb49b92b"
          }
        },
        "c42341ac02c74f54b239fb90bb690a6c": {
          "model_module": "@jupyter-widgets/controls",
          "model_name": "HTMLModel",
          "model_module_version": "1.5.0",
          "state": {
            "_dom_classes": [],
            "_model_module": "@jupyter-widgets/controls",
            "_model_module_version": "1.5.0",
            "_model_name": "HTMLModel",
            "_view_count": null,
            "_view_module": "@jupyter-widgets/controls",
            "_view_module_version": "1.5.0",
            "_view_name": "HTMLView",
            "description": "",
            "description_tooltip": null,
            "layout": "IPY_MODEL_6cf173d39a414913aeed8f8d6e28e99f",
            "placeholder": "​",
            "style": "IPY_MODEL_0045844d56604d238713445a2c9d0ffa",
            "value": "100%"
          }
        },
        "1216f16331d24821a2f7f24adbb1402f": {
          "model_module": "@jupyter-widgets/controls",
          "model_name": "FloatProgressModel",
          "model_module_version": "1.5.0",
          "state": {
            "_dom_classes": [],
            "_model_module": "@jupyter-widgets/controls",
            "_model_module_version": "1.5.0",
            "_model_name": "FloatProgressModel",
            "_view_count": null,
            "_view_module": "@jupyter-widgets/controls",
            "_view_module_version": "1.5.0",
            "_view_name": "ProgressView",
            "bar_style": "success",
            "description": "",
            "description_tooltip": null,
            "layout": "IPY_MODEL_f269e107408041ff9f6d4970cef2aa30",
            "max": 170498071,
            "min": 0,
            "orientation": "horizontal",
            "style": "IPY_MODEL_dc8e271e2d164639a4b898783dc86204",
            "value": 170498071
          }
        },
        "e554e5975f7f48008717e19f8f07d6f4": {
          "model_module": "@jupyter-widgets/controls",
          "model_name": "HTMLModel",
          "model_module_version": "1.5.0",
          "state": {
            "_dom_classes": [],
            "_model_module": "@jupyter-widgets/controls",
            "_model_module_version": "1.5.0",
            "_model_name": "HTMLModel",
            "_view_count": null,
            "_view_module": "@jupyter-widgets/controls",
            "_view_module_version": "1.5.0",
            "_view_name": "HTMLView",
            "description": "",
            "description_tooltip": null,
            "layout": "IPY_MODEL_1d042526027b4d868fb8290c8667a3dc",
            "placeholder": "​",
            "style": "IPY_MODEL_9046035fa5044bb88abf59b990a8eba6",
            "value": " 170498071/170498071 [00:02&lt;00:00, 80385219.79it/s]"
          }
        },
        "f070d1fd68fb4546bdbc31effb49b92b": {
          "model_module": "@jupyter-widgets/base",
          "model_name": "LayoutModel",
          "model_module_version": "1.2.0",
          "state": {
            "_model_module": "@jupyter-widgets/base",
            "_model_module_version": "1.2.0",
            "_model_name": "LayoutModel",
            "_view_count": null,
            "_view_module": "@jupyter-widgets/base",
            "_view_module_version": "1.2.0",
            "_view_name": "LayoutView",
            "align_content": null,
            "align_items": null,
            "align_self": null,
            "border": null,
            "bottom": null,
            "display": null,
            "flex": null,
            "flex_flow": null,
            "grid_area": null,
            "grid_auto_columns": null,
            "grid_auto_flow": null,
            "grid_auto_rows": null,
            "grid_column": null,
            "grid_gap": null,
            "grid_row": null,
            "grid_template_areas": null,
            "grid_template_columns": null,
            "grid_template_rows": null,
            "height": null,
            "justify_content": null,
            "justify_items": null,
            "left": null,
            "margin": null,
            "max_height": null,
            "max_width": null,
            "min_height": null,
            "min_width": null,
            "object_fit": null,
            "object_position": null,
            "order": null,
            "overflow": null,
            "overflow_x": null,
            "overflow_y": null,
            "padding": null,
            "right": null,
            "top": null,
            "visibility": null,
            "width": null
          }
        },
        "6cf173d39a414913aeed8f8d6e28e99f": {
          "model_module": "@jupyter-widgets/base",
          "model_name": "LayoutModel",
          "model_module_version": "1.2.0",
          "state": {
            "_model_module": "@jupyter-widgets/base",
            "_model_module_version": "1.2.0",
            "_model_name": "LayoutModel",
            "_view_count": null,
            "_view_module": "@jupyter-widgets/base",
            "_view_module_version": "1.2.0",
            "_view_name": "LayoutView",
            "align_content": null,
            "align_items": null,
            "align_self": null,
            "border": null,
            "bottom": null,
            "display": null,
            "flex": null,
            "flex_flow": null,
            "grid_area": null,
            "grid_auto_columns": null,
            "grid_auto_flow": null,
            "grid_auto_rows": null,
            "grid_column": null,
            "grid_gap": null,
            "grid_row": null,
            "grid_template_areas": null,
            "grid_template_columns": null,
            "grid_template_rows": null,
            "height": null,
            "justify_content": null,
            "justify_items": null,
            "left": null,
            "margin": null,
            "max_height": null,
            "max_width": null,
            "min_height": null,
            "min_width": null,
            "object_fit": null,
            "object_position": null,
            "order": null,
            "overflow": null,
            "overflow_x": null,
            "overflow_y": null,
            "padding": null,
            "right": null,
            "top": null,
            "visibility": null,
            "width": null
          }
        },
        "0045844d56604d238713445a2c9d0ffa": {
          "model_module": "@jupyter-widgets/controls",
          "model_name": "DescriptionStyleModel",
          "model_module_version": "1.5.0",
          "state": {
            "_model_module": "@jupyter-widgets/controls",
            "_model_module_version": "1.5.0",
            "_model_name": "DescriptionStyleModel",
            "_view_count": null,
            "_view_module": "@jupyter-widgets/base",
            "_view_module_version": "1.2.0",
            "_view_name": "StyleView",
            "description_width": ""
          }
        },
        "f269e107408041ff9f6d4970cef2aa30": {
          "model_module": "@jupyter-widgets/base",
          "model_name": "LayoutModel",
          "model_module_version": "1.2.0",
          "state": {
            "_model_module": "@jupyter-widgets/base",
            "_model_module_version": "1.2.0",
            "_model_name": "LayoutModel",
            "_view_count": null,
            "_view_module": "@jupyter-widgets/base",
            "_view_module_version": "1.2.0",
            "_view_name": "LayoutView",
            "align_content": null,
            "align_items": null,
            "align_self": null,
            "border": null,
            "bottom": null,
            "display": null,
            "flex": null,
            "flex_flow": null,
            "grid_area": null,
            "grid_auto_columns": null,
            "grid_auto_flow": null,
            "grid_auto_rows": null,
            "grid_column": null,
            "grid_gap": null,
            "grid_row": null,
            "grid_template_areas": null,
            "grid_template_columns": null,
            "grid_template_rows": null,
            "height": null,
            "justify_content": null,
            "justify_items": null,
            "left": null,
            "margin": null,
            "max_height": null,
            "max_width": null,
            "min_height": null,
            "min_width": null,
            "object_fit": null,
            "object_position": null,
            "order": null,
            "overflow": null,
            "overflow_x": null,
            "overflow_y": null,
            "padding": null,
            "right": null,
            "top": null,
            "visibility": null,
            "width": null
          }
        },
        "dc8e271e2d164639a4b898783dc86204": {
          "model_module": "@jupyter-widgets/controls",
          "model_name": "ProgressStyleModel",
          "model_module_version": "1.5.0",
          "state": {
            "_model_module": "@jupyter-widgets/controls",
            "_model_module_version": "1.5.0",
            "_model_name": "ProgressStyleModel",
            "_view_count": null,
            "_view_module": "@jupyter-widgets/base",
            "_view_module_version": "1.2.0",
            "_view_name": "StyleView",
            "bar_color": null,
            "description_width": ""
          }
        },
        "1d042526027b4d868fb8290c8667a3dc": {
          "model_module": "@jupyter-widgets/base",
          "model_name": "LayoutModel",
          "model_module_version": "1.2.0",
          "state": {
            "_model_module": "@jupyter-widgets/base",
            "_model_module_version": "1.2.0",
            "_model_name": "LayoutModel",
            "_view_count": null,
            "_view_module": "@jupyter-widgets/base",
            "_view_module_version": "1.2.0",
            "_view_name": "LayoutView",
            "align_content": null,
            "align_items": null,
            "align_self": null,
            "border": null,
            "bottom": null,
            "display": null,
            "flex": null,
            "flex_flow": null,
            "grid_area": null,
            "grid_auto_columns": null,
            "grid_auto_flow": null,
            "grid_auto_rows": null,
            "grid_column": null,
            "grid_gap": null,
            "grid_row": null,
            "grid_template_areas": null,
            "grid_template_columns": null,
            "grid_template_rows": null,
            "height": null,
            "justify_content": null,
            "justify_items": null,
            "left": null,
            "margin": null,
            "max_height": null,
            "max_width": null,
            "min_height": null,
            "min_width": null,
            "object_fit": null,
            "object_position": null,
            "order": null,
            "overflow": null,
            "overflow_x": null,
            "overflow_y": null,
            "padding": null,
            "right": null,
            "top": null,
            "visibility": null,
            "width": null
          }
        },
        "9046035fa5044bb88abf59b990a8eba6": {
          "model_module": "@jupyter-widgets/controls",
          "model_name": "DescriptionStyleModel",
          "model_module_version": "1.5.0",
          "state": {
            "_model_module": "@jupyter-widgets/controls",
            "_model_module_version": "1.5.0",
            "_model_name": "DescriptionStyleModel",
            "_view_count": null,
            "_view_module": "@jupyter-widgets/base",
            "_view_module_version": "1.2.0",
            "_view_name": "StyleView",
            "description_width": ""
          }
        }
      }
    }
  },
  "nbformat": 4,
  "nbformat_minor": 0
}
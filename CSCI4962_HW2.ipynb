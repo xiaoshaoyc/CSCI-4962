{
  "cells": [
    {
      "cell_type": "markdown",
      "metadata": {
        "id": "view-in-github",
        "colab_type": "text"
      },
      "source": [
        "<a href=\"https://colab.research.google.com/github/xiaoshaoyc/CSCI-4962/blob/main/CSCI4962_HW2.ipynb\" target=\"_parent\"><img src=\"https://colab.research.google.com/assets/colab-badge.svg\" alt=\"Open In Colab\"/></a>"
      ]
    },
    {
      "cell_type": "markdown",
      "metadata": {
        "id": "V4PlxIPiSOfZ"
      },
      "source": [
        "# Task0\n",
        "\n",
        "Init.\n",
        "\n",
        "We used [MNIST](http://yann.lecun.com/exdb/mnist/) dataset."
      ]
    },
    {
      "cell_type": "code",
      "execution_count": 1,
      "metadata": {
        "id": "Mg-SqWWgSNRY"
      },
      "outputs": [],
      "source": [
        "# init\n",
        "import math\n",
        "import pandas as pd\n",
        "import numpy as np\n",
        "from tqdm import tqdm\n",
        "import torch\n",
        "import torchvision\n",
        "from torch.utils.data import DataLoader\n",
        "from matplotlib import pyplot as plt\n"
      ]
    },
    {
      "cell_type": "code",
      "execution_count": 2,
      "metadata": {
        "id": "nMjW7fKpVCUG"
      },
      "outputs": [],
      "source": [
        "def transform1(x):\n",
        "  # transformation for raw image data\n",
        "  return torch.tensor(np.array(x).reshape(-1) / 255)\n",
        "\n",
        "def y_trans(y):\n",
        "  # transformation for label\n",
        "  return (y == 1) * 1.0\n",
        "\n",
        "# Here, we store all the data in memory to accelerate training\n",
        "class Mem_dataset(torch.utils.data.Dataset):\n",
        "  def __init__(self, dataset) -> None:\n",
        "    super().__init__()\n",
        "    self.cache = {}\n",
        "    self.dataset = dataset\n",
        "\n",
        "  def __getitem__(self, index):\n",
        "    if index in self.cache:\n",
        "      return self.cache[index]\n",
        "    else:\n",
        "      item = self.dataset[index]\n",
        "      self.cache[index] = item\n",
        "      return item\n",
        "\n",
        "  def __len__(self):\n",
        "    return len(self.dataset) "
      ]
    },
    {
      "cell_type": "code",
      "execution_count": null,
      "metadata": {
        "id": "Mk06vK1ASwGz"
      },
      "outputs": [],
      "source": [
        "# fetch the dataset\n",
        "train_dataset = torchvision.datasets.MNIST(root='', train=True, download=True, transform=transform1, target_transform=y_trans)\n",
        "\n",
        "train_dataset_opt = Mem_dataset(train_dataset)"
      ]
    },
    {
      "cell_type": "markdown",
      "source": [
        "Here, I try to make some guesses about the features that our decision tree may choose. Since 1's are more 'thin' than not 1's. Our decision tree may firstly consider middle-left and middle-right pixels as nodes. I also noticed that our dataset is unbalanced, which may be a problem for impurity measurement. We will deal with that problem later."
      ],
      "metadata": {
        "id": "DING5BOV27pB"
      }
    },
    {
      "cell_type": "code",
      "execution_count": 4,
      "metadata": {
        "colab": {
          "base_uri": "https://localhost:8080/",
          "height": 442
        },
        "id": "djWaxc-dRWR4",
        "outputId": "e9834357-ec86-4dc4-d765-fc85f9da3841"
      },
      "outputs": [
        {
          "output_type": "stream",
          "name": "stdout",
          "text": [
            "number of 1's = 6742\n",
            "number of not 1's = 53258\n"
          ]
        },
        {
          "output_type": "execute_result",
          "data": {
            "text/plain": [
              "<matplotlib.image.AxesImage at 0x7fa6948edf90>"
            ]
          },
          "metadata": {},
          "execution_count": 4
        },
        {
          "output_type": "display_data",
          "data": {
            "text/plain": [
              "<Figure size 360x720 with 2 Axes>"
            ],
            "image/png": "[encoded data removed]"
          },
          "metadata": {
            "needs_background": "light"
          }
        },
        {
          "output_type": "display_data",
          "data": {
            "text/plain": [
              "<Figure size 360x720 with 2 Axes>"
            ],
            "image/png": "[encoded data removed]"
          },
          "metadata": {
            "needs_background": "light"
          }
        }
      ],
      "source": [
        "# sample analyze\n",
        "num1_list = list(filter(lambda x: x[1] == 1, train_dataset_opt))\n",
        "not1_list = list(filter(lambda x: x[1] != 1, train_dataset_opt))\n",
        "\n",
        "print(f'number of 1\\'s = {len(num1_list)}')\n",
        "print(f'number of not 1\\'s = {len(not1_list)}')\n",
        "\n",
        "num1_X = np.array(list( map(lambda x: x[0].numpy(), num1_list) ))\n",
        "not1_X = np.array(list( map(lambda x: x[0].numpy(), not1_list) ))\n",
        "num1_Y = np.array(list( map(lambda x: x[1], num1_list) ))\n",
        "not1_Y = np.array(list( map(lambda x: x[1], not1_list) ))\n",
        "\n",
        "fig, ax_list0 = plt.subplots(1, 2, figsize=(5, 10), constrained_layout=True)\n",
        "ax_list0[0].imshow(num1_X.sum(axis=0).reshape(28, 28), cmap='binary')\n",
        "ax_list0[1].imshow(not1_X.sum(axis=0).reshape(28, 28), cmap='binary')\n",
        "\n",
        "fig, ax_list1 = plt.subplots(1, 2, figsize=(5, 10), constrained_layout=True)\n",
        "ax_list1[0].imshow(num1_X.sum(axis=0).reshape(28, 28) > (len(num1_X) * 0.001), cmap='binary')\n",
        "ax_list1[1].imshow(not1_X.sum(axis=0).reshape(28, 28) > (len(not1_X) * 0.001), cmap='binary')"
      ]
    },
    {
      "cell_type": "markdown",
      "metadata": {
        "id": "zAOQfX_LUyFa"
      },
      "source": [
        "# Task 1\n",
        "\n",
        "\n"
      ]
    },
    {
      "cell_type": "code",
      "execution_count": 5,
      "metadata": {
        "id": "K34GE2_dNZWO"
      },
      "outputs": [],
      "source": [
        "from sklearn.model_selection import cross_validate\n",
        "from sklearn.tree import DecisionTreeClassifier\n",
        "from sklearn.ensemble import AdaBoostClassifier\n",
        "from sklearn.ensemble import RandomForestClassifier"
      ]
    },
    {
      "cell_type": "code",
      "source": [
        "X = np.concatenate([num1_X, not1_X])\n",
        "Y = np.concatenate([num1_Y, not1_Y])"
      ],
      "metadata": {
        "id": "CqcZy-MlAf8i"
      },
      "execution_count": 6,
      "outputs": []
    },
    {
      "cell_type": "markdown",
      "source": [
        "Here we tried different input parameters. Our basic model is the first `dt`.(dt with `gini`)\n",
        "\n",
        "Using entroy as criterion reduces the fit time. Limiting the max_depth also reduces the fit time, but at the cost of 1% accuracy(maybe a little underfit). `dt4` limits the number of features that each node can consider, reducing the fit time significantly without sacrificing accuracy. It is possible that we have too many redundant features, thus limiting the features will not impact the model too much."
      ],
      "metadata": {
        "id": "QicFHF3M4586"
      }
    },
    {
      "cell_type": "code",
      "execution_count": 7,
      "metadata": {
        "id": "V_cFkU0VUABw",
        "colab": {
          "base_uri": "https://localhost:8080/"
        },
        "outputId": "e43c7313-f15d-41f3-b31c-a1a8fda81357"
      },
      "outputs": [
        {
          "output_type": "stream",
          "name": "stdout",
          "text": [
            "[default dt]avg_fit_time = 11.24409739971161s\n",
            "[default dt]avg_pred_time = 0.01398167610168457s\n",
            "[default dt]avg_test_score = 0.98675\n",
            "\n",
            "[entropy dt]avg_fit_time = 6.966635394096374s\n",
            "[entropy dt]avg_pred_time = 0.01187739372253418s\n",
            "[entropy dt]avg_test_score = 0.9888\n",
            "\n",
            "[dt max_depth=5]avg_fit_time = 5.782234811782837s\n",
            "[dt max_depth=5]avg_pred_time = 0.01307675838470459s\n",
            "[dt max_depth=5]avg_test_score = 0.9760666666666665\n",
            "\n",
            "[dt max_features=100]avg_fit_time = 1.628520393371582s\n",
            "[dt max_features=100]avg_pred_time = 0.013470149040222168s\n",
            "[dt max_features=100]avg_test_score = 0.98715\n",
            "\n",
            "[entropy dt max_d=5,max_f=100]avg_fit_time = 0.8838881254196167s\n",
            "[entropy dt max_d=5,max_f=100]avg_pred_time = 0.012567973136901856s\n",
            "[entropy dt max_d=5,max_f=100]avg_test_score = 0.9658999999999999\n",
            "\n",
            "[entropy dt max_d=15,max_f=100]avg_fit_time = 1.1302621126174928s\n",
            "[entropy dt max_d=15,max_f=100]avg_pred_time = 0.013444638252258301s\n",
            "[entropy dt max_d=15,max_f=100]avg_test_score = 0.9891166666666666\n",
            "\n"
          ]
        }
      ],
      "source": [
        "def avg_print_cv(cv_ret, prefix=\"\"):\n",
        "  avg_fit_time = np.mean(cv_ret['fit_time'])\n",
        "  avg_test_score = np.mean(cv_ret['test_score'])\n",
        "  avg_pred_time = np.mean(cv_ret['score_time'])\n",
        "  print(f'{prefix}avg_fit_time = {avg_fit_time}s')\n",
        "  print(f'{prefix}avg_pred_time = {avg_pred_time}s')\n",
        "  print(f'{prefix}avg_test_score = {avg_test_score}')\n",
        "  print()\n",
        "  return avg_fit_time, avg_test_score\n",
        "\n",
        "dt = DecisionTreeClassifier(criterion='gini', random_state=0)\n",
        "cv_ret = cross_validate(dt, X, Y, scoring='accuracy', cv=10)\n",
        "dt_m = avg_print_cv(cv_ret, '[default dt]')\n",
        "\n",
        "dt2 = DecisionTreeClassifier(criterion='entropy', random_state=0)\n",
        "cv_ret2 = cross_validate(dt2, X, Y, scoring='accuracy', cv=10)\n",
        "dt_m2 = avg_print_cv(cv_ret2, '[entropy dt]')\n",
        "\n",
        "dt3 = DecisionTreeClassifier(criterion='gini', max_depth=5, random_state=0)\n",
        "cv_ret3 = cross_validate(dt3, X, Y, scoring='accuracy', cv=10)\n",
        "dt_m3 = avg_print_cv(cv_ret3, '[dt max_depth=5]')\n",
        "\n",
        "dt4 = DecisionTreeClassifier(criterion='gini', max_features=100, random_state=0)\n",
        "cv_ret4 = cross_validate(dt4, X, Y, scoring='accuracy', cv=10)\n",
        "dt_m4 = avg_print_cv(cv_ret4, '[dt max_features=100]')\n",
        "\n",
        "dt5 = DecisionTreeClassifier(criterion='entropy', max_depth=5, max_features=100, random_state=0)\n",
        "cv_ret5 = cross_validate(dt5, X, Y, scoring='accuracy', cv=10)\n",
        "dt_m5 = avg_print_cv(cv_ret5, '[entropy dt max_d=5,max_f=100]')\n",
        "\n",
        "dt6 = DecisionTreeClassifier(criterion='entropy', max_depth=15, max_features=100, random_state=0)\n",
        "cv_ret6 = cross_validate(dt6, X, Y, scoring='accuracy', cv=10)\n",
        "dt_m6 = avg_print_cv(cv_ret6, '[entropy dt max_d=15,max_f=100]')"
      ]
    },
    {
      "cell_type": "markdown",
      "source": [
        "Here we try to mitigate the effect of unbalanced dataset by weighting different classes. It seems to work, but the improvement is not significant."
      ],
      "metadata": {
        "id": "D1iPjes9A721"
      }
    },
    {
      "cell_type": "code",
      "source": [
        "X = np.concatenate([num1_X, not1_X])\n",
        "Y = np.concatenate([num1_Y, not1_Y])\n",
        "weights = {0:len(num1_X), 1:len(not1_X)}\n",
        "dt_s = DecisionTreeClassifier(criterion='gini', class_weight=weights, random_state=0)\n",
        "cv_ret_s = cross_validate(dt_s, X, Y, scoring='accuracy', cv=10)\n",
        "dt_m_s = avg_print_cv(cv_ret_s, '[Balance dt]')\n",
        "\n",
        "dt_s2 = DecisionTreeClassifier(criterion='entropy', class_weight=weights, random_state=0)\n",
        "cv_ret_s2 = cross_validate(dt_s2, X, Y, scoring='accuracy', cv=10)\n",
        "dt_m_s2 = avg_print_cv(cv_ret_s2, '[B entropy dt]')\n",
        "\n",
        "dt_s3 = DecisionTreeClassifier(criterion='entropy', max_depth=15, max_features=100, class_weight=weights, random_state=0)\n",
        "cv_ret_s3 = cross_validate(dt_s3, X, Y, scoring='accuracy', cv=10)\n",
        "dt_m_s3 = avg_print_cv(cv_ret_s3, '[B entropy dt max_d=15,max_f=100]')"
      ],
      "metadata": {
        "colab": {
          "base_uri": "https://localhost:8080/"
        },
        "id": "5gwz-QyusSkc",
        "outputId": "360b28f4-647f-4dd1-e79f-9fc0104b2d07"
      },
      "execution_count": 8,
      "outputs": [
        {
          "output_type": "stream",
          "name": "stdout",
          "text": [
            "[Balance dt]avg_fit_time = 15.282448935508729s\n",
            "[Balance dt]avg_pred_time = 0.015084576606750489s\n",
            "[Balance dt]avg_test_score = 0.9888333333333333\n",
            "\n",
            "[B entropy dt]avg_fit_time = 7.052558875083923s\n",
            "[B entropy dt]avg_pred_time = 0.01312875747680664s\n",
            "[B entropy dt]avg_test_score = 0.9895000000000002\n",
            "\n",
            "[B entropy dt max_d=15,max_f=100]avg_fit_time = 1.112791156768799s\n",
            "[B entropy dt max_d=15,max_f=100]avg_pred_time = 0.012908077239990235s\n",
            "[B entropy dt max_d=15,max_f=100]avg_test_score = 0.9889666666666667\n",
            "\n"
          ]
        }
      ]
    },
    {
      "cell_type": "code",
      "source": [
        "# here I verified my guess, X410 is (13, 17), a pixel in the middle-right.\n",
        "#   X378, X351 are also pixels in the middle.\n",
        "from sklearn import tree\n",
        "import graphviz \n",
        "dt_s.fit(X,Y)\n",
        "dot_data = tree.export_graphviz(dt_s, out_file=None, \n",
        "                     filled=True, rounded=True,  \n",
        "                     special_characters=True,\n",
        "                     max_depth=3)  \n",
        "graph = graphviz.Source(dot_data)  \n",
        "graph "
      ],
      "metadata": {
        "colab": {
          "base_uri": "https://localhost:8080/",
          "height": 632
        },
        "id": "e4OIRgfjubaW",
        "outputId": "838569c4-e669-4216-a29f-6c80cac44831"
      },
      "execution_count": null,
      "outputs": [
        {
          "output_type": "execute_result",
          "data": {
            "text/plain": [
              "<graphviz.files.Source at 0x7fe446645650>"
            ],
            "image/svg+xml": "<?xml version=\"1.0\" encoding=\"UTF-8\" standalone=\"no\"?>\n<!DOCTYPE svg PUBLIC \"-//W3C//DTD SVG 1.1//EN\"\n \"http://www.w3.org/Graphics/SVG/1.1/DTD/svg11.dtd\">\n<!-- Generated by graphviz version 2.40.1 (20161225.0304)\n -->\n<!-- Title: Tree Pages: 1 -->\n<svg width=\"1745pt\" height=\"444pt\"\n viewBox=\"0.00 0.00 1745.00 444.00\" xmlns=\"http://www.w3.org/2000/svg\" xmlns:xlink=\"http://www.w3.org/1999/xlink\">\n<g id=\"graph0\" class=\"graph\" transform=\"scale(1 1) rotate(0) translate(4 440)\">\n<title>Tree</title>\n<polygon fill=\"#ffffff\" stroke=\"transparent\" points=\"-4,4 -4,-440 1741,-440 1741,4 -4,4\"/>\n<!-- 0 -->\n<g id=\"node1\" class=\"node\">\n<title>0</title>\n<path fill=\"#ffffff\" stroke=\"#000000\" d=\"M996.5,-436C996.5,-436 789.5,-436 789.5,-436 783.5,-436 777.5,-430 777.5,-424 777.5,-424 777.5,-384 777.5,-384 777.5,-378 783.5,-372 789.5,-372 789.5,-372 996.5,-372 996.5,-372 1002.5,-372 1008.5,-378 1008.5,-384 1008.5,-384 1008.5,-424 1008.5,-424 1008.5,-430 1002.5,-436 996.5,-436\"/>\n<text text-anchor=\"start\" x=\"851.5\" y=\"-421.8\" font-family=\"Helvetica,sans-Serif\" font-size=\"14.00\" fill=\"#000000\">X</text>\n<text text-anchor=\"start\" x=\"861.5\" y=\"-421.8\" font-family=\"Helvetica,sans-Serif\" baseline-shift=\"sub\" font-size=\"14.00\" fill=\"#000000\">410</text>\n<text text-anchor=\"start\" x=\"882.5\" y=\"-421.8\" font-family=\"Helvetica,sans-Serif\" font-size=\"14.00\" fill=\"#000000\"> ≤ 0.002</text>\n<text text-anchor=\"start\" x=\"863.5\" y=\"-407.8\" font-family=\"Helvetica,sans-Serif\" font-size=\"14.00\" fill=\"#000000\">gini = 0.5</text>\n<text text-anchor=\"start\" x=\"837\" y=\"-393.8\" font-family=\"Helvetica,sans-Serif\" font-size=\"14.00\" fill=\"#000000\">samples = 60000</text>\n<text text-anchor=\"start\" x=\"785.5\" y=\"-379.8\" font-family=\"Helvetica,sans-Serif\" font-size=\"14.00\" fill=\"#000000\">value = [359065436, 359065436]</text>\n</g>\n<!-- 1 -->\n<g id=\"node2\" class=\"node\">\n<title>1</title>\n<path fill=\"#7ebfee\" stroke=\"#000000\" d=\"M767.5,-336C767.5,-336 560.5,-336 560.5,-336 554.5,-336 548.5,-330 548.5,-324 548.5,-324 548.5,-284 548.5,-284 548.5,-278 554.5,-272 560.5,-272 560.5,-272 767.5,-272 767.5,-272 773.5,-272 779.5,-278 779.5,-284 779.5,-284 779.5,-324 779.5,-324 779.5,-330 773.5,-336 767.5,-336\"/>\n<text text-anchor=\"start\" x=\"622.5\" y=\"-321.8\" font-family=\"Helvetica,sans-Serif\" font-size=\"14.00\" fill=\"#000000\">X</text>\n<text text-anchor=\"start\" x=\"632.5\" y=\"-321.8\" font-family=\"Helvetica,sans-Serif\" baseline-shift=\"sub\" font-size=\"14.00\" fill=\"#000000\">378</text>\n<text text-anchor=\"start\" x=\"653.5\" y=\"-321.8\" font-family=\"Helvetica,sans-Serif\" font-size=\"14.00\" fill=\"#000000\"> ≤ 0.524</text>\n<text text-anchor=\"start\" x=\"626\" y=\"-307.8\" font-family=\"Helvetica,sans-Serif\" font-size=\"14.00\" fill=\"#000000\">gini = 0.383</text>\n<text text-anchor=\"start\" x=\"608\" y=\"-293.8\" font-family=\"Helvetica,sans-Serif\" font-size=\"14.00\" fill=\"#000000\">samples = 24782</text>\n<text text-anchor=\"start\" x=\"556.5\" y=\"-279.8\" font-family=\"Helvetica,sans-Serif\" font-size=\"14.00\" fill=\"#000000\">value = [122454946, 352514702]</text>\n</g>\n<!-- 0&#45;&gt;1 -->\n<g id=\"edge1\" class=\"edge\">\n<title>0&#45;&gt;1</title>\n<path fill=\"none\" stroke=\"#000000\" d=\"M819.5981,-371.9467C796.3841,-361.8096 770.5714,-350.5377 746.7497,-340.1352\"/>\n<polygon fill=\"#000000\" stroke=\"#000000\" points=\"747.9442,-336.8377 737.3791,-336.0433 745.1428,-343.2528 747.9442,-336.8377\"/>\n<text text-anchor=\"middle\" x=\"746.5051\" y=\"-355.6181\" font-family=\"Helvetica,sans-Serif\" font-size=\"14.00\" fill=\"#000000\">True</text>\n</g>\n<!-- 642 -->\n<g id=\"node17\" class=\"node\">\n<title>642</title>\n<path fill=\"#e6843e\" stroke=\"#000000\" d=\"M1198.5,-336C1198.5,-336 1007.5,-336 1007.5,-336 1001.5,-336 995.5,-330 995.5,-324 995.5,-324 995.5,-284 995.5,-284 995.5,-278 1001.5,-272 1007.5,-272 1007.5,-272 1198.5,-272 1198.5,-272 1204.5,-272 1210.5,-278 1210.5,-284 1210.5,-284 1210.5,-324 1210.5,-324 1210.5,-330 1204.5,-336 1198.5,-336\"/>\n<text text-anchor=\"start\" x=\"1061.5\" y=\"-321.8\" font-family=\"Helvetica,sans-Serif\" font-size=\"14.00\" fill=\"#000000\">X</text>\n<text text-anchor=\"start\" x=\"1071.5\" y=\"-321.8\" font-family=\"Helvetica,sans-Serif\" baseline-shift=\"sub\" font-size=\"14.00\" fill=\"#000000\">351</text>\n<text text-anchor=\"start\" x=\"1092.5\" y=\"-321.8\" font-family=\"Helvetica,sans-Serif\" font-size=\"14.00\" fill=\"#000000\"> ≤ 0.978</text>\n<text text-anchor=\"start\" x=\"1065\" y=\"-307.8\" font-family=\"Helvetica,sans-Serif\" font-size=\"14.00\" fill=\"#000000\">gini = 0.052</text>\n<text text-anchor=\"start\" x=\"1047\" y=\"-293.8\" font-family=\"Helvetica,sans-Serif\" font-size=\"14.00\" fill=\"#000000\">samples = 35218</text>\n<text text-anchor=\"start\" x=\"1003.5\" y=\"-279.8\" font-family=\"Helvetica,sans-Serif\" font-size=\"14.00\" fill=\"#000000\">value = [236610490, 6550734]</text>\n</g>\n<!-- 0&#45;&gt;642 -->\n<g id=\"edge16\" class=\"edge\">\n<title>0&#45;&gt;642</title>\n<path fill=\"none\" stroke=\"#000000\" d=\"M960.3118,-371.9467C981.4114,-361.8993 1004.852,-350.7372 1026.5356,-340.4116\"/>\n<polygon fill=\"#000000\" stroke=\"#000000\" points=\"1028.1852,-343.5027 1035.7091,-336.0433 1025.1757,-337.1827 1028.1852,-343.5027\"/>\n<text text-anchor=\"middle\" x=\"1027.3488\" y=\"-355.904\" font-family=\"Helvetica,sans-Serif\" font-size=\"14.00\" fill=\"#000000\">False</text>\n</g>\n<!-- 2 -->\n<g id=\"node3\" class=\"node\">\n<title>2</title>\n<path fill=\"#e89051\" stroke=\"#000000\" d=\"M414,-236C414,-236 232,-236 232,-236 226,-236 220,-230 220,-224 220,-224 220,-184 220,-184 220,-178 226,-172 232,-172 232,-172 414,-172 414,-172 420,-172 426,-178 426,-184 426,-184 426,-224 426,-224 426,-230 420,-236 414,-236\"/>\n<text text-anchor=\"start\" x=\"281.5\" y=\"-221.8\" font-family=\"Helvetica,sans-Serif\" font-size=\"14.00\" fill=\"#000000\">X</text>\n<text text-anchor=\"start\" x=\"291.5\" y=\"-221.8\" font-family=\"Helvetica,sans-Serif\" baseline-shift=\"sub\" font-size=\"14.00\" fill=\"#000000\">351</text>\n<text text-anchor=\"start\" x=\"312.5\" y=\"-221.8\" font-family=\"Helvetica,sans-Serif\" font-size=\"14.00\" fill=\"#000000\"> ≤ 0.563</text>\n<text text-anchor=\"start\" x=\"289.5\" y=\"-207.8\" font-family=\"Helvetica,sans-Serif\" font-size=\"14.00\" fill=\"#000000\">gini = 0.19</text>\n<text text-anchor=\"start\" x=\"267\" y=\"-193.8\" font-family=\"Helvetica,sans-Serif\" font-size=\"14.00\" fill=\"#000000\">samples = 10956</text>\n<text text-anchor=\"start\" x=\"228\" y=\"-179.8\" font-family=\"Helvetica,sans-Serif\" font-size=\"14.00\" fill=\"#000000\">value = [72766406, 8681054]</text>\n</g>\n<!-- 1&#45;&gt;2 -->\n<g id=\"edge2\" class=\"edge\">\n<title>1&#45;&gt;2</title>\n<path fill=\"none\" stroke=\"#000000\" d=\"M554.6984,-271.9467C516.7156,-260.8081 474.0609,-248.2994 435.8007,-237.0794\"/>\n<polygon fill=\"#000000\" stroke=\"#000000\" points=\"436.7546,-233.7118 426.1738,-234.2562 434.7847,-240.4289 436.7546,-233.7118\"/>\n</g>\n<!-- 175 -->\n<g id=\"node10\" class=\"node\">\n<title>175</title>\n<path fill=\"#56abe9\" stroke=\"#000000\" d=\"M763.5,-236C763.5,-236 564.5,-236 564.5,-236 558.5,-236 552.5,-230 552.5,-224 552.5,-224 552.5,-184 552.5,-184 552.5,-178 558.5,-172 564.5,-172 564.5,-172 763.5,-172 763.5,-172 769.5,-172 775.5,-178 775.5,-184 775.5,-184 775.5,-224 775.5,-224 775.5,-230 769.5,-236 763.5,-236\"/>\n<text text-anchor=\"start\" x=\"622.5\" y=\"-221.8\" font-family=\"Helvetica,sans-Serif\" font-size=\"14.00\" fill=\"#000000\">X</text>\n<text text-anchor=\"start\" x=\"632.5\" y=\"-221.8\" font-family=\"Helvetica,sans-Serif\" baseline-shift=\"sub\" font-size=\"14.00\" fill=\"#000000\">522</text>\n<text text-anchor=\"start\" x=\"653.5\" y=\"-221.8\" font-family=\"Helvetica,sans-Serif\" font-size=\"14.00\" fill=\"#000000\"> ≤ 0.002</text>\n<text text-anchor=\"start\" x=\"626\" y=\"-207.8\" font-family=\"Helvetica,sans-Serif\" font-size=\"14.00\" fill=\"#000000\">gini = 0.221</text>\n<text text-anchor=\"start\" x=\"608\" y=\"-193.8\" font-family=\"Helvetica,sans-Serif\" font-size=\"14.00\" fill=\"#000000\">samples = 13826</text>\n<text text-anchor=\"start\" x=\"560.5\" y=\"-179.8\" font-family=\"Helvetica,sans-Serif\" font-size=\"14.00\" fill=\"#000000\">value = [49688540, 343833648]</text>\n</g>\n<!-- 1&#45;&gt;175 -->\n<g id=\"edge9\" class=\"edge\">\n<title>1&#45;&gt;175</title>\n<path fill=\"none\" stroke=\"#000000\" d=\"M664,-271.8089C664,-263.6906 664,-254.8517 664,-246.3186\"/>\n<polygon fill=\"#000000\" stroke=\"#000000\" points=\"667.5001,-246.1307 664,-236.1308 660.5001,-246.1308 667.5001,-246.1307\"/>\n</g>\n<!-- 3 -->\n<g id=\"node4\" class=\"node\">\n<title>3</title>\n<path fill=\"#e68742\" stroke=\"#000000\" d=\"M194,-136C194,-136 12,-136 12,-136 6,-136 0,-130 0,-124 0,-124 0,-84 0,-84 0,-78 6,-72 12,-72 12,-72 194,-72 194,-72 200,-72 206,-78 206,-84 206,-84 206,-124 206,-124 206,-130 200,-136 194,-136\"/>\n<text text-anchor=\"start\" x=\"61.5\" y=\"-121.8\" font-family=\"Helvetica,sans-Serif\" font-size=\"14.00\" fill=\"#000000\">X</text>\n<text text-anchor=\"start\" x=\"71.5\" y=\"-121.8\" font-family=\"Helvetica,sans-Serif\" baseline-shift=\"sub\" font-size=\"14.00\" fill=\"#000000\">377</text>\n<text text-anchor=\"start\" x=\"92.5\" y=\"-121.8\" font-family=\"Helvetica,sans-Serif\" font-size=\"14.00\" fill=\"#000000\"> ≤ 0.876</text>\n<text text-anchor=\"start\" x=\"65\" y=\"-107.8\" font-family=\"Helvetica,sans-Serif\" font-size=\"14.00\" fill=\"#000000\">gini = 0.085</text>\n<text text-anchor=\"start\" x=\"51\" y=\"-93.8\" font-family=\"Helvetica,sans-Serif\" font-size=\"14.00\" fill=\"#000000\">samples = 9547</text>\n<text text-anchor=\"start\" x=\"8\" y=\"-79.8\" font-family=\"Helvetica,sans-Serif\" font-size=\"14.00\" fill=\"#000000\">value = [63988322, 2982448]</text>\n</g>\n<!-- 2&#45;&gt;3 -->\n<g id=\"edge3\" class=\"edge\">\n<title>2&#45;&gt;3</title>\n<path fill=\"none\" stroke=\"#000000\" d=\"M252.4828,-171.9467C230.2799,-161.8545 205.6024,-150.6375 182.8014,-140.2734\"/>\n<polygon fill=\"#000000\" stroke=\"#000000\" points=\"184.0473,-136.9951 173.4953,-136.0433 181.1506,-143.3677 184.0473,-136.9951\"/>\n</g>\n<!-- 96 -->\n<g id=\"node7\" class=\"node\">\n<title>96</title>\n<path fill=\"#f6d3ba\" stroke=\"#000000\" d=\"M410,-136C410,-136 236,-136 236,-136 230,-136 224,-130 224,-124 224,-124 224,-84 224,-84 224,-78 230,-72 236,-72 236,-72 410,-72 410,-72 416,-72 422,-78 422,-84 422,-84 422,-124 422,-124 422,-130 416,-136 410,-136\"/>\n<text text-anchor=\"start\" x=\"281.5\" y=\"-121.8\" font-family=\"Helvetica,sans-Serif\" font-size=\"14.00\" fill=\"#000000\">X</text>\n<text text-anchor=\"start\" x=\"291.5\" y=\"-121.8\" font-family=\"Helvetica,sans-Serif\" baseline-shift=\"sub\" font-size=\"14.00\" fill=\"#000000\">262</text>\n<text text-anchor=\"start\" x=\"312.5\" y=\"-121.8\" font-family=\"Helvetica,sans-Serif\" font-size=\"14.00\" fill=\"#000000\"> ≤ 0.045</text>\n<text text-anchor=\"start\" x=\"285\" y=\"-107.8\" font-family=\"Helvetica,sans-Serif\" font-size=\"14.00\" fill=\"#000000\">gini = 0.477</text>\n<text text-anchor=\"start\" x=\"271\" y=\"-93.8\" font-family=\"Helvetica,sans-Serif\" font-size=\"14.00\" fill=\"#000000\">samples = 1409</text>\n<text text-anchor=\"start\" x=\"232\" y=\"-79.8\" font-family=\"Helvetica,sans-Serif\" font-size=\"14.00\" fill=\"#000000\">value = [8778084, 5698606]</text>\n</g>\n<!-- 2&#45;&gt;96 -->\n<g id=\"edge6\" class=\"edge\">\n<title>2&#45;&gt;96</title>\n<path fill=\"none\" stroke=\"#000000\" d=\"M323,-171.8089C323,-163.6906 323,-154.8517 323,-146.3186\"/>\n<polygon fill=\"#000000\" stroke=\"#000000\" points=\"326.5001,-146.1307 323,-136.1308 319.5001,-146.1308 326.5001,-146.1307\"/>\n</g>\n<!-- 4 -->\n<g id=\"node5\" class=\"node\">\n<title>4</title>\n<path fill=\"#c0c0c0\" stroke=\"#000000\" d=\"M82,-36C82,-36 52,-36 52,-36 46,-36 40,-30 40,-24 40,-24 40,-12 40,-12 40,-6 46,0 52,0 52,0 82,0 82,0 88,0 94,-6 94,-12 94,-12 94,-24 94,-24 94,-30 88,-36 82,-36\"/>\n<text text-anchor=\"middle\" x=\"67\" y=\"-14.3\" font-family=\"Helvetica,sans-Serif\" font-size=\"14.00\" fill=\"#000000\">(...)</text>\n</g>\n<!-- 3&#45;&gt;4 -->\n<g id=\"edge4\" class=\"edge\">\n<title>3&#45;&gt;4</title>\n<path fill=\"none\" stroke=\"#000000\" d=\"M89.5949,-71.9768C85.9741,-63.327 82.0874,-54.0421 78.5761,-45.654\"/>\n<polygon fill=\"#000000\" stroke=\"#000000\" points=\"81.755,-44.1837 74.665,-36.3108 75.2979,-46.8867 81.755,-44.1837\"/>\n</g>\n<!-- 81 -->\n<g id=\"node6\" class=\"node\">\n<title>81</title>\n<path fill=\"#c0c0c0\" stroke=\"#000000\" d=\"M154,-36C154,-36 124,-36 124,-36 118,-36 112,-30 112,-24 112,-24 112,-12 112,-12 112,-6 118,0 124,0 124,0 154,0 154,0 160,0 166,-6 166,-12 166,-12 166,-24 166,-24 166,-30 160,-36 154,-36\"/>\n<text text-anchor=\"middle\" x=\"139\" y=\"-14.3\" font-family=\"Helvetica,sans-Serif\" font-size=\"14.00\" fill=\"#000000\">(...)</text>\n</g>\n<!-- 3&#45;&gt;81 -->\n<g id=\"edge5\" class=\"edge\">\n<title>3&#45;&gt;81</title>\n<path fill=\"none\" stroke=\"#000000\" d=\"M116.4051,-71.9768C120.0259,-63.327 123.9126,-54.0421 127.4239,-45.654\"/>\n<polygon fill=\"#000000\" stroke=\"#000000\" points=\"130.7021,-46.8867 131.335,-36.3108 124.245,-44.1837 130.7021,-46.8867\"/>\n</g>\n<!-- 97 -->\n<g id=\"node8\" class=\"node\">\n<title>97</title>\n<path fill=\"#c0c0c0\" stroke=\"#000000\" d=\"M302,-36C302,-36 272,-36 272,-36 266,-36 260,-30 260,-24 260,-24 260,-12 260,-12 260,-6 266,0 272,0 272,0 302,0 302,0 308,0 314,-6 314,-12 314,-12 314,-24 314,-24 314,-30 308,-36 302,-36\"/>\n<text text-anchor=\"middle\" x=\"287\" y=\"-14.3\" font-family=\"Helvetica,sans-Serif\" font-size=\"14.00\" fill=\"#000000\">(...)</text>\n</g>\n<!-- 96&#45;&gt;97 -->\n<g id=\"edge7\" class=\"edge\">\n<title>96&#45;&gt;97</title>\n<path fill=\"none\" stroke=\"#000000\" d=\"M309.5949,-71.9768C305.9741,-63.327 302.0874,-54.0421 298.5761,-45.654\"/>\n<polygon fill=\"#000000\" stroke=\"#000000\" points=\"301.755,-44.1837 294.665,-36.3108 295.2979,-46.8867 301.755,-44.1837\"/>\n</g>\n<!-- 156 -->\n<g id=\"node9\" class=\"node\">\n<title>156</title>\n<path fill=\"#c0c0c0\" stroke=\"#000000\" d=\"M374,-36C374,-36 344,-36 344,-36 338,-36 332,-30 332,-24 332,-24 332,-12 332,-12 332,-6 338,0 344,0 344,0 374,0 374,0 380,0 386,-6 386,-12 386,-12 386,-24 386,-24 386,-30 380,-36 374,-36\"/>\n<text text-anchor=\"middle\" x=\"359\" y=\"-14.3\" font-family=\"Helvetica,sans-Serif\" font-size=\"14.00\" fill=\"#000000\">(...)</text>\n</g>\n<!-- 96&#45;&gt;156 -->\n<g id=\"edge8\" class=\"edge\">\n<title>96&#45;&gt;156</title>\n<path fill=\"none\" stroke=\"#000000\" d=\"M336.4051,-71.9768C340.0259,-63.327 343.9126,-54.0421 347.4239,-45.654\"/>\n<polygon fill=\"#000000\" stroke=\"#000000\" points=\"350.7021,-46.8867 351.335,-36.3108 344.245,-44.1837 350.7021,-46.8867\"/>\n</g>\n<!-- 176 -->\n<g id=\"node11\" class=\"node\">\n<title>176</title>\n<path fill=\"#47a4e7\" stroke=\"#000000\" d=\"M651.5,-136C651.5,-136 452.5,-136 452.5,-136 446.5,-136 440.5,-130 440.5,-124 440.5,-124 440.5,-84 440.5,-84 440.5,-78 446.5,-72 452.5,-72 452.5,-72 651.5,-72 651.5,-72 657.5,-72 663.5,-78 663.5,-84 663.5,-84 663.5,-124 663.5,-124 663.5,-130 657.5,-136 651.5,-136\"/>\n<text text-anchor=\"start\" x=\"510.5\" y=\"-121.8\" font-family=\"Helvetica,sans-Serif\" font-size=\"14.00\" fill=\"#000000\">X</text>\n<text text-anchor=\"start\" x=\"520.5\" y=\"-121.8\" font-family=\"Helvetica,sans-Serif\" baseline-shift=\"sub\" font-size=\"14.00\" fill=\"#000000\">262</text>\n<text text-anchor=\"start\" x=\"541.5\" y=\"-121.8\" font-family=\"Helvetica,sans-Serif\" font-size=\"14.00\" fill=\"#000000\"> ≤ 0.002</text>\n<text text-anchor=\"start\" x=\"514\" y=\"-107.8\" font-family=\"Helvetica,sans-Serif\" font-size=\"14.00\" fill=\"#000000\">gini = 0.125</text>\n<text text-anchor=\"start\" x=\"500\" y=\"-93.8\" font-family=\"Helvetica,sans-Serif\" font-size=\"14.00\" fill=\"#000000\">samples = 9979</text>\n<text text-anchor=\"start\" x=\"448.5\" y=\"-79.8\" font-family=\"Helvetica,sans-Serif\" font-size=\"14.00\" fill=\"#000000\">value = [24392556, 338774138]</text>\n</g>\n<!-- 175&#45;&gt;176 -->\n<g id=\"edge10\" class=\"edge\">\n<title>175&#45;&gt;176</title>\n<path fill=\"none\" stroke=\"#000000\" d=\"M627.946,-171.8089C617.6544,-162.62 606.329,-152.508 595.6365,-142.9612\"/>\n<polygon fill=\"#000000\" stroke=\"#000000\" points=\"597.7769,-140.1802 587.9865,-136.1308 593.1148,-145.4017 597.7769,-140.1802\"/>\n</g>\n<!-- 579 -->\n<g id=\"node14\" class=\"node\">\n<title>579</title>\n<path fill=\"#ea9a61\" stroke=\"#000000\" d=\"M876,-136C876,-136 694,-136 694,-136 688,-136 682,-130 682,-124 682,-124 682,-84 682,-84 682,-78 688,-72 694,-72 694,-72 876,-72 876,-72 882,-72 888,-78 888,-84 888,-84 888,-124 888,-124 888,-130 882,-136 876,-136\"/>\n<text text-anchor=\"start\" x=\"743.5\" y=\"-121.8\" font-family=\"Helvetica,sans-Serif\" font-size=\"14.00\" fill=\"#000000\">X</text>\n<text text-anchor=\"start\" x=\"753.5\" y=\"-121.8\" font-family=\"Helvetica,sans-Serif\" baseline-shift=\"sub\" font-size=\"14.00\" fill=\"#000000\">293</text>\n<text text-anchor=\"start\" x=\"774.5\" y=\"-121.8\" font-family=\"Helvetica,sans-Serif\" font-size=\"14.00\" fill=\"#000000\"> ≤ 0.912</text>\n<text text-anchor=\"start\" x=\"747\" y=\"-107.8\" font-family=\"Helvetica,sans-Serif\" font-size=\"14.00\" fill=\"#000000\">gini = 0.278</text>\n<text text-anchor=\"start\" x=\"733\" y=\"-93.8\" font-family=\"Helvetica,sans-Serif\" font-size=\"14.00\" fill=\"#000000\">samples = 3847</text>\n<text text-anchor=\"start\" x=\"690\" y=\"-79.8\" font-family=\"Helvetica,sans-Serif\" font-size=\"14.00\" fill=\"#000000\">value = [25295984, 5059510]</text>\n</g>\n<!-- 175&#45;&gt;579 -->\n<g id=\"edge13\" class=\"edge\">\n<title>175&#45;&gt;579</title>\n<path fill=\"none\" stroke=\"#000000\" d=\"M702.9512,-171.8089C714.1777,-162.5308 726.5429,-152.3116 738.1932,-142.6833\"/>\n<polygon fill=\"#000000\" stroke=\"#000000\" points=\"740.6432,-145.1992 746.1218,-136.1308 736.1838,-139.8034 740.6432,-145.1992\"/>\n</g>\n<!-- 177 -->\n<g id=\"node12\" class=\"node\">\n<title>177</title>\n<path fill=\"#c0c0c0\" stroke=\"#000000\" d=\"M531,-36C531,-36 501,-36 501,-36 495,-36 489,-30 489,-24 489,-24 489,-12 489,-12 489,-6 495,0 501,0 501,0 531,0 531,0 537,0 543,-6 543,-12 543,-12 543,-24 543,-24 543,-30 537,-36 531,-36\"/>\n<text text-anchor=\"middle\" x=\"516\" y=\"-14.3\" font-family=\"Helvetica,sans-Serif\" font-size=\"14.00\" fill=\"#000000\">(...)</text>\n</g>\n<!-- 176&#45;&gt;177 -->\n<g id=\"edge11\" class=\"edge\">\n<title>176&#45;&gt;177</title>\n<path fill=\"none\" stroke=\"#000000\" d=\"M538.5949,-71.9768C534.9741,-63.327 531.0874,-54.0421 527.5761,-45.654\"/>\n<polygon fill=\"#000000\" stroke=\"#000000\" points=\"530.755,-44.1837 523.665,-36.3108 524.2979,-46.8867 530.755,-44.1837\"/>\n</g>\n<!-- 534 -->\n<g id=\"node13\" class=\"node\">\n<title>534</title>\n<path fill=\"#c0c0c0\" stroke=\"#000000\" d=\"M603,-36C603,-36 573,-36 573,-36 567,-36 561,-30 561,-24 561,-24 561,-12 561,-12 561,-6 567,0 573,0 573,0 603,0 603,0 609,0 615,-6 615,-12 615,-12 615,-24 615,-24 615,-30 609,-36 603,-36\"/>\n<text text-anchor=\"middle\" x=\"588\" y=\"-14.3\" font-family=\"Helvetica,sans-Serif\" font-size=\"14.00\" fill=\"#000000\">(...)</text>\n</g>\n<!-- 176&#45;&gt;534 -->\n<g id=\"edge12\" class=\"edge\">\n<title>176&#45;&gt;534</title>\n<path fill=\"none\" stroke=\"#000000\" d=\"M565.4051,-71.9768C569.0259,-63.327 572.9126,-54.0421 576.4239,-45.654\"/>\n<polygon fill=\"#000000\" stroke=\"#000000\" points=\"579.7021,-46.8867 580.335,-36.3108 573.245,-44.1837 579.7021,-46.8867\"/>\n</g>\n<!-- 580 -->\n<g id=\"node15\" class=\"node\">\n<title>580</title>\n<path fill=\"#c0c0c0\" stroke=\"#000000\" d=\"M764,-36C764,-36 734,-36 734,-36 728,-36 722,-30 722,-24 722,-24 722,-12 722,-12 722,-6 728,0 734,0 734,0 764,0 764,0 770,0 776,-6 776,-12 776,-12 776,-24 776,-24 776,-30 770,-36 764,-36\"/>\n<text text-anchor=\"middle\" x=\"749\" y=\"-14.3\" font-family=\"Helvetica,sans-Serif\" font-size=\"14.00\" fill=\"#000000\">(...)</text>\n</g>\n<!-- 579&#45;&gt;580 -->\n<g id=\"edge14\" class=\"edge\">\n<title>579&#45;&gt;580</title>\n<path fill=\"none\" stroke=\"#000000\" d=\"M771.5949,-71.9768C767.9741,-63.327 764.0874,-54.0421 760.5761,-45.654\"/>\n<polygon fill=\"#000000\" stroke=\"#000000\" points=\"763.755,-44.1837 756.665,-36.3108 757.2979,-46.8867 763.755,-44.1837\"/>\n</g>\n<!-- 609 -->\n<g id=\"node16\" class=\"node\">\n<title>609</title>\n<path fill=\"#c0c0c0\" stroke=\"#000000\" d=\"M836,-36C836,-36 806,-36 806,-36 800,-36 794,-30 794,-24 794,-24 794,-12 794,-12 794,-6 800,0 806,0 806,0 836,0 836,0 842,0 848,-6 848,-12 848,-12 848,-24 848,-24 848,-30 842,-36 836,-36\"/>\n<text text-anchor=\"middle\" x=\"821\" y=\"-14.3\" font-family=\"Helvetica,sans-Serif\" font-size=\"14.00\" fill=\"#000000\">(...)</text>\n</g>\n<!-- 579&#45;&gt;609 -->\n<g id=\"edge15\" class=\"edge\">\n<title>579&#45;&gt;609</title>\n<path fill=\"none\" stroke=\"#000000\" d=\"M798.4051,-71.9768C802.0259,-63.327 805.9126,-54.0421 809.4239,-45.654\"/>\n<polygon fill=\"#000000\" stroke=\"#000000\" points=\"812.7021,-46.8867 813.335,-36.3108 806.245,-44.1837 812.7021,-46.8867\"/>\n</g>\n<!-- 643 -->\n<g id=\"node18\" class=\"node\">\n<title>643</title>\n<path fill=\"#e5823a\" stroke=\"#000000\" d=\"M1198.5,-236C1198.5,-236 1007.5,-236 1007.5,-236 1001.5,-236 995.5,-230 995.5,-224 995.5,-224 995.5,-184 995.5,-184 995.5,-178 1001.5,-172 1007.5,-172 1007.5,-172 1198.5,-172 1198.5,-172 1204.5,-172 1210.5,-178 1210.5,-184 1210.5,-184 1210.5,-224 1210.5,-224 1210.5,-230 1204.5,-236 1198.5,-236\"/>\n<text text-anchor=\"start\" x=\"1061.5\" y=\"-221.8\" font-family=\"Helvetica,sans-Serif\" font-size=\"14.00\" fill=\"#000000\">X</text>\n<text text-anchor=\"start\" x=\"1071.5\" y=\"-221.8\" font-family=\"Helvetica,sans-Serif\" baseline-shift=\"sub\" font-size=\"14.00\" fill=\"#000000\">171</text>\n<text text-anchor=\"start\" x=\"1092.5\" y=\"-221.8\" font-family=\"Helvetica,sans-Serif\" font-size=\"14.00\" fill=\"#000000\"> ≤ 0.973</text>\n<text text-anchor=\"start\" x=\"1065\" y=\"-207.8\" font-family=\"Helvetica,sans-Serif\" font-size=\"14.00\" fill=\"#000000\">gini = 0.014</text>\n<text text-anchor=\"start\" x=\"1047\" y=\"-193.8\" font-family=\"Helvetica,sans-Serif\" font-size=\"14.00\" fill=\"#000000\">samples = 28921</text>\n<text text-anchor=\"start\" x=\"1003.5\" y=\"-179.8\" font-family=\"Helvetica,sans-Serif\" font-size=\"14.00\" fill=\"#000000\">value = [194810090, 1384708]</text>\n</g>\n<!-- 642&#45;&gt;643 -->\n<g id=\"edge17\" class=\"edge\">\n<title>642&#45;&gt;643</title>\n<path fill=\"none\" stroke=\"#000000\" d=\"M1103,-271.8089C1103,-263.6906 1103,-254.8517 1103,-246.3186\"/>\n<polygon fill=\"#000000\" stroke=\"#000000\" points=\"1106.5001,-246.1307 1103,-236.1308 1099.5001,-246.1308 1106.5001,-246.1307\"/>\n</g>\n<!-- 716 -->\n<g id=\"node25\" class=\"node\">\n<title>716</title>\n<path fill=\"#e89151\" stroke=\"#000000\" d=\"M1513,-236C1513,-236 1331,-236 1331,-236 1325,-236 1319,-230 1319,-224 1319,-224 1319,-184 1319,-184 1319,-178 1325,-172 1331,-172 1331,-172 1513,-172 1513,-172 1519,-172 1525,-178 1525,-184 1525,-184 1525,-224 1525,-224 1525,-230 1519,-236 1513,-236\"/>\n<text text-anchor=\"start\" x=\"1380.5\" y=\"-221.8\" font-family=\"Helvetica,sans-Serif\" font-size=\"14.00\" fill=\"#000000\">X</text>\n<text text-anchor=\"start\" x=\"1390.5\" y=\"-221.8\" font-family=\"Helvetica,sans-Serif\" baseline-shift=\"sub\" font-size=\"14.00\" fill=\"#000000\">489</text>\n<text text-anchor=\"start\" x=\"1411.5\" y=\"-221.8\" font-family=\"Helvetica,sans-Serif\" font-size=\"14.00\" fill=\"#000000\"> ≤ 0.931</text>\n<text text-anchor=\"start\" x=\"1384\" y=\"-207.8\" font-family=\"Helvetica,sans-Serif\" font-size=\"14.00\" fill=\"#000000\">gini = 0.196</text>\n<text text-anchor=\"start\" x=\"1370\" y=\"-193.8\" font-family=\"Helvetica,sans-Serif\" font-size=\"14.00\" fill=\"#000000\">samples = 6297</text>\n<text text-anchor=\"start\" x=\"1327\" y=\"-179.8\" font-family=\"Helvetica,sans-Serif\" font-size=\"14.00\" fill=\"#000000\">value = [41800400, 5166026]</text>\n</g>\n<!-- 642&#45;&gt;716 -->\n<g id=\"edge24\" class=\"edge\">\n<title>642&#45;&gt;716</title>\n<path fill=\"none\" stroke=\"#000000\" d=\"M1205.2499,-271.9467C1238.5889,-261.4956 1275.7755,-249.8384 1309.8039,-239.1712\"/>\n<polygon fill=\"#000000\" stroke=\"#000000\" points=\"1311.2867,-242.3744 1319.7819,-236.0433 1309.1928,-235.6949 1311.2867,-242.3744\"/>\n</g>\n<!-- 644 -->\n<g id=\"node19\" class=\"node\">\n<title>644</title>\n<path fill=\"#e5823a\" stroke=\"#000000\" d=\"M1109.5,-136C1109.5,-136 918.5,-136 918.5,-136 912.5,-136 906.5,-130 906.5,-124 906.5,-124 906.5,-84 906.5,-84 906.5,-78 912.5,-72 918.5,-72 918.5,-72 1109.5,-72 1109.5,-72 1115.5,-72 1121.5,-78 1121.5,-84 1121.5,-84 1121.5,-124 1121.5,-124 1121.5,-130 1115.5,-136 1109.5,-136\"/>\n<text text-anchor=\"start\" x=\"976.5\" y=\"-121.8\" font-family=\"Helvetica,sans-Serif\" font-size=\"14.00\" fill=\"#000000\">X</text>\n<text text-anchor=\"start\" x=\"986.5\" y=\"-121.8\" font-family=\"Helvetica,sans-Serif\" baseline-shift=\"sub\" font-size=\"14.00\" fill=\"#000000\">438</text>\n<text text-anchor=\"start\" x=\"1007.5\" y=\"-121.8\" font-family=\"Helvetica,sans-Serif\" font-size=\"14.00\" fill=\"#000000\"> ≤ 0.21</text>\n<text text-anchor=\"start\" x=\"976\" y=\"-107.8\" font-family=\"Helvetica,sans-Serif\" font-size=\"14.00\" fill=\"#000000\">gini = 0.013</text>\n<text text-anchor=\"start\" x=\"958\" y=\"-93.8\" font-family=\"Helvetica,sans-Serif\" font-size=\"14.00\" fill=\"#000000\">samples = 28916</text>\n<text text-anchor=\"start\" x=\"914.5\" y=\"-79.8\" font-family=\"Helvetica,sans-Serif\" font-size=\"14.00\" fill=\"#000000\">value = [194783122, 1331450]</text>\n</g>\n<!-- 643&#45;&gt;644 -->\n<g id=\"edge18\" class=\"edge\">\n<title>643&#45;&gt;644</title>\n<path fill=\"none\" stroke=\"#000000\" d=\"M1074.3499,-171.8089C1066.41,-162.8877 1057.6957,-153.0963 1049.4191,-143.7968\"/>\n<polygon fill=\"#000000\" stroke=\"#000000\" points=\"1051.8592,-141.2738 1042.5964,-136.1308 1046.6302,-145.9277 1051.8592,-141.2738\"/>\n</g>\n<!-- 713 -->\n<g id=\"node22\" class=\"node\">\n<title>713</title>\n<path fill=\"#9dcff2\" stroke=\"#000000\" d=\"M1292.5,-136C1292.5,-136 1151.5,-136 1151.5,-136 1145.5,-136 1139.5,-130 1139.5,-124 1139.5,-124 1139.5,-84 1139.5,-84 1139.5,-78 1145.5,-72 1151.5,-72 1151.5,-72 1292.5,-72 1292.5,-72 1298.5,-72 1304.5,-78 1304.5,-84 1304.5,-84 1304.5,-124 1304.5,-124 1304.5,-130 1298.5,-136 1292.5,-136\"/>\n<text text-anchor=\"start\" x=\"1180.5\" y=\"-121.8\" font-family=\"Helvetica,sans-Serif\" font-size=\"14.00\" fill=\"#000000\">X</text>\n<text text-anchor=\"start\" x=\"1190.5\" y=\"-121.8\" font-family=\"Helvetica,sans-Serif\" baseline-shift=\"sub\" font-size=\"14.00\" fill=\"#000000\">433</text>\n<text text-anchor=\"start\" x=\"1211.5\" y=\"-121.8\" font-family=\"Helvetica,sans-Serif\" font-size=\"14.00\" fill=\"#000000\"> ≤ 0.994</text>\n<text text-anchor=\"start\" x=\"1184\" y=\"-107.8\" font-family=\"Helvetica,sans-Serif\" font-size=\"14.00\" fill=\"#000000\">gini = 0.446</text>\n<text text-anchor=\"start\" x=\"1182.5\" y=\"-93.8\" font-family=\"Helvetica,sans-Serif\" font-size=\"14.00\" fill=\"#000000\">samples = 5</text>\n<text text-anchor=\"start\" x=\"1147.5\" y=\"-79.8\" font-family=\"Helvetica,sans-Serif\" font-size=\"14.00\" fill=\"#000000\">value = [26968, 53258]</text>\n</g>\n<!-- 643&#45;&gt;713 -->\n<g id=\"edge21\" class=\"edge\">\n<title>643&#45;&gt;713</title>\n<path fill=\"none\" stroke=\"#000000\" d=\"M1141.3074,-171.8089C1152.3483,-162.5308 1164.5092,-152.3116 1175.9669,-142.6833\"/>\n<polygon fill=\"#000000\" stroke=\"#000000\" points=\"1178.3603,-145.2438 1183.7644,-136.1308 1173.8569,-139.8847 1178.3603,-145.2438\"/>\n</g>\n<!-- 645 -->\n<g id=\"node20\" class=\"node\">\n<title>645</title>\n<path fill=\"#c0c0c0\" stroke=\"#000000\" d=\"M989,-36C989,-36 959,-36 959,-36 953,-36 947,-30 947,-24 947,-24 947,-12 947,-12 947,-6 953,0 959,0 959,0 989,0 989,0 995,0 1001,-6 1001,-12 1001,-12 1001,-24 1001,-24 1001,-30 995,-36 989,-36\"/>\n<text text-anchor=\"middle\" x=\"974\" y=\"-14.3\" font-family=\"Helvetica,sans-Serif\" font-size=\"14.00\" fill=\"#000000\">(...)</text>\n</g>\n<!-- 644&#45;&gt;645 -->\n<g id=\"edge19\" class=\"edge\">\n<title>644&#45;&gt;645</title>\n<path fill=\"none\" stroke=\"#000000\" d=\"M999.1055,-71.9768C995.0386,-63.233 990.6699,-53.8402 986.7352,-45.3808\"/>\n<polygon fill=\"#000000\" stroke=\"#000000\" points=\"989.9075,-43.9019 982.5166,-36.3108 983.5605,-46.854 989.9075,-43.9019\"/>\n</g>\n<!-- 696 -->\n<g id=\"node21\" class=\"node\">\n<title>696</title>\n<path fill=\"#c0c0c0\" stroke=\"#000000\" d=\"M1061,-36C1061,-36 1031,-36 1031,-36 1025,-36 1019,-30 1019,-24 1019,-24 1019,-12 1019,-12 1019,-6 1025,0 1031,0 1031,0 1061,0 1061,0 1067,0 1073,-6 1073,-12 1073,-12 1073,-24 1073,-24 1073,-30 1067,-36 1061,-36\"/>\n<text text-anchor=\"middle\" x=\"1046\" y=\"-14.3\" font-family=\"Helvetica,sans-Serif\" font-size=\"14.00\" fill=\"#000000\">(...)</text>\n</g>\n<!-- 644&#45;&gt;696 -->\n<g id=\"edge20\" class=\"edge\">\n<title>644&#45;&gt;696</title>\n<path fill=\"none\" stroke=\"#000000\" d=\"M1025.9156,-71.9768C1029.0992,-63.421 1032.5139,-54.2439 1035.6083,-45.9278\"/>\n<polygon fill=\"#000000\" stroke=\"#000000\" points=\"1038.9796,-46.9036 1039.1867,-36.3108 1032.419,-44.4624 1038.9796,-46.9036\"/>\n</g>\n<!-- 714 -->\n<g id=\"node23\" class=\"node\">\n<title>714</title>\n<path fill=\"#c0c0c0\" stroke=\"#000000\" d=\"M1193,-36C1193,-36 1163,-36 1163,-36 1157,-36 1151,-30 1151,-24 1151,-24 1151,-12 1151,-12 1151,-6 1157,0 1163,0 1163,0 1193,0 1193,0 1199,0 1205,-6 1205,-12 1205,-12 1205,-24 1205,-24 1205,-30 1199,-36 1193,-36\"/>\n<text text-anchor=\"middle\" x=\"1178\" y=\"-14.3\" font-family=\"Helvetica,sans-Serif\" font-size=\"14.00\" fill=\"#000000\">(...)</text>\n</g>\n<!-- 713&#45;&gt;714 -->\n<g id=\"edge22\" class=\"edge\">\n<title>713&#45;&gt;714</title>\n<path fill=\"none\" stroke=\"#000000\" d=\"M1205.616,-71.9768C1201.1424,-63.233 1196.3368,-53.8402 1192.0088,-45.3808\"/>\n<polygon fill=\"#000000\" stroke=\"#000000\" points=\"1195.039,-43.6191 1187.3683,-36.3108 1188.8072,-46.8074 1195.039,-43.6191\"/>\n</g>\n<!-- 715 -->\n<g id=\"node24\" class=\"node\">\n<title>715</title>\n<path fill=\"#c0c0c0\" stroke=\"#000000\" d=\"M1265,-36C1265,-36 1235,-36 1235,-36 1229,-36 1223,-30 1223,-24 1223,-24 1223,-12 1223,-12 1223,-6 1229,0 1235,0 1235,0 1265,0 1265,0 1271,0 1277,-6 1277,-12 1277,-12 1277,-24 1277,-24 1277,-30 1271,-36 1265,-36\"/>\n<text text-anchor=\"middle\" x=\"1250\" y=\"-14.3\" font-family=\"Helvetica,sans-Serif\" font-size=\"14.00\" fill=\"#000000\">(...)</text>\n</g>\n<!-- 713&#45;&gt;715 -->\n<g id=\"edge23\" class=\"edge\">\n<title>713&#45;&gt;715</title>\n<path fill=\"none\" stroke=\"#000000\" d=\"M1232.4262,-71.9768C1235.2118,-63.421 1238.1997,-54.2439 1240.9072,-45.9278\"/>\n<polygon fill=\"#000000\" stroke=\"#000000\" points=\"1244.2705,-46.903 1244.0384,-36.3108 1237.6144,-44.7359 1244.2705,-46.903\"/>\n</g>\n<!-- 717 -->\n<g id=\"node26\" class=\"node\">\n<title>717</title>\n<path fill=\"#e5833c\" stroke=\"#000000\" d=\"M1509,-136C1509,-136 1335,-136 1335,-136 1329,-136 1323,-130 1323,-124 1323,-124 1323,-84 1323,-84 1323,-78 1329,-72 1335,-72 1335,-72 1509,-72 1509,-72 1515,-72 1521,-78 1521,-84 1521,-84 1521,-124 1521,-124 1521,-130 1515,-136 1509,-136\"/>\n<text text-anchor=\"start\" x=\"1380.5\" y=\"-121.8\" font-family=\"Helvetica,sans-Serif\" font-size=\"14.00\" fill=\"#000000\">X</text>\n<text text-anchor=\"start\" x=\"1390.5\" y=\"-121.8\" font-family=\"Helvetica,sans-Serif\" baseline-shift=\"sub\" font-size=\"14.00\" fill=\"#000000\">613</text>\n<text text-anchor=\"start\" x=\"1411.5\" y=\"-121.8\" font-family=\"Helvetica,sans-Serif\" font-size=\"14.00\" fill=\"#000000\"> ≤ 0.806</text>\n<text text-anchor=\"start\" x=\"1384\" y=\"-107.8\" font-family=\"Helvetica,sans-Serif\" font-size=\"14.00\" fill=\"#000000\">gini = 0.031</text>\n<text text-anchor=\"start\" x=\"1370\" y=\"-93.8\" font-family=\"Helvetica,sans-Serif\" font-size=\"14.00\" fill=\"#000000\">samples = 5474</text>\n<text text-anchor=\"start\" x=\"1331\" y=\"-79.8\" font-family=\"Helvetica,sans-Serif\" font-size=\"14.00\" fill=\"#000000\">value = [36831546, 585838]</text>\n</g>\n<!-- 716&#45;&gt;717 -->\n<g id=\"edge25\" class=\"edge\">\n<title>716&#45;&gt;717</title>\n<path fill=\"none\" stroke=\"#000000\" d=\"M1422,-171.8089C1422,-163.6906 1422,-154.8517 1422,-146.3186\"/>\n<polygon fill=\"#000000\" stroke=\"#000000\" points=\"1425.5001,-146.1307 1422,-136.1308 1418.5001,-146.1308 1425.5001,-146.1307\"/>\n</g>\n<!-- 744 -->\n<g id=\"node29\" class=\"node\">\n<title>744</title>\n<path fill=\"#fdf5f0\" stroke=\"#000000\" d=\"M1725,-136C1725,-136 1551,-136 1551,-136 1545,-136 1539,-130 1539,-124 1539,-124 1539,-84 1539,-84 1539,-78 1545,-72 1551,-72 1551,-72 1725,-72 1725,-72 1731,-72 1737,-78 1737,-84 1737,-84 1737,-124 1737,-124 1737,-130 1731,-136 1725,-136\"/>\n<text text-anchor=\"start\" x=\"1596.5\" y=\"-121.8\" font-family=\"Helvetica,sans-Serif\" font-size=\"14.00\" fill=\"#000000\">X</text>\n<text text-anchor=\"start\" x=\"1606.5\" y=\"-121.8\" font-family=\"Helvetica,sans-Serif\" baseline-shift=\"sub\" font-size=\"14.00\" fill=\"#000000\">439</text>\n<text text-anchor=\"start\" x=\"1627.5\" y=\"-121.8\" font-family=\"Helvetica,sans-Serif\" font-size=\"14.00\" fill=\"#000000\"> ≤ 0.004</text>\n<text text-anchor=\"start\" x=\"1600\" y=\"-107.8\" font-family=\"Helvetica,sans-Serif\" font-size=\"14.00\" fill=\"#000000\">gini = 0.499</text>\n<text text-anchor=\"start\" x=\"1590\" y=\"-93.8\" font-family=\"Helvetica,sans-Serif\" font-size=\"14.00\" fill=\"#000000\">samples = 823</text>\n<text text-anchor=\"start\" x=\"1547\" y=\"-79.8\" font-family=\"Helvetica,sans-Serif\" font-size=\"14.00\" fill=\"#000000\">value = [4968854, 4580188]</text>\n</g>\n<!-- 716&#45;&gt;744 -->\n<g id=\"edge28\" class=\"edge\">\n<title>716&#45;&gt;744</title>\n<path fill=\"none\" stroke=\"#000000\" d=\"M1491.235,-171.9467C1513.0343,-161.8545 1537.2631,-150.6375 1559.6495,-140.2734\"/>\n<polygon fill=\"#000000\" stroke=\"#000000\" points=\"1561.1823,-143.4207 1568.7865,-136.0433 1558.2413,-137.0685 1561.1823,-143.4207\"/>\n</g>\n<!-- 718 -->\n<g id=\"node27\" class=\"node\">\n<title>718</title>\n<path fill=\"#c0c0c0\" stroke=\"#000000\" d=\"M1401,-36C1401,-36 1371,-36 1371,-36 1365,-36 1359,-30 1359,-24 1359,-24 1359,-12 1359,-12 1359,-6 1365,0 1371,0 1371,0 1401,0 1401,0 1407,0 1413,-6 1413,-12 1413,-12 1413,-24 1413,-24 1413,-30 1407,-36 1401,-36\"/>\n<text text-anchor=\"middle\" x=\"1386\" y=\"-14.3\" font-family=\"Helvetica,sans-Serif\" font-size=\"14.00\" fill=\"#000000\">(...)</text>\n</g>\n<!-- 717&#45;&gt;718 -->\n<g id=\"edge26\" class=\"edge\">\n<title>717&#45;&gt;718</title>\n<path fill=\"none\" stroke=\"#000000\" d=\"M1408.5949,-71.9768C1404.9741,-63.327 1401.0874,-54.0421 1397.5761,-45.654\"/>\n<polygon fill=\"#000000\" stroke=\"#000000\" points=\"1400.755,-44.1837 1393.665,-36.3108 1394.2979,-46.8867 1400.755,-44.1837\"/>\n</g>\n<!-- 743 -->\n<g id=\"node28\" class=\"node\">\n<title>743</title>\n<path fill=\"#c0c0c0\" stroke=\"#000000\" d=\"M1473,-36C1473,-36 1443,-36 1443,-36 1437,-36 1431,-30 1431,-24 1431,-24 1431,-12 1431,-12 1431,-6 1437,0 1443,0 1443,0 1473,0 1473,0 1479,0 1485,-6 1485,-12 1485,-12 1485,-24 1485,-24 1485,-30 1479,-36 1473,-36\"/>\n<text text-anchor=\"middle\" x=\"1458\" y=\"-14.3\" font-family=\"Helvetica,sans-Serif\" font-size=\"14.00\" fill=\"#000000\">(...)</text>\n</g>\n<!-- 717&#45;&gt;743 -->\n<g id=\"edge27\" class=\"edge\">\n<title>717&#45;&gt;743</title>\n<path fill=\"none\" stroke=\"#000000\" d=\"M1435.4051,-71.9768C1439.0259,-63.327 1442.9126,-54.0421 1446.4239,-45.654\"/>\n<polygon fill=\"#000000\" stroke=\"#000000\" points=\"1449.7021,-46.8867 1450.335,-36.3108 1443.245,-44.1837 1449.7021,-46.8867\"/>\n</g>\n<!-- 745 -->\n<g id=\"node30\" class=\"node\">\n<title>745</title>\n<path fill=\"#c0c0c0\" stroke=\"#000000\" d=\"M1617,-36C1617,-36 1587,-36 1587,-36 1581,-36 1575,-30 1575,-24 1575,-24 1575,-12 1575,-12 1575,-6 1581,0 1587,0 1587,0 1617,0 1617,0 1623,0 1629,-6 1629,-12 1629,-12 1629,-24 1629,-24 1629,-30 1623,-36 1617,-36\"/>\n<text text-anchor=\"middle\" x=\"1602\" y=\"-14.3\" font-family=\"Helvetica,sans-Serif\" font-size=\"14.00\" fill=\"#000000\">(...)</text>\n</g>\n<!-- 744&#45;&gt;745 -->\n<g id=\"edge29\" class=\"edge\">\n<title>744&#45;&gt;745</title>\n<path fill=\"none\" stroke=\"#000000\" d=\"M1624.5949,-71.9768C1620.9741,-63.327 1617.0874,-54.0421 1613.5761,-45.654\"/>\n<polygon fill=\"#000000\" stroke=\"#000000\" points=\"1616.755,-44.1837 1609.665,-36.3108 1610.2979,-46.8867 1616.755,-44.1837\"/>\n</g>\n<!-- 780 -->\n<g id=\"node31\" class=\"node\">\n<title>780</title>\n<path fill=\"#c0c0c0\" stroke=\"#000000\" d=\"M1689,-36C1689,-36 1659,-36 1659,-36 1653,-36 1647,-30 1647,-24 1647,-24 1647,-12 1647,-12 1647,-6 1653,0 1659,0 1659,0 1689,0 1689,0 1695,0 1701,-6 1701,-12 1701,-12 1701,-24 1701,-24 1701,-30 1695,-36 1689,-36\"/>\n<text text-anchor=\"middle\" x=\"1674\" y=\"-14.3\" font-family=\"Helvetica,sans-Serif\" font-size=\"14.00\" fill=\"#000000\">(...)</text>\n</g>\n<!-- 744&#45;&gt;780 -->\n<g id=\"edge30\" class=\"edge\">\n<title>744&#45;&gt;780</title>\n<path fill=\"none\" stroke=\"#000000\" d=\"M1651.4051,-71.9768C1655.0259,-63.327 1658.9126,-54.0421 1662.4239,-45.654\"/>\n<polygon fill=\"#000000\" stroke=\"#000000\" points=\"1665.7021,-46.8867 1666.335,-36.3108 1659.245,-44.1837 1665.7021,-46.8867\"/>\n</g>\n</g>\n</svg>\n"
          },
          "metadata": {},
          "execution_count": 59
        }
      ]
    },
    {
      "cell_type": "markdown",
      "source": [
        "# Task2"
      ],
      "metadata": {
        "id": "RrQmGbsfBVkM"
      }
    },
    {
      "cell_type": "markdown",
      "source": [
        "We choose **Random Forest** as our bagging ensemble method, and we choose **AdaBoost** as our boosting ensemble method. We use 10-fold cross validation to find the effective of both the models.\n",
        "\n",
        "**Random Forest** has `fit_time=20.58s`, `predict_time=0.1654s`, and `accuracy=0.9949`. **AdaBoost** has `fit_time=`"
      ],
      "metadata": {
        "id": "XrMqEnDPefjC"
      }
    },
    {
      "cell_type": "code",
      "execution_count": 15,
      "metadata": {
        "colab": {
          "base_uri": "https://localhost:8080/"
        },
        "id": "-efj3Hs3iW9-",
        "outputId": "4c4e49bf-6f68-46ae-805a-01602e28aaa6"
      },
      "outputs": [
        {
          "output_type": "stream",
          "name": "stdout",
          "text": [
            "[RandomForest]avg_fit_time = 20.58387064933777s\n",
            "[RandomForest]avg_pred_time = 0.16544511318206787s\n",
            "[RandomForest]avg_test_score = 0.9948666666666668\n",
            "\n",
            "[AdaBoost]avg_fit_time = 143.41250908374786s\n",
            "[AdaBoost]avg_pred_time = 1.3748717784881592s\n",
            "[AdaBoost]avg_test_score = 0.9905000000000002\n",
            "\n"
          ]
        }
      ],
      "source": [
        "# We perform a 10-fold cross validation\n",
        "\n",
        "dt_rt = RandomForestClassifier(n_estimators=100, criterion=\"gini\", max_depth=10, random_state=0)\n",
        "cv_ret = cross_validate(dt_rt, X, Y, scoring='accuracy', cv=10)\n",
        "_ = avg_print_cv(cv_ret, '[RandomForest]')\n",
        "\n",
        "dt_ab = AdaBoostClassifier(n_estimators=100, random_state=0)\n",
        "cv_ret = cross_validate(dt_ab, X, Y, scoring='accuracy', cv=10)\n",
        "_ = avg_print_cv(cv_ret, '[AdaBoost]')\n"
      ]
    },
    {
      "cell_type": "markdown",
      "source": [
        "[RandomForest]avg_fit_time = 23.87266626358032s </br>\n",
        "[RandomForest]avg_pred_time = 0.2542017698287964s </br>\n",
        "[RandomForest]avg_test_score = 0.9948666666666668 </br>\n",
        " </br>\n",
        "[AdaBoost]avg_fit_time = 138.38983671665193s </br>\n",
        "[AdaBoost]avg_pred_time = 1.3355498552322387s </br>\n",
        "[AdaBoost]avg_test_score = 0.9905000000000002 </br>"
      ],
      "metadata": {
        "id": "_wr-QUPwfnv9"
      }
    },
    {
      "cell_type": "code",
      "source": [
        "# try bagging & boosting with balanced dataset, no difference\n",
        "base_dt = DecisionTreeClassifier(criterion='gini', class_weight=weights, max_depth=1, random_state=0)\n",
        "dt_rt = RandomForestClassifier(n_estimators=100, criterion=\"gini\", max_depth=10, random_state=0)\n",
        "cv_ret = cross_validate(dt_rt, X, Y, scoring='accuracy', cv=10)\n",
        "_ = avg_print_cv(cv_ret, '[RandomForest]')\n",
        "\n",
        "dt_ab = AdaBoostClassifier(base_estimator=base_dt, n_estimators=100, random_state=0)\n",
        "cv_ret = cross_validate(dt_ab, X, Y, scoring='accuracy', cv=10)\n",
        "_ = avg_print_cv(cv_ret, '[AdaBoost]')\n"
      ],
      "metadata": {
        "colab": {
          "base_uri": "https://localhost:8080/"
        },
        "id": "aQ2dusaGNZ-d",
        "outputId": "f7ea393d-c117-487f-e1c2-ca143c57bf14"
      },
      "execution_count": 16,
      "outputs": [
        {
          "output_type": "stream",
          "name": "stdout",
          "text": [
            "[RandomForest]avg_fit_time = 16.14280734062195s\n",
            "[RandomForest]avg_pred_time = 0.11262373924255371s\n",
            "[RandomForest]avg_test_score = 0.9948666666666668\n",
            "\n",
            "[AdaBoost]avg_fit_time = 121.70339148044586s\n",
            "[AdaBoost]avg_pred_time = 1.0903376579284667s\n",
            "[AdaBoost]avg_test_score = 0.9851666666666666\n",
            "\n"
          ]
        }
      ]
    },
    {
      "cell_type": "markdown",
      "source": [
        "# Task3"
      ],
      "metadata": {
        "id": "_AmMT3J__D1i"
      }
    },
    {
      "cell_type": "markdown",
      "source": [
        "We choose accuracy as our measurement because our problem(1's or not 1's) is a neutral problem, which means that we do not favor in one side when making predictions. Thus, we want to have an accuracy as high as possible when tuning the model."
      ],
      "metadata": {
        "id": "0T5gXK_zkh2j"
      }
    },
    {
      "cell_type": "code",
      "source": [
        "scoring = 'balanced_accuracy'\n",
        "dt = DecisionTreeClassifier(criterion='gini', random_state=0)\n",
        "cv_ret = cross_validate(dt, X, Y, scoring=scoring, cv=10)\n",
        "dt_m = avg_print_cv(cv_ret, '[dt]')\n",
        "\n",
        "dt2 = DecisionTreeClassifier(criterion='entropy', random_state=0)\n",
        "cv_ret2 = cross_validate(dt2, X, Y, scoring=scoring, cv=10)\n",
        "dt_m2 = avg_print_cv(cv_ret2, '[dt2]')\n",
        "\n",
        "dt3 = DecisionTreeClassifier(criterion='gini', max_depth=5, random_state=0)\n",
        "cv_ret3 = cross_validate(dt3, X, Y, scoring=scoring, cv=10)\n",
        "dt_m3 = avg_print_cv(cv_ret3, '[dt3]')\n",
        "\n",
        "dt4 = DecisionTreeClassifier(criterion='gini', max_features=100, random_state=0)\n",
        "cv_ret4 = cross_validate(dt4, X, Y, scoring=scoring, cv=10)\n",
        "dt_m4 = avg_print_cv(cv_ret4, '[dt4]')\n",
        "\n",
        "dt5 = DecisionTreeClassifier(criterion='entropy', max_depth=5, max_features=100, random_state=0)\n",
        "cv_ret5 = cross_validate(dt5, X, Y, scoring=scoring, cv=10)\n",
        "dt_m5 = avg_print_cv(cv_ret5, '[dt5]')"
      ],
      "metadata": {
        "colab": {
          "base_uri": "https://localhost:8080/"
        },
        "id": "nEEtMgkS6zaD",
        "outputId": "7a3b6264-208b-4cfd-cddb-1bcc9fedd2f2"
      },
      "execution_count": null,
      "outputs": [
        {
          "output_type": "stream",
          "name": "stdout",
          "text": [
            "avg_fit_time = 11.022568368911744s\n",
            "avg_pred_time = 0.018310546875s\n",
            "avg_test_score = 0.970967258894969\n",
            "\n",
            "avg_fit_time = 6.388981008529663s\n",
            "avg_pred_time = 0.01839790344238281s\n",
            "avg_test_score = 0.974194181623728\n",
            "\n",
            "avg_fit_time = 5.257892203330994s\n",
            "avg_pred_time = 0.01673116683959961s\n",
            "avg_test_score = 0.9453221077531827\n",
            "\n",
            "avg_fit_time = 1.3845264911651611s\n",
            "avg_pred_time = 0.01750335693359375s\n",
            "avg_test_score = 0.9715808878646449\n",
            "\n",
            "avg_fit_time = 0.7975490093231201s\n",
            "avg_pred_time = 0.017349743843078615s\n",
            "avg_test_score = 0.918030402944764\n",
            "\n"
          ]
        }
      ]
    },
    {
      "cell_type": "code",
      "source": [
        "scoring = 'balanced_accuracy'\n",
        "dt_b = DecisionTreeClassifier(criterion='gini', class_weight=weights, random_state=0)\n",
        "cv_ret_b = cross_validate(dt_b, X, Y, scoring=scoring, cv=10)\n",
        "dt_m_b = avg_print_cv(cv_ret_b, '[dt_b]')\n",
        "\n",
        "dt_b2 = DecisionTreeClassifier(criterion='entropy', class_weight=weights, random_state=0)\n",
        "cv_ret_b2 = cross_validate(dt_b2, X, Y, scoring=scoring, cv=10)\n",
        "dt_m_b2 = avg_print_cv(cv_ret_b2, '[dt_b2]')\n",
        "\n",
        "dt_b3 = DecisionTreeClassifier(criterion='entropy', max_depth=15, max_features=100, class_weight=weights, random_state=0)\n",
        "cv_ret_b3 = cross_validate(dt_b3, X, Y, scoring='accuracy', cv=10)\n",
        "dt_m_b3 = avg_print_cv(cv_ret_b3, '[dt_b3]')"
      ],
      "metadata": {
        "colab": {
          "base_uri": "https://localhost:8080/"
        },
        "id": "P_8Ku7B89cqg",
        "outputId": "ea814949-ca73-4be5-8429-d421a6995933"
      },
      "execution_count": null,
      "outputs": [
        {
          "output_type": "stream",
          "name": "stdout",
          "text": [
            "avg_fit_time = 13.810364151000977s\n",
            "avg_pred_time = 0.018573880195617676s\n",
            "avg_test_score = 0.9715574176789747\n",
            "\n",
            "avg_fit_time = 7.439963412284851s\n",
            "avg_pred_time = 0.01997694969177246s\n",
            "avg_test_score = 0.976013636406542\n",
            "\n",
            "avg_fit_time = 1.1854498624801635s\n",
            "avg_pred_time = 0.013608360290527343s\n",
            "avg_test_score = 0.9889666666666667\n",
            "\n"
          ]
        }
      ]
    },
    {
      "cell_type": "code",
      "source": [
        "scoring = 'recall'\n",
        "dt = DecisionTreeClassifier(criterion='gini', random_state=0)\n",
        "cv_ret = cross_validate(dt, X, Y, scoring=scoring, cv=10)\n",
        "dt_m = avg_print_cv(cv_ret)\n",
        "\n",
        "dt2 = DecisionTreeClassifier(criterion='entropy', random_state=0)\n",
        "cv_ret2 = cross_validate(dt2, X, Y, scoring=scoring, cv=10)\n",
        "dt_m2 = avg_print_cv(cv_ret2)\n",
        "\n",
        "dt3 = DecisionTreeClassifier(criterion='gini', max_depth=5, random_state=0)\n",
        "cv_ret3 = cross_validate(dt3, X, Y, scoring=scoring, cv=10)\n",
        "dt_m3 = avg_print_cv(cv_ret3)\n",
        "\n",
        "dt4 = DecisionTreeClassifier(criterion='gini', max_features=100, random_state=0)\n",
        "cv_ret4 = cross_validate(dt4, X, Y, scoring=scoring, cv=10)\n",
        "dt_m4 = avg_print_cv(cv_ret4)\n",
        "\n",
        "dt5 = DecisionTreeClassifier(criterion='entropy', max_depth=5, max_features=100, random_state=0)\n",
        "cv_ret5 = cross_validate(dt5, X, Y, scoring=scoring, cv=10)\n",
        "dt_m5 = avg_print_cv(cv_ret5)"
      ],
      "metadata": {
        "colab": {
          "base_uri": "https://localhost:8080/"
        },
        "id": "OwqlvvRR8PiM",
        "outputId": "9e313a01-5964-49e0-cafb-239875e088b2"
      },
      "execution_count": null,
      "outputs": [
        {
          "output_type": "stream",
          "name": "stdout",
          "text": [
            "avg_fit_time = 14.00842742919922s\n",
            "avg_pred_time = 0.017385292053222656s\n",
            "avg_test_score = 0.9506092977250248\n",
            "\n",
            "avg_fit_time = 7.693921518325806s\n",
            "avg_pred_time = 0.015551567077636719s\n",
            "avg_test_score = 0.9553544345532476\n",
            "\n",
            "avg_fit_time = 6.734702372550965s\n",
            "avg_pred_time = 0.018751811981201173s\n",
            "avg_test_score = 0.9056654577426091\n",
            "\n",
            "avg_fit_time = 1.6619008302688598s\n",
            "avg_pred_time = 0.015767121315002443s\n",
            "avg_test_score = 0.9514986262226618\n",
            "\n",
            "avg_fit_time = 0.9945934295654297s\n",
            "avg_pred_time = 0.018022966384887696s\n",
            "avg_test_score = 0.85628310803385\n",
            "\n"
          ]
        }
      ]
    },
    {
      "cell_type": "code",
      "source": [
        "from sklearn.metrics import make_scorer, f1_score\n",
        "f1_n = make_scorer(f1_score, average=None)\n",
        "f1 = make_scorer(f1_score, average='binary')\n",
        "\n",
        "dt_s3_m2 = DecisionTreeClassifier(criterion='entropy', max_depth=15, max_features=100, class_weight=weights, random_state=0)\n",
        "cv_ret_s3_m2 = cross_validate(dt_s3_m2, X, Y, scoring=f1, cv=10)\n",
        "dt_m_s3_m2 = avg_print_cv(cv_ret_s3_m2, '[F1]')\n",
        "\n",
        "dt_s3_m3 = DecisionTreeClassifier(criterion='entropy', max_depth=15, max_features=100, class_weight=weights, random_state=0)\n",
        "cv_ret_s3_m3 = cross_validate(dt_s3_m3, X, Y, scoring=f1_n, cv=10)\n",
        "dt_m_s3_m3 = avg_print_cv(cv_ret_s3_m3, '[F1_all]')"
      ],
      "metadata": {
        "colab": {
          "base_uri": "https://localhost:8080/",
          "height": 452
        },
        "id": "X7KnCjUIq7qC",
        "outputId": "004dfd7a-da29-4758-c7cd-204b209c5131"
      },
      "execution_count": 17,
      "outputs": [
        {
          "output_type": "stream",
          "name": "stdout",
          "text": [
            "[F1]avg_fit_time = 0.9322370529174805s\n",
            "[F1]avg_pred_time = 0.015174269676208496s\n",
            "[F1]avg_test_score = 0.9514304055382696\n",
            "\n"
          ]
        },
        {
          "output_type": "error",
          "ename": "ValueError",
          "evalue": "ignored",
          "traceback": [
            "\u001b[0;31m---------------------------------------------------------------------------\u001b[0m",
            "\u001b[0;31mValueError\u001b[0m                                Traceback (most recent call last)",
            "\u001b[0;32m<ipython-input-17-ecb08460fb8a>\u001b[0m in \u001b[0;36m<module>\u001b[0;34m\u001b[0m\n\u001b[1;32m      8\u001b[0m \u001b[0;34m\u001b[0m\u001b[0m\n\u001b[1;32m      9\u001b[0m \u001b[0mdt_s3_m3\u001b[0m \u001b[0;34m=\u001b[0m \u001b[0mDecisionTreeClassifier\u001b[0m\u001b[0;34m(\u001b[0m\u001b[0mcriterion\u001b[0m\u001b[0;34m=\u001b[0m\u001b[0;34m'entropy'\u001b[0m\u001b[0;34m,\u001b[0m \u001b[0mmax_depth\u001b[0m\u001b[0;34m=\u001b[0m\u001b[0;36m15\u001b[0m\u001b[0;34m,\u001b[0m \u001b[0mmax_features\u001b[0m\u001b[0;34m=\u001b[0m\u001b[0;36m100\u001b[0m\u001b[0;34m,\u001b[0m \u001b[0mclass_weight\u001b[0m\u001b[0;34m=\u001b[0m\u001b[0mweights\u001b[0m\u001b[0;34m,\u001b[0m \u001b[0mrandom_state\u001b[0m\u001b[0;34m=\u001b[0m\u001b[0;36m0\u001b[0m\u001b[0;34m)\u001b[0m\u001b[0;34m\u001b[0m\u001b[0;34m\u001b[0m\u001b[0m\n\u001b[0;32m---> 10\u001b[0;31m \u001b[0mcv_ret_s3_m3\u001b[0m \u001b[0;34m=\u001b[0m \u001b[0mcross_validate\u001b[0m\u001b[0;34m(\u001b[0m\u001b[0mdt_s3_m3\u001b[0m\u001b[0;34m,\u001b[0m \u001b[0mX\u001b[0m\u001b[0;34m,\u001b[0m \u001b[0mY\u001b[0m\u001b[0;34m,\u001b[0m \u001b[0mscoring\u001b[0m\u001b[0;34m=\u001b[0m\u001b[0mf1_n\u001b[0m\u001b[0;34m,\u001b[0m \u001b[0mcv\u001b[0m\u001b[0;34m=\u001b[0m\u001b[0;36m10\u001b[0m\u001b[0;34m)\u001b[0m\u001b[0;34m\u001b[0m\u001b[0;34m\u001b[0m\u001b[0m\n\u001b[0m\u001b[1;32m     11\u001b[0m \u001b[0mdt_m_s3_m3\u001b[0m \u001b[0;34m=\u001b[0m \u001b[0mavg_print_cv\u001b[0m\u001b[0;34m(\u001b[0m\u001b[0mcv_ret_s3_m3\u001b[0m\u001b[0;34m,\u001b[0m \u001b[0;34m'[F1_all]'\u001b[0m\u001b[0;34m)\u001b[0m\u001b[0;34m\u001b[0m\u001b[0;34m\u001b[0m\u001b[0m\n",
            "\u001b[0;32m/usr/local/lib/python3.7/dist-packages/sklearn/model_selection/_validation.py\u001b[0m in \u001b[0;36mcross_validate\u001b[0;34m(estimator, X, y, groups, scoring, cv, n_jobs, verbose, fit_params, pre_dispatch, return_train_score, return_estimator, error_score)\u001b[0m\n\u001b[1;32m    281\u001b[0m             \u001b[0merror_score\u001b[0m\u001b[0;34m=\u001b[0m\u001b[0merror_score\u001b[0m\u001b[0;34m,\u001b[0m\u001b[0;34m\u001b[0m\u001b[0;34m\u001b[0m\u001b[0m\n\u001b[1;32m    282\u001b[0m         )\n\u001b[0;32m--> 283\u001b[0;31m         \u001b[0;32mfor\u001b[0m \u001b[0mtrain\u001b[0m\u001b[0;34m,\u001b[0m \u001b[0mtest\u001b[0m \u001b[0;32min\u001b[0m \u001b[0mcv\u001b[0m\u001b[0;34m.\u001b[0m\u001b[0msplit\u001b[0m\u001b[0;34m(\u001b[0m\u001b[0mX\u001b[0m\u001b[0;34m,\u001b[0m \u001b[0my\u001b[0m\u001b[0;34m,\u001b[0m \u001b[0mgroups\u001b[0m\u001b[0;34m)\u001b[0m\u001b[0;34m\u001b[0m\u001b[0;34m\u001b[0m\u001b[0m\n\u001b[0m\u001b[1;32m    284\u001b[0m     )\n\u001b[1;32m    285\u001b[0m \u001b[0;34m\u001b[0m\u001b[0m\n",
            "\u001b[0;32m/usr/local/lib/python3.7/dist-packages/joblib/parallel.py\u001b[0m in \u001b[0;36m__call__\u001b[0;34m(self, iterable)\u001b[0m\n\u001b[1;32m   1041\u001b[0m             \u001b[0;31m# remaining jobs.\u001b[0m\u001b[0;34m\u001b[0m\u001b[0;34m\u001b[0m\u001b[0;34m\u001b[0m\u001b[0m\n\u001b[1;32m   1042\u001b[0m             \u001b[0mself\u001b[0m\u001b[0;34m.\u001b[0m\u001b[0m_iterating\u001b[0m \u001b[0;34m=\u001b[0m \u001b[0;32mFalse\u001b[0m\u001b[0;34m\u001b[0m\u001b[0;34m\u001b[0m\u001b[0m\n\u001b[0;32m-> 1043\u001b[0;31m             \u001b[0;32mif\u001b[0m \u001b[0mself\u001b[0m\u001b[0;34m.\u001b[0m\u001b[0mdispatch_one_batch\u001b[0m\u001b[0;34m(\u001b[0m\u001b[0miterator\u001b[0m\u001b[0;34m)\u001b[0m\u001b[0;34m:\u001b[0m\u001b[0;34m\u001b[0m\u001b[0;34m\u001b[0m\u001b[0m\n\u001b[0m\u001b[1;32m   1044\u001b[0m                 \u001b[0mself\u001b[0m\u001b[0;34m.\u001b[0m\u001b[0m_iterating\u001b[0m \u001b[0;34m=\u001b[0m \u001b[0mself\u001b[0m\u001b[0;34m.\u001b[0m\u001b[0m_original_iterator\u001b[0m \u001b[0;32mis\u001b[0m \u001b[0;32mnot\u001b[0m \u001b[0;32mNone\u001b[0m\u001b[0;34m\u001b[0m\u001b[0;34m\u001b[0m\u001b[0m\n\u001b[1;32m   1045\u001b[0m \u001b[0;34m\u001b[0m\u001b[0m\n",
            "\u001b[0;32m/usr/local/lib/python3.7/dist-packages/joblib/parallel.py\u001b[0m in \u001b[0;36mdispatch_one_batch\u001b[0;34m(self, iterator)\u001b[0m\n\u001b[1;32m    859\u001b[0m                 \u001b[0;32mreturn\u001b[0m \u001b[0;32mFalse\u001b[0m\u001b[0;34m\u001b[0m\u001b[0;34m\u001b[0m\u001b[0m\n\u001b[1;32m    860\u001b[0m             \u001b[0;32melse\u001b[0m\u001b[0;34m:\u001b[0m\u001b[0;34m\u001b[0m\u001b[0;34m\u001b[0m\u001b[0m\n\u001b[0;32m--> 861\u001b[0;31m                 \u001b[0mself\u001b[0m\u001b[0;34m.\u001b[0m\u001b[0m_dispatch\u001b[0m\u001b[0;34m(\u001b[0m\u001b[0mtasks\u001b[0m\u001b[0;34m)\u001b[0m\u001b[0;34m\u001b[0m\u001b[0;34m\u001b[0m\u001b[0m\n\u001b[0m\u001b[1;32m    862\u001b[0m                 \u001b[0;32mreturn\u001b[0m \u001b[0;32mTrue\u001b[0m\u001b[0;34m\u001b[0m\u001b[0;34m\u001b[0m\u001b[0m\n\u001b[1;32m    863\u001b[0m \u001b[0;34m\u001b[0m\u001b[0m\n",
            "\u001b[0;32m/usr/local/lib/python3.7/dist-packages/joblib/parallel.py\u001b[0m in \u001b[0;36m_dispatch\u001b[0;34m(self, batch)\u001b[0m\n\u001b[1;32m    777\u001b[0m         \u001b[0;32mwith\u001b[0m \u001b[0mself\u001b[0m\u001b[0;34m.\u001b[0m\u001b[0m_lock\u001b[0m\u001b[0;34m:\u001b[0m\u001b[0;34m\u001b[0m\u001b[0;34m\u001b[0m\u001b[0m\n\u001b[1;32m    778\u001b[0m             \u001b[0mjob_idx\u001b[0m \u001b[0;34m=\u001b[0m \u001b[0mlen\u001b[0m\u001b[0;34m(\u001b[0m\u001b[0mself\u001b[0m\u001b[0;34m.\u001b[0m\u001b[0m_jobs\u001b[0m\u001b[0;34m)\u001b[0m\u001b[0;34m\u001b[0m\u001b[0;34m\u001b[0m\u001b[0m\n\u001b[0;32m--> 779\u001b[0;31m             \u001b[0mjob\u001b[0m \u001b[0;34m=\u001b[0m \u001b[0mself\u001b[0m\u001b[0;34m.\u001b[0m\u001b[0m_backend\u001b[0m\u001b[0;34m.\u001b[0m\u001b[0mapply_async\u001b[0m\u001b[0;34m(\u001b[0m\u001b[0mbatch\u001b[0m\u001b[0;34m,\u001b[0m \u001b[0mcallback\u001b[0m\u001b[0;34m=\u001b[0m\u001b[0mcb\u001b[0m\u001b[0;34m)\u001b[0m\u001b[0;34m\u001b[0m\u001b[0;34m\u001b[0m\u001b[0m\n\u001b[0m\u001b[1;32m    780\u001b[0m             \u001b[0;31m# A job can complete so quickly than its callback is\u001b[0m\u001b[0;34m\u001b[0m\u001b[0;34m\u001b[0m\u001b[0;34m\u001b[0m\u001b[0m\n\u001b[1;32m    781\u001b[0m             \u001b[0;31m# called before we get here, causing self._jobs to\u001b[0m\u001b[0;34m\u001b[0m\u001b[0;34m\u001b[0m\u001b[0;34m\u001b[0m\u001b[0m\n",
            "\u001b[0;32m/usr/local/lib/python3.7/dist-packages/joblib/_parallel_backends.py\u001b[0m in \u001b[0;36mapply_async\u001b[0;34m(self, func, callback)\u001b[0m\n\u001b[1;32m    206\u001b[0m     \u001b[0;32mdef\u001b[0m \u001b[0mapply_async\u001b[0m\u001b[0;34m(\u001b[0m\u001b[0mself\u001b[0m\u001b[0;34m,\u001b[0m \u001b[0mfunc\u001b[0m\u001b[0;34m,\u001b[0m \u001b[0mcallback\u001b[0m\u001b[0;34m=\u001b[0m\u001b[0;32mNone\u001b[0m\u001b[0;34m)\u001b[0m\u001b[0;34m:\u001b[0m\u001b[0;34m\u001b[0m\u001b[0;34m\u001b[0m\u001b[0m\n\u001b[1;32m    207\u001b[0m         \u001b[0;34m\"\"\"Schedule a func to be run\"\"\"\u001b[0m\u001b[0;34m\u001b[0m\u001b[0;34m\u001b[0m\u001b[0m\n\u001b[0;32m--> 208\u001b[0;31m         \u001b[0mresult\u001b[0m \u001b[0;34m=\u001b[0m \u001b[0mImmediateResult\u001b[0m\u001b[0;34m(\u001b[0m\u001b[0mfunc\u001b[0m\u001b[0;34m)\u001b[0m\u001b[0;34m\u001b[0m\u001b[0;34m\u001b[0m\u001b[0m\n\u001b[0m\u001b[1;32m    209\u001b[0m         \u001b[0;32mif\u001b[0m \u001b[0mcallback\u001b[0m\u001b[0;34m:\u001b[0m\u001b[0;34m\u001b[0m\u001b[0;34m\u001b[0m\u001b[0m\n\u001b[1;32m    210\u001b[0m             \u001b[0mcallback\u001b[0m\u001b[0;34m(\u001b[0m\u001b[0mresult\u001b[0m\u001b[0;34m)\u001b[0m\u001b[0;34m\u001b[0m\u001b[0;34m\u001b[0m\u001b[0m\n",
            "\u001b[0;32m/usr/local/lib/python3.7/dist-packages/joblib/_parallel_backends.py\u001b[0m in \u001b[0;36m__init__\u001b[0;34m(self, batch)\u001b[0m\n\u001b[1;32m    570\u001b[0m         \u001b[0;31m# Don't delay the application, to avoid keeping the input\u001b[0m\u001b[0;34m\u001b[0m\u001b[0;34m\u001b[0m\u001b[0;34m\u001b[0m\u001b[0m\n\u001b[1;32m    571\u001b[0m         \u001b[0;31m# arguments in memory\u001b[0m\u001b[0;34m\u001b[0m\u001b[0;34m\u001b[0m\u001b[0;34m\u001b[0m\u001b[0m\n\u001b[0;32m--> 572\u001b[0;31m         \u001b[0mself\u001b[0m\u001b[0;34m.\u001b[0m\u001b[0mresults\u001b[0m \u001b[0;34m=\u001b[0m \u001b[0mbatch\u001b[0m\u001b[0;34m(\u001b[0m\u001b[0;34m)\u001b[0m\u001b[0;34m\u001b[0m\u001b[0;34m\u001b[0m\u001b[0m\n\u001b[0m\u001b[1;32m    573\u001b[0m \u001b[0;34m\u001b[0m\u001b[0m\n\u001b[1;32m    574\u001b[0m     \u001b[0;32mdef\u001b[0m \u001b[0mget\u001b[0m\u001b[0;34m(\u001b[0m\u001b[0mself\u001b[0m\u001b[0;34m)\u001b[0m\u001b[0;34m:\u001b[0m\u001b[0;34m\u001b[0m\u001b[0;34m\u001b[0m\u001b[0m\n",
            "\u001b[0;32m/usr/local/lib/python3.7/dist-packages/joblib/parallel.py\u001b[0m in \u001b[0;36m__call__\u001b[0;34m(self)\u001b[0m\n\u001b[1;32m    261\u001b[0m         \u001b[0;32mwith\u001b[0m \u001b[0mparallel_backend\u001b[0m\u001b[0;34m(\u001b[0m\u001b[0mself\u001b[0m\u001b[0;34m.\u001b[0m\u001b[0m_backend\u001b[0m\u001b[0;34m,\u001b[0m \u001b[0mn_jobs\u001b[0m\u001b[0;34m=\u001b[0m\u001b[0mself\u001b[0m\u001b[0;34m.\u001b[0m\u001b[0m_n_jobs\u001b[0m\u001b[0;34m)\u001b[0m\u001b[0;34m:\u001b[0m\u001b[0;34m\u001b[0m\u001b[0;34m\u001b[0m\u001b[0m\n\u001b[1;32m    262\u001b[0m             return [func(*args, **kwargs)\n\u001b[0;32m--> 263\u001b[0;31m                     for func, args, kwargs in self.items]\n\u001b[0m\u001b[1;32m    264\u001b[0m \u001b[0;34m\u001b[0m\u001b[0m\n\u001b[1;32m    265\u001b[0m     \u001b[0;32mdef\u001b[0m \u001b[0m__reduce__\u001b[0m\u001b[0;34m(\u001b[0m\u001b[0mself\u001b[0m\u001b[0;34m)\u001b[0m\u001b[0;34m:\u001b[0m\u001b[0;34m\u001b[0m\u001b[0;34m\u001b[0m\u001b[0m\n",
            "\u001b[0;32m/usr/local/lib/python3.7/dist-packages/joblib/parallel.py\u001b[0m in \u001b[0;36m<listcomp>\u001b[0;34m(.0)\u001b[0m\n\u001b[1;32m    261\u001b[0m         \u001b[0;32mwith\u001b[0m \u001b[0mparallel_backend\u001b[0m\u001b[0;34m(\u001b[0m\u001b[0mself\u001b[0m\u001b[0;34m.\u001b[0m\u001b[0m_backend\u001b[0m\u001b[0;34m,\u001b[0m \u001b[0mn_jobs\u001b[0m\u001b[0;34m=\u001b[0m\u001b[0mself\u001b[0m\u001b[0;34m.\u001b[0m\u001b[0m_n_jobs\u001b[0m\u001b[0;34m)\u001b[0m\u001b[0;34m:\u001b[0m\u001b[0;34m\u001b[0m\u001b[0;34m\u001b[0m\u001b[0m\n\u001b[1;32m    262\u001b[0m             return [func(*args, **kwargs)\n\u001b[0;32m--> 263\u001b[0;31m                     for func, args, kwargs in self.items]\n\u001b[0m\u001b[1;32m    264\u001b[0m \u001b[0;34m\u001b[0m\u001b[0m\n\u001b[1;32m    265\u001b[0m     \u001b[0;32mdef\u001b[0m \u001b[0m__reduce__\u001b[0m\u001b[0;34m(\u001b[0m\u001b[0mself\u001b[0m\u001b[0;34m)\u001b[0m\u001b[0;34m:\u001b[0m\u001b[0;34m\u001b[0m\u001b[0;34m\u001b[0m\u001b[0m\n",
            "\u001b[0;32m/usr/local/lib/python3.7/dist-packages/sklearn/utils/fixes.py\u001b[0m in \u001b[0;36m__call__\u001b[0;34m(self, *args, **kwargs)\u001b[0m\n\u001b[1;32m    214\u001b[0m     \u001b[0;32mdef\u001b[0m \u001b[0m__call__\u001b[0m\u001b[0;34m(\u001b[0m\u001b[0mself\u001b[0m\u001b[0;34m,\u001b[0m \u001b[0;34m*\u001b[0m\u001b[0margs\u001b[0m\u001b[0;34m,\u001b[0m \u001b[0;34m**\u001b[0m\u001b[0mkwargs\u001b[0m\u001b[0;34m)\u001b[0m\u001b[0;34m:\u001b[0m\u001b[0;34m\u001b[0m\u001b[0;34m\u001b[0m\u001b[0m\n\u001b[1;32m    215\u001b[0m         \u001b[0;32mwith\u001b[0m \u001b[0mconfig_context\u001b[0m\u001b[0;34m(\u001b[0m\u001b[0;34m**\u001b[0m\u001b[0mself\u001b[0m\u001b[0;34m.\u001b[0m\u001b[0mconfig\u001b[0m\u001b[0;34m)\u001b[0m\u001b[0;34m:\u001b[0m\u001b[0;34m\u001b[0m\u001b[0;34m\u001b[0m\u001b[0m\n\u001b[0;32m--> 216\u001b[0;31m             \u001b[0;32mreturn\u001b[0m \u001b[0mself\u001b[0m\u001b[0;34m.\u001b[0m\u001b[0mfunction\u001b[0m\u001b[0;34m(\u001b[0m\u001b[0;34m*\u001b[0m\u001b[0margs\u001b[0m\u001b[0;34m,\u001b[0m \u001b[0;34m**\u001b[0m\u001b[0mkwargs\u001b[0m\u001b[0;34m)\u001b[0m\u001b[0;34m\u001b[0m\u001b[0;34m\u001b[0m\u001b[0m\n\u001b[0m\u001b[1;32m    217\u001b[0m \u001b[0;34m\u001b[0m\u001b[0m\n\u001b[1;32m    218\u001b[0m \u001b[0;34m\u001b[0m\u001b[0m\n",
            "\u001b[0;32m/usr/local/lib/python3.7/dist-packages/sklearn/model_selection/_validation.py\u001b[0m in \u001b[0;36m_fit_and_score\u001b[0;34m(estimator, X, y, scorer, train, test, verbose, parameters, fit_params, return_train_score, return_parameters, return_n_test_samples, return_times, return_estimator, split_progress, candidate_progress, error_score)\u001b[0m\n\u001b[1;32m    700\u001b[0m \u001b[0;34m\u001b[0m\u001b[0m\n\u001b[1;32m    701\u001b[0m         \u001b[0mfit_time\u001b[0m \u001b[0;34m=\u001b[0m \u001b[0mtime\u001b[0m\u001b[0;34m.\u001b[0m\u001b[0mtime\u001b[0m\u001b[0;34m(\u001b[0m\u001b[0;34m)\u001b[0m \u001b[0;34m-\u001b[0m \u001b[0mstart_time\u001b[0m\u001b[0;34m\u001b[0m\u001b[0;34m\u001b[0m\u001b[0m\n\u001b[0;32m--> 702\u001b[0;31m         \u001b[0mtest_scores\u001b[0m \u001b[0;34m=\u001b[0m \u001b[0m_score\u001b[0m\u001b[0;34m(\u001b[0m\u001b[0mestimator\u001b[0m\u001b[0;34m,\u001b[0m \u001b[0mX_test\u001b[0m\u001b[0;34m,\u001b[0m \u001b[0my_test\u001b[0m\u001b[0;34m,\u001b[0m \u001b[0mscorer\u001b[0m\u001b[0;34m,\u001b[0m \u001b[0merror_score\u001b[0m\u001b[0;34m)\u001b[0m\u001b[0;34m\u001b[0m\u001b[0;34m\u001b[0m\u001b[0m\n\u001b[0m\u001b[1;32m    703\u001b[0m         \u001b[0mscore_time\u001b[0m \u001b[0;34m=\u001b[0m \u001b[0mtime\u001b[0m\u001b[0;34m.\u001b[0m\u001b[0mtime\u001b[0m\u001b[0;34m(\u001b[0m\u001b[0;34m)\u001b[0m \u001b[0;34m-\u001b[0m \u001b[0mstart_time\u001b[0m \u001b[0;34m-\u001b[0m \u001b[0mfit_time\u001b[0m\u001b[0;34m\u001b[0m\u001b[0;34m\u001b[0m\u001b[0m\n\u001b[1;32m    704\u001b[0m         \u001b[0;32mif\u001b[0m \u001b[0mreturn_train_score\u001b[0m\u001b[0;34m:\u001b[0m\u001b[0;34m\u001b[0m\u001b[0;34m\u001b[0m\u001b[0m\n",
            "\u001b[0;32m/usr/local/lib/python3.7/dist-packages/sklearn/model_selection/_validation.py\u001b[0m in \u001b[0;36m_score\u001b[0;34m(estimator, X_test, y_test, scorer, error_score)\u001b[0m\n\u001b[1;32m    791\u001b[0m                 \u001b[0mscores\u001b[0m \u001b[0;34m=\u001b[0m \u001b[0mscores\u001b[0m\u001b[0;34m.\u001b[0m\u001b[0mitem\u001b[0m\u001b[0;34m(\u001b[0m\u001b[0;34m)\u001b[0m\u001b[0;34m\u001b[0m\u001b[0;34m\u001b[0m\u001b[0m\n\u001b[1;32m    792\u001b[0m         \u001b[0;32mif\u001b[0m \u001b[0;32mnot\u001b[0m \u001b[0misinstance\u001b[0m\u001b[0;34m(\u001b[0m\u001b[0mscores\u001b[0m\u001b[0;34m,\u001b[0m \u001b[0mnumbers\u001b[0m\u001b[0;34m.\u001b[0m\u001b[0mNumber\u001b[0m\u001b[0;34m)\u001b[0m\u001b[0;34m:\u001b[0m\u001b[0;34m\u001b[0m\u001b[0;34m\u001b[0m\u001b[0m\n\u001b[0;32m--> 793\u001b[0;31m             \u001b[0;32mraise\u001b[0m \u001b[0mValueError\u001b[0m\u001b[0;34m(\u001b[0m\u001b[0merror_msg\u001b[0m \u001b[0;34m%\u001b[0m \u001b[0;34m(\u001b[0m\u001b[0mscores\u001b[0m\u001b[0;34m,\u001b[0m \u001b[0mtype\u001b[0m\u001b[0;34m(\u001b[0m\u001b[0mscores\u001b[0m\u001b[0;34m)\u001b[0m\u001b[0;34m,\u001b[0m \u001b[0mscorer\u001b[0m\u001b[0;34m)\u001b[0m\u001b[0;34m)\u001b[0m\u001b[0;34m\u001b[0m\u001b[0;34m\u001b[0m\u001b[0m\n\u001b[0m\u001b[1;32m    794\u001b[0m     \u001b[0;32mreturn\u001b[0m \u001b[0mscores\u001b[0m\u001b[0;34m\u001b[0m\u001b[0;34m\u001b[0m\u001b[0m\n\u001b[1;32m    795\u001b[0m \u001b[0;34m\u001b[0m\u001b[0m\n",
            "\u001b[0;31mValueError\u001b[0m: scoring must return a number, got [0.99351443 0.94930198] (<class 'numpy.ndarray'>) instead. (scorer=make_scorer(f1_score, average=None))"
          ]
        }
      ]
    },
    {
      "cell_type": "code",
      "source": [
        "scoring = 'recall'\n",
        "dt_s = DecisionTreeClassifier(criterion='gini', class_weight=weights, random_state=0)\n",
        "cv_ret_s = cross_validate(dt_s, X, Y, scoring=scoring, cv=10)\n",
        "dt_m_s = avg_print_cv(cv_ret_s)\n",
        "\n",
        "dt_s2 = DecisionTreeClassifier(criterion='entropy', class_weight=weights, random_state=0)\n",
        "cv_ret_s2 = cross_validate(dt_s2, X, Y, scoring=scoring, cv=10)\n",
        "dt_m_s2 = avg_print_cv(cv_ret_s2)\n",
        "\n",
        "dt_s3 = DecisionTreeClassifier(criterion='entropy', max_depth=15, max_features=100, class_weight=weights, random_state=0)\n",
        "cv_ret_s3 = cross_validate(dt_s3, X, Y, scoring='accuracy', cv=10)\n",
        "dt_m_s3 = avg_print_cv(cv_ret_s3)"
      ],
      "metadata": {
        "colab": {
          "base_uri": "https://localhost:8080/"
        },
        "id": "TdIbByQz9hLg",
        "outputId": "23477802-fecc-47b8-ed82-cb95b4a00578"
      },
      "execution_count": null,
      "outputs": [
        {
          "output_type": "stream",
          "name": "stdout",
          "text": [
            "avg_fit_time = 13.732405018806457s\n",
            "avg_pred_time = 0.01690175533294678s\n",
            "avg_test_score = 0.9492735465435764\n",
            "\n",
            "avg_fit_time = 7.35992648601532s\n",
            "avg_pred_time = 0.01608419418334961s\n",
            "avg_test_score = 0.9586178700956148\n",
            "\n",
            "avg_fit_time = 1.1884592056274415s\n",
            "avg_pred_time = 0.01360306739807129s\n",
            "avg_test_score = 0.9889666666666667\n",
            "\n"
          ]
        }
      ]
    }
  ],
  "metadata": {
    "colab": {
      "collapsed_sections": [],
      "provenance": [],
      "authorship_tag": "ABX9TyNPKRLTaR57xEmQ/lRYEz7s",
      "include_colab_link": true
    },
    "gpuClass": "standard",
    "kernelspec": {
      "display_name": "Python 3",
      "name": "python3"
    },
    "language_info": {
      "name": "python"
    }
  },
  "nbformat": 4,
  "nbformat_minor": 0
}
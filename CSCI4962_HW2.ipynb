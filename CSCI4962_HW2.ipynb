{
  "cells": [
    {
      "cell_type": "markdown",
      "metadata": {
        "id": "view-in-github",
        "colab_type": "text"
      },
      "source": [
        "<a href=\"https://colab.research.google.com/github/xiaoshaoyc/CSCI-4962/blob/main/CSCI4962_HW2.ipynb\" target=\"_parent\"><img src=\"https://colab.research.google.com/assets/colab-badge.svg\" alt=\"Open In Colab\"/></a>"
      ]
    },
    {
      "cell_type": "markdown",
      "metadata": {
        "id": "V4PlxIPiSOfZ"
      },
      "source": [
        "# Task0\n",
        "\n",
        "Init.\n",
        "\n",
        "We used [MNIST](http://yann.lecun.com/exdb/mnist/) dataset."
      ]
    },
    {
      "cell_type": "code",
      "execution_count": 1,
      "metadata": {
        "id": "Mg-SqWWgSNRY"
      },
      "outputs": [],
      "source": [
        "# init\n",
        "import math\n",
        "import pandas as pd\n",
        "import numpy as np\n",
        "from tqdm import tqdm\n",
        "import torch\n",
        "import torchvision\n",
        "from torch.utils.data import DataLoader\n",
        "from matplotlib import pyplot as plt\n"
      ]
    },
    {
      "cell_type": "code",
      "execution_count": 2,
      "metadata": {
        "id": "nMjW7fKpVCUG"
      },
      "outputs": [],
      "source": [
        "def transform1(x):\n",
        "  # transformation for raw image data\n",
        "  return torch.tensor(np.array(x).reshape(-1) / 255)\n",
        "\n",
        "def y_trans(y):\n",
        "  # transformation for label\n",
        "  return (y == 1) * 1.0\n",
        "\n",
        "# Here, we store all the data in memory to accelerate training\n",
        "class Mem_dataset(torch.utils.data.Dataset):\n",
        "  def __init__(self, dataset) -> None:\n",
        "    super().__init__()\n",
        "    self.cache = {}\n",
        "    self.dataset = dataset\n",
        "\n",
        "  def __getitem__(self, index):\n",
        "    if index in self.cache:\n",
        "      return self.cache[index]\n",
        "    else:\n",
        "      item = self.dataset[index]\n",
        "      self.cache[index] = item\n",
        "      return item\n",
        "\n",
        "  def __len__(self):\n",
        "    return len(self.dataset) "
      ]
    },
    {
      "cell_type": "code",
      "execution_count": 3,
      "metadata": {
        "id": "Mk06vK1ASwGz",
        "colab": {
          "base_uri": "https://localhost:8080/",
          "height": 436,
          "referenced_widgets": [
            "d4199fe50fb04e92a6f0131f5966951e",
            "c99e33794ed34b7fb57241ec038a54ee",
            "e7d67ecc15c94044810e659c0ee94fbb",
            "6b701a6702b44f72b1a71c309f952392",
            "f5eb01f56daa4ff6b5e8ae4ee039af85",
            "978869effe1c425484ef46eec0932806",
            "03d7e7cc3ce94c2abfcdb157769cc9a9",
            "0ae4c55968764298b0c9422c3b4addac",
            "3eeaf0b2266e47a0880b4b6d18fc4cb9",
            "19b89761c4b24de6b1236b7276b35ee9",
            "72e087a540d84e998b5287a1fa36bf27",
            "41dd42b56f944450a6a0661a124835e8",
            "88000f216dbe44ceb6d8e6b2ef9e2f12",
            "63f95af8328f4a2296f31f2ce83d9652",
            "a2abb08e4b9e46ca8ac5dfb89a97a9f7",
            "c7dc9758facb402bb74058d3f3ffcbd5",
            "844f8112de134ec9b00df0ca0b3b921e",
            "840f568c1f904decad7c29ae04b2ebd0",
            "f920d7db02544129b34929b6cacc4b86",
            "8ac612025858480cae4db9ca1b346167",
            "2d7f88ba21d5484d8e63e83c6eb9a3a6",
            "8a8a700204224e699ffb4bd1ab13ce09",
            "4365af7e632349228b6e9eecb8bf21c9",
            "8ef9956545cc40c0ab9c85f5267d1c63",
            "f669fe000328464580749afa23466692",
            "a975462d24f74063ad49e2f7b52bd774",
            "5f59a999a38b4209b557f87b9b388cb7",
            "2ee52b345e9b4870a544bf400af921d8",
            "01f4b12ba991449891855df8c260ddb7",
            "66f661a6ec7d44b6b6c06fc8fb00887f",
            "613e155767f7475dae63efc7a6af8272",
            "625d5ace51324654b3360af5c323807e",
            "fcb53d65128b4c3cb8d12c754b933cd8",
            "5364360734544d2581992cd8f2fc74f8",
            "1ef975dc43f64b0587234e28530a3628",
            "b3daddb0d3ca4651883816c0df409d7f",
            "9d9fc49896d04260bbd60603defec113",
            "dc9ec8359d0f413a9af162b04020ac6a",
            "6ba255311bb542b2b5b1adcedd2c5efa",
            "836682531c614ba991cebad9373d26ab",
            "e698e0a11a8548529a162efa58025425",
            "6f392cec92fb448ba6e2907bd68bb959",
            "78f61b2a03184ccbae706020a9578a22",
            "32feca2d3f8c4638bb93efe8cd5df503"
          ]
        },
        "outputId": "28b3d23b-80e4-4bc1-9511-eaa287f06909"
      },
      "outputs": [
        {
          "output_type": "stream",
          "name": "stdout",
          "text": [
            "Downloading http://yann.lecun.com/exdb/mnist/train-images-idx3-ubyte.gz\n",
            "Downloading http://yann.lecun.com/exdb/mnist/train-images-idx3-ubyte.gz to MNIST/raw/train-images-idx3-ubyte.gz\n"
          ]
        },
        {
          "output_type": "display_data",
          "data": {
            "text/plain": [
              "  0%|          | 0/9912422 [00:00<?, ?it/s]"
            ],
            "application/vnd.jupyter.widget-view+json": {
              "version_major": 2,
              "version_minor": 0,
              "model_id": "d4199fe50fb04e92a6f0131f5966951e"
            }
          },
          "metadata": {}
        },
        {
          "output_type": "stream",
          "name": "stdout",
          "text": [
            "Extracting MNIST/raw/train-images-idx3-ubyte.gz to MNIST/raw\n",
            "\n",
            "Downloading http://yann.lecun.com/exdb/mnist/train-labels-idx1-ubyte.gz\n",
            "Downloading http://yann.lecun.com/exdb/mnist/train-labels-idx1-ubyte.gz to MNIST/raw/train-labels-idx1-ubyte.gz\n"
          ]
        },
        {
          "output_type": "display_data",
          "data": {
            "text/plain": [
              "  0%|          | 0/28881 [00:00<?, ?it/s]"
            ],
            "application/vnd.jupyter.widget-view+json": {
              "version_major": 2,
              "version_minor": 0,
              "model_id": "41dd42b56f944450a6a0661a124835e8"
            }
          },
          "metadata": {}
        },
        {
          "output_type": "stream",
          "name": "stdout",
          "text": [
            "Extracting MNIST/raw/train-labels-idx1-ubyte.gz to MNIST/raw\n",
            "\n",
            "Downloading http://yann.lecun.com/exdb/mnist/t10k-images-idx3-ubyte.gz\n",
            "Downloading http://yann.lecun.com/exdb/mnist/t10k-images-idx3-ubyte.gz to MNIST/raw/t10k-images-idx3-ubyte.gz\n"
          ]
        },
        {
          "output_type": "display_data",
          "data": {
            "text/plain": [
              "  0%|          | 0/1648877 [00:00<?, ?it/s]"
            ],
            "application/vnd.jupyter.widget-view+json": {
              "version_major": 2,
              "version_minor": 0,
              "model_id": "4365af7e632349228b6e9eecb8bf21c9"
            }
          },
          "metadata": {}
        },
        {
          "output_type": "stream",
          "name": "stdout",
          "text": [
            "Extracting MNIST/raw/t10k-images-idx3-ubyte.gz to MNIST/raw\n",
            "\n",
            "Downloading http://yann.lecun.com/exdb/mnist/t10k-labels-idx1-ubyte.gz\n",
            "Downloading http://yann.lecun.com/exdb/mnist/t10k-labels-idx1-ubyte.gz to MNIST/raw/t10k-labels-idx1-ubyte.gz\n"
          ]
        },
        {
          "output_type": "display_data",
          "data": {
            "text/plain": [
              "  0%|          | 0/4542 [00:00<?, ?it/s]"
            ],
            "application/vnd.jupyter.widget-view+json": {
              "version_major": 2,
              "version_minor": 0,
              "model_id": "5364360734544d2581992cd8f2fc74f8"
            }
          },
          "metadata": {}
        },
        {
          "output_type": "stream",
          "name": "stdout",
          "text": [
            "Extracting MNIST/raw/t10k-labels-idx1-ubyte.gz to MNIST/raw\n",
            "\n"
          ]
        }
      ],
      "source": [
        "# fetch the dataset\n",
        "train_dataset = torchvision.datasets.MNIST(root='', train=True, download=True, transform=transform1, target_transform=y_trans)\n",
        "\n",
        "train_dataset_opt = Mem_dataset(train_dataset)"
      ]
    },
    {
      "cell_type": "markdown",
      "source": [
        "Here, I try to make some guesses about the features that our decision tree may choose. Since 1's are more 'thin' than not 1's. Our decision tree may firstly consider middle-left and middle-right pixels as nodes. I also noticed that our dataset is unbalanced, which may be a problem for impurity measurement. We will deal with that problem later."
      ],
      "metadata": {
        "id": "DING5BOV27pB"
      }
    },
    {
      "cell_type": "code",
      "execution_count": 4,
      "metadata": {
        "colab": {
          "base_uri": "https://localhost:8080/",
          "height": 442
        },
        "id": "djWaxc-dRWR4",
        "outputId": "2f29c667-14cc-46c7-b35d-616e13bf825c"
      },
      "outputs": [
        {
          "output_type": "stream",
          "name": "stdout",
          "text": [
            "number of 1's = 6742\n",
            "number of not 1's = 53258\n"
          ]
        },
        {
          "output_type": "execute_result",
          "data": {
            "text/plain": [
              "<matplotlib.image.AxesImage at 0x7f6f4062ccd0>"
            ]
          },
          "metadata": {},
          "execution_count": 4
        },
        {
          "output_type": "display_data",
          "data": {
            "text/plain": [
              "<Figure size 360x720 with 2 Axes>"
            ],
            "image/png": "[encoded data removed]"
          },
          "metadata": {
            "needs_background": "light"
          }
        },
        {
          "output_type": "display_data",
          "data": {
            "text/plain": [
              "<Figure size 360x720 with 2 Axes>"
            ],
            "image/png": "[encoded data removed]"
          },
          "metadata": {
            "needs_background": "light"
          }
        }
      ],
      "source": [
        "# sample analyze\n",
        "num1_list = list(filter(lambda x: x[1] == 1, train_dataset_opt))\n",
        "not1_list = list(filter(lambda x: x[1] != 1, train_dataset_opt))\n",
        "\n",
        "print(f'number of 1\\'s = {len(num1_list)}')\n",
        "print(f'number of not 1\\'s = {len(not1_list)}')\n",
        "\n",
        "num1_X = np.array(list( map(lambda x: x[0].numpy(), num1_list) ))\n",
        "not1_X = np.array(list( map(lambda x: x[0].numpy(), not1_list) ))\n",
        "num1_Y = np.array(list( map(lambda x: x[1], num1_list) ))\n",
        "not1_Y = np.array(list( map(lambda x: x[1], not1_list) ))\n",
        "\n",
        "fig, ax_list0 = plt.subplots(1, 2, figsize=(5, 10), constrained_layout=True)\n",
        "ax_list0[0].imshow(num1_X.sum(axis=0).reshape(28, 28), cmap='binary')\n",
        "ax_list0[1].imshow(not1_X.sum(axis=0).reshape(28, 28), cmap='binary')\n",
        "\n",
        "fig, ax_list1 = plt.subplots(1, 2, figsize=(5, 10), constrained_layout=True)\n",
        "ax_list1[0].imshow(num1_X.sum(axis=0).reshape(28, 28) > (len(num1_X) * 0.001), cmap='binary')\n",
        "ax_list1[1].imshow(not1_X.sum(axis=0).reshape(28, 28) > (len(not1_X) * 0.001), cmap='binary')"
      ]
    },
    {
      "cell_type": "markdown",
      "metadata": {
        "id": "zAOQfX_LUyFa"
      },
      "source": [
        "# Task 1\n",
        "\n",
        "\n"
      ]
    },
    {
      "cell_type": "code",
      "execution_count": 5,
      "metadata": {
        "id": "K34GE2_dNZWO"
      },
      "outputs": [],
      "source": [
        "from sklearn.model_selection import cross_validate\n",
        "from sklearn.tree import DecisionTreeClassifier\n",
        "from sklearn.ensemble import AdaBoostClassifier\n",
        "from sklearn.ensemble import RandomForestClassifier"
      ]
    },
    {
      "cell_type": "code",
      "source": [
        "X = np.concatenate([num1_X, not1_X])\n",
        "Y = np.concatenate([num1_Y, not1_Y])"
      ],
      "metadata": {
        "id": "CqcZy-MlAf8i"
      },
      "execution_count": 6,
      "outputs": []
    },
    {
      "cell_type": "markdown",
      "source": [
        "Here we tried different input parameters. Our basic model is the first `dt`.(dt with `gini`)\n",
        "\n",
        "Using entroy as criterion reduces the fit time. Limiting the max_depth also reduces the fit time, but at the cost of 1% accuracy(maybe a little underfit). `dt4` limits the number of features that each node can consider, reducing the fit time significantly without sacrificing accuracy. It is possible that we have too many redundant features, thus limiting the features will not impact the model too much."
      ],
      "metadata": {
        "id": "QicFHF3M4586"
      }
    },
    {
      "cell_type": "code",
      "execution_count": 7,
      "metadata": {
        "id": "V_cFkU0VUABw",
        "colab": {
          "base_uri": "https://localhost:8080/"
        },
        "outputId": "e43c7313-f15d-41f3-b31c-a1a8fda81357"
      },
      "outputs": [
        {
          "output_type": "stream",
          "name": "stdout",
          "text": [
            "[default dt]avg_fit_time = 11.24409739971161s\n",
            "[default dt]avg_pred_time = 0.01398167610168457s\n",
            "[default dt]avg_test_score = 0.98675\n",
            "\n",
            "[entropy dt]avg_fit_time = 6.966635394096374s\n",
            "[entropy dt]avg_pred_time = 0.01187739372253418s\n",
            "[entropy dt]avg_test_score = 0.9888\n",
            "\n",
            "[dt max_depth=5]avg_fit_time = 5.782234811782837s\n",
            "[dt max_depth=5]avg_pred_time = 0.01307675838470459s\n",
            "[dt max_depth=5]avg_test_score = 0.9760666666666665\n",
            "\n",
            "[dt max_features=100]avg_fit_time = 1.628520393371582s\n",
            "[dt max_features=100]avg_pred_time = 0.013470149040222168s\n",
            "[dt max_features=100]avg_test_score = 0.98715\n",
            "\n",
            "[entropy dt max_d=5,max_f=100]avg_fit_time = 0.8838881254196167s\n",
            "[entropy dt max_d=5,max_f=100]avg_pred_time = 0.012567973136901856s\n",
            "[entropy dt max_d=5,max_f=100]avg_test_score = 0.9658999999999999\n",
            "\n",
            "[entropy dt max_d=15,max_f=100]avg_fit_time = 1.1302621126174928s\n",
            "[entropy dt max_d=15,max_f=100]avg_pred_time = 0.013444638252258301s\n",
            "[entropy dt max_d=15,max_f=100]avg_test_score = 0.9891166666666666\n",
            "\n"
          ]
        }
      ],
      "source": [
        "def avg_print_cv(cv_ret, prefix=\"\"):\n",
        "  avg_fit_time = np.mean(cv_ret['fit_time'])\n",
        "  avg_test_score = np.mean(cv_ret['test_score'])\n",
        "  avg_pred_time = np.mean(cv_ret['score_time'])\n",
        "  print(f'{prefix}avg_fit_time = {avg_fit_time}s')\n",
        "  print(f'{prefix}avg_pred_time = {avg_pred_time}s')\n",
        "  print(f'{prefix}avg_test_score = {avg_test_score}')\n",
        "  print()\n",
        "  return avg_fit_time, avg_test_score\n",
        "\n",
        "dt = DecisionTreeClassifier(criterion='gini', random_state=0)\n",
        "cv_ret = cross_validate(dt, X, Y, scoring='accuracy', cv=10)\n",
        "dt_m = avg_print_cv(cv_ret, '[default dt]')\n",
        "\n",
        "dt2 = DecisionTreeClassifier(criterion='entropy', random_state=0)\n",
        "cv_ret2 = cross_validate(dt2, X, Y, scoring='accuracy', cv=10)\n",
        "dt_m2 = avg_print_cv(cv_ret2, '[entropy dt]')\n",
        "\n",
        "dt3 = DecisionTreeClassifier(criterion='gini', max_depth=5, random_state=0)\n",
        "cv_ret3 = cross_validate(dt3, X, Y, scoring='accuracy', cv=10)\n",
        "dt_m3 = avg_print_cv(cv_ret3, '[dt max_depth=5]')\n",
        "\n",
        "dt4 = DecisionTreeClassifier(criterion='gini', max_features=100, random_state=0)\n",
        "cv_ret4 = cross_validate(dt4, X, Y, scoring='accuracy', cv=10)\n",
        "dt_m4 = avg_print_cv(cv_ret4, '[dt max_features=100]')\n",
        "\n",
        "dt5 = DecisionTreeClassifier(criterion='entropy', max_depth=5, max_features=100, random_state=0)\n",
        "cv_ret5 = cross_validate(dt5, X, Y, scoring='accuracy', cv=10)\n",
        "dt_m5 = avg_print_cv(cv_ret5, '[entropy dt max_d=5,max_f=100]')\n",
        "\n",
        "dt6 = DecisionTreeClassifier(criterion='entropy', max_depth=15, max_features=100, random_state=0)\n",
        "cv_ret6 = cross_validate(dt6, X, Y, scoring='accuracy', cv=10)\n",
        "dt_m6 = avg_print_cv(cv_ret6, '[entropy dt max_d=15,max_f=100]')"
      ]
    },
    {
      "cell_type": "markdown",
      "source": [
        "Here we try to mitigate the effect of unbalanced dataset by weighting different classes. It seems to work, but the improvement is not significant."
      ],
      "metadata": {
        "id": "D1iPjes9A721"
      }
    },
    {
      "cell_type": "code",
      "source": [
        "X = np.concatenate([num1_X, not1_X])\n",
        "Y = np.concatenate([num1_Y, not1_Y])\n",
        "weights = {0:len(num1_X), 1:len(not1_X)}\n",
        "dt_s = DecisionTreeClassifier(criterion='gini', class_weight=weights, random_state=0)\n",
        "cv_ret_s = cross_validate(dt_s, X, Y, scoring='accuracy', cv=10)\n",
        "dt_m_s = avg_print_cv(cv_ret_s, '[Balance dt]')\n",
        "\n",
        "dt_s2 = DecisionTreeClassifier(criterion='entropy', class_weight=weights, random_state=0)\n",
        "cv_ret_s2 = cross_validate(dt_s2, X, Y, scoring='accuracy', cv=10)\n",
        "dt_m_s2 = avg_print_cv(cv_ret_s2, '[B entropy dt]')\n",
        "\n",
        "dt_s3 = DecisionTreeClassifier(criterion='entropy', max_depth=15, max_features=100, class_weight=weights, random_state=0)\n",
        "cv_ret_s3 = cross_validate(dt_s3, X, Y, scoring='accuracy', cv=10)\n",
        "dt_m_s3 = avg_print_cv(cv_ret_s3, '[B entropy dt max_d=15,max_f=100]')"
      ],
      "metadata": {
        "colab": {
          "base_uri": "https://localhost:8080/"
        },
        "id": "5gwz-QyusSkc",
        "outputId": "360b28f4-647f-4dd1-e79f-9fc0104b2d07"
      },
      "execution_count": 8,
      "outputs": [
        {
          "output_type": "stream",
          "name": "stdout",
          "text": [
            "[Balance dt]avg_fit_time = 15.282448935508729s\n",
            "[Balance dt]avg_pred_time = 0.015084576606750489s\n",
            "[Balance dt]avg_test_score = 0.9888333333333333\n",
            "\n",
            "[B entropy dt]avg_fit_time = 7.052558875083923s\n",
            "[B entropy dt]avg_pred_time = 0.01312875747680664s\n",
            "[B entropy dt]avg_test_score = 0.9895000000000002\n",
            "\n",
            "[B entropy dt max_d=15,max_f=100]avg_fit_time = 1.112791156768799s\n",
            "[B entropy dt max_d=15,max_f=100]avg_pred_time = 0.012908077239990235s\n",
            "[B entropy dt max_d=15,max_f=100]avg_test_score = 0.9889666666666667\n",
            "\n"
          ]
        }
      ]
    },
    {
      "cell_type": "code",
      "source": [
        "\"\"\"\n",
        "Here I verified my guess, X410 is (13, 17), a pixel in the middle-right.\n",
        "X378, X351 are also pixels in the middle.\n",
        "\"\"\"\n",
        "\n",
        "from sklearn import tree\n",
        "import graphviz \n",
        "dt_s.fit(X,Y)\n",
        "dot_data = tree.export_graphviz(dt_s, out_file=None, \n",
        "                     filled=True, rounded=True,  \n",
        "                     special_characters=True,\n",
        "                     max_depth=3)  \n",
        "graph = graphviz.Source(dot_data)  \n",
        "graph "
      ],
      "metadata": {
        "colab": {
          "base_uri": "https://localhost:8080/",
          "height": 632
        },
        "id": "e4OIRgfjubaW",
        "outputId": "838569c4-e669-4216-a29f-6c80cac44831"
      },
      "execution_count": null,
      "outputs": [
        {
          "output_type": "execute_result",
          "data": {
            "text/plain": [
              "<graphviz.files.Source at 0x7fe446645650>"
            ],
            "image/svg+xml": "<?xml version=\"1.0\" encoding=\"UTF-8\" standalone=\"no\"?>\n<!DOCTYPE svg PUBLIC \"-//W3C//DTD SVG 1.1//EN\"\n \"http://www.w3.org/Graphics/SVG/1.1/DTD/svg11.dtd\">\n<!-- Generated by graphviz version 2.40.1 (20161225.0304)\n -->\n<!-- Title: Tree Pages: 1 -->\n<svg width=\"1745pt\" height=\"444pt\"\n viewBox=\"0.00 0.00 1745.00 444.00\" xmlns=\"http://www.w3.org/2000/svg\" xmlns:xlink=\"http://www.w3.org/1999/xlink\">\n<g id=\"graph0\" class=\"graph\" transform=\"scale(1 1) rotate(0) translate(4 440)\">\n<title>Tree</title>\n<polygon fill=\"#ffffff\" stroke=\"transparent\" points=\"-4,4 -4,-440 1741,-440 1741,4 -4,4\"/>\n<!-- 0 -->\n<g id=\"node1\" class=\"node\">\n<title>0</title>\n<path fill=\"#ffffff\" stroke=\"#000000\" d=\"M996.5,-436C996.5,-436 789.5,-436 789.5,-436 783.5,-436 777.5,-430 777.5,-424 777.5,-424 777.5,-384 777.5,-384 777.5,-378 783.5,-372 789.5,-372 789.5,-372 996.5,-372 996.5,-372 1002.5,-372 1008.5,-378 1008.5,-384 1008.5,-384 1008.5,-424 1008.5,-424 1008.5,-430 1002.5,-436 996.5,-436\"/>\n<text text-anchor=\"start\" x=\"851.5\" y=\"-421.8\" font-family=\"Helvetica,sans-Serif\" font-size=\"14.00\" fill=\"#000000\">X</text>\n<text text-anchor=\"start\" x=\"861.5\" y=\"-421.8\" font-family=\"Helvetica,sans-Serif\" baseline-shift=\"sub\" font-size=\"14.00\" fill=\"#000000\">410</text>\n<text text-anchor=\"start\" x=\"882.5\" y=\"-421.8\" font-family=\"Helvetica,sans-Serif\" font-size=\"14.00\" fill=\"#000000\"> ≤ 0.002</text>\n<text text-anchor=\"start\" x=\"863.5\" y=\"-407.8\" font-family=\"Helvetica,sans-Serif\" font-size=\"14.00\" fill=\"#000000\">gini = 0.5</text>\n<text text-anchor=\"start\" x=\"837\" y=\"-393.8\" font-family=\"Helvetica,sans-Serif\" font-size=\"14.00\" fill=\"#000000\">samples = 60000</text>\n<text text-anchor=\"start\" x=\"785.5\" y=\"-379.8\" font-family=\"Helvetica,sans-Serif\" font-size=\"14.00\" fill=\"#000000\">value = [359065436, 359065436]</text>\n</g>\n<!-- 1 -->\n<g id=\"node2\" class=\"node\">\n<title>1</title>\n<path fill=\"#7ebfee\" stroke=\"#000000\" d=\"M767.5,-336C767.5,-336 560.5,-336 560.5,-336 554.5,-336 548.5,-330 548.5,-324 548.5,-324 548.5,-284 548.5,-284 548.5,-278 554.5,-272 560.5,-272 560.5,-272 767.5,-272 767.5,-272 773.5,-272 779.5,-278 779.5,-284 779.5,-284 779.5,-324 779.5,-324 779.5,-330 773.5,-336 767.5,-336\"/>\n<text text-anchor=\"start\" x=\"622.5\" y=\"-321.8\" font-family=\"Helvetica,sans-Serif\" font-size=\"14.00\" fill=\"#000000\">X</text>\n<text text-anchor=\"start\" x=\"632.5\" y=\"-321.8\" font-family=\"Helvetica,sans-Serif\" baseline-shift=\"sub\" font-size=\"14.00\" fill=\"#000000\">378</text>\n<text text-anchor=\"start\" x=\"653.5\" y=\"-321.8\" font-family=\"Helvetica,sans-Serif\" font-size=\"14.00\" fill=\"#000000\"> ≤ 0.524</text>\n<text text-anchor=\"start\" x=\"626\" y=\"-307.8\" font-family=\"Helvetica,sans-Serif\" font-size=\"14.00\" fill=\"#000000\">gini = 0.383</text>\n<text text-anchor=\"start\" x=\"608\" y=\"-293.8\" font-family=\"Helvetica,sans-Serif\" font-size=\"14.00\" fill=\"#000000\">samples = 24782</text>\n<text text-anchor=\"start\" x=\"556.5\" y=\"-279.8\" font-family=\"Helvetica,sans-Serif\" font-size=\"14.00\" fill=\"#000000\">value = [122454946, 352514702]</text>\n</g>\n<!-- 0&#45;&gt;1 -->\n<g id=\"edge1\" class=\"edge\">\n<title>0&#45;&gt;1</title>\n<path fill=\"none\" stroke=\"#000000\" d=\"M819.5981,-371.9467C796.3841,-361.8096 770.5714,-350.5377 746.7497,-340.1352\"/>\n<polygon fill=\"#000000\" stroke=\"#000000\" points=\"747.9442,-336.8377 737.3791,-336.0433 745.1428,-343.2528 747.9442,-336.8377\"/>\n<text text-anchor=\"middle\" x=\"746.5051\" y=\"-355.6181\" font-family=\"Helvetica,sans-Serif\" font-size=\"14.00\" fill=\"#000000\">True</text>\n</g>\n<!-- 642 -->\n<g id=\"node17\" class=\"node\">\n<title>642</title>\n<path fill=\"#e6843e\" stroke=\"#000000\" d=\"M1198.5,-336C1198.5,-336 1007.5,-336 1007.5,-336 1001.5,-336 995.5,-330 995.5,-324 995.5,-324 995.5,-284 995.5,-284 995.5,-278 1001.5,-272 1007.5,-272 1007.5,-272 1198.5,-272 1198.5,-272 1204.5,-272 1210.5,-278 1210.5,-284 1210.5,-284 1210.5,-324 1210.5,-324 1210.5,-330 1204.5,-336 1198.5,-336\"/>\n<text text-anchor=\"start\" x=\"1061.5\" y=\"-321.8\" font-family=\"Helvetica,sans-Serif\" font-size=\"14.00\" fill=\"#000000\">X</text>\n<text text-anchor=\"start\" x=\"1071.5\" y=\"-321.8\" font-family=\"Helvetica,sans-Serif\" baseline-shift=\"sub\" font-size=\"14.00\" fill=\"#000000\">351</text>\n<text text-anchor=\"start\" x=\"1092.5\" y=\"-321.8\" font-family=\"Helvetica,sans-Serif\" font-size=\"14.00\" fill=\"#000000\"> ≤ 0.978</text>\n<text text-anchor=\"start\" x=\"1065\" y=\"-307.8\" font-family=\"Helvetica,sans-Serif\" font-size=\"14.00\" fill=\"#000000\">gini = 0.052</text>\n<text text-anchor=\"start\" x=\"1047\" y=\"-293.8\" font-family=\"Helvetica,sans-Serif\" font-size=\"14.00\" fill=\"#000000\">samples = 35218</text>\n<text text-anchor=\"start\" x=\"1003.5\" y=\"-279.8\" font-family=\"Helvetica,sans-Serif\" font-size=\"14.00\" fill=\"#000000\">value = [236610490, 6550734]</text>\n</g>\n<!-- 0&#45;&gt;642 -->\n<g id=\"edge16\" class=\"edge\">\n<title>0&#45;&gt;642</title>\n<path fill=\"none\" stroke=\"#000000\" d=\"M960.3118,-371.9467C981.4114,-361.8993 1004.852,-350.7372 1026.5356,-340.4116\"/>\n<polygon fill=\"#000000\" stroke=\"#000000\" points=\"1028.1852,-343.5027 1035.7091,-336.0433 1025.1757,-337.1827 1028.1852,-343.5027\"/>\n<text text-anchor=\"middle\" x=\"1027.3488\" y=\"-355.904\" font-family=\"Helvetica,sans-Serif\" font-size=\"14.00\" fill=\"#000000\">False</text>\n</g>\n<!-- 2 -->\n<g id=\"node3\" class=\"node\">\n<title>2</title>\n<path fill=\"#e89051\" stroke=\"#000000\" d=\"M414,-236C414,-236 232,-236 232,-236 226,-236 220,-230 220,-224 220,-224 220,-184 220,-184 220,-178 226,-172 232,-172 232,-172 414,-172 414,-172 420,-172 426,-178 426,-184 426,-184 426,-224 426,-224 426,-230 420,-236 414,-236\"/>\n<text text-anchor=\"start\" x=\"281.5\" y=\"-221.8\" font-family=\"Helvetica,sans-Serif\" font-size=\"14.00\" fill=\"#000000\">X</text>\n<text text-anchor=\"start\" x=\"291.5\" y=\"-221.8\" font-family=\"Helvetica,sans-Serif\" baseline-shift=\"sub\" font-size=\"14.00\" fill=\"#000000\">351</text>\n<text text-anchor=\"start\" x=\"312.5\" y=\"-221.8\" font-family=\"Helvetica,sans-Serif\" font-size=\"14.00\" fill=\"#000000\"> ≤ 0.563</text>\n<text text-anchor=\"start\" x=\"289.5\" y=\"-207.8\" font-family=\"Helvetica,sans-Serif\" font-size=\"14.00\" fill=\"#000000\">gini = 0.19</text>\n<text text-anchor=\"start\" x=\"267\" y=\"-193.8\" font-family=\"Helvetica,sans-Serif\" font-size=\"14.00\" fill=\"#000000\">samples = 10956</text>\n<text text-anchor=\"start\" x=\"228\" y=\"-179.8\" font-family=\"Helvetica,sans-Serif\" font-size=\"14.00\" fill=\"#000000\">value = [72766406, 8681054]</text>\n</g>\n<!-- 1&#45;&gt;2 -->\n<g id=\"edge2\" class=\"edge\">\n<title>1&#45;&gt;2</title>\n<path fill=\"none\" stroke=\"#000000\" d=\"M554.6984,-271.9467C516.7156,-260.8081 474.0609,-248.2994 435.8007,-237.0794\"/>\n<polygon fill=\"#000000\" stroke=\"#000000\" points=\"436.7546,-233.7118 426.1738,-234.2562 434.7847,-240.4289 436.7546,-233.7118\"/>\n</g>\n<!-- 175 -->\n<g id=\"node10\" class=\"node\">\n<title>175</title>\n<path fill=\"#56abe9\" stroke=\"#000000\" d=\"M763.5,-236C763.5,-236 564.5,-236 564.5,-236 558.5,-236 552.5,-230 552.5,-224 552.5,-224 552.5,-184 552.5,-184 552.5,-178 558.5,-172 564.5,-172 564.5,-172 763.5,-172 763.5,-172 769.5,-172 775.5,-178 775.5,-184 775.5,-184 775.5,-224 775.5,-224 775.5,-230 769.5,-236 763.5,-236\"/>\n<text text-anchor=\"start\" x=\"622.5\" y=\"-221.8\" font-family=\"Helvetica,sans-Serif\" font-size=\"14.00\" fill=\"#000000\">X</text>\n<text text-anchor=\"start\" x=\"632.5\" y=\"-221.8\" font-family=\"Helvetica,sans-Serif\" baseline-shift=\"sub\" font-size=\"14.00\" fill=\"#000000\">522</text>\n<text text-anchor=\"start\" x=\"653.5\" y=\"-221.8\" font-family=\"Helvetica,sans-Serif\" font-size=\"14.00\" fill=\"#000000\"> ≤ 0.002</text>\n<text text-anchor=\"start\" x=\"626\" y=\"-207.8\" font-family=\"Helvetica,sans-Serif\" font-size=\"14.00\" fill=\"#000000\">gini = 0.221</text>\n<text text-anchor=\"start\" x=\"608\" y=\"-193.8\" font-family=\"Helvetica,sans-Serif\" font-size=\"14.00\" fill=\"#000000\">samples = 13826</text>\n<text text-anchor=\"start\" x=\"560.5\" y=\"-179.8\" font-family=\"Helvetica,sans-Serif\" font-size=\"14.00\" fill=\"#000000\">value = [49688540, 343833648]</text>\n</g>\n<!-- 1&#45;&gt;175 -->\n<g id=\"edge9\" class=\"edge\">\n<title>1&#45;&gt;175</title>\n<path fill=\"none\" stroke=\"#000000\" d=\"M664,-271.8089C664,-263.6906 664,-254.8517 664,-246.3186\"/>\n<polygon fill=\"#000000\" stroke=\"#000000\" points=\"667.5001,-246.1307 664,-236.1308 660.5001,-246.1308 667.5001,-246.1307\"/>\n</g>\n<!-- 3 -->\n<g id=\"node4\" class=\"node\">\n<title>3</title>\n<path fill=\"#e68742\" stroke=\"#000000\" d=\"M194,-136C194,-136 12,-136 12,-136 6,-136 0,-130 0,-124 0,-124 0,-84 0,-84 0,-78 6,-72 12,-72 12,-72 194,-72 194,-72 200,-72 206,-78 206,-84 206,-84 206,-124 206,-124 206,-130 200,-136 194,-136\"/>\n<text text-anchor=\"start\" x=\"61.5\" y=\"-121.8\" font-family=\"Helvetica,sans-Serif\" font-size=\"14.00\" fill=\"#000000\">X</text>\n<text text-anchor=\"start\" x=\"71.5\" y=\"-121.8\" font-family=\"Helvetica,sans-Serif\" baseline-shift=\"sub\" font-size=\"14.00\" fill=\"#000000\">377</text>\n<text text-anchor=\"start\" x=\"92.5\" y=\"-121.8\" font-family=\"Helvetica,sans-Serif\" font-size=\"14.00\" fill=\"#000000\"> ≤ 0.876</text>\n<text text-anchor=\"start\" x=\"65\" y=\"-107.8\" font-family=\"Helvetica,sans-Serif\" font-size=\"14.00\" fill=\"#000000\">gini = 0.085</text>\n<text text-anchor=\"start\" x=\"51\" y=\"-93.8\" font-family=\"Helvetica,sans-Serif\" font-size=\"14.00\" fill=\"#000000\">samples = 9547</text>\n<text text-anchor=\"start\" x=\"8\" y=\"-79.8\" font-family=\"Helvetica,sans-Serif\" font-size=\"14.00\" fill=\"#000000\">value = [63988322, 2982448]</text>\n</g>\n<!-- 2&#45;&gt;3 -->\n<g id=\"edge3\" class=\"edge\">\n<title>2&#45;&gt;3</title>\n<path fill=\"none\" stroke=\"#000000\" d=\"M252.4828,-171.9467C230.2799,-161.8545 205.6024,-150.6375 182.8014,-140.2734\"/>\n<polygon fill=\"#000000\" stroke=\"#000000\" points=\"184.0473,-136.9951 173.4953,-136.0433 181.1506,-143.3677 184.0473,-136.9951\"/>\n</g>\n<!-- 96 -->\n<g id=\"node7\" class=\"node\">\n<title>96</title>\n<path fill=\"#f6d3ba\" stroke=\"#000000\" d=\"M410,-136C410,-136 236,-136 236,-136 230,-136 224,-130 224,-124 224,-124 224,-84 224,-84 224,-78 230,-72 236,-72 236,-72 410,-72 410,-72 416,-72 422,-78 422,-84 422,-84 422,-124 422,-124 422,-130 416,-136 410,-136\"/>\n<text text-anchor=\"start\" x=\"281.5\" y=\"-121.8\" font-family=\"Helvetica,sans-Serif\" font-size=\"14.00\" fill=\"#000000\">X</text>\n<text text-anchor=\"start\" x=\"291.5\" y=\"-121.8\" font-family=\"Helvetica,sans-Serif\" baseline-shift=\"sub\" font-size=\"14.00\" fill=\"#000000\">262</text>\n<text text-anchor=\"start\" x=\"312.5\" y=\"-121.8\" font-family=\"Helvetica,sans-Serif\" font-size=\"14.00\" fill=\"#000000\"> ≤ 0.045</text>\n<text text-anchor=\"start\" x=\"285\" y=\"-107.8\" font-family=\"Helvetica,sans-Serif\" font-size=\"14.00\" fill=\"#000000\">gini = 0.477</text>\n<text text-anchor=\"start\" x=\"271\" y=\"-93.8\" font-family=\"Helvetica,sans-Serif\" font-size=\"14.00\" fill=\"#000000\">samples = 1409</text>\n<text text-anchor=\"start\" x=\"232\" y=\"-79.8\" font-family=\"Helvetica,sans-Serif\" font-size=\"14.00\" fill=\"#000000\">value = [8778084, 5698606]</text>\n</g>\n<!-- 2&#45;&gt;96 -->\n<g id=\"edge6\" class=\"edge\">\n<title>2&#45;&gt;96</title>\n<path fill=\"none\" stroke=\"#000000\" d=\"M323,-171.8089C323,-163.6906 323,-154.8517 323,-146.3186\"/>\n<polygon fill=\"#000000\" stroke=\"#000000\" points=\"326.5001,-146.1307 323,-136.1308 319.5001,-146.1308 326.5001,-146.1307\"/>\n</g>\n<!-- 4 -->\n<g id=\"node5\" class=\"node\">\n<title>4</title>\n<path fill=\"#c0c0c0\" stroke=\"#000000\" d=\"M82,-36C82,-36 52,-36 52,-36 46,-36 40,-30 40,-24 40,-24 40,-12 40,-12 40,-6 46,0 52,0 52,0 82,0 82,0 88,0 94,-6 94,-12 94,-12 94,-24 94,-24 94,-30 88,-36 82,-36\"/>\n<text text-anchor=\"middle\" x=\"67\" y=\"-14.3\" font-family=\"Helvetica,sans-Serif\" font-size=\"14.00\" fill=\"#000000\">(...)</text>\n</g>\n<!-- 3&#45;&gt;4 -->\n<g id=\"edge4\" class=\"edge\">\n<title>3&#45;&gt;4</title>\n<path fill=\"none\" stroke=\"#000000\" d=\"M89.5949,-71.9768C85.9741,-63.327 82.0874,-54.0421 78.5761,-45.654\"/>\n<polygon fill=\"#000000\" stroke=\"#000000\" points=\"81.755,-44.1837 74.665,-36.3108 75.2979,-46.8867 81.755,-44.1837\"/>\n</g>\n<!-- 81 -->\n<g id=\"node6\" class=\"node\">\n<title>81</title>\n<path fill=\"#c0c0c0\" stroke=\"#000000\" d=\"M154,-36C154,-36 124,-36 124,-36 118,-36 112,-30 112,-24 112,-24 112,-12 112,-12 112,-6 118,0 124,0 124,0 154,0 154,0 160,0 166,-6 166,-12 166,-12 166,-24 166,-24 166,-30 160,-36 154,-36\"/>\n<text text-anchor=\"middle\" x=\"139\" y=\"-14.3\" font-family=\"Helvetica,sans-Serif\" font-size=\"14.00\" fill=\"#000000\">(...)</text>\n</g>\n<!-- 3&#45;&gt;81 -->\n<g id=\"edge5\" class=\"edge\">\n<title>3&#45;&gt;81</title>\n<path fill=\"none\" stroke=\"#000000\" d=\"M116.4051,-71.9768C120.0259,-63.327 123.9126,-54.0421 127.4239,-45.654\"/>\n<polygon fill=\"#000000\" stroke=\"#000000\" points=\"130.7021,-46.8867 131.335,-36.3108 124.245,-44.1837 130.7021,-46.8867\"/>\n</g>\n<!-- 97 -->\n<g id=\"node8\" class=\"node\">\n<title>97</title>\n<path fill=\"#c0c0c0\" stroke=\"#000000\" d=\"M302,-36C302,-36 272,-36 272,-36 266,-36 260,-30 260,-24 260,-24 260,-12 260,-12 260,-6 266,0 272,0 272,0 302,0 302,0 308,0 314,-6 314,-12 314,-12 314,-24 314,-24 314,-30 308,-36 302,-36\"/>\n<text text-anchor=\"middle\" x=\"287\" y=\"-14.3\" font-family=\"Helvetica,sans-Serif\" font-size=\"14.00\" fill=\"#000000\">(...)</text>\n</g>\n<!-- 96&#45;&gt;97 -->\n<g id=\"edge7\" class=\"edge\">\n<title>96&#45;&gt;97</title>\n<path fill=\"none\" stroke=\"#000000\" d=\"M309.5949,-71.9768C305.9741,-63.327 302.0874,-54.0421 298.5761,-45.654\"/>\n<polygon fill=\"#000000\" stroke=\"#000000\" points=\"301.755,-44.1837 294.665,-36.3108 295.2979,-46.8867 301.755,-44.1837\"/>\n</g>\n<!-- 156 -->\n<g id=\"node9\" class=\"node\">\n<title>156</title>\n<path fill=\"#c0c0c0\" stroke=\"#000000\" d=\"M374,-36C374,-36 344,-36 344,-36 338,-36 332,-30 332,-24 332,-24 332,-12 332,-12 332,-6 338,0 344,0 344,0 374,0 374,0 380,0 386,-6 386,-12 386,-12 386,-24 386,-24 386,-30 380,-36 374,-36\"/>\n<text text-anchor=\"middle\" x=\"359\" y=\"-14.3\" font-family=\"Helvetica,sans-Serif\" font-size=\"14.00\" fill=\"#000000\">(...)</text>\n</g>\n<!-- 96&#45;&gt;156 -->\n<g id=\"edge8\" class=\"edge\">\n<title>96&#45;&gt;156</title>\n<path fill=\"none\" stroke=\"#000000\" d=\"M336.4051,-71.9768C340.0259,-63.327 343.9126,-54.0421 347.4239,-45.654\"/>\n<polygon fill=\"#000000\" stroke=\"#000000\" points=\"350.7021,-46.8867 351.335,-36.3108 344.245,-44.1837 350.7021,-46.8867\"/>\n</g>\n<!-- 176 -->\n<g id=\"node11\" class=\"node\">\n<title>176</title>\n<path fill=\"#47a4e7\" stroke=\"#000000\" d=\"M651.5,-136C651.5,-136 452.5,-136 452.5,-136 446.5,-136 440.5,-130 440.5,-124 440.5,-124 440.5,-84 440.5,-84 440.5,-78 446.5,-72 452.5,-72 452.5,-72 651.5,-72 651.5,-72 657.5,-72 663.5,-78 663.5,-84 663.5,-84 663.5,-124 663.5,-124 663.5,-130 657.5,-136 651.5,-136\"/>\n<text text-anchor=\"start\" x=\"510.5\" y=\"-121.8\" font-family=\"Helvetica,sans-Serif\" font-size=\"14.00\" fill=\"#000000\">X</text>\n<text text-anchor=\"start\" x=\"520.5\" y=\"-121.8\" font-family=\"Helvetica,sans-Serif\" baseline-shift=\"sub\" font-size=\"14.00\" fill=\"#000000\">262</text>\n<text text-anchor=\"start\" x=\"541.5\" y=\"-121.8\" font-family=\"Helvetica,sans-Serif\" font-size=\"14.00\" fill=\"#000000\"> ≤ 0.002</text>\n<text text-anchor=\"start\" x=\"514\" y=\"-107.8\" font-family=\"Helvetica,sans-Serif\" font-size=\"14.00\" fill=\"#000000\">gini = 0.125</text>\n<text text-anchor=\"start\" x=\"500\" y=\"-93.8\" font-family=\"Helvetica,sans-Serif\" font-size=\"14.00\" fill=\"#000000\">samples = 9979</text>\n<text text-anchor=\"start\" x=\"448.5\" y=\"-79.8\" font-family=\"Helvetica,sans-Serif\" font-size=\"14.00\" fill=\"#000000\">value = [24392556, 338774138]</text>\n</g>\n<!-- 175&#45;&gt;176 -->\n<g id=\"edge10\" class=\"edge\">\n<title>175&#45;&gt;176</title>\n<path fill=\"none\" stroke=\"#000000\" d=\"M627.946,-171.8089C617.6544,-162.62 606.329,-152.508 595.6365,-142.9612\"/>\n<polygon fill=\"#000000\" stroke=\"#000000\" points=\"597.7769,-140.1802 587.9865,-136.1308 593.1148,-145.4017 597.7769,-140.1802\"/>\n</g>\n<!-- 579 -->\n<g id=\"node14\" class=\"node\">\n<title>579</title>\n<path fill=\"#ea9a61\" stroke=\"#000000\" d=\"M876,-136C876,-136 694,-136 694,-136 688,-136 682,-130 682,-124 682,-124 682,-84 682,-84 682,-78 688,-72 694,-72 694,-72 876,-72 876,-72 882,-72 888,-78 888,-84 888,-84 888,-124 888,-124 888,-130 882,-136 876,-136\"/>\n<text text-anchor=\"start\" x=\"743.5\" y=\"-121.8\" font-family=\"Helvetica,sans-Serif\" font-size=\"14.00\" fill=\"#000000\">X</text>\n<text text-anchor=\"start\" x=\"753.5\" y=\"-121.8\" font-family=\"Helvetica,sans-Serif\" baseline-shift=\"sub\" font-size=\"14.00\" fill=\"#000000\">293</text>\n<text text-anchor=\"start\" x=\"774.5\" y=\"-121.8\" font-family=\"Helvetica,sans-Serif\" font-size=\"14.00\" fill=\"#000000\"> ≤ 0.912</text>\n<text text-anchor=\"start\" x=\"747\" y=\"-107.8\" font-family=\"Helvetica,sans-Serif\" font-size=\"14.00\" fill=\"#000000\">gini = 0.278</text>\n<text text-anchor=\"start\" x=\"733\" y=\"-93.8\" font-family=\"Helvetica,sans-Serif\" font-size=\"14.00\" fill=\"#000000\">samples = 3847</text>\n<text text-anchor=\"start\" x=\"690\" y=\"-79.8\" font-family=\"Helvetica,sans-Serif\" font-size=\"14.00\" fill=\"#000000\">value = [25295984, 5059510]</text>\n</g>\n<!-- 175&#45;&gt;579 -->\n<g id=\"edge13\" class=\"edge\">\n<title>175&#45;&gt;579</title>\n<path fill=\"none\" stroke=\"#000000\" d=\"M702.9512,-171.8089C714.1777,-162.5308 726.5429,-152.3116 738.1932,-142.6833\"/>\n<polygon fill=\"#000000\" stroke=\"#000000\" points=\"740.6432,-145.1992 746.1218,-136.1308 736.1838,-139.8034 740.6432,-145.1992\"/>\n</g>\n<!-- 177 -->\n<g id=\"node12\" class=\"node\">\n<title>177</title>\n<path fill=\"#c0c0c0\" stroke=\"#000000\" d=\"M531,-36C531,-36 501,-36 501,-36 495,-36 489,-30 489,-24 489,-24 489,-12 489,-12 489,-6 495,0 501,0 501,0 531,0 531,0 537,0 543,-6 543,-12 543,-12 543,-24 543,-24 543,-30 537,-36 531,-36\"/>\n<text text-anchor=\"middle\" x=\"516\" y=\"-14.3\" font-family=\"Helvetica,sans-Serif\" font-size=\"14.00\" fill=\"#000000\">(...)</text>\n</g>\n<!-- 176&#45;&gt;177 -->\n<g id=\"edge11\" class=\"edge\">\n<title>176&#45;&gt;177</title>\n<path fill=\"none\" stroke=\"#000000\" d=\"M538.5949,-71.9768C534.9741,-63.327 531.0874,-54.0421 527.5761,-45.654\"/>\n<polygon fill=\"#000000\" stroke=\"#000000\" points=\"530.755,-44.1837 523.665,-36.3108 524.2979,-46.8867 530.755,-44.1837\"/>\n</g>\n<!-- 534 -->\n<g id=\"node13\" class=\"node\">\n<title>534</title>\n<path fill=\"#c0c0c0\" stroke=\"#000000\" d=\"M603,-36C603,-36 573,-36 573,-36 567,-36 561,-30 561,-24 561,-24 561,-12 561,-12 561,-6 567,0 573,0 573,0 603,0 603,0 609,0 615,-6 615,-12 615,-12 615,-24 615,-24 615,-30 609,-36 603,-36\"/>\n<text text-anchor=\"middle\" x=\"588\" y=\"-14.3\" font-family=\"Helvetica,sans-Serif\" font-size=\"14.00\" fill=\"#000000\">(...)</text>\n</g>\n<!-- 176&#45;&gt;534 -->\n<g id=\"edge12\" class=\"edge\">\n<title>176&#45;&gt;534</title>\n<path fill=\"none\" stroke=\"#000000\" d=\"M565.4051,-71.9768C569.0259,-63.327 572.9126,-54.0421 576.4239,-45.654\"/>\n<polygon fill=\"#000000\" stroke=\"#000000\" points=\"579.7021,-46.8867 580.335,-36.3108 573.245,-44.1837 579.7021,-46.8867\"/>\n</g>\n<!-- 580 -->\n<g id=\"node15\" class=\"node\">\n<title>580</title>\n<path fill=\"#c0c0c0\" stroke=\"#000000\" d=\"M764,-36C764,-36 734,-36 734,-36 728,-36 722,-30 722,-24 722,-24 722,-12 722,-12 722,-6 728,0 734,0 734,0 764,0 764,0 770,0 776,-6 776,-12 776,-12 776,-24 776,-24 776,-30 770,-36 764,-36\"/>\n<text text-anchor=\"middle\" x=\"749\" y=\"-14.3\" font-family=\"Helvetica,sans-Serif\" font-size=\"14.00\" fill=\"#000000\">(...)</text>\n</g>\n<!-- 579&#45;&gt;580 -->\n<g id=\"edge14\" class=\"edge\">\n<title>579&#45;&gt;580</title>\n<path fill=\"none\" stroke=\"#000000\" d=\"M771.5949,-71.9768C767.9741,-63.327 764.0874,-54.0421 760.5761,-45.654\"/>\n<polygon fill=\"#000000\" stroke=\"#000000\" points=\"763.755,-44.1837 756.665,-36.3108 757.2979,-46.8867 763.755,-44.1837\"/>\n</g>\n<!-- 609 -->\n<g id=\"node16\" class=\"node\">\n<title>609</title>\n<path fill=\"#c0c0c0\" stroke=\"#000000\" d=\"M836,-36C836,-36 806,-36 806,-36 800,-36 794,-30 794,-24 794,-24 794,-12 794,-12 794,-6 800,0 806,0 806,0 836,0 836,0 842,0 848,-6 848,-12 848,-12 848,-24 848,-24 848,-30 842,-36 836,-36\"/>\n<text text-anchor=\"middle\" x=\"821\" y=\"-14.3\" font-family=\"Helvetica,sans-Serif\" font-size=\"14.00\" fill=\"#000000\">(...)</text>\n</g>\n<!-- 579&#45;&gt;609 -->\n<g id=\"edge15\" class=\"edge\">\n<title>579&#45;&gt;609</title>\n<path fill=\"none\" stroke=\"#000000\" d=\"M798.4051,-71.9768C802.0259,-63.327 805.9126,-54.0421 809.4239,-45.654\"/>\n<polygon fill=\"#000000\" stroke=\"#000000\" points=\"812.7021,-46.8867 813.335,-36.3108 806.245,-44.1837 812.7021,-46.8867\"/>\n</g>\n<!-- 643 -->\n<g id=\"node18\" class=\"node\">\n<title>643</title>\n<path fill=\"#e5823a\" stroke=\"#000000\" d=\"M1198.5,-236C1198.5,-236 1007.5,-236 1007.5,-236 1001.5,-236 995.5,-230 995.5,-224 995.5,-224 995.5,-184 995.5,-184 995.5,-178 1001.5,-172 1007.5,-172 1007.5,-172 1198.5,-172 1198.5,-172 1204.5,-172 1210.5,-178 1210.5,-184 1210.5,-184 1210.5,-224 1210.5,-224 1210.5,-230 1204.5,-236 1198.5,-236\"/>\n<text text-anchor=\"start\" x=\"1061.5\" y=\"-221.8\" font-family=\"Helvetica,sans-Serif\" font-size=\"14.00\" fill=\"#000000\">X</text>\n<text text-anchor=\"start\" x=\"1071.5\" y=\"-221.8\" font-family=\"Helvetica,sans-Serif\" baseline-shift=\"sub\" font-size=\"14.00\" fill=\"#000000\">171</text>\n<text text-anchor=\"start\" x=\"1092.5\" y=\"-221.8\" font-family=\"Helvetica,sans-Serif\" font-size=\"14.00\" fill=\"#000000\"> ≤ 0.973</text>\n<text text-anchor=\"start\" x=\"1065\" y=\"-207.8\" font-family=\"Helvetica,sans-Serif\" font-size=\"14.00\" fill=\"#000000\">gini = 0.014</text>\n<text text-anchor=\"start\" x=\"1047\" y=\"-193.8\" font-family=\"Helvetica,sans-Serif\" font-size=\"14.00\" fill=\"#000000\">samples = 28921</text>\n<text text-anchor=\"start\" x=\"1003.5\" y=\"-179.8\" font-family=\"Helvetica,sans-Serif\" font-size=\"14.00\" fill=\"#000000\">value = [194810090, 1384708]</text>\n</g>\n<!-- 642&#45;&gt;643 -->\n<g id=\"edge17\" class=\"edge\">\n<title>642&#45;&gt;643</title>\n<path fill=\"none\" stroke=\"#000000\" d=\"M1103,-271.8089C1103,-263.6906 1103,-254.8517 1103,-246.3186\"/>\n<polygon fill=\"#000000\" stroke=\"#000000\" points=\"1106.5001,-246.1307 1103,-236.1308 1099.5001,-246.1308 1106.5001,-246.1307\"/>\n</g>\n<!-- 716 -->\n<g id=\"node25\" class=\"node\">\n<title>716</title>\n<path fill=\"#e89151\" stroke=\"#000000\" d=\"M1513,-236C1513,-236 1331,-236 1331,-236 1325,-236 1319,-230 1319,-224 1319,-224 1319,-184 1319,-184 1319,-178 1325,-172 1331,-172 1331,-172 1513,-172 1513,-172 1519,-172 1525,-178 1525,-184 1525,-184 1525,-224 1525,-224 1525,-230 1519,-236 1513,-236\"/>\n<text text-anchor=\"start\" x=\"1380.5\" y=\"-221.8\" font-family=\"Helvetica,sans-Serif\" font-size=\"14.00\" fill=\"#000000\">X</text>\n<text text-anchor=\"start\" x=\"1390.5\" y=\"-221.8\" font-family=\"Helvetica,sans-Serif\" baseline-shift=\"sub\" font-size=\"14.00\" fill=\"#000000\">489</text>\n<text text-anchor=\"start\" x=\"1411.5\" y=\"-221.8\" font-family=\"Helvetica,sans-Serif\" font-size=\"14.00\" fill=\"#000000\"> ≤ 0.931</text>\n<text text-anchor=\"start\" x=\"1384\" y=\"-207.8\" font-family=\"Helvetica,sans-Serif\" font-size=\"14.00\" fill=\"#000000\">gini = 0.196</text>\n<text text-anchor=\"start\" x=\"1370\" y=\"-193.8\" font-family=\"Helvetica,sans-Serif\" font-size=\"14.00\" fill=\"#000000\">samples = 6297</text>\n<text text-anchor=\"start\" x=\"1327\" y=\"-179.8\" font-family=\"Helvetica,sans-Serif\" font-size=\"14.00\" fill=\"#000000\">value = [41800400, 5166026]</text>\n</g>\n<!-- 642&#45;&gt;716 -->\n<g id=\"edge24\" class=\"edge\">\n<title>642&#45;&gt;716</title>\n<path fill=\"none\" stroke=\"#000000\" d=\"M1205.2499,-271.9467C1238.5889,-261.4956 1275.7755,-249.8384 1309.8039,-239.1712\"/>\n<polygon fill=\"#000000\" stroke=\"#000000\" points=\"1311.2867,-242.3744 1319.7819,-236.0433 1309.1928,-235.6949 1311.2867,-242.3744\"/>\n</g>\n<!-- 644 -->\n<g id=\"node19\" class=\"node\">\n<title>644</title>\n<path fill=\"#e5823a\" stroke=\"#000000\" d=\"M1109.5,-136C1109.5,-136 918.5,-136 918.5,-136 912.5,-136 906.5,-130 906.5,-124 906.5,-124 906.5,-84 906.5,-84 906.5,-78 912.5,-72 918.5,-72 918.5,-72 1109.5,-72 1109.5,-72 1115.5,-72 1121.5,-78 1121.5,-84 1121.5,-84 1121.5,-124 1121.5,-124 1121.5,-130 1115.5,-136 1109.5,-136\"/>\n<text text-anchor=\"start\" x=\"976.5\" y=\"-121.8\" font-family=\"Helvetica,sans-Serif\" font-size=\"14.00\" fill=\"#000000\">X</text>\n<text text-anchor=\"start\" x=\"986.5\" y=\"-121.8\" font-family=\"Helvetica,sans-Serif\" baseline-shift=\"sub\" font-size=\"14.00\" fill=\"#000000\">438</text>\n<text text-anchor=\"start\" x=\"1007.5\" y=\"-121.8\" font-family=\"Helvetica,sans-Serif\" font-size=\"14.00\" fill=\"#000000\"> ≤ 0.21</text>\n<text text-anchor=\"start\" x=\"976\" y=\"-107.8\" font-family=\"Helvetica,sans-Serif\" font-size=\"14.00\" fill=\"#000000\">gini = 0.013</text>\n<text text-anchor=\"start\" x=\"958\" y=\"-93.8\" font-family=\"Helvetica,sans-Serif\" font-size=\"14.00\" fill=\"#000000\">samples = 28916</text>\n<text text-anchor=\"start\" x=\"914.5\" y=\"-79.8\" font-family=\"Helvetica,sans-Serif\" font-size=\"14.00\" fill=\"#000000\">value = [194783122, 1331450]</text>\n</g>\n<!-- 643&#45;&gt;644 -->\n<g id=\"edge18\" class=\"edge\">\n<title>643&#45;&gt;644</title>\n<path fill=\"none\" stroke=\"#000000\" d=\"M1074.3499,-171.8089C1066.41,-162.8877 1057.6957,-153.0963 1049.4191,-143.7968\"/>\n<polygon fill=\"#000000\" stroke=\"#000000\" points=\"1051.8592,-141.2738 1042.5964,-136.1308 1046.6302,-145.9277 1051.8592,-141.2738\"/>\n</g>\n<!-- 713 -->\n<g id=\"node22\" class=\"node\">\n<title>713</title>\n<path fill=\"#9dcff2\" stroke=\"#000000\" d=\"M1292.5,-136C1292.5,-136 1151.5,-136 1151.5,-136 1145.5,-136 1139.5,-130 1139.5,-124 1139.5,-124 1139.5,-84 1139.5,-84 1139.5,-78 1145.5,-72 1151.5,-72 1151.5,-72 1292.5,-72 1292.5,-72 1298.5,-72 1304.5,-78 1304.5,-84 1304.5,-84 1304.5,-124 1304.5,-124 1304.5,-130 1298.5,-136 1292.5,-136\"/>\n<text text-anchor=\"start\" x=\"1180.5\" y=\"-121.8\" font-family=\"Helvetica,sans-Serif\" font-size=\"14.00\" fill=\"#000000\">X</text>\n<text text-anchor=\"start\" x=\"1190.5\" y=\"-121.8\" font-family=\"Helvetica,sans-Serif\" baseline-shift=\"sub\" font-size=\"14.00\" fill=\"#000000\">433</text>\n<text text-anchor=\"start\" x=\"1211.5\" y=\"-121.8\" font-family=\"Helvetica,sans-Serif\" font-size=\"14.00\" fill=\"#000000\"> ≤ 0.994</text>\n<text text-anchor=\"start\" x=\"1184\" y=\"-107.8\" font-family=\"Helvetica,sans-Serif\" font-size=\"14.00\" fill=\"#000000\">gini = 0.446</text>\n<text text-anchor=\"start\" x=\"1182.5\" y=\"-93.8\" font-family=\"Helvetica,sans-Serif\" font-size=\"14.00\" fill=\"#000000\">samples = 5</text>\n<text text-anchor=\"start\" x=\"1147.5\" y=\"-79.8\" font-family=\"Helvetica,sans-Serif\" font-size=\"14.00\" fill=\"#000000\">value = [26968, 53258]</text>\n</g>\n<!-- 643&#45;&gt;713 -->\n<g id=\"edge21\" class=\"edge\">\n<title>643&#45;&gt;713</title>\n<path fill=\"none\" stroke=\"#000000\" d=\"M1141.3074,-171.8089C1152.3483,-162.5308 1164.5092,-152.3116 1175.9669,-142.6833\"/>\n<polygon fill=\"#000000\" stroke=\"#000000\" points=\"1178.3603,-145.2438 1183.7644,-136.1308 1173.8569,-139.8847 1178.3603,-145.2438\"/>\n</g>\n<!-- 645 -->\n<g id=\"node20\" class=\"node\">\n<title>645</title>\n<path fill=\"#c0c0c0\" stroke=\"#000000\" d=\"M989,-36C989,-36 959,-36 959,-36 953,-36 947,-30 947,-24 947,-24 947,-12 947,-12 947,-6 953,0 959,0 959,0 989,0 989,0 995,0 1001,-6 1001,-12 1001,-12 1001,-24 1001,-24 1001,-30 995,-36 989,-36\"/>\n<text text-anchor=\"middle\" x=\"974\" y=\"-14.3\" font-family=\"Helvetica,sans-Serif\" font-size=\"14.00\" fill=\"#000000\">(...)</text>\n</g>\n<!-- 644&#45;&gt;645 -->\n<g id=\"edge19\" class=\"edge\">\n<title>644&#45;&gt;645</title>\n<path fill=\"none\" stroke=\"#000000\" d=\"M999.1055,-71.9768C995.0386,-63.233 990.6699,-53.8402 986.7352,-45.3808\"/>\n<polygon fill=\"#000000\" stroke=\"#000000\" points=\"989.9075,-43.9019 982.5166,-36.3108 983.5605,-46.854 989.9075,-43.9019\"/>\n</g>\n<!-- 696 -->\n<g id=\"node21\" class=\"node\">\n<title>696</title>\n<path fill=\"#c0c0c0\" stroke=\"#000000\" d=\"M1061,-36C1061,-36 1031,-36 1031,-36 1025,-36 1019,-30 1019,-24 1019,-24 1019,-12 1019,-12 1019,-6 1025,0 1031,0 1031,0 1061,0 1061,0 1067,0 1073,-6 1073,-12 1073,-12 1073,-24 1073,-24 1073,-30 1067,-36 1061,-36\"/>\n<text text-anchor=\"middle\" x=\"1046\" y=\"-14.3\" font-family=\"Helvetica,sans-Serif\" font-size=\"14.00\" fill=\"#000000\">(...)</text>\n</g>\n<!-- 644&#45;&gt;696 -->\n<g id=\"edge20\" class=\"edge\">\n<title>644&#45;&gt;696</title>\n<path fill=\"none\" stroke=\"#000000\" d=\"M1025.9156,-71.9768C1029.0992,-63.421 1032.5139,-54.2439 1035.6083,-45.9278\"/>\n<polygon fill=\"#000000\" stroke=\"#000000\" points=\"1038.9796,-46.9036 1039.1867,-36.3108 1032.419,-44.4624 1038.9796,-46.9036\"/>\n</g>\n<!-- 714 -->\n<g id=\"node23\" class=\"node\">\n<title>714</title>\n<path fill=\"#c0c0c0\" stroke=\"#000000\" d=\"M1193,-36C1193,-36 1163,-36 1163,-36 1157,-36 1151,-30 1151,-24 1151,-24 1151,-12 1151,-12 1151,-6 1157,0 1163,0 1163,0 1193,0 1193,0 1199,0 1205,-6 1205,-12 1205,-12 1205,-24 1205,-24 1205,-30 1199,-36 1193,-36\"/>\n<text text-anchor=\"middle\" x=\"1178\" y=\"-14.3\" font-family=\"Helvetica,sans-Serif\" font-size=\"14.00\" fill=\"#000000\">(...)</text>\n</g>\n<!-- 713&#45;&gt;714 -->\n<g id=\"edge22\" class=\"edge\">\n<title>713&#45;&gt;714</title>\n<path fill=\"none\" stroke=\"#000000\" d=\"M1205.616,-71.9768C1201.1424,-63.233 1196.3368,-53.8402 1192.0088,-45.3808\"/>\n<polygon fill=\"#000000\" stroke=\"#000000\" points=\"1195.039,-43.6191 1187.3683,-36.3108 1188.8072,-46.8074 1195.039,-43.6191\"/>\n</g>\n<!-- 715 -->\n<g id=\"node24\" class=\"node\">\n<title>715</title>\n<path fill=\"#c0c0c0\" stroke=\"#000000\" d=\"M1265,-36C1265,-36 1235,-36 1235,-36 1229,-36 1223,-30 1223,-24 1223,-24 1223,-12 1223,-12 1223,-6 1229,0 1235,0 1235,0 1265,0 1265,0 1271,0 1277,-6 1277,-12 1277,-12 1277,-24 1277,-24 1277,-30 1271,-36 1265,-36\"/>\n<text text-anchor=\"middle\" x=\"1250\" y=\"-14.3\" font-family=\"Helvetica,sans-Serif\" font-size=\"14.00\" fill=\"#000000\">(...)</text>\n</g>\n<!-- 713&#45;&gt;715 -->\n<g id=\"edge23\" class=\"edge\">\n<title>713&#45;&gt;715</title>\n<path fill=\"none\" stroke=\"#000000\" d=\"M1232.4262,-71.9768C1235.2118,-63.421 1238.1997,-54.2439 1240.9072,-45.9278\"/>\n<polygon fill=\"#000000\" stroke=\"#000000\" points=\"1244.2705,-46.903 1244.0384,-36.3108 1237.6144,-44.7359 1244.2705,-46.903\"/>\n</g>\n<!-- 717 -->\n<g id=\"node26\" class=\"node\">\n<title>717</title>\n<path fill=\"#e5833c\" stroke=\"#000000\" d=\"M1509,-136C1509,-136 1335,-136 1335,-136 1329,-136 1323,-130 1323,-124 1323,-124 1323,-84 1323,-84 1323,-78 1329,-72 1335,-72 1335,-72 1509,-72 1509,-72 1515,-72 1521,-78 1521,-84 1521,-84 1521,-124 1521,-124 1521,-130 1515,-136 1509,-136\"/>\n<text text-anchor=\"start\" x=\"1380.5\" y=\"-121.8\" font-family=\"Helvetica,sans-Serif\" font-size=\"14.00\" fill=\"#000000\">X</text>\n<text text-anchor=\"start\" x=\"1390.5\" y=\"-121.8\" font-family=\"Helvetica,sans-Serif\" baseline-shift=\"sub\" font-size=\"14.00\" fill=\"#000000\">613</text>\n<text text-anchor=\"start\" x=\"1411.5\" y=\"-121.8\" font-family=\"Helvetica,sans-Serif\" font-size=\"14.00\" fill=\"#000000\"> ≤ 0.806</text>\n<text text-anchor=\"start\" x=\"1384\" y=\"-107.8\" font-family=\"Helvetica,sans-Serif\" font-size=\"14.00\" fill=\"#000000\">gini = 0.031</text>\n<text text-anchor=\"start\" x=\"1370\" y=\"-93.8\" font-family=\"Helvetica,sans-Serif\" font-size=\"14.00\" fill=\"#000000\">samples = 5474</text>\n<text text-anchor=\"start\" x=\"1331\" y=\"-79.8\" font-family=\"Helvetica,sans-Serif\" font-size=\"14.00\" fill=\"#000000\">value = [36831546, 585838]</text>\n</g>\n<!-- 716&#45;&gt;717 -->\n<g id=\"edge25\" class=\"edge\">\n<title>716&#45;&gt;717</title>\n<path fill=\"none\" stroke=\"#000000\" d=\"M1422,-171.8089C1422,-163.6906 1422,-154.8517 1422,-146.3186\"/>\n<polygon fill=\"#000000\" stroke=\"#000000\" points=\"1425.5001,-146.1307 1422,-136.1308 1418.5001,-146.1308 1425.5001,-146.1307\"/>\n</g>\n<!-- 744 -->\n<g id=\"node29\" class=\"node\">\n<title>744</title>\n<path fill=\"#fdf5f0\" stroke=\"#000000\" d=\"M1725,-136C1725,-136 1551,-136 1551,-136 1545,-136 1539,-130 1539,-124 1539,-124 1539,-84 1539,-84 1539,-78 1545,-72 1551,-72 1551,-72 1725,-72 1725,-72 1731,-72 1737,-78 1737,-84 1737,-84 1737,-124 1737,-124 1737,-130 1731,-136 1725,-136\"/>\n<text text-anchor=\"start\" x=\"1596.5\" y=\"-121.8\" font-family=\"Helvetica,sans-Serif\" font-size=\"14.00\" fill=\"#000000\">X</text>\n<text text-anchor=\"start\" x=\"1606.5\" y=\"-121.8\" font-family=\"Helvetica,sans-Serif\" baseline-shift=\"sub\" font-size=\"14.00\" fill=\"#000000\">439</text>\n<text text-anchor=\"start\" x=\"1627.5\" y=\"-121.8\" font-family=\"Helvetica,sans-Serif\" font-size=\"14.00\" fill=\"#000000\"> ≤ 0.004</text>\n<text text-anchor=\"start\" x=\"1600\" y=\"-107.8\" font-family=\"Helvetica,sans-Serif\" font-size=\"14.00\" fill=\"#000000\">gini = 0.499</text>\n<text text-anchor=\"start\" x=\"1590\" y=\"-93.8\" font-family=\"Helvetica,sans-Serif\" font-size=\"14.00\" fill=\"#000000\">samples = 823</text>\n<text text-anchor=\"start\" x=\"1547\" y=\"-79.8\" font-family=\"Helvetica,sans-Serif\" font-size=\"14.00\" fill=\"#000000\">value = [4968854, 4580188]</text>\n</g>\n<!-- 716&#45;&gt;744 -->\n<g id=\"edge28\" class=\"edge\">\n<title>716&#45;&gt;744</title>\n<path fill=\"none\" stroke=\"#000000\" d=\"M1491.235,-171.9467C1513.0343,-161.8545 1537.2631,-150.6375 1559.6495,-140.2734\"/>\n<polygon fill=\"#000000\" stroke=\"#000000\" points=\"1561.1823,-143.4207 1568.7865,-136.0433 1558.2413,-137.0685 1561.1823,-143.4207\"/>\n</g>\n<!-- 718 -->\n<g id=\"node27\" class=\"node\">\n<title>718</title>\n<path fill=\"#c0c0c0\" stroke=\"#000000\" d=\"M1401,-36C1401,-36 1371,-36 1371,-36 1365,-36 1359,-30 1359,-24 1359,-24 1359,-12 1359,-12 1359,-6 1365,0 1371,0 1371,0 1401,0 1401,0 1407,0 1413,-6 1413,-12 1413,-12 1413,-24 1413,-24 1413,-30 1407,-36 1401,-36\"/>\n<text text-anchor=\"middle\" x=\"1386\" y=\"-14.3\" font-family=\"Helvetica,sans-Serif\" font-size=\"14.00\" fill=\"#000000\">(...)</text>\n</g>\n<!-- 717&#45;&gt;718 -->\n<g id=\"edge26\" class=\"edge\">\n<title>717&#45;&gt;718</title>\n<path fill=\"none\" stroke=\"#000000\" d=\"M1408.5949,-71.9768C1404.9741,-63.327 1401.0874,-54.0421 1397.5761,-45.654\"/>\n<polygon fill=\"#000000\" stroke=\"#000000\" points=\"1400.755,-44.1837 1393.665,-36.3108 1394.2979,-46.8867 1400.755,-44.1837\"/>\n</g>\n<!-- 743 -->\n<g id=\"node28\" class=\"node\">\n<title>743</title>\n<path fill=\"#c0c0c0\" stroke=\"#000000\" d=\"M1473,-36C1473,-36 1443,-36 1443,-36 1437,-36 1431,-30 1431,-24 1431,-24 1431,-12 1431,-12 1431,-6 1437,0 1443,0 1443,0 1473,0 1473,0 1479,0 1485,-6 1485,-12 1485,-12 1485,-24 1485,-24 1485,-30 1479,-36 1473,-36\"/>\n<text text-anchor=\"middle\" x=\"1458\" y=\"-14.3\" font-family=\"Helvetica,sans-Serif\" font-size=\"14.00\" fill=\"#000000\">(...)</text>\n</g>\n<!-- 717&#45;&gt;743 -->\n<g id=\"edge27\" class=\"edge\">\n<title>717&#45;&gt;743</title>\n<path fill=\"none\" stroke=\"#000000\" d=\"M1435.4051,-71.9768C1439.0259,-63.327 1442.9126,-54.0421 1446.4239,-45.654\"/>\n<polygon fill=\"#000000\" stroke=\"#000000\" points=\"1449.7021,-46.8867 1450.335,-36.3108 1443.245,-44.1837 1449.7021,-46.8867\"/>\n</g>\n<!-- 745 -->\n<g id=\"node30\" class=\"node\">\n<title>745</title>\n<path fill=\"#c0c0c0\" stroke=\"#000000\" d=\"M1617,-36C1617,-36 1587,-36 1587,-36 1581,-36 1575,-30 1575,-24 1575,-24 1575,-12 1575,-12 1575,-6 1581,0 1587,0 1587,0 1617,0 1617,0 1623,0 1629,-6 1629,-12 1629,-12 1629,-24 1629,-24 1629,-30 1623,-36 1617,-36\"/>\n<text text-anchor=\"middle\" x=\"1602\" y=\"-14.3\" font-family=\"Helvetica,sans-Serif\" font-size=\"14.00\" fill=\"#000000\">(...)</text>\n</g>\n<!-- 744&#45;&gt;745 -->\n<g id=\"edge29\" class=\"edge\">\n<title>744&#45;&gt;745</title>\n<path fill=\"none\" stroke=\"#000000\" d=\"M1624.5949,-71.9768C1620.9741,-63.327 1617.0874,-54.0421 1613.5761,-45.654\"/>\n<polygon fill=\"#000000\" stroke=\"#000000\" points=\"1616.755,-44.1837 1609.665,-36.3108 1610.2979,-46.8867 1616.755,-44.1837\"/>\n</g>\n<!-- 780 -->\n<g id=\"node31\" class=\"node\">\n<title>780</title>\n<path fill=\"#c0c0c0\" stroke=\"#000000\" d=\"M1689,-36C1689,-36 1659,-36 1659,-36 1653,-36 1647,-30 1647,-24 1647,-24 1647,-12 1647,-12 1647,-6 1653,0 1659,0 1659,0 1689,0 1689,0 1695,0 1701,-6 1701,-12 1701,-12 1701,-24 1701,-24 1701,-30 1695,-36 1689,-36\"/>\n<text text-anchor=\"middle\" x=\"1674\" y=\"-14.3\" font-family=\"Helvetica,sans-Serif\" font-size=\"14.00\" fill=\"#000000\">(...)</text>\n</g>\n<!-- 744&#45;&gt;780 -->\n<g id=\"edge30\" class=\"edge\">\n<title>744&#45;&gt;780</title>\n<path fill=\"none\" stroke=\"#000000\" d=\"M1651.4051,-71.9768C1655.0259,-63.327 1658.9126,-54.0421 1662.4239,-45.654\"/>\n<polygon fill=\"#000000\" stroke=\"#000000\" points=\"1665.7021,-46.8867 1666.335,-36.3108 1659.245,-44.1837 1665.7021,-46.8867\"/>\n</g>\n</g>\n</svg>\n"
          },
          "metadata": {},
          "execution_count": 59
        }
      ]
    },
    {
      "cell_type": "markdown",
      "source": [
        "# Task2"
      ],
      "metadata": {
        "id": "RrQmGbsfBVkM"
      }
    },
    {
      "cell_type": "markdown",
      "source": [
        "We choose **Random Forest** as our bagging ensemble method, and we choose **AdaBoost** as our boosting ensemble method. We use 10-fold cross validation to find the effective of both the models.\n",
        "\n",
        "**Random Forest** has `fit_time=20.58s`, `predict_time=0.1654s`, and `accuracy=0.9949`. **AdaBoost** has `fit_time=143.4s`, `pred_time=1.375s`, and `accuracy=0.9905`. Random Forest and AdaBoost have similar accuracy. However, AdaBoost has a significantly longer fit time and predict time. Our guess is that AdaBoost has dependencies on weak learners while RandomForest can parallel the model-building process."
      ],
      "metadata": {
        "id": "XrMqEnDPefjC"
      }
    },
    {
      "cell_type": "code",
      "execution_count": 15,
      "metadata": {
        "colab": {
          "base_uri": "https://localhost:8080/"
        },
        "id": "-efj3Hs3iW9-",
        "outputId": "4c4e49bf-6f68-46ae-805a-01602e28aaa6"
      },
      "outputs": [
        {
          "output_type": "stream",
          "name": "stdout",
          "text": [
            "[RandomForest]avg_fit_time = 20.58387064933777s\n",
            "[RandomForest]avg_pred_time = 0.16544511318206787s\n",
            "[RandomForest]avg_test_score = 0.9948666666666668\n",
            "\n",
            "[AdaBoost]avg_fit_time = 143.41250908374786s\n",
            "[AdaBoost]avg_pred_time = 1.3748717784881592s\n",
            "[AdaBoost]avg_test_score = 0.9905000000000002\n",
            "\n"
          ]
        }
      ],
      "source": [
        "\"\"\"\n",
        "We perform a 10-fold cross validation\n",
        "\"\"\"\n",
        "\n",
        "dt_rt = RandomForestClassifier(n_estimators=100, criterion=\"gini\", max_depth=10, random_state=0)\n",
        "cv_ret = cross_validate(dt_rt, X, Y, scoring='accuracy', cv=10)\n",
        "_ = avg_print_cv(cv_ret, '[RandomForest]')\n",
        "\n",
        "dt_ab = AdaBoostClassifier(n_estimators=100, random_state=0)\n",
        "cv_ret = cross_validate(dt_ab, X, Y, scoring='accuracy', cv=10)\n",
        "_ = avg_print_cv(cv_ret, '[AdaBoost]')\n"
      ]
    },
    {
      "cell_type": "code",
      "source": [
        "\"\"\"\n",
        "try bagging & boosting with balanced dataset, no obvious difference\n",
        "\"\"\"\n",
        "\n",
        "dt_rt = RandomForestClassifier(n_estimators=100, criterion=\"gini\", max_depth=10, random_state=0)\n",
        "cv_ret = cross_validate(dt_rt, X, Y, scoring='accuracy', cv=10)\n",
        "_ = avg_print_cv(cv_ret, '[RandomForest]')\n",
        "\n",
        "base_dt = DecisionTreeClassifier(criterion='gini', class_weight=weights, max_depth=1, random_state=0)\n",
        "dt_ab = AdaBoostClassifier(base_estimator=base_dt, n_estimators=100, random_state=0)\n",
        "cv_ret = cross_validate(dt_ab, X, Y, scoring='accuracy', cv=10)\n",
        "_ = avg_print_cv(cv_ret, '[AdaBoost]')\n"
      ],
      "metadata": {
        "colab": {
          "base_uri": "https://localhost:8080/"
        },
        "id": "aQ2dusaGNZ-d",
        "outputId": "f7ea393d-c117-487f-e1c2-ca143c57bf14"
      },
      "execution_count": 16,
      "outputs": [
        {
          "output_type": "stream",
          "name": "stdout",
          "text": [
            "[RandomForest]avg_fit_time = 16.14280734062195s\n",
            "[RandomForest]avg_pred_time = 0.11262373924255371s\n",
            "[RandomForest]avg_test_score = 0.9948666666666668\n",
            "\n",
            "[AdaBoost]avg_fit_time = 121.70339148044586s\n",
            "[AdaBoost]avg_pred_time = 1.0903376579284667s\n",
            "[AdaBoost]avg_test_score = 0.9851666666666666\n",
            "\n"
          ]
        }
      ]
    },
    {
      "cell_type": "markdown",
      "source": [
        "# Task3"
      ],
      "metadata": {
        "id": "_AmMT3J__D1i"
      }
    },
    {
      "cell_type": "markdown",
      "source": [
        "For task1 and task2, we choose accuracy as our measurement because our problem(1's or not 1's) is a neutral problem, which means that we do not favor in one side when making predictions. Thus, we want to have an accuracy as high as possible when tuning the model.\n",
        "\n",
        "However, since my dataset is unbalanced, our model may be more likely to predict a image as not 1's. (Since not 1's has a larger population) In this case, **the balanced accuracy is a better choice**. The [balanced accuracy](https://scikit-learn.org/stable/modules/generated/sklearn.metrics.balanced_accuracy_score.html#sklearn-metrics-balanced-accuracy-score) defined as the average of recall obtained on each class. We will use **balanced accuracy** for our comparison."
      ],
      "metadata": {
        "id": "0T5gXK_zkh2j"
      }
    },
    {
      "cell_type": "markdown",
      "source": [
        "**Decision Tree** has `fit_time=0.6746s`, `predict_time=0.005702s`, and `B_accuracy=0.9891`  **Random Forest** has `fit_time=20.58s`, `predict_time=0.1654s`, and `B_accuracy=0.9949`. **AdaBoost** has `fit_time=143.4s`, `pred_time=1.375s`, and `B_accuracy=0.9905`. The decision tree is lighting fast for training and predicting compared to other algorithms. However, decision tree's accuracy is slightly lower than other algorithms. AdaBoost is very slow in training and predicting since the 'pipeline' mechanism of the model. It should have better performance (low bias, strong prediction power), but it is not significant in our case because our base model has a good accuracy already. (our task is too easy)"
      ],
      "metadata": {
        "id": "UdIWPj39-goX"
      }
    },
    {
      "cell_type": "code",
      "source": [
        "scoring = 'balanced_accuracy'\n",
        "dt6 = DecisionTreeClassifier(criterion='entropy', max_depth=15, max_features=100, random_state=0)\n",
        "cv_ret6 = cross_validate(dt6, X, Y, scoring=scoring, cv=10)\n",
        "dt_m6 = avg_print_cv(cv_ret6, '[DecisionTree]')\n",
        "\n",
        "dt_rt = RandomForestClassifier(n_estimators=100, criterion=\"gini\", max_depth=10, random_state=0)\n",
        "cv_ret = cross_validate(dt_rt, X, Y, scoring=scoring, cv=10)\n",
        "_ = avg_print_cv(cv_ret, '[RandomForest]')\n",
        "\n",
        "dt_ab = AdaBoostClassifier(n_estimators=100, random_state=0)\n",
        "cv_ret = cross_validate(dt_ab, X, Y, scoring=scoring, cv=10)\n",
        "_ = avg_print_cv(cv_ret, '[AdaBoost]')"
      ],
      "metadata": {
        "colab": {
          "base_uri": "https://localhost:8080/"
        },
        "id": "yjtXzqxm6Rc5",
        "outputId": "3bd148f7-dc5c-46e6-cb28-dd8a6e9f7e7f"
      },
      "execution_count": 14,
      "outputs": [
        {
          "output_type": "stream",
          "name": "stdout",
          "text": [
            "[DecisionTree]avg_fit_time = 0.6853239059448242s\n",
            "[DecisionTree]avg_pred_time = 0.009248924255371094s\n",
            "[DecisionTree]avg_test_score = 0.9753446844977152\n",
            "\n",
            "[RandomForest]avg_fit_time = 13.27408583164215s\n",
            "[RandomForest]avg_pred_time = 0.07858688831329345s\n",
            "[RandomForest]avg_test_score = 0.9814987006134098\n",
            "\n",
            "[AdaBoost]avg_fit_time = 92.16140928268433s\n",
            "[AdaBoost]avg_pred_time = 0.5632796049118042s\n",
            "[AdaBoost]avg_test_score = 0.9796871380344516\n",
            "\n"
          ]
        }
      ]
    },
    {
      "cell_type": "markdown",
      "source": [
        "The graph(graph for `dt_d1`) below shows that we have more leaf nodes that predict the input as `not 1's`, which could be the evidence that \"our model may be more likely to predict an image as not 1's\". In addition, when we switch from `balanced accuracy` to `accuracy` as metric, the test score increased, which could also be an evidence."
      ],
      "metadata": {
        "id": "FMEcXIPocu1E"
      }
    },
    {
      "cell_type": "code",
      "source": [
        "scoring = 'accuracy'\n",
        "dt6 = DecisionTreeClassifier(criterion='entropy', max_depth=15, max_features=100, random_state=0)\n",
        "cv_ret6 = cross_validate(dt6, X, Y, scoring=scoring, cv=10)\n",
        "dt_m6 = avg_print_cv(cv_ret6, '[DecisionTree]')\n",
        "\n",
        "dt_rt = RandomForestClassifier(n_estimators=100, criterion=\"gini\", max_depth=10, random_state=0)\n",
        "cv_ret = cross_validate(dt_rt, X, Y, scoring=scoring, cv=10)\n",
        "_ = avg_print_cv(cv_ret, '[RandomForest]')\n",
        "\n",
        "dt_ab = AdaBoostClassifier(n_estimators=100, random_state=0)\n",
        "cv_ret = cross_validate(dt_ab, X, Y, scoring=scoring, cv=10)\n",
        "_ = avg_print_cv(cv_ret, '[AdaBoost]')"
      ],
      "metadata": {
        "colab": {
          "base_uri": "https://localhost:8080/"
        },
        "id": "Ix4FmhnqJgPy",
        "outputId": "7074e822-39f7-453a-b9d8-148af7ec54f8"
      },
      "execution_count": 17,
      "outputs": [
        {
          "output_type": "stream",
          "name": "stdout",
          "text": [
            "[DecisionTree]avg_fit_time = 0.6806240320205689s\n",
            "[DecisionTree]avg_pred_time = 0.006224274635314941s\n",
            "[DecisionTree]avg_test_score = 0.9891166666666666\n",
            "\n",
            "[RandomForest]avg_fit_time = 13.149167561531067s\n",
            "[RandomForest]avg_pred_time = 0.07483973503112792s\n",
            "[RandomForest]avg_test_score = 0.9948666666666668\n",
            "\n",
            "[AdaBoost]avg_fit_time = 91.36987471580505s\n",
            "[AdaBoost]avg_pred_time = 0.5473012208938599s\n",
            "[AdaBoost]avg_test_score = 0.9905000000000002\n",
            "\n"
          ]
        }
      ]
    },
    {
      "cell_type": "code",
      "source": [
        "from sklearn import tree\n",
        "import graphviz \n",
        "dt_d1 = DecisionTreeClassifier(criterion='entropy', max_depth=8, max_features=100, random_state=0)\n",
        "dt_d1.fit(X,Y)\n",
        "dot_data = tree.export_graphviz(dt_d1, out_file=None, \n",
        "                     filled=True, rounded=True,  \n",
        "                     special_characters=True,\n",
        "                     max_depth=15)  \n",
        "graph = graphviz.Source(dot_data)  \n",
        "graph "
      ],
      "metadata": {
        "colab": {
          "base_uri": "https://localhost:8080/",
          "height": 1000
        },
        "id": "FsyfEJtibsvi",
        "outputId": "b1a5cd81-fc0b-4f15-c625-959cd0b7b753"
      },
      "execution_count": 25,
      "outputs": [
        {
          "output_type": "execute_result",
          "data": {
            "text/plain": [
              "<graphviz.files.Source at 0x7f6f304d0290>"
            ],
            "image/svg+xml": "<?xml version=\"1.0\" encoding=\"UTF-8\" standalone=\"no\"?>\n<!DOCTYPE svg PUBLIC \"-//W3C//DTD SVG 1.1//EN\"\n \"http://www.w3.org/Graphics/SVG/1.1/DTD/svg11.dtd\">\n<!-- Generated by graphviz version 2.40.1 (20161225.0304)\n -->\n<!-- Title: Tree Pages: 1 -->\n<svg width=\"10677pt\" height=\"861pt\"\n viewBox=\"0.00 0.00 10676.50 861.00\" xmlns=\"http://www.w3.org/2000/svg\" xmlns:xlink=\"http://www.w3.org/1999/xlink\">\n<g id=\"graph0\" class=\"graph\" transform=\"scale(1 1) rotate(0) translate(4 857)\">\n<title>Tree</title>\n<polygon fill=\"#ffffff\" stroke=\"transparent\" points=\"-4,4 -4,-857 10672.5,-857 10672.5,4 -4,4\"/>\n<!-- 0 -->\n<g id=\"node1\" class=\"node\">\n<title>0</title>\n<path fill=\"#e89152\" stroke=\"#000000\" d=\"M8541.5,-853C8541.5,-853 8408.5,-853 8408.5,-853 8402.5,-853 8396.5,-847 8396.5,-841 8396.5,-841 8396.5,-801 8396.5,-801 8396.5,-795 8402.5,-789 8408.5,-789 8408.5,-789 8541.5,-789 8541.5,-789 8547.5,-789 8553.5,-795 8553.5,-801 8553.5,-801 8553.5,-841 8553.5,-841 8553.5,-847 8547.5,-853 8541.5,-853\"/>\n<text text-anchor=\"start\" x=\"8433.5\" y=\"-838.8\" font-family=\"Helvetica,sans-Serif\" font-size=\"14.00\" fill=\"#000000\">X</text>\n<text text-anchor=\"start\" x=\"8443.5\" y=\"-838.8\" font-family=\"Helvetica,sans-Serif\" baseline-shift=\"sub\" font-size=\"14.00\" fill=\"#000000\">290</text>\n<text text-anchor=\"start\" x=\"8464.5\" y=\"-838.8\" font-family=\"Helvetica,sans-Serif\" font-size=\"14.00\" fill=\"#000000\"> ≤ 0.002</text>\n<text text-anchor=\"start\" x=\"8424\" y=\"-824.8\" font-family=\"Helvetica,sans-Serif\" font-size=\"14.00\" fill=\"#000000\">entropy = 0.507</text>\n<text text-anchor=\"start\" x=\"8419\" y=\"-810.8\" font-family=\"Helvetica,sans-Serif\" font-size=\"14.00\" fill=\"#000000\">samples = 60000</text>\n<text text-anchor=\"start\" x=\"8404.5\" y=\"-796.8\" font-family=\"Helvetica,sans-Serif\" font-size=\"14.00\" fill=\"#000000\">value = [53258, 6742]</text>\n</g>\n<!-- 1 -->\n<g id=\"node2\" class=\"node\">\n<title>1</title>\n<path fill=\"#edaa7a\" stroke=\"#000000\" d=\"M7347.5,-753C7347.5,-753 7214.5,-753 7214.5,-753 7208.5,-753 7202.5,-747 7202.5,-741 7202.5,-741 7202.5,-701 7202.5,-701 7202.5,-695 7208.5,-689 7214.5,-689 7214.5,-689 7347.5,-689 7347.5,-689 7353.5,-689 7359.5,-695 7359.5,-701 7359.5,-701 7359.5,-741 7359.5,-741 7359.5,-747 7353.5,-753 7347.5,-753\"/>\n<text text-anchor=\"start\" x=\"7239.5\" y=\"-738.8\" font-family=\"Helvetica,sans-Serif\" font-size=\"14.00\" fill=\"#000000\">X</text>\n<text text-anchor=\"start\" x=\"7249.5\" y=\"-738.8\" font-family=\"Helvetica,sans-Serif\" baseline-shift=\"sub\" font-size=\"14.00\" fill=\"#000000\">523</text>\n<text text-anchor=\"start\" x=\"7270.5\" y=\"-738.8\" font-family=\"Helvetica,sans-Serif\" font-size=\"14.00\" fill=\"#000000\"> ≤ 0.002</text>\n<text text-anchor=\"start\" x=\"7230\" y=\"-724.8\" font-family=\"Helvetica,sans-Serif\" font-size=\"14.00\" fill=\"#000000\">entropy = 0.805</text>\n<text text-anchor=\"start\" x=\"7225\" y=\"-710.8\" font-family=\"Helvetica,sans-Serif\" font-size=\"14.00\" fill=\"#000000\">samples = 26777</text>\n<text text-anchor=\"start\" x=\"7210.5\" y=\"-696.8\" font-family=\"Helvetica,sans-Serif\" font-size=\"14.00\" fill=\"#000000\">value = [20187, 6590]</text>\n</g>\n<!-- 0&#45;&gt;1 -->\n<g id=\"edge1\" class=\"edge\">\n<title>0&#45;&gt;1</title>\n<path fill=\"none\" stroke=\"#000000\" d=\"M8396.1966,-814.4C8182.7072,-796.5199 7594.1857,-747.23 7369.6373,-728.4236\"/>\n<polygon fill=\"#000000\" stroke=\"#000000\" points=\"7369.8017,-724.9252 7359.5445,-727.5783 7369.2174,-731.9007 7369.8017,-724.9252\"/>\n<text text-anchor=\"middle\" x=\"7375.6851\" y=\"-742.9696\" font-family=\"Helvetica,sans-Serif\" font-size=\"14.00\" fill=\"#000000\">True</text>\n</g>\n<!-- 148 -->\n<g id=\"node149\" class=\"node\">\n<title>148</title>\n<path fill=\"#e5823a\" stroke=\"#000000\" d=\"M9126.5,-753C9126.5,-753 9001.5,-753 9001.5,-753 8995.5,-753 8989.5,-747 8989.5,-741 8989.5,-741 8989.5,-701 8989.5,-701 8989.5,-695 8995.5,-689 9001.5,-689 9001.5,-689 9126.5,-689 9126.5,-689 9132.5,-689 9138.5,-695 9138.5,-701 9138.5,-701 9138.5,-741 9138.5,-741 9138.5,-747 9132.5,-753 9126.5,-753\"/>\n<text text-anchor=\"start\" x=\"9022.5\" y=\"-738.8\" font-family=\"Helvetica,sans-Serif\" font-size=\"14.00\" fill=\"#000000\">X</text>\n<text text-anchor=\"start\" x=\"9032.5\" y=\"-738.8\" font-family=\"Helvetica,sans-Serif\" baseline-shift=\"sub\" font-size=\"14.00\" fill=\"#000000\">299</text>\n<text text-anchor=\"start\" x=\"9053.5\" y=\"-738.8\" font-family=\"Helvetica,sans-Serif\" font-size=\"14.00\" fill=\"#000000\"> ≤ 0.025</text>\n<text text-anchor=\"start\" x=\"9013\" y=\"-724.8\" font-family=\"Helvetica,sans-Serif\" font-size=\"14.00\" fill=\"#000000\">entropy = 0.042</text>\n<text text-anchor=\"start\" x=\"9008\" y=\"-710.8\" font-family=\"Helvetica,sans-Serif\" font-size=\"14.00\" fill=\"#000000\">samples = 33223</text>\n<text text-anchor=\"start\" x=\"8997.5\" y=\"-696.8\" font-family=\"Helvetica,sans-Serif\" font-size=\"14.00\" fill=\"#000000\">value = [33071, 152]</text>\n</g>\n<!-- 0&#45;&gt;148 -->\n<g id=\"edge148\" class=\"edge\">\n<title>0&#45;&gt;148</title>\n<path fill=\"none\" stroke=\"#000000\" d=\"M8553.5191,-807.6691C8664.1841,-788.8805 8865.2242,-754.748 8979.1976,-735.3977\"/>\n<polygon fill=\"#000000\" stroke=\"#000000\" points=\"8980.0013,-738.8114 8989.2744,-733.6869 8978.8296,-731.9102 8980.0013,-738.8114\"/>\n<text text-anchor=\"middle\" x=\"8974.8051\" y=\"-750.3741\" font-family=\"Helvetica,sans-Serif\" font-size=\"14.00\" fill=\"#000000\">False</text>\n</g>\n<!-- 2 -->\n<g id=\"node3\" class=\"node\">\n<title>2</title>\n<path fill=\"#f6d2b8\" stroke=\"#000000\" d=\"M4894.5,-653C4894.5,-653 4761.5,-653 4761.5,-653 4755.5,-653 4749.5,-647 4749.5,-641 4749.5,-641 4749.5,-601 4749.5,-601 4749.5,-595 4755.5,-589 4761.5,-589 4761.5,-589 4894.5,-589 4894.5,-589 4900.5,-589 4906.5,-595 4906.5,-601 4906.5,-601 4906.5,-641 4906.5,-641 4906.5,-647 4900.5,-653 4894.5,-653\"/>\n<text text-anchor=\"start\" x=\"4786.5\" y=\"-638.8\" font-family=\"Helvetica,sans-Serif\" font-size=\"14.00\" fill=\"#000000\">X</text>\n<text text-anchor=\"start\" x=\"4796.5\" y=\"-638.8\" font-family=\"Helvetica,sans-Serif\" baseline-shift=\"sub\" font-size=\"14.00\" fill=\"#000000\">378</text>\n<text text-anchor=\"start\" x=\"4817.5\" y=\"-638.8\" font-family=\"Helvetica,sans-Serif\" font-size=\"14.00\" fill=\"#000000\"> ≤ 0.575</text>\n<text text-anchor=\"start\" x=\"4777\" y=\"-624.8\" font-family=\"Helvetica,sans-Serif\" font-size=\"14.00\" fill=\"#000000\">entropy = 0.965</text>\n<text text-anchor=\"start\" x=\"4772\" y=\"-610.8\" font-family=\"Helvetica,sans-Serif\" font-size=\"14.00\" fill=\"#000000\">samples = 16796</text>\n<text text-anchor=\"start\" x=\"4757.5\" y=\"-596.8\" font-family=\"Helvetica,sans-Serif\" font-size=\"14.00\" fill=\"#000000\">value = [10246, 6550]</text>\n</g>\n<!-- 1&#45;&gt;2 -->\n<g id=\"edge2\" class=\"edge\">\n<title>1&#45;&gt;2</title>\n<path fill=\"none\" stroke=\"#000000\" d=\"M7202.1625,-717.7861C6835.9749,-702.8579 5302.6338,-640.3491 4916.5425,-624.6096\"/>\n<polygon fill=\"#000000\" stroke=\"#000000\" points=\"4916.6786,-621.1123 4906.5443,-624.202 4916.3934,-628.1065 4916.6786,-621.1123\"/>\n</g>\n<!-- 111 -->\n<g id=\"node112\" class=\"node\">\n<title>111</title>\n<path fill=\"#e5823a\" stroke=\"#000000\" d=\"M7335,-653C7335,-653 7227,-653 7227,-653 7221,-653 7215,-647 7215,-641 7215,-641 7215,-601 7215,-601 7215,-595 7221,-589 7227,-589 7227,-589 7335,-589 7335,-589 7341,-589 7347,-595 7347,-601 7347,-601 7347,-641 7347,-641 7347,-647 7341,-653 7335,-653\"/>\n<text text-anchor=\"start\" x=\"7243.5\" y=\"-638.8\" font-family=\"Helvetica,sans-Serif\" font-size=\"14.00\" fill=\"#000000\">X</text>\n<text text-anchor=\"start\" x=\"7253.5\" y=\"-638.8\" font-family=\"Helvetica,sans-Serif\" baseline-shift=\"sub\" font-size=\"14.00\" fill=\"#000000\">437</text>\n<text text-anchor=\"start\" x=\"7274.5\" y=\"-638.8\" font-family=\"Helvetica,sans-Serif\" font-size=\"14.00\" fill=\"#000000\"> ≤ 0.01</text>\n<text text-anchor=\"start\" x=\"7230\" y=\"-624.8\" font-family=\"Helvetica,sans-Serif\" font-size=\"14.00\" fill=\"#000000\">entropy = 0.038</text>\n<text text-anchor=\"start\" x=\"7229\" y=\"-610.8\" font-family=\"Helvetica,sans-Serif\" font-size=\"14.00\" fill=\"#000000\">samples = 9981</text>\n<text text-anchor=\"start\" x=\"7223\" y=\"-596.8\" font-family=\"Helvetica,sans-Serif\" font-size=\"14.00\" fill=\"#000000\">value = [9941, 40]</text>\n</g>\n<!-- 1&#45;&gt;111 -->\n<g id=\"edge111\" class=\"edge\">\n<title>1&#45;&gt;111</title>\n<path fill=\"none\" stroke=\"#000000\" d=\"M7281,-688.8089C7281,-680.6906 7281,-671.8517 7281,-663.3186\"/>\n<polygon fill=\"#000000\" stroke=\"#000000\" points=\"7284.5001,-663.1307 7281,-653.1308 7277.5001,-663.1308 7284.5001,-663.1307\"/>\n</g>\n<!-- 3 -->\n<g id=\"node4\" class=\"node\">\n<title>3</title>\n<path fill=\"#e6853f\" stroke=\"#000000\" d=\"M2511,-553C2511,-553 2395,-553 2395,-553 2389,-553 2383,-547 2383,-541 2383,-541 2383,-501 2383,-501 2383,-495 2389,-489 2395,-489 2395,-489 2511,-489 2511,-489 2517,-489 2523,-495 2523,-501 2523,-501 2523,-541 2523,-541 2523,-547 2517,-553 2511,-553\"/>\n<text text-anchor=\"start\" x=\"2411.5\" y=\"-538.8\" font-family=\"Helvetica,sans-Serif\" font-size=\"14.00\" fill=\"#000000\">X</text>\n<text text-anchor=\"start\" x=\"2421.5\" y=\"-538.8\" font-family=\"Helvetica,sans-Serif\" baseline-shift=\"sub\" font-size=\"14.00\" fill=\"#000000\">379</text>\n<text text-anchor=\"start\" x=\"2442.5\" y=\"-538.8\" font-family=\"Helvetica,sans-Serif\" font-size=\"14.00\" fill=\"#000000\"> ≤ 0.829</text>\n<text text-anchor=\"start\" x=\"2402\" y=\"-524.8\" font-family=\"Helvetica,sans-Serif\" font-size=\"14.00\" fill=\"#000000\">entropy = 0.186</text>\n<text text-anchor=\"start\" x=\"2401\" y=\"-510.8\" font-family=\"Helvetica,sans-Serif\" font-size=\"14.00\" fill=\"#000000\">samples = 6326</text>\n<text text-anchor=\"start\" x=\"2391\" y=\"-496.8\" font-family=\"Helvetica,sans-Serif\" font-size=\"14.00\" fill=\"#000000\">value = [6147, 179]</text>\n</g>\n<!-- 2&#45;&gt;3 -->\n<g id=\"edge3\" class=\"edge\">\n<title>2&#45;&gt;3</title>\n<path fill=\"none\" stroke=\"#000000\" d=\"M4749.3181,-617.6871C4388.8868,-602.511 2897.463,-539.7142 2533.4199,-524.3861\"/>\n<polygon fill=\"#000000\" stroke=\"#000000\" points=\"2533.3742,-520.8812 2523.2358,-523.9573 2533.0797,-527.875 2533.3742,-520.8812\"/>\n</g>\n<!-- 54 -->\n<g id=\"node55\" class=\"node\">\n<title>54</title>\n<path fill=\"#b8dcf6\" stroke=\"#000000\" d=\"M4890.5,-553C4890.5,-553 4765.5,-553 4765.5,-553 4759.5,-553 4753.5,-547 4753.5,-541 4753.5,-541 4753.5,-501 4753.5,-501 4753.5,-495 4759.5,-489 4765.5,-489 4765.5,-489 4890.5,-489 4890.5,-489 4896.5,-489 4902.5,-495 4902.5,-501 4902.5,-501 4902.5,-541 4902.5,-541 4902.5,-547 4896.5,-553 4890.5,-553\"/>\n<text text-anchor=\"start\" x=\"4786.5\" y=\"-538.8\" font-family=\"Helvetica,sans-Serif\" font-size=\"14.00\" fill=\"#000000\">X</text>\n<text text-anchor=\"start\" x=\"4796.5\" y=\"-538.8\" font-family=\"Helvetica,sans-Serif\" baseline-shift=\"sub\" font-size=\"14.00\" fill=\"#000000\">402</text>\n<text text-anchor=\"start\" x=\"4817.5\" y=\"-538.8\" font-family=\"Helvetica,sans-Serif\" font-size=\"14.00\" fill=\"#000000\"> ≤ 0.002</text>\n<text text-anchor=\"start\" x=\"4777\" y=\"-524.8\" font-family=\"Helvetica,sans-Serif\" font-size=\"14.00\" fill=\"#000000\">entropy = 0.966</text>\n<text text-anchor=\"start\" x=\"4772\" y=\"-510.8\" font-family=\"Helvetica,sans-Serif\" font-size=\"14.00\" fill=\"#000000\">samples = 10470</text>\n<text text-anchor=\"start\" x=\"4761.5\" y=\"-496.8\" font-family=\"Helvetica,sans-Serif\" font-size=\"14.00\" fill=\"#000000\">value = [4099, 6371]</text>\n</g>\n<!-- 2&#45;&gt;54 -->\n<g id=\"edge54\" class=\"edge\">\n<title>2&#45;&gt;54</title>\n<path fill=\"none\" stroke=\"#000000\" d=\"M4828,-588.8089C4828,-580.6906 4828,-571.8517 4828,-563.3186\"/>\n<polygon fill=\"#000000\" stroke=\"#000000\" points=\"4831.5001,-563.1307 4828,-553.1308 4824.5001,-563.1308 4831.5001,-563.1307\"/>\n</g>\n<!-- 4 -->\n<g id=\"node5\" class=\"node\">\n<title>4</title>\n<path fill=\"#e5823b\" stroke=\"#000000\" d=\"M1467,-453C1467,-453 1359,-453 1359,-453 1353,-453 1347,-447 1347,-441 1347,-441 1347,-401 1347,-401 1347,-395 1353,-389 1359,-389 1359,-389 1467,-389 1467,-389 1473,-389 1479,-395 1479,-401 1479,-401 1479,-441 1479,-441 1479,-447 1473,-453 1467,-453\"/>\n<text text-anchor=\"start\" x=\"1371.5\" y=\"-438.8\" font-family=\"Helvetica,sans-Serif\" font-size=\"14.00\" fill=\"#000000\">X</text>\n<text text-anchor=\"start\" x=\"1381.5\" y=\"-438.8\" font-family=\"Helvetica,sans-Serif\" baseline-shift=\"sub\" font-size=\"14.00\" fill=\"#000000\">437</text>\n<text text-anchor=\"start\" x=\"1402.5\" y=\"-438.8\" font-family=\"Helvetica,sans-Serif\" font-size=\"14.00\" fill=\"#000000\"> ≤ 0.116</text>\n<text text-anchor=\"start\" x=\"1362\" y=\"-424.8\" font-family=\"Helvetica,sans-Serif\" font-size=\"14.00\" fill=\"#000000\">entropy = 0.088</text>\n<text text-anchor=\"start\" x=\"1361\" y=\"-410.8\" font-family=\"Helvetica,sans-Serif\" font-size=\"14.00\" fill=\"#000000\">samples = 5422</text>\n<text text-anchor=\"start\" x=\"1355\" y=\"-396.8\" font-family=\"Helvetica,sans-Serif\" font-size=\"14.00\" fill=\"#000000\">value = [5362, 60]</text>\n</g>\n<!-- 3&#45;&gt;4 -->\n<g id=\"edge4\" class=\"edge\">\n<title>3&#45;&gt;4</title>\n<path fill=\"none\" stroke=\"#000000\" d=\"M2382.7415,-514.2444C2195.1337,-496.2052 1683.5085,-447.0104 1489.2231,-428.3291\"/>\n<polygon fill=\"#000000\" stroke=\"#000000\" points=\"1489.3918,-424.8293 1479.1027,-427.356 1488.7218,-431.7972 1489.3918,-424.8293\"/>\n</g>\n<!-- 29 -->\n<g id=\"node30\" class=\"node\">\n<title>29</title>\n<path fill=\"#e99457\" stroke=\"#000000\" d=\"M2507,-453C2507,-453 2399,-453 2399,-453 2393,-453 2387,-447 2387,-441 2387,-441 2387,-401 2387,-401 2387,-395 2393,-389 2399,-389 2399,-389 2507,-389 2507,-389 2513,-389 2519,-395 2519,-401 2519,-401 2519,-441 2519,-441 2519,-447 2513,-453 2507,-453\"/>\n<text text-anchor=\"start\" x=\"2411.5\" y=\"-438.8\" font-family=\"Helvetica,sans-Serif\" font-size=\"14.00\" fill=\"#000000\">X</text>\n<text text-anchor=\"start\" x=\"2421.5\" y=\"-438.8\" font-family=\"Helvetica,sans-Serif\" baseline-shift=\"sub\" font-size=\"14.00\" fill=\"#000000\">432</text>\n<text text-anchor=\"start\" x=\"2442.5\" y=\"-438.8\" font-family=\"Helvetica,sans-Serif\" font-size=\"14.00\" fill=\"#000000\"> ≤ 0.269</text>\n<text text-anchor=\"start\" x=\"2402\" y=\"-424.8\" font-family=\"Helvetica,sans-Serif\" font-size=\"14.00\" fill=\"#000000\">entropy = 0.562</text>\n<text text-anchor=\"start\" x=\"2405\" y=\"-410.8\" font-family=\"Helvetica,sans-Serif\" font-size=\"14.00\" fill=\"#000000\">samples = 904</text>\n<text text-anchor=\"start\" x=\"2395\" y=\"-396.8\" font-family=\"Helvetica,sans-Serif\" font-size=\"14.00\" fill=\"#000000\">value = [785, 119]</text>\n</g>\n<!-- 3&#45;&gt;29 -->\n<g id=\"edge29\" class=\"edge\">\n<title>3&#45;&gt;29</title>\n<path fill=\"none\" stroke=\"#000000\" d=\"M2453,-488.8089C2453,-480.6906 2453,-471.8517 2453,-463.3186\"/>\n<polygon fill=\"#000000\" stroke=\"#000000\" points=\"2456.5001,-463.1307 2453,-453.1308 2449.5001,-463.1308 2456.5001,-463.1307\"/>\n</g>\n<!-- 5 -->\n<g id=\"node6\" class=\"node\">\n<title>5</title>\n<path fill=\"#e6853f\" stroke=\"#000000\" d=\"M853,-353C853,-353 745,-353 745,-353 739,-353 733,-347 733,-341 733,-341 733,-301 733,-301 733,-295 739,-289 745,-289 745,-289 853,-289 853,-289 859,-289 865,-295 865,-301 865,-301 865,-341 865,-341 865,-347 859,-353 853,-353\"/>\n<text text-anchor=\"start\" x=\"757.5\" y=\"-338.8\" font-family=\"Helvetica,sans-Serif\" font-size=\"14.00\" fill=\"#000000\">X</text>\n<text text-anchor=\"start\" x=\"767.5\" y=\"-338.8\" font-family=\"Helvetica,sans-Serif\" baseline-shift=\"sub\" font-size=\"14.00\" fill=\"#000000\">377</text>\n<text text-anchor=\"start\" x=\"788.5\" y=\"-338.8\" font-family=\"Helvetica,sans-Serif\" font-size=\"14.00\" fill=\"#000000\"> ≤ 0.869</text>\n<text text-anchor=\"start\" x=\"752\" y=\"-324.8\" font-family=\"Helvetica,sans-Serif\" font-size=\"14.00\" fill=\"#000000\">entropy = 0.19</text>\n<text text-anchor=\"start\" x=\"747\" y=\"-310.8\" font-family=\"Helvetica,sans-Serif\" font-size=\"14.00\" fill=\"#000000\">samples = 1748</text>\n<text text-anchor=\"start\" x=\"741\" y=\"-296.8\" font-family=\"Helvetica,sans-Serif\" font-size=\"14.00\" fill=\"#000000\">value = [1697, 51]</text>\n</g>\n<!-- 4&#45;&gt;5 -->\n<g id=\"edge5\" class=\"edge\">\n<title>4&#45;&gt;5</title>\n<path fill=\"none\" stroke=\"#000000\" d=\"M1346.9998,-410.2508C1232.2196,-391.5569 996.5095,-353.1677 875.0566,-333.3871\"/>\n<polygon fill=\"#000000\" stroke=\"#000000\" points=\"875.5223,-329.9169 865.0897,-331.7638 874.397,-336.8258 875.5223,-329.9169\"/>\n</g>\n<!-- 20 -->\n<g id=\"node21\" class=\"node\">\n<title>20</title>\n<path fill=\"#e58139\" stroke=\"#000000\" d=\"M1463,-353C1463,-353 1363,-353 1363,-353 1357,-353 1351,-347 1351,-341 1351,-341 1351,-301 1351,-301 1351,-295 1357,-289 1363,-289 1363,-289 1463,-289 1463,-289 1469,-289 1475,-295 1475,-301 1475,-301 1475,-341 1475,-341 1475,-347 1469,-353 1463,-353\"/>\n<text text-anchor=\"start\" x=\"1371.5\" y=\"-338.8\" font-family=\"Helvetica,sans-Serif\" font-size=\"14.00\" fill=\"#000000\">X</text>\n<text text-anchor=\"start\" x=\"1381.5\" y=\"-338.8\" font-family=\"Helvetica,sans-Serif\" baseline-shift=\"sub\" font-size=\"14.00\" fill=\"#000000\">355</text>\n<text text-anchor=\"start\" x=\"1402.5\" y=\"-338.8\" font-family=\"Helvetica,sans-Serif\" font-size=\"14.00\" fill=\"#000000\"> ≤ 0.084</text>\n<text text-anchor=\"start\" x=\"1362\" y=\"-324.8\" font-family=\"Helvetica,sans-Serif\" font-size=\"14.00\" fill=\"#000000\">entropy = 0.025</text>\n<text text-anchor=\"start\" x=\"1361\" y=\"-310.8\" font-family=\"Helvetica,sans-Serif\" font-size=\"14.00\" fill=\"#000000\">samples = 3674</text>\n<text text-anchor=\"start\" x=\"1359\" y=\"-296.8\" font-family=\"Helvetica,sans-Serif\" font-size=\"14.00\" fill=\"#000000\">value = [3665, 9]</text>\n</g>\n<!-- 4&#45;&gt;20 -->\n<g id=\"edge20\" class=\"edge\">\n<title>4&#45;&gt;20</title>\n<path fill=\"none\" stroke=\"#000000\" d=\"M1413,-388.8089C1413,-380.6906 1413,-371.8517 1413,-363.3186\"/>\n<polygon fill=\"#000000\" stroke=\"#000000\" points=\"1416.5001,-363.1307 1413,-353.1308 1409.5001,-363.1308 1416.5001,-363.1307\"/>\n</g>\n<!-- 6 -->\n<g id=\"node7\" class=\"node\">\n<title>6</title>\n<path fill=\"#e5833c\" stroke=\"#000000\" d=\"M454,-253C454,-253 346,-253 346,-253 340,-253 334,-247 334,-241 334,-241 334,-201 334,-201 334,-195 340,-189 346,-189 346,-189 454,-189 454,-189 460,-189 466,-195 466,-201 466,-201 466,-241 466,-241 466,-247 460,-253 454,-253\"/>\n<text text-anchor=\"start\" x=\"358.5\" y=\"-238.8\" font-family=\"Helvetica,sans-Serif\" font-size=\"14.00\" fill=\"#000000\">X</text>\n<text text-anchor=\"start\" x=\"368.5\" y=\"-238.8\" font-family=\"Helvetica,sans-Serif\" baseline-shift=\"sub\" font-size=\"14.00\" fill=\"#000000\">403</text>\n<text text-anchor=\"start\" x=\"389.5\" y=\"-238.8\" font-family=\"Helvetica,sans-Serif\" font-size=\"14.00\" fill=\"#000000\"> ≤ 0.004</text>\n<text text-anchor=\"start\" x=\"349\" y=\"-224.8\" font-family=\"Helvetica,sans-Serif\" font-size=\"14.00\" fill=\"#000000\">entropy = 0.105</text>\n<text text-anchor=\"start\" x=\"348\" y=\"-210.8\" font-family=\"Helvetica,sans-Serif\" font-size=\"14.00\" fill=\"#000000\">samples = 1521</text>\n<text text-anchor=\"start\" x=\"342\" y=\"-196.8\" font-family=\"Helvetica,sans-Serif\" font-size=\"14.00\" fill=\"#000000\">value = [1500, 21]</text>\n</g>\n<!-- 5&#45;&gt;6 -->\n<g id=\"edge6\" class=\"edge\">\n<title>5&#45;&gt;6</title>\n<path fill=\"none\" stroke=\"#000000\" d=\"M732.6654,-304.3748C661.9385,-286.6487 550.1168,-258.6232 475.92,-240.0276\"/>\n<polygon fill=\"#000000\" stroke=\"#000000\" points=\"476.7118,-236.6178 466.1609,-237.5817 475.0099,-243.4078 476.7118,-236.6178\"/>\n</g>\n<!-- 13 -->\n<g id=\"node14\" class=\"node\">\n<title>13</title>\n<path fill=\"#e99457\" stroke=\"#000000\" d=\"M849,-253C849,-253 749,-253 749,-253 743,-253 737,-247 737,-241 737,-241 737,-201 737,-201 737,-195 743,-189 749,-189 749,-189 849,-189 849,-189 855,-189 861,-195 861,-201 861,-201 861,-241 861,-241 861,-247 855,-253 849,-253\"/>\n<text text-anchor=\"start\" x=\"757.5\" y=\"-238.8\" font-family=\"Helvetica,sans-Serif\" font-size=\"14.00\" fill=\"#000000\">X</text>\n<text text-anchor=\"start\" x=\"767.5\" y=\"-238.8\" font-family=\"Helvetica,sans-Serif\" baseline-shift=\"sub\" font-size=\"14.00\" fill=\"#000000\">661</text>\n<text text-anchor=\"start\" x=\"788.5\" y=\"-238.8\" font-family=\"Helvetica,sans-Serif\" font-size=\"14.00\" fill=\"#000000\"> ≤ 0.014</text>\n<text text-anchor=\"start\" x=\"748\" y=\"-224.8\" font-family=\"Helvetica,sans-Serif\" font-size=\"14.00\" fill=\"#000000\">entropy = 0.563</text>\n<text text-anchor=\"start\" x=\"751\" y=\"-210.8\" font-family=\"Helvetica,sans-Serif\" font-size=\"14.00\" fill=\"#000000\">samples = 227</text>\n<text text-anchor=\"start\" x=\"745\" y=\"-196.8\" font-family=\"Helvetica,sans-Serif\" font-size=\"14.00\" fill=\"#000000\">value = [197, 30]</text>\n</g>\n<!-- 5&#45;&gt;13 -->\n<g id=\"edge13\" class=\"edge\">\n<title>5&#45;&gt;13</title>\n<path fill=\"none\" stroke=\"#000000\" d=\"M799,-288.8089C799,-280.6906 799,-271.8517 799,-263.3186\"/>\n<polygon fill=\"#000000\" stroke=\"#000000\" points=\"802.5001,-263.1307 799,-253.1308 795.5001,-263.1308 802.5001,-263.1307\"/>\n</g>\n<!-- 7 -->\n<g id=\"node8\" class=\"node\">\n<title>7</title>\n<path fill=\"#e6853f\" stroke=\"#000000\" d=\"M247,-153C247,-153 147,-153 147,-153 141,-153 135,-147 135,-141 135,-141 135,-101 135,-101 135,-95 141,-89 147,-89 147,-89 247,-89 247,-89 253,-89 259,-95 259,-101 259,-101 259,-141 259,-141 259,-147 253,-153 247,-153\"/>\n<text text-anchor=\"start\" x=\"155.5\" y=\"-138.8\" font-family=\"Helvetica,sans-Serif\" font-size=\"14.00\" fill=\"#000000\">X</text>\n<text text-anchor=\"start\" x=\"165.5\" y=\"-138.8\" font-family=\"Helvetica,sans-Serif\" baseline-shift=\"sub\" font-size=\"14.00\" fill=\"#000000\">378</text>\n<text text-anchor=\"start\" x=\"186.5\" y=\"-138.8\" font-family=\"Helvetica,sans-Serif\" font-size=\"14.00\" fill=\"#000000\"> ≤ 0.386</text>\n<text text-anchor=\"start\" x=\"146\" y=\"-124.8\" font-family=\"Helvetica,sans-Serif\" font-size=\"14.00\" fill=\"#000000\">entropy = 0.184</text>\n<text text-anchor=\"start\" x=\"149\" y=\"-110.8\" font-family=\"Helvetica,sans-Serif\" font-size=\"14.00\" fill=\"#000000\">samples = 679</text>\n<text text-anchor=\"start\" x=\"143\" y=\"-96.8\" font-family=\"Helvetica,sans-Serif\" font-size=\"14.00\" fill=\"#000000\">value = [660, 19]</text>\n</g>\n<!-- 6&#45;&gt;7 -->\n<g id=\"edge7\" class=\"edge\">\n<title>6&#45;&gt;7</title>\n<path fill=\"none\" stroke=\"#000000\" d=\"M334.9319,-188.9467C313.7239,-178.4994 290.0691,-166.8469 268.4211,-156.1828\"/>\n<polygon fill=\"#000000\" stroke=\"#000000\" points=\"269.7966,-152.9588 259.2792,-151.6794 266.7032,-159.2382 269.7966,-152.9588\"/>\n</g>\n<!-- 10 -->\n<g id=\"node11\" class=\"node\">\n<title>10</title>\n<path fill=\"#e58139\" stroke=\"#000000\" d=\"M447,-153C447,-153 353,-153 353,-153 347,-153 341,-147 341,-141 341,-141 341,-101 341,-101 341,-95 347,-89 353,-89 353,-89 447,-89 447,-89 453,-89 459,-95 459,-101 459,-101 459,-141 459,-141 459,-147 453,-153 447,-153\"/>\n<text text-anchor=\"start\" x=\"358.5\" y=\"-138.8\" font-family=\"Helvetica,sans-Serif\" font-size=\"14.00\" fill=\"#000000\">X</text>\n<text text-anchor=\"start\" x=\"368.5\" y=\"-138.8\" font-family=\"Helvetica,sans-Serif\" baseline-shift=\"sub\" font-size=\"14.00\" fill=\"#000000\">375</text>\n<text text-anchor=\"start\" x=\"389.5\" y=\"-138.8\" font-family=\"Helvetica,sans-Serif\" font-size=\"14.00\" fill=\"#000000\"> ≤ 0.449</text>\n<text text-anchor=\"start\" x=\"349\" y=\"-124.8\" font-family=\"Helvetica,sans-Serif\" font-size=\"14.00\" fill=\"#000000\">entropy = 0.024</text>\n<text text-anchor=\"start\" x=\"352\" y=\"-110.8\" font-family=\"Helvetica,sans-Serif\" font-size=\"14.00\" fill=\"#000000\">samples = 842</text>\n<text text-anchor=\"start\" x=\"350\" y=\"-96.8\" font-family=\"Helvetica,sans-Serif\" font-size=\"14.00\" fill=\"#000000\">value = [840, 2]</text>\n</g>\n<!-- 6&#45;&gt;10 -->\n<g id=\"edge10\" class=\"edge\">\n<title>6&#45;&gt;10</title>\n<path fill=\"none\" stroke=\"#000000\" d=\"M400,-188.8089C400,-180.6906 400,-171.8517 400,-163.3186\"/>\n<polygon fill=\"#000000\" stroke=\"#000000\" points=\"403.5001,-163.1307 400,-153.1308 396.5001,-163.1308 403.5001,-163.1307\"/>\n</g>\n<!-- 8 -->\n<g id=\"node9\" class=\"node\">\n<title>8</title>\n<path fill=\"#e5833c\" stroke=\"#000000\" d=\"M112,-53C112,-53 12,-53 12,-53 6,-53 0,-47 0,-41 0,-41 0,-12 0,-12 0,-6 6,0 12,0 12,0 112,0 112,0 118,0 124,-6 124,-12 124,-12 124,-41 124,-41 124,-47 118,-53 112,-53\"/>\n<text text-anchor=\"start\" x=\"11\" y=\"-37.8\" font-family=\"Helvetica,sans-Serif\" font-size=\"14.00\" fill=\"#000000\">entropy = 0.123</text>\n<text text-anchor=\"start\" x=\"14\" y=\"-22.8\" font-family=\"Helvetica,sans-Serif\" font-size=\"14.00\" fill=\"#000000\">samples = 653</text>\n<text text-anchor=\"start\" x=\"8\" y=\"-7.8\" font-family=\"Helvetica,sans-Serif\" font-size=\"14.00\" fill=\"#000000\">value = [642, 11]</text>\n</g>\n<!-- 7&#45;&gt;8 -->\n<g id=\"edge8\" class=\"edge\">\n<title>7&#45;&gt;8</title>\n<path fill=\"none\" stroke=\"#000000\" d=\"M150.9182,-88.7428C137.2551,-79.1786 122.2858,-68.7001 108.5907,-59.1135\"/>\n<polygon fill=\"#000000\" stroke=\"#000000\" points=\"110.4507,-56.1432 100.2512,-53.2759 106.4364,-61.8778 110.4507,-56.1432\"/>\n</g>\n<!-- 9 -->\n<g id=\"node10\" class=\"node\">\n<title>9</title>\n<path fill=\"#f1b991\" stroke=\"#000000\" d=\"M240,-53C240,-53 154,-53 154,-53 148,-53 142,-47 142,-41 142,-41 142,-12 142,-12 142,-6 148,0 154,0 154,0 240,0 240,0 246,0 252,-6 252,-12 252,-12 252,-41 252,-41 252,-47 246,-53 240,-53\"/>\n<text text-anchor=\"start\" x=\"150\" y=\"-37.8\" font-family=\"Helvetica,sans-Serif\" font-size=\"14.00\" fill=\"#000000\">entropy = 0.89</text>\n<text text-anchor=\"start\" x=\"153\" y=\"-22.8\" font-family=\"Helvetica,sans-Serif\" font-size=\"14.00\" fill=\"#000000\">samples = 26</text>\n<text text-anchor=\"start\" x=\"151.5\" y=\"-7.8\" font-family=\"Helvetica,sans-Serif\" font-size=\"14.00\" fill=\"#000000\">value = [18, 8]</text>\n</g>\n<!-- 7&#45;&gt;9 -->\n<g id=\"edge9\" class=\"edge\">\n<title>7&#45;&gt;9</title>\n<path fill=\"none\" stroke=\"#000000\" d=\"M197,-88.7428C197,-80.6222 197,-71.8426 197,-63.5093\"/>\n<polygon fill=\"#000000\" stroke=\"#000000\" points=\"200.5001,-63.2758 197,-53.2759 193.5001,-63.2759 200.5001,-63.2758\"/>\n</g>\n<!-- 11 -->\n<g id=\"node12\" class=\"node\">\n<title>11</title>\n<path fill=\"#e5833c\" stroke=\"#000000\" d=\"M376,-53C376,-53 282,-53 282,-53 276,-53 270,-47 270,-41 270,-41 270,-12 270,-12 270,-6 276,0 282,0 282,0 376,0 376,0 382,0 388,-6 388,-12 388,-12 388,-41 388,-41 388,-47 382,-53 376,-53\"/>\n<text text-anchor=\"start\" x=\"278\" y=\"-37.8\" font-family=\"Helvetica,sans-Serif\" font-size=\"14.00\" fill=\"#000000\">entropy = 0.101</text>\n<text text-anchor=\"start\" x=\"281\" y=\"-22.8\" font-family=\"Helvetica,sans-Serif\" font-size=\"14.00\" fill=\"#000000\">samples = 152</text>\n<text text-anchor=\"start\" x=\"279\" y=\"-7.8\" font-family=\"Helvetica,sans-Serif\" font-size=\"14.00\" fill=\"#000000\">value = [150, 2]</text>\n</g>\n<!-- 10&#45;&gt;11 -->\n<g id=\"edge11\" class=\"edge\">\n<title>10&#45;&gt;11</title>\n<path fill=\"none\" stroke=\"#000000\" d=\"M375.7644,-88.7428C369.1209,-79.9004 361.8903,-70.2765 355.1449,-61.2985\"/>\n<polygon fill=\"#000000\" stroke=\"#000000\" points=\"357.9224,-59.1684 349.1173,-53.2759 352.3259,-63.3732 357.9224,-59.1684\"/>\n</g>\n<!-- 12 -->\n<g id=\"node13\" class=\"node\">\n<title>12</title>\n<path fill=\"#e58139\" stroke=\"#000000\" d=\"M510,-53C510,-53 418,-53 418,-53 412,-53 406,-47 406,-41 406,-41 406,-12 406,-12 406,-6 412,0 418,0 418,0 510,0 510,0 516,0 522,-6 522,-12 522,-12 522,-41 522,-41 522,-47 516,-53 510,-53\"/>\n<text text-anchor=\"start\" x=\"421.5\" y=\"-37.8\" font-family=\"Helvetica,sans-Serif\" font-size=\"14.00\" fill=\"#000000\">entropy = 0.0</text>\n<text text-anchor=\"start\" x=\"416\" y=\"-22.8\" font-family=\"Helvetica,sans-Serif\" font-size=\"14.00\" fill=\"#000000\">samples = 690</text>\n<text text-anchor=\"start\" x=\"414\" y=\"-7.8\" font-family=\"Helvetica,sans-Serif\" font-size=\"14.00\" fill=\"#000000\">value = [690, 0]</text>\n</g>\n<!-- 10&#45;&gt;12 -->\n<g id=\"edge12\" class=\"edge\">\n<title>10&#45;&gt;12</title>\n<path fill=\"none\" stroke=\"#000000\" d=\"M421.8462,-88.7428C427.7735,-79.9906 434.2195,-70.4728 440.2465,-61.5735\"/>\n<polygon fill=\"#000000\" stroke=\"#000000\" points=\"443.1565,-63.5184 445.8661,-53.2759 437.3606,-59.5931 443.1565,-63.5184\"/>\n</g>\n<!-- 14 -->\n<g id=\"node15\" class=\"node\">\n<title>14</title>\n<path fill=\"#e68844\" stroke=\"#000000\" d=\"M780,-153C780,-153 680,-153 680,-153 674,-153 668,-147 668,-141 668,-141 668,-101 668,-101 668,-95 674,-89 680,-89 680,-89 780,-89 780,-89 786,-89 792,-95 792,-101 792,-101 792,-141 792,-141 792,-147 786,-153 780,-153\"/>\n<text text-anchor=\"start\" x=\"688.5\" y=\"-138.8\" font-family=\"Helvetica,sans-Serif\" font-size=\"14.00\" fill=\"#000000\">X</text>\n<text text-anchor=\"start\" x=\"698.5\" y=\"-138.8\" font-family=\"Helvetica,sans-Serif\" baseline-shift=\"sub\" font-size=\"14.00\" fill=\"#000000\">520</text>\n<text text-anchor=\"start\" x=\"719.5\" y=\"-138.8\" font-family=\"Helvetica,sans-Serif\" font-size=\"14.00\" fill=\"#000000\"> ≤ 0.041</text>\n<text text-anchor=\"start\" x=\"679\" y=\"-124.8\" font-family=\"Helvetica,sans-Serif\" font-size=\"14.00\" fill=\"#000000\">entropy = 0.301</text>\n<text text-anchor=\"start\" x=\"682\" y=\"-110.8\" font-family=\"Helvetica,sans-Serif\" font-size=\"14.00\" fill=\"#000000\">samples = 187</text>\n<text text-anchor=\"start\" x=\"676\" y=\"-96.8\" font-family=\"Helvetica,sans-Serif\" font-size=\"14.00\" fill=\"#000000\">value = [177, 10]</text>\n</g>\n<!-- 13&#45;&gt;14 -->\n<g id=\"edge14\" class=\"edge\">\n<title>13&#45;&gt;14</title>\n<path fill=\"none\" stroke=\"#000000\" d=\"M776.7882,-188.8089C770.8172,-180.1553 764.2813,-170.683 758.0382,-161.635\"/>\n<polygon fill=\"#000000\" stroke=\"#000000\" points=\"760.7303,-159.3738 752.1702,-153.1308 754.9687,-163.3493 760.7303,-159.3738\"/>\n</g>\n<!-- 17 -->\n<g id=\"node18\" class=\"node\">\n<title>17</title>\n<path fill=\"#ffffff\" stroke=\"#000000\" d=\"M914,-153C914,-153 822,-153 822,-153 816,-153 810,-147 810,-141 810,-141 810,-101 810,-101 810,-95 816,-89 822,-89 822,-89 914,-89 914,-89 920,-89 926,-95 926,-101 926,-101 926,-141 926,-141 926,-147 920,-153 914,-153\"/>\n<text text-anchor=\"start\" x=\"826.5\" y=\"-138.8\" font-family=\"Helvetica,sans-Serif\" font-size=\"14.00\" fill=\"#000000\">X</text>\n<text text-anchor=\"start\" x=\"836.5\" y=\"-138.8\" font-family=\"Helvetica,sans-Serif\" baseline-shift=\"sub\" font-size=\"14.00\" fill=\"#000000\">603</text>\n<text text-anchor=\"start\" x=\"857.5\" y=\"-138.8\" font-family=\"Helvetica,sans-Serif\" font-size=\"14.00\" fill=\"#000000\"> ≤ 0.012</text>\n<text text-anchor=\"start\" x=\"825.5\" y=\"-124.8\" font-family=\"Helvetica,sans-Serif\" font-size=\"14.00\" fill=\"#000000\">entropy = 1.0</text>\n<text text-anchor=\"start\" x=\"824\" y=\"-110.8\" font-family=\"Helvetica,sans-Serif\" font-size=\"14.00\" fill=\"#000000\">samples = 40</text>\n<text text-anchor=\"start\" x=\"818\" y=\"-96.8\" font-family=\"Helvetica,sans-Serif\" font-size=\"14.00\" fill=\"#000000\">value = [20, 20]</text>\n</g>\n<!-- 13&#45;&gt;17 -->\n<g id=\"edge17\" class=\"edge\">\n<title>13&#45;&gt;17</title>\n<path fill=\"none\" stroke=\"#000000\" d=\"M821.2118,-188.8089C827.1828,-180.1553 833.7187,-170.683 839.9618,-161.635\"/>\n<polygon fill=\"#000000\" stroke=\"#000000\" points=\"843.0313,-163.3493 845.8298,-153.1308 837.2697,-159.3738 843.0313,-163.3493\"/>\n</g>\n<!-- 15 -->\n<g id=\"node16\" class=\"node\">\n<title>15</title>\n<path fill=\"#e9965b\" stroke=\"#000000\" d=\"M646,-53C646,-53 552,-53 552,-53 546,-53 540,-47 540,-41 540,-41 540,-12 540,-12 540,-6 546,0 552,0 552,0 646,0 646,0 652,0 658,-6 658,-12 658,-12 658,-41 658,-41 658,-47 652,-53 646,-53\"/>\n<text text-anchor=\"start\" x=\"548\" y=\"-37.8\" font-family=\"Helvetica,sans-Serif\" font-size=\"14.00\" fill=\"#000000\">entropy = 0.597</text>\n<text text-anchor=\"start\" x=\"555\" y=\"-22.8\" font-family=\"Helvetica,sans-Serif\" font-size=\"14.00\" fill=\"#000000\">samples = 69</text>\n<text text-anchor=\"start\" x=\"549\" y=\"-7.8\" font-family=\"Helvetica,sans-Serif\" font-size=\"14.00\" fill=\"#000000\">value = [59, 10]</text>\n</g>\n<!-- 14&#45;&gt;15 -->\n<g id=\"edge15\" class=\"edge\">\n<title>14&#45;&gt;15</title>\n<path fill=\"none\" stroke=\"#000000\" d=\"M685.2836,-88.7428C672.1504,-79.2688 657.7735,-68.8977 644.5866,-59.385\"/>\n<polygon fill=\"#000000\" stroke=\"#000000\" points=\"646.2756,-56.2878 636.1179,-53.2759 642.1803,-61.9648 646.2756,-56.2878\"/>\n</g>\n<!-- 16 -->\n<g id=\"node17\" class=\"node\">\n<title>16</title>\n<path fill=\"#e58139\" stroke=\"#000000\" d=\"M780,-53C780,-53 688,-53 688,-53 682,-53 676,-47 676,-41 676,-41 676,-12 676,-12 676,-6 682,0 688,0 688,0 780,0 780,0 786,0 792,-6 792,-12 792,-12 792,-41 792,-41 792,-47 786,-53 780,-53\"/>\n<text text-anchor=\"start\" x=\"691.5\" y=\"-37.8\" font-family=\"Helvetica,sans-Serif\" font-size=\"14.00\" fill=\"#000000\">entropy = 0.0</text>\n<text text-anchor=\"start\" x=\"686\" y=\"-22.8\" font-family=\"Helvetica,sans-Serif\" font-size=\"14.00\" fill=\"#000000\">samples = 118</text>\n<text text-anchor=\"start\" x=\"684\" y=\"-7.8\" font-family=\"Helvetica,sans-Serif\" font-size=\"14.00\" fill=\"#000000\">value = [118, 0]</text>\n</g>\n<!-- 14&#45;&gt;16 -->\n<g id=\"edge16\" class=\"edge\">\n<title>14&#45;&gt;16</title>\n<path fill=\"none\" stroke=\"#000000\" d=\"M731.3654,-88.7428C731.7091,-80.6222 732.0807,-71.8426 732.4335,-63.5093\"/>\n<polygon fill=\"#000000\" stroke=\"#000000\" points=\"735.9405,-63.415 732.8666,-53.2759 728.9468,-63.1189 735.9405,-63.415\"/>\n</g>\n<!-- 18 -->\n<g id=\"node19\" class=\"node\">\n<title>18</title>\n<path fill=\"#e58139\" stroke=\"#000000\" d=\"M905.5,-53C905.5,-53 822.5,-53 822.5,-53 816.5,-53 810.5,-47 810.5,-41 810.5,-41 810.5,-12 810.5,-12 810.5,-6 816.5,0 822.5,0 822.5,0 905.5,0 905.5,0 911.5,0 917.5,-6 917.5,-12 917.5,-12 917.5,-41 917.5,-41 917.5,-47 911.5,-53 905.5,-53\"/>\n<text text-anchor=\"start\" x=\"821.5\" y=\"-37.8\" font-family=\"Helvetica,sans-Serif\" font-size=\"14.00\" fill=\"#000000\">entropy = 0.0</text>\n<text text-anchor=\"start\" x=\"820\" y=\"-22.8\" font-family=\"Helvetica,sans-Serif\" font-size=\"14.00\" fill=\"#000000\">samples = 13</text>\n<text text-anchor=\"start\" x=\"818.5\" y=\"-7.8\" font-family=\"Helvetica,sans-Serif\" font-size=\"14.00\" fill=\"#000000\">value = [13, 0]</text>\n</g>\n<!-- 17&#45;&gt;18 -->\n<g id=\"edge18\" class=\"edge\">\n<title>17&#45;&gt;18</title>\n<path fill=\"none\" stroke=\"#000000\" d=\"M866.6346,-88.7428C866.2909,-80.6222 865.9193,-71.8426 865.5665,-63.5093\"/>\n<polygon fill=\"#000000\" stroke=\"#000000\" points=\"869.0532,-63.1189 865.1334,-53.2759 862.0595,-63.415 869.0532,-63.1189\"/>\n</g>\n<!-- 19 -->\n<g id=\"node20\" class=\"node\">\n<title>19</title>\n<path fill=\"#7ebfee\" stroke=\"#000000\" d=\"M1042,-53C1042,-53 948,-53 948,-53 942,-53 936,-47 936,-41 936,-41 936,-12 936,-12 936,-6 942,0 948,0 948,0 1042,0 1042,0 1048,0 1054,-6 1054,-12 1054,-12 1054,-41 1054,-41 1054,-47 1048,-53 1042,-53\"/>\n<text text-anchor=\"start\" x=\"944\" y=\"-37.8\" font-family=\"Helvetica,sans-Serif\" font-size=\"14.00\" fill=\"#000000\">entropy = 0.826</text>\n<text text-anchor=\"start\" x=\"951\" y=\"-22.8\" font-family=\"Helvetica,sans-Serif\" font-size=\"14.00\" fill=\"#000000\">samples = 27</text>\n<text text-anchor=\"start\" x=\"949.5\" y=\"-7.8\" font-family=\"Helvetica,sans-Serif\" font-size=\"14.00\" fill=\"#000000\">value = [7, 20]</text>\n</g>\n<!-- 17&#45;&gt;19 -->\n<g id=\"edge19\" class=\"edge\">\n<title>17&#45;&gt;19</title>\n<path fill=\"none\" stroke=\"#000000\" d=\"M911.351,-88.7428C924.0832,-79.2688 938.0211,-68.8977 950.8053,-59.385\"/>\n<polygon fill=\"#000000\" stroke=\"#000000\" points=\"953.0822,-62.0535 959.0155,-53.2759 948.9034,-56.4376 953.0822,-62.0535\"/>\n</g>\n<!-- 21 -->\n<g id=\"node22\" class=\"node\">\n<title>21</title>\n<path fill=\"#e5823a\" stroke=\"#000000\" d=\"M1392,-253C1392,-253 1292,-253 1292,-253 1286,-253 1280,-247 1280,-241 1280,-241 1280,-201 1280,-201 1280,-195 1286,-189 1292,-189 1292,-189 1392,-189 1392,-189 1398,-189 1404,-195 1404,-201 1404,-201 1404,-241 1404,-241 1404,-247 1398,-253 1392,-253\"/>\n<text text-anchor=\"start\" x=\"1300.5\" y=\"-238.8\" font-family=\"Helvetica,sans-Serif\" font-size=\"14.00\" fill=\"#000000\">X</text>\n<text text-anchor=\"start\" x=\"1310.5\" y=\"-238.8\" font-family=\"Helvetica,sans-Serif\" baseline-shift=\"sub\" font-size=\"14.00\" fill=\"#000000\">594</text>\n<text text-anchor=\"start\" x=\"1331.5\" y=\"-238.8\" font-family=\"Helvetica,sans-Serif\" font-size=\"14.00\" fill=\"#000000\"> ≤ 0.212</text>\n<text text-anchor=\"start\" x=\"1291\" y=\"-224.8\" font-family=\"Helvetica,sans-Serif\" font-size=\"14.00\" fill=\"#000000\">entropy = 0.054</text>\n<text text-anchor=\"start\" x=\"1290\" y=\"-210.8\" font-family=\"Helvetica,sans-Serif\" font-size=\"14.00\" fill=\"#000000\">samples = 1466</text>\n<text text-anchor=\"start\" x=\"1288\" y=\"-196.8\" font-family=\"Helvetica,sans-Serif\" font-size=\"14.00\" fill=\"#000000\">value = [1457, 9]</text>\n</g>\n<!-- 20&#45;&gt;21 -->\n<g id=\"edge21\" class=\"edge\">\n<title>20&#45;&gt;21</title>\n<path fill=\"none\" stroke=\"#000000\" d=\"M1390.1443,-288.8089C1383.9369,-280.0661 1377.1362,-270.4876 1370.6523,-261.3553\"/>\n<polygon fill=\"#000000\" stroke=\"#000000\" points=\"1373.4559,-259.2584 1364.8128,-253.1308 1367.7483,-263.3108 1373.4559,-259.2584\"/>\n</g>\n<!-- 28 -->\n<g id=\"node29\" class=\"node\">\n<title>28</title>\n<path fill=\"#e58139\" stroke=\"#000000\" d=\"M1534,-247.5C1534,-247.5 1434,-247.5 1434,-247.5 1428,-247.5 1422,-241.5 1422,-235.5 1422,-235.5 1422,-206.5 1422,-206.5 1422,-200.5 1428,-194.5 1434,-194.5 1434,-194.5 1534,-194.5 1534,-194.5 1540,-194.5 1546,-200.5 1546,-206.5 1546,-206.5 1546,-235.5 1546,-235.5 1546,-241.5 1540,-247.5 1534,-247.5\"/>\n<text text-anchor=\"start\" x=\"1441.5\" y=\"-232.3\" font-family=\"Helvetica,sans-Serif\" font-size=\"14.00\" fill=\"#000000\">entropy = 0.0</text>\n<text text-anchor=\"start\" x=\"1432\" y=\"-217.3\" font-family=\"Helvetica,sans-Serif\" font-size=\"14.00\" fill=\"#000000\">samples = 2208</text>\n<text text-anchor=\"start\" x=\"1430\" y=\"-202.3\" font-family=\"Helvetica,sans-Serif\" font-size=\"14.00\" fill=\"#000000\">value = [2208, 0]</text>\n</g>\n<!-- 20&#45;&gt;28 -->\n<g id=\"edge28\" class=\"edge\">\n<title>20&#45;&gt;28</title>\n<path fill=\"none\" stroke=\"#000000\" d=\"M1435.8557,-288.8089C1443.2767,-278.3568 1451.5457,-266.7103 1459.1076,-256.0597\"/>\n<polygon fill=\"#000000\" stroke=\"#000000\" points=\"1462.0554,-257.9536 1464.9908,-247.7735 1456.3477,-253.9011 1462.0554,-257.9536\"/>\n</g>\n<!-- 22 -->\n<g id=\"node23\" class=\"node\">\n<title>22</title>\n<path fill=\"#e58139\" stroke=\"#000000\" d=\"M1322,-153C1322,-153 1222,-153 1222,-153 1216,-153 1210,-147 1210,-141 1210,-141 1210,-101 1210,-101 1210,-95 1216,-89 1222,-89 1222,-89 1322,-89 1322,-89 1328,-89 1334,-95 1334,-101 1334,-101 1334,-141 1334,-141 1334,-147 1328,-153 1322,-153\"/>\n<text text-anchor=\"start\" x=\"1230.5\" y=\"-138.8\" font-family=\"Helvetica,sans-Serif\" font-size=\"14.00\" fill=\"#000000\">X</text>\n<text text-anchor=\"start\" x=\"1240.5\" y=\"-138.8\" font-family=\"Helvetica,sans-Serif\" baseline-shift=\"sub\" font-size=\"14.00\" fill=\"#000000\">377</text>\n<text text-anchor=\"start\" x=\"1261.5\" y=\"-138.8\" font-family=\"Helvetica,sans-Serif\" font-size=\"14.00\" fill=\"#000000\"> ≤ 0.998</text>\n<text text-anchor=\"start\" x=\"1221\" y=\"-124.8\" font-family=\"Helvetica,sans-Serif\" font-size=\"14.00\" fill=\"#000000\">entropy = 0.023</text>\n<text text-anchor=\"start\" x=\"1220\" y=\"-110.8\" font-family=\"Helvetica,sans-Serif\" font-size=\"14.00\" fill=\"#000000\">samples = 1339</text>\n<text text-anchor=\"start\" x=\"1218\" y=\"-96.8\" font-family=\"Helvetica,sans-Serif\" font-size=\"14.00\" fill=\"#000000\">value = [1336, 3]</text>\n</g>\n<!-- 21&#45;&gt;22 -->\n<g id=\"edge22\" class=\"edge\">\n<title>21&#45;&gt;22</title>\n<path fill=\"none\" stroke=\"#000000\" d=\"M1319.4662,-188.8089C1313.3463,-180.0661 1306.6413,-170.4876 1300.2487,-161.3553\"/>\n<polygon fill=\"#000000\" stroke=\"#000000\" points=\"1303.0935,-159.316 1294.4915,-153.1308 1297.3589,-163.3302 1303.0935,-159.316\"/>\n</g>\n<!-- 25 -->\n<g id=\"node26\" class=\"node\">\n<title>25</title>\n<path fill=\"#e68743\" stroke=\"#000000\" d=\"M1458,-153C1458,-153 1364,-153 1364,-153 1358,-153 1352,-147 1352,-141 1352,-141 1352,-101 1352,-101 1352,-95 1358,-89 1364,-89 1364,-89 1458,-89 1458,-89 1464,-89 1470,-95 1470,-101 1470,-101 1470,-141 1470,-141 1470,-147 1464,-153 1458,-153\"/>\n<text text-anchor=\"start\" x=\"1369.5\" y=\"-138.8\" font-family=\"Helvetica,sans-Serif\" font-size=\"14.00\" fill=\"#000000\">X</text>\n<text text-anchor=\"start\" x=\"1379.5\" y=\"-138.8\" font-family=\"Helvetica,sans-Serif\" baseline-shift=\"sub\" font-size=\"14.00\" fill=\"#000000\">577</text>\n<text text-anchor=\"start\" x=\"1400.5\" y=\"-138.8\" font-family=\"Helvetica,sans-Serif\" font-size=\"14.00\" fill=\"#000000\"> ≤ 0.943</text>\n<text text-anchor=\"start\" x=\"1360\" y=\"-124.8\" font-family=\"Helvetica,sans-Serif\" font-size=\"14.00\" fill=\"#000000\">entropy = 0.275</text>\n<text text-anchor=\"start\" x=\"1363\" y=\"-110.8\" font-family=\"Helvetica,sans-Serif\" font-size=\"14.00\" fill=\"#000000\">samples = 127</text>\n<text text-anchor=\"start\" x=\"1361\" y=\"-96.8\" font-family=\"Helvetica,sans-Serif\" font-size=\"14.00\" fill=\"#000000\">value = [121, 6]</text>\n</g>\n<!-- 21&#45;&gt;25 -->\n<g id=\"edge25\" class=\"edge\">\n<title>21&#45;&gt;25</title>\n<path fill=\"none\" stroke=\"#000000\" d=\"M1364.2118,-188.8089C1370.1828,-180.1553 1376.7187,-170.683 1382.9618,-161.635\"/>\n<polygon fill=\"#000000\" stroke=\"#000000\" points=\"1386.0313,-163.3493 1388.8298,-153.1308 1380.2697,-159.3738 1386.0313,-163.3493\"/>\n</g>\n<!-- 23 -->\n<g id=\"node24\" class=\"node\">\n<title>23</title>\n<path fill=\"#e58139\" stroke=\"#000000\" d=\"M1184,-53C1184,-53 1084,-53 1084,-53 1078,-53 1072,-47 1072,-41 1072,-41 1072,-12 1072,-12 1072,-6 1078,0 1084,0 1084,0 1184,0 1184,0 1190,0 1196,-6 1196,-12 1196,-12 1196,-41 1196,-41 1196,-47 1190,-53 1184,-53\"/>\n<text text-anchor=\"start\" x=\"1083\" y=\"-37.8\" font-family=\"Helvetica,sans-Serif\" font-size=\"14.00\" fill=\"#000000\">entropy = 0.016</text>\n<text text-anchor=\"start\" x=\"1082\" y=\"-22.8\" font-family=\"Helvetica,sans-Serif\" font-size=\"14.00\" fill=\"#000000\">samples = 1335</text>\n<text text-anchor=\"start\" x=\"1080\" y=\"-7.8\" font-family=\"Helvetica,sans-Serif\" font-size=\"14.00\" fill=\"#000000\">value = [1333, 2]</text>\n</g>\n<!-- 22&#45;&gt;23 -->\n<g id=\"edge23\" class=\"edge\">\n<title>22&#45;&gt;23</title>\n<path fill=\"none\" stroke=\"#000000\" d=\"M1224.8942,-88.7428C1210.9274,-79.1786 1195.6255,-68.7001 1181.626,-59.1135\"/>\n<polygon fill=\"#000000\" stroke=\"#000000\" points=\"1183.3297,-56.0382 1173.1013,-53.2759 1179.3746,-61.8138 1183.3297,-56.0382\"/>\n</g>\n<!-- 24 -->\n<g id=\"node25\" class=\"node\">\n<title>24</title>\n<path fill=\"#eeab7b\" stroke=\"#000000\" d=\"M1320,-53C1320,-53 1226,-53 1226,-53 1220,-53 1214,-47 1214,-41 1214,-41 1214,-12 1214,-12 1214,-6 1220,0 1226,0 1226,0 1320,0 1320,0 1326,0 1332,-6 1332,-12 1332,-12 1332,-41 1332,-41 1332,-47 1326,-53 1320,-53\"/>\n<text text-anchor=\"start\" x=\"1222\" y=\"-37.8\" font-family=\"Helvetica,sans-Serif\" font-size=\"14.00\" fill=\"#000000\">entropy = 0.811</text>\n<text text-anchor=\"start\" x=\"1233.5\" y=\"-22.8\" font-family=\"Helvetica,sans-Serif\" font-size=\"14.00\" fill=\"#000000\">samples = 4</text>\n<text text-anchor=\"start\" x=\"1231.5\" y=\"-7.8\" font-family=\"Helvetica,sans-Serif\" font-size=\"14.00\" fill=\"#000000\">value = [3, 1]</text>\n</g>\n<!-- 22&#45;&gt;24 -->\n<g id=\"edge24\" class=\"edge\">\n<title>22&#45;&gt;24</title>\n<path fill=\"none\" stroke=\"#000000\" d=\"M1272.3413,-88.7428C1272.4273,-80.6222 1272.5202,-71.8426 1272.6084,-63.5093\"/>\n<polygon fill=\"#000000\" stroke=\"#000000\" points=\"1276.1106,-63.3124 1272.7167,-53.2759 1269.1109,-63.2382 1276.1106,-63.3124\"/>\n</g>\n<!-- 26 -->\n<g id=\"node27\" class=\"node\">\n<title>26</title>\n<path fill=\"#e5823b\" stroke=\"#000000\" d=\"M1456,-53C1456,-53 1362,-53 1362,-53 1356,-53 1350,-47 1350,-41 1350,-41 1350,-12 1350,-12 1350,-6 1356,0 1362,0 1362,0 1456,0 1456,0 1462,0 1468,-6 1468,-12 1468,-12 1468,-41 1468,-41 1468,-47 1462,-53 1456,-53\"/>\n<text text-anchor=\"start\" x=\"1358\" y=\"-37.8\" font-family=\"Helvetica,sans-Serif\" font-size=\"14.00\" fill=\"#000000\">entropy = 0.076</text>\n<text text-anchor=\"start\" x=\"1361\" y=\"-22.8\" font-family=\"Helvetica,sans-Serif\" font-size=\"14.00\" fill=\"#000000\">samples = 107</text>\n<text text-anchor=\"start\" x=\"1359\" y=\"-7.8\" font-family=\"Helvetica,sans-Serif\" font-size=\"14.00\" fill=\"#000000\">value = [106, 1]</text>\n</g>\n<!-- 25&#45;&gt;26 -->\n<g id=\"edge26\" class=\"edge\">\n<title>25&#45;&gt;26</title>\n<path fill=\"none\" stroke=\"#000000\" d=\"M1410.3173,-88.7428C1410.1454,-80.6222 1409.9596,-71.8426 1409.7833,-63.5093\"/>\n<polygon fill=\"#000000\" stroke=\"#000000\" points=\"1413.2776,-63.1995 1409.5667,-53.2759 1406.2792,-63.3477 1413.2776,-63.1995\"/>\n</g>\n<!-- 27 -->\n<g id=\"node28\" class=\"node\">\n<title>27</title>\n<path fill=\"#eeab7b\" stroke=\"#000000\" d=\"M1592,-53C1592,-53 1498,-53 1498,-53 1492,-53 1486,-47 1486,-41 1486,-41 1486,-12 1486,-12 1486,-6 1492,0 1498,0 1498,0 1592,0 1592,0 1598,0 1604,-6 1604,-12 1604,-12 1604,-41 1604,-41 1604,-47 1598,-53 1592,-53\"/>\n<text text-anchor=\"start\" x=\"1494\" y=\"-37.8\" font-family=\"Helvetica,sans-Serif\" font-size=\"14.00\" fill=\"#000000\">entropy = 0.811</text>\n<text text-anchor=\"start\" x=\"1501\" y=\"-22.8\" font-family=\"Helvetica,sans-Serif\" font-size=\"14.00\" fill=\"#000000\">samples = 20</text>\n<text text-anchor=\"start\" x=\"1499.5\" y=\"-7.8\" font-family=\"Helvetica,sans-Serif\" font-size=\"14.00\" fill=\"#000000\">value = [15, 5]</text>\n</g>\n<!-- 25&#45;&gt;27 -->\n<g id=\"edge27\" class=\"edge\">\n<title>25&#45;&gt;27</title>\n<path fill=\"none\" stroke=\"#000000\" d=\"M1456.7404,-88.7428C1470.3023,-79.1786 1485.1608,-68.7001 1498.7544,-59.1135\"/>\n<polygon fill=\"#000000\" stroke=\"#000000\" points=\"1500.877,-61.8994 1507.0321,-53.2759 1496.8427,-56.1789 1500.877,-61.8994\"/>\n</g>\n<!-- 30 -->\n<g id=\"node31\" class=\"node\">\n<title>30</title>\n<path fill=\"#eca26d\" stroke=\"#000000\" d=\"M2313,-353C2313,-353 2205,-353 2205,-353 2199,-353 2193,-347 2193,-341 2193,-341 2193,-301 2193,-301 2193,-295 2199,-289 2205,-289 2205,-289 2313,-289 2313,-289 2319,-289 2325,-295 2325,-301 2325,-301 2325,-341 2325,-341 2325,-347 2319,-353 2313,-353\"/>\n<text text-anchor=\"start\" x=\"2217.5\" y=\"-338.8\" font-family=\"Helvetica,sans-Serif\" font-size=\"14.00\" fill=\"#000000\">X</text>\n<text text-anchor=\"start\" x=\"2227.5\" y=\"-338.8\" font-family=\"Helvetica,sans-Serif\" baseline-shift=\"sub\" font-size=\"14.00\" fill=\"#000000\">234</text>\n<text text-anchor=\"start\" x=\"2248.5\" y=\"-338.8\" font-family=\"Helvetica,sans-Serif\" font-size=\"14.00\" fill=\"#000000\"> ≤ 0.124</text>\n<text text-anchor=\"start\" x=\"2212\" y=\"-324.8\" font-family=\"Helvetica,sans-Serif\" font-size=\"14.00\" fill=\"#000000\">entropy = 0.74</text>\n<text text-anchor=\"start\" x=\"2211\" y=\"-310.8\" font-family=\"Helvetica,sans-Serif\" font-size=\"14.00\" fill=\"#000000\">samples = 530</text>\n<text text-anchor=\"start\" x=\"2201\" y=\"-296.8\" font-family=\"Helvetica,sans-Serif\" font-size=\"14.00\" fill=\"#000000\">value = [419, 111]</text>\n</g>\n<!-- 29&#45;&gt;30 -->\n<g id=\"edge30\" class=\"edge\">\n<title>29&#45;&gt;30</title>\n<path fill=\"none\" stroke=\"#000000\" d=\"M2390.8167,-388.9467C2371.4988,-378.989 2350.0566,-367.9364 2330.1755,-357.6884\"/>\n<polygon fill=\"#000000\" stroke=\"#000000\" points=\"2331.6563,-354.5141 2321.164,-353.0433 2328.449,-360.7361 2331.6563,-354.5141\"/>\n</g>\n<!-- 43 -->\n<g id=\"node44\" class=\"node\">\n<title>43</title>\n<path fill=\"#e6843d\" stroke=\"#000000\" d=\"M2568,-353C2568,-353 2474,-353 2474,-353 2468,-353 2462,-347 2462,-341 2462,-341 2462,-301 2462,-301 2462,-295 2468,-289 2474,-289 2474,-289 2568,-289 2568,-289 2574,-289 2580,-295 2580,-301 2580,-301 2580,-341 2580,-341 2580,-347 2574,-353 2568,-353\"/>\n<text text-anchor=\"start\" x=\"2479.5\" y=\"-338.8\" font-family=\"Helvetica,sans-Serif\" font-size=\"14.00\" fill=\"#000000\">X</text>\n<text text-anchor=\"start\" x=\"2489.5\" y=\"-338.8\" font-family=\"Helvetica,sans-Serif\" baseline-shift=\"sub\" font-size=\"14.00\" fill=\"#000000\">189</text>\n<text text-anchor=\"start\" x=\"2510.5\" y=\"-338.8\" font-family=\"Helvetica,sans-Serif\" font-size=\"14.00\" fill=\"#000000\"> ≤ 0.859</text>\n<text text-anchor=\"start\" x=\"2470\" y=\"-324.8\" font-family=\"Helvetica,sans-Serif\" font-size=\"14.00\" fill=\"#000000\">entropy = 0.149</text>\n<text text-anchor=\"start\" x=\"2473\" y=\"-310.8\" font-family=\"Helvetica,sans-Serif\" font-size=\"14.00\" fill=\"#000000\">samples = 374</text>\n<text text-anchor=\"start\" x=\"2471\" y=\"-296.8\" font-family=\"Helvetica,sans-Serif\" font-size=\"14.00\" fill=\"#000000\">value = [366, 8]</text>\n</g>\n<!-- 29&#45;&gt;43 -->\n<g id=\"edge43\" class=\"edge\">\n<title>29&#45;&gt;43</title>\n<path fill=\"none\" stroke=\"#000000\" d=\"M2474.8899,-388.8089C2480.7744,-380.1553 2487.2156,-370.683 2493.3682,-361.635\"/>\n<polygon fill=\"#000000\" stroke=\"#000000\" points=\"2496.4222,-363.3681 2499.1511,-353.1308 2490.6337,-359.4319 2496.4222,-363.3681\"/>\n</g>\n<!-- 31 -->\n<g id=\"node32\" class=\"node\">\n<title>31</title>\n<path fill=\"#f1bb94\" stroke=\"#000000\" d=\"M2108,-253C2108,-253 2000,-253 2000,-253 1994,-253 1988,-247 1988,-241 1988,-241 1988,-201 1988,-201 1988,-195 1994,-189 2000,-189 2000,-189 2108,-189 2108,-189 2114,-189 2120,-195 2120,-201 2120,-201 2120,-241 2120,-241 2120,-247 2114,-253 2108,-253\"/>\n<text text-anchor=\"start\" x=\"2012.5\" y=\"-238.8\" font-family=\"Helvetica,sans-Serif\" font-size=\"14.00\" fill=\"#000000\">X</text>\n<text text-anchor=\"start\" x=\"2022.5\" y=\"-238.8\" font-family=\"Helvetica,sans-Serif\" baseline-shift=\"sub\" font-size=\"14.00\" fill=\"#000000\">152</text>\n<text text-anchor=\"start\" x=\"2043.5\" y=\"-238.8\" font-family=\"Helvetica,sans-Serif\" font-size=\"14.00\" fill=\"#000000\"> ≤ 0.518</text>\n<text text-anchor=\"start\" x=\"2003\" y=\"-224.8\" font-family=\"Helvetica,sans-Serif\" font-size=\"14.00\" fill=\"#000000\">entropy = 0.899</text>\n<text text-anchor=\"start\" x=\"2006\" y=\"-210.8\" font-family=\"Helvetica,sans-Serif\" font-size=\"14.00\" fill=\"#000000\">samples = 346</text>\n<text text-anchor=\"start\" x=\"1996\" y=\"-196.8\" font-family=\"Helvetica,sans-Serif\" font-size=\"14.00\" fill=\"#000000\">value = [237, 109]</text>\n</g>\n<!-- 30&#45;&gt;31 -->\n<g id=\"edge31\" class=\"edge\">\n<title>30&#45;&gt;31</title>\n<path fill=\"none\" stroke=\"#000000\" d=\"M2193.2908,-288.9467C2172.7856,-278.9442 2150.0154,-267.8368 2128.9274,-257.55\"/>\n<polygon fill=\"#000000\" stroke=\"#000000\" points=\"2130.211,-254.2819 2119.6888,-253.0433 2127.142,-260.5733 2130.211,-254.2819\"/>\n</g>\n<!-- 38 -->\n<g id=\"node39\" class=\"node\">\n<title>38</title>\n<path fill=\"#e5823b\" stroke=\"#000000\" d=\"M2306,-253C2306,-253 2212,-253 2212,-253 2206,-253 2200,-247 2200,-241 2200,-241 2200,-201 2200,-201 2200,-195 2206,-189 2212,-189 2212,-189 2306,-189 2306,-189 2312,-189 2318,-195 2318,-201 2318,-201 2318,-241 2318,-241 2318,-247 2312,-253 2306,-253\"/>\n<text text-anchor=\"start\" x=\"2217.5\" y=\"-238.8\" font-family=\"Helvetica,sans-Serif\" font-size=\"14.00\" fill=\"#000000\">X</text>\n<text text-anchor=\"start\" x=\"2227.5\" y=\"-238.8\" font-family=\"Helvetica,sans-Serif\" baseline-shift=\"sub\" font-size=\"14.00\" fill=\"#000000\">352</text>\n<text text-anchor=\"start\" x=\"2248.5\" y=\"-238.8\" font-family=\"Helvetica,sans-Serif\" font-size=\"14.00\" fill=\"#000000\"> ≤ 0.788</text>\n<text text-anchor=\"start\" x=\"2208\" y=\"-224.8\" font-family=\"Helvetica,sans-Serif\" font-size=\"14.00\" fill=\"#000000\">entropy = 0.087</text>\n<text text-anchor=\"start\" x=\"2211\" y=\"-210.8\" font-family=\"Helvetica,sans-Serif\" font-size=\"14.00\" fill=\"#000000\">samples = 184</text>\n<text text-anchor=\"start\" x=\"2209\" y=\"-196.8\" font-family=\"Helvetica,sans-Serif\" font-size=\"14.00\" fill=\"#000000\">value = [182, 2]</text>\n</g>\n<!-- 30&#45;&gt;38 -->\n<g id=\"edge38\" class=\"edge\">\n<title>30&#45;&gt;38</title>\n<path fill=\"none\" stroke=\"#000000\" d=\"M2259,-288.8089C2259,-280.6906 2259,-271.8517 2259,-263.3186\"/>\n<polygon fill=\"#000000\" stroke=\"#000000\" points=\"2262.5001,-263.1307 2259,-253.1308 2255.5001,-263.1308 2262.5001,-263.1307\"/>\n</g>\n<!-- 32 -->\n<g id=\"node33\" class=\"node\">\n<title>32</title>\n<path fill=\"#f7d9c4\" stroke=\"#000000\" d=\"M1870,-153C1870,-153 1762,-153 1762,-153 1756,-153 1750,-147 1750,-141 1750,-141 1750,-101 1750,-101 1750,-95 1756,-89 1762,-89 1762,-89 1870,-89 1870,-89 1876,-89 1882,-95 1882,-101 1882,-101 1882,-141 1882,-141 1882,-147 1876,-153 1870,-153\"/>\n<text text-anchor=\"start\" x=\"1774.5\" y=\"-138.8\" font-family=\"Helvetica,sans-Serif\" font-size=\"14.00\" fill=\"#000000\">X</text>\n<text text-anchor=\"start\" x=\"1784.5\" y=\"-138.8\" font-family=\"Helvetica,sans-Serif\" baseline-shift=\"sub\" font-size=\"14.00\" fill=\"#000000\">520</text>\n<text text-anchor=\"start\" x=\"1805.5\" y=\"-138.8\" font-family=\"Helvetica,sans-Serif\" font-size=\"14.00\" fill=\"#000000\"> ≤ 0.004</text>\n<text text-anchor=\"start\" x=\"1765\" y=\"-124.8\" font-family=\"Helvetica,sans-Serif\" font-size=\"14.00\" fill=\"#000000\">entropy = 0.978</text>\n<text text-anchor=\"start\" x=\"1768\" y=\"-110.8\" font-family=\"Helvetica,sans-Serif\" font-size=\"14.00\" fill=\"#000000\">samples = 257</text>\n<text text-anchor=\"start\" x=\"1758\" y=\"-96.8\" font-family=\"Helvetica,sans-Serif\" font-size=\"14.00\" fill=\"#000000\">value = [151, 106]</text>\n</g>\n<!-- 31&#45;&gt;32 -->\n<g id=\"edge32\" class=\"edge\">\n<title>31&#45;&gt;32</title>\n<path fill=\"none\" stroke=\"#000000\" d=\"M1987.7037,-193.1444C1957.9127,-180.6272 1922.5991,-165.7895 1891.7668,-152.8348\"/>\n<polygon fill=\"#000000\" stroke=\"#000000\" points=\"1892.9282,-149.5264 1882.3531,-148.8795 1890.2166,-155.9799 1892.9282,-149.5264\"/>\n</g>\n<!-- 35 -->\n<g id=\"node36\" class=\"node\">\n<title>35</title>\n<path fill=\"#e68540\" stroke=\"#000000\" d=\"M2101,-153C2101,-153 2007,-153 2007,-153 2001,-153 1995,-147 1995,-141 1995,-141 1995,-101 1995,-101 1995,-95 2001,-89 2007,-89 2007,-89 2101,-89 2101,-89 2107,-89 2113,-95 2113,-101 2113,-101 2113,-141 2113,-141 2113,-147 2107,-153 2101,-153\"/>\n<text text-anchor=\"start\" x=\"2012.5\" y=\"-138.8\" font-family=\"Helvetica,sans-Serif\" font-size=\"14.00\" fill=\"#000000\">X</text>\n<text text-anchor=\"start\" x=\"2022.5\" y=\"-138.8\" font-family=\"Helvetica,sans-Serif\" baseline-shift=\"sub\" font-size=\"14.00\" fill=\"#000000\">292</text>\n<text text-anchor=\"start\" x=\"2043.5\" y=\"-138.8\" font-family=\"Helvetica,sans-Serif\" font-size=\"14.00\" fill=\"#000000\"> ≤ 0.867</text>\n<text text-anchor=\"start\" x=\"2003\" y=\"-124.8\" font-family=\"Helvetica,sans-Serif\" font-size=\"14.00\" fill=\"#000000\">entropy = 0.213</text>\n<text text-anchor=\"start\" x=\"2010\" y=\"-110.8\" font-family=\"Helvetica,sans-Serif\" font-size=\"14.00\" fill=\"#000000\">samples = 89</text>\n<text text-anchor=\"start\" x=\"2008.5\" y=\"-96.8\" font-family=\"Helvetica,sans-Serif\" font-size=\"14.00\" fill=\"#000000\">value = [86, 3]</text>\n</g>\n<!-- 31&#45;&gt;35 -->\n<g id=\"edge35\" class=\"edge\">\n<title>31&#45;&gt;35</title>\n<path fill=\"none\" stroke=\"#000000\" d=\"M2054,-188.8089C2054,-180.6906 2054,-171.8517 2054,-163.3186\"/>\n<polygon fill=\"#000000\" stroke=\"#000000\" points=\"2057.5001,-163.1307 2054,-153.1308 2050.5001,-163.1308 2057.5001,-163.1307\"/>\n</g>\n<!-- 33 -->\n<g id=\"node34\" class=\"node\">\n<title>33</title>\n<path fill=\"#cee7f9\" stroke=\"#000000\" d=\"M1728,-53C1728,-53 1634,-53 1634,-53 1628,-53 1622,-47 1622,-41 1622,-41 1622,-12 1622,-12 1622,-6 1628,0 1634,0 1634,0 1728,0 1728,0 1734,0 1740,-6 1740,-12 1740,-12 1740,-41 1740,-41 1740,-47 1734,-53 1728,-53\"/>\n<text text-anchor=\"start\" x=\"1630\" y=\"-37.8\" font-family=\"Helvetica,sans-Serif\" font-size=\"14.00\" fill=\"#000000\">entropy = 0.986</text>\n<text text-anchor=\"start\" x=\"1633\" y=\"-22.8\" font-family=\"Helvetica,sans-Serif\" font-size=\"14.00\" fill=\"#000000\">samples = 163</text>\n<text text-anchor=\"start\" x=\"1631\" y=\"-7.8\" font-family=\"Helvetica,sans-Serif\" font-size=\"14.00\" fill=\"#000000\">value = [70, 93]</text>\n</g>\n<!-- 32&#45;&gt;33 -->\n<g id=\"edge33\" class=\"edge\">\n<title>32&#45;&gt;33</title>\n<path fill=\"none\" stroke=\"#000000\" d=\"M1769.9182,-88.7428C1756.2551,-79.1786 1741.2858,-68.7001 1727.5907,-59.1135\"/>\n<polygon fill=\"#000000\" stroke=\"#000000\" points=\"1729.4507,-56.1432 1719.2512,-53.2759 1725.4364,-61.8778 1729.4507,-56.1432\"/>\n</g>\n<!-- 34 -->\n<g id=\"node35\" class=\"node\">\n<title>34</title>\n<path fill=\"#e99559\" stroke=\"#000000\" d=\"M1862,-53C1862,-53 1770,-53 1770,-53 1764,-53 1758,-47 1758,-41 1758,-41 1758,-12 1758,-12 1758,-6 1764,0 1770,0 1770,0 1862,0 1862,0 1868,0 1874,-6 1874,-12 1874,-12 1874,-41 1874,-41 1874,-47 1868,-53 1862,-53\"/>\n<text text-anchor=\"start\" x=\"1769\" y=\"-37.8\" font-family=\"Helvetica,sans-Serif\" font-size=\"14.00\" fill=\"#000000\">entropy = 0.58</text>\n<text text-anchor=\"start\" x=\"1772\" y=\"-22.8\" font-family=\"Helvetica,sans-Serif\" font-size=\"14.00\" fill=\"#000000\">samples = 94</text>\n<text text-anchor=\"start\" x=\"1766\" y=\"-7.8\" font-family=\"Helvetica,sans-Serif\" font-size=\"14.00\" fill=\"#000000\">value = [81, 13]</text>\n</g>\n<!-- 32&#45;&gt;34 -->\n<g id=\"edge34\" class=\"edge\">\n<title>32&#45;&gt;34</title>\n<path fill=\"none\" stroke=\"#000000\" d=\"M1816,-88.7428C1816,-80.6222 1816,-71.8426 1816,-63.5093\"/>\n<polygon fill=\"#000000\" stroke=\"#000000\" points=\"1819.5001,-63.2758 1816,-53.2759 1812.5001,-63.2759 1819.5001,-63.2758\"/>\n</g>\n<!-- 36 -->\n<g id=\"node37\" class=\"node\">\n<title>36</title>\n<path fill=\"#e5823b\" stroke=\"#000000\" d=\"M1998,-53C1998,-53 1904,-53 1904,-53 1898,-53 1892,-47 1892,-41 1892,-41 1892,-12 1892,-12 1892,-6 1898,0 1904,0 1904,0 1998,0 1998,0 2004,0 2010,-6 2010,-12 2010,-12 2010,-41 2010,-41 2010,-47 2004,-53 1998,-53\"/>\n<text text-anchor=\"start\" x=\"1900\" y=\"-37.8\" font-family=\"Helvetica,sans-Serif\" font-size=\"14.00\" fill=\"#000000\">entropy = 0.091</text>\n<text text-anchor=\"start\" x=\"1907\" y=\"-22.8\" font-family=\"Helvetica,sans-Serif\" font-size=\"14.00\" fill=\"#000000\">samples = 87</text>\n<text text-anchor=\"start\" x=\"1905.5\" y=\"-7.8\" font-family=\"Helvetica,sans-Serif\" font-size=\"14.00\" fill=\"#000000\">value = [86, 1]</text>\n</g>\n<!-- 35&#45;&gt;36 -->\n<g id=\"edge36\" class=\"edge\">\n<title>35&#45;&gt;36</title>\n<path fill=\"none\" stroke=\"#000000\" d=\"M2018.8413,-88.7428C2008.8102,-79.5395 1997.8564,-69.4896 1987.7339,-60.2025\"/>\n<polygon fill=\"#000000\" stroke=\"#000000\" points=\"1989.9191,-57.4574 1980.1843,-53.2759 1985.1867,-62.6154 1989.9191,-57.4574\"/>\n</g>\n<!-- 37 -->\n<g id=\"node38\" class=\"node\">\n<title>37</title>\n<path fill=\"#399de5\" stroke=\"#000000\" d=\"M2117.5,-53C2117.5,-53 2040.5,-53 2040.5,-53 2034.5,-53 2028.5,-47 2028.5,-41 2028.5,-41 2028.5,-12 2028.5,-12 2028.5,-6 2034.5,0 2040.5,0 2040.5,0 2117.5,0 2117.5,0 2123.5,0 2129.5,-6 2129.5,-12 2129.5,-12 2129.5,-41 2129.5,-41 2129.5,-47 2123.5,-53 2117.5,-53\"/>\n<text text-anchor=\"start\" x=\"2036.5\" y=\"-37.8\" font-family=\"Helvetica,sans-Serif\" font-size=\"14.00\" fill=\"#000000\">entropy = 0.0</text>\n<text text-anchor=\"start\" x=\"2039.5\" y=\"-22.8\" font-family=\"Helvetica,sans-Serif\" font-size=\"14.00\" fill=\"#000000\">samples = 2</text>\n<text text-anchor=\"start\" x=\"2037.5\" y=\"-7.8\" font-family=\"Helvetica,sans-Serif\" font-size=\"14.00\" fill=\"#000000\">value = [0, 2]</text>\n</g>\n<!-- 35&#45;&gt;37 -->\n<g id=\"edge37\" class=\"edge\">\n<title>35&#45;&gt;37</title>\n<path fill=\"none\" stroke=\"#000000\" d=\"M2062.5337,-88.7428C2064.7297,-80.4418 2067.1079,-71.452 2069.356,-62.9544\"/>\n<polygon fill=\"#000000\" stroke=\"#000000\" points=\"2072.7424,-63.8385 2071.9164,-53.2759 2065.9752,-62.0481 2072.7424,-63.8385\"/>\n</g>\n<!-- 39 -->\n<g id=\"node40\" class=\"node\">\n<title>39</title>\n<path fill=\"#ea9a61\" stroke=\"#000000\" d=\"M2234,-153C2234,-153 2148,-153 2148,-153 2142,-153 2136,-147 2136,-141 2136,-141 2136,-101 2136,-101 2136,-95 2142,-89 2148,-89 2148,-89 2234,-89 2234,-89 2240,-89 2246,-95 2246,-101 2246,-101 2246,-141 2246,-141 2246,-147 2240,-153 2234,-153\"/>\n<text text-anchor=\"start\" x=\"2149.5\" y=\"-138.8\" font-family=\"Helvetica,sans-Serif\" font-size=\"14.00\" fill=\"#000000\">X</text>\n<text text-anchor=\"start\" x=\"2159.5\" y=\"-138.8\" font-family=\"Helvetica,sans-Serif\" baseline-shift=\"sub\" font-size=\"14.00\" fill=\"#000000\">575</text>\n<text text-anchor=\"start\" x=\"2180.5\" y=\"-138.8\" font-family=\"Helvetica,sans-Serif\" font-size=\"14.00\" fill=\"#000000\"> ≤ 0.992</text>\n<text text-anchor=\"start\" x=\"2144\" y=\"-124.8\" font-family=\"Helvetica,sans-Serif\" font-size=\"14.00\" fill=\"#000000\">entropy = 0.65</text>\n<text text-anchor=\"start\" x=\"2147\" y=\"-110.8\" font-family=\"Helvetica,sans-Serif\" font-size=\"14.00\" fill=\"#000000\">samples = 12</text>\n<text text-anchor=\"start\" x=\"2145.5\" y=\"-96.8\" font-family=\"Helvetica,sans-Serif\" font-size=\"14.00\" fill=\"#000000\">value = [10, 2]</text>\n</g>\n<!-- 38&#45;&gt;39 -->\n<g id=\"edge39\" class=\"edge\">\n<title>38&#45;&gt;39</title>\n<path fill=\"none\" stroke=\"#000000\" d=\"M2237.1101,-188.8089C2231.2256,-180.1553 2224.7844,-170.683 2218.6318,-161.635\"/>\n<polygon fill=\"#000000\" stroke=\"#000000\" points=\"2221.3663,-159.4319 2212.8489,-153.1308 2215.5778,-163.3681 2221.3663,-159.4319\"/>\n</g>\n<!-- 42 -->\n<g id=\"node43\" class=\"node\">\n<title>42</title>\n<path fill=\"#e58139\" stroke=\"#000000\" d=\"M2368,-147.5C2368,-147.5 2276,-147.5 2276,-147.5 2270,-147.5 2264,-141.5 2264,-135.5 2264,-135.5 2264,-106.5 2264,-106.5 2264,-100.5 2270,-94.5 2276,-94.5 2276,-94.5 2368,-94.5 2368,-94.5 2374,-94.5 2380,-100.5 2380,-106.5 2380,-106.5 2380,-135.5 2380,-135.5 2380,-141.5 2374,-147.5 2368,-147.5\"/>\n<text text-anchor=\"start\" x=\"2279.5\" y=\"-132.3\" font-family=\"Helvetica,sans-Serif\" font-size=\"14.00\" fill=\"#000000\">entropy = 0.0</text>\n<text text-anchor=\"start\" x=\"2274\" y=\"-117.3\" font-family=\"Helvetica,sans-Serif\" font-size=\"14.00\" fill=\"#000000\">samples = 172</text>\n<text text-anchor=\"start\" x=\"2272\" y=\"-102.3\" font-family=\"Helvetica,sans-Serif\" font-size=\"14.00\" fill=\"#000000\">value = [172, 0]</text>\n</g>\n<!-- 38&#45;&gt;42 -->\n<g id=\"edge42\" class=\"edge\">\n<title>38&#45;&gt;42</title>\n<path fill=\"none\" stroke=\"#000000\" d=\"M2279.2804,-188.8089C2285.8,-178.4603 2293.0573,-166.9408 2299.7129,-156.3764\"/>\n<polygon fill=\"#000000\" stroke=\"#000000\" points=\"2302.7636,-158.1001 2305.1327,-147.7735 2296.8409,-154.3688 2302.7636,-158.1001\"/>\n</g>\n<!-- 40 -->\n<g id=\"node41\" class=\"node\">\n<title>40</title>\n<path fill=\"#e58139\" stroke=\"#000000\" d=\"M2242.5,-53C2242.5,-53 2159.5,-53 2159.5,-53 2153.5,-53 2147.5,-47 2147.5,-41 2147.5,-41 2147.5,-12 2147.5,-12 2147.5,-6 2153.5,0 2159.5,0 2159.5,0 2242.5,0 2242.5,0 2248.5,0 2254.5,-6 2254.5,-12 2254.5,-12 2254.5,-41 2254.5,-41 2254.5,-47 2248.5,-53 2242.5,-53\"/>\n<text text-anchor=\"start\" x=\"2158.5\" y=\"-37.8\" font-family=\"Helvetica,sans-Serif\" font-size=\"14.00\" fill=\"#000000\">entropy = 0.0</text>\n<text text-anchor=\"start\" x=\"2157\" y=\"-22.8\" font-family=\"Helvetica,sans-Serif\" font-size=\"14.00\" fill=\"#000000\">samples = 10</text>\n<text text-anchor=\"start\" x=\"2155.5\" y=\"-7.8\" font-family=\"Helvetica,sans-Serif\" font-size=\"14.00\" fill=\"#000000\">value = [10, 0]</text>\n</g>\n<!-- 39&#45;&gt;40 -->\n<g id=\"edge40\" class=\"edge\">\n<title>39&#45;&gt;40</title>\n<path fill=\"none\" stroke=\"#000000\" d=\"M2194.4135,-88.7428C2195.2823,-80.532 2196.2225,-71.6474 2197.113,-63.2317\"/>\n<polygon fill=\"#000000\" stroke=\"#000000\" points=\"2200.5947,-63.5887 2198.1666,-53.2759 2193.6336,-62.852 2200.5947,-63.5887\"/>\n</g>\n<!-- 41 -->\n<g id=\"node42\" class=\"node\">\n<title>41</title>\n<path fill=\"#399de5\" stroke=\"#000000\" d=\"M2361.5,-53C2361.5,-53 2284.5,-53 2284.5,-53 2278.5,-53 2272.5,-47 2272.5,-41 2272.5,-41 2272.5,-12 2272.5,-12 2272.5,-6 2278.5,0 2284.5,0 2284.5,0 2361.5,0 2361.5,0 2367.5,0 2373.5,-6 2373.5,-12 2373.5,-12 2373.5,-41 2373.5,-41 2373.5,-47 2367.5,-53 2361.5,-53\"/>\n<text text-anchor=\"start\" x=\"2280.5\" y=\"-37.8\" font-family=\"Helvetica,sans-Serif\" font-size=\"14.00\" fill=\"#000000\">entropy = 0.0</text>\n<text text-anchor=\"start\" x=\"2283.5\" y=\"-22.8\" font-family=\"Helvetica,sans-Serif\" font-size=\"14.00\" fill=\"#000000\">samples = 2</text>\n<text text-anchor=\"start\" x=\"2281.5\" y=\"-7.8\" font-family=\"Helvetica,sans-Serif\" font-size=\"14.00\" fill=\"#000000\">value = [0, 2]</text>\n</g>\n<!-- 39&#45;&gt;41 -->\n<g id=\"edge41\" class=\"edge\">\n<title>39&#45;&gt;41</title>\n<path fill=\"none\" stroke=\"#000000\" d=\"M2236.0577,-88.7428C2249.4172,-79.1786 2264.0539,-68.7001 2277.4447,-59.1135\"/>\n<polygon fill=\"#000000\" stroke=\"#000000\" points=\"2279.5051,-61.9429 2285.5988,-53.2759 2275.4303,-56.2511 2279.5051,-61.9429\"/>\n</g>\n<!-- 44 -->\n<g id=\"node45\" class=\"node\">\n<title>44</title>\n<path fill=\"#e5823b\" stroke=\"#000000\" d=\"M2568,-253C2568,-253 2474,-253 2474,-253 2468,-253 2462,-247 2462,-241 2462,-241 2462,-201 2462,-201 2462,-195 2468,-189 2474,-189 2474,-189 2568,-189 2568,-189 2574,-189 2580,-195 2580,-201 2580,-201 2580,-241 2580,-241 2580,-247 2574,-253 2568,-253\"/>\n<text text-anchor=\"start\" x=\"2487.5\" y=\"-238.8\" font-family=\"Helvetica,sans-Serif\" font-size=\"14.00\" fill=\"#000000\">X</text>\n<text text-anchor=\"start\" x=\"2497.5\" y=\"-238.8\" font-family=\"Helvetica,sans-Serif\" baseline-shift=\"sub\" font-size=\"14.00\" fill=\"#000000\">515</text>\n<text text-anchor=\"start\" x=\"2518.5\" y=\"-238.8\" font-family=\"Helvetica,sans-Serif\" font-size=\"14.00\" fill=\"#000000\"> ≤ 0.5</text>\n<text text-anchor=\"start\" x=\"2470\" y=\"-224.8\" font-family=\"Helvetica,sans-Serif\" font-size=\"14.00\" fill=\"#000000\">entropy = 0.073</text>\n<text text-anchor=\"start\" x=\"2473\" y=\"-210.8\" font-family=\"Helvetica,sans-Serif\" font-size=\"14.00\" fill=\"#000000\">samples = 340</text>\n<text text-anchor=\"start\" x=\"2471\" y=\"-196.8\" font-family=\"Helvetica,sans-Serif\" font-size=\"14.00\" fill=\"#000000\">value = [337, 3]</text>\n</g>\n<!-- 43&#45;&gt;44 -->\n<g id=\"edge44\" class=\"edge\">\n<title>43&#45;&gt;44</title>\n<path fill=\"none\" stroke=\"#000000\" d=\"M2521,-288.8089C2521,-280.6906 2521,-271.8517 2521,-263.3186\"/>\n<polygon fill=\"#000000\" stroke=\"#000000\" points=\"2524.5001,-263.1307 2521,-253.1308 2517.5001,-263.1308 2524.5001,-263.1307\"/>\n</g>\n<!-- 49 -->\n<g id=\"node50\" class=\"node\">\n<title>49</title>\n<path fill=\"#e9975b\" stroke=\"#000000\" d=\"M2769,-253C2769,-253 2675,-253 2675,-253 2669,-253 2663,-247 2663,-241 2663,-241 2663,-201 2663,-201 2663,-195 2669,-189 2675,-189 2675,-189 2769,-189 2769,-189 2775,-189 2781,-195 2781,-201 2781,-201 2781,-241 2781,-241 2781,-247 2775,-253 2769,-253\"/>\n<text text-anchor=\"start\" x=\"2680.5\" y=\"-238.8\" font-family=\"Helvetica,sans-Serif\" font-size=\"14.00\" fill=\"#000000\">X</text>\n<text text-anchor=\"start\" x=\"2690.5\" y=\"-238.8\" font-family=\"Helvetica,sans-Serif\" baseline-shift=\"sub\" font-size=\"14.00\" fill=\"#000000\">515</text>\n<text text-anchor=\"start\" x=\"2711.5\" y=\"-238.8\" font-family=\"Helvetica,sans-Serif\" font-size=\"14.00\" fill=\"#000000\"> ≤ 0.951</text>\n<text text-anchor=\"start\" x=\"2671\" y=\"-224.8\" font-family=\"Helvetica,sans-Serif\" font-size=\"14.00\" fill=\"#000000\">entropy = 0.602</text>\n<text text-anchor=\"start\" x=\"2678\" y=\"-210.8\" font-family=\"Helvetica,sans-Serif\" font-size=\"14.00\" fill=\"#000000\">samples = 34</text>\n<text text-anchor=\"start\" x=\"2676.5\" y=\"-196.8\" font-family=\"Helvetica,sans-Serif\" font-size=\"14.00\" fill=\"#000000\">value = [29, 5]</text>\n</g>\n<!-- 43&#45;&gt;49 -->\n<g id=\"edge49\" class=\"edge\">\n<title>43&#45;&gt;49</title>\n<path fill=\"none\" stroke=\"#000000\" d=\"M2580.2195,-291.5376C2603.3231,-280.0432 2629.9496,-266.7962 2653.8453,-254.9078\"/>\n<polygon fill=\"#000000\" stroke=\"#000000\" points=\"2655.4626,-258.0125 2662.8568,-250.4245 2652.3446,-251.7453 2655.4626,-258.0125\"/>\n</g>\n<!-- 45 -->\n<g id=\"node46\" class=\"node\">\n<title>45</title>\n<path fill=\"#e58139\" stroke=\"#000000\" d=\"M2502,-147.5C2502,-147.5 2410,-147.5 2410,-147.5 2404,-147.5 2398,-141.5 2398,-135.5 2398,-135.5 2398,-106.5 2398,-106.5 2398,-100.5 2404,-94.5 2410,-94.5 2410,-94.5 2502,-94.5 2502,-94.5 2508,-94.5 2514,-100.5 2514,-106.5 2514,-106.5 2514,-135.5 2514,-135.5 2514,-141.5 2508,-147.5 2502,-147.5\"/>\n<text text-anchor=\"start\" x=\"2413.5\" y=\"-132.3\" font-family=\"Helvetica,sans-Serif\" font-size=\"14.00\" fill=\"#000000\">entropy = 0.0</text>\n<text text-anchor=\"start\" x=\"2408\" y=\"-117.3\" font-family=\"Helvetica,sans-Serif\" font-size=\"14.00\" fill=\"#000000\">samples = 206</text>\n<text text-anchor=\"start\" x=\"2406\" y=\"-102.3\" font-family=\"Helvetica,sans-Serif\" font-size=\"14.00\" fill=\"#000000\">value = [206, 0]</text>\n</g>\n<!-- 44&#45;&gt;45 -->\n<g id=\"edge45\" class=\"edge\">\n<title>44&#45;&gt;45</title>\n<path fill=\"none\" stroke=\"#000000\" d=\"M2500.0758,-188.8089C2493.3492,-178.4603 2485.8615,-166.9408 2478.9946,-156.3764\"/>\n<polygon fill=\"#000000\" stroke=\"#000000\" points=\"2481.7873,-154.2505 2473.4028,-147.7735 2475.9182,-158.0654 2481.7873,-154.2505\"/>\n</g>\n<!-- 46 -->\n<g id=\"node47\" class=\"node\">\n<title>46</title>\n<path fill=\"#e6843e\" stroke=\"#000000\" d=\"M2638,-153C2638,-153 2544,-153 2544,-153 2538,-153 2532,-147 2532,-141 2532,-141 2532,-101 2532,-101 2532,-95 2538,-89 2544,-89 2544,-89 2638,-89 2638,-89 2644,-89 2650,-95 2650,-101 2650,-101 2650,-141 2650,-141 2650,-147 2644,-153 2638,-153\"/>\n<text text-anchor=\"start\" x=\"2549.5\" y=\"-138.8\" font-family=\"Helvetica,sans-Serif\" font-size=\"14.00\" fill=\"#000000\">X</text>\n<text text-anchor=\"start\" x=\"2559.5\" y=\"-138.8\" font-family=\"Helvetica,sans-Serif\" baseline-shift=\"sub\" font-size=\"14.00\" fill=\"#000000\">464</text>\n<text text-anchor=\"start\" x=\"2580.5\" y=\"-138.8\" font-family=\"Helvetica,sans-Serif\" font-size=\"14.00\" fill=\"#000000\"> ≤ 0.006</text>\n<text text-anchor=\"start\" x=\"2540\" y=\"-124.8\" font-family=\"Helvetica,sans-Serif\" font-size=\"14.00\" fill=\"#000000\">entropy = 0.155</text>\n<text text-anchor=\"start\" x=\"2543\" y=\"-110.8\" font-family=\"Helvetica,sans-Serif\" font-size=\"14.00\" fill=\"#000000\">samples = 134</text>\n<text text-anchor=\"start\" x=\"2541\" y=\"-96.8\" font-family=\"Helvetica,sans-Serif\" font-size=\"14.00\" fill=\"#000000\">value = [131, 3]</text>\n</g>\n<!-- 44&#45;&gt;46 -->\n<g id=\"edge46\" class=\"edge\">\n<title>44&#45;&gt;46</title>\n<path fill=\"none\" stroke=\"#000000\" d=\"M2543.5338,-188.8089C2549.6537,-180.0661 2556.3587,-170.4876 2562.7513,-161.3553\"/>\n<polygon fill=\"#000000\" stroke=\"#000000\" points=\"2565.6411,-163.3302 2568.5085,-153.1308 2559.9065,-159.316 2565.6411,-163.3302\"/>\n</g>\n<!-- 47 -->\n<g id=\"node48\" class=\"node\">\n<title>47</title>\n<path fill=\"#e68844\" stroke=\"#000000\" d=\"M2513,-53C2513,-53 2419,-53 2419,-53 2413,-53 2407,-47 2407,-41 2407,-41 2407,-12 2407,-12 2407,-6 2413,0 2419,0 2419,0 2513,0 2513,0 2519,0 2525,-6 2525,-12 2525,-12 2525,-41 2525,-41 2525,-47 2519,-53 2513,-53\"/>\n<text text-anchor=\"start\" x=\"2415\" y=\"-37.8\" font-family=\"Helvetica,sans-Serif\" font-size=\"14.00\" fill=\"#000000\">entropy = 0.297</text>\n<text text-anchor=\"start\" x=\"2422\" y=\"-22.8\" font-family=\"Helvetica,sans-Serif\" font-size=\"14.00\" fill=\"#000000\">samples = 57</text>\n<text text-anchor=\"start\" x=\"2420.5\" y=\"-7.8\" font-family=\"Helvetica,sans-Serif\" font-size=\"14.00\" fill=\"#000000\">value = [54, 3]</text>\n</g>\n<!-- 46&#45;&gt;47 -->\n<g id=\"edge47\" class=\"edge\">\n<title>46&#45;&gt;47</title>\n<path fill=\"none\" stroke=\"#000000\" d=\"M2548.3317,-88.7428C2535.8,-79.2688 2522.0816,-68.8977 2509.4987,-59.385\"/>\n<polygon fill=\"#000000\" stroke=\"#000000\" points=\"2511.5055,-56.5145 2501.4178,-53.2759 2507.2841,-62.0984 2511.5055,-56.5145\"/>\n</g>\n<!-- 48 -->\n<g id=\"node49\" class=\"node\">\n<title>48</title>\n<path fill=\"#e58139\" stroke=\"#000000\" d=\"M2638.5,-53C2638.5,-53 2555.5,-53 2555.5,-53 2549.5,-53 2543.5,-47 2543.5,-41 2543.5,-41 2543.5,-12 2543.5,-12 2543.5,-6 2549.5,0 2555.5,0 2555.5,0 2638.5,0 2638.5,0 2644.5,0 2650.5,-6 2650.5,-12 2650.5,-12 2650.5,-41 2650.5,-41 2650.5,-47 2644.5,-53 2638.5,-53\"/>\n<text text-anchor=\"start\" x=\"2554.5\" y=\"-37.8\" font-family=\"Helvetica,sans-Serif\" font-size=\"14.00\" fill=\"#000000\">entropy = 0.0</text>\n<text text-anchor=\"start\" x=\"2553\" y=\"-22.8\" font-family=\"Helvetica,sans-Serif\" font-size=\"14.00\" fill=\"#000000\">samples = 77</text>\n<text text-anchor=\"start\" x=\"2551.5\" y=\"-7.8\" font-family=\"Helvetica,sans-Serif\" font-size=\"14.00\" fill=\"#000000\">value = [77, 0]</text>\n</g>\n<!-- 46&#45;&gt;48 -->\n<g id=\"edge48\" class=\"edge\">\n<title>46&#45;&gt;48</title>\n<path fill=\"none\" stroke=\"#000000\" d=\"M2593.0481,-88.7428C2593.5637,-80.6222 2594.1211,-71.8426 2594.6502,-63.5093\"/>\n<polygon fill=\"#000000\" stroke=\"#000000\" points=\"2598.1592,-63.4776 2595.2999,-53.2759 2591.1732,-63.034 2598.1592,-63.4776\"/>\n</g>\n<!-- 50 -->\n<g id=\"node51\" class=\"node\">\n<title>50</title>\n<path fill=\"#e58139\" stroke=\"#000000\" d=\"M2763.5,-147.5C2763.5,-147.5 2680.5,-147.5 2680.5,-147.5 2674.5,-147.5 2668.5,-141.5 2668.5,-135.5 2668.5,-135.5 2668.5,-106.5 2668.5,-106.5 2668.5,-100.5 2674.5,-94.5 2680.5,-94.5 2680.5,-94.5 2763.5,-94.5 2763.5,-94.5 2769.5,-94.5 2775.5,-100.5 2775.5,-106.5 2775.5,-106.5 2775.5,-135.5 2775.5,-135.5 2775.5,-141.5 2769.5,-147.5 2763.5,-147.5\"/>\n<text text-anchor=\"start\" x=\"2679.5\" y=\"-132.3\" font-family=\"Helvetica,sans-Serif\" font-size=\"14.00\" fill=\"#000000\">entropy = 0.0</text>\n<text text-anchor=\"start\" x=\"2678\" y=\"-117.3\" font-family=\"Helvetica,sans-Serif\" font-size=\"14.00\" fill=\"#000000\">samples = 21</text>\n<text text-anchor=\"start\" x=\"2676.5\" y=\"-102.3\" font-family=\"Helvetica,sans-Serif\" font-size=\"14.00\" fill=\"#000000\">value = [21, 0]</text>\n</g>\n<!-- 49&#45;&gt;50 -->\n<g id=\"edge50\" class=\"edge\">\n<title>49&#45;&gt;50</title>\n<path fill=\"none\" stroke=\"#000000\" d=\"M2722,-188.8089C2722,-178.9777 2722,-168.0898 2722,-157.9679\"/>\n<polygon fill=\"#000000\" stroke=\"#000000\" points=\"2725.5001,-157.7735 2722,-147.7735 2718.5001,-157.7736 2725.5001,-157.7735\"/>\n</g>\n<!-- 51 -->\n<g id=\"node52\" class=\"node\">\n<title>51</title>\n<path fill=\"#f5d0b5\" stroke=\"#000000\" d=\"M2900,-153C2900,-153 2806,-153 2806,-153 2800,-153 2794,-147 2794,-141 2794,-141 2794,-101 2794,-101 2794,-95 2800,-89 2806,-89 2806,-89 2900,-89 2900,-89 2906,-89 2912,-95 2912,-101 2912,-101 2912,-141 2912,-141 2912,-147 2906,-153 2900,-153\"/>\n<text text-anchor=\"start\" x=\"2815.5\" y=\"-138.8\" font-family=\"Helvetica,sans-Serif\" font-size=\"14.00\" fill=\"#000000\">X</text>\n<text text-anchor=\"start\" x=\"2825.5\" y=\"-138.8\" font-family=\"Helvetica,sans-Serif\" baseline-shift=\"sub\" font-size=\"14.00\" fill=\"#000000\">270</text>\n<text text-anchor=\"start\" x=\"2846.5\" y=\"-138.8\" font-family=\"Helvetica,sans-Serif\" font-size=\"14.00\" fill=\"#000000\"> ≤ 0.82</text>\n<text text-anchor=\"start\" x=\"2802\" y=\"-124.8\" font-family=\"Helvetica,sans-Serif\" font-size=\"14.00\" fill=\"#000000\">entropy = 0.961</text>\n<text text-anchor=\"start\" x=\"2809\" y=\"-110.8\" font-family=\"Helvetica,sans-Serif\" font-size=\"14.00\" fill=\"#000000\">samples = 13</text>\n<text text-anchor=\"start\" x=\"2811.5\" y=\"-96.8\" font-family=\"Helvetica,sans-Serif\" font-size=\"14.00\" fill=\"#000000\">value = [8, 5]</text>\n</g>\n<!-- 49&#45;&gt;51 -->\n<g id=\"edge51\" class=\"edge\">\n<title>49&#45;&gt;51</title>\n<path fill=\"none\" stroke=\"#000000\" d=\"M2764.1703,-188.8089C2776.4415,-179.4416 2789.9693,-169.115 2802.6885,-159.4057\"/>\n<polygon fill=\"#000000\" stroke=\"#000000\" points=\"2805.0837,-161.9806 2810.9087,-153.1308 2800.8362,-156.4165 2805.0837,-161.9806\"/>\n</g>\n<!-- 52 -->\n<g id=\"node53\" class=\"node\">\n<title>52</title>\n<path fill=\"#e58139\" stroke=\"#000000\" d=\"M2763.5,-53C2763.5,-53 2686.5,-53 2686.5,-53 2680.5,-53 2674.5,-47 2674.5,-41 2674.5,-41 2674.5,-12 2674.5,-12 2674.5,-6 2680.5,0 2686.5,0 2686.5,0 2763.5,0 2763.5,0 2769.5,0 2775.5,-6 2775.5,-12 2775.5,-12 2775.5,-41 2775.5,-41 2775.5,-47 2769.5,-53 2763.5,-53\"/>\n<text text-anchor=\"start\" x=\"2682.5\" y=\"-37.8\" font-family=\"Helvetica,sans-Serif\" font-size=\"14.00\" fill=\"#000000\">entropy = 0.0</text>\n<text text-anchor=\"start\" x=\"2685.5\" y=\"-22.8\" font-family=\"Helvetica,sans-Serif\" font-size=\"14.00\" fill=\"#000000\">samples = 5</text>\n<text text-anchor=\"start\" x=\"2683.5\" y=\"-7.8\" font-family=\"Helvetica,sans-Serif\" font-size=\"14.00\" fill=\"#000000\">value = [5, 0]</text>\n</g>\n<!-- 51&#45;&gt;52 -->\n<g id=\"edge52\" class=\"edge\">\n<title>51&#45;&gt;52</title>\n<path fill=\"none\" stroke=\"#000000\" d=\"M2809.3077,-88.7428C2796.4752,-79.2688 2782.4276,-68.8977 2769.5427,-59.385\"/>\n<polygon fill=\"#000000\" stroke=\"#000000\" points=\"2771.3917,-56.3996 2761.2678,-53.2759 2767.234,-62.0312 2771.3917,-56.3996\"/>\n</g>\n<!-- 53 -->\n<g id=\"node54\" class=\"node\">\n<title>53</title>\n<path fill=\"#b0d8f5\" stroke=\"#000000\" d=\"M2900,-53C2900,-53 2806,-53 2806,-53 2800,-53 2794,-47 2794,-41 2794,-41 2794,-12 2794,-12 2794,-6 2800,0 2806,0 2806,0 2900,0 2900,0 2906,0 2912,-6 2912,-12 2912,-12 2912,-41 2912,-41 2912,-47 2906,-53 2900,-53\"/>\n<text text-anchor=\"start\" x=\"2802\" y=\"-37.8\" font-family=\"Helvetica,sans-Serif\" font-size=\"14.00\" fill=\"#000000\">entropy = 0.954</text>\n<text text-anchor=\"start\" x=\"2813.5\" y=\"-22.8\" font-family=\"Helvetica,sans-Serif\" font-size=\"14.00\" fill=\"#000000\">samples = 8</text>\n<text text-anchor=\"start\" x=\"2811.5\" y=\"-7.8\" font-family=\"Helvetica,sans-Serif\" font-size=\"14.00\" fill=\"#000000\">value = [3, 5]</text>\n</g>\n<!-- 51&#45;&gt;53 -->\n<g id=\"edge53\" class=\"edge\">\n<title>51&#45;&gt;53</title>\n<path fill=\"none\" stroke=\"#000000\" d=\"M2853,-88.7428C2853,-80.6222 2853,-71.8426 2853,-63.5093\"/>\n<polygon fill=\"#000000\" stroke=\"#000000\" points=\"2856.5001,-63.2758 2853,-53.2759 2849.5001,-63.2759 2856.5001,-63.2758\"/>\n</g>\n<!-- 55 -->\n<g id=\"node56\" class=\"node\">\n<title>55</title>\n<path fill=\"#7bbeee\" stroke=\"#000000\" d=\"M4626.5,-453C4626.5,-453 4501.5,-453 4501.5,-453 4495.5,-453 4489.5,-447 4489.5,-441 4489.5,-441 4489.5,-401 4489.5,-401 4489.5,-395 4495.5,-389 4501.5,-389 4501.5,-389 4626.5,-389 4626.5,-389 4632.5,-389 4638.5,-395 4638.5,-401 4638.5,-401 4638.5,-441 4638.5,-441 4638.5,-447 4632.5,-453 4626.5,-453\"/>\n<text text-anchor=\"start\" x=\"4522.5\" y=\"-438.8\" font-family=\"Helvetica,sans-Serif\" font-size=\"14.00\" fill=\"#000000\">X</text>\n<text text-anchor=\"start\" x=\"4532.5\" y=\"-438.8\" font-family=\"Helvetica,sans-Serif\" baseline-shift=\"sub\" font-size=\"14.00\" fill=\"#000000\">178</text>\n<text text-anchor=\"start\" x=\"4553.5\" y=\"-438.8\" font-family=\"Helvetica,sans-Serif\" font-size=\"14.00\" fill=\"#000000\"> ≤ 0.002</text>\n<text text-anchor=\"start\" x=\"4513\" y=\"-424.8\" font-family=\"Helvetica,sans-Serif\" font-size=\"14.00\" fill=\"#000000\">entropy = 0.812</text>\n<text text-anchor=\"start\" x=\"4512\" y=\"-410.8\" font-family=\"Helvetica,sans-Serif\" font-size=\"14.00\" fill=\"#000000\">samples = 8325</text>\n<text text-anchor=\"start\" x=\"4497.5\" y=\"-396.8\" font-family=\"Helvetica,sans-Serif\" font-size=\"14.00\" fill=\"#000000\">value = [2086, 6239]</text>\n</g>\n<!-- 54&#45;&gt;55 -->\n<g id=\"edge55\" class=\"edge\">\n<title>54&#45;&gt;55</title>\n<path fill=\"none\" stroke=\"#000000\" d=\"M4753.4068,-492.745C4720.6542,-480.3387 4682.0454,-465.7142 4648.2591,-452.9163\"/>\n<polygon fill=\"#000000\" stroke=\"#000000\" points=\"4649.4579,-449.6278 4638.8664,-449.3585 4646.9782,-456.1739 4649.4579,-449.6278\"/>\n</g>\n<!-- 84 -->\n<g id=\"node85\" class=\"node\">\n<title>84</title>\n<path fill=\"#e78946\" stroke=\"#000000\" d=\"M5319,-453C5319,-453 5203,-453 5203,-453 5197,-453 5191,-447 5191,-441 5191,-441 5191,-401 5191,-401 5191,-395 5197,-389 5203,-389 5203,-389 5319,-389 5319,-389 5325,-389 5331,-395 5331,-401 5331,-401 5331,-441 5331,-441 5331,-447 5325,-453 5319,-453\"/>\n<text text-anchor=\"start\" x=\"5219.5\" y=\"-438.8\" font-family=\"Helvetica,sans-Serif\" font-size=\"14.00\" fill=\"#000000\">X</text>\n<text text-anchor=\"start\" x=\"5229.5\" y=\"-438.8\" font-family=\"Helvetica,sans-Serif\" baseline-shift=\"sub\" font-size=\"14.00\" fill=\"#000000\">295</text>\n<text text-anchor=\"start\" x=\"5250.5\" y=\"-438.8\" font-family=\"Helvetica,sans-Serif\" font-size=\"14.00\" fill=\"#000000\"> ≤ 0.963</text>\n<text text-anchor=\"start\" x=\"5210\" y=\"-424.8\" font-family=\"Helvetica,sans-Serif\" font-size=\"14.00\" fill=\"#000000\">entropy = 0.334</text>\n<text text-anchor=\"start\" x=\"5209\" y=\"-410.8\" font-family=\"Helvetica,sans-Serif\" font-size=\"14.00\" fill=\"#000000\">samples = 2145</text>\n<text text-anchor=\"start\" x=\"5199\" y=\"-396.8\" font-family=\"Helvetica,sans-Serif\" font-size=\"14.00\" fill=\"#000000\">value = [2013, 132]</text>\n</g>\n<!-- 54&#45;&gt;84 -->\n<g id=\"edge84\" class=\"edge\">\n<title>54&#45;&gt;84</title>\n<path fill=\"none\" stroke=\"#000000\" d=\"M4902.9285,-503.6955C4980.5738,-485.7636 5101.4804,-457.8405 5180.9616,-439.4846\"/>\n<polygon fill=\"#000000\" stroke=\"#000000\" points=\"5181.9699,-442.844 5190.9258,-437.1834 5180.3947,-436.0235 5181.9699,-442.844\"/>\n</g>\n<!-- 56 -->\n<g id=\"node57\" class=\"node\">\n<title>56</title>\n<path fill=\"#64b2eb\" stroke=\"#000000\" d=\"M3834.5,-353C3834.5,-353 3709.5,-353 3709.5,-353 3703.5,-353 3697.5,-347 3697.5,-341 3697.5,-341 3697.5,-301 3697.5,-301 3697.5,-295 3703.5,-289 3709.5,-289 3709.5,-289 3834.5,-289 3834.5,-289 3840.5,-289 3846.5,-295 3846.5,-301 3846.5,-301 3846.5,-341 3846.5,-341 3846.5,-347 3840.5,-353 3834.5,-353\"/>\n<text text-anchor=\"start\" x=\"3730.5\" y=\"-338.8\" font-family=\"Helvetica,sans-Serif\" font-size=\"14.00\" fill=\"#000000\">X</text>\n<text text-anchor=\"start\" x=\"3740.5\" y=\"-338.8\" font-family=\"Helvetica,sans-Serif\" baseline-shift=\"sub\" font-size=\"14.00\" fill=\"#000000\">272</text>\n<text text-anchor=\"start\" x=\"3761.5\" y=\"-338.8\" font-family=\"Helvetica,sans-Serif\" font-size=\"14.00\" fill=\"#000000\"> ≤ 0.006</text>\n<text text-anchor=\"start\" x=\"3721\" y=\"-324.8\" font-family=\"Helvetica,sans-Serif\" font-size=\"14.00\" fill=\"#000000\">entropy = 0.674</text>\n<text text-anchor=\"start\" x=\"3720\" y=\"-310.8\" font-family=\"Helvetica,sans-Serif\" font-size=\"14.00\" fill=\"#000000\">samples = 7408</text>\n<text text-anchor=\"start\" x=\"3705.5\" y=\"-296.8\" font-family=\"Helvetica,sans-Serif\" font-size=\"14.00\" fill=\"#000000\">value = [1313, 6095]</text>\n</g>\n<!-- 55&#45;&gt;56 -->\n<g id=\"edge56\" class=\"edge\">\n<title>55&#45;&gt;56</title>\n<path fill=\"none\" stroke=\"#000000\" d=\"M4489.4906,-411.5922C4341.6907,-392.9306 4012.2724,-351.3374 3856.5982,-331.6816\"/>\n<polygon fill=\"#000000\" stroke=\"#000000\" points=\"3856.9589,-328.1994 3846.5992,-330.4191 3856.082,-335.1443 3856.9589,-328.1994\"/>\n</g>\n<!-- 71 -->\n<g id=\"node72\" class=\"node\">\n<title>71</title>\n<path fill=\"#ea985e\" stroke=\"#000000\" d=\"M4618,-353C4618,-353 4510,-353 4510,-353 4504,-353 4498,-347 4498,-341 4498,-341 4498,-301 4498,-301 4498,-295 4504,-289 4510,-289 4510,-289 4618,-289 4618,-289 4624,-289 4630,-295 4630,-301 4630,-301 4630,-341 4630,-341 4630,-347 4624,-353 4618,-353\"/>\n<text text-anchor=\"start\" x=\"4522.5\" y=\"-338.8\" font-family=\"Helvetica,sans-Serif\" font-size=\"14.00\" fill=\"#000000\">X</text>\n<text text-anchor=\"start\" x=\"4532.5\" y=\"-338.8\" font-family=\"Helvetica,sans-Serif\" baseline-shift=\"sub\" font-size=\"14.00\" fill=\"#000000\">185</text>\n<text text-anchor=\"start\" x=\"4553.5\" y=\"-338.8\" font-family=\"Helvetica,sans-Serif\" font-size=\"14.00\" fill=\"#000000\"> ≤ 0.002</text>\n<text text-anchor=\"start\" x=\"4513\" y=\"-324.8\" font-family=\"Helvetica,sans-Serif\" font-size=\"14.00\" fill=\"#000000\">entropy = 0.627</text>\n<text text-anchor=\"start\" x=\"4516\" y=\"-310.8\" font-family=\"Helvetica,sans-Serif\" font-size=\"14.00\" fill=\"#000000\">samples = 917</text>\n<text text-anchor=\"start\" x=\"4506\" y=\"-296.8\" font-family=\"Helvetica,sans-Serif\" font-size=\"14.00\" fill=\"#000000\">value = [773, 144]</text>\n</g>\n<!-- 55&#45;&gt;71 -->\n<g id=\"edge71\" class=\"edge\">\n<title>55&#45;&gt;71</title>\n<path fill=\"none\" stroke=\"#000000\" d=\"M4564,-388.8089C4564,-380.6906 4564,-371.8517 4564,-363.3186\"/>\n<polygon fill=\"#000000\" stroke=\"#000000\" points=\"4567.5001,-363.1307 4564,-353.1308 4560.5001,-363.1308 4567.5001,-363.1307\"/>\n</g>\n<!-- 57 -->\n<g id=\"node58\" class=\"node\">\n<title>57</title>\n<path fill=\"#50a8e8\" stroke=\"#000000\" d=\"M3426,-253C3426,-253 3310,-253 3310,-253 3304,-253 3298,-247 3298,-241 3298,-241 3298,-201 3298,-201 3298,-195 3304,-189 3310,-189 3310,-189 3426,-189 3426,-189 3432,-189 3438,-195 3438,-201 3438,-201 3438,-241 3438,-241 3438,-247 3432,-253 3426,-253\"/>\n<text text-anchor=\"start\" x=\"3326.5\" y=\"-238.8\" font-family=\"Helvetica,sans-Serif\" font-size=\"14.00\" fill=\"#000000\">X</text>\n<text text-anchor=\"start\" x=\"3336.5\" y=\"-238.8\" font-family=\"Helvetica,sans-Serif\" baseline-shift=\"sub\" font-size=\"14.00\" fill=\"#000000\">438</text>\n<text text-anchor=\"start\" x=\"3357.5\" y=\"-238.8\" font-family=\"Helvetica,sans-Serif\" font-size=\"14.00\" fill=\"#000000\"> ≤ 0.002</text>\n<text text-anchor=\"start\" x=\"3317\" y=\"-224.8\" font-family=\"Helvetica,sans-Serif\" font-size=\"14.00\" fill=\"#000000\">entropy = 0.479</text>\n<text text-anchor=\"start\" x=\"3316\" y=\"-210.8\" font-family=\"Helvetica,sans-Serif\" font-size=\"14.00\" fill=\"#000000\">samples = 6313</text>\n<text text-anchor=\"start\" x=\"3306\" y=\"-196.8\" font-family=\"Helvetica,sans-Serif\" font-size=\"14.00\" fill=\"#000000\">value = [651, 5662]</text>\n</g>\n<!-- 56&#45;&gt;57 -->\n<g id=\"edge57\" class=\"edge\">\n<title>56&#45;&gt;57</title>\n<path fill=\"none\" stroke=\"#000000\" d=\"M3697.4294,-302.5419C3626.6596,-285.0247 3520.6198,-258.7772 3448.0857,-240.8232\"/>\n<polygon fill=\"#000000\" stroke=\"#000000\" points=\"3448.6284,-237.352 3438.0803,-238.3466 3446.9464,-244.1469 3448.6284,-237.352\"/>\n</g>\n<!-- 64 -->\n<g id=\"node65\" class=\"node\">\n<title>64</title>\n<path fill=\"#f6d3bb\" stroke=\"#000000\" d=\"M3826,-253C3826,-253 3718,-253 3718,-253 3712,-253 3706,-247 3706,-241 3706,-241 3706,-201 3706,-201 3706,-195 3712,-189 3718,-189 3718,-189 3826,-189 3826,-189 3832,-189 3838,-195 3838,-201 3838,-201 3838,-241 3838,-241 3838,-247 3832,-253 3826,-253\"/>\n<text text-anchor=\"start\" x=\"3730.5\" y=\"-238.8\" font-family=\"Helvetica,sans-Serif\" font-size=\"14.00\" fill=\"#000000\">X</text>\n<text text-anchor=\"start\" x=\"3740.5\" y=\"-238.8\" font-family=\"Helvetica,sans-Serif\" baseline-shift=\"sub\" font-size=\"14.00\" fill=\"#000000\">324</text>\n<text text-anchor=\"start\" x=\"3761.5\" y=\"-238.8\" font-family=\"Helvetica,sans-Serif\" font-size=\"14.00\" fill=\"#000000\"> ≤ 0.912</text>\n<text text-anchor=\"start\" x=\"3721\" y=\"-224.8\" font-family=\"Helvetica,sans-Serif\" font-size=\"14.00\" fill=\"#000000\">entropy = 0.968</text>\n<text text-anchor=\"start\" x=\"3720\" y=\"-210.8\" font-family=\"Helvetica,sans-Serif\" font-size=\"14.00\" fill=\"#000000\">samples = 1095</text>\n<text text-anchor=\"start\" x=\"3714\" y=\"-196.8\" font-family=\"Helvetica,sans-Serif\" font-size=\"14.00\" fill=\"#000000\">value = [662, 433]</text>\n</g>\n<!-- 56&#45;&gt;64 -->\n<g id=\"edge64\" class=\"edge\">\n<title>56&#45;&gt;64</title>\n<path fill=\"none\" stroke=\"#000000\" d=\"M3772,-288.8089C3772,-280.6906 3772,-271.8517 3772,-263.3186\"/>\n<polygon fill=\"#000000\" stroke=\"#000000\" points=\"3775.5001,-263.1307 3772,-253.1308 3768.5001,-263.1308 3775.5001,-263.1307\"/>\n</g>\n<!-- 58 -->\n<g id=\"node59\" class=\"node\">\n<title>58</title>\n<path fill=\"#49a5e7\" stroke=\"#000000\" d=\"M3212,-153C3212,-153 3096,-153 3096,-153 3090,-153 3084,-147 3084,-141 3084,-141 3084,-101 3084,-101 3084,-95 3090,-89 3096,-89 3096,-89 3212,-89 3212,-89 3218,-89 3224,-95 3224,-101 3224,-101 3224,-141 3224,-141 3224,-147 3218,-153 3212,-153\"/>\n<text text-anchor=\"start\" x=\"3112.5\" y=\"-138.8\" font-family=\"Helvetica,sans-Serif\" font-size=\"14.00\" fill=\"#000000\">X</text>\n<text text-anchor=\"start\" x=\"3122.5\" y=\"-138.8\" font-family=\"Helvetica,sans-Serif\" baseline-shift=\"sub\" font-size=\"14.00\" fill=\"#000000\">549</text>\n<text text-anchor=\"start\" x=\"3143.5\" y=\"-138.8\" font-family=\"Helvetica,sans-Serif\" font-size=\"14.00\" fill=\"#000000\"> ≤ 0.004</text>\n<text text-anchor=\"start\" x=\"3103\" y=\"-124.8\" font-family=\"Helvetica,sans-Serif\" font-size=\"14.00\" fill=\"#000000\">entropy = 0.377</text>\n<text text-anchor=\"start\" x=\"3102\" y=\"-110.8\" font-family=\"Helvetica,sans-Serif\" font-size=\"14.00\" fill=\"#000000\">samples = 6093</text>\n<text text-anchor=\"start\" x=\"3092\" y=\"-96.8\" font-family=\"Helvetica,sans-Serif\" font-size=\"14.00\" fill=\"#000000\">value = [444, 5649]</text>\n</g>\n<!-- 57&#45;&gt;58 -->\n<g id=\"edge58\" class=\"edge\">\n<title>57&#45;&gt;58</title>\n<path fill=\"none\" stroke=\"#000000\" d=\"M3299.406,-188.9467C3277.9046,-178.8993 3254.0175,-167.7372 3231.9209,-157.4116\"/>\n<polygon fill=\"#000000\" stroke=\"#000000\" points=\"3233.1141,-154.106 3222.5727,-153.0433 3230.1506,-160.4477 3233.1141,-154.106\"/>\n</g>\n<!-- 61 -->\n<g id=\"node62\" class=\"node\">\n<title>61</title>\n<path fill=\"#e78945\" stroke=\"#000000\" d=\"M3418,-153C3418,-153 3318,-153 3318,-153 3312,-153 3306,-147 3306,-141 3306,-141 3306,-101 3306,-101 3306,-95 3312,-89 3318,-89 3318,-89 3418,-89 3418,-89 3424,-89 3430,-95 3430,-101 3430,-101 3430,-141 3430,-141 3430,-147 3424,-153 3418,-153\"/>\n<text text-anchor=\"start\" x=\"3326.5\" y=\"-138.8\" font-family=\"Helvetica,sans-Serif\" font-size=\"14.00\" fill=\"#000000\">X</text>\n<text text-anchor=\"start\" x=\"3336.5\" y=\"-138.8\" font-family=\"Helvetica,sans-Serif\" baseline-shift=\"sub\" font-size=\"14.00\" fill=\"#000000\">462</text>\n<text text-anchor=\"start\" x=\"3357.5\" y=\"-138.8\" font-family=\"Helvetica,sans-Serif\" font-size=\"14.00\" fill=\"#000000\"> ≤ 0.984</text>\n<text text-anchor=\"start\" x=\"3317\" y=\"-124.8\" font-family=\"Helvetica,sans-Serif\" font-size=\"14.00\" fill=\"#000000\">entropy = 0.324</text>\n<text text-anchor=\"start\" x=\"3320\" y=\"-110.8\" font-family=\"Helvetica,sans-Serif\" font-size=\"14.00\" fill=\"#000000\">samples = 220</text>\n<text text-anchor=\"start\" x=\"3314\" y=\"-96.8\" font-family=\"Helvetica,sans-Serif\" font-size=\"14.00\" fill=\"#000000\">value = [207, 13]</text>\n</g>\n<!-- 57&#45;&gt;61 -->\n<g id=\"edge61\" class=\"edge\">\n<title>57&#45;&gt;61</title>\n<path fill=\"none\" stroke=\"#000000\" d=\"M3368,-188.8089C3368,-180.6906 3368,-171.8517 3368,-163.3186\"/>\n<polygon fill=\"#000000\" stroke=\"#000000\" points=\"3371.5001,-163.1307 3368,-153.1308 3364.5001,-163.1308 3371.5001,-163.1307\"/>\n</g>\n<!-- 59 -->\n<g id=\"node60\" class=\"node\">\n<title>59</title>\n<path fill=\"#42a1e6\" stroke=\"#000000\" d=\"M3058,-53C3058,-53 2942,-53 2942,-53 2936,-53 2930,-47 2930,-41 2930,-41 2930,-12 2930,-12 2930,-6 2936,0 2942,0 2942,0 3058,0 3058,0 3064,0 3070,-6 3070,-12 3070,-12 3070,-41 3070,-41 3070,-47 3064,-53 3058,-53\"/>\n<text text-anchor=\"start\" x=\"2953\" y=\"-37.8\" font-family=\"Helvetica,sans-Serif\" font-size=\"14.00\" fill=\"#000000\">entropy = 0.25</text>\n<text text-anchor=\"start\" x=\"2948\" y=\"-22.8\" font-family=\"Helvetica,sans-Serif\" font-size=\"14.00\" fill=\"#000000\">samples = 5568</text>\n<text text-anchor=\"start\" x=\"2938\" y=\"-7.8\" font-family=\"Helvetica,sans-Serif\" font-size=\"14.00\" fill=\"#000000\">value = [232, 5336]</text>\n</g>\n<!-- 58&#45;&gt;59 -->\n<g id=\"edge59\" class=\"edge\">\n<title>58&#45;&gt;59</title>\n<path fill=\"none\" stroke=\"#000000\" d=\"M3101.4327,-88.7428C3085.5525,-78.9981 3068.1256,-68.3043 3052.2652,-58.5718\"/>\n<polygon fill=\"#000000\" stroke=\"#000000\" points=\"3053.9886,-55.5229 3043.6347,-53.2759 3050.3274,-61.4892 3053.9886,-55.5229\"/>\n</g>\n<!-- 60 -->\n<g id=\"node61\" class=\"node\">\n<title>60</title>\n<path fill=\"#bfdff7\" stroke=\"#000000\" d=\"M3208,-53C3208,-53 3100,-53 3100,-53 3094,-53 3088,-47 3088,-41 3088,-41 3088,-12 3088,-12 3088,-6 3094,0 3100,0 3100,0 3208,0 3208,0 3214,0 3220,-6 3220,-12 3220,-12 3220,-41 3220,-41 3220,-47 3214,-53 3208,-53\"/>\n<text text-anchor=\"start\" x=\"3103\" y=\"-37.8\" font-family=\"Helvetica,sans-Serif\" font-size=\"14.00\" fill=\"#000000\">entropy = 0.973</text>\n<text text-anchor=\"start\" x=\"3106\" y=\"-22.8\" font-family=\"Helvetica,sans-Serif\" font-size=\"14.00\" fill=\"#000000\">samples = 525</text>\n<text text-anchor=\"start\" x=\"3096\" y=\"-7.8\" font-family=\"Helvetica,sans-Serif\" font-size=\"14.00\" fill=\"#000000\">value = [212, 313]</text>\n</g>\n<!-- 58&#45;&gt;60 -->\n<g id=\"edge60\" class=\"edge\">\n<title>58&#45;&gt;60</title>\n<path fill=\"none\" stroke=\"#000000\" d=\"M3154,-88.7428C3154,-80.6222 3154,-71.8426 3154,-63.5093\"/>\n<polygon fill=\"#000000\" stroke=\"#000000\" points=\"3157.5001,-63.2758 3154,-53.2759 3150.5001,-63.2759 3157.5001,-63.2758\"/>\n</g>\n<!-- 62 -->\n<g id=\"node63\" class=\"node\">\n<title>62</title>\n<path fill=\"#e58139\" stroke=\"#000000\" d=\"M3342,-53C3342,-53 3250,-53 3250,-53 3244,-53 3238,-47 3238,-41 3238,-41 3238,-12 3238,-12 3238,-6 3244,0 3250,0 3250,0 3342,0 3342,0 3348,0 3354,-6 3354,-12 3354,-12 3354,-41 3354,-41 3354,-47 3348,-53 3342,-53\"/>\n<text text-anchor=\"start\" x=\"3253.5\" y=\"-37.8\" font-family=\"Helvetica,sans-Serif\" font-size=\"14.00\" fill=\"#000000\">entropy = 0.0</text>\n<text text-anchor=\"start\" x=\"3248\" y=\"-22.8\" font-family=\"Helvetica,sans-Serif\" font-size=\"14.00\" fill=\"#000000\">samples = 150</text>\n<text text-anchor=\"start\" x=\"3246\" y=\"-7.8\" font-family=\"Helvetica,sans-Serif\" font-size=\"14.00\" fill=\"#000000\">value = [150, 0]</text>\n</g>\n<!-- 61&#45;&gt;62 -->\n<g id=\"edge62\" class=\"edge\">\n<title>61&#45;&gt;62</title>\n<path fill=\"none\" stroke=\"#000000\" d=\"M3343.4231,-88.7428C3336.686,-79.9004 3329.3535,-70.2765 3322.5131,-61.2985\"/>\n<polygon fill=\"#000000\" stroke=\"#000000\" points=\"3325.2451,-59.109 3316.4007,-53.2759 3319.6771,-63.3514 3325.2451,-59.109\"/>\n</g>\n<!-- 63 -->\n<g id=\"node64\" class=\"node\">\n<title>63</title>\n<path fill=\"#eb9e66\" stroke=\"#000000\" d=\"M3478,-53C3478,-53 3384,-53 3384,-53 3378,-53 3372,-47 3372,-41 3372,-41 3372,-12 3372,-12 3372,-6 3378,0 3384,0 3384,0 3478,0 3478,0 3484,0 3490,-6 3490,-12 3490,-12 3490,-41 3490,-41 3490,-47 3484,-53 3478,-53\"/>\n<text text-anchor=\"start\" x=\"3380\" y=\"-37.8\" font-family=\"Helvetica,sans-Serif\" font-size=\"14.00\" fill=\"#000000\">entropy = 0.692</text>\n<text text-anchor=\"start\" x=\"3387\" y=\"-22.8\" font-family=\"Helvetica,sans-Serif\" font-size=\"14.00\" fill=\"#000000\">samples = 70</text>\n<text text-anchor=\"start\" x=\"3381\" y=\"-7.8\" font-family=\"Helvetica,sans-Serif\" font-size=\"14.00\" fill=\"#000000\">value = [57, 13]</text>\n</g>\n<!-- 61&#45;&gt;63 -->\n<g id=\"edge63\" class=\"edge\">\n<title>61&#45;&gt;63</title>\n<path fill=\"none\" stroke=\"#000000\" d=\"M3389.5048,-88.7428C3395.2794,-80.0809 3401.554,-70.669 3407.434,-61.849\"/>\n<polygon fill=\"#000000\" stroke=\"#000000\" points=\"3410.5146,-63.5379 3413.1494,-53.2759 3404.6902,-59.6549 3410.5146,-63.5379\"/>\n</g>\n<!-- 65 -->\n<g id=\"node66\" class=\"node\">\n<title>65</title>\n<path fill=\"#e78945\" stroke=\"#000000\" d=\"M3749,-153C3749,-153 3649,-153 3649,-153 3643,-153 3637,-147 3637,-141 3637,-141 3637,-101 3637,-101 3637,-95 3643,-89 3649,-89 3649,-89 3749,-89 3749,-89 3755,-89 3761,-95 3761,-101 3761,-101 3761,-141 3761,-141 3761,-147 3755,-153 3749,-153\"/>\n<text text-anchor=\"start\" x=\"3657.5\" y=\"-138.8\" font-family=\"Helvetica,sans-Serif\" font-size=\"14.00\" fill=\"#000000\">X</text>\n<text text-anchor=\"start\" x=\"3667.5\" y=\"-138.8\" font-family=\"Helvetica,sans-Serif\" baseline-shift=\"sub\" font-size=\"14.00\" fill=\"#000000\">212</text>\n<text text-anchor=\"start\" x=\"3688.5\" y=\"-138.8\" font-family=\"Helvetica,sans-Serif\" font-size=\"14.00\" fill=\"#000000\"> ≤ 0.004</text>\n<text text-anchor=\"start\" x=\"3648\" y=\"-124.8\" font-family=\"Helvetica,sans-Serif\" font-size=\"14.00\" fill=\"#000000\">entropy = 0.313</text>\n<text text-anchor=\"start\" x=\"3651\" y=\"-110.8\" font-family=\"Helvetica,sans-Serif\" font-size=\"14.00\" fill=\"#000000\">samples = 497</text>\n<text text-anchor=\"start\" x=\"3645\" y=\"-96.8\" font-family=\"Helvetica,sans-Serif\" font-size=\"14.00\" fill=\"#000000\">value = [469, 28]</text>\n</g>\n<!-- 64&#45;&gt;65 -->\n<g id=\"edge65\" class=\"edge\">\n<title>64&#45;&gt;65</title>\n<path fill=\"none\" stroke=\"#000000\" d=\"M3748.5005,-188.8089C3742.1182,-180.0661 3735.126,-170.4876 3728.4594,-161.3553\"/>\n<polygon fill=\"#000000\" stroke=\"#000000\" points=\"3731.1785,-159.144 3722.4555,-153.1308 3725.5247,-163.2713 3731.1785,-159.144\"/>\n</g>\n<!-- 68 -->\n<g id=\"node69\" class=\"node\">\n<title>68</title>\n<path fill=\"#97ccf1\" stroke=\"#000000\" d=\"M3899,-153C3899,-153 3791,-153 3791,-153 3785,-153 3779,-147 3779,-141 3779,-141 3779,-101 3779,-101 3779,-95 3785,-89 3791,-89 3791,-89 3899,-89 3899,-89 3905,-89 3911,-95 3911,-101 3911,-101 3911,-141 3911,-141 3911,-147 3905,-153 3899,-153\"/>\n<text text-anchor=\"start\" x=\"3803.5\" y=\"-138.8\" font-family=\"Helvetica,sans-Serif\" font-size=\"14.00\" fill=\"#000000\">X</text>\n<text text-anchor=\"start\" x=\"3813.5\" y=\"-138.8\" font-family=\"Helvetica,sans-Serif\" baseline-shift=\"sub\" font-size=\"14.00\" fill=\"#000000\">547</text>\n<text text-anchor=\"start\" x=\"3834.5\" y=\"-138.8\" font-family=\"Helvetica,sans-Serif\" font-size=\"14.00\" fill=\"#000000\"> ≤ 0.006</text>\n<text text-anchor=\"start\" x=\"3794\" y=\"-124.8\" font-family=\"Helvetica,sans-Serif\" font-size=\"14.00\" fill=\"#000000\">entropy = 0.907</text>\n<text text-anchor=\"start\" x=\"3797\" y=\"-110.8\" font-family=\"Helvetica,sans-Serif\" font-size=\"14.00\" fill=\"#000000\">samples = 598</text>\n<text text-anchor=\"start\" x=\"3787\" y=\"-96.8\" font-family=\"Helvetica,sans-Serif\" font-size=\"14.00\" fill=\"#000000\">value = [193, 405]</text>\n</g>\n<!-- 64&#45;&gt;68 -->\n<g id=\"edge68\" class=\"edge\">\n<title>64&#45;&gt;68</title>\n<path fill=\"none\" stroke=\"#000000\" d=\"M3795.4995,-188.8089C3801.8818,-180.0661 3808.874,-170.4876 3815.5406,-161.3553\"/>\n<polygon fill=\"#000000\" stroke=\"#000000\" points=\"3818.4753,-163.2713 3821.5445,-153.1308 3812.8215,-159.144 3818.4753,-163.2713\"/>\n</g>\n<!-- 66 -->\n<g id=\"node67\" class=\"node\">\n<title>66</title>\n<path fill=\"#eda774\" stroke=\"#000000\" d=\"M3614,-53C3614,-53 3520,-53 3520,-53 3514,-53 3508,-47 3508,-41 3508,-41 3508,-12 3508,-12 3508,-6 3514,0 3520,0 3520,0 3614,0 3614,0 3620,0 3626,-6 3626,-12 3626,-12 3626,-41 3626,-41 3626,-47 3620,-53 3614,-53\"/>\n<text text-anchor=\"start\" x=\"3516\" y=\"-37.8\" font-family=\"Helvetica,sans-Serif\" font-size=\"14.00\" fill=\"#000000\">entropy = 0.778</text>\n<text text-anchor=\"start\" x=\"3519\" y=\"-22.8\" font-family=\"Helvetica,sans-Serif\" font-size=\"14.00\" fill=\"#000000\">samples = 113</text>\n<text text-anchor=\"start\" x=\"3517\" y=\"-7.8\" font-family=\"Helvetica,sans-Serif\" font-size=\"14.00\" fill=\"#000000\">value = [87, 26]</text>\n</g>\n<!-- 65&#45;&gt;66 -->\n<g id=\"edge66\" class=\"edge\">\n<title>65&#45;&gt;66</title>\n<path fill=\"none\" stroke=\"#000000\" d=\"M3653.9423,-88.7428C3640.5828,-79.1786 3625.9461,-68.7001 3612.5553,-59.1135\"/>\n<polygon fill=\"#000000\" stroke=\"#000000\" points=\"3614.5697,-56.2511 3604.4012,-53.2759 3610.4949,-61.9429 3614.5697,-56.2511\"/>\n</g>\n<!-- 67 -->\n<g id=\"node68\" class=\"node\">\n<title>67</title>\n<path fill=\"#e5823a\" stroke=\"#000000\" d=\"M3750,-53C3750,-53 3656,-53 3656,-53 3650,-53 3644,-47 3644,-41 3644,-41 3644,-12 3644,-12 3644,-6 3650,0 3656,0 3656,0 3750,0 3750,0 3756,0 3762,-6 3762,-12 3762,-12 3762,-41 3762,-41 3762,-47 3756,-53 3750,-53\"/>\n<text text-anchor=\"start\" x=\"3652\" y=\"-37.8\" font-family=\"Helvetica,sans-Serif\" font-size=\"14.00\" fill=\"#000000\">entropy = 0.047</text>\n<text text-anchor=\"start\" x=\"3655\" y=\"-22.8\" font-family=\"Helvetica,sans-Serif\" font-size=\"14.00\" fill=\"#000000\">samples = 384</text>\n<text text-anchor=\"start\" x=\"3653\" y=\"-7.8\" font-family=\"Helvetica,sans-Serif\" font-size=\"14.00\" fill=\"#000000\">value = [382, 2]</text>\n</g>\n<!-- 65&#45;&gt;67 -->\n<g id=\"edge67\" class=\"edge\">\n<title>65&#45;&gt;67</title>\n<path fill=\"none\" stroke=\"#000000\" d=\"M3700.3654,-88.7428C3700.7091,-80.6222 3701.0807,-71.8426 3701.4335,-63.5093\"/>\n<polygon fill=\"#000000\" stroke=\"#000000\" points=\"3704.9405,-63.415 3701.8666,-53.2759 3697.9468,-63.1189 3704.9405,-63.415\"/>\n</g>\n<!-- 69 -->\n<g id=\"node70\" class=\"node\">\n<title>69</title>\n<path fill=\"#49a5e7\" stroke=\"#000000\" d=\"M3892,-53C3892,-53 3792,-53 3792,-53 3786,-53 3780,-47 3780,-41 3780,-41 3780,-12 3780,-12 3780,-6 3786,0 3792,0 3792,0 3892,0 3892,0 3898,0 3904,-6 3904,-12 3904,-12 3904,-41 3904,-41 3904,-47 3898,-53 3892,-53\"/>\n<text text-anchor=\"start\" x=\"3791\" y=\"-37.8\" font-family=\"Helvetica,sans-Serif\" font-size=\"14.00\" fill=\"#000000\">entropy = 0.385</text>\n<text text-anchor=\"start\" x=\"3794\" y=\"-22.8\" font-family=\"Helvetica,sans-Serif\" font-size=\"14.00\" fill=\"#000000\">samples = 412</text>\n<text text-anchor=\"start\" x=\"3788\" y=\"-7.8\" font-family=\"Helvetica,sans-Serif\" font-size=\"14.00\" fill=\"#000000\">value = [31, 381]</text>\n</g>\n<!-- 68&#45;&gt;69 -->\n<g id=\"edge69\" class=\"edge\">\n<title>68&#45;&gt;69</title>\n<path fill=\"none\" stroke=\"#000000\" d=\"M3843.976,-88.7428C3843.7182,-80.6222 3843.4394,-71.8426 3843.1749,-63.5093\"/>\n<polygon fill=\"#000000\" stroke=\"#000000\" points=\"3846.6657,-63.1597 3842.85,-53.2759 3839.6692,-63.3819 3846.6657,-63.1597\"/>\n</g>\n<!-- 70 -->\n<g id=\"node71\" class=\"node\">\n<title>70</title>\n<path fill=\"#e99456\" stroke=\"#000000\" d=\"M4034,-53C4034,-53 3934,-53 3934,-53 3928,-53 3922,-47 3922,-41 3922,-41 3922,-12 3922,-12 3922,-6 3928,0 3934,0 3934,0 4034,0 4034,0 4040,0 4046,-6 4046,-12 4046,-12 4046,-41 4046,-41 4046,-47 4040,-53 4034,-53\"/>\n<text text-anchor=\"start\" x=\"3933\" y=\"-37.8\" font-family=\"Helvetica,sans-Serif\" font-size=\"14.00\" fill=\"#000000\">entropy = 0.555</text>\n<text text-anchor=\"start\" x=\"3936\" y=\"-22.8\" font-family=\"Helvetica,sans-Serif\" font-size=\"14.00\" fill=\"#000000\">samples = 186</text>\n<text text-anchor=\"start\" x=\"3930\" y=\"-7.8\" font-family=\"Helvetica,sans-Serif\" font-size=\"14.00\" fill=\"#000000\">value = [162, 24]</text>\n</g>\n<!-- 68&#45;&gt;70 -->\n<g id=\"edge70\" class=\"edge\">\n<title>68&#45;&gt;70</title>\n<path fill=\"none\" stroke=\"#000000\" d=\"M3892.4471,-88.7428C3906.5151,-79.1786 3921.9279,-68.7001 3936.0289,-59.1135\"/>\n<polygon fill=\"#000000\" stroke=\"#000000\" points=\"3938.3134,-61.7926 3944.6154,-53.2759 3934.3777,-56.0038 3938.3134,-61.7926\"/>\n</g>\n<!-- 72 -->\n<g id=\"node73\" class=\"node\">\n<title>72</title>\n<path fill=\"#f6d4bb\" stroke=\"#000000\" d=\"M4516,-253C4516,-253 4408,-253 4408,-253 4402,-253 4396,-247 4396,-241 4396,-241 4396,-201 4396,-201 4396,-195 4402,-189 4408,-189 4408,-189 4516,-189 4516,-189 4522,-189 4528,-195 4528,-201 4528,-201 4528,-241 4528,-241 4528,-247 4522,-253 4516,-253\"/>\n<text text-anchor=\"start\" x=\"4420.5\" y=\"-238.8\" font-family=\"Helvetica,sans-Serif\" font-size=\"14.00\" fill=\"#000000\">X</text>\n<text text-anchor=\"start\" x=\"4430.5\" y=\"-238.8\" font-family=\"Helvetica,sans-Serif\" baseline-shift=\"sub\" font-size=\"14.00\" fill=\"#000000\">293</text>\n<text text-anchor=\"start\" x=\"4451.5\" y=\"-238.8\" font-family=\"Helvetica,sans-Serif\" font-size=\"14.00\" fill=\"#000000\"> ≤ 0.947</text>\n<text text-anchor=\"start\" x=\"4411\" y=\"-224.8\" font-family=\"Helvetica,sans-Serif\" font-size=\"14.00\" fill=\"#000000\">entropy = 0.969</text>\n<text text-anchor=\"start\" x=\"4414\" y=\"-210.8\" font-family=\"Helvetica,sans-Serif\" font-size=\"14.00\" fill=\"#000000\">samples = 351</text>\n<text text-anchor=\"start\" x=\"4404\" y=\"-196.8\" font-family=\"Helvetica,sans-Serif\" font-size=\"14.00\" fill=\"#000000\">value = [212, 139]</text>\n</g>\n<!-- 71&#45;&gt;72 -->\n<g id=\"edge72\" class=\"edge\">\n<title>71&#45;&gt;72</title>\n<path fill=\"none\" stroke=\"#000000\" d=\"M4531.1651,-288.8089C4521.8834,-279.7092 4511.6784,-269.7043 4502.0242,-260.2394\"/>\n<polygon fill=\"#000000\" stroke=\"#000000\" points=\"4504.3644,-257.6322 4494.7734,-253.1308 4499.4639,-262.6308 4504.3644,-257.6322\"/>\n</g>\n<!-- 79 -->\n<g id=\"node80\" class=\"node\">\n<title>79</title>\n<path fill=\"#e5823b\" stroke=\"#000000\" d=\"M4713,-253C4713,-253 4619,-253 4619,-253 4613,-253 4607,-247 4607,-241 4607,-241 4607,-201 4607,-201 4607,-195 4613,-189 4619,-189 4619,-189 4713,-189 4713,-189 4719,-189 4725,-195 4725,-201 4725,-201 4725,-241 4725,-241 4725,-247 4719,-253 4713,-253\"/>\n<text text-anchor=\"start\" x=\"4624.5\" y=\"-238.8\" font-family=\"Helvetica,sans-Serif\" font-size=\"14.00\" fill=\"#000000\">X</text>\n<text text-anchor=\"start\" x=\"4634.5\" y=\"-238.8\" font-family=\"Helvetica,sans-Serif\" baseline-shift=\"sub\" font-size=\"14.00\" fill=\"#000000\">298</text>\n<text text-anchor=\"start\" x=\"4655.5\" y=\"-238.8\" font-family=\"Helvetica,sans-Serif\" font-size=\"14.00\" fill=\"#000000\"> ≤ 0.033</text>\n<text text-anchor=\"start\" x=\"4615\" y=\"-224.8\" font-family=\"Helvetica,sans-Serif\" font-size=\"14.00\" fill=\"#000000\">entropy = 0.073</text>\n<text text-anchor=\"start\" x=\"4618\" y=\"-210.8\" font-family=\"Helvetica,sans-Serif\" font-size=\"14.00\" fill=\"#000000\">samples = 566</text>\n<text text-anchor=\"start\" x=\"4616\" y=\"-196.8\" font-family=\"Helvetica,sans-Serif\" font-size=\"14.00\" fill=\"#000000\">value = [561, 5]</text>\n</g>\n<!-- 71&#45;&gt;79 -->\n<g id=\"edge79\" class=\"edge\">\n<title>71&#45;&gt;79</title>\n<path fill=\"none\" stroke=\"#000000\" d=\"M4596.8349,-288.8089C4606.1166,-279.7092 4616.3216,-269.7043 4625.9758,-260.2394\"/>\n<polygon fill=\"#000000\" stroke=\"#000000\" points=\"4628.5361,-262.6308 4633.2266,-253.1308 4623.6356,-257.6322 4628.5361,-262.6308\"/>\n</g>\n<!-- 73 -->\n<g id=\"node74\" class=\"node\">\n<title>73</title>\n<path fill=\"#e88f4f\" stroke=\"#000000\" d=\"M4309,-153C4309,-153 4209,-153 4209,-153 4203,-153 4197,-147 4197,-141 4197,-141 4197,-101 4197,-101 4197,-95 4203,-89 4209,-89 4209,-89 4309,-89 4309,-89 4315,-89 4321,-95 4321,-101 4321,-101 4321,-141 4321,-141 4321,-147 4315,-153 4309,-153\"/>\n<text text-anchor=\"start\" x=\"4217.5\" y=\"-138.8\" font-family=\"Helvetica,sans-Serif\" font-size=\"14.00\" fill=\"#000000\">X</text>\n<text text-anchor=\"start\" x=\"4227.5\" y=\"-138.8\" font-family=\"Helvetica,sans-Serif\" baseline-shift=\"sub\" font-size=\"14.00\" fill=\"#000000\">518</text>\n<text text-anchor=\"start\" x=\"4248.5\" y=\"-138.8\" font-family=\"Helvetica,sans-Serif\" font-size=\"14.00\" fill=\"#000000\"> ≤ 0.876</text>\n<text text-anchor=\"start\" x=\"4208\" y=\"-124.8\" font-family=\"Helvetica,sans-Serif\" font-size=\"14.00\" fill=\"#000000\">entropy = 0.473</text>\n<text text-anchor=\"start\" x=\"4211\" y=\"-110.8\" font-family=\"Helvetica,sans-Serif\" font-size=\"14.00\" fill=\"#000000\">samples = 217</text>\n<text text-anchor=\"start\" x=\"4205\" y=\"-96.8\" font-family=\"Helvetica,sans-Serif\" font-size=\"14.00\" fill=\"#000000\">value = [195, 22]</text>\n</g>\n<!-- 72&#45;&gt;73 -->\n<g id=\"edge73\" class=\"edge\">\n<title>72&#45;&gt;73</title>\n<path fill=\"none\" stroke=\"#000000\" d=\"M4396.9319,-188.9467C4375.7239,-178.4994 4352.0691,-166.8469 4330.4211,-156.1828\"/>\n<polygon fill=\"#000000\" stroke=\"#000000\" points=\"4331.7966,-152.9588 4321.2792,-151.6794 4328.7032,-159.2382 4331.7966,-152.9588\"/>\n</g>\n<!-- 76 -->\n<g id=\"node77\" class=\"node\">\n<title>76</title>\n<path fill=\"#56abe9\" stroke=\"#000000\" d=\"M4512,-153C4512,-153 4412,-153 4412,-153 4406,-153 4400,-147 4400,-141 4400,-141 4400,-101 4400,-101 4400,-95 4406,-89 4412,-89 4412,-89 4512,-89 4512,-89 4518,-89 4524,-95 4524,-101 4524,-101 4524,-141 4524,-141 4524,-147 4518,-153 4512,-153\"/>\n<text text-anchor=\"start\" x=\"4420.5\" y=\"-138.8\" font-family=\"Helvetica,sans-Serif\" font-size=\"14.00\" fill=\"#000000\">X</text>\n<text text-anchor=\"start\" x=\"4430.5\" y=\"-138.8\" font-family=\"Helvetica,sans-Serif\" baseline-shift=\"sub\" font-size=\"14.00\" fill=\"#000000\">177</text>\n<text text-anchor=\"start\" x=\"4451.5\" y=\"-138.8\" font-family=\"Helvetica,sans-Serif\" font-size=\"14.00\" fill=\"#000000\"> ≤ 0.322</text>\n<text text-anchor=\"start\" x=\"4411\" y=\"-124.8\" font-family=\"Helvetica,sans-Serif\" font-size=\"14.00\" fill=\"#000000\">entropy = 0.549</text>\n<text text-anchor=\"start\" x=\"4414\" y=\"-110.8\" font-family=\"Helvetica,sans-Serif\" font-size=\"14.00\" fill=\"#000000\">samples = 134</text>\n<text text-anchor=\"start\" x=\"4408\" y=\"-96.8\" font-family=\"Helvetica,sans-Serif\" font-size=\"14.00\" fill=\"#000000\">value = [17, 117]</text>\n</g>\n<!-- 72&#45;&gt;76 -->\n<g id=\"edge76\" class=\"edge\">\n<title>72&#45;&gt;76</title>\n<path fill=\"none\" stroke=\"#000000\" d=\"M4462,-188.8089C4462,-180.6906 4462,-171.8517 4462,-163.3186\"/>\n<polygon fill=\"#000000\" stroke=\"#000000\" points=\"4465.5001,-163.1307 4462,-153.1308 4458.5001,-163.1308 4465.5001,-163.1307\"/>\n</g>\n<!-- 74 -->\n<g id=\"node75\" class=\"node\">\n<title>74</title>\n<path fill=\"#e6833d\" stroke=\"#000000\" d=\"M4170,-53C4170,-53 4076,-53 4076,-53 4070,-53 4064,-47 4064,-41 4064,-41 4064,-12 4064,-12 4064,-6 4070,0 4076,0 4076,0 4170,0 4170,0 4176,0 4182,-6 4182,-12 4182,-12 4182,-41 4182,-41 4182,-47 4176,-53 4170,-53\"/>\n<text text-anchor=\"start\" x=\"4072\" y=\"-37.8\" font-family=\"Helvetica,sans-Serif\" font-size=\"14.00\" fill=\"#000000\">entropy = 0.136</text>\n<text text-anchor=\"start\" x=\"4075\" y=\"-22.8\" font-family=\"Helvetica,sans-Serif\" font-size=\"14.00\" fill=\"#000000\">samples = 158</text>\n<text text-anchor=\"start\" x=\"4073\" y=\"-7.8\" font-family=\"Helvetica,sans-Serif\" font-size=\"14.00\" fill=\"#000000\">value = [155, 3]</text>\n</g>\n<!-- 73&#45;&gt;74 -->\n<g id=\"edge74\" class=\"edge\">\n<title>73&#45;&gt;74</title>\n<path fill=\"none\" stroke=\"#000000\" d=\"M4212.5769,-88.7428C4198.8125,-79.1786 4183.7324,-68.7001 4169.9358,-59.1135\"/>\n<polygon fill=\"#000000\" stroke=\"#000000\" points=\"4171.7439,-56.1079 4161.5346,-53.2759 4167.7495,-61.8564 4171.7439,-56.1079\"/>\n</g>\n<!-- 75 -->\n<g id=\"node76\" class=\"node\">\n<title>75</title>\n<path fill=\"#f1bd97\" stroke=\"#000000\" d=\"M4306,-53C4306,-53 4212,-53 4212,-53 4206,-53 4200,-47 4200,-41 4200,-41 4200,-12 4200,-12 4200,-6 4206,0 4212,0 4212,0 4306,0 4306,0 4312,0 4318,-6 4318,-12 4318,-12 4318,-41 4318,-41 4318,-47 4312,-53 4306,-53\"/>\n<text text-anchor=\"start\" x=\"4208\" y=\"-37.8\" font-family=\"Helvetica,sans-Serif\" font-size=\"14.00\" fill=\"#000000\">entropy = 0.907</text>\n<text text-anchor=\"start\" x=\"4215\" y=\"-22.8\" font-family=\"Helvetica,sans-Serif\" font-size=\"14.00\" fill=\"#000000\">samples = 59</text>\n<text text-anchor=\"start\" x=\"4209\" y=\"-7.8\" font-family=\"Helvetica,sans-Serif\" font-size=\"14.00\" fill=\"#000000\">value = [40, 19]</text>\n</g>\n<!-- 73&#45;&gt;75 -->\n<g id=\"edge75\" class=\"edge\">\n<title>73&#45;&gt;75</title>\n<path fill=\"none\" stroke=\"#000000\" d=\"M4259,-88.7428C4259,-80.6222 4259,-71.8426 4259,-63.5093\"/>\n<polygon fill=\"#000000\" stroke=\"#000000\" points=\"4262.5001,-63.2758 4259,-53.2759 4255.5001,-63.2759 4262.5001,-63.2758\"/>\n</g>\n<!-- 77 -->\n<g id=\"node78\" class=\"node\">\n<title>77</title>\n<path fill=\"#3d9fe5\" stroke=\"#000000\" d=\"M4442,-53C4442,-53 4348,-53 4348,-53 4342,-53 4336,-47 4336,-41 4336,-41 4336,-12 4336,-12 4336,-6 4342,0 4348,0 4348,0 4442,0 4442,0 4448,0 4454,-6 4454,-12 4454,-12 4454,-41 4454,-41 4454,-47 4448,-53 4442,-53\"/>\n<text text-anchor=\"start\" x=\"4344\" y=\"-37.8\" font-family=\"Helvetica,sans-Serif\" font-size=\"14.00\" fill=\"#000000\">entropy = 0.128</text>\n<text text-anchor=\"start\" x=\"4347\" y=\"-22.8\" font-family=\"Helvetica,sans-Serif\" font-size=\"14.00\" fill=\"#000000\">samples = 113</text>\n<text text-anchor=\"start\" x=\"4345\" y=\"-7.8\" font-family=\"Helvetica,sans-Serif\" font-size=\"14.00\" fill=\"#000000\">value = [2, 111]</text>\n</g>\n<!-- 76&#45;&gt;77 -->\n<g id=\"edge77\" class=\"edge\">\n<title>76&#45;&gt;77</title>\n<path fill=\"none\" stroke=\"#000000\" d=\"M4439.1298,-88.7428C4432.9246,-79.9906 4426.1765,-70.4728 4419.8669,-61.5735\"/>\n<polygon fill=\"#000000\" stroke=\"#000000\" points=\"4422.623,-59.4093 4413.9839,-53.2759 4416.9126,-63.4579 4422.623,-59.4093\"/>\n</g>\n<!-- 78 -->\n<g id=\"node79\" class=\"node\">\n<title>78</title>\n<path fill=\"#efb388\" stroke=\"#000000\" d=\"M4578,-53C4578,-53 4484,-53 4484,-53 4478,-53 4472,-47 4472,-41 4472,-41 4472,-12 4472,-12 4472,-6 4478,0 4484,0 4484,0 4578,0 4578,0 4584,0 4590,-6 4590,-12 4590,-12 4590,-41 4590,-41 4590,-47 4584,-53 4578,-53\"/>\n<text text-anchor=\"start\" x=\"4480\" y=\"-37.8\" font-family=\"Helvetica,sans-Serif\" font-size=\"14.00\" fill=\"#000000\">entropy = 0.863</text>\n<text text-anchor=\"start\" x=\"4487\" y=\"-22.8\" font-family=\"Helvetica,sans-Serif\" font-size=\"14.00\" fill=\"#000000\">samples = 21</text>\n<text text-anchor=\"start\" x=\"4485.5\" y=\"-7.8\" font-family=\"Helvetica,sans-Serif\" font-size=\"14.00\" fill=\"#000000\">value = [15, 6]</text>\n</g>\n<!-- 76&#45;&gt;78 -->\n<g id=\"edge78\" class=\"edge\">\n<title>76&#45;&gt;78</title>\n<path fill=\"none\" stroke=\"#000000\" d=\"M4485.5529,-88.7428C4491.9434,-79.9906 4498.8928,-70.4728 4505.3908,-61.5735\"/>\n<polygon fill=\"#000000\" stroke=\"#000000\" points=\"4508.3791,-63.4161 4511.4494,-53.2759 4502.7257,-59.2882 4508.3791,-63.4161\"/>\n</g>\n<!-- 80 -->\n<g id=\"node81\" class=\"node\">\n<title>80</title>\n<path fill=\"#e68540\" stroke=\"#000000\" d=\"M4713,-153C4713,-153 4619,-153 4619,-153 4613,-153 4607,-147 4607,-141 4607,-141 4607,-101 4607,-101 4607,-95 4613,-89 4619,-89 4619,-89 4713,-89 4713,-89 4719,-89 4725,-95 4725,-101 4725,-101 4725,-141 4725,-141 4725,-147 4719,-153 4713,-153\"/>\n<text text-anchor=\"start\" x=\"4624.5\" y=\"-138.8\" font-family=\"Helvetica,sans-Serif\" font-size=\"14.00\" fill=\"#000000\">X</text>\n<text text-anchor=\"start\" x=\"4634.5\" y=\"-138.8\" font-family=\"Helvetica,sans-Serif\" baseline-shift=\"sub\" font-size=\"14.00\" fill=\"#000000\">518</text>\n<text text-anchor=\"start\" x=\"4655.5\" y=\"-138.8\" font-family=\"Helvetica,sans-Serif\" font-size=\"14.00\" fill=\"#000000\"> ≤ 0.445</text>\n<text text-anchor=\"start\" x=\"4615\" y=\"-124.8\" font-family=\"Helvetica,sans-Serif\" font-size=\"14.00\" fill=\"#000000\">entropy = 0.209</text>\n<text text-anchor=\"start\" x=\"4618\" y=\"-110.8\" font-family=\"Helvetica,sans-Serif\" font-size=\"14.00\" fill=\"#000000\">samples = 152</text>\n<text text-anchor=\"start\" x=\"4616\" y=\"-96.8\" font-family=\"Helvetica,sans-Serif\" font-size=\"14.00\" fill=\"#000000\">value = [147, 5]</text>\n</g>\n<!-- 79&#45;&gt;80 -->\n<g id=\"edge80\" class=\"edge\">\n<title>79&#45;&gt;80</title>\n<path fill=\"none\" stroke=\"#000000\" d=\"M4666,-188.8089C4666,-180.6906 4666,-171.8517 4666,-163.3186\"/>\n<polygon fill=\"#000000\" stroke=\"#000000\" points=\"4669.5001,-163.1307 4666,-153.1308 4662.5001,-163.1308 4669.5001,-163.1307\"/>\n</g>\n<!-- 83 -->\n<g id=\"node84\" class=\"node\">\n<title>83</title>\n<path fill=\"#e58139\" stroke=\"#000000\" d=\"M4847,-147.5C4847,-147.5 4755,-147.5 4755,-147.5 4749,-147.5 4743,-141.5 4743,-135.5 4743,-135.5 4743,-106.5 4743,-106.5 4743,-100.5 4749,-94.5 4755,-94.5 4755,-94.5 4847,-94.5 4847,-94.5 4853,-94.5 4859,-100.5 4859,-106.5 4859,-106.5 4859,-135.5 4859,-135.5 4859,-141.5 4853,-147.5 4847,-147.5\"/>\n<text text-anchor=\"start\" x=\"4758.5\" y=\"-132.3\" font-family=\"Helvetica,sans-Serif\" font-size=\"14.00\" fill=\"#000000\">entropy = 0.0</text>\n<text text-anchor=\"start\" x=\"4753\" y=\"-117.3\" font-family=\"Helvetica,sans-Serif\" font-size=\"14.00\" fill=\"#000000\">samples = 414</text>\n<text text-anchor=\"start\" x=\"4751\" y=\"-102.3\" font-family=\"Helvetica,sans-Serif\" font-size=\"14.00\" fill=\"#000000\">value = [414, 0]</text>\n</g>\n<!-- 79&#45;&gt;83 -->\n<g id=\"edge83\" class=\"edge\">\n<title>79&#45;&gt;83</title>\n<path fill=\"none\" stroke=\"#000000\" d=\"M4709.4579,-188.8089C4724.5463,-177.6324 4741.4782,-165.0902 4756.6386,-153.8603\"/>\n<polygon fill=\"#000000\" stroke=\"#000000\" points=\"4758.9035,-156.5383 4764.8557,-147.7735 4754.7368,-150.9134 4758.9035,-156.5383\"/>\n</g>\n<!-- 81 -->\n<g id=\"node82\" class=\"node\">\n<title>81</title>\n<path fill=\"#e58139\" stroke=\"#000000\" d=\"M4712,-53C4712,-53 4620,-53 4620,-53 4614,-53 4608,-47 4608,-41 4608,-41 4608,-12 4608,-12 4608,-6 4614,0 4620,0 4620,0 4712,0 4712,0 4718,0 4724,-6 4724,-12 4724,-12 4724,-41 4724,-41 4724,-47 4718,-53 4712,-53\"/>\n<text text-anchor=\"start\" x=\"4623.5\" y=\"-37.8\" font-family=\"Helvetica,sans-Serif\" font-size=\"14.00\" fill=\"#000000\">entropy = 0.0</text>\n<text text-anchor=\"start\" x=\"4618\" y=\"-22.8\" font-family=\"Helvetica,sans-Serif\" font-size=\"14.00\" fill=\"#000000\">samples = 106</text>\n<text text-anchor=\"start\" x=\"4616\" y=\"-7.8\" font-family=\"Helvetica,sans-Serif\" font-size=\"14.00\" fill=\"#000000\">value = [106, 0]</text>\n</g>\n<!-- 80&#45;&gt;81 -->\n<g id=\"edge81\" class=\"edge\">\n<title>80&#45;&gt;81</title>\n<path fill=\"none\" stroke=\"#000000\" d=\"M4666,-88.7428C4666,-80.6222 4666,-71.8426 4666,-63.5093\"/>\n<polygon fill=\"#000000\" stroke=\"#000000\" points=\"4669.5001,-63.2758 4666,-53.2759 4662.5001,-63.2759 4669.5001,-63.2758\"/>\n</g>\n<!-- 82 -->\n<g id=\"node83\" class=\"node\">\n<title>82</title>\n<path fill=\"#e89051\" stroke=\"#000000\" d=\"M4848,-53C4848,-53 4754,-53 4754,-53 4748,-53 4742,-47 4742,-41 4742,-41 4742,-12 4742,-12 4742,-6 4748,0 4754,0 4754,0 4848,0 4848,0 4854,0 4860,-6 4860,-12 4860,-12 4860,-41 4860,-41 4860,-47 4854,-53 4848,-53\"/>\n<text text-anchor=\"start\" x=\"4750\" y=\"-37.8\" font-family=\"Helvetica,sans-Serif\" font-size=\"14.00\" fill=\"#000000\">entropy = 0.496</text>\n<text text-anchor=\"start\" x=\"4757\" y=\"-22.8\" font-family=\"Helvetica,sans-Serif\" font-size=\"14.00\" fill=\"#000000\">samples = 46</text>\n<text text-anchor=\"start\" x=\"4755.5\" y=\"-7.8\" font-family=\"Helvetica,sans-Serif\" font-size=\"14.00\" fill=\"#000000\">value = [41, 5]</text>\n</g>\n<!-- 80&#45;&gt;82 -->\n<g id=\"edge82\" class=\"edge\">\n<title>80&#45;&gt;82</title>\n<path fill=\"none\" stroke=\"#000000\" d=\"M4712.0818,-88.7428C4725.7449,-79.1786 4740.7142,-68.7001 4754.4093,-59.1135\"/>\n<polygon fill=\"#000000\" stroke=\"#000000\" points=\"4756.5636,-61.8778 4762.7488,-53.2759 4752.5493,-56.1432 4756.5636,-61.8778\"/>\n</g>\n<!-- 85 -->\n<g id=\"node86\" class=\"node\">\n<title>85</title>\n<path fill=\"#e5833c\" stroke=\"#000000\" d=\"M5315,-353C5315,-353 5207,-353 5207,-353 5201,-353 5195,-347 5195,-341 5195,-341 5195,-301 5195,-301 5195,-295 5201,-289 5207,-289 5207,-289 5315,-289 5315,-289 5321,-289 5327,-295 5327,-301 5327,-301 5327,-341 5327,-341 5327,-347 5321,-353 5315,-353\"/>\n<text text-anchor=\"start\" x=\"5219.5\" y=\"-338.8\" font-family=\"Helvetica,sans-Serif\" font-size=\"14.00\" fill=\"#000000\">X</text>\n<text text-anchor=\"start\" x=\"5229.5\" y=\"-338.8\" font-family=\"Helvetica,sans-Serif\" baseline-shift=\"sub\" font-size=\"14.00\" fill=\"#000000\">489</text>\n<text text-anchor=\"start\" x=\"5250.5\" y=\"-338.8\" font-family=\"Helvetica,sans-Serif\" font-size=\"14.00\" fill=\"#000000\"> ≤ 0.029</text>\n<text text-anchor=\"start\" x=\"5210\" y=\"-324.8\" font-family=\"Helvetica,sans-Serif\" font-size=\"14.00\" fill=\"#000000\">entropy = 0.122</text>\n<text text-anchor=\"start\" x=\"5209\" y=\"-310.8\" font-family=\"Helvetica,sans-Serif\" font-size=\"14.00\" fill=\"#000000\">samples = 1622</text>\n<text text-anchor=\"start\" x=\"5203\" y=\"-296.8\" font-family=\"Helvetica,sans-Serif\" font-size=\"14.00\" fill=\"#000000\">value = [1595, 27]</text>\n</g>\n<!-- 84&#45;&gt;85 -->\n<g id=\"edge85\" class=\"edge\">\n<title>84&#45;&gt;85</title>\n<path fill=\"none\" stroke=\"#000000\" d=\"M5261,-388.8089C5261,-380.6906 5261,-371.8517 5261,-363.3186\"/>\n<polygon fill=\"#000000\" stroke=\"#000000\" points=\"5264.5001,-363.1307 5261,-353.1308 5257.5001,-363.1308 5264.5001,-363.1307\"/>\n</g>\n<!-- 98 -->\n<g id=\"node99\" class=\"node\">\n<title>98</title>\n<path fill=\"#eca16b\" stroke=\"#000000\" d=\"M5992,-353C5992,-353 5884,-353 5884,-353 5878,-353 5872,-347 5872,-341 5872,-341 5872,-301 5872,-301 5872,-295 5878,-289 5884,-289 5884,-289 5992,-289 5992,-289 5998,-289 6004,-295 6004,-301 6004,-301 6004,-341 6004,-341 6004,-347 5998,-353 5992,-353\"/>\n<text text-anchor=\"start\" x=\"5896.5\" y=\"-338.8\" font-family=\"Helvetica,sans-Serif\" font-size=\"14.00\" fill=\"#000000\">X</text>\n<text text-anchor=\"start\" x=\"5906.5\" y=\"-338.8\" font-family=\"Helvetica,sans-Serif\" baseline-shift=\"sub\" font-size=\"14.00\" fill=\"#000000\">466</text>\n<text text-anchor=\"start\" x=\"5927.5\" y=\"-338.8\" font-family=\"Helvetica,sans-Serif\" font-size=\"14.00\" fill=\"#000000\"> ≤ 0.004</text>\n<text text-anchor=\"start\" x=\"5887\" y=\"-324.8\" font-family=\"Helvetica,sans-Serif\" font-size=\"14.00\" fill=\"#000000\">entropy = 0.723</text>\n<text text-anchor=\"start\" x=\"5890\" y=\"-310.8\" font-family=\"Helvetica,sans-Serif\" font-size=\"14.00\" fill=\"#000000\">samples = 523</text>\n<text text-anchor=\"start\" x=\"5880\" y=\"-296.8\" font-family=\"Helvetica,sans-Serif\" font-size=\"14.00\" fill=\"#000000\">value = [418, 105]</text>\n</g>\n<!-- 84&#45;&gt;98 -->\n<g id=\"edge98\" class=\"edge\">\n<title>84&#45;&gt;98</title>\n<path fill=\"none\" stroke=\"#000000\" d=\"M5331.2177,-410.6281C5459.1271,-391.7346 5729.0882,-351.8585 5861.4974,-332.3002\"/>\n<polygon fill=\"#000000\" stroke=\"#000000\" points=\"5862.1798,-335.7375 5871.561,-330.8137 5861.1569,-328.8126 5862.1798,-335.7375\"/>\n</g>\n<!-- 86 -->\n<g id=\"node87\" class=\"node\">\n<title>86</title>\n<path fill=\"#e5813a\" stroke=\"#000000\" d=\"M5240,-253C5240,-253 5140,-253 5140,-253 5134,-253 5128,-247 5128,-241 5128,-241 5128,-201 5128,-201 5128,-195 5134,-189 5140,-189 5140,-189 5240,-189 5240,-189 5246,-189 5252,-195 5252,-201 5252,-201 5252,-241 5252,-241 5252,-247 5246,-253 5240,-253\"/>\n<text text-anchor=\"start\" x=\"5148.5\" y=\"-238.8\" font-family=\"Helvetica,sans-Serif\" font-size=\"14.00\" fill=\"#000000\">X</text>\n<text text-anchor=\"start\" x=\"5158.5\" y=\"-238.8\" font-family=\"Helvetica,sans-Serif\" baseline-shift=\"sub\" font-size=\"14.00\" fill=\"#000000\">438</text>\n<text text-anchor=\"start\" x=\"5179.5\" y=\"-238.8\" font-family=\"Helvetica,sans-Serif\" font-size=\"14.00\" fill=\"#000000\"> ≤ 0.002</text>\n<text text-anchor=\"start\" x=\"5139\" y=\"-224.8\" font-family=\"Helvetica,sans-Serif\" font-size=\"14.00\" fill=\"#000000\">entropy = 0.036</text>\n<text text-anchor=\"start\" x=\"5138\" y=\"-210.8\" font-family=\"Helvetica,sans-Serif\" font-size=\"14.00\" fill=\"#000000\">samples = 1067</text>\n<text text-anchor=\"start\" x=\"5136\" y=\"-196.8\" font-family=\"Helvetica,sans-Serif\" font-size=\"14.00\" fill=\"#000000\">value = [1063, 4]</text>\n</g>\n<!-- 85&#45;&gt;86 -->\n<g id=\"edge86\" class=\"edge\">\n<title>85&#45;&gt;86</title>\n<path fill=\"none\" stroke=\"#000000\" d=\"M5238.1443,-288.8089C5231.9369,-280.0661 5225.1362,-270.4876 5218.6523,-261.3553\"/>\n<polygon fill=\"#000000\" stroke=\"#000000\" points=\"5221.4559,-259.2584 5212.8128,-253.1308 5215.7483,-263.3108 5221.4559,-259.2584\"/>\n</g>\n<!-- 91 -->\n<g id=\"node92\" class=\"node\">\n<title>91</title>\n<path fill=\"#e68642\" stroke=\"#000000\" d=\"M5382,-253C5382,-253 5282,-253 5282,-253 5276,-253 5270,-247 5270,-241 5270,-241 5270,-201 5270,-201 5270,-195 5276,-189 5282,-189 5282,-189 5382,-189 5382,-189 5388,-189 5394,-195 5394,-201 5394,-201 5394,-241 5394,-241 5394,-247 5388,-253 5382,-253\"/>\n<text text-anchor=\"start\" x=\"5290.5\" y=\"-238.8\" font-family=\"Helvetica,sans-Serif\" font-size=\"14.00\" fill=\"#000000\">X</text>\n<text text-anchor=\"start\" x=\"5300.5\" y=\"-238.8\" font-family=\"Helvetica,sans-Serif\" baseline-shift=\"sub\" font-size=\"14.00\" fill=\"#000000\">211</text>\n<text text-anchor=\"start\" x=\"5321.5\" y=\"-238.8\" font-family=\"Helvetica,sans-Serif\" font-size=\"14.00\" fill=\"#000000\"> ≤ 0.006</text>\n<text text-anchor=\"start\" x=\"5281\" y=\"-224.8\" font-family=\"Helvetica,sans-Serif\" font-size=\"14.00\" fill=\"#000000\">entropy = 0.249</text>\n<text text-anchor=\"start\" x=\"5284\" y=\"-210.8\" font-family=\"Helvetica,sans-Serif\" font-size=\"14.00\" fill=\"#000000\">samples = 555</text>\n<text text-anchor=\"start\" x=\"5278\" y=\"-196.8\" font-family=\"Helvetica,sans-Serif\" font-size=\"14.00\" fill=\"#000000\">value = [532, 23]</text>\n</g>\n<!-- 85&#45;&gt;91 -->\n<g id=\"edge91\" class=\"edge\">\n<title>85&#45;&gt;91</title>\n<path fill=\"none\" stroke=\"#000000\" d=\"M5283.8557,-288.8089C5290.0631,-280.0661 5296.8638,-270.4876 5303.3477,-261.3553\"/>\n<polygon fill=\"#000000\" stroke=\"#000000\" points=\"5306.2517,-263.3108 5309.1872,-253.1308 5300.5441,-259.2584 5306.2517,-263.3108\"/>\n</g>\n<!-- 87 -->\n<g id=\"node88\" class=\"node\">\n<title>87</title>\n<path fill=\"#e5823b\" stroke=\"#000000\" d=\"M5103,-153C5103,-153 5009,-153 5009,-153 5003,-153 4997,-147 4997,-141 4997,-141 4997,-101 4997,-101 4997,-95 5003,-89 5009,-89 5009,-89 5103,-89 5103,-89 5109,-89 5115,-95 5115,-101 5115,-101 5115,-141 5115,-141 5115,-147 5109,-153 5103,-153\"/>\n<text text-anchor=\"start\" x=\"5014.5\" y=\"-138.8\" font-family=\"Helvetica,sans-Serif\" font-size=\"14.00\" fill=\"#000000\">X</text>\n<text text-anchor=\"start\" x=\"5024.5\" y=\"-138.8\" font-family=\"Helvetica,sans-Serif\" baseline-shift=\"sub\" font-size=\"14.00\" fill=\"#000000\">184</text>\n<text text-anchor=\"start\" x=\"5045.5\" y=\"-138.8\" font-family=\"Helvetica,sans-Serif\" font-size=\"14.00\" fill=\"#000000\"> ≤ 0.302</text>\n<text text-anchor=\"start\" x=\"5005\" y=\"-124.8\" font-family=\"Helvetica,sans-Serif\" font-size=\"14.00\" fill=\"#000000\">entropy = 0.076</text>\n<text text-anchor=\"start\" x=\"5008\" y=\"-110.8\" font-family=\"Helvetica,sans-Serif\" font-size=\"14.00\" fill=\"#000000\">samples = 431</text>\n<text text-anchor=\"start\" x=\"5006\" y=\"-96.8\" font-family=\"Helvetica,sans-Serif\" font-size=\"14.00\" fill=\"#000000\">value = [427, 4]</text>\n</g>\n<!-- 86&#45;&gt;87 -->\n<g id=\"edge87\" class=\"edge\">\n<title>86&#45;&gt;87</title>\n<path fill=\"none\" stroke=\"#000000\" d=\"M5146.864,-188.8089C5134.1922,-179.3524 5120.2104,-168.9182 5107.0922,-159.1285\"/>\n<polygon fill=\"#000000\" stroke=\"#000000\" points=\"5109.1629,-156.3066 5099.0552,-153.1308 5104.9763,-161.9167 5109.1629,-156.3066\"/>\n</g>\n<!-- 90 -->\n<g id=\"node91\" class=\"node\">\n<title>90</title>\n<path fill=\"#e58139\" stroke=\"#000000\" d=\"M5237,-147.5C5237,-147.5 5145,-147.5 5145,-147.5 5139,-147.5 5133,-141.5 5133,-135.5 5133,-135.5 5133,-106.5 5133,-106.5 5133,-100.5 5139,-94.5 5145,-94.5 5145,-94.5 5237,-94.5 5237,-94.5 5243,-94.5 5249,-100.5 5249,-106.5 5249,-106.5 5249,-135.5 5249,-135.5 5249,-141.5 5243,-147.5 5237,-147.5\"/>\n<text text-anchor=\"start\" x=\"5148.5\" y=\"-132.3\" font-family=\"Helvetica,sans-Serif\" font-size=\"14.00\" fill=\"#000000\">entropy = 0.0</text>\n<text text-anchor=\"start\" x=\"5143\" y=\"-117.3\" font-family=\"Helvetica,sans-Serif\" font-size=\"14.00\" fill=\"#000000\">samples = 636</text>\n<text text-anchor=\"start\" x=\"5141\" y=\"-102.3\" font-family=\"Helvetica,sans-Serif\" font-size=\"14.00\" fill=\"#000000\">value = [636, 0]</text>\n</g>\n<!-- 86&#45;&gt;90 -->\n<g id=\"edge90\" class=\"edge\">\n<title>86&#45;&gt;90</title>\n<path fill=\"none\" stroke=\"#000000\" d=\"M5190.3219,-188.8089C5190.4202,-178.9777 5190.5291,-168.0898 5190.6303,-157.9679\"/>\n<polygon fill=\"#000000\" stroke=\"#000000\" points=\"5194.132,-157.8081 5190.7323,-147.7735 5187.1323,-157.738 5194.132,-157.8081\"/>\n</g>\n<!-- 88 -->\n<g id=\"node89\" class=\"node\">\n<title>88</title>\n<path fill=\"#e6843e\" stroke=\"#000000\" d=\"M4984,-53C4984,-53 4890,-53 4890,-53 4884,-53 4878,-47 4878,-41 4878,-41 4878,-12 4878,-12 4878,-6 4884,0 4890,0 4890,0 4984,0 4984,0 4990,0 4996,-6 4996,-12 4996,-12 4996,-41 4996,-41 4996,-47 4990,-53 4984,-53\"/>\n<text text-anchor=\"start\" x=\"4886\" y=\"-37.8\" font-family=\"Helvetica,sans-Serif\" font-size=\"14.00\" fill=\"#000000\">entropy = 0.172</text>\n<text text-anchor=\"start\" x=\"4889\" y=\"-22.8\" font-family=\"Helvetica,sans-Serif\" font-size=\"14.00\" fill=\"#000000\">samples = 156</text>\n<text text-anchor=\"start\" x=\"4887\" y=\"-7.8\" font-family=\"Helvetica,sans-Serif\" font-size=\"14.00\" fill=\"#000000\">value = [152, 4]</text>\n</g>\n<!-- 87&#45;&gt;88 -->\n<g id=\"edge88\" class=\"edge\">\n<title>87&#45;&gt;88</title>\n<path fill=\"none\" stroke=\"#000000\" d=\"M5015.3798,-88.7428C5003.5632,-79.359 4990.6383,-69.0952 4978.7533,-59.657\"/>\n<polygon fill=\"#000000\" stroke=\"#000000\" points=\"4980.7255,-56.7538 4970.7178,-53.2759 4976.3723,-62.2356 4980.7255,-56.7538\"/>\n</g>\n<!-- 89 -->\n<g id=\"node90\" class=\"node\">\n<title>89</title>\n<path fill=\"#e58139\" stroke=\"#000000\" d=\"M5118,-53C5118,-53 5026,-53 5026,-53 5020,-53 5014,-47 5014,-41 5014,-41 5014,-12 5014,-12 5014,-6 5020,0 5026,0 5026,0 5118,0 5118,0 5124,0 5130,-6 5130,-12 5130,-12 5130,-41 5130,-41 5130,-47 5124,-53 5118,-53\"/>\n<text text-anchor=\"start\" x=\"5029.5\" y=\"-37.8\" font-family=\"Helvetica,sans-Serif\" font-size=\"14.00\" fill=\"#000000\">entropy = 0.0</text>\n<text text-anchor=\"start\" x=\"5024\" y=\"-22.8\" font-family=\"Helvetica,sans-Serif\" font-size=\"14.00\" fill=\"#000000\">samples = 275</text>\n<text text-anchor=\"start\" x=\"5022\" y=\"-7.8\" font-family=\"Helvetica,sans-Serif\" font-size=\"14.00\" fill=\"#000000\">value = [275, 0]</text>\n</g>\n<!-- 87&#45;&gt;89 -->\n<g id=\"edge89\" class=\"edge\">\n<title>87&#45;&gt;89</title>\n<path fill=\"none\" stroke=\"#000000\" d=\"M5061.4615,-88.7428C5062.8517,-80.532 5064.356,-71.6474 5065.7809,-63.2317\"/>\n<polygon fill=\"#000000\" stroke=\"#000000\" points=\"5069.248,-63.7199 5067.4665,-53.2759 5062.3462,-62.5512 5069.248,-63.7199\"/>\n</g>\n<!-- 92 -->\n<g id=\"node93\" class=\"node\">\n<title>92</title>\n<path fill=\"#e99457\" stroke=\"#000000\" d=\"M5381,-153C5381,-153 5281,-153 5281,-153 5275,-153 5269,-147 5269,-141 5269,-141 5269,-101 5269,-101 5269,-95 5275,-89 5281,-89 5281,-89 5381,-89 5381,-89 5387,-89 5393,-95 5393,-101 5393,-101 5393,-141 5393,-141 5393,-147 5387,-153 5381,-153\"/>\n<text text-anchor=\"start\" x=\"5289.5\" y=\"-138.8\" font-family=\"Helvetica,sans-Serif\" font-size=\"14.00\" fill=\"#000000\">X</text>\n<text text-anchor=\"start\" x=\"5299.5\" y=\"-138.8\" font-family=\"Helvetica,sans-Serif\" baseline-shift=\"sub\" font-size=\"14.00\" fill=\"#000000\">188</text>\n<text text-anchor=\"start\" x=\"5320.5\" y=\"-138.8\" font-family=\"Helvetica,sans-Serif\" font-size=\"14.00\" fill=\"#000000\"> ≤ 0.214</text>\n<text text-anchor=\"start\" x=\"5280\" y=\"-124.8\" font-family=\"Helvetica,sans-Serif\" font-size=\"14.00\" fill=\"#000000\">entropy = 0.559</text>\n<text text-anchor=\"start\" x=\"5283\" y=\"-110.8\" font-family=\"Helvetica,sans-Serif\" font-size=\"14.00\" fill=\"#000000\">samples = 153</text>\n<text text-anchor=\"start\" x=\"5277\" y=\"-96.8\" font-family=\"Helvetica,sans-Serif\" font-size=\"14.00\" fill=\"#000000\">value = [133, 20]</text>\n</g>\n<!-- 91&#45;&gt;92 -->\n<g id=\"edge92\" class=\"edge\">\n<title>91&#45;&gt;92</title>\n<path fill=\"none\" stroke=\"#000000\" d=\"M5331.6781,-188.8089C5331.5969,-180.6906 5331.5085,-171.8517 5331.4232,-163.3186\"/>\n<polygon fill=\"#000000\" stroke=\"#000000\" points=\"5334.9212,-163.0952 5331.3213,-153.1308 5327.9216,-163.1653 5334.9212,-163.0952\"/>\n</g>\n<!-- 95 -->\n<g id=\"node96\" class=\"node\">\n<title>95</title>\n<path fill=\"#e5823a\" stroke=\"#000000\" d=\"M5517,-153C5517,-153 5423,-153 5423,-153 5417,-153 5411,-147 5411,-141 5411,-141 5411,-101 5411,-101 5411,-95 5417,-89 5423,-89 5423,-89 5517,-89 5517,-89 5523,-89 5529,-95 5529,-101 5529,-101 5529,-141 5529,-141 5529,-147 5523,-153 5517,-153\"/>\n<text text-anchor=\"start\" x=\"5428.5\" y=\"-138.8\" font-family=\"Helvetica,sans-Serif\" font-size=\"14.00\" fill=\"#000000\">X</text>\n<text text-anchor=\"start\" x=\"5438.5\" y=\"-138.8\" font-family=\"Helvetica,sans-Serif\" baseline-shift=\"sub\" font-size=\"14.00\" fill=\"#000000\">322</text>\n<text text-anchor=\"start\" x=\"5459.5\" y=\"-138.8\" font-family=\"Helvetica,sans-Serif\" font-size=\"14.00\" fill=\"#000000\"> ≤ 0.986</text>\n<text text-anchor=\"start\" x=\"5419\" y=\"-124.8\" font-family=\"Helvetica,sans-Serif\" font-size=\"14.00\" fill=\"#000000\">entropy = 0.063</text>\n<text text-anchor=\"start\" x=\"5422\" y=\"-110.8\" font-family=\"Helvetica,sans-Serif\" font-size=\"14.00\" fill=\"#000000\">samples = 402</text>\n<text text-anchor=\"start\" x=\"5420\" y=\"-96.8\" font-family=\"Helvetica,sans-Serif\" font-size=\"14.00\" fill=\"#000000\">value = [399, 3]</text>\n</g>\n<!-- 91&#45;&gt;95 -->\n<g id=\"edge95\" class=\"edge\">\n<title>91&#45;&gt;95</title>\n<path fill=\"none\" stroke=\"#000000\" d=\"M5376.4237,-188.8089C5389.4737,-179.3524 5403.8729,-168.9182 5417.3827,-159.1285\"/>\n<polygon fill=\"#000000\" stroke=\"#000000\" points=\"5419.6158,-161.8327 5425.6596,-153.1308 5415.5083,-156.1644 5419.6158,-161.8327\"/>\n</g>\n<!-- 93 -->\n<g id=\"node94\" class=\"node\">\n<title>93</title>\n<path fill=\"#e58139\" stroke=\"#000000\" d=\"M5243.5,-53C5243.5,-53 5160.5,-53 5160.5,-53 5154.5,-53 5148.5,-47 5148.5,-41 5148.5,-41 5148.5,-12 5148.5,-12 5148.5,-6 5154.5,0 5160.5,0 5160.5,0 5243.5,0 5243.5,0 5249.5,0 5255.5,-6 5255.5,-12 5255.5,-12 5255.5,-41 5255.5,-41 5255.5,-47 5249.5,-53 5243.5,-53\"/>\n<text text-anchor=\"start\" x=\"5159.5\" y=\"-37.8\" font-family=\"Helvetica,sans-Serif\" font-size=\"14.00\" fill=\"#000000\">entropy = 0.0</text>\n<text text-anchor=\"start\" x=\"5158\" y=\"-22.8\" font-family=\"Helvetica,sans-Serif\" font-size=\"14.00\" fill=\"#000000\">samples = 96</text>\n<text text-anchor=\"start\" x=\"5156.5\" y=\"-7.8\" font-family=\"Helvetica,sans-Serif\" font-size=\"14.00\" fill=\"#000000\">value = [96, 0]</text>\n</g>\n<!-- 92&#45;&gt;93 -->\n<g id=\"edge93\" class=\"edge\">\n<title>92&#45;&gt;93</title>\n<path fill=\"none\" stroke=\"#000000\" d=\"M5286.9663,-88.7428C5274.0336,-79.2688 5259.8762,-68.8977 5246.8907,-59.385\"/>\n<polygon fill=\"#000000\" stroke=\"#000000\" points=\"5248.6866,-56.362 5238.5512,-53.2759 5244.5499,-62.0089 5248.6866,-56.362\"/>\n</g>\n<!-- 94 -->\n<g id=\"node95\" class=\"node\">\n<title>94</title>\n<path fill=\"#f3c5a4\" stroke=\"#000000\" d=\"M5380,-53C5380,-53 5286,-53 5286,-53 5280,-53 5274,-47 5274,-41 5274,-41 5274,-12 5274,-12 5274,-6 5280,0 5286,0 5286,0 5380,0 5380,0 5386,0 5392,-6 5392,-12 5392,-12 5392,-41 5392,-41 5392,-47 5386,-53 5380,-53\"/>\n<text text-anchor=\"start\" x=\"5282\" y=\"-37.8\" font-family=\"Helvetica,sans-Serif\" font-size=\"14.00\" fill=\"#000000\">entropy = 0.935</text>\n<text text-anchor=\"start\" x=\"5289\" y=\"-22.8\" font-family=\"Helvetica,sans-Serif\" font-size=\"14.00\" fill=\"#000000\">samples = 57</text>\n<text text-anchor=\"start\" x=\"5283\" y=\"-7.8\" font-family=\"Helvetica,sans-Serif\" font-size=\"14.00\" fill=\"#000000\">value = [37, 20]</text>\n</g>\n<!-- 92&#45;&gt;94 -->\n<g id=\"edge94\" class=\"edge\">\n<title>92&#45;&gt;94</title>\n<path fill=\"none\" stroke=\"#000000\" d=\"M5331.6827,-88.7428C5331.8546,-80.6222 5332.0404,-71.8426 5332.2167,-63.5093\"/>\n<polygon fill=\"#000000\" stroke=\"#000000\" points=\"5335.7208,-63.3477 5332.4333,-53.2759 5328.7224,-63.1995 5335.7208,-63.3477\"/>\n</g>\n<!-- 96 -->\n<g id=\"node97\" class=\"node\">\n<title>96</title>\n<path fill=\"#e58139\" stroke=\"#000000\" d=\"M5514,-53C5514,-53 5422,-53 5422,-53 5416,-53 5410,-47 5410,-41 5410,-41 5410,-12 5410,-12 5410,-6 5416,0 5422,0 5422,0 5514,0 5514,0 5520,0 5526,-6 5526,-12 5526,-12 5526,-41 5526,-41 5526,-47 5520,-53 5514,-53\"/>\n<text text-anchor=\"start\" x=\"5425.5\" y=\"-37.8\" font-family=\"Helvetica,sans-Serif\" font-size=\"14.00\" fill=\"#000000\">entropy = 0.0</text>\n<text text-anchor=\"start\" x=\"5420\" y=\"-22.8\" font-family=\"Helvetica,sans-Serif\" font-size=\"14.00\" fill=\"#000000\">samples = 339</text>\n<text text-anchor=\"start\" x=\"5418\" y=\"-7.8\" font-family=\"Helvetica,sans-Serif\" font-size=\"14.00\" fill=\"#000000\">value = [339, 0]</text>\n</g>\n<!-- 95&#45;&gt;96 -->\n<g id=\"edge96\" class=\"edge\">\n<title>95&#45;&gt;96</title>\n<path fill=\"none\" stroke=\"#000000\" d=\"M5469.3173,-88.7428C5469.1454,-80.6222 5468.9596,-71.8426 5468.7833,-63.5093\"/>\n<polygon fill=\"#000000\" stroke=\"#000000\" points=\"5472.2776,-63.1995 5468.5667,-53.2759 5465.2792,-63.3477 5472.2776,-63.1995\"/>\n</g>\n<!-- 97 -->\n<g id=\"node98\" class=\"node\">\n<title>97</title>\n<path fill=\"#e68743\" stroke=\"#000000\" d=\"M5650,-53C5650,-53 5556,-53 5556,-53 5550,-53 5544,-47 5544,-41 5544,-41 5544,-12 5544,-12 5544,-6 5550,0 5556,0 5556,0 5650,0 5650,0 5656,0 5662,-6 5662,-12 5662,-12 5662,-41 5662,-41 5662,-47 5656,-53 5650,-53\"/>\n<text text-anchor=\"start\" x=\"5552\" y=\"-37.8\" font-family=\"Helvetica,sans-Serif\" font-size=\"14.00\" fill=\"#000000\">entropy = 0.276</text>\n<text text-anchor=\"start\" x=\"5559\" y=\"-22.8\" font-family=\"Helvetica,sans-Serif\" font-size=\"14.00\" fill=\"#000000\">samples = 63</text>\n<text text-anchor=\"start\" x=\"5557.5\" y=\"-7.8\" font-family=\"Helvetica,sans-Serif\" font-size=\"14.00\" fill=\"#000000\">value = [60, 3]</text>\n</g>\n<!-- 95&#45;&gt;97 -->\n<g id=\"edge97\" class=\"edge\">\n<title>95&#45;&gt;97</title>\n<path fill=\"none\" stroke=\"#000000\" d=\"M5515.3991,-88.7428C5528.8598,-79.1786 5543.6073,-68.7001 5557.0996,-59.1135\"/>\n<polygon fill=\"#000000\" stroke=\"#000000\" points=\"5559.1909,-61.9211 5565.3154,-53.2759 5555.1364,-56.2148 5559.1909,-61.9211\"/>\n</g>\n<!-- 99 -->\n<g id=\"node100\" class=\"node\">\n<title>99</title>\n<path fill=\"#f0b78e\" stroke=\"#000000\" d=\"M5992,-253C5992,-253 5884,-253 5884,-253 5878,-253 5872,-247 5872,-241 5872,-241 5872,-201 5872,-201 5872,-195 5878,-189 5884,-189 5884,-189 5992,-189 5992,-189 5998,-189 6004,-195 6004,-201 6004,-201 6004,-241 6004,-241 6004,-247 5998,-253 5992,-253\"/>\n<text text-anchor=\"start\" x=\"5896.5\" y=\"-238.8\" font-family=\"Helvetica,sans-Serif\" font-size=\"14.00\" fill=\"#000000\">X</text>\n<text text-anchor=\"start\" x=\"5906.5\" y=\"-238.8\" font-family=\"Helvetica,sans-Serif\" baseline-shift=\"sub\" font-size=\"14.00\" fill=\"#000000\">461</text>\n<text text-anchor=\"start\" x=\"5927.5\" y=\"-238.8\" font-family=\"Helvetica,sans-Serif\" font-size=\"14.00\" fill=\"#000000\"> ≤ 0.973</text>\n<text text-anchor=\"start\" x=\"5887\" y=\"-224.8\" font-family=\"Helvetica,sans-Serif\" font-size=\"14.00\" fill=\"#000000\">entropy = 0.883</text>\n<text text-anchor=\"start\" x=\"5890\" y=\"-210.8\" font-family=\"Helvetica,sans-Serif\" font-size=\"14.00\" fill=\"#000000\">samples = 345</text>\n<text text-anchor=\"start\" x=\"5880\" y=\"-196.8\" font-family=\"Helvetica,sans-Serif\" font-size=\"14.00\" fill=\"#000000\">value = [241, 104]</text>\n</g>\n<!-- 98&#45;&gt;99 -->\n<g id=\"edge99\" class=\"edge\">\n<title>98&#45;&gt;99</title>\n<path fill=\"none\" stroke=\"#000000\" d=\"M5938,-288.8089C5938,-280.6906 5938,-271.8517 5938,-263.3186\"/>\n<polygon fill=\"#000000\" stroke=\"#000000\" points=\"5941.5001,-263.1307 5938,-253.1308 5934.5001,-263.1308 5941.5001,-263.1307\"/>\n</g>\n<!-- 106 -->\n<g id=\"node107\" class=\"node\">\n<title>106</title>\n<path fill=\"#e5823a\" stroke=\"#000000\" d=\"M6191,-253C6191,-253 6099,-253 6099,-253 6093,-253 6087,-247 6087,-241 6087,-241 6087,-201 6087,-201 6087,-195 6093,-189 6099,-189 6099,-189 6191,-189 6191,-189 6197,-189 6203,-195 6203,-201 6203,-201 6203,-241 6203,-241 6203,-247 6197,-253 6191,-253\"/>\n<text text-anchor=\"start\" x=\"6103.5\" y=\"-238.8\" font-family=\"Helvetica,sans-Serif\" font-size=\"14.00\" fill=\"#000000\">X</text>\n<text text-anchor=\"start\" x=\"6113.5\" y=\"-238.8\" font-family=\"Helvetica,sans-Serif\" baseline-shift=\"sub\" font-size=\"14.00\" fill=\"#000000\">128</text>\n<text text-anchor=\"start\" x=\"6134.5\" y=\"-238.8\" font-family=\"Helvetica,sans-Serif\" font-size=\"14.00\" fill=\"#000000\"> ≤ 0.976</text>\n<text text-anchor=\"start\" x=\"6098\" y=\"-224.8\" font-family=\"Helvetica,sans-Serif\" font-size=\"14.00\" fill=\"#000000\">entropy = 0.05</text>\n<text text-anchor=\"start\" x=\"6097\" y=\"-210.8\" font-family=\"Helvetica,sans-Serif\" font-size=\"14.00\" fill=\"#000000\">samples = 178</text>\n<text text-anchor=\"start\" x=\"6095\" y=\"-196.8\" font-family=\"Helvetica,sans-Serif\" font-size=\"14.00\" fill=\"#000000\">value = [177, 1]</text>\n</g>\n<!-- 98&#45;&gt;106 -->\n<g id=\"edge106\" class=\"edge\">\n<title>98&#45;&gt;106</title>\n<path fill=\"none\" stroke=\"#000000\" d=\"M6004.0652,-289.0844C6027.5675,-277.7307 6054.0461,-264.9391 6077.6543,-253.5341\"/>\n<polygon fill=\"#000000\" stroke=\"#000000\" points=\"6079.4086,-256.5738 6086.8904,-249.0723 6076.3636,-250.2707 6079.4086,-256.5738\"/>\n</g>\n<!-- 100 -->\n<g id=\"node101\" class=\"node\">\n<title>100</title>\n<path fill=\"#e99356\" stroke=\"#000000\" d=\"M5923,-153C5923,-153 5823,-153 5823,-153 5817,-153 5811,-147 5811,-141 5811,-141 5811,-101 5811,-101 5811,-95 5817,-89 5823,-89 5823,-89 5923,-89 5923,-89 5929,-89 5935,-95 5935,-101 5935,-101 5935,-141 5935,-141 5935,-147 5929,-153 5923,-153\"/>\n<text text-anchor=\"start\" x=\"5835.5\" y=\"-138.8\" font-family=\"Helvetica,sans-Serif\" font-size=\"14.00\" fill=\"#000000\">X</text>\n<text text-anchor=\"start\" x=\"5845.5\" y=\"-138.8\" font-family=\"Helvetica,sans-Serif\" baseline-shift=\"sub\" font-size=\"14.00\" fill=\"#000000\">598</text>\n<text text-anchor=\"start\" x=\"5866.5\" y=\"-138.8\" font-family=\"Helvetica,sans-Serif\" font-size=\"14.00\" fill=\"#000000\"> ≤ 0.01</text>\n<text text-anchor=\"start\" x=\"5822\" y=\"-124.8\" font-family=\"Helvetica,sans-Serif\" font-size=\"14.00\" fill=\"#000000\">entropy = 0.548</text>\n<text text-anchor=\"start\" x=\"5825\" y=\"-110.8\" font-family=\"Helvetica,sans-Serif\" font-size=\"14.00\" fill=\"#000000\">samples = 213</text>\n<text text-anchor=\"start\" x=\"5819\" y=\"-96.8\" font-family=\"Helvetica,sans-Serif\" font-size=\"14.00\" fill=\"#000000\">value = [186, 27]</text>\n</g>\n<!-- 99&#45;&gt;100 -->\n<g id=\"edge100\" class=\"edge\">\n<title>99&#45;&gt;100</title>\n<path fill=\"none\" stroke=\"#000000\" d=\"M5917.0758,-188.8089C5911.4509,-180.1553 5905.294,-170.683 5899.4128,-161.635\"/>\n<polygon fill=\"#000000\" stroke=\"#000000\" points=\"5902.2695,-159.6077 5893.885,-153.1308 5896.4004,-163.4227 5902.2695,-159.6077\"/>\n</g>\n<!-- 103 -->\n<g id=\"node104\" class=\"node\">\n<title>103</title>\n<path fill=\"#c6e3f8\" stroke=\"#000000\" d=\"M6057,-153C6057,-153 5965,-153 5965,-153 5959,-153 5953,-147 5953,-141 5953,-141 5953,-101 5953,-101 5953,-95 5959,-89 5965,-89 5965,-89 6057,-89 6057,-89 6063,-89 6069,-95 6069,-101 6069,-101 6069,-141 6069,-141 6069,-147 6063,-153 6057,-153\"/>\n<text text-anchor=\"start\" x=\"5969.5\" y=\"-138.8\" font-family=\"Helvetica,sans-Serif\" font-size=\"14.00\" fill=\"#000000\">X</text>\n<text text-anchor=\"start\" x=\"5979.5\" y=\"-138.8\" font-family=\"Helvetica,sans-Serif\" baseline-shift=\"sub\" font-size=\"14.00\" fill=\"#000000\">158</text>\n<text text-anchor=\"start\" x=\"6000.5\" y=\"-138.8\" font-family=\"Helvetica,sans-Serif\" font-size=\"14.00\" fill=\"#000000\"> ≤ 0.059</text>\n<text text-anchor=\"start\" x=\"5964\" y=\"-124.8\" font-family=\"Helvetica,sans-Serif\" font-size=\"14.00\" fill=\"#000000\">entropy = 0.98</text>\n<text text-anchor=\"start\" x=\"5963\" y=\"-110.8\" font-family=\"Helvetica,sans-Serif\" font-size=\"14.00\" fill=\"#000000\">samples = 132</text>\n<text text-anchor=\"start\" x=\"5961\" y=\"-96.8\" font-family=\"Helvetica,sans-Serif\" font-size=\"14.00\" fill=\"#000000\">value = [55, 77]</text>\n</g>\n<!-- 99&#45;&gt;103 -->\n<g id=\"edge103\" class=\"edge\">\n<title>99&#45;&gt;103</title>\n<path fill=\"none\" stroke=\"#000000\" d=\"M5961.4995,-188.8089C5967.8818,-180.0661 5974.874,-170.4876 5981.5406,-161.3553\"/>\n<polygon fill=\"#000000\" stroke=\"#000000\" points=\"5984.4753,-163.2713 5987.5445,-153.1308 5978.8215,-159.144 5984.4753,-163.2713\"/>\n</g>\n<!-- 101 -->\n<g id=\"node102\" class=\"node\">\n<title>101</title>\n<path fill=\"#f0b58b\" stroke=\"#000000\" d=\"M5786,-53C5786,-53 5692,-53 5692,-53 5686,-53 5680,-47 5680,-41 5680,-41 5680,-12 5680,-12 5680,-6 5686,0 5692,0 5692,0 5786,0 5786,0 5792,0 5798,-6 5798,-12 5798,-12 5798,-41 5798,-41 5798,-47 5792,-53 5786,-53\"/>\n<text text-anchor=\"start\" x=\"5688\" y=\"-37.8\" font-family=\"Helvetica,sans-Serif\" font-size=\"14.00\" fill=\"#000000\">entropy = 0.871</text>\n<text text-anchor=\"start\" x=\"5695\" y=\"-22.8\" font-family=\"Helvetica,sans-Serif\" font-size=\"14.00\" fill=\"#000000\">samples = 72</text>\n<text text-anchor=\"start\" x=\"5689\" y=\"-7.8\" font-family=\"Helvetica,sans-Serif\" font-size=\"14.00\" fill=\"#000000\">value = [51, 21]</text>\n</g>\n<!-- 100&#45;&gt;101 -->\n<g id=\"edge101\" class=\"edge\">\n<title>100&#45;&gt;101</title>\n<path fill=\"none\" stroke=\"#000000\" d=\"M5827.2596,-88.7428C5813.6977,-79.1786 5798.8392,-68.7001 5785.2456,-59.1135\"/>\n<polygon fill=\"#000000\" stroke=\"#000000\" points=\"5787.1573,-56.1789 5776.9679,-53.2759 5783.123,-61.8994 5787.1573,-56.1789\"/>\n</g>\n<!-- 102 -->\n<g id=\"node103\" class=\"node\">\n<title>102</title>\n<path fill=\"#e68742\" stroke=\"#000000\" d=\"M5922,-53C5922,-53 5828,-53 5828,-53 5822,-53 5816,-47 5816,-41 5816,-41 5816,-12 5816,-12 5816,-6 5822,0 5828,0 5828,0 5922,0 5922,0 5928,0 5934,-6 5934,-12 5934,-12 5934,-41 5934,-41 5934,-47 5928,-53 5922,-53\"/>\n<text text-anchor=\"start\" x=\"5824\" y=\"-37.8\" font-family=\"Helvetica,sans-Serif\" font-size=\"14.00\" fill=\"#000000\">entropy = 0.254</text>\n<text text-anchor=\"start\" x=\"5827\" y=\"-22.8\" font-family=\"Helvetica,sans-Serif\" font-size=\"14.00\" fill=\"#000000\">samples = 141</text>\n<text text-anchor=\"start\" x=\"5825\" y=\"-7.8\" font-family=\"Helvetica,sans-Serif\" font-size=\"14.00\" fill=\"#000000\">value = [135, 6]</text>\n</g>\n<!-- 100&#45;&gt;102 -->\n<g id=\"edge102\" class=\"edge\">\n<title>100&#45;&gt;102</title>\n<path fill=\"none\" stroke=\"#000000\" d=\"M5873.6827,-88.7428C5873.8546,-80.6222 5874.0404,-71.8426 5874.2167,-63.5093\"/>\n<polygon fill=\"#000000\" stroke=\"#000000\" points=\"5877.7208,-63.3477 5874.4333,-53.2759 5870.7224,-63.1995 5877.7208,-63.3477\"/>\n</g>\n<!-- 104 -->\n<g id=\"node105\" class=\"node\">\n<title>104</title>\n<path fill=\"#efb083\" stroke=\"#000000\" d=\"M6058,-53C6058,-53 5964,-53 5964,-53 5958,-53 5952,-47 5952,-41 5952,-41 5952,-12 5952,-12 5952,-6 5958,0 5964,0 5964,0 6058,0 6058,0 6064,0 6070,-6 6070,-12 6070,-12 6070,-41 6070,-41 6070,-47 6064,-53 6058,-53\"/>\n<text text-anchor=\"start\" x=\"5960\" y=\"-37.8\" font-family=\"Helvetica,sans-Serif\" font-size=\"14.00\" fill=\"#000000\">entropy = 0.843</text>\n<text text-anchor=\"start\" x=\"5967\" y=\"-22.8\" font-family=\"Helvetica,sans-Serif\" font-size=\"14.00\" fill=\"#000000\">samples = 48</text>\n<text text-anchor=\"start\" x=\"5961\" y=\"-7.8\" font-family=\"Helvetica,sans-Serif\" font-size=\"14.00\" fill=\"#000000\">value = [35, 13]</text>\n</g>\n<!-- 103&#45;&gt;104 -->\n<g id=\"edge104\" class=\"edge\">\n<title>103&#45;&gt;104</title>\n<path fill=\"none\" stroke=\"#000000\" d=\"M6011,-88.7428C6011,-80.6222 6011,-71.8426 6011,-63.5093\"/>\n<polygon fill=\"#000000\" stroke=\"#000000\" points=\"6014.5001,-63.2758 6011,-53.2759 6007.5001,-63.2759 6014.5001,-63.2758\"/>\n</g>\n<!-- 105 -->\n<g id=\"node106\" class=\"node\">\n<title>105</title>\n<path fill=\"#77bced\" stroke=\"#000000\" d=\"M6194,-53C6194,-53 6100,-53 6100,-53 6094,-53 6088,-47 6088,-41 6088,-41 6088,-12 6088,-12 6088,-6 6094,0 6100,0 6100,0 6194,0 6194,0 6200,0 6206,-6 6206,-12 6206,-12 6206,-41 6206,-41 6206,-47 6200,-53 6194,-53\"/>\n<text text-anchor=\"start\" x=\"6096\" y=\"-37.8\" font-family=\"Helvetica,sans-Serif\" font-size=\"14.00\" fill=\"#000000\">entropy = 0.792</text>\n<text text-anchor=\"start\" x=\"6103\" y=\"-22.8\" font-family=\"Helvetica,sans-Serif\" font-size=\"14.00\" fill=\"#000000\">samples = 84</text>\n<text text-anchor=\"start\" x=\"6097\" y=\"-7.8\" font-family=\"Helvetica,sans-Serif\" font-size=\"14.00\" fill=\"#000000\">value = [20, 64]</text>\n</g>\n<!-- 103&#45;&gt;105 -->\n<g id=\"edge105\" class=\"edge\">\n<title>103&#45;&gt;105</title>\n<path fill=\"none\" stroke=\"#000000\" d=\"M6057.4231,-88.7428C6071.1875,-79.1786 6086.2676,-68.7001 6100.0642,-59.1135\"/>\n<polygon fill=\"#000000\" stroke=\"#000000\" points=\"6102.2505,-61.8564 6108.4654,-53.2759 6098.2561,-56.1079 6102.2505,-61.8564\"/>\n</g>\n<!-- 107 -->\n<g id=\"node108\" class=\"node\">\n<title>107</title>\n<path fill=\"#e58139\" stroke=\"#000000\" d=\"M6191,-147.5C6191,-147.5 6099,-147.5 6099,-147.5 6093,-147.5 6087,-141.5 6087,-135.5 6087,-135.5 6087,-106.5 6087,-106.5 6087,-100.5 6093,-94.5 6099,-94.5 6099,-94.5 6191,-94.5 6191,-94.5 6197,-94.5 6203,-100.5 6203,-106.5 6203,-106.5 6203,-135.5 6203,-135.5 6203,-141.5 6197,-147.5 6191,-147.5\"/>\n<text text-anchor=\"start\" x=\"6102.5\" y=\"-132.3\" font-family=\"Helvetica,sans-Serif\" font-size=\"14.00\" fill=\"#000000\">entropy = 0.0</text>\n<text text-anchor=\"start\" x=\"6097\" y=\"-117.3\" font-family=\"Helvetica,sans-Serif\" font-size=\"14.00\" fill=\"#000000\">samples = 172</text>\n<text text-anchor=\"start\" x=\"6095\" y=\"-102.3\" font-family=\"Helvetica,sans-Serif\" font-size=\"14.00\" fill=\"#000000\">value = [172, 0]</text>\n</g>\n<!-- 106&#45;&gt;107 -->\n<g id=\"edge107\" class=\"edge\">\n<title>106&#45;&gt;107</title>\n<path fill=\"none\" stroke=\"#000000\" d=\"M6145,-188.8089C6145,-178.9777 6145,-168.0898 6145,-157.9679\"/>\n<polygon fill=\"#000000\" stroke=\"#000000\" points=\"6148.5001,-157.7735 6145,-147.7735 6141.5001,-157.7736 6148.5001,-157.7735\"/>\n</g>\n<!-- 108 -->\n<g id=\"node109\" class=\"node\">\n<title>108</title>\n<path fill=\"#ea9a61\" stroke=\"#000000\" d=\"M6319,-153C6319,-153 6233,-153 6233,-153 6227,-153 6221,-147 6221,-141 6221,-141 6221,-101 6221,-101 6221,-95 6227,-89 6233,-89 6233,-89 6319,-89 6319,-89 6325,-89 6331,-95 6331,-101 6331,-101 6331,-141 6331,-141 6331,-147 6325,-153 6319,-153\"/>\n<text text-anchor=\"start\" x=\"6234.5\" y=\"-138.8\" font-family=\"Helvetica,sans-Serif\" font-size=\"14.00\" fill=\"#000000\">X</text>\n<text text-anchor=\"start\" x=\"6244.5\" y=\"-138.8\" font-family=\"Helvetica,sans-Serif\" baseline-shift=\"sub\" font-size=\"14.00\" fill=\"#000000\">631</text>\n<text text-anchor=\"start\" x=\"6265.5\" y=\"-138.8\" font-family=\"Helvetica,sans-Serif\" font-size=\"14.00\" fill=\"#000000\"> ≤ 0.447</text>\n<text text-anchor=\"start\" x=\"6229\" y=\"-124.8\" font-family=\"Helvetica,sans-Serif\" font-size=\"14.00\" fill=\"#000000\">entropy = 0.65</text>\n<text text-anchor=\"start\" x=\"6236.5\" y=\"-110.8\" font-family=\"Helvetica,sans-Serif\" font-size=\"14.00\" fill=\"#000000\">samples = 6</text>\n<text text-anchor=\"start\" x=\"6234.5\" y=\"-96.8\" font-family=\"Helvetica,sans-Serif\" font-size=\"14.00\" fill=\"#000000\">value = [5, 1]</text>\n</g>\n<!-- 106&#45;&gt;108 -->\n<g id=\"edge108\" class=\"edge\">\n<title>106&#45;&gt;108</title>\n<path fill=\"none\" stroke=\"#000000\" d=\"M6187.1703,-188.8089C6199.4415,-179.4416 6212.9693,-169.115 6225.6885,-159.4057\"/>\n<polygon fill=\"#000000\" stroke=\"#000000\" points=\"6228.0837,-161.9806 6233.9087,-153.1308 6223.8362,-156.4165 6228.0837,-161.9806\"/>\n</g>\n<!-- 109 -->\n<g id=\"node110\" class=\"node\">\n<title>109</title>\n<path fill=\"#399de5\" stroke=\"#000000\" d=\"M6313.5,-53C6313.5,-53 6236.5,-53 6236.5,-53 6230.5,-53 6224.5,-47 6224.5,-41 6224.5,-41 6224.5,-12 6224.5,-12 6224.5,-6 6230.5,0 6236.5,0 6236.5,0 6313.5,0 6313.5,0 6319.5,0 6325.5,-6 6325.5,-12 6325.5,-12 6325.5,-41 6325.5,-41 6325.5,-47 6319.5,-53 6313.5,-53\"/>\n<text text-anchor=\"start\" x=\"6232.5\" y=\"-37.8\" font-family=\"Helvetica,sans-Serif\" font-size=\"14.00\" fill=\"#000000\">entropy = 0.0</text>\n<text text-anchor=\"start\" x=\"6235.5\" y=\"-22.8\" font-family=\"Helvetica,sans-Serif\" font-size=\"14.00\" fill=\"#000000\">samples = 1</text>\n<text text-anchor=\"start\" x=\"6233.5\" y=\"-7.8\" font-family=\"Helvetica,sans-Serif\" font-size=\"14.00\" fill=\"#000000\">value = [0, 1]</text>\n</g>\n<!-- 108&#45;&gt;109 -->\n<g id=\"edge109\" class=\"edge\">\n<title>108&#45;&gt;109</title>\n<path fill=\"none\" stroke=\"#000000\" d=\"M6275.6587,-88.7428C6275.5727,-80.6222 6275.4798,-71.8426 6275.3916,-63.5093\"/>\n<polygon fill=\"#000000\" stroke=\"#000000\" points=\"6278.8891,-63.2382 6275.2833,-53.2759 6271.8894,-63.3124 6278.8891,-63.2382\"/>\n</g>\n<!-- 110 -->\n<g id=\"node111\" class=\"node\">\n<title>110</title>\n<path fill=\"#e58139\" stroke=\"#000000\" d=\"M6432.5,-53C6432.5,-53 6355.5,-53 6355.5,-53 6349.5,-53 6343.5,-47 6343.5,-41 6343.5,-41 6343.5,-12 6343.5,-12 6343.5,-6 6349.5,0 6355.5,0 6355.5,0 6432.5,0 6432.5,0 6438.5,0 6444.5,-6 6444.5,-12 6444.5,-12 6444.5,-41 6444.5,-41 6444.5,-47 6438.5,-53 6432.5,-53\"/>\n<text text-anchor=\"start\" x=\"6351.5\" y=\"-37.8\" font-family=\"Helvetica,sans-Serif\" font-size=\"14.00\" fill=\"#000000\">entropy = 0.0</text>\n<text text-anchor=\"start\" x=\"6354.5\" y=\"-22.8\" font-family=\"Helvetica,sans-Serif\" font-size=\"14.00\" fill=\"#000000\">samples = 5</text>\n<text text-anchor=\"start\" x=\"6352.5\" y=\"-7.8\" font-family=\"Helvetica,sans-Serif\" font-size=\"14.00\" fill=\"#000000\">value = [5, 0]</text>\n</g>\n<!-- 108&#45;&gt;110 -->\n<g id=\"edge110\" class=\"edge\">\n<title>108&#45;&gt;110</title>\n<path fill=\"none\" stroke=\"#000000\" d=\"M6316.2789,-88.7428C6327.9961,-79.359 6340.8124,-69.0952 6352.5975,-59.657\"/>\n<polygon fill=\"#000000\" stroke=\"#000000\" points=\"6354.948,-62.2588 6360.5656,-53.2759 6350.5722,-56.795 6354.948,-62.2588\"/>\n</g>\n<!-- 112 -->\n<g id=\"node113\" class=\"node\">\n<title>112</title>\n<path fill=\"#e5833c\" stroke=\"#000000\" d=\"M7262,-553C7262,-553 7154,-553 7154,-553 7148,-553 7142,-547 7142,-541 7142,-541 7142,-501 7142,-501 7142,-495 7148,-489 7154,-489 7154,-489 7262,-489 7262,-489 7268,-489 7274,-495 7274,-501 7274,-501 7274,-541 7274,-541 7274,-547 7268,-553 7262,-553\"/>\n<text text-anchor=\"start\" x=\"7166.5\" y=\"-538.8\" font-family=\"Helvetica,sans-Serif\" font-size=\"14.00\" fill=\"#000000\">X</text>\n<text text-anchor=\"start\" x=\"7176.5\" y=\"-538.8\" font-family=\"Helvetica,sans-Serif\" baseline-shift=\"sub\" font-size=\"14.00\" fill=\"#000000\">354</text>\n<text text-anchor=\"start\" x=\"7197.5\" y=\"-538.8\" font-family=\"Helvetica,sans-Serif\" font-size=\"14.00\" fill=\"#000000\"> ≤ 0.002</text>\n<text text-anchor=\"start\" x=\"7157\" y=\"-524.8\" font-family=\"Helvetica,sans-Serif\" font-size=\"14.00\" fill=\"#000000\">entropy = 0.108</text>\n<text text-anchor=\"start\" x=\"7156\" y=\"-510.8\" font-family=\"Helvetica,sans-Serif\" font-size=\"14.00\" fill=\"#000000\">samples = 2576</text>\n<text text-anchor=\"start\" x=\"7150\" y=\"-496.8\" font-family=\"Helvetica,sans-Serif\" font-size=\"14.00\" fill=\"#000000\">value = [2539, 37]</text>\n</g>\n<!-- 111&#45;&gt;112 -->\n<g id=\"edge112\" class=\"edge\">\n<title>111&#45;&gt;112</title>\n<path fill=\"none\" stroke=\"#000000\" d=\"M7257.5005,-588.8089C7251.1182,-580.0661 7244.126,-570.4876 7237.4594,-561.3553\"/>\n<polygon fill=\"#000000\" stroke=\"#000000\" points=\"7240.1785,-559.144 7231.4555,-553.1308 7234.5247,-563.2713 7240.1785,-559.144\"/>\n</g>\n<!-- 137 -->\n<g id=\"node138\" class=\"node\">\n<title>137</title>\n<path fill=\"#e58139\" stroke=\"#000000\" d=\"M7404,-553C7404,-553 7304,-553 7304,-553 7298,-553 7292,-547 7292,-541 7292,-541 7292,-501 7292,-501 7292,-495 7298,-489 7304,-489 7304,-489 7404,-489 7404,-489 7410,-489 7416,-495 7416,-501 7416,-501 7416,-541 7416,-541 7416,-547 7410,-553 7404,-553\"/>\n<text text-anchor=\"start\" x=\"7312.5\" y=\"-538.8\" font-family=\"Helvetica,sans-Serif\" font-size=\"14.00\" fill=\"#000000\">X</text>\n<text text-anchor=\"start\" x=\"7322.5\" y=\"-538.8\" font-family=\"Helvetica,sans-Serif\" baseline-shift=\"sub\" font-size=\"14.00\" fill=\"#000000\">296</text>\n<text text-anchor=\"start\" x=\"7343.5\" y=\"-538.8\" font-family=\"Helvetica,sans-Serif\" font-size=\"14.00\" fill=\"#000000\"> ≤ 0.986</text>\n<text text-anchor=\"start\" x=\"7303\" y=\"-524.8\" font-family=\"Helvetica,sans-Serif\" font-size=\"14.00\" fill=\"#000000\">entropy = 0.005</text>\n<text text-anchor=\"start\" x=\"7302\" y=\"-510.8\" font-family=\"Helvetica,sans-Serif\" font-size=\"14.00\" fill=\"#000000\">samples = 7405</text>\n<text text-anchor=\"start\" x=\"7300\" y=\"-496.8\" font-family=\"Helvetica,sans-Serif\" font-size=\"14.00\" fill=\"#000000\">value = [7402, 3]</text>\n</g>\n<!-- 111&#45;&gt;137 -->\n<g id=\"edge137\" class=\"edge\">\n<title>111&#45;&gt;137</title>\n<path fill=\"none\" stroke=\"#000000\" d=\"M7304.4995,-588.8089C7310.8818,-580.0661 7317.874,-570.4876 7324.5406,-561.3553\"/>\n<polygon fill=\"#000000\" stroke=\"#000000\" points=\"7327.4753,-563.2713 7330.5445,-553.1308 7321.8215,-559.144 7327.4753,-563.2713\"/>\n</g>\n<!-- 113 -->\n<g id=\"node114\" class=\"node\">\n<title>113</title>\n<path fill=\"#e6853f\" stroke=\"#000000\" d=\"M7117,-453C7117,-453 7009,-453 7009,-453 7003,-453 6997,-447 6997,-441 6997,-441 6997,-401 6997,-401 6997,-395 7003,-389 7009,-389 7009,-389 7117,-389 7117,-389 7123,-389 7129,-395 7129,-401 7129,-401 7129,-441 7129,-441 7129,-447 7123,-453 7117,-453\"/>\n<text text-anchor=\"start\" x=\"7021.5\" y=\"-438.8\" font-family=\"Helvetica,sans-Serif\" font-size=\"14.00\" fill=\"#000000\">X</text>\n<text text-anchor=\"start\" x=\"7031.5\" y=\"-438.8\" font-family=\"Helvetica,sans-Serif\" baseline-shift=\"sub\" font-size=\"14.00\" fill=\"#000000\">458</text>\n<text text-anchor=\"start\" x=\"7052.5\" y=\"-438.8\" font-family=\"Helvetica,sans-Serif\" font-size=\"14.00\" fill=\"#000000\"> ≤ 0.002</text>\n<text text-anchor=\"start\" x=\"7012\" y=\"-424.8\" font-family=\"Helvetica,sans-Serif\" font-size=\"14.00\" fill=\"#000000\">entropy = 0.199</text>\n<text text-anchor=\"start\" x=\"7011\" y=\"-410.8\" font-family=\"Helvetica,sans-Serif\" font-size=\"14.00\" fill=\"#000000\">samples = 1164</text>\n<text text-anchor=\"start\" x=\"7005\" y=\"-396.8\" font-family=\"Helvetica,sans-Serif\" font-size=\"14.00\" fill=\"#000000\">value = [1128, 36]</text>\n</g>\n<!-- 112&#45;&gt;113 -->\n<g id=\"edge113\" class=\"edge\">\n<title>112&#45;&gt;113</title>\n<path fill=\"none\" stroke=\"#000000\" d=\"M7161.3229,-488.8089C7147.4816,-479.2632 7132.1958,-468.7213 7117.8848,-458.8516\"/>\n<polygon fill=\"#000000\" stroke=\"#000000\" points=\"7119.8088,-455.9269 7109.5896,-453.1308 7115.8347,-461.6894 7119.8088,-455.9269\"/>\n</g>\n<!-- 130 -->\n<g id=\"node131\" class=\"node\">\n<title>130</title>\n<path fill=\"#e58139\" stroke=\"#000000\" d=\"M7259,-453C7259,-453 7159,-453 7159,-453 7153,-453 7147,-447 7147,-441 7147,-441 7147,-401 7147,-401 7147,-395 7153,-389 7159,-389 7159,-389 7259,-389 7259,-389 7265,-389 7271,-395 7271,-401 7271,-401 7271,-441 7271,-441 7271,-447 7265,-453 7259,-453\"/>\n<text text-anchor=\"start\" x=\"7167.5\" y=\"-438.8\" font-family=\"Helvetica,sans-Serif\" font-size=\"14.00\" fill=\"#000000\">X</text>\n<text text-anchor=\"start\" x=\"7177.5\" y=\"-438.8\" font-family=\"Helvetica,sans-Serif\" baseline-shift=\"sub\" font-size=\"14.00\" fill=\"#000000\">488</text>\n<text text-anchor=\"start\" x=\"7198.5\" y=\"-438.8\" font-family=\"Helvetica,sans-Serif\" font-size=\"14.00\" fill=\"#000000\"> ≤ 0.986</text>\n<text text-anchor=\"start\" x=\"7158\" y=\"-424.8\" font-family=\"Helvetica,sans-Serif\" font-size=\"14.00\" fill=\"#000000\">entropy = 0.008</text>\n<text text-anchor=\"start\" x=\"7157\" y=\"-410.8\" font-family=\"Helvetica,sans-Serif\" font-size=\"14.00\" fill=\"#000000\">samples = 1412</text>\n<text text-anchor=\"start\" x=\"7155\" y=\"-396.8\" font-family=\"Helvetica,sans-Serif\" font-size=\"14.00\" fill=\"#000000\">value = [1411, 1]</text>\n</g>\n<!-- 112&#45;&gt;130 -->\n<g id=\"edge130\" class=\"edge\">\n<title>112&#45;&gt;130</title>\n<path fill=\"none\" stroke=\"#000000\" d=\"M7208.3219,-488.8089C7208.4031,-480.6906 7208.4915,-471.8517 7208.5768,-463.3186\"/>\n<polygon fill=\"#000000\" stroke=\"#000000\" points=\"7212.0784,-463.1653 7208.6787,-453.1308 7205.0788,-463.0952 7212.0784,-463.1653\"/>\n</g>\n<!-- 114 -->\n<g id=\"node115\" class=\"node\">\n<title>114</title>\n<path fill=\"#e78a47\" stroke=\"#000000\" d=\"M6976,-353C6976,-353 6876,-353 6876,-353 6870,-353 6864,-347 6864,-341 6864,-341 6864,-301 6864,-301 6864,-295 6870,-289 6876,-289 6876,-289 6976,-289 6976,-289 6982,-289 6988,-295 6988,-301 6988,-301 6988,-341 6988,-341 6988,-347 6982,-353 6976,-353\"/>\n<text text-anchor=\"start\" x=\"6884.5\" y=\"-338.8\" font-family=\"Helvetica,sans-Serif\" font-size=\"14.00\" fill=\"#000000\">X</text>\n<text text-anchor=\"start\" x=\"6894.5\" y=\"-338.8\" font-family=\"Helvetica,sans-Serif\" baseline-shift=\"sub\" font-size=\"14.00\" fill=\"#000000\">357</text>\n<text text-anchor=\"start\" x=\"6915.5\" y=\"-338.8\" font-family=\"Helvetica,sans-Serif\" font-size=\"14.00\" fill=\"#000000\"> ≤ 0.004</text>\n<text text-anchor=\"start\" x=\"6879\" y=\"-324.8\" font-family=\"Helvetica,sans-Serif\" font-size=\"14.00\" fill=\"#000000\">entropy = 0.35</text>\n<text text-anchor=\"start\" x=\"6878\" y=\"-310.8\" font-family=\"Helvetica,sans-Serif\" font-size=\"14.00\" fill=\"#000000\">samples = 486</text>\n<text text-anchor=\"start\" x=\"6872\" y=\"-296.8\" font-family=\"Helvetica,sans-Serif\" font-size=\"14.00\" fill=\"#000000\">value = [454, 32]</text>\n</g>\n<!-- 113&#45;&gt;114 -->\n<g id=\"edge114\" class=\"edge\">\n<title>113&#45;&gt;114</title>\n<path fill=\"none\" stroke=\"#000000\" d=\"M7018.8982,-388.8089C7005.9428,-379.3524 6991.648,-368.9182 6978.236,-359.1285\"/>\n<polygon fill=\"#000000\" stroke=\"#000000\" points=\"6980.1598,-356.1995 6970.0191,-353.1308 6976.0328,-361.8535 6980.1598,-356.1995\"/>\n</g>\n<!-- 123 -->\n<g id=\"node124\" class=\"node\">\n<title>123</title>\n<path fill=\"#e5823a\" stroke=\"#000000\" d=\"M7112,-353C7112,-353 7018,-353 7018,-353 7012,-353 7006,-347 7006,-341 7006,-341 7006,-301 7006,-301 7006,-295 7012,-289 7018,-289 7018,-289 7112,-289 7112,-289 7118,-289 7124,-295 7124,-301 7124,-301 7124,-341 7124,-341 7124,-347 7118,-353 7112,-353\"/>\n<text text-anchor=\"start\" x=\"7023.5\" y=\"-338.8\" font-family=\"Helvetica,sans-Serif\" font-size=\"14.00\" fill=\"#000000\">X</text>\n<text text-anchor=\"start\" x=\"7033.5\" y=\"-338.8\" font-family=\"Helvetica,sans-Serif\" baseline-shift=\"sub\" font-size=\"14.00\" fill=\"#000000\">513</text>\n<text text-anchor=\"start\" x=\"7054.5\" y=\"-338.8\" font-family=\"Helvetica,sans-Serif\" font-size=\"14.00\" fill=\"#000000\"> ≤ 0.325</text>\n<text text-anchor=\"start\" x=\"7014\" y=\"-324.8\" font-family=\"Helvetica,sans-Serif\" font-size=\"14.00\" fill=\"#000000\">entropy = 0.052</text>\n<text text-anchor=\"start\" x=\"7017\" y=\"-310.8\" font-family=\"Helvetica,sans-Serif\" font-size=\"14.00\" fill=\"#000000\">samples = 678</text>\n<text text-anchor=\"start\" x=\"7015\" y=\"-296.8\" font-family=\"Helvetica,sans-Serif\" font-size=\"14.00\" fill=\"#000000\">value = [674, 4]</text>\n</g>\n<!-- 113&#45;&gt;123 -->\n<g id=\"edge123\" class=\"edge\">\n<title>113&#45;&gt;123</title>\n<path fill=\"none\" stroke=\"#000000\" d=\"M7063.6438,-388.8089C7063.8062,-380.6906 7063.983,-371.8517 7064.1536,-363.3186\"/>\n<polygon fill=\"#000000\" stroke=\"#000000\" points=\"7067.6566,-363.1988 7064.3574,-353.1308 7060.658,-363.0587 7067.6566,-363.1988\"/>\n</g>\n<!-- 115 -->\n<g id=\"node116\" class=\"node\">\n<title>115</title>\n<path fill=\"#e99254\" stroke=\"#000000\" d=\"M6839,-253C6839,-253 6739,-253 6739,-253 6733,-253 6727,-247 6727,-241 6727,-241 6727,-201 6727,-201 6727,-195 6733,-189 6739,-189 6739,-189 6839,-189 6839,-189 6845,-189 6851,-195 6851,-201 6851,-201 6851,-241 6851,-241 6851,-247 6845,-253 6839,-253\"/>\n<text text-anchor=\"start\" x=\"6747.5\" y=\"-238.8\" font-family=\"Helvetica,sans-Serif\" font-size=\"14.00\" fill=\"#000000\">X</text>\n<text text-anchor=\"start\" x=\"6757.5\" y=\"-238.8\" font-family=\"Helvetica,sans-Serif\" baseline-shift=\"sub\" font-size=\"14.00\" fill=\"#000000\">325</text>\n<text text-anchor=\"start\" x=\"6778.5\" y=\"-238.8\" font-family=\"Helvetica,sans-Serif\" font-size=\"14.00\" fill=\"#000000\"> ≤ 0.178</text>\n<text text-anchor=\"start\" x=\"6738\" y=\"-224.8\" font-family=\"Helvetica,sans-Serif\" font-size=\"14.00\" fill=\"#000000\">entropy = 0.529</text>\n<text text-anchor=\"start\" x=\"6741\" y=\"-210.8\" font-family=\"Helvetica,sans-Serif\" font-size=\"14.00\" fill=\"#000000\">samples = 267</text>\n<text text-anchor=\"start\" x=\"6735\" y=\"-196.8\" font-family=\"Helvetica,sans-Serif\" font-size=\"14.00\" fill=\"#000000\">value = [235, 32]</text>\n</g>\n<!-- 114&#45;&gt;115 -->\n<g id=\"edge115\" class=\"edge\">\n<title>114&#45;&gt;115</title>\n<path fill=\"none\" stroke=\"#000000\" d=\"M6881.8982,-288.8089C6868.9428,-279.3524 6854.648,-268.9182 6841.236,-259.1285\"/>\n<polygon fill=\"#000000\" stroke=\"#000000\" points=\"6843.1598,-256.1995 6833.0191,-253.1308 6839.0328,-261.8535 6843.1598,-256.1995\"/>\n</g>\n<!-- 122 -->\n<g id=\"node123\" class=\"node\">\n<title>122</title>\n<path fill=\"#e58139\" stroke=\"#000000\" d=\"M6973,-247.5C6973,-247.5 6881,-247.5 6881,-247.5 6875,-247.5 6869,-241.5 6869,-235.5 6869,-235.5 6869,-206.5 6869,-206.5 6869,-200.5 6875,-194.5 6881,-194.5 6881,-194.5 6973,-194.5 6973,-194.5 6979,-194.5 6985,-200.5 6985,-206.5 6985,-206.5 6985,-235.5 6985,-235.5 6985,-241.5 6979,-247.5 6973,-247.5\"/>\n<text text-anchor=\"start\" x=\"6884.5\" y=\"-232.3\" font-family=\"Helvetica,sans-Serif\" font-size=\"14.00\" fill=\"#000000\">entropy = 0.0</text>\n<text text-anchor=\"start\" x=\"6879\" y=\"-217.3\" font-family=\"Helvetica,sans-Serif\" font-size=\"14.00\" fill=\"#000000\">samples = 219</text>\n<text text-anchor=\"start\" x=\"6877\" y=\"-202.3\" font-family=\"Helvetica,sans-Serif\" font-size=\"14.00\" fill=\"#000000\">value = [219, 0]</text>\n</g>\n<!-- 114&#45;&gt;122 -->\n<g id=\"edge122\" class=\"edge\">\n<title>114&#45;&gt;122</title>\n<path fill=\"none\" stroke=\"#000000\" d=\"M6926.3219,-288.8089C6926.4202,-278.9777 6926.5291,-268.0898 6926.6303,-257.9679\"/>\n<polygon fill=\"#000000\" stroke=\"#000000\" points=\"6930.132,-257.8081 6926.7323,-247.7735 6923.1323,-257.738 6930.132,-257.8081\"/>\n</g>\n<!-- 116 -->\n<g id=\"node117\" class=\"node\">\n<title>116</title>\n<path fill=\"#eb9e67\" stroke=\"#000000\" d=\"M6706,-153C6706,-153 6606,-153 6606,-153 6600,-153 6594,-147 6594,-141 6594,-141 6594,-101 6594,-101 6594,-95 6600,-89 6606,-89 6606,-89 6706,-89 6706,-89 6712,-89 6718,-95 6718,-101 6718,-101 6718,-141 6718,-141 6718,-147 6712,-153 6706,-153\"/>\n<text text-anchor=\"start\" x=\"6614.5\" y=\"-138.8\" font-family=\"Helvetica,sans-Serif\" font-size=\"14.00\" fill=\"#000000\">X</text>\n<text text-anchor=\"start\" x=\"6624.5\" y=\"-138.8\" font-family=\"Helvetica,sans-Serif\" baseline-shift=\"sub\" font-size=\"14.00\" fill=\"#000000\">407</text>\n<text text-anchor=\"start\" x=\"6645.5\" y=\"-138.8\" font-family=\"Helvetica,sans-Serif\" font-size=\"14.00\" fill=\"#000000\"> ≤ 0.388</text>\n<text text-anchor=\"start\" x=\"6605\" y=\"-124.8\" font-family=\"Helvetica,sans-Serif\" font-size=\"14.00\" fill=\"#000000\">entropy = 0.699</text>\n<text text-anchor=\"start\" x=\"6608\" y=\"-110.8\" font-family=\"Helvetica,sans-Serif\" font-size=\"14.00\" fill=\"#000000\">samples = 164</text>\n<text text-anchor=\"start\" x=\"6602\" y=\"-96.8\" font-family=\"Helvetica,sans-Serif\" font-size=\"14.00\" fill=\"#000000\">value = [133, 31]</text>\n</g>\n<!-- 115&#45;&gt;116 -->\n<g id=\"edge116\" class=\"edge\">\n<title>115&#45;&gt;116</title>\n<path fill=\"none\" stroke=\"#000000\" d=\"M6746.1859,-188.8089C6733.7273,-179.4416 6719.993,-169.115 6707.0796,-159.4057\"/>\n<polygon fill=\"#000000\" stroke=\"#000000\" points=\"6708.8301,-156.3429 6698.7339,-153.1308 6704.6233,-161.9379 6708.8301,-156.3429\"/>\n</g>\n<!-- 119 -->\n<g id=\"node120\" class=\"node\">\n<title>119</title>\n<path fill=\"#e5823b\" stroke=\"#000000\" d=\"M6842,-153C6842,-153 6748,-153 6748,-153 6742,-153 6736,-147 6736,-141 6736,-141 6736,-101 6736,-101 6736,-95 6742,-89 6748,-89 6748,-89 6842,-89 6842,-89 6848,-89 6854,-95 6854,-101 6854,-101 6854,-141 6854,-141 6854,-147 6848,-153 6842,-153\"/>\n<text text-anchor=\"start\" x=\"6753.5\" y=\"-138.8\" font-family=\"Helvetica,sans-Serif\" font-size=\"14.00\" fill=\"#000000\">X</text>\n<text text-anchor=\"start\" x=\"6763.5\" y=\"-138.8\" font-family=\"Helvetica,sans-Serif\" baseline-shift=\"sub\" font-size=\"14.00\" fill=\"#000000\">103</text>\n<text text-anchor=\"start\" x=\"6784.5\" y=\"-138.8\" font-family=\"Helvetica,sans-Serif\" font-size=\"14.00\" fill=\"#000000\"> ≤ 0.139</text>\n<text text-anchor=\"start\" x=\"6744\" y=\"-124.8\" font-family=\"Helvetica,sans-Serif\" font-size=\"14.00\" fill=\"#000000\">entropy = 0.079</text>\n<text text-anchor=\"start\" x=\"6747\" y=\"-110.8\" font-family=\"Helvetica,sans-Serif\" font-size=\"14.00\" fill=\"#000000\">samples = 103</text>\n<text text-anchor=\"start\" x=\"6745\" y=\"-96.8\" font-family=\"Helvetica,sans-Serif\" font-size=\"14.00\" fill=\"#000000\">value = [102, 1]</text>\n</g>\n<!-- 115&#45;&gt;119 -->\n<g id=\"edge119\" class=\"edge\">\n<title>115&#45;&gt;119</title>\n<path fill=\"none\" stroke=\"#000000\" d=\"M6790.9315,-188.8089C6791.4186,-180.6906 6791.9489,-171.8517 6792.4609,-163.3186\"/>\n<polygon fill=\"#000000\" stroke=\"#000000\" points=\"6795.9669,-163.3225 6793.0722,-153.1308 6788.9794,-162.9032 6795.9669,-163.3225\"/>\n</g>\n<!-- 117 -->\n<g id=\"node118\" class=\"node\">\n<title>117</title>\n<path fill=\"#e68844\" stroke=\"#000000\" d=\"M6569,-53C6569,-53 6475,-53 6475,-53 6469,-53 6463,-47 6463,-41 6463,-41 6463,-12 6463,-12 6463,-6 6469,0 6475,0 6475,0 6569,0 6569,0 6575,0 6581,-6 6581,-12 6581,-12 6581,-41 6581,-41 6581,-47 6575,-53 6569,-53\"/>\n<text text-anchor=\"start\" x=\"6471\" y=\"-37.8\" font-family=\"Helvetica,sans-Serif\" font-size=\"14.00\" fill=\"#000000\">entropy = 0.302</text>\n<text text-anchor=\"start\" x=\"6478\" y=\"-22.8\" font-family=\"Helvetica,sans-Serif\" font-size=\"14.00\" fill=\"#000000\">samples = 93</text>\n<text text-anchor=\"start\" x=\"6476.5\" y=\"-7.8\" font-family=\"Helvetica,sans-Serif\" font-size=\"14.00\" fill=\"#000000\">value = [88, 5]</text>\n</g>\n<!-- 116&#45;&gt;117 -->\n<g id=\"edge117\" class=\"edge\">\n<title>116&#45;&gt;117</title>\n<path fill=\"none\" stroke=\"#000000\" d=\"M6610.2596,-88.7428C6596.6977,-79.1786 6581.8392,-68.7001 6568.2456,-59.1135\"/>\n<polygon fill=\"#000000\" stroke=\"#000000\" points=\"6570.1573,-56.1789 6559.9679,-53.2759 6566.123,-61.8994 6570.1573,-56.1789\"/>\n</g>\n<!-- 118 -->\n<g id=\"node119\" class=\"node\">\n<title>118</title>\n<path fill=\"#f4caab\" stroke=\"#000000\" d=\"M6705,-53C6705,-53 6611,-53 6611,-53 6605,-53 6599,-47 6599,-41 6599,-41 6599,-12 6599,-12 6599,-6 6605,0 6611,0 6611,0 6705,0 6705,0 6711,0 6717,-6 6717,-12 6717,-12 6717,-41 6717,-41 6717,-47 6711,-53 6705,-53\"/>\n<text text-anchor=\"start\" x=\"6607\" y=\"-37.8\" font-family=\"Helvetica,sans-Serif\" font-size=\"14.00\" fill=\"#000000\">entropy = 0.948</text>\n<text text-anchor=\"start\" x=\"6614\" y=\"-22.8\" font-family=\"Helvetica,sans-Serif\" font-size=\"14.00\" fill=\"#000000\">samples = 71</text>\n<text text-anchor=\"start\" x=\"6608\" y=\"-7.8\" font-family=\"Helvetica,sans-Serif\" font-size=\"14.00\" fill=\"#000000\">value = [45, 26]</text>\n</g>\n<!-- 116&#45;&gt;118 -->\n<g id=\"edge118\" class=\"edge\">\n<title>116&#45;&gt;118</title>\n<path fill=\"none\" stroke=\"#000000\" d=\"M6656.6827,-88.7428C6656.8546,-80.6222 6657.0404,-71.8426 6657.2167,-63.5093\"/>\n<polygon fill=\"#000000\" stroke=\"#000000\" points=\"6660.7208,-63.3477 6657.4333,-53.2759 6653.7224,-63.1995 6660.7208,-63.3477\"/>\n</g>\n<!-- 120 -->\n<g id=\"node121\" class=\"node\">\n<title>120</title>\n<path fill=\"#e58139\" stroke=\"#000000\" d=\"M6839,-53C6839,-53 6747,-53 6747,-53 6741,-53 6735,-47 6735,-41 6735,-41 6735,-12 6735,-12 6735,-6 6741,0 6747,0 6747,0 6839,0 6839,0 6845,0 6851,-6 6851,-12 6851,-12 6851,-41 6851,-41 6851,-47 6845,-53 6839,-53\"/>\n<text text-anchor=\"start\" x=\"6750.5\" y=\"-37.8\" font-family=\"Helvetica,sans-Serif\" font-size=\"14.00\" fill=\"#000000\">entropy = 0.0</text>\n<text text-anchor=\"start\" x=\"6745\" y=\"-22.8\" font-family=\"Helvetica,sans-Serif\" font-size=\"14.00\" fill=\"#000000\">samples = 100</text>\n<text text-anchor=\"start\" x=\"6743\" y=\"-7.8\" font-family=\"Helvetica,sans-Serif\" font-size=\"14.00\" fill=\"#000000\">value = [100, 0]</text>\n</g>\n<!-- 119&#45;&gt;120 -->\n<g id=\"edge120\" class=\"edge\">\n<title>119&#45;&gt;120</title>\n<path fill=\"none\" stroke=\"#000000\" d=\"M6794.3173,-88.7428C6794.1454,-80.6222 6793.9596,-71.8426 6793.7833,-63.5093\"/>\n<polygon fill=\"#000000\" stroke=\"#000000\" points=\"6797.2776,-63.1995 6793.5667,-53.2759 6790.2792,-63.3477 6797.2776,-63.1995\"/>\n</g>\n<!-- 121 -->\n<g id=\"node122\" class=\"node\">\n<title>121</title>\n<path fill=\"#f2c09c\" stroke=\"#000000\" d=\"M6975,-53C6975,-53 6881,-53 6881,-53 6875,-53 6869,-47 6869,-41 6869,-41 6869,-12 6869,-12 6869,-6 6875,0 6881,0 6881,0 6975,0 6975,0 6981,0 6987,-6 6987,-12 6987,-12 6987,-41 6987,-41 6987,-47 6981,-53 6975,-53\"/>\n<text text-anchor=\"start\" x=\"6877\" y=\"-37.8\" font-family=\"Helvetica,sans-Serif\" font-size=\"14.00\" fill=\"#000000\">entropy = 0.918</text>\n<text text-anchor=\"start\" x=\"6888.5\" y=\"-22.8\" font-family=\"Helvetica,sans-Serif\" font-size=\"14.00\" fill=\"#000000\">samples = 3</text>\n<text text-anchor=\"start\" x=\"6886.5\" y=\"-7.8\" font-family=\"Helvetica,sans-Serif\" font-size=\"14.00\" fill=\"#000000\">value = [2, 1]</text>\n</g>\n<!-- 119&#45;&gt;121 -->\n<g id=\"edge121\" class=\"edge\">\n<title>119&#45;&gt;121</title>\n<path fill=\"none\" stroke=\"#000000\" d=\"M6840.3991,-88.7428C6853.8598,-79.1786 6868.6073,-68.7001 6882.0996,-59.1135\"/>\n<polygon fill=\"#000000\" stroke=\"#000000\" points=\"6884.1909,-61.9211 6890.3154,-53.2759 6880.1364,-56.2148 6884.1909,-61.9211\"/>\n</g>\n<!-- 124 -->\n<g id=\"node125\" class=\"node\">\n<title>124</title>\n<path fill=\"#e5833d\" stroke=\"#000000\" d=\"M7111,-253C7111,-253 7017,-253 7017,-253 7011,-253 7005,-247 7005,-241 7005,-241 7005,-201 7005,-201 7005,-195 7011,-189 7017,-189 7017,-189 7111,-189 7111,-189 7117,-189 7123,-195 7123,-201 7123,-201 7123,-241 7123,-241 7123,-247 7117,-253 7111,-253\"/>\n<text text-anchor=\"start\" x=\"7022.5\" y=\"-238.8\" font-family=\"Helvetica,sans-Serif\" font-size=\"14.00\" fill=\"#000000\">X</text>\n<text text-anchor=\"start\" x=\"7032.5\" y=\"-238.8\" font-family=\"Helvetica,sans-Serif\" baseline-shift=\"sub\" font-size=\"14.00\" fill=\"#000000\">429</text>\n<text text-anchor=\"start\" x=\"7053.5\" y=\"-238.8\" font-family=\"Helvetica,sans-Serif\" font-size=\"14.00\" fill=\"#000000\"> ≤ 0.008</text>\n<text text-anchor=\"start\" x=\"7013\" y=\"-224.8\" font-family=\"Helvetica,sans-Serif\" font-size=\"14.00\" fill=\"#000000\">entropy = 0.132</text>\n<text text-anchor=\"start\" x=\"7016\" y=\"-210.8\" font-family=\"Helvetica,sans-Serif\" font-size=\"14.00\" fill=\"#000000\">samples = 218</text>\n<text text-anchor=\"start\" x=\"7014\" y=\"-196.8\" font-family=\"Helvetica,sans-Serif\" font-size=\"14.00\" fill=\"#000000\">value = [214, 4]</text>\n</g>\n<!-- 123&#45;&gt;124 -->\n<g id=\"edge124\" class=\"edge\">\n<title>123&#45;&gt;124</title>\n<path fill=\"none\" stroke=\"#000000\" d=\"M7064.6781,-288.8089C7064.5969,-280.6906 7064.5085,-271.8517 7064.4232,-263.3186\"/>\n<polygon fill=\"#000000\" stroke=\"#000000\" points=\"7067.9212,-263.0952 7064.3213,-253.1308 7060.9216,-263.1653 7067.9212,-263.0952\"/>\n</g>\n<!-- 129 -->\n<g id=\"node130\" class=\"node\">\n<title>129</title>\n<path fill=\"#e58139\" stroke=\"#000000\" d=\"M7245,-247.5C7245,-247.5 7153,-247.5 7153,-247.5 7147,-247.5 7141,-241.5 7141,-235.5 7141,-235.5 7141,-206.5 7141,-206.5 7141,-200.5 7147,-194.5 7153,-194.5 7153,-194.5 7245,-194.5 7245,-194.5 7251,-194.5 7257,-200.5 7257,-206.5 7257,-206.5 7257,-235.5 7257,-235.5 7257,-241.5 7251,-247.5 7245,-247.5\"/>\n<text text-anchor=\"start\" x=\"7156.5\" y=\"-232.3\" font-family=\"Helvetica,sans-Serif\" font-size=\"14.00\" fill=\"#000000\">entropy = 0.0</text>\n<text text-anchor=\"start\" x=\"7151\" y=\"-217.3\" font-family=\"Helvetica,sans-Serif\" font-size=\"14.00\" fill=\"#000000\">samples = 460</text>\n<text text-anchor=\"start\" x=\"7149\" y=\"-202.3\" font-family=\"Helvetica,sans-Serif\" font-size=\"14.00\" fill=\"#000000\">value = [460, 0]</text>\n</g>\n<!-- 123&#45;&gt;129 -->\n<g id=\"edge129\" class=\"edge\">\n<title>123&#45;&gt;129</title>\n<path fill=\"none\" stroke=\"#000000\" d=\"M7108.136,-288.8089C7123.1126,-277.6324 7139.9191,-265.0902 7154.9672,-253.8603\"/>\n<polygon fill=\"#000000\" stroke=\"#000000\" points=\"7157.2024,-256.5594 7163.1235,-247.7735 7153.0158,-250.9494 7157.2024,-256.5594\"/>\n</g>\n<!-- 125 -->\n<g id=\"node126\" class=\"node\">\n<title>125</title>\n<path fill=\"#e78946\" stroke=\"#000000\" d=\"M7107,-153C7107,-153 7021,-153 7021,-153 7015,-153 7009,-147 7009,-141 7009,-141 7009,-101 7009,-101 7009,-95 7015,-89 7021,-89 7021,-89 7107,-89 7107,-89 7113,-89 7119,-95 7119,-101 7119,-101 7119,-141 7119,-141 7119,-147 7113,-153 7107,-153\"/>\n<text text-anchor=\"start\" x=\"7022.5\" y=\"-138.8\" font-family=\"Helvetica,sans-Serif\" font-size=\"14.00\" fill=\"#000000\">X</text>\n<text text-anchor=\"start\" x=\"7032.5\" y=\"-138.8\" font-family=\"Helvetica,sans-Serif\" baseline-shift=\"sub\" font-size=\"14.00\" fill=\"#000000\">521</text>\n<text text-anchor=\"start\" x=\"7053.5\" y=\"-138.8\" font-family=\"Helvetica,sans-Serif\" font-size=\"14.00\" fill=\"#000000\"> ≤ 0.143</text>\n<text text-anchor=\"start\" x=\"7017\" y=\"-124.8\" font-family=\"Helvetica,sans-Serif\" font-size=\"14.00\" fill=\"#000000\">entropy = 0.33</text>\n<text text-anchor=\"start\" x=\"7020\" y=\"-110.8\" font-family=\"Helvetica,sans-Serif\" font-size=\"14.00\" fill=\"#000000\">samples = 66</text>\n<text text-anchor=\"start\" x=\"7018.5\" y=\"-96.8\" font-family=\"Helvetica,sans-Serif\" font-size=\"14.00\" fill=\"#000000\">value = [62, 4]</text>\n</g>\n<!-- 124&#45;&gt;125 -->\n<g id=\"edge125\" class=\"edge\">\n<title>124&#45;&gt;125</title>\n<path fill=\"none\" stroke=\"#000000\" d=\"M7064,-188.8089C7064,-180.6906 7064,-171.8517 7064,-163.3186\"/>\n<polygon fill=\"#000000\" stroke=\"#000000\" points=\"7067.5001,-163.1307 7064,-153.1308 7060.5001,-163.1308 7067.5001,-163.1307\"/>\n</g>\n<!-- 128 -->\n<g id=\"node129\" class=\"node\">\n<title>128</title>\n<path fill=\"#e58139\" stroke=\"#000000\" d=\"M7241,-147.5C7241,-147.5 7149,-147.5 7149,-147.5 7143,-147.5 7137,-141.5 7137,-135.5 7137,-135.5 7137,-106.5 7137,-106.5 7137,-100.5 7143,-94.5 7149,-94.5 7149,-94.5 7241,-94.5 7241,-94.5 7247,-94.5 7253,-100.5 7253,-106.5 7253,-106.5 7253,-135.5 7253,-135.5 7253,-141.5 7247,-147.5 7241,-147.5\"/>\n<text text-anchor=\"start\" x=\"7152.5\" y=\"-132.3\" font-family=\"Helvetica,sans-Serif\" font-size=\"14.00\" fill=\"#000000\">entropy = 0.0</text>\n<text text-anchor=\"start\" x=\"7147\" y=\"-117.3\" font-family=\"Helvetica,sans-Serif\" font-size=\"14.00\" fill=\"#000000\">samples = 152</text>\n<text text-anchor=\"start\" x=\"7145\" y=\"-102.3\" font-family=\"Helvetica,sans-Serif\" font-size=\"14.00\" fill=\"#000000\">value = [152, 0]</text>\n</g>\n<!-- 124&#45;&gt;128 -->\n<g id=\"edge128\" class=\"edge\">\n<title>124&#45;&gt;128</title>\n<path fill=\"none\" stroke=\"#000000\" d=\"M7106.1703,-188.8089C7120.8116,-177.6324 7137.2418,-165.0902 7151.953,-153.8603\"/>\n<polygon fill=\"#000000\" stroke=\"#000000\" points=\"7154.1016,-156.6234 7159.9267,-147.7735 7149.8542,-151.0592 7154.1016,-156.6234\"/>\n</g>\n<!-- 126 -->\n<g id=\"node127\" class=\"node\">\n<title>126</title>\n<path fill=\"#eca572\" stroke=\"#000000\" d=\"M7111,-53C7111,-53 7017,-53 7017,-53 7011,-53 7005,-47 7005,-41 7005,-41 7005,-12 7005,-12 7005,-6 7011,0 7017,0 7017,0 7111,0 7111,0 7117,0 7123,-6 7123,-12 7123,-12 7123,-41 7123,-41 7123,-47 7117,-53 7111,-53\"/>\n<text text-anchor=\"start\" x=\"7013\" y=\"-37.8\" font-family=\"Helvetica,sans-Serif\" font-size=\"14.00\" fill=\"#000000\">entropy = 0.764</text>\n<text text-anchor=\"start\" x=\"7020\" y=\"-22.8\" font-family=\"Helvetica,sans-Serif\" font-size=\"14.00\" fill=\"#000000\">samples = 18</text>\n<text text-anchor=\"start\" x=\"7018.5\" y=\"-7.8\" font-family=\"Helvetica,sans-Serif\" font-size=\"14.00\" fill=\"#000000\">value = [14, 4]</text>\n</g>\n<!-- 125&#45;&gt;126 -->\n<g id=\"edge126\" class=\"edge\">\n<title>125&#45;&gt;126</title>\n<path fill=\"none\" stroke=\"#000000\" d=\"M7064,-88.7428C7064,-80.6222 7064,-71.8426 7064,-63.5093\"/>\n<polygon fill=\"#000000\" stroke=\"#000000\" points=\"7067.5001,-63.2758 7064,-53.2759 7060.5001,-63.2759 7067.5001,-63.2758\"/>\n</g>\n<!-- 127 -->\n<g id=\"node128\" class=\"node\">\n<title>127</title>\n<path fill=\"#e58139\" stroke=\"#000000\" d=\"M7236.5,-53C7236.5,-53 7153.5,-53 7153.5,-53 7147.5,-53 7141.5,-47 7141.5,-41 7141.5,-41 7141.5,-12 7141.5,-12 7141.5,-6 7147.5,0 7153.5,0 7153.5,0 7236.5,0 7236.5,0 7242.5,0 7248.5,-6 7248.5,-12 7248.5,-12 7248.5,-41 7248.5,-41 7248.5,-47 7242.5,-53 7236.5,-53\"/>\n<text text-anchor=\"start\" x=\"7152.5\" y=\"-37.8\" font-family=\"Helvetica,sans-Serif\" font-size=\"14.00\" fill=\"#000000\">entropy = 0.0</text>\n<text text-anchor=\"start\" x=\"7151\" y=\"-22.8\" font-family=\"Helvetica,sans-Serif\" font-size=\"14.00\" fill=\"#000000\">samples = 48</text>\n<text text-anchor=\"start\" x=\"7149.5\" y=\"-7.8\" font-family=\"Helvetica,sans-Serif\" font-size=\"14.00\" fill=\"#000000\">value = [48, 0]</text>\n</g>\n<!-- 125&#45;&gt;127 -->\n<g id=\"edge127\" class=\"edge\">\n<title>125&#45;&gt;127</title>\n<path fill=\"none\" stroke=\"#000000\" d=\"M7108.7164,-88.7428C7121.8496,-79.2688 7136.2265,-68.8977 7149.4134,-59.385\"/>\n<polygon fill=\"#000000\" stroke=\"#000000\" points=\"7151.8197,-61.9648 7157.8821,-53.2759 7147.7244,-56.2878 7151.8197,-61.9648\"/>\n</g>\n<!-- 131 -->\n<g id=\"node132\" class=\"node\">\n<title>131</title>\n<path fill=\"#e58139\" stroke=\"#000000\" d=\"M7257,-347.5C7257,-347.5 7157,-347.5 7157,-347.5 7151,-347.5 7145,-341.5 7145,-335.5 7145,-335.5 7145,-306.5 7145,-306.5 7145,-300.5 7151,-294.5 7157,-294.5 7157,-294.5 7257,-294.5 7257,-294.5 7263,-294.5 7269,-300.5 7269,-306.5 7269,-306.5 7269,-335.5 7269,-335.5 7269,-341.5 7263,-347.5 7257,-347.5\"/>\n<text text-anchor=\"start\" x=\"7164.5\" y=\"-332.3\" font-family=\"Helvetica,sans-Serif\" font-size=\"14.00\" fill=\"#000000\">entropy = 0.0</text>\n<text text-anchor=\"start\" x=\"7155\" y=\"-317.3\" font-family=\"Helvetica,sans-Serif\" font-size=\"14.00\" fill=\"#000000\">samples = 1194</text>\n<text text-anchor=\"start\" x=\"7153\" y=\"-302.3\" font-family=\"Helvetica,sans-Serif\" font-size=\"14.00\" fill=\"#000000\">value = [1194, 0]</text>\n</g>\n<!-- 130&#45;&gt;131 -->\n<g id=\"edge131\" class=\"edge\">\n<title>130&#45;&gt;131</title>\n<path fill=\"none\" stroke=\"#000000\" d=\"M7208.3562,-388.8089C7208.1596,-378.9777 7207.9418,-368.0898 7207.7394,-357.9679\"/>\n<polygon fill=\"#000000\" stroke=\"#000000\" points=\"7211.2348,-357.7015 7207.5355,-347.7735 7204.2362,-357.8415 7211.2348,-357.7015\"/>\n</g>\n<!-- 132 -->\n<g id=\"node133\" class=\"node\">\n<title>132</title>\n<path fill=\"#e5823a\" stroke=\"#000000\" d=\"M7393,-353C7393,-353 7299,-353 7299,-353 7293,-353 7287,-347 7287,-341 7287,-341 7287,-301 7287,-301 7287,-295 7293,-289 7299,-289 7299,-289 7393,-289 7393,-289 7399,-289 7405,-295 7405,-301 7405,-301 7405,-341 7405,-341 7405,-347 7399,-353 7393,-353\"/>\n<text text-anchor=\"start\" x=\"7304.5\" y=\"-338.8\" font-family=\"Helvetica,sans-Serif\" font-size=\"14.00\" fill=\"#000000\">X</text>\n<text text-anchor=\"start\" x=\"7314.5\" y=\"-338.8\" font-family=\"Helvetica,sans-Serif\" baseline-shift=\"sub\" font-size=\"14.00\" fill=\"#000000\">380</text>\n<text text-anchor=\"start\" x=\"7335.5\" y=\"-338.8\" font-family=\"Helvetica,sans-Serif\" font-size=\"14.00\" fill=\"#000000\"> ≤ 0.002</text>\n<text text-anchor=\"start\" x=\"7295\" y=\"-324.8\" font-family=\"Helvetica,sans-Serif\" font-size=\"14.00\" fill=\"#000000\">entropy = 0.042</text>\n<text text-anchor=\"start\" x=\"7298\" y=\"-310.8\" font-family=\"Helvetica,sans-Serif\" font-size=\"14.00\" fill=\"#000000\">samples = 218</text>\n<text text-anchor=\"start\" x=\"7296\" y=\"-296.8\" font-family=\"Helvetica,sans-Serif\" font-size=\"14.00\" fill=\"#000000\">value = [217, 1]</text>\n</g>\n<!-- 130&#45;&gt;132 -->\n<g id=\"edge132\" class=\"edge\">\n<title>130&#45;&gt;132</title>\n<path fill=\"none\" stroke=\"#000000\" d=\"M7253.1018,-388.8089C7266.0572,-379.3524 7280.352,-368.9182 7293.764,-359.1285\"/>\n<polygon fill=\"#000000\" stroke=\"#000000\" points=\"7295.9672,-361.8535 7301.9809,-353.1308 7291.8402,-356.1995 7295.9672,-361.8535\"/>\n</g>\n<!-- 133 -->\n<g id=\"node134\" class=\"node\">\n<title>133</title>\n<path fill=\"#e78946\" stroke=\"#000000\" d=\"M7381,-253C7381,-253 7287,-253 7287,-253 7281,-253 7275,-247 7275,-241 7275,-241 7275,-201 7275,-201 7275,-195 7281,-189 7287,-189 7287,-189 7381,-189 7381,-189 7387,-189 7393,-195 7393,-201 7393,-201 7393,-241 7393,-241 7393,-247 7387,-253 7381,-253\"/>\n<text text-anchor=\"start\" x=\"7292.5\" y=\"-238.8\" font-family=\"Helvetica,sans-Serif\" font-size=\"14.00\" fill=\"#000000\">X</text>\n<text text-anchor=\"start\" x=\"7302.5\" y=\"-238.8\" font-family=\"Helvetica,sans-Serif\" baseline-shift=\"sub\" font-size=\"14.00\" fill=\"#000000\">440</text>\n<text text-anchor=\"start\" x=\"7323.5\" y=\"-238.8\" font-family=\"Helvetica,sans-Serif\" font-size=\"14.00\" fill=\"#000000\"> ≤ 0.222</text>\n<text text-anchor=\"start\" x=\"7283\" y=\"-224.8\" font-family=\"Helvetica,sans-Serif\" font-size=\"14.00\" fill=\"#000000\">entropy = 0.337</text>\n<text text-anchor=\"start\" x=\"7290\" y=\"-210.8\" font-family=\"Helvetica,sans-Serif\" font-size=\"14.00\" fill=\"#000000\">samples = 16</text>\n<text text-anchor=\"start\" x=\"7288.5\" y=\"-196.8\" font-family=\"Helvetica,sans-Serif\" font-size=\"14.00\" fill=\"#000000\">value = [15, 1]</text>\n</g>\n<!-- 132&#45;&gt;133 -->\n<g id=\"edge133\" class=\"edge\">\n<title>132&#45;&gt;133</title>\n<path fill=\"none\" stroke=\"#000000\" d=\"M7342.1371,-288.8089C7341.1629,-280.6906 7340.1022,-271.8517 7339.0782,-263.3186\"/>\n<polygon fill=\"#000000\" stroke=\"#000000\" points=\"7342.5223,-262.6425 7337.8557,-253.1308 7335.5722,-263.4766 7342.5223,-262.6425\"/>\n</g>\n<!-- 136 -->\n<g id=\"node137\" class=\"node\">\n<title>136</title>\n<path fill=\"#e58139\" stroke=\"#000000\" d=\"M7515,-247.5C7515,-247.5 7423,-247.5 7423,-247.5 7417,-247.5 7411,-241.5 7411,-235.5 7411,-235.5 7411,-206.5 7411,-206.5 7411,-200.5 7417,-194.5 7423,-194.5 7423,-194.5 7515,-194.5 7515,-194.5 7521,-194.5 7527,-200.5 7527,-206.5 7527,-206.5 7527,-235.5 7527,-235.5 7527,-241.5 7521,-247.5 7515,-247.5\"/>\n<text text-anchor=\"start\" x=\"7426.5\" y=\"-232.3\" font-family=\"Helvetica,sans-Serif\" font-size=\"14.00\" fill=\"#000000\">entropy = 0.0</text>\n<text text-anchor=\"start\" x=\"7421\" y=\"-217.3\" font-family=\"Helvetica,sans-Serif\" font-size=\"14.00\" fill=\"#000000\">samples = 202</text>\n<text text-anchor=\"start\" x=\"7419\" y=\"-202.3\" font-family=\"Helvetica,sans-Serif\" font-size=\"14.00\" fill=\"#000000\">value = [202, 0]</text>\n</g>\n<!-- 132&#45;&gt;136 -->\n<g id=\"edge136\" class=\"edge\">\n<title>132&#45;&gt;136</title>\n<path fill=\"none\" stroke=\"#000000\" d=\"M7385.595,-288.8089C7399.2149,-277.7359 7414.4835,-265.3223 7428.1977,-254.1726\"/>\n<polygon fill=\"#000000\" stroke=\"#000000\" points=\"7430.5173,-256.7976 7436.0686,-247.7735 7426.1014,-251.3661 7430.5173,-256.7976\"/>\n</g>\n<!-- 134 -->\n<g id=\"node135\" class=\"node\">\n<title>134</title>\n<path fill=\"#399de5\" stroke=\"#000000\" d=\"M7366.5,-147.5C7366.5,-147.5 7289.5,-147.5 7289.5,-147.5 7283.5,-147.5 7277.5,-141.5 7277.5,-135.5 7277.5,-135.5 7277.5,-106.5 7277.5,-106.5 7277.5,-100.5 7283.5,-94.5 7289.5,-94.5 7289.5,-94.5 7366.5,-94.5 7366.5,-94.5 7372.5,-94.5 7378.5,-100.5 7378.5,-106.5 7378.5,-106.5 7378.5,-135.5 7378.5,-135.5 7378.5,-141.5 7372.5,-147.5 7366.5,-147.5\"/>\n<text text-anchor=\"start\" x=\"7285.5\" y=\"-132.3\" font-family=\"Helvetica,sans-Serif\" font-size=\"14.00\" fill=\"#000000\">entropy = 0.0</text>\n<text text-anchor=\"start\" x=\"7288.5\" y=\"-117.3\" font-family=\"Helvetica,sans-Serif\" font-size=\"14.00\" fill=\"#000000\">samples = 1</text>\n<text text-anchor=\"start\" x=\"7286.5\" y=\"-102.3\" font-family=\"Helvetica,sans-Serif\" font-size=\"14.00\" fill=\"#000000\">value = [0, 1]</text>\n</g>\n<!-- 133&#45;&gt;134 -->\n<g id=\"edge134\" class=\"edge\">\n<title>133&#45;&gt;134</title>\n<path fill=\"none\" stroke=\"#000000\" d=\"M7332.0685,-188.8089C7331.4787,-178.9777 7330.8254,-168.0898 7330.2181,-157.9679\"/>\n<polygon fill=\"#000000\" stroke=\"#000000\" points=\"7333.6991,-157.5459 7329.6064,-147.7735 7326.7117,-157.9652 7333.6991,-157.5459\"/>\n</g>\n<!-- 135 -->\n<g id=\"node136\" class=\"node\">\n<title>135</title>\n<path fill=\"#e58139\" stroke=\"#000000\" d=\"M7491.5,-147.5C7491.5,-147.5 7408.5,-147.5 7408.5,-147.5 7402.5,-147.5 7396.5,-141.5 7396.5,-135.5 7396.5,-135.5 7396.5,-106.5 7396.5,-106.5 7396.5,-100.5 7402.5,-94.5 7408.5,-94.5 7408.5,-94.5 7491.5,-94.5 7491.5,-94.5 7497.5,-94.5 7503.5,-100.5 7503.5,-106.5 7503.5,-106.5 7503.5,-135.5 7503.5,-135.5 7503.5,-141.5 7497.5,-147.5 7491.5,-147.5\"/>\n<text text-anchor=\"start\" x=\"7407.5\" y=\"-132.3\" font-family=\"Helvetica,sans-Serif\" font-size=\"14.00\" fill=\"#000000\">entropy = 0.0</text>\n<text text-anchor=\"start\" x=\"7406\" y=\"-117.3\" font-family=\"Helvetica,sans-Serif\" font-size=\"14.00\" fill=\"#000000\">samples = 15</text>\n<text text-anchor=\"start\" x=\"7404.5\" y=\"-102.3\" font-family=\"Helvetica,sans-Serif\" font-size=\"14.00\" fill=\"#000000\">value = [15, 0]</text>\n</g>\n<!-- 133&#45;&gt;135 -->\n<g id=\"edge135\" class=\"edge\">\n<title>133&#45;&gt;135</title>\n<path fill=\"none\" stroke=\"#000000\" d=\"M7371.3416,-188.8089C7384.0664,-177.8393 7398.3171,-165.5543 7411.1568,-154.4855\"/>\n<polygon fill=\"#000000\" stroke=\"#000000\" points=\"7413.6539,-156.9539 7418.9427,-147.7735 7409.0833,-151.652 7413.6539,-156.9539\"/>\n</g>\n<!-- 138 -->\n<g id=\"node139\" class=\"node\">\n<title>138</title>\n<path fill=\"#e58139\" stroke=\"#000000\" d=\"M7402,-447.5C7402,-447.5 7302,-447.5 7302,-447.5 7296,-447.5 7290,-441.5 7290,-435.5 7290,-435.5 7290,-406.5 7290,-406.5 7290,-400.5 7296,-394.5 7302,-394.5 7302,-394.5 7402,-394.5 7402,-394.5 7408,-394.5 7414,-400.5 7414,-406.5 7414,-406.5 7414,-435.5 7414,-435.5 7414,-441.5 7408,-447.5 7402,-447.5\"/>\n<text text-anchor=\"start\" x=\"7309.5\" y=\"-432.3\" font-family=\"Helvetica,sans-Serif\" font-size=\"14.00\" fill=\"#000000\">entropy = 0.0</text>\n<text text-anchor=\"start\" x=\"7300\" y=\"-417.3\" font-family=\"Helvetica,sans-Serif\" font-size=\"14.00\" fill=\"#000000\">samples = 5835</text>\n<text text-anchor=\"start\" x=\"7298\" y=\"-402.3\" font-family=\"Helvetica,sans-Serif\" font-size=\"14.00\" fill=\"#000000\">value = [5835, 0]</text>\n</g>\n<!-- 137&#45;&gt;138 -->\n<g id=\"edge138\" class=\"edge\">\n<title>137&#45;&gt;138</title>\n<path fill=\"none\" stroke=\"#000000\" d=\"M7353.3562,-488.8089C7353.1596,-478.9777 7352.9418,-468.0898 7352.7394,-457.9679\"/>\n<polygon fill=\"#000000\" stroke=\"#000000\" points=\"7356.2348,-457.7015 7352.5355,-447.7735 7349.2362,-457.8415 7356.2348,-457.7015\"/>\n</g>\n<!-- 139 -->\n<g id=\"node140\" class=\"node\">\n<title>139</title>\n<path fill=\"#e58139\" stroke=\"#000000\" d=\"M7544,-453C7544,-453 7444,-453 7444,-453 7438,-453 7432,-447 7432,-441 7432,-441 7432,-401 7432,-401 7432,-395 7438,-389 7444,-389 7444,-389 7544,-389 7544,-389 7550,-389 7556,-395 7556,-401 7556,-401 7556,-441 7556,-441 7556,-447 7550,-453 7544,-453\"/>\n<text text-anchor=\"start\" x=\"7452.5\" y=\"-438.8\" font-family=\"Helvetica,sans-Serif\" font-size=\"14.00\" fill=\"#000000\">X</text>\n<text text-anchor=\"start\" x=\"7462.5\" y=\"-438.8\" font-family=\"Helvetica,sans-Serif\" baseline-shift=\"sub\" font-size=\"14.00\" fill=\"#000000\">291</text>\n<text text-anchor=\"start\" x=\"7483.5\" y=\"-438.8\" font-family=\"Helvetica,sans-Serif\" font-size=\"14.00\" fill=\"#000000\"> ≤ 0.325</text>\n<text text-anchor=\"start\" x=\"7447\" y=\"-424.8\" font-family=\"Helvetica,sans-Serif\" font-size=\"14.00\" fill=\"#000000\">entropy = 0.02</text>\n<text text-anchor=\"start\" x=\"7442\" y=\"-410.8\" font-family=\"Helvetica,sans-Serif\" font-size=\"14.00\" fill=\"#000000\">samples = 1570</text>\n<text text-anchor=\"start\" x=\"7440\" y=\"-396.8\" font-family=\"Helvetica,sans-Serif\" font-size=\"14.00\" fill=\"#000000\">value = [1567, 3]</text>\n</g>\n<!-- 137&#45;&gt;139 -->\n<g id=\"edge139\" class=\"edge\">\n<title>137&#45;&gt;139</title>\n<path fill=\"none\" stroke=\"#000000\" d=\"M7399.0675,-488.8089C7412.3067,-479.3524 7426.9145,-468.9182 7440.6201,-459.1285\"/>\n<polygon fill=\"#000000\" stroke=\"#000000\" points=\"7442.9139,-461.7913 7449.0169,-453.1308 7438.8452,-456.0951 7442.9139,-461.7913\"/>\n</g>\n<!-- 140 -->\n<g id=\"node141\" class=\"node\">\n<title>140</title>\n<path fill=\"#e58139\" stroke=\"#000000\" d=\"M7539,-347.5C7539,-347.5 7439,-347.5 7439,-347.5 7433,-347.5 7427,-341.5 7427,-335.5 7427,-335.5 7427,-306.5 7427,-306.5 7427,-300.5 7433,-294.5 7439,-294.5 7439,-294.5 7539,-294.5 7539,-294.5 7545,-294.5 7551,-300.5 7551,-306.5 7551,-306.5 7551,-335.5 7551,-335.5 7551,-341.5 7545,-347.5 7539,-347.5\"/>\n<text text-anchor=\"start\" x=\"7446.5\" y=\"-332.3\" font-family=\"Helvetica,sans-Serif\" font-size=\"14.00\" fill=\"#000000\">entropy = 0.0</text>\n<text text-anchor=\"start\" x=\"7437\" y=\"-317.3\" font-family=\"Helvetica,sans-Serif\" font-size=\"14.00\" fill=\"#000000\">samples = 1515</text>\n<text text-anchor=\"start\" x=\"7435\" y=\"-302.3\" font-family=\"Helvetica,sans-Serif\" font-size=\"14.00\" fill=\"#000000\">value = [1515, 0]</text>\n</g>\n<!-- 139&#45;&gt;140 -->\n<g id=\"edge140\" class=\"edge\">\n<title>139&#45;&gt;140</title>\n<path fill=\"none\" stroke=\"#000000\" d=\"M7492.3904,-388.8089C7491.8989,-378.9777 7491.3545,-368.0898 7490.8484,-357.9679\"/>\n<polygon fill=\"#000000\" stroke=\"#000000\" points=\"7494.3338,-357.5862 7490.3387,-347.7735 7487.3425,-357.9359 7494.3338,-357.5862\"/>\n</g>\n<!-- 141 -->\n<g id=\"node142\" class=\"node\">\n<title>141</title>\n<path fill=\"#e68844\" stroke=\"#000000\" d=\"M7675,-353C7675,-353 7581,-353 7581,-353 7575,-353 7569,-347 7569,-341 7569,-341 7569,-301 7569,-301 7569,-295 7575,-289 7581,-289 7581,-289 7675,-289 7675,-289 7681,-289 7687,-295 7687,-301 7687,-301 7687,-341 7687,-341 7687,-347 7681,-353 7675,-353\"/>\n<text text-anchor=\"start\" x=\"7586.5\" y=\"-338.8\" font-family=\"Helvetica,sans-Serif\" font-size=\"14.00\" fill=\"#000000\">X</text>\n<text text-anchor=\"start\" x=\"7596.5\" y=\"-338.8\" font-family=\"Helvetica,sans-Serif\" baseline-shift=\"sub\" font-size=\"14.00\" fill=\"#000000\">545</text>\n<text text-anchor=\"start\" x=\"7617.5\" y=\"-338.8\" font-family=\"Helvetica,sans-Serif\" font-size=\"14.00\" fill=\"#000000\"> ≤ 0.898</text>\n<text text-anchor=\"start\" x=\"7577\" y=\"-324.8\" font-family=\"Helvetica,sans-Serif\" font-size=\"14.00\" fill=\"#000000\">entropy = 0.305</text>\n<text text-anchor=\"start\" x=\"7584\" y=\"-310.8\" font-family=\"Helvetica,sans-Serif\" font-size=\"14.00\" fill=\"#000000\">samples = 55</text>\n<text text-anchor=\"start\" x=\"7582.5\" y=\"-296.8\" font-family=\"Helvetica,sans-Serif\" font-size=\"14.00\" fill=\"#000000\">value = [52, 3]</text>\n</g>\n<!-- 139&#45;&gt;141 -->\n<g id=\"edge141\" class=\"edge\">\n<title>139&#45;&gt;141</title>\n<path fill=\"none\" stroke=\"#000000\" d=\"M7537.136,-388.8089C7549.8078,-379.3524 7563.7896,-368.9182 7576.9078,-359.1285\"/>\n<polygon fill=\"#000000\" stroke=\"#000000\" points=\"7579.0237,-361.9167 7584.9448,-353.1308 7574.8371,-356.3066 7579.0237,-361.9167\"/>\n</g>\n<!-- 142 -->\n<g id=\"node143\" class=\"node\">\n<title>142</title>\n<path fill=\"#e58139\" stroke=\"#000000\" d=\"M7640.5,-247.5C7640.5,-247.5 7557.5,-247.5 7557.5,-247.5 7551.5,-247.5 7545.5,-241.5 7545.5,-235.5 7545.5,-235.5 7545.5,-206.5 7545.5,-206.5 7545.5,-200.5 7551.5,-194.5 7557.5,-194.5 7557.5,-194.5 7640.5,-194.5 7640.5,-194.5 7646.5,-194.5 7652.5,-200.5 7652.5,-206.5 7652.5,-206.5 7652.5,-235.5 7652.5,-235.5 7652.5,-241.5 7646.5,-247.5 7640.5,-247.5\"/>\n<text text-anchor=\"start\" x=\"7556.5\" y=\"-232.3\" font-family=\"Helvetica,sans-Serif\" font-size=\"14.00\" fill=\"#000000\">entropy = 0.0</text>\n<text text-anchor=\"start\" x=\"7555\" y=\"-217.3\" font-family=\"Helvetica,sans-Serif\" font-size=\"14.00\" fill=\"#000000\">samples = 41</text>\n<text text-anchor=\"start\" x=\"7553.5\" y=\"-202.3\" font-family=\"Helvetica,sans-Serif\" font-size=\"14.00\" fill=\"#000000\">value = [41, 0]</text>\n</g>\n<!-- 141&#45;&gt;142 -->\n<g id=\"edge142\" class=\"edge\">\n<title>141&#45;&gt;142</title>\n<path fill=\"none\" stroke=\"#000000\" d=\"M7618.6646,-288.8089C7615.7835,-278.8742 7612.5895,-267.8605 7609.6281,-257.6485\"/>\n<polygon fill=\"#000000\" stroke=\"#000000\" points=\"7612.9111,-256.403 7606.7643,-247.7735 7606.1881,-258.3527 7612.9111,-256.403\"/>\n</g>\n<!-- 143 -->\n<g id=\"node144\" class=\"node\">\n<title>143</title>\n<path fill=\"#eca36f\" stroke=\"#000000\" d=\"M7769,-253C7769,-253 7683,-253 7683,-253 7677,-253 7671,-247 7671,-241 7671,-241 7671,-201 7671,-201 7671,-195 7677,-189 7683,-189 7683,-189 7769,-189 7769,-189 7775,-189 7781,-195 7781,-201 7781,-201 7781,-241 7781,-241 7781,-247 7775,-253 7769,-253\"/>\n<text text-anchor=\"start\" x=\"7684.5\" y=\"-238.8\" font-family=\"Helvetica,sans-Serif\" font-size=\"14.00\" fill=\"#000000\">X</text>\n<text text-anchor=\"start\" x=\"7694.5\" y=\"-238.8\" font-family=\"Helvetica,sans-Serif\" baseline-shift=\"sub\" font-size=\"14.00\" fill=\"#000000\">466</text>\n<text text-anchor=\"start\" x=\"7715.5\" y=\"-238.8\" font-family=\"Helvetica,sans-Serif\" font-size=\"14.00\" fill=\"#000000\"> ≤ 0.839</text>\n<text text-anchor=\"start\" x=\"7679\" y=\"-224.8\" font-family=\"Helvetica,sans-Serif\" font-size=\"14.00\" fill=\"#000000\">entropy = 0.75</text>\n<text text-anchor=\"start\" x=\"7682\" y=\"-210.8\" font-family=\"Helvetica,sans-Serif\" font-size=\"14.00\" fill=\"#000000\">samples = 14</text>\n<text text-anchor=\"start\" x=\"7680.5\" y=\"-196.8\" font-family=\"Helvetica,sans-Serif\" font-size=\"14.00\" fill=\"#000000\">value = [11, 3]</text>\n</g>\n<!-- 141&#45;&gt;143 -->\n<g id=\"edge143\" class=\"edge\">\n<title>141&#45;&gt;143</title>\n<path fill=\"none\" stroke=\"#000000\" d=\"M7659.5473,-288.8089C7668.3775,-279.7985 7678.0776,-269.9004 7687.2724,-260.518\"/>\n<polygon fill=\"#000000\" stroke=\"#000000\" points=\"7690.0123,-262.7227 7694.5119,-253.1308 7685.0128,-257.8232 7690.0123,-262.7227\"/>\n</g>\n<!-- 144 -->\n<g id=\"node145\" class=\"node\">\n<title>144</title>\n<path fill=\"#7bbeee\" stroke=\"#000000\" d=\"M7640,-153C7640,-153 7546,-153 7546,-153 7540,-153 7534,-147 7534,-141 7534,-141 7534,-101 7534,-101 7534,-95 7540,-89 7546,-89 7546,-89 7640,-89 7640,-89 7646,-89 7652,-95 7652,-101 7652,-101 7652,-141 7652,-141 7652,-147 7646,-153 7640,-153\"/>\n<text text-anchor=\"start\" x=\"7551.5\" y=\"-138.8\" font-family=\"Helvetica,sans-Serif\" font-size=\"14.00\" fill=\"#000000\">X</text>\n<text text-anchor=\"start\" x=\"7561.5\" y=\"-138.8\" font-family=\"Helvetica,sans-Serif\" baseline-shift=\"sub\" font-size=\"14.00\" fill=\"#000000\">127</text>\n<text text-anchor=\"start\" x=\"7582.5\" y=\"-138.8\" font-family=\"Helvetica,sans-Serif\" font-size=\"14.00\" fill=\"#000000\"> ≤ 0.882</text>\n<text text-anchor=\"start\" x=\"7542\" y=\"-124.8\" font-family=\"Helvetica,sans-Serif\" font-size=\"14.00\" fill=\"#000000\">entropy = 0.811</text>\n<text text-anchor=\"start\" x=\"7553.5\" y=\"-110.8\" font-family=\"Helvetica,sans-Serif\" font-size=\"14.00\" fill=\"#000000\">samples = 4</text>\n<text text-anchor=\"start\" x=\"7551.5\" y=\"-96.8\" font-family=\"Helvetica,sans-Serif\" font-size=\"14.00\" fill=\"#000000\">value = [1, 3]</text>\n</g>\n<!-- 143&#45;&gt;144 -->\n<g id=\"edge144\" class=\"edge\">\n<title>143&#45;&gt;144</title>\n<path fill=\"none\" stroke=\"#000000\" d=\"M7683.1859,-188.8089C7670.7273,-179.4416 7656.993,-169.115 7644.0796,-159.4057\"/>\n<polygon fill=\"#000000\" stroke=\"#000000\" points=\"7645.8301,-156.3429 7635.7339,-153.1308 7641.6233,-161.9379 7645.8301,-156.3429\"/>\n</g>\n<!-- 147 -->\n<g id=\"node148\" class=\"node\">\n<title>147</title>\n<path fill=\"#e58139\" stroke=\"#000000\" d=\"M7767.5,-147.5C7767.5,-147.5 7684.5,-147.5 7684.5,-147.5 7678.5,-147.5 7672.5,-141.5 7672.5,-135.5 7672.5,-135.5 7672.5,-106.5 7672.5,-106.5 7672.5,-100.5 7678.5,-94.5 7684.5,-94.5 7684.5,-94.5 7767.5,-94.5 7767.5,-94.5 7773.5,-94.5 7779.5,-100.5 7779.5,-106.5 7779.5,-106.5 7779.5,-135.5 7779.5,-135.5 7779.5,-141.5 7773.5,-147.5 7767.5,-147.5\"/>\n<text text-anchor=\"start\" x=\"7683.5\" y=\"-132.3\" font-family=\"Helvetica,sans-Serif\" font-size=\"14.00\" fill=\"#000000\">entropy = 0.0</text>\n<text text-anchor=\"start\" x=\"7682\" y=\"-117.3\" font-family=\"Helvetica,sans-Serif\" font-size=\"14.00\" fill=\"#000000\">samples = 10</text>\n<text text-anchor=\"start\" x=\"7680.5\" y=\"-102.3\" font-family=\"Helvetica,sans-Serif\" font-size=\"14.00\" fill=\"#000000\">value = [10, 0]</text>\n</g>\n<!-- 143&#45;&gt;147 -->\n<g id=\"edge147\" class=\"edge\">\n<title>143&#45;&gt;147</title>\n<path fill=\"none\" stroke=\"#000000\" d=\"M7726,-188.8089C7726,-178.9777 7726,-168.0898 7726,-157.9679\"/>\n<polygon fill=\"#000000\" stroke=\"#000000\" points=\"7729.5001,-157.7735 7726,-147.7735 7722.5001,-157.7736 7729.5001,-157.7735\"/>\n</g>\n<!-- 145 -->\n<g id=\"node146\" class=\"node\">\n<title>145</title>\n<path fill=\"#399de5\" stroke=\"#000000\" d=\"M7512.5,-53C7512.5,-53 7435.5,-53 7435.5,-53 7429.5,-53 7423.5,-47 7423.5,-41 7423.5,-41 7423.5,-12 7423.5,-12 7423.5,-6 7429.5,0 7435.5,0 7435.5,0 7512.5,0 7512.5,0 7518.5,0 7524.5,-6 7524.5,-12 7524.5,-12 7524.5,-41 7524.5,-41 7524.5,-47 7518.5,-53 7512.5,-53\"/>\n<text text-anchor=\"start\" x=\"7431.5\" y=\"-37.8\" font-family=\"Helvetica,sans-Serif\" font-size=\"14.00\" fill=\"#000000\">entropy = 0.0</text>\n<text text-anchor=\"start\" x=\"7434.5\" y=\"-22.8\" font-family=\"Helvetica,sans-Serif\" font-size=\"14.00\" fill=\"#000000\">samples = 3</text>\n<text text-anchor=\"start\" x=\"7432.5\" y=\"-7.8\" font-family=\"Helvetica,sans-Serif\" font-size=\"14.00\" fill=\"#000000\">value = [0, 3]</text>\n</g>\n<!-- 144&#45;&gt;145 -->\n<g id=\"edge145\" class=\"edge\">\n<title>144&#45;&gt;145</title>\n<path fill=\"none\" stroke=\"#000000\" d=\"M7552.3798,-88.7428C7540.5632,-79.359 7527.6383,-69.0952 7515.7533,-59.657\"/>\n<polygon fill=\"#000000\" stroke=\"#000000\" points=\"7517.7255,-56.7538 7507.7178,-53.2759 7513.3723,-62.2356 7517.7255,-56.7538\"/>\n</g>\n<!-- 146 -->\n<g id=\"node147\" class=\"node\">\n<title>146</title>\n<path fill=\"#e58139\" stroke=\"#000000\" d=\"M7631.5,-53C7631.5,-53 7554.5,-53 7554.5,-53 7548.5,-53 7542.5,-47 7542.5,-41 7542.5,-41 7542.5,-12 7542.5,-12 7542.5,-6 7548.5,0 7554.5,0 7554.5,0 7631.5,0 7631.5,0 7637.5,0 7643.5,-6 7643.5,-12 7643.5,-12 7643.5,-41 7643.5,-41 7643.5,-47 7637.5,-53 7631.5,-53\"/>\n<text text-anchor=\"start\" x=\"7550.5\" y=\"-37.8\" font-family=\"Helvetica,sans-Serif\" font-size=\"14.00\" fill=\"#000000\">entropy = 0.0</text>\n<text text-anchor=\"start\" x=\"7553.5\" y=\"-22.8\" font-family=\"Helvetica,sans-Serif\" font-size=\"14.00\" fill=\"#000000\">samples = 1</text>\n<text text-anchor=\"start\" x=\"7551.5\" y=\"-7.8\" font-family=\"Helvetica,sans-Serif\" font-size=\"14.00\" fill=\"#000000\">value = [1, 0]</text>\n</g>\n<!-- 144&#45;&gt;146 -->\n<g id=\"edge146\" class=\"edge\">\n<title>144&#45;&gt;146</title>\n<path fill=\"none\" stroke=\"#000000\" d=\"M7593,-88.7428C7593,-80.6222 7593,-71.8426 7593,-63.5093\"/>\n<polygon fill=\"#000000\" stroke=\"#000000\" points=\"7596.5001,-63.2758 7593,-53.2759 7589.5001,-63.2759 7596.5001,-63.2758\"/>\n</g>\n<!-- 149 -->\n<g id=\"node150\" class=\"node\">\n<title>149</title>\n<path fill=\"#e5823b\" stroke=\"#000000\" d=\"M9126.5,-653C9126.5,-653 9001.5,-653 9001.5,-653 8995.5,-653 8989.5,-647 8989.5,-641 8989.5,-641 8989.5,-601 8989.5,-601 8989.5,-595 8995.5,-589 9001.5,-589 9001.5,-589 9126.5,-589 9126.5,-589 9132.5,-589 9138.5,-595 9138.5,-601 9138.5,-601 9138.5,-641 9138.5,-641 9138.5,-647 9132.5,-653 9126.5,-653\"/>\n<text text-anchor=\"start\" x=\"9022.5\" y=\"-638.8\" font-family=\"Helvetica,sans-Serif\" font-size=\"14.00\" fill=\"#000000\">X</text>\n<text text-anchor=\"start\" x=\"9032.5\" y=\"-638.8\" font-family=\"Helvetica,sans-Serif\" baseline-shift=\"sub\" font-size=\"14.00\" fill=\"#000000\">294</text>\n<text text-anchor=\"start\" x=\"9053.5\" y=\"-638.8\" font-family=\"Helvetica,sans-Serif\" font-size=\"14.00\" fill=\"#000000\"> ≤ 0.563</text>\n<text text-anchor=\"start\" x=\"9013\" y=\"-624.8\" font-family=\"Helvetica,sans-Serif\" font-size=\"14.00\" fill=\"#000000\">entropy = 0.085</text>\n<text text-anchor=\"start\" x=\"9008\" y=\"-610.8\" font-family=\"Helvetica,sans-Serif\" font-size=\"14.00\" fill=\"#000000\">samples = 13502</text>\n<text text-anchor=\"start\" x=\"8997.5\" y=\"-596.8\" font-family=\"Helvetica,sans-Serif\" font-size=\"14.00\" fill=\"#000000\">value = [13358, 144]</text>\n</g>\n<!-- 148&#45;&gt;149 -->\n<g id=\"edge149\" class=\"edge\">\n<title>148&#45;&gt;149</title>\n<path fill=\"none\" stroke=\"#000000\" d=\"M9064,-688.8089C9064,-680.6906 9064,-671.8517 9064,-663.3186\"/>\n<polygon fill=\"#000000\" stroke=\"#000000\" points=\"9067.5001,-663.1307 9064,-653.1308 9060.5001,-663.1308 9067.5001,-663.1307\"/>\n</g>\n<!-- 210 -->\n<g id=\"node211\" class=\"node\">\n<title>210</title>\n<path fill=\"#e58139\" stroke=\"#000000\" d=\"M10216,-653C10216,-653 10108,-653 10108,-653 10102,-653 10096,-647 10096,-641 10096,-641 10096,-601 10096,-601 10096,-595 10102,-589 10108,-589 10108,-589 10216,-589 10216,-589 10222,-589 10228,-595 10228,-601 10228,-601 10228,-641 10228,-641 10228,-647 10222,-653 10216,-653\"/>\n<text text-anchor=\"start\" x=\"10120.5\" y=\"-638.8\" font-family=\"Helvetica,sans-Serif\" font-size=\"14.00\" fill=\"#000000\">X</text>\n<text text-anchor=\"start\" x=\"10130.5\" y=\"-638.8\" font-family=\"Helvetica,sans-Serif\" baseline-shift=\"sub\" font-size=\"14.00\" fill=\"#000000\">356</text>\n<text text-anchor=\"start\" x=\"10151.5\" y=\"-638.8\" font-family=\"Helvetica,sans-Serif\" font-size=\"14.00\" fill=\"#000000\"> ≤ 0.002</text>\n<text text-anchor=\"start\" x=\"10111\" y=\"-624.8\" font-family=\"Helvetica,sans-Serif\" font-size=\"14.00\" fill=\"#000000\">entropy = 0.005</text>\n<text text-anchor=\"start\" x=\"10106\" y=\"-610.8\" font-family=\"Helvetica,sans-Serif\" font-size=\"14.00\" fill=\"#000000\">samples = 19721</text>\n<text text-anchor=\"start\" x=\"10104\" y=\"-596.8\" font-family=\"Helvetica,sans-Serif\" font-size=\"14.00\" fill=\"#000000\">value = [19713, 8]</text>\n</g>\n<!-- 148&#45;&gt;210 -->\n<g id=\"edge210\" class=\"edge\">\n<title>148&#45;&gt;210</title>\n<path fill=\"none\" stroke=\"#000000\" d=\"M9138.6068,-714.2052C9338.3409,-696.0145 9883.7088,-646.3453 10085.5508,-627.9626\"/>\n<polygon fill=\"#000000\" stroke=\"#000000\" points=\"10086.1226,-631.4251 10095.7639,-627.0324 10085.4877,-624.4539 10086.1226,-631.4251\"/>\n</g>\n<!-- 150 -->\n<g id=\"node151\" class=\"node\">\n<title>150</title>\n<path fill=\"#e5813a\" stroke=\"#000000\" d=\"M8684,-553C8684,-553 8568,-553 8568,-553 8562,-553 8556,-547 8556,-541 8556,-541 8556,-501 8556,-501 8556,-495 8562,-489 8568,-489 8568,-489 8684,-489 8684,-489 8690,-489 8696,-495 8696,-501 8696,-501 8696,-541 8696,-541 8696,-547 8690,-553 8684,-553\"/>\n<text text-anchor=\"start\" x=\"8584.5\" y=\"-538.8\" font-family=\"Helvetica,sans-Serif\" font-size=\"14.00\" fill=\"#000000\">X</text>\n<text text-anchor=\"start\" x=\"8594.5\" y=\"-538.8\" font-family=\"Helvetica,sans-Serif\" baseline-shift=\"sub\" font-size=\"14.00\" fill=\"#000000\">402</text>\n<text text-anchor=\"start\" x=\"8615.5\" y=\"-538.8\" font-family=\"Helvetica,sans-Serif\" font-size=\"14.00\" fill=\"#000000\"> ≤ 0.022</text>\n<text text-anchor=\"start\" x=\"8575\" y=\"-524.8\" font-family=\"Helvetica,sans-Serif\" font-size=\"14.00\" fill=\"#000000\">entropy = 0.028</text>\n<text text-anchor=\"start\" x=\"8570\" y=\"-510.8\" font-family=\"Helvetica,sans-Serif\" font-size=\"14.00\" fill=\"#000000\">samples = 10785</text>\n<text text-anchor=\"start\" x=\"8564\" y=\"-496.8\" font-family=\"Helvetica,sans-Serif\" font-size=\"14.00\" fill=\"#000000\">value = [10754, 31]</text>\n</g>\n<!-- 149&#45;&gt;150 -->\n<g id=\"edge150\" class=\"edge\">\n<title>149&#45;&gt;150</title>\n<path fill=\"none\" stroke=\"#000000\" d=\"M8989.2028,-603.923C8910.4744,-585.9485 8786.9885,-557.7554 8706.2611,-539.3245\"/>\n<polygon fill=\"#000000\" stroke=\"#000000\" points=\"8706.6727,-535.8284 8696.1445,-537.0147 8705.1146,-542.6528 8706.6727,-535.8284\"/>\n</g>\n<!-- 177 -->\n<g id=\"node178\" class=\"node\">\n<title>177</title>\n<path fill=\"#e68642\" stroke=\"#000000\" d=\"M9526,-553C9526,-553 9410,-553 9410,-553 9404,-553 9398,-547 9398,-541 9398,-541 9398,-501 9398,-501 9398,-495 9404,-489 9410,-489 9410,-489 9526,-489 9526,-489 9532,-489 9538,-495 9538,-501 9538,-501 9538,-541 9538,-541 9538,-547 9532,-553 9526,-553\"/>\n<text text-anchor=\"start\" x=\"9426.5\" y=\"-538.8\" font-family=\"Helvetica,sans-Serif\" font-size=\"14.00\" fill=\"#000000\">X</text>\n<text text-anchor=\"start\" x=\"9436.5\" y=\"-538.8\" font-family=\"Helvetica,sans-Serif\" baseline-shift=\"sub\" font-size=\"14.00\" fill=\"#000000\">468</text>\n<text text-anchor=\"start\" x=\"9457.5\" y=\"-538.8\" font-family=\"Helvetica,sans-Serif\" font-size=\"14.00\" fill=\"#000000\"> ≤ 0.049</text>\n<text text-anchor=\"start\" x=\"9421\" y=\"-524.8\" font-family=\"Helvetica,sans-Serif\" font-size=\"14.00\" fill=\"#000000\">entropy = 0.25</text>\n<text text-anchor=\"start\" x=\"9416\" y=\"-510.8\" font-family=\"Helvetica,sans-Serif\" font-size=\"14.00\" fill=\"#000000\">samples = 2717</text>\n<text text-anchor=\"start\" x=\"9406\" y=\"-496.8\" font-family=\"Helvetica,sans-Serif\" font-size=\"14.00\" fill=\"#000000\">value = [2604, 113]</text>\n</g>\n<!-- 149&#45;&gt;177 -->\n<g id=\"edge177\" class=\"edge\">\n<title>149&#45;&gt;177</title>\n<path fill=\"none\" stroke=\"#000000\" d=\"M9138.5706,-602.5419C9209.3404,-585.0247 9315.3802,-558.7772 9387.9143,-540.8232\"/>\n<polygon fill=\"#000000\" stroke=\"#000000\" points=\"9389.0536,-544.1469 9397.9197,-538.3466 9387.3716,-537.352 9389.0536,-544.1469\"/>\n</g>\n<!-- 151 -->\n<g id=\"node152\" class=\"node\">\n<title>151</title>\n<path fill=\"#e5823b\" stroke=\"#000000\" d=\"M8373,-453C8373,-453 8265,-453 8265,-453 8259,-453 8253,-447 8253,-441 8253,-441 8253,-401 8253,-401 8253,-395 8259,-389 8265,-389 8265,-389 8373,-389 8373,-389 8379,-389 8385,-395 8385,-401 8385,-401 8385,-441 8385,-441 8385,-447 8379,-453 8373,-453\"/>\n<text text-anchor=\"start\" x=\"8277.5\" y=\"-438.8\" font-family=\"Helvetica,sans-Serif\" font-size=\"14.00\" fill=\"#000000\">X</text>\n<text text-anchor=\"start\" x=\"8287.5\" y=\"-438.8\" font-family=\"Helvetica,sans-Serif\" baseline-shift=\"sub\" font-size=\"14.00\" fill=\"#000000\">317</text>\n<text text-anchor=\"start\" x=\"8308.5\" y=\"-438.8\" font-family=\"Helvetica,sans-Serif\" font-size=\"14.00\" fill=\"#000000\"> ≤ 0.135</text>\n<text text-anchor=\"start\" x=\"8268\" y=\"-424.8\" font-family=\"Helvetica,sans-Serif\" font-size=\"14.00\" fill=\"#000000\">entropy = 0.071</text>\n<text text-anchor=\"start\" x=\"8267\" y=\"-410.8\" font-family=\"Helvetica,sans-Serif\" font-size=\"14.00\" fill=\"#000000\">samples = 3383</text>\n<text text-anchor=\"start\" x=\"8261\" y=\"-396.8\" font-family=\"Helvetica,sans-Serif\" font-size=\"14.00\" fill=\"#000000\">value = [3354, 29]</text>\n</g>\n<!-- 150&#45;&gt;151 -->\n<g id=\"edge151\" class=\"edge\">\n<title>150&#45;&gt;151</title>\n<path fill=\"none\" stroke=\"#000000\" d=\"M8555.9528,-498.1833C8507.8394,-482.5112 8444.0101,-461.7199 8394.7217,-445.6651\"/>\n<polygon fill=\"#000000\" stroke=\"#000000\" points=\"8395.6592,-442.2895 8385.0669,-442.5202 8393.4912,-448.9453 8395.6592,-442.2895\"/>\n</g>\n<!-- 168 -->\n<g id=\"node169\" class=\"node\">\n<title>168</title>\n<path fill=\"#e58139\" stroke=\"#000000\" d=\"M8676,-453C8676,-453 8576,-453 8576,-453 8570,-453 8564,-447 8564,-441 8564,-441 8564,-401 8564,-401 8564,-395 8570,-389 8576,-389 8576,-389 8676,-389 8676,-389 8682,-389 8688,-395 8688,-401 8688,-401 8688,-441 8688,-441 8688,-447 8682,-453 8676,-453\"/>\n<text text-anchor=\"start\" x=\"8584.5\" y=\"-438.8\" font-family=\"Helvetica,sans-Serif\" font-size=\"14.00\" fill=\"#000000\">X</text>\n<text text-anchor=\"start\" x=\"8594.5\" y=\"-438.8\" font-family=\"Helvetica,sans-Serif\" baseline-shift=\"sub\" font-size=\"14.00\" fill=\"#000000\">267</text>\n<text text-anchor=\"start\" x=\"8615.5\" y=\"-438.8\" font-family=\"Helvetica,sans-Serif\" font-size=\"14.00\" fill=\"#000000\"> ≤ 0.669</text>\n<text text-anchor=\"start\" x=\"8575\" y=\"-424.8\" font-family=\"Helvetica,sans-Serif\" font-size=\"14.00\" fill=\"#000000\">entropy = 0.004</text>\n<text text-anchor=\"start\" x=\"8574\" y=\"-410.8\" font-family=\"Helvetica,sans-Serif\" font-size=\"14.00\" fill=\"#000000\">samples = 7402</text>\n<text text-anchor=\"start\" x=\"8572\" y=\"-396.8\" font-family=\"Helvetica,sans-Serif\" font-size=\"14.00\" fill=\"#000000\">value = [7400, 2]</text>\n</g>\n<!-- 150&#45;&gt;168 -->\n<g id=\"edge168\" class=\"edge\">\n<title>150&#45;&gt;168</title>\n<path fill=\"none\" stroke=\"#000000\" d=\"M8626,-488.8089C8626,-480.6906 8626,-471.8517 8626,-463.3186\"/>\n<polygon fill=\"#000000\" stroke=\"#000000\" points=\"8629.5001,-463.1307 8626,-453.1308 8622.5001,-463.1308 8629.5001,-463.1307\"/>\n</g>\n<!-- 152 -->\n<g id=\"node153\" class=\"node\">\n<title>152</title>\n<path fill=\"#e6843e\" stroke=\"#000000\" d=\"M8162,-353C8162,-353 8054,-353 8054,-353 8048,-353 8042,-347 8042,-341 8042,-341 8042,-301 8042,-301 8042,-295 8048,-289 8054,-289 8054,-289 8162,-289 8162,-289 8168,-289 8174,-295 8174,-301 8174,-301 8174,-341 8174,-341 8174,-347 8168,-353 8162,-353\"/>\n<text text-anchor=\"start\" x=\"8066.5\" y=\"-338.8\" font-family=\"Helvetica,sans-Serif\" font-size=\"14.00\" fill=\"#000000\">X</text>\n<text text-anchor=\"start\" x=\"8076.5\" y=\"-338.8\" font-family=\"Helvetica,sans-Serif\" baseline-shift=\"sub\" font-size=\"14.00\" fill=\"#000000\">438</text>\n<text text-anchor=\"start\" x=\"8097.5\" y=\"-338.8\" font-family=\"Helvetica,sans-Serif\" font-size=\"14.00\" fill=\"#000000\"> ≤ 0.004</text>\n<text text-anchor=\"start\" x=\"8057\" y=\"-324.8\" font-family=\"Helvetica,sans-Serif\" font-size=\"14.00\" fill=\"#000000\">entropy = 0.165</text>\n<text text-anchor=\"start\" x=\"8056\" y=\"-310.8\" font-family=\"Helvetica,sans-Serif\" font-size=\"14.00\" fill=\"#000000\">samples = 1030</text>\n<text text-anchor=\"start\" x=\"8050\" y=\"-296.8\" font-family=\"Helvetica,sans-Serif\" font-size=\"14.00\" fill=\"#000000\">value = [1005, 25]</text>\n</g>\n<!-- 151&#45;&gt;152 -->\n<g id=\"edge152\" class=\"edge\">\n<title>151&#45;&gt;152</title>\n<path fill=\"none\" stroke=\"#000000\" d=\"M8252.8172,-389.6337C8230.829,-379.2128 8206.1819,-367.5317 8183.5419,-356.8018\"/>\n<polygon fill=\"#000000\" stroke=\"#000000\" points=\"8184.8459,-353.5467 8174.3105,-352.4268 8181.848,-359.8723 8184.8459,-353.5467\"/>\n</g>\n<!-- 161 -->\n<g id=\"node162\" class=\"node\">\n<title>161</title>\n<path fill=\"#e58139\" stroke=\"#000000\" d=\"M8369,-353C8369,-353 8269,-353 8269,-353 8263,-353 8257,-347 8257,-341 8257,-341 8257,-301 8257,-301 8257,-295 8263,-289 8269,-289 8269,-289 8369,-289 8369,-289 8375,-289 8381,-295 8381,-301 8381,-301 8381,-341 8381,-341 8381,-347 8375,-353 8369,-353\"/>\n<text text-anchor=\"start\" x=\"8277.5\" y=\"-338.8\" font-family=\"Helvetica,sans-Serif\" font-size=\"14.00\" fill=\"#000000\">X</text>\n<text text-anchor=\"start\" x=\"8287.5\" y=\"-338.8\" font-family=\"Helvetica,sans-Serif\" baseline-shift=\"sub\" font-size=\"14.00\" fill=\"#000000\">269</text>\n<text text-anchor=\"start\" x=\"8308.5\" y=\"-338.8\" font-family=\"Helvetica,sans-Serif\" font-size=\"14.00\" fill=\"#000000\"> ≤ 0.492</text>\n<text text-anchor=\"start\" x=\"8268\" y=\"-324.8\" font-family=\"Helvetica,sans-Serif\" font-size=\"14.00\" fill=\"#000000\">entropy = 0.018</text>\n<text text-anchor=\"start\" x=\"8267\" y=\"-310.8\" font-family=\"Helvetica,sans-Serif\" font-size=\"14.00\" fill=\"#000000\">samples = 2353</text>\n<text text-anchor=\"start\" x=\"8265\" y=\"-296.8\" font-family=\"Helvetica,sans-Serif\" font-size=\"14.00\" fill=\"#000000\">value = [2349, 4]</text>\n</g>\n<!-- 151&#45;&gt;161 -->\n<g id=\"edge161\" class=\"edge\">\n<title>151&#45;&gt;161</title>\n<path fill=\"none\" stroke=\"#000000\" d=\"M8319,-388.8089C8319,-380.6906 8319,-371.8517 8319,-363.3186\"/>\n<polygon fill=\"#000000\" stroke=\"#000000\" points=\"8322.5001,-363.1307 8319,-353.1308 8315.5001,-363.1308 8322.5001,-363.1307\"/>\n</g>\n<!-- 153 -->\n<g id=\"node154\" class=\"node\">\n<title>153</title>\n<path fill=\"#e68742\" stroke=\"#000000\" d=\"M8020,-253C8020,-253 7920,-253 7920,-253 7914,-253 7908,-247 7908,-241 7908,-241 7908,-201 7908,-201 7908,-195 7914,-189 7920,-189 7920,-189 8020,-189 8020,-189 8026,-189 8032,-195 8032,-201 8032,-201 8032,-241 8032,-241 8032,-247 8026,-253 8020,-253\"/>\n<text text-anchor=\"start\" x=\"7928.5\" y=\"-238.8\" font-family=\"Helvetica,sans-Serif\" font-size=\"14.00\" fill=\"#000000\">X</text>\n<text text-anchor=\"start\" x=\"7938.5\" y=\"-238.8\" font-family=\"Helvetica,sans-Serif\" baseline-shift=\"sub\" font-size=\"14.00\" fill=\"#000000\">353</text>\n<text text-anchor=\"start\" x=\"7959.5\" y=\"-238.8\" font-family=\"Helvetica,sans-Serif\" font-size=\"14.00\" fill=\"#000000\"> ≤ 0.151</text>\n<text text-anchor=\"start\" x=\"7919\" y=\"-224.8\" font-family=\"Helvetica,sans-Serif\" font-size=\"14.00\" fill=\"#000000\">entropy = 0.264</text>\n<text text-anchor=\"start\" x=\"7922\" y=\"-210.8\" font-family=\"Helvetica,sans-Serif\" font-size=\"14.00\" fill=\"#000000\">samples = 558</text>\n<text text-anchor=\"start\" x=\"7916\" y=\"-196.8\" font-family=\"Helvetica,sans-Serif\" font-size=\"14.00\" fill=\"#000000\">value = [533, 25]</text>\n</g>\n<!-- 152&#45;&gt;153 -->\n<g id=\"edge153\" class=\"edge\">\n<title>152&#45;&gt;153</title>\n<path fill=\"none\" stroke=\"#000000\" d=\"M8063.5763,-288.8089C8050.5263,-279.3524 8036.1271,-268.9182 8022.6173,-259.1285\"/>\n<polygon fill=\"#000000\" stroke=\"#000000\" points=\"8024.4917,-256.1644 8014.3404,-253.1308 8020.3842,-261.8327 8024.4917,-256.1644\"/>\n</g>\n<!-- 160 -->\n<g id=\"node161\" class=\"node\">\n<title>160</title>\n<path fill=\"#e58139\" stroke=\"#000000\" d=\"M8154,-247.5C8154,-247.5 8062,-247.5 8062,-247.5 8056,-247.5 8050,-241.5 8050,-235.5 8050,-235.5 8050,-206.5 8050,-206.5 8050,-200.5 8056,-194.5 8062,-194.5 8062,-194.5 8154,-194.5 8154,-194.5 8160,-194.5 8166,-200.5 8166,-206.5 8166,-206.5 8166,-235.5 8166,-235.5 8166,-241.5 8160,-247.5 8154,-247.5\"/>\n<text text-anchor=\"start\" x=\"8065.5\" y=\"-232.3\" font-family=\"Helvetica,sans-Serif\" font-size=\"14.00\" fill=\"#000000\">entropy = 0.0</text>\n<text text-anchor=\"start\" x=\"8060\" y=\"-217.3\" font-family=\"Helvetica,sans-Serif\" font-size=\"14.00\" fill=\"#000000\">samples = 472</text>\n<text text-anchor=\"start\" x=\"8058\" y=\"-202.3\" font-family=\"Helvetica,sans-Serif\" font-size=\"14.00\" fill=\"#000000\">value = [472, 0]</text>\n</g>\n<!-- 152&#45;&gt;160 -->\n<g id=\"edge160\" class=\"edge\">\n<title>152&#45;&gt;160</title>\n<path fill=\"none\" stroke=\"#000000\" d=\"M8108,-288.8089C8108,-278.9777 8108,-268.0898 8108,-257.9679\"/>\n<polygon fill=\"#000000\" stroke=\"#000000\" points=\"8111.5001,-257.7735 8108,-247.7735 8104.5001,-257.7736 8111.5001,-257.7735\"/>\n</g>\n<!-- 154 -->\n<g id=\"node155\" class=\"node\">\n<title>154</title>\n<path fill=\"#e88e4d\" stroke=\"#000000\" d=\"M7912,-153C7912,-153 7812,-153 7812,-153 7806,-153 7800,-147 7800,-141 7800,-141 7800,-101 7800,-101 7800,-95 7806,-89 7812,-89 7812,-89 7912,-89 7912,-89 7918,-89 7924,-95 7924,-101 7924,-101 7924,-141 7924,-141 7924,-147 7918,-153 7912,-153\"/>\n<text text-anchor=\"start\" x=\"7820.5\" y=\"-138.8\" font-family=\"Helvetica,sans-Serif\" font-size=\"14.00\" fill=\"#000000\">X</text>\n<text text-anchor=\"start\" x=\"7830.5\" y=\"-138.8\" font-family=\"Helvetica,sans-Serif\" baseline-shift=\"sub\" font-size=\"14.00\" fill=\"#000000\">149</text>\n<text text-anchor=\"start\" x=\"7851.5\" y=\"-138.8\" font-family=\"Helvetica,sans-Serif\" font-size=\"14.00\" fill=\"#000000\"> ≤ 0.204</text>\n<text text-anchor=\"start\" x=\"7811\" y=\"-124.8\" font-family=\"Helvetica,sans-Serif\" font-size=\"14.00\" fill=\"#000000\">entropy = 0.446</text>\n<text text-anchor=\"start\" x=\"7814\" y=\"-110.8\" font-family=\"Helvetica,sans-Serif\" font-size=\"14.00\" fill=\"#000000\">samples = 258</text>\n<text text-anchor=\"start\" x=\"7808\" y=\"-96.8\" font-family=\"Helvetica,sans-Serif\" font-size=\"14.00\" fill=\"#000000\">value = [234, 24]</text>\n</g>\n<!-- 153&#45;&gt;154 -->\n<g id=\"edge154\" class=\"edge\">\n<title>153&#45;&gt;154</title>\n<path fill=\"none\" stroke=\"#000000\" d=\"M7935.2336,-188.8089C7925.3096,-179.62 7914.3887,-169.508 7904.0781,-159.9612\"/>\n<polygon fill=\"#000000\" stroke=\"#000000\" points=\"7906.4168,-157.3567 7896.7012,-153.1308 7901.6609,-162.493 7906.4168,-157.3567\"/>\n</g>\n<!-- 157 -->\n<g id=\"node158\" class=\"node\">\n<title>157</title>\n<path fill=\"#e5813a\" stroke=\"#000000\" d=\"M8048,-153C8048,-153 7954,-153 7954,-153 7948,-153 7942,-147 7942,-141 7942,-141 7942,-101 7942,-101 7942,-95 7948,-89 7954,-89 7954,-89 8048,-89 8048,-89 8054,-89 8060,-95 8060,-101 8060,-101 8060,-141 8060,-141 8060,-147 8054,-153 8048,-153\"/>\n<text text-anchor=\"start\" x=\"7959.5\" y=\"-138.8\" font-family=\"Helvetica,sans-Serif\" font-size=\"14.00\" fill=\"#000000\">X</text>\n<text text-anchor=\"start\" x=\"7969.5\" y=\"-138.8\" font-family=\"Helvetica,sans-Serif\" baseline-shift=\"sub\" font-size=\"14.00\" fill=\"#000000\">654</text>\n<text text-anchor=\"start\" x=\"7990.5\" y=\"-138.8\" font-family=\"Helvetica,sans-Serif\" font-size=\"14.00\" fill=\"#000000\"> ≤ 0.994</text>\n<text text-anchor=\"start\" x=\"7950\" y=\"-124.8\" font-family=\"Helvetica,sans-Serif\" font-size=\"14.00\" fill=\"#000000\">entropy = 0.032</text>\n<text text-anchor=\"start\" x=\"7953\" y=\"-110.8\" font-family=\"Helvetica,sans-Serif\" font-size=\"14.00\" fill=\"#000000\">samples = 300</text>\n<text text-anchor=\"start\" x=\"7951\" y=\"-96.8\" font-family=\"Helvetica,sans-Serif\" font-size=\"14.00\" fill=\"#000000\">value = [299, 1]</text>\n</g>\n<!-- 153&#45;&gt;157 -->\n<g id=\"edge157\" class=\"edge\">\n<title>153&#45;&gt;157</title>\n<path fill=\"none\" stroke=\"#000000\" d=\"M7979.9792,-188.8089C7982.5512,-180.5122 7985.3565,-171.4628 7988.0555,-162.7565\"/>\n<polygon fill=\"#000000\" stroke=\"#000000\" points=\"7991.4215,-163.7187 7991.0395,-153.1308 7984.7354,-161.646 7991.4215,-163.7187\"/>\n</g>\n<!-- 155 -->\n<g id=\"node156\" class=\"node\">\n<title>155</title>\n<path fill=\"#e68844\" stroke=\"#000000\" d=\"M7774,-53C7774,-53 7674,-53 7674,-53 7668,-53 7662,-47 7662,-41 7662,-41 7662,-12 7662,-12 7662,-6 7668,0 7674,0 7674,0 7774,0 7774,0 7780,0 7786,-6 7786,-12 7786,-12 7786,-41 7786,-41 7786,-47 7780,-53 7774,-53\"/>\n<text text-anchor=\"start\" x=\"7673\" y=\"-37.8\" font-family=\"Helvetica,sans-Serif\" font-size=\"14.00\" fill=\"#000000\">entropy = 0.301</text>\n<text text-anchor=\"start\" x=\"7676\" y=\"-22.8\" font-family=\"Helvetica,sans-Serif\" font-size=\"14.00\" fill=\"#000000\">samples = 243</text>\n<text text-anchor=\"start\" x=\"7670\" y=\"-7.8\" font-family=\"Helvetica,sans-Serif\" font-size=\"14.00\" fill=\"#000000\">value = [230, 13]</text>\n</g>\n<!-- 154&#45;&gt;155 -->\n<g id=\"edge155\" class=\"edge\">\n<title>154&#45;&gt;155</title>\n<path fill=\"none\" stroke=\"#000000\" d=\"M7814.8942,-88.7428C7800.9274,-79.1786 7785.6255,-68.7001 7771.626,-59.1135\"/>\n<polygon fill=\"#000000\" stroke=\"#000000\" points=\"7773.3297,-56.0382 7763.1013,-53.2759 7769.3746,-61.8138 7773.3297,-56.0382\"/>\n</g>\n<!-- 156 -->\n<g id=\"node157\" class=\"node\">\n<title>156</title>\n<path fill=\"#81c1ee\" stroke=\"#000000\" d=\"M7910,-53C7910,-53 7816,-53 7816,-53 7810,-53 7804,-47 7804,-41 7804,-41 7804,-12 7804,-12 7804,-6 7810,0 7816,0 7816,0 7910,0 7910,0 7916,0 7922,-6 7922,-12 7922,-12 7922,-41 7922,-41 7922,-47 7916,-53 7910,-53\"/>\n<text text-anchor=\"start\" x=\"7812\" y=\"-37.8\" font-family=\"Helvetica,sans-Serif\" font-size=\"14.00\" fill=\"#000000\">entropy = 0.837</text>\n<text text-anchor=\"start\" x=\"7819\" y=\"-22.8\" font-family=\"Helvetica,sans-Serif\" font-size=\"14.00\" fill=\"#000000\">samples = 15</text>\n<text text-anchor=\"start\" x=\"7817.5\" y=\"-7.8\" font-family=\"Helvetica,sans-Serif\" font-size=\"14.00\" fill=\"#000000\">value = [4, 11]</text>\n</g>\n<!-- 154&#45;&gt;156 -->\n<g id=\"edge156\" class=\"edge\">\n<title>154&#45;&gt;156</title>\n<path fill=\"none\" stroke=\"#000000\" d=\"M7862.3413,-88.7428C7862.4273,-80.6222 7862.5202,-71.8426 7862.6084,-63.5093\"/>\n<polygon fill=\"#000000\" stroke=\"#000000\" points=\"7866.1106,-63.3124 7862.7167,-53.2759 7859.1109,-63.2382 7866.1106,-63.3124\"/>\n</g>\n<!-- 158 -->\n<g id=\"node159\" class=\"node\">\n<title>158</title>\n<path fill=\"#e58139\" stroke=\"#000000\" d=\"M8044,-53C8044,-53 7952,-53 7952,-53 7946,-53 7940,-47 7940,-41 7940,-41 7940,-12 7940,-12 7940,-6 7946,0 7952,0 7952,0 8044,0 8044,0 8050,0 8056,-6 8056,-12 8056,-12 8056,-41 8056,-41 8056,-47 8050,-53 8044,-53\"/>\n<text text-anchor=\"start\" x=\"7955.5\" y=\"-37.8\" font-family=\"Helvetica,sans-Serif\" font-size=\"14.00\" fill=\"#000000\">entropy = 0.0</text>\n<text text-anchor=\"start\" x=\"7950\" y=\"-22.8\" font-family=\"Helvetica,sans-Serif\" font-size=\"14.00\" fill=\"#000000\">samples = 290</text>\n<text text-anchor=\"start\" x=\"7948\" y=\"-7.8\" font-family=\"Helvetica,sans-Serif\" font-size=\"14.00\" fill=\"#000000\">value = [290, 0]</text>\n</g>\n<!-- 157&#45;&gt;158 -->\n<g id=\"edge158\" class=\"edge\">\n<title>157&#45;&gt;158</title>\n<path fill=\"none\" stroke=\"#000000\" d=\"M7999.976,-88.7428C7999.7182,-80.6222 7999.4394,-71.8426 7999.1749,-63.5093\"/>\n<polygon fill=\"#000000\" stroke=\"#000000\" points=\"8002.6657,-63.1597 7998.85,-53.2759 7995.6692,-63.3819 8002.6657,-63.1597\"/>\n</g>\n<!-- 159 -->\n<g id=\"node160\" class=\"node\">\n<title>159</title>\n<path fill=\"#e88f4f\" stroke=\"#000000\" d=\"M8180,-53C8180,-53 8086,-53 8086,-53 8080,-53 8074,-47 8074,-41 8074,-41 8074,-12 8074,-12 8074,-6 8080,0 8086,0 8086,0 8180,0 8180,0 8186,0 8192,-6 8192,-12 8192,-12 8192,-41 8192,-41 8192,-47 8186,-53 8180,-53\"/>\n<text text-anchor=\"start\" x=\"8082\" y=\"-37.8\" font-family=\"Helvetica,sans-Serif\" font-size=\"14.00\" fill=\"#000000\">entropy = 0.469</text>\n<text text-anchor=\"start\" x=\"8089\" y=\"-22.8\" font-family=\"Helvetica,sans-Serif\" font-size=\"14.00\" fill=\"#000000\">samples = 10</text>\n<text text-anchor=\"start\" x=\"8091.5\" y=\"-7.8\" font-family=\"Helvetica,sans-Serif\" font-size=\"14.00\" fill=\"#000000\">value = [9, 1]</text>\n</g>\n<!-- 157&#45;&gt;159 -->\n<g id=\"edge159\" class=\"edge\">\n<title>157&#45;&gt;159</title>\n<path fill=\"none\" stroke=\"#000000\" d=\"M8046.0577,-88.7428C8059.4172,-79.1786 8074.0539,-68.7001 8087.4447,-59.1135\"/>\n<polygon fill=\"#000000\" stroke=\"#000000\" points=\"8089.5051,-61.9429 8095.5988,-53.2759 8085.4303,-56.2511 8089.5051,-61.9429\"/>\n</g>\n<!-- 162 -->\n<g id=\"node163\" class=\"node\">\n<title>162</title>\n<path fill=\"#e58139\" stroke=\"#000000\" d=\"M8296,-247.5C8296,-247.5 8196,-247.5 8196,-247.5 8190,-247.5 8184,-241.5 8184,-235.5 8184,-235.5 8184,-206.5 8184,-206.5 8184,-200.5 8190,-194.5 8196,-194.5 8196,-194.5 8296,-194.5 8296,-194.5 8302,-194.5 8308,-200.5 8308,-206.5 8308,-206.5 8308,-235.5 8308,-235.5 8308,-241.5 8302,-247.5 8296,-247.5\"/>\n<text text-anchor=\"start\" x=\"8203.5\" y=\"-232.3\" font-family=\"Helvetica,sans-Serif\" font-size=\"14.00\" fill=\"#000000\">entropy = 0.0</text>\n<text text-anchor=\"start\" x=\"8194\" y=\"-217.3\" font-family=\"Helvetica,sans-Serif\" font-size=\"14.00\" fill=\"#000000\">samples = 1785</text>\n<text text-anchor=\"start\" x=\"8192\" y=\"-202.3\" font-family=\"Helvetica,sans-Serif\" font-size=\"14.00\" fill=\"#000000\">value = [1785, 0]</text>\n</g>\n<!-- 161&#45;&gt;162 -->\n<g id=\"edge162\" class=\"edge\">\n<title>161&#45;&gt;162</title>\n<path fill=\"none\" stroke=\"#000000\" d=\"M8295.5005,-288.8089C8287.8704,-278.3568 8279.3685,-266.7103 8271.5936,-256.0597\"/>\n<polygon fill=\"#000000\" stroke=\"#000000\" points=\"8274.2677,-253.7868 8265.5447,-247.7735 8268.6139,-257.9141 8274.2677,-253.7868\"/>\n</g>\n<!-- 163 -->\n<g id=\"node164\" class=\"node\">\n<title>163</title>\n<path fill=\"#e5823a\" stroke=\"#000000\" d=\"M8430,-253C8430,-253 8338,-253 8338,-253 8332,-253 8326,-247 8326,-241 8326,-241 8326,-201 8326,-201 8326,-195 8332,-189 8338,-189 8338,-189 8430,-189 8430,-189 8436,-189 8442,-195 8442,-201 8442,-201 8442,-241 8442,-241 8442,-247 8436,-253 8430,-253\"/>\n<text text-anchor=\"start\" x=\"8342.5\" y=\"-238.8\" font-family=\"Helvetica,sans-Serif\" font-size=\"14.00\" fill=\"#000000\">X</text>\n<text text-anchor=\"start\" x=\"8352.5\" y=\"-238.8\" font-family=\"Helvetica,sans-Serif\" baseline-shift=\"sub\" font-size=\"14.00\" fill=\"#000000\">157</text>\n<text text-anchor=\"start\" x=\"8373.5\" y=\"-238.8\" font-family=\"Helvetica,sans-Serif\" font-size=\"14.00\" fill=\"#000000\"> ≤ 0.292</text>\n<text text-anchor=\"start\" x=\"8337\" y=\"-224.8\" font-family=\"Helvetica,sans-Serif\" font-size=\"14.00\" fill=\"#000000\">entropy = 0.06</text>\n<text text-anchor=\"start\" x=\"8336\" y=\"-210.8\" font-family=\"Helvetica,sans-Serif\" font-size=\"14.00\" fill=\"#000000\">samples = 568</text>\n<text text-anchor=\"start\" x=\"8334\" y=\"-196.8\" font-family=\"Helvetica,sans-Serif\" font-size=\"14.00\" fill=\"#000000\">value = [564, 4]</text>\n</g>\n<!-- 161&#45;&gt;163 -->\n<g id=\"edge163\" class=\"edge\">\n<title>161&#45;&gt;163</title>\n<path fill=\"none\" stroke=\"#000000\" d=\"M8339.9242,-288.8089C8345.5491,-280.1553 8351.706,-270.683 8357.5872,-261.635\"/>\n<polygon fill=\"#000000\" stroke=\"#000000\" points=\"8360.5996,-263.4227 8363.115,-253.1308 8354.7305,-259.6077 8360.5996,-263.4227\"/>\n</g>\n<!-- 164 -->\n<g id=\"node165\" class=\"node\">\n<title>164</title>\n<path fill=\"#e58139\" stroke=\"#000000\" d=\"M8295,-147.5C8295,-147.5 8203,-147.5 8203,-147.5 8197,-147.5 8191,-141.5 8191,-135.5 8191,-135.5 8191,-106.5 8191,-106.5 8191,-100.5 8197,-94.5 8203,-94.5 8203,-94.5 8295,-94.5 8295,-94.5 8301,-94.5 8307,-100.5 8307,-106.5 8307,-106.5 8307,-135.5 8307,-135.5 8307,-141.5 8301,-147.5 8295,-147.5\"/>\n<text text-anchor=\"start\" x=\"8206.5\" y=\"-132.3\" font-family=\"Helvetica,sans-Serif\" font-size=\"14.00\" fill=\"#000000\">entropy = 0.0</text>\n<text text-anchor=\"start\" x=\"8201\" y=\"-117.3\" font-family=\"Helvetica,sans-Serif\" font-size=\"14.00\" fill=\"#000000\">samples = 438</text>\n<text text-anchor=\"start\" x=\"8199\" y=\"-102.3\" font-family=\"Helvetica,sans-Serif\" font-size=\"14.00\" fill=\"#000000\">value = [438, 0]</text>\n</g>\n<!-- 163&#45;&gt;164 -->\n<g id=\"edge164\" class=\"edge\">\n<title>163&#45;&gt;164</title>\n<path fill=\"none\" stroke=\"#000000\" d=\"M8340.5421,-188.8089C8325.4537,-177.6324 8308.5218,-165.0902 8293.3614,-153.8603\"/>\n<polygon fill=\"#000000\" stroke=\"#000000\" points=\"8295.2632,-150.9134 8285.1443,-147.7735 8291.0965,-156.5383 8295.2632,-150.9134\"/>\n</g>\n<!-- 165 -->\n<g id=\"node166\" class=\"node\">\n<title>165</title>\n<path fill=\"#e6853f\" stroke=\"#000000\" d=\"M8431,-153C8431,-153 8337,-153 8337,-153 8331,-153 8325,-147 8325,-141 8325,-141 8325,-101 8325,-101 8325,-95 8331,-89 8337,-89 8337,-89 8431,-89 8431,-89 8437,-89 8443,-95 8443,-101 8443,-101 8443,-141 8443,-141 8443,-147 8437,-153 8431,-153\"/>\n<text text-anchor=\"start\" x=\"8342.5\" y=\"-138.8\" font-family=\"Helvetica,sans-Serif\" font-size=\"14.00\" fill=\"#000000\">X</text>\n<text text-anchor=\"start\" x=\"8352.5\" y=\"-138.8\" font-family=\"Helvetica,sans-Serif\" baseline-shift=\"sub\" font-size=\"14.00\" fill=\"#000000\">602</text>\n<text text-anchor=\"start\" x=\"8373.5\" y=\"-138.8\" font-family=\"Helvetica,sans-Serif\" font-size=\"14.00\" fill=\"#000000\"> ≤ 0.986</text>\n<text text-anchor=\"start\" x=\"8333\" y=\"-124.8\" font-family=\"Helvetica,sans-Serif\" font-size=\"14.00\" fill=\"#000000\">entropy = 0.198</text>\n<text text-anchor=\"start\" x=\"8336\" y=\"-110.8\" font-family=\"Helvetica,sans-Serif\" font-size=\"14.00\" fill=\"#000000\">samples = 130</text>\n<text text-anchor=\"start\" x=\"8334\" y=\"-96.8\" font-family=\"Helvetica,sans-Serif\" font-size=\"14.00\" fill=\"#000000\">value = [126, 4]</text>\n</g>\n<!-- 163&#45;&gt;165 -->\n<g id=\"edge165\" class=\"edge\">\n<title>163&#45;&gt;165</title>\n<path fill=\"none\" stroke=\"#000000\" d=\"M8384,-188.8089C8384,-180.6906 8384,-171.8517 8384,-163.3186\"/>\n<polygon fill=\"#000000\" stroke=\"#000000\" points=\"8387.5001,-163.1307 8384,-153.1308 8380.5001,-163.1308 8387.5001,-163.1307\"/>\n</g>\n<!-- 166 -->\n<g id=\"node167\" class=\"node\">\n<title>166</title>\n<path fill=\"#e58139\" stroke=\"#000000\" d=\"M8305.5,-53C8305.5,-53 8222.5,-53 8222.5,-53 8216.5,-53 8210.5,-47 8210.5,-41 8210.5,-41 8210.5,-12 8210.5,-12 8210.5,-6 8216.5,0 8222.5,0 8222.5,0 8305.5,0 8305.5,0 8311.5,0 8317.5,-6 8317.5,-12 8317.5,-12 8317.5,-41 8317.5,-41 8317.5,-47 8311.5,-53 8305.5,-53\"/>\n<text text-anchor=\"start\" x=\"8221.5\" y=\"-37.8\" font-family=\"Helvetica,sans-Serif\" font-size=\"14.00\" fill=\"#000000\">entropy = 0.0</text>\n<text text-anchor=\"start\" x=\"8220\" y=\"-22.8\" font-family=\"Helvetica,sans-Serif\" font-size=\"14.00\" fill=\"#000000\">samples = 96</text>\n<text text-anchor=\"start\" x=\"8218.5\" y=\"-7.8\" font-family=\"Helvetica,sans-Serif\" font-size=\"14.00\" fill=\"#000000\">value = [96, 0]</text>\n</g>\n<!-- 165&#45;&gt;166 -->\n<g id=\"edge166\" class=\"edge\">\n<title>165&#45;&gt;166</title>\n<path fill=\"none\" stroke=\"#000000\" d=\"M8343.0384,-88.7428C8331.1226,-79.359 8318.0891,-69.0952 8306.1042,-59.657\"/>\n<polygon fill=\"#000000\" stroke=\"#000000\" points=\"8308.0229,-56.7131 8298.0011,-53.2759 8303.6921,-62.2125 8308.0229,-56.7131\"/>\n</g>\n<!-- 167 -->\n<g id=\"node168\" class=\"node\">\n<title>167</title>\n<path fill=\"#e89253\" stroke=\"#000000\" d=\"M8442,-53C8442,-53 8348,-53 8348,-53 8342,-53 8336,-47 8336,-41 8336,-41 8336,-12 8336,-12 8336,-6 8342,0 8348,0 8348,0 8442,0 8442,0 8448,0 8454,-6 8454,-12 8454,-12 8454,-41 8454,-41 8454,-47 8448,-53 8442,-53\"/>\n<text text-anchor=\"start\" x=\"8344\" y=\"-37.8\" font-family=\"Helvetica,sans-Serif\" font-size=\"14.00\" fill=\"#000000\">entropy = 0.523</text>\n<text text-anchor=\"start\" x=\"8351\" y=\"-22.8\" font-family=\"Helvetica,sans-Serif\" font-size=\"14.00\" fill=\"#000000\">samples = 34</text>\n<text text-anchor=\"start\" x=\"8349.5\" y=\"-7.8\" font-family=\"Helvetica,sans-Serif\" font-size=\"14.00\" fill=\"#000000\">value = [30, 4]</text>\n</g>\n<!-- 165&#45;&gt;167 -->\n<g id=\"edge167\" class=\"edge\">\n<title>165&#45;&gt;167</title>\n<path fill=\"none\" stroke=\"#000000\" d=\"M8387.7548,-88.7428C8388.7106,-80.532 8389.7448,-71.6474 8390.7244,-63.2317\"/>\n<polygon fill=\"#000000\" stroke=\"#000000\" points=\"8394.2035,-63.6135 8391.8832,-53.2759 8387.2504,-62.8041 8394.2035,-63.6135\"/>\n</g>\n<!-- 169 -->\n<g id=\"node170\" class=\"node\">\n<title>169</title>\n<path fill=\"#e58139\" stroke=\"#000000\" d=\"M8606,-347.5C8606,-347.5 8506,-347.5 8506,-347.5 8500,-347.5 8494,-341.5 8494,-335.5 8494,-335.5 8494,-306.5 8494,-306.5 8494,-300.5 8500,-294.5 8506,-294.5 8506,-294.5 8606,-294.5 8606,-294.5 8612,-294.5 8618,-300.5 8618,-306.5 8618,-306.5 8618,-335.5 8618,-335.5 8618,-341.5 8612,-347.5 8606,-347.5\"/>\n<text text-anchor=\"start\" x=\"8513.5\" y=\"-332.3\" font-family=\"Helvetica,sans-Serif\" font-size=\"14.00\" fill=\"#000000\">entropy = 0.0</text>\n<text text-anchor=\"start\" x=\"8504\" y=\"-317.3\" font-family=\"Helvetica,sans-Serif\" font-size=\"14.00\" fill=\"#000000\">samples = 6451</text>\n<text text-anchor=\"start\" x=\"8502\" y=\"-302.3\" font-family=\"Helvetica,sans-Serif\" font-size=\"14.00\" fill=\"#000000\">value = [6451, 0]</text>\n</g>\n<!-- 168&#45;&gt;169 -->\n<g id=\"edge169\" class=\"edge\">\n<title>168&#45;&gt;169</title>\n<path fill=\"none\" stroke=\"#000000\" d=\"M8603.4662,-388.8089C8596.1497,-378.3568 8587.9972,-366.7103 8580.5418,-356.0597\"/>\n<polygon fill=\"#000000\" stroke=\"#000000\" points=\"8583.3434,-353.9587 8574.7415,-347.7735 8577.6088,-357.973 8583.3434,-353.9587\"/>\n</g>\n<!-- 170 -->\n<g id=\"node171\" class=\"node\">\n<title>170</title>\n<path fill=\"#e58139\" stroke=\"#000000\" d=\"M8742,-353C8742,-353 8648,-353 8648,-353 8642,-353 8636,-347 8636,-341 8636,-341 8636,-301 8636,-301 8636,-295 8642,-289 8648,-289 8648,-289 8742,-289 8742,-289 8748,-289 8754,-295 8754,-301 8754,-301 8754,-341 8754,-341 8754,-347 8748,-353 8742,-353\"/>\n<text text-anchor=\"start\" x=\"8657\" y=\"-338.8\" font-family=\"Helvetica,sans-Serif\" font-size=\"14.00\" fill=\"#000000\">X</text>\n<text text-anchor=\"start\" x=\"8667\" y=\"-338.8\" font-family=\"Helvetica,sans-Serif\" baseline-shift=\"sub\" font-size=\"14.00\" fill=\"#000000\">70</text>\n<text text-anchor=\"start\" x=\"8681\" y=\"-338.8\" font-family=\"Helvetica,sans-Serif\" font-size=\"14.00\" fill=\"#000000\"> ≤ 0.029</text>\n<text text-anchor=\"start\" x=\"8644\" y=\"-324.8\" font-family=\"Helvetica,sans-Serif\" font-size=\"14.00\" fill=\"#000000\">entropy = 0.022</text>\n<text text-anchor=\"start\" x=\"8647\" y=\"-310.8\" font-family=\"Helvetica,sans-Serif\" font-size=\"14.00\" fill=\"#000000\">samples = 951</text>\n<text text-anchor=\"start\" x=\"8645\" y=\"-296.8\" font-family=\"Helvetica,sans-Serif\" font-size=\"14.00\" fill=\"#000000\">value = [949, 2]</text>\n</g>\n<!-- 168&#45;&gt;170 -->\n<g id=\"edge170\" class=\"edge\">\n<title>168&#45;&gt;170</title>\n<path fill=\"none\" stroke=\"#000000\" d=\"M8648.2118,-388.8089C8654.1828,-380.1553 8660.7187,-370.683 8666.9618,-361.635\"/>\n<polygon fill=\"#000000\" stroke=\"#000000\" points=\"8670.0313,-363.3493 8672.8298,-353.1308 8664.2697,-359.3738 8670.0313,-363.3493\"/>\n</g>\n<!-- 171 -->\n<g id=\"node172\" class=\"node\">\n<title>171</title>\n<path fill=\"#e58139\" stroke=\"#000000\" d=\"M8672,-253C8672,-253 8578,-253 8578,-253 8572,-253 8566,-247 8566,-241 8566,-241 8566,-201 8566,-201 8566,-195 8572,-189 8578,-189 8578,-189 8672,-189 8672,-189 8678,-189 8684,-195 8684,-201 8684,-201 8684,-241 8684,-241 8684,-247 8678,-253 8672,-253\"/>\n<text text-anchor=\"start\" x=\"8587.5\" y=\"-238.8\" font-family=\"Helvetica,sans-Serif\" font-size=\"14.00\" fill=\"#000000\">X</text>\n<text text-anchor=\"start\" x=\"8597.5\" y=\"-238.8\" font-family=\"Helvetica,sans-Serif\" baseline-shift=\"sub\" font-size=\"14.00\" fill=\"#000000\">320</text>\n<text text-anchor=\"start\" x=\"8618.5\" y=\"-238.8\" font-family=\"Helvetica,sans-Serif\" font-size=\"14.00\" fill=\"#000000\"> ≤ 0.99</text>\n<text text-anchor=\"start\" x=\"8574\" y=\"-224.8\" font-family=\"Helvetica,sans-Serif\" font-size=\"14.00\" fill=\"#000000\">entropy = 0.012</text>\n<text text-anchor=\"start\" x=\"8577\" y=\"-210.8\" font-family=\"Helvetica,sans-Serif\" font-size=\"14.00\" fill=\"#000000\">samples = 950</text>\n<text text-anchor=\"start\" x=\"8575\" y=\"-196.8\" font-family=\"Helvetica,sans-Serif\" font-size=\"14.00\" fill=\"#000000\">value = [949, 1]</text>\n</g>\n<!-- 170&#45;&gt;171 -->\n<g id=\"edge171\" class=\"edge\">\n<title>170&#45;&gt;171</title>\n<path fill=\"none\" stroke=\"#000000\" d=\"M8672.4662,-288.8089C8666.3463,-280.0661 8659.6413,-270.4876 8653.2487,-261.3553\"/>\n<polygon fill=\"#000000\" stroke=\"#000000\" points=\"8656.0935,-259.316 8647.4915,-253.1308 8650.3589,-263.3302 8656.0935,-259.316\"/>\n</g>\n<!-- 176 -->\n<g id=\"node177\" class=\"node\">\n<title>176</title>\n<path fill=\"#399de5\" stroke=\"#000000\" d=\"M8791.5,-247.5C8791.5,-247.5 8714.5,-247.5 8714.5,-247.5 8708.5,-247.5 8702.5,-241.5 8702.5,-235.5 8702.5,-235.5 8702.5,-206.5 8702.5,-206.5 8702.5,-200.5 8708.5,-194.5 8714.5,-194.5 8714.5,-194.5 8791.5,-194.5 8791.5,-194.5 8797.5,-194.5 8803.5,-200.5 8803.5,-206.5 8803.5,-206.5 8803.5,-235.5 8803.5,-235.5 8803.5,-241.5 8797.5,-247.5 8791.5,-247.5\"/>\n<text text-anchor=\"start\" x=\"8710.5\" y=\"-232.3\" font-family=\"Helvetica,sans-Serif\" font-size=\"14.00\" fill=\"#000000\">entropy = 0.0</text>\n<text text-anchor=\"start\" x=\"8713.5\" y=\"-217.3\" font-family=\"Helvetica,sans-Serif\" font-size=\"14.00\" fill=\"#000000\">samples = 1</text>\n<text text-anchor=\"start\" x=\"8711.5\" y=\"-202.3\" font-family=\"Helvetica,sans-Serif\" font-size=\"14.00\" fill=\"#000000\">value = [0, 1]</text>\n</g>\n<!-- 170&#45;&gt;176 -->\n<g id=\"edge176\" class=\"edge\">\n<title>170&#45;&gt;176</title>\n<path fill=\"none\" stroke=\"#000000\" d=\"M8713.6708,-288.8089C8719.613,-278.5638 8726.2208,-267.1711 8732.2977,-256.6936\"/>\n<polygon fill=\"#000000\" stroke=\"#000000\" points=\"8735.4817,-258.1799 8737.4714,-247.7735 8729.4265,-254.6678 8735.4817,-258.1799\"/>\n</g>\n<!-- 172 -->\n<g id=\"node173\" class=\"node\">\n<title>172</title>\n<path fill=\"#e58139\" stroke=\"#000000\" d=\"M8565,-147.5C8565,-147.5 8473,-147.5 8473,-147.5 8467,-147.5 8461,-141.5 8461,-135.5 8461,-135.5 8461,-106.5 8461,-106.5 8461,-100.5 8467,-94.5 8473,-94.5 8473,-94.5 8565,-94.5 8565,-94.5 8571,-94.5 8577,-100.5 8577,-106.5 8577,-106.5 8577,-135.5 8577,-135.5 8577,-141.5 8571,-147.5 8565,-147.5\"/>\n<text text-anchor=\"start\" x=\"8476.5\" y=\"-132.3\" font-family=\"Helvetica,sans-Serif\" font-size=\"14.00\" fill=\"#000000\">entropy = 0.0</text>\n<text text-anchor=\"start\" x=\"8471\" y=\"-117.3\" font-family=\"Helvetica,sans-Serif\" font-size=\"14.00\" fill=\"#000000\">samples = 874</text>\n<text text-anchor=\"start\" x=\"8469\" y=\"-102.3\" font-family=\"Helvetica,sans-Serif\" font-size=\"14.00\" fill=\"#000000\">value = [874, 0]</text>\n</g>\n<!-- 171&#45;&gt;172 -->\n<g id=\"edge172\" class=\"edge\">\n<title>171&#45;&gt;172</title>\n<path fill=\"none\" stroke=\"#000000\" d=\"M8590.8775,-188.8089C8579.3594,-177.9428 8566.4731,-165.7859 8554.8271,-154.7991\"/>\n<polygon fill=\"#000000\" stroke=\"#000000\" points=\"8557.0557,-152.0899 8547.3799,-147.7735 8552.2521,-157.1816 8557.0557,-152.0899\"/>\n</g>\n<!-- 173 -->\n<g id=\"node174\" class=\"node\">\n<title>173</title>\n<path fill=\"#e5833c\" stroke=\"#000000\" d=\"M8701,-153C8701,-153 8607,-153 8607,-153 8601,-153 8595,-147 8595,-141 8595,-141 8595,-101 8595,-101 8595,-95 8601,-89 8607,-89 8607,-89 8701,-89 8701,-89 8707,-89 8713,-95 8713,-101 8713,-101 8713,-141 8713,-141 8713,-147 8707,-153 8701,-153\"/>\n<text text-anchor=\"start\" x=\"8612.5\" y=\"-138.8\" font-family=\"Helvetica,sans-Serif\" font-size=\"14.00\" fill=\"#000000\">X</text>\n<text text-anchor=\"start\" x=\"8622.5\" y=\"-138.8\" font-family=\"Helvetica,sans-Serif\" baseline-shift=\"sub\" font-size=\"14.00\" fill=\"#000000\">318</text>\n<text text-anchor=\"start\" x=\"8643.5\" y=\"-138.8\" font-family=\"Helvetica,sans-Serif\" font-size=\"14.00\" fill=\"#000000\"> ≤ 0.282</text>\n<text text-anchor=\"start\" x=\"8603\" y=\"-124.8\" font-family=\"Helvetica,sans-Serif\" font-size=\"14.00\" fill=\"#000000\">entropy = 0.101</text>\n<text text-anchor=\"start\" x=\"8610\" y=\"-110.8\" font-family=\"Helvetica,sans-Serif\" font-size=\"14.00\" fill=\"#000000\">samples = 76</text>\n<text text-anchor=\"start\" x=\"8608.5\" y=\"-96.8\" font-family=\"Helvetica,sans-Serif\" font-size=\"14.00\" fill=\"#000000\">value = [75, 1]</text>\n</g>\n<!-- 171&#45;&gt;173 -->\n<g id=\"edge173\" class=\"edge\">\n<title>171&#45;&gt;173</title>\n<path fill=\"none\" stroke=\"#000000\" d=\"M8634.3354,-188.8089C8636.7415,-180.5122 8639.3658,-171.4628 8641.8906,-162.7565\"/>\n<polygon fill=\"#000000\" stroke=\"#000000\" points=\"8645.2583,-163.7099 8644.6821,-153.1308 8638.5353,-161.7602 8645.2583,-163.7099\"/>\n</g>\n<!-- 174 -->\n<g id=\"node175\" class=\"node\">\n<title>174</title>\n<path fill=\"#ea9a61\" stroke=\"#000000\" d=\"M8570,-53C8570,-53 8484,-53 8484,-53 8478,-53 8472,-47 8472,-41 8472,-41 8472,-12 8472,-12 8472,-6 8478,0 8484,0 8484,0 8570,0 8570,0 8576,0 8582,-6 8582,-12 8582,-12 8582,-41 8582,-41 8582,-47 8576,-53 8570,-53\"/>\n<text text-anchor=\"start\" x=\"8480\" y=\"-37.8\" font-family=\"Helvetica,sans-Serif\" font-size=\"14.00\" fill=\"#000000\">entropy = 0.65</text>\n<text text-anchor=\"start\" x=\"8487.5\" y=\"-22.8\" font-family=\"Helvetica,sans-Serif\" font-size=\"14.00\" fill=\"#000000\">samples = 6</text>\n<text text-anchor=\"start\" x=\"8485.5\" y=\"-7.8\" font-family=\"Helvetica,sans-Serif\" font-size=\"14.00\" fill=\"#000000\">value = [5, 1]</text>\n</g>\n<!-- 173&#45;&gt;174 -->\n<g id=\"edge174\" class=\"edge\">\n<title>173&#45;&gt;174</title>\n<path fill=\"none\" stroke=\"#000000\" d=\"M8610.649,-88.7428C8597.9168,-79.2688 8583.9789,-68.8977 8571.1947,-59.385\"/>\n<polygon fill=\"#000000\" stroke=\"#000000\" points=\"8573.0966,-56.4376 8562.9845,-53.2759 8568.9178,-62.0535 8573.0966,-56.4376\"/>\n</g>\n<!-- 175 -->\n<g id=\"node176\" class=\"node\">\n<title>175</title>\n<path fill=\"#e58139\" stroke=\"#000000\" d=\"M8695.5,-53C8695.5,-53 8612.5,-53 8612.5,-53 8606.5,-53 8600.5,-47 8600.5,-41 8600.5,-41 8600.5,-12 8600.5,-12 8600.5,-6 8606.5,0 8612.5,0 8612.5,0 8695.5,0 8695.5,0 8701.5,0 8707.5,-6 8707.5,-12 8707.5,-12 8707.5,-41 8707.5,-41 8707.5,-47 8701.5,-53 8695.5,-53\"/>\n<text text-anchor=\"start\" x=\"8611.5\" y=\"-37.8\" font-family=\"Helvetica,sans-Serif\" font-size=\"14.00\" fill=\"#000000\">entropy = 0.0</text>\n<text text-anchor=\"start\" x=\"8610\" y=\"-22.8\" font-family=\"Helvetica,sans-Serif\" font-size=\"14.00\" fill=\"#000000\">samples = 70</text>\n<text text-anchor=\"start\" x=\"8608.5\" y=\"-7.8\" font-family=\"Helvetica,sans-Serif\" font-size=\"14.00\" fill=\"#000000\">value = [70, 0]</text>\n</g>\n<!-- 173&#45;&gt;175 -->\n<g id=\"edge175\" class=\"edge\">\n<title>173&#45;&gt;175</title>\n<path fill=\"none\" stroke=\"#000000\" d=\"M8654,-88.7428C8654,-80.6222 8654,-71.8426 8654,-63.5093\"/>\n<polygon fill=\"#000000\" stroke=\"#000000\" points=\"8657.5001,-63.2758 8654,-53.2759 8650.5001,-63.2759 8657.5001,-63.2758\"/>\n</g>\n<!-- 178 -->\n<g id=\"node179\" class=\"node\">\n<title>178</title>\n<path fill=\"#e78d4b\" stroke=\"#000000\" d=\"M9526,-453C9526,-453 9410,-453 9410,-453 9404,-453 9398,-447 9398,-441 9398,-441 9398,-401 9398,-401 9398,-395 9404,-389 9410,-389 9410,-389 9526,-389 9526,-389 9532,-389 9538,-395 9538,-401 9538,-401 9538,-441 9538,-441 9538,-447 9532,-453 9526,-453\"/>\n<text text-anchor=\"start\" x=\"9426.5\" y=\"-438.8\" font-family=\"Helvetica,sans-Serif\" font-size=\"14.00\" fill=\"#000000\">X</text>\n<text text-anchor=\"start\" x=\"9436.5\" y=\"-438.8\" font-family=\"Helvetica,sans-Serif\" baseline-shift=\"sub\" font-size=\"14.00\" fill=\"#000000\">153</text>\n<text text-anchor=\"start\" x=\"9457.5\" y=\"-438.8\" font-family=\"Helvetica,sans-Serif\" font-size=\"14.00\" fill=\"#000000\"> ≤ 0.069</text>\n<text text-anchor=\"start\" x=\"9417\" y=\"-424.8\" font-family=\"Helvetica,sans-Serif\" font-size=\"14.00\" fill=\"#000000\">entropy = 0.419</text>\n<text text-anchor=\"start\" x=\"9416\" y=\"-410.8\" font-family=\"Helvetica,sans-Serif\" font-size=\"14.00\" fill=\"#000000\">samples = 1296</text>\n<text text-anchor=\"start\" x=\"9406\" y=\"-396.8\" font-family=\"Helvetica,sans-Serif\" font-size=\"14.00\" fill=\"#000000\">value = [1186, 110]</text>\n</g>\n<!-- 177&#45;&gt;178 -->\n<g id=\"edge178\" class=\"edge\">\n<title>177&#45;&gt;178</title>\n<path fill=\"none\" stroke=\"#000000\" d=\"M9468,-488.8089C9468,-480.6906 9468,-471.8517 9468,-463.3186\"/>\n<polygon fill=\"#000000\" stroke=\"#000000\" points=\"9471.5001,-463.1307 9468,-453.1308 9464.5001,-463.1308 9471.5001,-463.1307\"/>\n</g>\n<!-- 203 -->\n<g id=\"node204\" class=\"node\">\n<title>203</title>\n<path fill=\"#e58139\" stroke=\"#000000\" d=\"M9834,-453C9834,-453 9734,-453 9734,-453 9728,-453 9722,-447 9722,-441 9722,-441 9722,-401 9722,-401 9722,-395 9728,-389 9734,-389 9734,-389 9834,-389 9834,-389 9840,-389 9846,-395 9846,-401 9846,-401 9846,-441 9846,-441 9846,-447 9840,-453 9834,-453\"/>\n<text text-anchor=\"start\" x=\"9742.5\" y=\"-438.8\" font-family=\"Helvetica,sans-Serif\" font-size=\"14.00\" fill=\"#000000\">X</text>\n<text text-anchor=\"start\" x=\"9752.5\" y=\"-438.8\" font-family=\"Helvetica,sans-Serif\" baseline-shift=\"sub\" font-size=\"14.00\" fill=\"#000000\">520</text>\n<text text-anchor=\"start\" x=\"9773.5\" y=\"-438.8\" font-family=\"Helvetica,sans-Serif\" font-size=\"14.00\" fill=\"#000000\"> ≤ 0.994</text>\n<text text-anchor=\"start\" x=\"9733\" y=\"-424.8\" font-family=\"Helvetica,sans-Serif\" font-size=\"14.00\" fill=\"#000000\">entropy = 0.022</text>\n<text text-anchor=\"start\" x=\"9732\" y=\"-410.8\" font-family=\"Helvetica,sans-Serif\" font-size=\"14.00\" fill=\"#000000\">samples = 1421</text>\n<text text-anchor=\"start\" x=\"9730\" y=\"-396.8\" font-family=\"Helvetica,sans-Serif\" font-size=\"14.00\" fill=\"#000000\">value = [1418, 3]</text>\n</g>\n<!-- 177&#45;&gt;203 -->\n<g id=\"edge203\" class=\"edge\">\n<title>177&#45;&gt;203</title>\n<path fill=\"none\" stroke=\"#000000\" d=\"M9538.1306,-498.8068C9589.8035,-482.4546 9659.8615,-460.2843 9711.9761,-443.7924\"/>\n<polygon fill=\"#000000\" stroke=\"#000000\" points=\"9713.341,-447.0316 9721.819,-440.6775 9711.229,-440.3578 9713.341,-447.0316\"/>\n</g>\n<!-- 179 -->\n<g id=\"node180\" class=\"node\">\n<title>179</title>\n<path fill=\"#e68540\" stroke=\"#000000\" d=\"M9435,-353C9435,-353 9335,-353 9335,-353 9329,-353 9323,-347 9323,-341 9323,-341 9323,-301 9323,-301 9323,-295 9329,-289 9335,-289 9335,-289 9435,-289 9435,-289 9441,-289 9447,-295 9447,-301 9447,-301 9447,-341 9447,-341 9447,-347 9441,-353 9435,-353\"/>\n<text text-anchor=\"start\" x=\"9343.5\" y=\"-338.8\" font-family=\"Helvetica,sans-Serif\" font-size=\"14.00\" fill=\"#000000\">X</text>\n<text text-anchor=\"start\" x=\"9353.5\" y=\"-338.8\" font-family=\"Helvetica,sans-Serif\" baseline-shift=\"sub\" font-size=\"14.00\" fill=\"#000000\">459</text>\n<text text-anchor=\"start\" x=\"9374.5\" y=\"-338.8\" font-family=\"Helvetica,sans-Serif\" font-size=\"14.00\" fill=\"#000000\"> ≤ 0.041</text>\n<text text-anchor=\"start\" x=\"9334\" y=\"-324.8\" font-family=\"Helvetica,sans-Serif\" font-size=\"14.00\" fill=\"#000000\">entropy = 0.215</text>\n<text text-anchor=\"start\" x=\"9337\" y=\"-310.8\" font-family=\"Helvetica,sans-Serif\" font-size=\"14.00\" fill=\"#000000\">samples = 879</text>\n<text text-anchor=\"start\" x=\"9331\" y=\"-296.8\" font-family=\"Helvetica,sans-Serif\" font-size=\"14.00\" fill=\"#000000\">value = [849, 30]</text>\n</g>\n<!-- 178&#45;&gt;179 -->\n<g id=\"edge179\" class=\"edge\">\n<title>178&#45;&gt;179</title>\n<path fill=\"none\" stroke=\"#000000\" d=\"M9441.2814,-388.8089C9433.9508,-379.9769 9425.9124,-370.2921 9418.263,-361.0759\"/>\n<polygon fill=\"#000000\" stroke=\"#000000\" points=\"9420.7485,-358.5902 9411.6685,-353.1308 9415.3621,-363.0609 9420.7485,-358.5902\"/>\n</g>\n<!-- 188 -->\n<g id=\"node189\" class=\"node\">\n<title>188</title>\n<path fill=\"#eb9f68\" stroke=\"#000000\" d=\"M9605,-353C9605,-353 9505,-353 9505,-353 9499,-353 9493,-347 9493,-341 9493,-341 9493,-301 9493,-301 9493,-295 9499,-289 9505,-289 9505,-289 9605,-289 9605,-289 9611,-289 9617,-295 9617,-301 9617,-301 9617,-341 9617,-341 9617,-347 9611,-353 9605,-353\"/>\n<text text-anchor=\"start\" x=\"9513.5\" y=\"-338.8\" font-family=\"Helvetica,sans-Serif\" font-size=\"14.00\" fill=\"#000000\">X</text>\n<text text-anchor=\"start\" x=\"9523.5\" y=\"-338.8\" font-family=\"Helvetica,sans-Serif\" baseline-shift=\"sub\" font-size=\"14.00\" fill=\"#000000\">546</text>\n<text text-anchor=\"start\" x=\"9544.5\" y=\"-338.8\" font-family=\"Helvetica,sans-Serif\" font-size=\"14.00\" fill=\"#000000\"> ≤ 0.518</text>\n<text text-anchor=\"start\" x=\"9504\" y=\"-324.8\" font-family=\"Helvetica,sans-Serif\" font-size=\"14.00\" fill=\"#000000\">entropy = 0.705</text>\n<text text-anchor=\"start\" x=\"9507\" y=\"-310.8\" font-family=\"Helvetica,sans-Serif\" font-size=\"14.00\" fill=\"#000000\">samples = 417</text>\n<text text-anchor=\"start\" x=\"9501\" y=\"-296.8\" font-family=\"Helvetica,sans-Serif\" font-size=\"14.00\" fill=\"#000000\">value = [337, 80]</text>\n</g>\n<!-- 178&#45;&gt;188 -->\n<g id=\"edge188\" class=\"edge\">\n<title>178&#45;&gt;188</title>\n<path fill=\"none\" stroke=\"#000000\" d=\"M9496.0062,-388.8089C9503.7677,-379.8877 9512.2862,-370.0963 9520.3768,-360.7968\"/>\n<polygon fill=\"#000000\" stroke=\"#000000\" points=\"9523.1231,-362.9725 9527.0462,-353.1308 9517.842,-358.3779 9523.1231,-362.9725\"/>\n</g>\n<!-- 180 -->\n<g id=\"node181\" class=\"node\">\n<title>180</title>\n<path fill=\"#e78a47\" stroke=\"#000000\" d=\"M9171,-253C9171,-253 9071,-253 9071,-253 9065,-253 9059,-247 9059,-241 9059,-241 9059,-201 9059,-201 9059,-195 9065,-189 9071,-189 9071,-189 9171,-189 9171,-189 9177,-189 9183,-195 9183,-201 9183,-201 9183,-241 9183,-241 9183,-247 9177,-253 9171,-253\"/>\n<text text-anchor=\"start\" x=\"9079.5\" y=\"-238.8\" font-family=\"Helvetica,sans-Serif\" font-size=\"14.00\" fill=\"#000000\">X</text>\n<text text-anchor=\"start\" x=\"9089.5\" y=\"-238.8\" font-family=\"Helvetica,sans-Serif\" baseline-shift=\"sub\" font-size=\"14.00\" fill=\"#000000\">378</text>\n<text text-anchor=\"start\" x=\"9110.5\" y=\"-238.8\" font-family=\"Helvetica,sans-Serif\" font-size=\"14.00\" fill=\"#000000\"> ≤ 0.716</text>\n<text text-anchor=\"start\" x=\"9070\" y=\"-224.8\" font-family=\"Helvetica,sans-Serif\" font-size=\"14.00\" fill=\"#000000\">entropy = 0.344</text>\n<text text-anchor=\"start\" x=\"9073\" y=\"-210.8\" font-family=\"Helvetica,sans-Serif\" font-size=\"14.00\" fill=\"#000000\">samples = 467</text>\n<text text-anchor=\"start\" x=\"9067\" y=\"-196.8\" font-family=\"Helvetica,sans-Serif\" font-size=\"14.00\" fill=\"#000000\">value = [437, 30]</text>\n</g>\n<!-- 179&#45;&gt;180 -->\n<g id=\"edge180\" class=\"edge\">\n<title>179&#45;&gt;180</title>\n<path fill=\"none\" stroke=\"#000000\" d=\"M9322.77,-297.428C9283.8189,-282.6738 9233.4934,-263.6111 9192.8473,-248.2149\"/>\n<polygon fill=\"#000000\" stroke=\"#000000\" points=\"9193.8606,-244.8561 9183.2692,-244.5868 9191.3809,-251.4022 9193.8606,-244.8561\"/>\n</g>\n<!-- 187 -->\n<g id=\"node188\" class=\"node\">\n<title>187</title>\n<path fill=\"#e58139\" stroke=\"#000000\" d=\"M9431,-247.5C9431,-247.5 9339,-247.5 9339,-247.5 9333,-247.5 9327,-241.5 9327,-235.5 9327,-235.5 9327,-206.5 9327,-206.5 9327,-200.5 9333,-194.5 9339,-194.5 9339,-194.5 9431,-194.5 9431,-194.5 9437,-194.5 9443,-200.5 9443,-206.5 9443,-206.5 9443,-235.5 9443,-235.5 9443,-241.5 9437,-247.5 9431,-247.5\"/>\n<text text-anchor=\"start\" x=\"9342.5\" y=\"-232.3\" font-family=\"Helvetica,sans-Serif\" font-size=\"14.00\" fill=\"#000000\">entropy = 0.0</text>\n<text text-anchor=\"start\" x=\"9337\" y=\"-217.3\" font-family=\"Helvetica,sans-Serif\" font-size=\"14.00\" fill=\"#000000\">samples = 412</text>\n<text text-anchor=\"start\" x=\"9335\" y=\"-202.3\" font-family=\"Helvetica,sans-Serif\" font-size=\"14.00\" fill=\"#000000\">value = [412, 0]</text>\n</g>\n<!-- 179&#45;&gt;187 -->\n<g id=\"edge187\" class=\"edge\">\n<title>179&#45;&gt;187</title>\n<path fill=\"none\" stroke=\"#000000\" d=\"M9385,-288.8089C9385,-278.9777 9385,-268.0898 9385,-257.9679\"/>\n<polygon fill=\"#000000\" stroke=\"#000000\" points=\"9388.5001,-257.7735 9385,-247.7735 9381.5001,-257.7736 9388.5001,-257.7735\"/>\n</g>\n<!-- 181 -->\n<g id=\"node182\" class=\"node\">\n<title>181</title>\n<path fill=\"#e5823b\" stroke=\"#000000\" d=\"M8966,-153C8966,-153 8872,-153 8872,-153 8866,-153 8860,-147 8860,-141 8860,-141 8860,-101 8860,-101 8860,-95 8866,-89 8872,-89 8872,-89 8966,-89 8966,-89 8972,-89 8978,-95 8978,-101 8978,-101 8978,-141 8978,-141 8978,-147 8972,-153 8966,-153\"/>\n<text text-anchor=\"start\" x=\"8877.5\" y=\"-138.8\" font-family=\"Helvetica,sans-Serif\" font-size=\"14.00\" fill=\"#000000\">X</text>\n<text text-anchor=\"start\" x=\"8887.5\" y=\"-138.8\" font-family=\"Helvetica,sans-Serif\" baseline-shift=\"sub\" font-size=\"14.00\" fill=\"#000000\">462</text>\n<text text-anchor=\"start\" x=\"8908.5\" y=\"-138.8\" font-family=\"Helvetica,sans-Serif\" font-size=\"14.00\" fill=\"#000000\"> ≤ 0.647</text>\n<text text-anchor=\"start\" x=\"8868\" y=\"-124.8\" font-family=\"Helvetica,sans-Serif\" font-size=\"14.00\" fill=\"#000000\">entropy = 0.078</text>\n<text text-anchor=\"start\" x=\"8871\" y=\"-110.8\" font-family=\"Helvetica,sans-Serif\" font-size=\"14.00\" fill=\"#000000\">samples = 312</text>\n<text text-anchor=\"start\" x=\"8869\" y=\"-96.8\" font-family=\"Helvetica,sans-Serif\" font-size=\"14.00\" fill=\"#000000\">value = [309, 3]</text>\n</g>\n<!-- 180&#45;&gt;181 -->\n<g id=\"edge181\" class=\"edge\">\n<title>180&#45;&gt;181</title>\n<path fill=\"none\" stroke=\"#000000\" d=\"M9058.7451,-190.1807C9036.1284,-178.9844 9010.4565,-166.2755 8987.342,-154.8327\"/>\n<polygon fill=\"#000000\" stroke=\"#000000\" points=\"8988.8002,-151.6492 8978.2854,-150.3492 8985.6945,-157.9225 8988.8002,-151.6492\"/>\n</g>\n<!-- 184 -->\n<g id=\"node185\" class=\"node\">\n<title>184</title>\n<path fill=\"#ea9c63\" stroke=\"#000000\" d=\"M9171,-153C9171,-153 9071,-153 9071,-153 9065,-153 9059,-147 9059,-141 9059,-141 9059,-101 9059,-101 9059,-95 9065,-89 9071,-89 9071,-89 9171,-89 9171,-89 9177,-89 9183,-95 9183,-101 9183,-101 9183,-141 9183,-141 9183,-147 9177,-153 9171,-153\"/>\n<text text-anchor=\"start\" x=\"9079.5\" y=\"-138.8\" font-family=\"Helvetica,sans-Serif\" font-size=\"14.00\" fill=\"#000000\">X</text>\n<text text-anchor=\"start\" x=\"9089.5\" y=\"-138.8\" font-family=\"Helvetica,sans-Serif\" baseline-shift=\"sub\" font-size=\"14.00\" fill=\"#000000\">465</text>\n<text text-anchor=\"start\" x=\"9110.5\" y=\"-138.8\" font-family=\"Helvetica,sans-Serif\" font-size=\"14.00\" fill=\"#000000\"> ≤ 0.112</text>\n<text text-anchor=\"start\" x=\"9070\" y=\"-124.8\" font-family=\"Helvetica,sans-Serif\" font-size=\"14.00\" fill=\"#000000\">entropy = 0.667</text>\n<text text-anchor=\"start\" x=\"9073\" y=\"-110.8\" font-family=\"Helvetica,sans-Serif\" font-size=\"14.00\" fill=\"#000000\">samples = 155</text>\n<text text-anchor=\"start\" x=\"9067\" y=\"-96.8\" font-family=\"Helvetica,sans-Serif\" font-size=\"14.00\" fill=\"#000000\">value = [128, 27]</text>\n</g>\n<!-- 180&#45;&gt;184 -->\n<g id=\"edge184\" class=\"edge\">\n<title>180&#45;&gt;184</title>\n<path fill=\"none\" stroke=\"#000000\" d=\"M9121,-188.8089C9121,-180.6906 9121,-171.8517 9121,-163.3186\"/>\n<polygon fill=\"#000000\" stroke=\"#000000\" points=\"9124.5001,-163.1307 9121,-153.1308 9117.5001,-163.1308 9124.5001,-163.1307\"/>\n</g>\n<!-- 182 -->\n<g id=\"node183\" class=\"node\">\n<title>182</title>\n<path fill=\"#e58139\" stroke=\"#000000\" d=\"M8830,-53C8830,-53 8738,-53 8738,-53 8732,-53 8726,-47 8726,-41 8726,-41 8726,-12 8726,-12 8726,-6 8732,0 8738,0 8738,0 8830,0 8830,0 8836,0 8842,-6 8842,-12 8842,-12 8842,-41 8842,-41 8842,-47 8836,-53 8830,-53\"/>\n<text text-anchor=\"start\" x=\"8741.5\" y=\"-37.8\" font-family=\"Helvetica,sans-Serif\" font-size=\"14.00\" fill=\"#000000\">entropy = 0.0</text>\n<text text-anchor=\"start\" x=\"8736\" y=\"-22.8\" font-family=\"Helvetica,sans-Serif\" font-size=\"14.00\" fill=\"#000000\">samples = 248</text>\n<text text-anchor=\"start\" x=\"8734\" y=\"-7.8\" font-family=\"Helvetica,sans-Serif\" font-size=\"14.00\" fill=\"#000000\">value = [248, 0]</text>\n</g>\n<!-- 181&#45;&gt;182 -->\n<g id=\"edge182\" class=\"edge\">\n<title>181&#45;&gt;182</title>\n<path fill=\"none\" stroke=\"#000000\" d=\"M8872.9182,-88.7428C8859.2551,-79.1786 8844.2858,-68.7001 8830.5907,-59.1135\"/>\n<polygon fill=\"#000000\" stroke=\"#000000\" points=\"8832.4507,-56.1432 8822.2512,-53.2759 8828.4364,-61.8778 8832.4507,-56.1432\"/>\n</g>\n<!-- 183 -->\n<g id=\"node184\" class=\"node\">\n<title>183</title>\n<path fill=\"#e68743\" stroke=\"#000000\" d=\"M8966,-53C8966,-53 8872,-53 8872,-53 8866,-53 8860,-47 8860,-41 8860,-41 8860,-12 8860,-12 8860,-6 8866,0 8872,0 8872,0 8966,0 8966,0 8972,0 8978,-6 8978,-12 8978,-12 8978,-41 8978,-41 8978,-47 8972,-53 8966,-53\"/>\n<text text-anchor=\"start\" x=\"8868\" y=\"-37.8\" font-family=\"Helvetica,sans-Serif\" font-size=\"14.00\" fill=\"#000000\">entropy = 0.273</text>\n<text text-anchor=\"start\" x=\"8875\" y=\"-22.8\" font-family=\"Helvetica,sans-Serif\" font-size=\"14.00\" fill=\"#000000\">samples = 64</text>\n<text text-anchor=\"start\" x=\"8873.5\" y=\"-7.8\" font-family=\"Helvetica,sans-Serif\" font-size=\"14.00\" fill=\"#000000\">value = [61, 3]</text>\n</g>\n<!-- 181&#45;&gt;183 -->\n<g id=\"edge183\" class=\"edge\">\n<title>181&#45;&gt;183</title>\n<path fill=\"none\" stroke=\"#000000\" d=\"M8919,-88.7428C8919,-80.6222 8919,-71.8426 8919,-63.5093\"/>\n<polygon fill=\"#000000\" stroke=\"#000000\" points=\"8922.5001,-63.2758 8919,-53.2759 8915.5001,-63.2759 8922.5001,-63.2758\"/>\n</g>\n<!-- 185 -->\n<g id=\"node186\" class=\"node\">\n<title>185</title>\n<path fill=\"#f8ddca\" stroke=\"#000000\" d=\"M9102,-53C9102,-53 9008,-53 9008,-53 9002,-53 8996,-47 8996,-41 8996,-41 8996,-12 8996,-12 8996,-6 9002,0 9008,0 9008,0 9102,0 9102,0 9108,0 9114,-6 9114,-12 9114,-12 9114,-41 9114,-41 9114,-47 9108,-53 9102,-53\"/>\n<text text-anchor=\"start\" x=\"9004\" y=\"-37.8\" font-family=\"Helvetica,sans-Serif\" font-size=\"14.00\" fill=\"#000000\">entropy = 0.983</text>\n<text text-anchor=\"start\" x=\"9011\" y=\"-22.8\" font-family=\"Helvetica,sans-Serif\" font-size=\"14.00\" fill=\"#000000\">samples = 52</text>\n<text text-anchor=\"start\" x=\"9005\" y=\"-7.8\" font-family=\"Helvetica,sans-Serif\" font-size=\"14.00\" fill=\"#000000\">value = [30, 22]</text>\n</g>\n<!-- 184&#45;&gt;185 -->\n<g id=\"edge185\" class=\"edge\">\n<title>184&#45;&gt;185</title>\n<path fill=\"none\" stroke=\"#000000\" d=\"M9098.4711,-88.7428C9092.3585,-79.9906 9085.7112,-70.4728 9079.4958,-61.5735\"/>\n<polygon fill=\"#000000\" stroke=\"#000000\" points=\"9082.296,-59.4702 9073.7006,-53.2759 9076.5571,-63.4784 9082.296,-59.4702\"/>\n</g>\n<!-- 186 -->\n<g id=\"node187\" class=\"node\">\n<title>186</title>\n<path fill=\"#e68743\" stroke=\"#000000\" d=\"M9232,-53C9232,-53 9144,-53 9144,-53 9138,-53 9132,-47 9132,-41 9132,-41 9132,-12 9132,-12 9132,-6 9138,0 9144,0 9144,0 9232,0 9232,0 9238,0 9244,-6 9244,-12 9244,-12 9244,-41 9244,-41 9244,-47 9238,-53 9232,-53\"/>\n<text text-anchor=\"start\" x=\"9141\" y=\"-37.8\" font-family=\"Helvetica,sans-Serif\" font-size=\"14.00\" fill=\"#000000\">entropy = 0.28</text>\n<text text-anchor=\"start\" x=\"9140\" y=\"-22.8\" font-family=\"Helvetica,sans-Serif\" font-size=\"14.00\" fill=\"#000000\">samples = 103</text>\n<text text-anchor=\"start\" x=\"9142.5\" y=\"-7.8\" font-family=\"Helvetica,sans-Serif\" font-size=\"14.00\" fill=\"#000000\">value = [98, 5]</text>\n</g>\n<!-- 184&#45;&gt;186 -->\n<g id=\"edge186\" class=\"edge\">\n<title>184&#45;&gt;186</title>\n<path fill=\"none\" stroke=\"#000000\" d=\"M9143.8702,-88.7428C9150.0754,-79.9906 9156.8235,-70.4728 9163.1331,-61.5735\"/>\n<polygon fill=\"#000000\" stroke=\"#000000\" points=\"9166.0874,-63.4579 9169.0161,-53.2759 9160.377,-59.4093 9166.0874,-63.4579\"/>\n</g>\n<!-- 189 -->\n<g id=\"node190\" class=\"node\">\n<title>189</title>\n<path fill=\"#e6853f\" stroke=\"#000000\" d=\"M9602,-253C9602,-253 9508,-253 9508,-253 9502,-253 9496,-247 9496,-241 9496,-241 9496,-201 9496,-201 9496,-195 9502,-189 9508,-189 9508,-189 9602,-189 9602,-189 9608,-189 9614,-195 9614,-201 9614,-201 9614,-241 9614,-241 9614,-247 9608,-253 9602,-253\"/>\n<text text-anchor=\"start\" x=\"9517\" y=\"-238.8\" font-family=\"Helvetica,sans-Serif\" font-size=\"14.00\" fill=\"#000000\">X</text>\n<text text-anchor=\"start\" x=\"9527\" y=\"-238.8\" font-family=\"Helvetica,sans-Serif\" baseline-shift=\"sub\" font-size=\"14.00\" fill=\"#000000\">98</text>\n<text text-anchor=\"start\" x=\"9541\" y=\"-238.8\" font-family=\"Helvetica,sans-Serif\" font-size=\"14.00\" fill=\"#000000\"> ≤ 0.016</text>\n<text text-anchor=\"start\" x=\"9504\" y=\"-224.8\" font-family=\"Helvetica,sans-Serif\" font-size=\"14.00\" fill=\"#000000\">entropy = 0.203</text>\n<text text-anchor=\"start\" x=\"9507\" y=\"-210.8\" font-family=\"Helvetica,sans-Serif\" font-size=\"14.00\" fill=\"#000000\">samples = 252</text>\n<text text-anchor=\"start\" x=\"9505\" y=\"-196.8\" font-family=\"Helvetica,sans-Serif\" font-size=\"14.00\" fill=\"#000000\">value = [244, 8]</text>\n</g>\n<!-- 188&#45;&gt;189 -->\n<g id=\"edge189\" class=\"edge\">\n<title>188&#45;&gt;189</title>\n<path fill=\"none\" stroke=\"#000000\" d=\"M9555,-288.8089C9555,-280.6906 9555,-271.8517 9555,-263.3186\"/>\n<polygon fill=\"#000000\" stroke=\"#000000\" points=\"9558.5001,-263.1307 9555,-253.1308 9551.5001,-263.1308 9558.5001,-263.1307\"/>\n</g>\n<!-- 196 -->\n<g id=\"node197\" class=\"node\">\n<title>196</title>\n<path fill=\"#f9e3d2\" stroke=\"#000000\" d=\"M9872,-253C9872,-253 9778,-253 9778,-253 9772,-253 9766,-247 9766,-241 9766,-241 9766,-201 9766,-201 9766,-195 9772,-189 9778,-189 9778,-189 9872,-189 9872,-189 9878,-189 9884,-195 9884,-201 9884,-201 9884,-241 9884,-241 9884,-247 9878,-253 9872,-253\"/>\n<text text-anchor=\"start\" x=\"9783.5\" y=\"-238.8\" font-family=\"Helvetica,sans-Serif\" font-size=\"14.00\" fill=\"#000000\">X</text>\n<text text-anchor=\"start\" x=\"9793.5\" y=\"-238.8\" font-family=\"Helvetica,sans-Serif\" baseline-shift=\"sub\" font-size=\"14.00\" fill=\"#000000\">213</text>\n<text text-anchor=\"start\" x=\"9814.5\" y=\"-238.8\" font-family=\"Helvetica,sans-Serif\" font-size=\"14.00\" fill=\"#000000\"> ≤ 0.002</text>\n<text text-anchor=\"start\" x=\"9774\" y=\"-224.8\" font-family=\"Helvetica,sans-Serif\" font-size=\"14.00\" fill=\"#000000\">entropy = 0.988</text>\n<text text-anchor=\"start\" x=\"9777\" y=\"-210.8\" font-family=\"Helvetica,sans-Serif\" font-size=\"14.00\" fill=\"#000000\">samples = 165</text>\n<text text-anchor=\"start\" x=\"9775\" y=\"-196.8\" font-family=\"Helvetica,sans-Serif\" font-size=\"14.00\" fill=\"#000000\">value = [93, 72]</text>\n</g>\n<!-- 188&#45;&gt;196 -->\n<g id=\"edge196\" class=\"edge\">\n<title>188&#45;&gt;196</title>\n<path fill=\"none\" stroke=\"#000000\" d=\"M9617.2825,-297.9324C9658.8364,-282.5421 9713.4919,-262.2993 9756.3086,-246.4413\"/>\n<polygon fill=\"#000000\" stroke=\"#000000\" points=\"9757.6474,-249.6778 9765.8093,-242.9225 9755.2162,-243.1136 9757.6474,-249.6778\"/>\n</g>\n<!-- 190 -->\n<g id=\"node191\" class=\"node\">\n<title>190</title>\n<path fill=\"#e5833b\" stroke=\"#000000\" d=\"M9498,-153C9498,-153 9404,-153 9404,-153 9398,-153 9392,-147 9392,-141 9392,-141 9392,-101 9392,-101 9392,-95 9398,-89 9404,-89 9404,-89 9498,-89 9498,-89 9504,-89 9510,-95 9510,-101 9510,-101 9510,-141 9510,-141 9510,-147 9504,-153 9498,-153\"/>\n<text text-anchor=\"start\" x=\"9409.5\" y=\"-138.8\" font-family=\"Helvetica,sans-Serif\" font-size=\"14.00\" fill=\"#000000\">X</text>\n<text text-anchor=\"start\" x=\"9419.5\" y=\"-138.8\" font-family=\"Helvetica,sans-Serif\" baseline-shift=\"sub\" font-size=\"14.00\" fill=\"#000000\">519</text>\n<text text-anchor=\"start\" x=\"9440.5\" y=\"-138.8\" font-family=\"Helvetica,sans-Serif\" font-size=\"14.00\" fill=\"#000000\"> ≤ 0.988</text>\n<text text-anchor=\"start\" x=\"9400\" y=\"-124.8\" font-family=\"Helvetica,sans-Serif\" font-size=\"14.00\" fill=\"#000000\">entropy = 0.097</text>\n<text text-anchor=\"start\" x=\"9403\" y=\"-110.8\" font-family=\"Helvetica,sans-Serif\" font-size=\"14.00\" fill=\"#000000\">samples = 241</text>\n<text text-anchor=\"start\" x=\"9401\" y=\"-96.8\" font-family=\"Helvetica,sans-Serif\" font-size=\"14.00\" fill=\"#000000\">value = [238, 3]</text>\n</g>\n<!-- 189&#45;&gt;190 -->\n<g id=\"edge190\" class=\"edge\">\n<title>189&#45;&gt;190</title>\n<path fill=\"none\" stroke=\"#000000\" d=\"M9521.5213,-188.8089C9512.0576,-179.7092 9501.6525,-169.7043 9491.809,-160.2394\"/>\n<polygon fill=\"#000000\" stroke=\"#000000\" points=\"9494.0502,-157.539 9484.416,-153.1308 9489.1985,-162.5848 9494.0502,-157.539\"/>\n</g>\n<!-- 193 -->\n<g id=\"node194\" class=\"node\">\n<title>193</title>\n<path fill=\"#fbeade\" stroke=\"#000000\" d=\"M9634,-153C9634,-153 9540,-153 9540,-153 9534,-153 9528,-147 9528,-141 9528,-141 9528,-101 9528,-101 9528,-95 9534,-89 9540,-89 9540,-89 9634,-89 9634,-89 9640,-89 9646,-95 9646,-101 9646,-101 9646,-141 9646,-141 9646,-147 9640,-153 9634,-153\"/>\n<text text-anchor=\"start\" x=\"9545.5\" y=\"-138.8\" font-family=\"Helvetica,sans-Serif\" font-size=\"14.00\" fill=\"#000000\">X</text>\n<text text-anchor=\"start\" x=\"9555.5\" y=\"-138.8\" font-family=\"Helvetica,sans-Serif\" baseline-shift=\"sub\" font-size=\"14.00\" fill=\"#000000\">128</text>\n<text text-anchor=\"start\" x=\"9576.5\" y=\"-138.8\" font-family=\"Helvetica,sans-Serif\" font-size=\"14.00\" fill=\"#000000\"> ≤ 0.498</text>\n<text text-anchor=\"start\" x=\"9536\" y=\"-124.8\" font-family=\"Helvetica,sans-Serif\" font-size=\"14.00\" fill=\"#000000\">entropy = 0.994</text>\n<text text-anchor=\"start\" x=\"9543\" y=\"-110.8\" font-family=\"Helvetica,sans-Serif\" font-size=\"14.00\" fill=\"#000000\">samples = 11</text>\n<text text-anchor=\"start\" x=\"9545.5\" y=\"-96.8\" font-family=\"Helvetica,sans-Serif\" font-size=\"14.00\" fill=\"#000000\">value = [6, 5]</text>\n</g>\n<!-- 189&#45;&gt;193 -->\n<g id=\"edge193\" class=\"edge\">\n<title>189&#45;&gt;193</title>\n<path fill=\"none\" stroke=\"#000000\" d=\"M9565.3011,-188.8089C9567.9561,-180.5122 9570.8519,-171.4628 9573.6379,-162.7565\"/>\n<polygon fill=\"#000000\" stroke=\"#000000\" points=\"9577.0038,-163.7217 9576.7182,-153.1308 9570.3368,-161.5883 9577.0038,-163.7217\"/>\n</g>\n<!-- 191 -->\n<g id=\"node192\" class=\"node\">\n<title>191</title>\n<path fill=\"#e58139\" stroke=\"#000000\" d=\"M9366,-53C9366,-53 9274,-53 9274,-53 9268,-53 9262,-47 9262,-41 9262,-41 9262,-12 9262,-12 9262,-6 9268,0 9274,0 9274,0 9366,0 9366,0 9372,0 9378,-6 9378,-12 9378,-12 9378,-41 9378,-41 9378,-47 9372,-53 9366,-53\"/>\n<text text-anchor=\"start\" x=\"9277.5\" y=\"-37.8\" font-family=\"Helvetica,sans-Serif\" font-size=\"14.00\" fill=\"#000000\">entropy = 0.0</text>\n<text text-anchor=\"start\" x=\"9272\" y=\"-22.8\" font-family=\"Helvetica,sans-Serif\" font-size=\"14.00\" fill=\"#000000\">samples = 228</text>\n<text text-anchor=\"start\" x=\"9270\" y=\"-7.8\" font-family=\"Helvetica,sans-Serif\" font-size=\"14.00\" fill=\"#000000\">value = [228, 0]</text>\n</g>\n<!-- 190&#45;&gt;191 -->\n<g id=\"edge191\" class=\"edge\">\n<title>190&#45;&gt;191</title>\n<path fill=\"none\" stroke=\"#000000\" d=\"M9406.2836,-88.7428C9393.1504,-79.2688 9378.7735,-68.8977 9365.5866,-59.385\"/>\n<polygon fill=\"#000000\" stroke=\"#000000\" points=\"9367.2756,-56.2878 9357.1179,-53.2759 9363.1803,-61.9648 9367.2756,-56.2878\"/>\n</g>\n<!-- 192 -->\n<g id=\"node193\" class=\"node\">\n<title>192</title>\n<path fill=\"#eda774\" stroke=\"#000000\" d=\"M9502,-53C9502,-53 9408,-53 9408,-53 9402,-53 9396,-47 9396,-41 9396,-41 9396,-12 9396,-12 9396,-6 9402,0 9408,0 9408,0 9502,0 9502,0 9508,0 9514,-6 9514,-12 9514,-12 9514,-41 9514,-41 9514,-47 9508,-53 9502,-53\"/>\n<text text-anchor=\"start\" x=\"9404\" y=\"-37.8\" font-family=\"Helvetica,sans-Serif\" font-size=\"14.00\" fill=\"#000000\">entropy = 0.779</text>\n<text text-anchor=\"start\" x=\"9411\" y=\"-22.8\" font-family=\"Helvetica,sans-Serif\" font-size=\"14.00\" fill=\"#000000\">samples = 13</text>\n<text text-anchor=\"start\" x=\"9409.5\" y=\"-7.8\" font-family=\"Helvetica,sans-Serif\" font-size=\"14.00\" fill=\"#000000\">value = [10, 3]</text>\n</g>\n<!-- 190&#45;&gt;192 -->\n<g id=\"edge192\" class=\"edge\">\n<title>190&#45;&gt;192</title>\n<path fill=\"none\" stroke=\"#000000\" d=\"M9452.3654,-88.7428C9452.7091,-80.6222 9453.0807,-71.8426 9453.4335,-63.5093\"/>\n<polygon fill=\"#000000\" stroke=\"#000000\" points=\"9456.9405,-63.415 9453.8666,-53.2759 9449.9468,-63.1189 9456.9405,-63.415\"/>\n</g>\n<!-- 194 -->\n<g id=\"node195\" class=\"node\">\n<title>194</title>\n<path fill=\"#399de5\" stroke=\"#000000\" d=\"M9621.5,-53C9621.5,-53 9544.5,-53 9544.5,-53 9538.5,-53 9532.5,-47 9532.5,-41 9532.5,-41 9532.5,-12 9532.5,-12 9532.5,-6 9538.5,0 9544.5,0 9544.5,0 9621.5,0 9621.5,0 9627.5,0 9633.5,-6 9633.5,-12 9633.5,-12 9633.5,-41 9633.5,-41 9633.5,-47 9627.5,-53 9621.5,-53\"/>\n<text text-anchor=\"start\" x=\"9540.5\" y=\"-37.8\" font-family=\"Helvetica,sans-Serif\" font-size=\"14.00\" fill=\"#000000\">entropy = 0.0</text>\n<text text-anchor=\"start\" x=\"9543.5\" y=\"-22.8\" font-family=\"Helvetica,sans-Serif\" font-size=\"14.00\" fill=\"#000000\">samples = 5</text>\n<text text-anchor=\"start\" x=\"9541.5\" y=\"-7.8\" font-family=\"Helvetica,sans-Serif\" font-size=\"14.00\" fill=\"#000000\">value = [0, 5]</text>\n</g>\n<!-- 193&#45;&gt;194 -->\n<g id=\"edge194\" class=\"edge\">\n<title>193&#45;&gt;194</title>\n<path fill=\"none\" stroke=\"#000000\" d=\"M9585.6346,-88.7428C9585.2909,-80.6222 9584.9193,-71.8426 9584.5665,-63.5093\"/>\n<polygon fill=\"#000000\" stroke=\"#000000\" points=\"9588.0532,-63.1189 9584.1334,-53.2759 9581.0595,-63.415 9588.0532,-63.1189\"/>\n</g>\n<!-- 195 -->\n<g id=\"node196\" class=\"node\">\n<title>195</title>\n<path fill=\"#e58139\" stroke=\"#000000\" d=\"M9740.5,-53C9740.5,-53 9663.5,-53 9663.5,-53 9657.5,-53 9651.5,-47 9651.5,-41 9651.5,-41 9651.5,-12 9651.5,-12 9651.5,-6 9657.5,0 9663.5,0 9663.5,0 9740.5,0 9740.5,0 9746.5,0 9752.5,-6 9752.5,-12 9752.5,-12 9752.5,-41 9752.5,-41 9752.5,-47 9746.5,-53 9740.5,-53\"/>\n<text text-anchor=\"start\" x=\"9659.5\" y=\"-37.8\" font-family=\"Helvetica,sans-Serif\" font-size=\"14.00\" fill=\"#000000\">entropy = 0.0</text>\n<text text-anchor=\"start\" x=\"9662.5\" y=\"-22.8\" font-family=\"Helvetica,sans-Serif\" font-size=\"14.00\" fill=\"#000000\">samples = 6</text>\n<text text-anchor=\"start\" x=\"9660.5\" y=\"-7.8\" font-family=\"Helvetica,sans-Serif\" font-size=\"14.00\" fill=\"#000000\">value = [6, 0]</text>\n</g>\n<!-- 193&#45;&gt;195 -->\n<g id=\"edge195\" class=\"edge\">\n<title>193&#45;&gt;195</title>\n<path fill=\"none\" stroke=\"#000000\" d=\"M9626.2548,-88.7428C9637.6742,-79.359 9650.1646,-69.0952 9661.6502,-59.657\"/>\n<polygon fill=\"#000000\" stroke=\"#000000\" points=\"9663.9116,-62.3289 9669.4156,-53.2759 9659.4674,-56.9206 9663.9116,-62.3289\"/>\n</g>\n<!-- 197 -->\n<g id=\"node198\" class=\"node\">\n<title>197</title>\n<path fill=\"#6ab6ec\" stroke=\"#000000\" d=\"M9877,-153C9877,-153 9783,-153 9783,-153 9777,-153 9771,-147 9771,-141 9771,-141 9771,-101 9771,-101 9771,-95 9777,-89 9783,-89 9783,-89 9877,-89 9877,-89 9883,-89 9889,-95 9889,-101 9889,-101 9889,-141 9889,-141 9889,-147 9883,-153 9877,-153\"/>\n<text text-anchor=\"start\" x=\"9788.5\" y=\"-138.8\" font-family=\"Helvetica,sans-Serif\" font-size=\"14.00\" fill=\"#000000\">X</text>\n<text text-anchor=\"start\" x=\"9798.5\" y=\"-138.8\" font-family=\"Helvetica,sans-Serif\" baseline-shift=\"sub\" font-size=\"14.00\" fill=\"#000000\">439</text>\n<text text-anchor=\"start\" x=\"9819.5\" y=\"-138.8\" font-family=\"Helvetica,sans-Serif\" font-size=\"14.00\" fill=\"#000000\"> ≤ 0.157</text>\n<text text-anchor=\"start\" x=\"9779\" y=\"-124.8\" font-family=\"Helvetica,sans-Serif\" font-size=\"14.00\" fill=\"#000000\">entropy = 0.722</text>\n<text text-anchor=\"start\" x=\"9786\" y=\"-110.8\" font-family=\"Helvetica,sans-Serif\" font-size=\"14.00\" fill=\"#000000\">samples = 80</text>\n<text text-anchor=\"start\" x=\"9780\" y=\"-96.8\" font-family=\"Helvetica,sans-Serif\" font-size=\"14.00\" fill=\"#000000\">value = [16, 64]</text>\n</g>\n<!-- 196&#45;&gt;197 -->\n<g id=\"edge197\" class=\"edge\">\n<title>196&#45;&gt;197</title>\n<path fill=\"none\" stroke=\"#000000\" d=\"M9826.6096,-188.8089C9827.0155,-180.6906 9827.4574,-171.8517 9827.8841,-163.3186\"/>\n<polygon fill=\"#000000\" stroke=\"#000000\" points=\"9831.3896,-163.2931 9828.3935,-153.1308 9824.3984,-162.9435 9831.3896,-163.2931\"/>\n</g>\n<!-- 200 -->\n<g id=\"node201\" class=\"node\">\n<title>200</title>\n<path fill=\"#e88e4e\" stroke=\"#000000\" d=\"M10010,-153C10010,-153 9924,-153 9924,-153 9918,-153 9912,-147 9912,-141 9912,-141 9912,-101 9912,-101 9912,-95 9918,-89 9924,-89 9924,-89 10010,-89 10010,-89 10016,-89 10022,-95 10022,-101 10022,-101 10022,-141 10022,-141 10022,-147 10016,-153 10010,-153\"/>\n<text text-anchor=\"start\" x=\"9925.5\" y=\"-138.8\" font-family=\"Helvetica,sans-Serif\" font-size=\"14.00\" fill=\"#000000\">X</text>\n<text text-anchor=\"start\" x=\"9935.5\" y=\"-138.8\" font-family=\"Helvetica,sans-Serif\" baseline-shift=\"sub\" font-size=\"14.00\" fill=\"#000000\">205</text>\n<text text-anchor=\"start\" x=\"9956.5\" y=\"-138.8\" font-family=\"Helvetica,sans-Serif\" font-size=\"14.00\" fill=\"#000000\"> ≤ 0.004</text>\n<text text-anchor=\"start\" x=\"9920\" y=\"-124.8\" font-family=\"Helvetica,sans-Serif\" font-size=\"14.00\" fill=\"#000000\">entropy = 0.45</text>\n<text text-anchor=\"start\" x=\"9923\" y=\"-110.8\" font-family=\"Helvetica,sans-Serif\" font-size=\"14.00\" fill=\"#000000\">samples = 85</text>\n<text text-anchor=\"start\" x=\"9921.5\" y=\"-96.8\" font-family=\"Helvetica,sans-Serif\" font-size=\"14.00\" fill=\"#000000\">value = [77, 8]</text>\n</g>\n<!-- 196&#45;&gt;200 -->\n<g id=\"edge200\" class=\"edge\">\n<title>196&#45;&gt;200</title>\n<path fill=\"none\" stroke=\"#000000\" d=\"M9870.7113,-188.8089C9884.1396,-179.3524 9898.9561,-168.9182 9912.8576,-159.1285\"/>\n<polygon fill=\"#000000\" stroke=\"#000000\" points=\"9915.2135,-161.7502 9921.3743,-153.1308 9911.183,-156.027 9915.2135,-161.7502\"/>\n</g>\n<!-- 198 -->\n<g id=\"node199\" class=\"node\">\n<title>198</title>\n<path fill=\"#55abe9\" stroke=\"#000000\" d=\"M9877,-53C9877,-53 9783,-53 9783,-53 9777,-53 9771,-47 9771,-41 9771,-41 9771,-12 9771,-12 9771,-6 9777,0 9783,0 9783,0 9877,0 9877,0 9883,0 9889,-6 9889,-12 9889,-12 9889,-41 9889,-41 9889,-47 9883,-53 9877,-53\"/>\n<text text-anchor=\"start\" x=\"9779\" y=\"-37.8\" font-family=\"Helvetica,sans-Serif\" font-size=\"14.00\" fill=\"#000000\">entropy = 0.539</text>\n<text text-anchor=\"start\" x=\"9786\" y=\"-22.8\" font-family=\"Helvetica,sans-Serif\" font-size=\"14.00\" fill=\"#000000\">samples = 73</text>\n<text text-anchor=\"start\" x=\"9784.5\" y=\"-7.8\" font-family=\"Helvetica,sans-Serif\" font-size=\"14.00\" fill=\"#000000\">value = [9, 64]</text>\n</g>\n<!-- 197&#45;&gt;198 -->\n<g id=\"edge198\" class=\"edge\">\n<title>197&#45;&gt;198</title>\n<path fill=\"none\" stroke=\"#000000\" d=\"M9830,-88.7428C9830,-80.6222 9830,-71.8426 9830,-63.5093\"/>\n<polygon fill=\"#000000\" stroke=\"#000000\" points=\"9833.5001,-63.2758 9830,-53.2759 9826.5001,-63.2759 9833.5001,-63.2758\"/>\n</g>\n<!-- 199 -->\n<g id=\"node200\" class=\"node\">\n<title>199</title>\n<path fill=\"#e58139\" stroke=\"#000000\" d=\"M9996.5,-53C9996.5,-53 9919.5,-53 9919.5,-53 9913.5,-53 9907.5,-47 9907.5,-41 9907.5,-41 9907.5,-12 9907.5,-12 9907.5,-6 9913.5,0 9919.5,0 9919.5,0 9996.5,0 9996.5,0 10002.5,0 10008.5,-6 10008.5,-12 10008.5,-12 10008.5,-41 10008.5,-41 10008.5,-47 10002.5,-53 9996.5,-53\"/>\n<text text-anchor=\"start\" x=\"9915.5\" y=\"-37.8\" font-family=\"Helvetica,sans-Serif\" font-size=\"14.00\" fill=\"#000000\">entropy = 0.0</text>\n<text text-anchor=\"start\" x=\"9918.5\" y=\"-22.8\" font-family=\"Helvetica,sans-Serif\" font-size=\"14.00\" fill=\"#000000\">samples = 7</text>\n<text text-anchor=\"start\" x=\"9916.5\" y=\"-7.8\" font-family=\"Helvetica,sans-Serif\" font-size=\"14.00\" fill=\"#000000\">value = [7, 0]</text>\n</g>\n<!-- 197&#45;&gt;199 -->\n<g id=\"edge199\" class=\"edge\">\n<title>197&#45;&gt;199</title>\n<path fill=\"none\" stroke=\"#000000\" d=\"M9873.6923,-88.7428C9886.5248,-79.2688 9900.5724,-68.8977 9913.4573,-59.385\"/>\n<polygon fill=\"#000000\" stroke=\"#000000\" points=\"9915.766,-62.0312 9921.7322,-53.2759 9911.6083,-56.3996 9915.766,-62.0312\"/>\n</g>\n<!-- 201 -->\n<g id=\"node202\" class=\"node\">\n<title>201</title>\n<path fill=\"#ea9b62\" stroke=\"#000000\" d=\"M10133,-53C10133,-53 10039,-53 10039,-53 10033,-53 10027,-47 10027,-41 10027,-41 10027,-12 10027,-12 10027,-6 10033,0 10039,0 10039,0 10133,0 10133,0 10139,0 10145,-6 10145,-12 10145,-12 10145,-41 10145,-41 10145,-47 10139,-53 10133,-53\"/>\n<text text-anchor=\"start\" x=\"10035\" y=\"-37.8\" font-family=\"Helvetica,sans-Serif\" font-size=\"14.00\" fill=\"#000000\">entropy = 0.658</text>\n<text text-anchor=\"start\" x=\"10042\" y=\"-22.8\" font-family=\"Helvetica,sans-Serif\" font-size=\"14.00\" fill=\"#000000\">samples = 47</text>\n<text text-anchor=\"start\" x=\"10040.5\" y=\"-7.8\" font-family=\"Helvetica,sans-Serif\" font-size=\"14.00\" fill=\"#000000\">value = [39, 8]</text>\n</g>\n<!-- 200&#45;&gt;201 -->\n<g id=\"edge201\" class=\"edge\">\n<title>200&#45;&gt;201</title>\n<path fill=\"none\" stroke=\"#000000\" d=\"M10007.6202,-88.7428C10019.4368,-79.359 10032.3617,-69.0952 10044.2467,-59.657\"/>\n<polygon fill=\"#000000\" stroke=\"#000000\" points=\"10046.6277,-62.2356 10052.2822,-53.2759 10042.2745,-56.7538 10046.6277,-62.2356\"/>\n</g>\n<!-- 202 -->\n<g id=\"node203\" class=\"node\">\n<title>202</title>\n<path fill=\"#e58139\" stroke=\"#000000\" d=\"M10258.5,-53C10258.5,-53 10175.5,-53 10175.5,-53 10169.5,-53 10163.5,-47 10163.5,-41 10163.5,-41 10163.5,-12 10163.5,-12 10163.5,-6 10169.5,0 10175.5,0 10175.5,0 10258.5,0 10258.5,0 10264.5,0 10270.5,-6 10270.5,-12 10270.5,-12 10270.5,-41 10270.5,-41 10270.5,-47 10264.5,-53 10258.5,-53\"/>\n<text text-anchor=\"start\" x=\"10174.5\" y=\"-37.8\" font-family=\"Helvetica,sans-Serif\" font-size=\"14.00\" fill=\"#000000\">entropy = 0.0</text>\n<text text-anchor=\"start\" x=\"10173\" y=\"-22.8\" font-family=\"Helvetica,sans-Serif\" font-size=\"14.00\" fill=\"#000000\">samples = 38</text>\n<text text-anchor=\"start\" x=\"10171.5\" y=\"-7.8\" font-family=\"Helvetica,sans-Serif\" font-size=\"14.00\" fill=\"#000000\">value = [38, 0]</text>\n</g>\n<!-- 200&#45;&gt;202 -->\n<g id=\"edge202\" class=\"edge\">\n<title>200&#45;&gt;202</title>\n<path fill=\"none\" stroke=\"#000000\" d=\"M10022.227,-92.6288C10025.1727,-91.3538 10028.1092,-90.1352 10031,-89 10081.2227,-69.278 10098.506,-71.7313 10153.6309,-52.945\"/>\n<polygon fill=\"#000000\" stroke=\"#000000\" points=\"10154.9146,-56.2041 10163.2013,-49.6026 10152.6065,-49.5955 10154.9146,-56.2041\"/>\n</g>\n<!-- 204 -->\n<g id=\"node205\" class=\"node\">\n<title>204</title>\n<path fill=\"#e58139\" stroke=\"#000000\" d=\"M9834,-347.5C9834,-347.5 9734,-347.5 9734,-347.5 9728,-347.5 9722,-341.5 9722,-335.5 9722,-335.5 9722,-306.5 9722,-306.5 9722,-300.5 9728,-294.5 9734,-294.5 9734,-294.5 9834,-294.5 9834,-294.5 9840,-294.5 9846,-300.5 9846,-306.5 9846,-306.5 9846,-335.5 9846,-335.5 9846,-341.5 9840,-347.5 9834,-347.5\"/>\n<text text-anchor=\"start\" x=\"9741.5\" y=\"-332.3\" font-family=\"Helvetica,sans-Serif\" font-size=\"14.00\" fill=\"#000000\">entropy = 0.0</text>\n<text text-anchor=\"start\" x=\"9732\" y=\"-317.3\" font-family=\"Helvetica,sans-Serif\" font-size=\"14.00\" fill=\"#000000\">samples = 1319</text>\n<text text-anchor=\"start\" x=\"9730\" y=\"-302.3\" font-family=\"Helvetica,sans-Serif\" font-size=\"14.00\" fill=\"#000000\">value = [1319, 0]</text>\n</g>\n<!-- 203&#45;&gt;204 -->\n<g id=\"edge204\" class=\"edge\">\n<title>203&#45;&gt;204</title>\n<path fill=\"none\" stroke=\"#000000\" d=\"M9784,-388.8089C9784,-378.9777 9784,-368.0898 9784,-357.9679\"/>\n<polygon fill=\"#000000\" stroke=\"#000000\" points=\"9787.5001,-357.7735 9784,-347.7735 9780.5001,-357.7736 9787.5001,-357.7735\"/>\n</g>\n<!-- 205 -->\n<g id=\"node206\" class=\"node\">\n<title>205</title>\n<path fill=\"#e6853f\" stroke=\"#000000\" d=\"M10001,-353C10001,-353 9907,-353 9907,-353 9901,-353 9895,-347 9895,-341 9895,-341 9895,-301 9895,-301 9895,-295 9901,-289 9907,-289 9907,-289 10001,-289 10001,-289 10007,-289 10013,-295 10013,-301 10013,-301 10013,-341 10013,-341 10013,-347 10007,-353 10001,-353\"/>\n<text text-anchor=\"start\" x=\"9912.5\" y=\"-338.8\" font-family=\"Helvetica,sans-Serif\" font-size=\"14.00\" fill=\"#000000\">X</text>\n<text text-anchor=\"start\" x=\"9922.5\" y=\"-338.8\" font-family=\"Helvetica,sans-Serif\" baseline-shift=\"sub\" font-size=\"14.00\" fill=\"#000000\">126</text>\n<text text-anchor=\"start\" x=\"9943.5\" y=\"-338.8\" font-family=\"Helvetica,sans-Serif\" font-size=\"14.00\" fill=\"#000000\"> ≤ 0.655</text>\n<text text-anchor=\"start\" x=\"9903\" y=\"-324.8\" font-family=\"Helvetica,sans-Serif\" font-size=\"14.00\" fill=\"#000000\">entropy = 0.191</text>\n<text text-anchor=\"start\" x=\"9906\" y=\"-310.8\" font-family=\"Helvetica,sans-Serif\" font-size=\"14.00\" fill=\"#000000\">samples = 102</text>\n<text text-anchor=\"start\" x=\"9908.5\" y=\"-296.8\" font-family=\"Helvetica,sans-Serif\" font-size=\"14.00\" fill=\"#000000\">value = [99, 3]</text>\n</g>\n<!-- 203&#45;&gt;205 -->\n<g id=\"edge205\" class=\"edge\">\n<title>203&#45;&gt;205</title>\n<path fill=\"none\" stroke=\"#000000\" d=\"M9838.7248,-388.8089C9855.2559,-379.0848 9873.5444,-368.3268 9890.5919,-358.2989\"/>\n<polygon fill=\"#000000\" stroke=\"#000000\" points=\"9892.5329,-361.2178 9899.3777,-353.1308 9888.9838,-355.1842 9892.5329,-361.2178\"/>\n</g>\n<!-- 206 -->\n<g id=\"node207\" class=\"node\">\n<title>206</title>\n<path fill=\"#e58139\" stroke=\"#000000\" d=\"M9997.5,-247.5C9997.5,-247.5 9914.5,-247.5 9914.5,-247.5 9908.5,-247.5 9902.5,-241.5 9902.5,-235.5 9902.5,-235.5 9902.5,-206.5 9902.5,-206.5 9902.5,-200.5 9908.5,-194.5 9914.5,-194.5 9914.5,-194.5 9997.5,-194.5 9997.5,-194.5 10003.5,-194.5 10009.5,-200.5 10009.5,-206.5 10009.5,-206.5 10009.5,-235.5 10009.5,-235.5 10009.5,-241.5 10003.5,-247.5 9997.5,-247.5\"/>\n<text text-anchor=\"start\" x=\"9913.5\" y=\"-232.3\" font-family=\"Helvetica,sans-Serif\" font-size=\"14.00\" fill=\"#000000\">entropy = 0.0</text>\n<text text-anchor=\"start\" x=\"9912\" y=\"-217.3\" font-family=\"Helvetica,sans-Serif\" font-size=\"14.00\" fill=\"#000000\">samples = 88</text>\n<text text-anchor=\"start\" x=\"9910.5\" y=\"-202.3\" font-family=\"Helvetica,sans-Serif\" font-size=\"14.00\" fill=\"#000000\">value = [88, 0]</text>\n</g>\n<!-- 205&#45;&gt;206 -->\n<g id=\"edge206\" class=\"edge\">\n<title>205&#45;&gt;206</title>\n<path fill=\"none\" stroke=\"#000000\" d=\"M9954.6438,-288.8089C9954.8404,-278.9777 9955.0582,-268.0898 9955.2606,-257.9679\"/>\n<polygon fill=\"#000000\" stroke=\"#000000\" points=\"9958.7638,-257.8415 9955.4645,-247.7735 9951.7652,-257.7015 9958.7638,-257.8415\"/>\n</g>\n<!-- 207 -->\n<g id=\"node208\" class=\"node\">\n<title>207</title>\n<path fill=\"#eca36f\" stroke=\"#000000\" d=\"M10134,-253C10134,-253 10048,-253 10048,-253 10042,-253 10036,-247 10036,-241 10036,-241 10036,-201 10036,-201 10036,-195 10042,-189 10048,-189 10048,-189 10134,-189 10134,-189 10140,-189 10146,-195 10146,-201 10146,-201 10146,-241 10146,-241 10146,-247 10140,-253 10134,-253\"/>\n<text text-anchor=\"start\" x=\"10049.5\" y=\"-238.8\" font-family=\"Helvetica,sans-Serif\" font-size=\"14.00\" fill=\"#000000\">X</text>\n<text text-anchor=\"start\" x=\"10059.5\" y=\"-238.8\" font-family=\"Helvetica,sans-Serif\" baseline-shift=\"sub\" font-size=\"14.00\" fill=\"#000000\">601</text>\n<text text-anchor=\"start\" x=\"10080.5\" y=\"-238.8\" font-family=\"Helvetica,sans-Serif\" font-size=\"14.00\" fill=\"#000000\"> ≤ 0.939</text>\n<text text-anchor=\"start\" x=\"10044\" y=\"-224.8\" font-family=\"Helvetica,sans-Serif\" font-size=\"14.00\" fill=\"#000000\">entropy = 0.75</text>\n<text text-anchor=\"start\" x=\"10047\" y=\"-210.8\" font-family=\"Helvetica,sans-Serif\" font-size=\"14.00\" fill=\"#000000\">samples = 14</text>\n<text text-anchor=\"start\" x=\"10045.5\" y=\"-196.8\" font-family=\"Helvetica,sans-Serif\" font-size=\"14.00\" fill=\"#000000\">value = [11, 3]</text>\n</g>\n<!-- 205&#45;&gt;207 -->\n<g id=\"edge207\" class=\"edge\">\n<title>205&#45;&gt;207</title>\n<path fill=\"none\" stroke=\"#000000\" d=\"M9998.1018,-288.8089C10011.0572,-279.3524 10025.352,-268.9182 10038.764,-259.1285\"/>\n<polygon fill=\"#000000\" stroke=\"#000000\" points=\"10040.9672,-261.8535 10046.9809,-253.1308 10036.8402,-256.1995 10040.9672,-261.8535\"/>\n</g>\n<!-- 208 -->\n<g id=\"node209\" class=\"node\">\n<title>208</title>\n<path fill=\"#399de5\" stroke=\"#000000\" d=\"M10129.5,-147.5C10129.5,-147.5 10052.5,-147.5 10052.5,-147.5 10046.5,-147.5 10040.5,-141.5 10040.5,-135.5 10040.5,-135.5 10040.5,-106.5 10040.5,-106.5 10040.5,-100.5 10046.5,-94.5 10052.5,-94.5 10052.5,-94.5 10129.5,-94.5 10129.5,-94.5 10135.5,-94.5 10141.5,-100.5 10141.5,-106.5 10141.5,-106.5 10141.5,-135.5 10141.5,-135.5 10141.5,-141.5 10135.5,-147.5 10129.5,-147.5\"/>\n<text text-anchor=\"start\" x=\"10048.5\" y=\"-132.3\" font-family=\"Helvetica,sans-Serif\" font-size=\"14.00\" fill=\"#000000\">entropy = 0.0</text>\n<text text-anchor=\"start\" x=\"10051.5\" y=\"-117.3\" font-family=\"Helvetica,sans-Serif\" font-size=\"14.00\" fill=\"#000000\">samples = 3</text>\n<text text-anchor=\"start\" x=\"10049.5\" y=\"-102.3\" font-family=\"Helvetica,sans-Serif\" font-size=\"14.00\" fill=\"#000000\">value = [0, 3]</text>\n</g>\n<!-- 207&#45;&gt;208 -->\n<g id=\"edge208\" class=\"edge\">\n<title>207&#45;&gt;208</title>\n<path fill=\"none\" stroke=\"#000000\" d=\"M10091,-188.8089C10091,-178.9777 10091,-168.0898 10091,-157.9679\"/>\n<polygon fill=\"#000000\" stroke=\"#000000\" points=\"10094.5001,-157.7735 10091,-147.7735 10087.5001,-157.7736 10094.5001,-157.7735\"/>\n</g>\n<!-- 209 -->\n<g id=\"node210\" class=\"node\">\n<title>209</title>\n<path fill=\"#e58139\" stroke=\"#000000\" d=\"M10254.5,-147.5C10254.5,-147.5 10171.5,-147.5 10171.5,-147.5 10165.5,-147.5 10159.5,-141.5 10159.5,-135.5 10159.5,-135.5 10159.5,-106.5 10159.5,-106.5 10159.5,-100.5 10165.5,-94.5 10171.5,-94.5 10171.5,-94.5 10254.5,-94.5 10254.5,-94.5 10260.5,-94.5 10266.5,-100.5 10266.5,-106.5 10266.5,-106.5 10266.5,-135.5 10266.5,-135.5 10266.5,-141.5 10260.5,-147.5 10254.5,-147.5\"/>\n<text text-anchor=\"start\" x=\"10170.5\" y=\"-132.3\" font-family=\"Helvetica,sans-Serif\" font-size=\"14.00\" fill=\"#000000\">entropy = 0.0</text>\n<text text-anchor=\"start\" x=\"10169\" y=\"-117.3\" font-family=\"Helvetica,sans-Serif\" font-size=\"14.00\" fill=\"#000000\">samples = 11</text>\n<text text-anchor=\"start\" x=\"10167.5\" y=\"-102.3\" font-family=\"Helvetica,sans-Serif\" font-size=\"14.00\" fill=\"#000000\">value = [11, 0]</text>\n</g>\n<!-- 207&#45;&gt;209 -->\n<g id=\"edge209\" class=\"edge\">\n<title>207&#45;&gt;209</title>\n<path fill=\"none\" stroke=\"#000000\" d=\"M10130.2731,-188.8089C10143.7823,-177.7359 10158.9267,-165.3223 10172.5294,-154.1726\"/>\n<polygon fill=\"#000000\" stroke=\"#000000\" points=\"10174.8211,-156.8197 10180.3363,-147.7735 10170.3836,-151.406 10174.8211,-156.8197\"/>\n</g>\n<!-- 211 -->\n<g id=\"node212\" class=\"node\">\n<title>211</title>\n<path fill=\"#e58139\" stroke=\"#000000\" d=\"M10212,-553C10212,-553 10112,-553 10112,-553 10106,-553 10100,-547 10100,-541 10100,-541 10100,-501 10100,-501 10100,-495 10106,-489 10112,-489 10112,-489 10212,-489 10212,-489 10218,-489 10224,-495 10224,-501 10224,-501 10224,-541 10224,-541 10224,-547 10218,-553 10212,-553\"/>\n<text text-anchor=\"start\" x=\"10120.5\" y=\"-538.8\" font-family=\"Helvetica,sans-Serif\" font-size=\"14.00\" fill=\"#000000\">X</text>\n<text text-anchor=\"start\" x=\"10130.5\" y=\"-538.8\" font-family=\"Helvetica,sans-Serif\" baseline-shift=\"sub\" font-size=\"14.00\" fill=\"#000000\">620</text>\n<text text-anchor=\"start\" x=\"10151.5\" y=\"-538.8\" font-family=\"Helvetica,sans-Serif\" font-size=\"14.00\" fill=\"#000000\"> ≤ 0.606</text>\n<text text-anchor=\"start\" x=\"10111\" y=\"-524.8\" font-family=\"Helvetica,sans-Serif\" font-size=\"14.00\" fill=\"#000000\">entropy = 0.012</text>\n<text text-anchor=\"start\" x=\"10110\" y=\"-510.8\" font-family=\"Helvetica,sans-Serif\" font-size=\"14.00\" fill=\"#000000\">samples = 7735</text>\n<text text-anchor=\"start\" x=\"10108\" y=\"-496.8\" font-family=\"Helvetica,sans-Serif\" font-size=\"14.00\" fill=\"#000000\">value = [7727, 8]</text>\n</g>\n<!-- 210&#45;&gt;211 -->\n<g id=\"edge211\" class=\"edge\">\n<title>210&#45;&gt;211</title>\n<path fill=\"none\" stroke=\"#000000\" d=\"M10162,-588.8089C10162,-580.6906 10162,-571.8517 10162,-563.3186\"/>\n<polygon fill=\"#000000\" stroke=\"#000000\" points=\"10165.5001,-563.1307 10162,-553.1308 10158.5001,-563.1308 10165.5001,-563.1307\"/>\n</g>\n<!-- 226 -->\n<g id=\"node227\" class=\"node\">\n<title>226</title>\n<path fill=\"#e58139\" stroke=\"#000000\" d=\"M10362,-547.5C10362,-547.5 10254,-547.5 10254,-547.5 10248,-547.5 10242,-541.5 10242,-535.5 10242,-535.5 10242,-506.5 10242,-506.5 10242,-500.5 10248,-494.5 10254,-494.5 10254,-494.5 10362,-494.5 10362,-494.5 10368,-494.5 10374,-500.5 10374,-506.5 10374,-506.5 10374,-535.5 10374,-535.5 10374,-541.5 10368,-547.5 10362,-547.5\"/>\n<text text-anchor=\"start\" x=\"10265.5\" y=\"-532.3\" font-family=\"Helvetica,sans-Serif\" font-size=\"14.00\" fill=\"#000000\">entropy = 0.0</text>\n<text text-anchor=\"start\" x=\"10252\" y=\"-517.3\" font-family=\"Helvetica,sans-Serif\" font-size=\"14.00\" fill=\"#000000\">samples = 11986</text>\n<text text-anchor=\"start\" x=\"10250\" y=\"-502.3\" font-family=\"Helvetica,sans-Serif\" font-size=\"14.00\" fill=\"#000000\">value = [11986, 0]</text>\n</g>\n<!-- 210&#45;&gt;226 -->\n<g id=\"edge226\" class=\"edge\">\n<title>210&#45;&gt;226</title>\n<path fill=\"none\" stroke=\"#000000\" d=\"M10208.999,-588.8089C10225.4678,-577.5289 10243.9676,-564.8578 10260.4789,-553.5487\"/>\n<polygon fill=\"#000000\" stroke=\"#000000\" points=\"10262.6382,-556.3121 10268.9107,-547.7735 10258.6825,-550.5368 10262.6382,-556.3121\"/>\n</g>\n<!-- 212 -->\n<g id=\"node213\" class=\"node\">\n<title>212</title>\n<path fill=\"#e58139\" stroke=\"#000000\" d=\"M10212,-453C10212,-453 10112,-453 10112,-453 10106,-453 10100,-447 10100,-441 10100,-441 10100,-401 10100,-401 10100,-395 10106,-389 10112,-389 10112,-389 10212,-389 10212,-389 10218,-389 10224,-395 10224,-401 10224,-401 10224,-441 10224,-441 10224,-447 10218,-453 10212,-453\"/>\n<text text-anchor=\"start\" x=\"10120.5\" y=\"-438.8\" font-family=\"Helvetica,sans-Serif\" font-size=\"14.00\" fill=\"#000000\">X</text>\n<text text-anchor=\"start\" x=\"10130.5\" y=\"-438.8\" font-family=\"Helvetica,sans-Serif\" baseline-shift=\"sub\" font-size=\"14.00\" fill=\"#000000\">297</text>\n<text text-anchor=\"start\" x=\"10151.5\" y=\"-438.8\" font-family=\"Helvetica,sans-Serif\" font-size=\"14.00\" fill=\"#000000\"> ≤ 0.978</text>\n<text text-anchor=\"start\" x=\"10111\" y=\"-424.8\" font-family=\"Helvetica,sans-Serif\" font-size=\"14.00\" fill=\"#000000\">entropy = 0.008</text>\n<text text-anchor=\"start\" x=\"10110\" y=\"-410.8\" font-family=\"Helvetica,sans-Serif\" font-size=\"14.00\" fill=\"#000000\">samples = 7691</text>\n<text text-anchor=\"start\" x=\"10108\" y=\"-396.8\" font-family=\"Helvetica,sans-Serif\" font-size=\"14.00\" fill=\"#000000\">value = [7686, 5]</text>\n</g>\n<!-- 211&#45;&gt;212 -->\n<g id=\"edge212\" class=\"edge\">\n<title>211&#45;&gt;212</title>\n<path fill=\"none\" stroke=\"#000000\" d=\"M10162,-488.8089C10162,-480.6906 10162,-471.8517 10162,-463.3186\"/>\n<polygon fill=\"#000000\" stroke=\"#000000\" points=\"10165.5001,-463.1307 10162,-453.1308 10158.5001,-463.1308 10165.5001,-463.1307\"/>\n</g>\n<!-- 221 -->\n<g id=\"node222\" class=\"node\">\n<title>221</title>\n<path fill=\"#e78a47\" stroke=\"#000000\" d=\"M10416,-453C10416,-453 10322,-453 10322,-453 10316,-453 10310,-447 10310,-441 10310,-441 10310,-401 10310,-401 10310,-395 10316,-389 10322,-389 10322,-389 10416,-389 10416,-389 10422,-389 10428,-395 10428,-401 10428,-401 10428,-441 10428,-441 10428,-447 10422,-453 10416,-453\"/>\n<text text-anchor=\"start\" x=\"10327.5\" y=\"-438.8\" font-family=\"Helvetica,sans-Serif\" font-size=\"14.00\" fill=\"#000000\">X</text>\n<text text-anchor=\"start\" x=\"10337.5\" y=\"-438.8\" font-family=\"Helvetica,sans-Serif\" baseline-shift=\"sub\" font-size=\"14.00\" fill=\"#000000\">204</text>\n<text text-anchor=\"start\" x=\"10358.5\" y=\"-438.8\" font-family=\"Helvetica,sans-Serif\" font-size=\"14.00\" fill=\"#000000\"> ≤ 0.384</text>\n<text text-anchor=\"start\" x=\"10318\" y=\"-424.8\" font-family=\"Helvetica,sans-Serif\" font-size=\"14.00\" fill=\"#000000\">entropy = 0.359</text>\n<text text-anchor=\"start\" x=\"10325\" y=\"-410.8\" font-family=\"Helvetica,sans-Serif\" font-size=\"14.00\" fill=\"#000000\">samples = 44</text>\n<text text-anchor=\"start\" x=\"10323.5\" y=\"-396.8\" font-family=\"Helvetica,sans-Serif\" font-size=\"14.00\" fill=\"#000000\">value = [41, 3]</text>\n</g>\n<!-- 211&#45;&gt;221 -->\n<g id=\"edge221\" class=\"edge\">\n<title>211&#45;&gt;221</title>\n<path fill=\"none\" stroke=\"#000000\" d=\"M10224.1068,-490.9967C10248.1831,-479.3656 10275.8373,-466.0062 10300.4898,-454.0967\"/>\n<polygon fill=\"#000000\" stroke=\"#000000\" points=\"10302.2955,-457.1115 10309.7774,-449.61 10299.2505,-450.8084 10302.2955,-457.1115\"/>\n</g>\n<!-- 213 -->\n<g id=\"node214\" class=\"node\">\n<title>213</title>\n<path fill=\"#e58139\" stroke=\"#000000\" d=\"M10143,-347.5C10143,-347.5 10043,-347.5 10043,-347.5 10037,-347.5 10031,-341.5 10031,-335.5 10031,-335.5 10031,-306.5 10031,-306.5 10031,-300.5 10037,-294.5 10043,-294.5 10043,-294.5 10143,-294.5 10143,-294.5 10149,-294.5 10155,-300.5 10155,-306.5 10155,-306.5 10155,-335.5 10155,-335.5 10155,-341.5 10149,-347.5 10143,-347.5\"/>\n<text text-anchor=\"start\" x=\"10050.5\" y=\"-332.3\" font-family=\"Helvetica,sans-Serif\" font-size=\"14.00\" fill=\"#000000\">entropy = 0.0</text>\n<text text-anchor=\"start\" x=\"10041\" y=\"-317.3\" font-family=\"Helvetica,sans-Serif\" font-size=\"14.00\" fill=\"#000000\">samples = 4744</text>\n<text text-anchor=\"start\" x=\"10039\" y=\"-302.3\" font-family=\"Helvetica,sans-Serif\" font-size=\"14.00\" fill=\"#000000\">value = [4744, 0]</text>\n</g>\n<!-- 212&#45;&gt;213 -->\n<g id=\"edge213\" class=\"edge\">\n<title>212&#45;&gt;213</title>\n<path fill=\"none\" stroke=\"#000000\" d=\"M10139.7882,-388.8089C10132.5762,-378.3568 10124.5401,-366.7103 10117.1912,-356.0597\"/>\n<polygon fill=\"#000000\" stroke=\"#000000\" points=\"10120.0338,-354.0166 10111.4737,-347.7735 10114.2722,-357.9921 10120.0338,-354.0166\"/>\n</g>\n<!-- 214 -->\n<g id=\"node215\" class=\"node\">\n<title>214</title>\n<path fill=\"#e58139\" stroke=\"#000000\" d=\"M10285,-353C10285,-353 10185,-353 10185,-353 10179,-353 10173,-347 10173,-341 10173,-341 10173,-301 10173,-301 10173,-295 10179,-289 10185,-289 10185,-289 10285,-289 10285,-289 10291,-289 10297,-295 10297,-301 10297,-301 10297,-341 10297,-341 10297,-347 10291,-353 10285,-353\"/>\n<text text-anchor=\"start\" x=\"10197.5\" y=\"-338.8\" font-family=\"Helvetica,sans-Serif\" font-size=\"14.00\" fill=\"#000000\">X</text>\n<text text-anchor=\"start\" x=\"10207.5\" y=\"-338.8\" font-family=\"Helvetica,sans-Serif\" baseline-shift=\"sub\" font-size=\"14.00\" fill=\"#000000\">625</text>\n<text text-anchor=\"start\" x=\"10228.5\" y=\"-338.8\" font-family=\"Helvetica,sans-Serif\" font-size=\"14.00\" fill=\"#000000\"> ≤ 0.38</text>\n<text text-anchor=\"start\" x=\"10184\" y=\"-324.8\" font-family=\"Helvetica,sans-Serif\" font-size=\"14.00\" fill=\"#000000\">entropy = 0.018</text>\n<text text-anchor=\"start\" x=\"10183\" y=\"-310.8\" font-family=\"Helvetica,sans-Serif\" font-size=\"14.00\" fill=\"#000000\">samples = 2947</text>\n<text text-anchor=\"start\" x=\"10181\" y=\"-296.8\" font-family=\"Helvetica,sans-Serif\" font-size=\"14.00\" fill=\"#000000\">value = [2942, 5]</text>\n</g>\n<!-- 212&#45;&gt;214 -->\n<g id=\"edge214\" class=\"edge\">\n<title>212&#45;&gt;214</title>\n<path fill=\"none\" stroke=\"#000000\" d=\"M10185.4995,-388.8089C10191.8818,-380.0661 10198.874,-370.4876 10205.5406,-361.3553\"/>\n<polygon fill=\"#000000\" stroke=\"#000000\" points=\"10208.4753,-363.2713 10211.5445,-353.1308 10202.8215,-359.144 10208.4753,-363.2713\"/>\n</g>\n<!-- 215 -->\n<g id=\"node216\" class=\"node\">\n<title>215</title>\n<path fill=\"#e58139\" stroke=\"#000000\" d=\"M10280,-247.5C10280,-247.5 10180,-247.5 10180,-247.5 10174,-247.5 10168,-241.5 10168,-235.5 10168,-235.5 10168,-206.5 10168,-206.5 10168,-200.5 10174,-194.5 10180,-194.5 10180,-194.5 10280,-194.5 10280,-194.5 10286,-194.5 10292,-200.5 10292,-206.5 10292,-206.5 10292,-235.5 10292,-235.5 10292,-241.5 10286,-247.5 10280,-247.5\"/>\n<text text-anchor=\"start\" x=\"10187.5\" y=\"-232.3\" font-family=\"Helvetica,sans-Serif\" font-size=\"14.00\" fill=\"#000000\">entropy = 0.0</text>\n<text text-anchor=\"start\" x=\"10178\" y=\"-217.3\" font-family=\"Helvetica,sans-Serif\" font-size=\"14.00\" fill=\"#000000\">samples = 2249</text>\n<text text-anchor=\"start\" x=\"10176\" y=\"-202.3\" font-family=\"Helvetica,sans-Serif\" font-size=\"14.00\" fill=\"#000000\">value = [2249, 0]</text>\n</g>\n<!-- 214&#45;&gt;215 -->\n<g id=\"edge215\" class=\"edge\">\n<title>214&#45;&gt;215</title>\n<path fill=\"none\" stroke=\"#000000\" d=\"M10233.3904,-288.8089C10232.8989,-278.9777 10232.3545,-268.0898 10231.8484,-257.9679\"/>\n<polygon fill=\"#000000\" stroke=\"#000000\" points=\"10235.3338,-257.5862 10231.3387,-247.7735 10228.3425,-257.9359 10235.3338,-257.5862\"/>\n</g>\n<!-- 216 -->\n<g id=\"node217\" class=\"node\">\n<title>216</title>\n<path fill=\"#e5823a\" stroke=\"#000000\" d=\"M10416,-253C10416,-253 10322,-253 10322,-253 10316,-253 10310,-247 10310,-241 10310,-241 10310,-201 10310,-201 10310,-195 10316,-189 10322,-189 10322,-189 10416,-189 10416,-189 10422,-189 10428,-195 10428,-201 10428,-201 10428,-241 10428,-241 10428,-247 10422,-253 10416,-253\"/>\n<text text-anchor=\"start\" x=\"10327.5\" y=\"-238.8\" font-family=\"Helvetica,sans-Serif\" font-size=\"14.00\" fill=\"#000000\">X</text>\n<text text-anchor=\"start\" x=\"10337.5\" y=\"-238.8\" font-family=\"Helvetica,sans-Serif\" baseline-shift=\"sub\" font-size=\"14.00\" fill=\"#000000\">376</text>\n<text text-anchor=\"start\" x=\"10358.5\" y=\"-238.8\" font-family=\"Helvetica,sans-Serif\" font-size=\"14.00\" fill=\"#000000\"> ≤ 0.261</text>\n<text text-anchor=\"start\" x=\"10318\" y=\"-224.8\" font-family=\"Helvetica,sans-Serif\" font-size=\"14.00\" fill=\"#000000\">entropy = 0.061</text>\n<text text-anchor=\"start\" x=\"10321\" y=\"-210.8\" font-family=\"Helvetica,sans-Serif\" font-size=\"14.00\" fill=\"#000000\">samples = 698</text>\n<text text-anchor=\"start\" x=\"10319\" y=\"-196.8\" font-family=\"Helvetica,sans-Serif\" font-size=\"14.00\" fill=\"#000000\">value = [693, 5]</text>\n</g>\n<!-- 214&#45;&gt;216 -->\n<g id=\"edge216\" class=\"edge\">\n<title>214&#45;&gt;216</title>\n<path fill=\"none\" stroke=\"#000000\" d=\"M10278.136,-288.8089C10290.8078,-279.3524 10304.7896,-268.9182 10317.9078,-259.1285\"/>\n<polygon fill=\"#000000\" stroke=\"#000000\" points=\"10320.0237,-261.9167 10325.9448,-253.1308 10315.8371,-256.3066 10320.0237,-261.9167\"/>\n</g>\n<!-- 217 -->\n<g id=\"node218\" class=\"node\">\n<title>217</title>\n<path fill=\"#e6843d\" stroke=\"#000000\" d=\"M10409,-153C10409,-153 10315,-153 10315,-153 10309,-153 10303,-147 10303,-141 10303,-141 10303,-101 10303,-101 10303,-95 10309,-89 10315,-89 10315,-89 10409,-89 10409,-89 10415,-89 10421,-95 10421,-101 10421,-101 10421,-141 10421,-141 10421,-147 10415,-153 10409,-153\"/>\n<text text-anchor=\"start\" x=\"10320.5\" y=\"-138.8\" font-family=\"Helvetica,sans-Serif\" font-size=\"14.00\" fill=\"#000000\">X</text>\n<text text-anchor=\"start\" x=\"10330.5\" y=\"-138.8\" font-family=\"Helvetica,sans-Serif\" baseline-shift=\"sub\" font-size=\"14.00\" fill=\"#000000\">181</text>\n<text text-anchor=\"start\" x=\"10351.5\" y=\"-138.8\" font-family=\"Helvetica,sans-Serif\" font-size=\"14.00\" fill=\"#000000\"> ≤ 0.008</text>\n<text text-anchor=\"start\" x=\"10311\" y=\"-124.8\" font-family=\"Helvetica,sans-Serif\" font-size=\"14.00\" fill=\"#000000\">entropy = 0.148</text>\n<text text-anchor=\"start\" x=\"10314\" y=\"-110.8\" font-family=\"Helvetica,sans-Serif\" font-size=\"14.00\" fill=\"#000000\">samples = 236</text>\n<text text-anchor=\"start\" x=\"10312\" y=\"-96.8\" font-family=\"Helvetica,sans-Serif\" font-size=\"14.00\" fill=\"#000000\">value = [231, 5]</text>\n</g>\n<!-- 216&#45;&gt;217 -->\n<g id=\"edge217\" class=\"edge\">\n<title>216&#45;&gt;217</title>\n<path fill=\"none\" stroke=\"#000000\" d=\"M10366.7466,-188.8089C10366.1783,-180.6906 10365.5596,-171.8517 10364.9623,-163.3186\"/>\n<polygon fill=\"#000000\" stroke=\"#000000\" points=\"10368.439,-162.8619 10364.2492,-153.1308 10361.4561,-163.3508 10368.439,-162.8619\"/>\n</g>\n<!-- 220 -->\n<g id=\"node221\" class=\"node\">\n<title>220</title>\n<path fill=\"#e58139\" stroke=\"#000000\" d=\"M10543,-147.5C10543,-147.5 10451,-147.5 10451,-147.5 10445,-147.5 10439,-141.5 10439,-135.5 10439,-135.5 10439,-106.5 10439,-106.5 10439,-100.5 10445,-94.5 10451,-94.5 10451,-94.5 10543,-94.5 10543,-94.5 10549,-94.5 10555,-100.5 10555,-106.5 10555,-106.5 10555,-135.5 10555,-135.5 10555,-141.5 10549,-147.5 10543,-147.5\"/>\n<text text-anchor=\"start\" x=\"10454.5\" y=\"-132.3\" font-family=\"Helvetica,sans-Serif\" font-size=\"14.00\" fill=\"#000000\">entropy = 0.0</text>\n<text text-anchor=\"start\" x=\"10449\" y=\"-117.3\" font-family=\"Helvetica,sans-Serif\" font-size=\"14.00\" fill=\"#000000\">samples = 462</text>\n<text text-anchor=\"start\" x=\"10447\" y=\"-102.3\" font-family=\"Helvetica,sans-Serif\" font-size=\"14.00\" fill=\"#000000\">value = [462, 0]</text>\n</g>\n<!-- 216&#45;&gt;220 -->\n<g id=\"edge220\" class=\"edge\">\n<title>216&#45;&gt;220</title>\n<path fill=\"none\" stroke=\"#000000\" d=\"M10410.2046,-188.8089C10424.3781,-177.7359 10440.2674,-165.3223 10454.5391,-154.1726\"/>\n<polygon fill=\"#000000\" stroke=\"#000000\" points=\"10457.0044,-156.6881 10462.7299,-147.7735 10452.6949,-151.1719 10457.0044,-156.6881\"/>\n</g>\n<!-- 218 -->\n<g id=\"node219\" class=\"node\">\n<title>218</title>\n<path fill=\"#e78946\" stroke=\"#000000\" d=\"M10403,-53C10403,-53 10309,-53 10309,-53 10303,-53 10297,-47 10297,-41 10297,-41 10297,-12 10297,-12 10297,-6 10303,0 10309,0 10309,0 10403,0 10403,0 10409,0 10415,-6 10415,-12 10415,-12 10415,-41 10415,-41 10415,-47 10409,-53 10403,-53\"/>\n<text text-anchor=\"start\" x=\"10305\" y=\"-37.8\" font-family=\"Helvetica,sans-Serif\" font-size=\"14.00\" fill=\"#000000\">entropy = 0.337</text>\n<text text-anchor=\"start\" x=\"10312\" y=\"-22.8\" font-family=\"Helvetica,sans-Serif\" font-size=\"14.00\" fill=\"#000000\">samples = 80</text>\n<text text-anchor=\"start\" x=\"10310.5\" y=\"-7.8\" font-family=\"Helvetica,sans-Serif\" font-size=\"14.00\" fill=\"#000000\">value = [75, 5]</text>\n</g>\n<!-- 217&#45;&gt;218 -->\n<g id=\"edge218\" class=\"edge\">\n<title>217&#45;&gt;218</title>\n<path fill=\"none\" stroke=\"#000000\" d=\"M10359.9519,-88.7428C10359.4363,-80.6222 10358.8789,-71.8426 10358.3498,-63.5093\"/>\n<polygon fill=\"#000000\" stroke=\"#000000\" points=\"10361.8268,-63.034 10357.7001,-53.2759 10354.8408,-63.4776 10361.8268,-63.034\"/>\n</g>\n<!-- 219 -->\n<g id=\"node220\" class=\"node\">\n<title>219</title>\n<path fill=\"#e58139\" stroke=\"#000000\" d=\"M10537,-53C10537,-53 10445,-53 10445,-53 10439,-53 10433,-47 10433,-41 10433,-41 10433,-12 10433,-12 10433,-6 10439,0 10445,0 10445,0 10537,0 10537,0 10543,0 10549,-6 10549,-12 10549,-12 10549,-41 10549,-41 10549,-47 10543,-53 10537,-53\"/>\n<text text-anchor=\"start\" x=\"10448.5\" y=\"-37.8\" font-family=\"Helvetica,sans-Serif\" font-size=\"14.00\" fill=\"#000000\">entropy = 0.0</text>\n<text text-anchor=\"start\" x=\"10443\" y=\"-22.8\" font-family=\"Helvetica,sans-Serif\" font-size=\"14.00\" fill=\"#000000\">samples = 156</text>\n<text text-anchor=\"start\" x=\"10441\" y=\"-7.8\" font-family=\"Helvetica,sans-Serif\" font-size=\"14.00\" fill=\"#000000\">value = [156, 0]</text>\n</g>\n<!-- 217&#45;&gt;219 -->\n<g id=\"edge219\" class=\"edge\">\n<title>217&#45;&gt;219</title>\n<path fill=\"none\" stroke=\"#000000\" d=\"M10406.0337,-88.7428C10418.9664,-79.2688 10433.1238,-68.8977 10446.1093,-59.385\"/>\n<polygon fill=\"#000000\" stroke=\"#000000\" points=\"10448.4501,-62.0089 10454.4488,-53.2759 10444.3134,-56.362 10448.4501,-62.0089\"/>\n</g>\n<!-- 222 -->\n<g id=\"node223\" class=\"node\">\n<title>222</title>\n<path fill=\"#e58139\" stroke=\"#000000\" d=\"M10410.5,-347.5C10410.5,-347.5 10327.5,-347.5 10327.5,-347.5 10321.5,-347.5 10315.5,-341.5 10315.5,-335.5 10315.5,-335.5 10315.5,-306.5 10315.5,-306.5 10315.5,-300.5 10321.5,-294.5 10327.5,-294.5 10327.5,-294.5 10410.5,-294.5 10410.5,-294.5 10416.5,-294.5 10422.5,-300.5 10422.5,-306.5 10422.5,-306.5 10422.5,-335.5 10422.5,-335.5 10422.5,-341.5 10416.5,-347.5 10410.5,-347.5\"/>\n<text text-anchor=\"start\" x=\"10326.5\" y=\"-332.3\" font-family=\"Helvetica,sans-Serif\" font-size=\"14.00\" fill=\"#000000\">entropy = 0.0</text>\n<text text-anchor=\"start\" x=\"10325\" y=\"-317.3\" font-family=\"Helvetica,sans-Serif\" font-size=\"14.00\" fill=\"#000000\">samples = 36</text>\n<text text-anchor=\"start\" x=\"10323.5\" y=\"-302.3\" font-family=\"Helvetica,sans-Serif\" font-size=\"14.00\" fill=\"#000000\">value = [36, 0]</text>\n</g>\n<!-- 221&#45;&gt;222 -->\n<g id=\"edge222\" class=\"edge\">\n<title>221&#45;&gt;222</title>\n<path fill=\"none\" stroke=\"#000000\" d=\"M10369,-388.8089C10369,-378.9777 10369,-368.0898 10369,-357.9679\"/>\n<polygon fill=\"#000000\" stroke=\"#000000\" points=\"10372.5001,-357.7735 10369,-347.7735 10365.5001,-357.7736 10372.5001,-357.7735\"/>\n</g>\n<!-- 223 -->\n<g id=\"node224\" class=\"node\">\n<title>223</title>\n<path fill=\"#f5cdb0\" stroke=\"#000000\" d=\"M10547,-353C10547,-353 10453,-353 10453,-353 10447,-353 10441,-347 10441,-341 10441,-341 10441,-301 10441,-301 10441,-295 10447,-289 10453,-289 10453,-289 10547,-289 10547,-289 10553,-289 10559,-295 10559,-301 10559,-301 10559,-341 10559,-341 10559,-347 10553,-353 10547,-353\"/>\n<text text-anchor=\"start\" x=\"10466.5\" y=\"-338.8\" font-family=\"Helvetica,sans-Serif\" font-size=\"14.00\" fill=\"#000000\">X</text>\n<text text-anchor=\"start\" x=\"10476.5\" y=\"-338.8\" font-family=\"Helvetica,sans-Serif\" baseline-shift=\"sub\" font-size=\"14.00\" fill=\"#000000\">545</text>\n<text text-anchor=\"start\" x=\"10497.5\" y=\"-338.8\" font-family=\"Helvetica,sans-Serif\" font-size=\"14.00\" fill=\"#000000\"> ≤ 0.1</text>\n<text text-anchor=\"start\" x=\"10449\" y=\"-324.8\" font-family=\"Helvetica,sans-Serif\" font-size=\"14.00\" fill=\"#000000\">entropy = 0.954</text>\n<text text-anchor=\"start\" x=\"10460.5\" y=\"-310.8\" font-family=\"Helvetica,sans-Serif\" font-size=\"14.00\" fill=\"#000000\">samples = 8</text>\n<text text-anchor=\"start\" x=\"10458.5\" y=\"-296.8\" font-family=\"Helvetica,sans-Serif\" font-size=\"14.00\" fill=\"#000000\">value = [5, 3]</text>\n</g>\n<!-- 221&#45;&gt;223 -->\n<g id=\"edge223\" class=\"edge\">\n<title>221&#45;&gt;223</title>\n<path fill=\"none\" stroke=\"#000000\" d=\"M10411.1703,-388.8089C10423.4415,-379.4416 10436.9693,-369.115 10449.6885,-359.4057\"/>\n<polygon fill=\"#000000\" stroke=\"#000000\" points=\"10452.0837,-361.9806 10457.9087,-353.1308 10447.8362,-356.4165 10452.0837,-361.9806\"/>\n</g>\n<!-- 224 -->\n<g id=\"node225\" class=\"node\">\n<title>224</title>\n<path fill=\"#e58139\" stroke=\"#000000\" d=\"M10537.5,-247.5C10537.5,-247.5 10460.5,-247.5 10460.5,-247.5 10454.5,-247.5 10448.5,-241.5 10448.5,-235.5 10448.5,-235.5 10448.5,-206.5 10448.5,-206.5 10448.5,-200.5 10454.5,-194.5 10460.5,-194.5 10460.5,-194.5 10537.5,-194.5 10537.5,-194.5 10543.5,-194.5 10549.5,-200.5 10549.5,-206.5 10549.5,-206.5 10549.5,-235.5 10549.5,-235.5 10549.5,-241.5 10543.5,-247.5 10537.5,-247.5\"/>\n<text text-anchor=\"start\" x=\"10456.5\" y=\"-232.3\" font-family=\"Helvetica,sans-Serif\" font-size=\"14.00\" fill=\"#000000\">entropy = 0.0</text>\n<text text-anchor=\"start\" x=\"10459.5\" y=\"-217.3\" font-family=\"Helvetica,sans-Serif\" font-size=\"14.00\" fill=\"#000000\">samples = 5</text>\n<text text-anchor=\"start\" x=\"10457.5\" y=\"-202.3\" font-family=\"Helvetica,sans-Serif\" font-size=\"14.00\" fill=\"#000000\">value = [5, 0]</text>\n</g>\n<!-- 223&#45;&gt;224 -->\n<g id=\"edge224\" class=\"edge\">\n<title>223&#45;&gt;224</title>\n<path fill=\"none\" stroke=\"#000000\" d=\"M10499.6781,-288.8089C10499.5798,-278.9777 10499.4709,-268.0898 10499.3697,-257.9679\"/>\n<polygon fill=\"#000000\" stroke=\"#000000\" points=\"10502.8677,-257.738 10499.2677,-247.7735 10495.868,-257.8081 10502.8677,-257.738\"/>\n</g>\n<!-- 225 -->\n<g id=\"node226\" class=\"node\">\n<title>225</title>\n<path fill=\"#399de5\" stroke=\"#000000\" d=\"M10656.5,-247.5C10656.5,-247.5 10579.5,-247.5 10579.5,-247.5 10573.5,-247.5 10567.5,-241.5 10567.5,-235.5 10567.5,-235.5 10567.5,-206.5 10567.5,-206.5 10567.5,-200.5 10573.5,-194.5 10579.5,-194.5 10579.5,-194.5 10656.5,-194.5 10656.5,-194.5 10662.5,-194.5 10668.5,-200.5 10668.5,-206.5 10668.5,-206.5 10668.5,-235.5 10668.5,-235.5 10668.5,-241.5 10662.5,-247.5 10656.5,-247.5\"/>\n<text text-anchor=\"start\" x=\"10575.5\" y=\"-232.3\" font-family=\"Helvetica,sans-Serif\" font-size=\"14.00\" fill=\"#000000\">entropy = 0.0</text>\n<text text-anchor=\"start\" x=\"10578.5\" y=\"-217.3\" font-family=\"Helvetica,sans-Serif\" font-size=\"14.00\" fill=\"#000000\">samples = 3</text>\n<text text-anchor=\"start\" x=\"10576.5\" y=\"-202.3\" font-family=\"Helvetica,sans-Serif\" font-size=\"14.00\" fill=\"#000000\">value = [0, 3]</text>\n</g>\n<!-- 223&#45;&gt;225 -->\n<g id=\"edge225\" class=\"edge\">\n<title>223&#45;&gt;225</title>\n<path fill=\"none\" stroke=\"#000000\" d=\"M10537.9855,-288.8089C10550.9296,-277.8393 10565.426,-265.5543 10578.4871,-254.4855\"/>\n<polygon fill=\"#000000\" stroke=\"#000000\" points=\"10581.0411,-256.9089 10586.4072,-247.7735 10576.5154,-251.5686 10581.0411,-256.9089\"/>\n</g>\n</g>\n</svg>\n"
          },
          "metadata": {},
          "execution_count": 25
        }
      ]
    },
    {
      "cell_type": "code",
      "source": [
        "# AdaBoost is very very slow...\n",
        "X = np.concatenate([num1_X, not1_X])\n",
        "Y = np.concatenate([num1_Y, not1_Y])\n",
        "weights = {0:len(num1_X), 1:len(not1_X)}\n",
        "scoring = 'balanced_accuracy'\n",
        "base_dt = DecisionTreeClassifier(criterion='gini', class_weight=weights, max_depth=1, max_features=100, random_state=0)\n",
        "dt_ab = AdaBoostClassifier(base_estimator=base_dt, n_estimators=100, random_state=0)\n",
        "cv_ret = cross_validate(dt_ab, X, Y, scoring=scoring, cv=10)\n",
        "_ = avg_print_cv(cv_ret, '[AdaBoost]')"
      ],
      "metadata": {
        "colab": {
          "base_uri": "https://localhost:8080/"
        },
        "id": "Sv9v-2J-_Ys8",
        "outputId": "23dfd93f-933e-4915-a662-3a471b8f98e5"
      },
      "execution_count": 16,
      "outputs": [
        {
          "output_type": "stream",
          "name": "stdout",
          "text": [
            "[AdaBoost]avg_fit_time = 20.393456172943115s\n",
            "[AdaBoost]avg_pred_time = 0.5481722593307495s\n",
            "[AdaBoost]avg_test_score = 0.983463027901994\n",
            "\n"
          ]
        }
      ]
    },
    {
      "cell_type": "markdown",
      "source": [
        "### Additional test, just for self-learning"
      ],
      "metadata": {
        "id": "5tIXQbGYeyUU"
      }
    },
    {
      "cell_type": "code",
      "source": [
        "scoring = 'f1'\n",
        "dt6 = DecisionTreeClassifier(criterion='entropy', max_depth=15, max_features=100, random_state=0)\n",
        "cv_ret6 = cross_validate(dt6, X, Y, scoring=scoring, cv=10)\n",
        "dt_m6 = avg_print_cv(cv_ret6, '[DecisionTree]')\n",
        "\n",
        "dt_rt = RandomForestClassifier(n_estimators=100, criterion=\"gini\", max_depth=10, random_state=0)\n",
        "cv_ret = cross_validate(dt_rt, X, Y, scoring=scoring, cv=10)\n",
        "_ = avg_print_cv(cv_ret, '[RandomForest]')\n",
        "\n",
        "dt_ab = AdaBoostClassifier(n_estimators=100, random_state=0)\n",
        "cv_ret = cross_validate(dt_ab, X, Y, scoring=scoring, cv=10)\n",
        "_ = avg_print_cv(cv_ret, '[AdaBoost]')"
      ],
      "metadata": {
        "colab": {
          "base_uri": "https://localhost:8080/"
        },
        "id": "itZ2da91Jhtp",
        "outputId": "836b253f-6682-4a57-bc08-19a03dbe6511"
      },
      "execution_count": 18,
      "outputs": [
        {
          "output_type": "stream",
          "name": "stdout",
          "text": [
            "[DecisionTree]avg_fit_time = 0.6876931190490723s\n",
            "[DecisionTree]avg_pred_time = 0.008095288276672363s\n",
            "[DecisionTree]avg_test_score = 0.9518611434458762\n",
            "\n",
            "[RandomForest]avg_fit_time = 13.071831560134887s\n",
            "[RandomForest]avg_pred_time = 0.07686195373535157s\n",
            "[RandomForest]avg_test_score = 0.9768610302965358\n",
            "\n",
            "[AdaBoost]avg_fit_time = 91.81991443634033s\n",
            "[AdaBoost]avg_pred_time = 0.5647037029266357s\n",
            "[AdaBoost]avg_test_score = 0.9580494489612464\n",
            "\n"
          ]
        }
      ]
    },
    {
      "cell_type": "code",
      "source": [
        "scoring = 'recall'\n",
        "dt6 = DecisionTreeClassifier(criterion='entropy', max_depth=15, max_features=100, random_state=0)\n",
        "cv_ret6 = cross_validate(dt6, X, Y, scoring=scoring, cv=10)\n",
        "dt_m6 = avg_print_cv(cv_ret6, '[DecisionTree]')\n",
        "\n",
        "dt_rt = RandomForestClassifier(n_estimators=100, criterion=\"gini\", max_depth=10, random_state=0)\n",
        "cv_ret = cross_validate(dt_rt, X, Y, scoring=scoring, cv=10)\n",
        "_ = avg_print_cv(cv_ret, '[RandomForest]')\n",
        "\n",
        "dt_ab = AdaBoostClassifier(n_estimators=100, random_state=0)\n",
        "cv_ret = cross_validate(dt_ab, X, Y, scoring=scoring, cv=10)\n",
        "_ = avg_print_cv(cv_ret, '[AdaBoost]')"
      ],
      "metadata": {
        "colab": {
          "base_uri": "https://localhost:8080/"
        },
        "id": "8SwECynPJjRf",
        "outputId": "f556a733-e80e-444d-cbbc-91ae4d6a5be9"
      },
      "execution_count": 19,
      "outputs": [
        {
          "output_type": "stream",
          "name": "stdout",
          "text": [
            "[DecisionTree]avg_fit_time = 0.6872010231018066s\n",
            "[DecisionTree]avg_pred_time = 0.008021306991577149s\n",
            "[DecisionTree]avg_test_score = 0.9575803934498296\n",
            "\n",
            "[RandomForest]avg_fit_time = 13.046009016036987s\n",
            "[RandomForest]avg_pred_time = 0.07457578182220459s\n",
            "[RandomForest]avg_test_score = 0.9642554126827123\n",
            "\n",
            "[AdaBoost]avg_fit_time = 94.38157386779785s\n",
            "[AdaBoost]avg_pred_time = 0.5499269247055054s\n",
            "[AdaBoost]avg_test_score = 0.965739531816683\n",
            "\n"
          ]
        }
      ]
    },
    {
      "cell_type": "markdown",
      "source": [
        " # Miscellaneous"
      ],
      "metadata": {
        "id": "UKJwxIClsjqi"
      }
    },
    {
      "cell_type": "code",
      "source": [
        "# test binary F1 return the item I want\n",
        "from sklearn.metrics import make_scorer, f1_score\n",
        "f1_n = make_scorer(f1_score, average=None)\n",
        "f1 = make_scorer(f1_score, average='binary')\n",
        "\n",
        "dt_s3_m2 = DecisionTreeClassifier(criterion='entropy', max_depth=15, max_features=100, class_weight=weights, random_state=0)\n",
        "dt_s3_m2.fit(X, Y)\n",
        "Y_pred = dt_s3_m2.predict(X)\n",
        "ret = f1_score(Y, Y_pred, average=None)\n",
        "print(ret)\n",
        "\n",
        "dt_s3_m3 = DecisionTreeClassifier(criterion='entropy', max_depth=15, max_features=100, class_weight=weights, random_state=0)\n",
        "dt_s3_m3.fit(X, Y)\n",
        "Y_pred = dt_s3_m3.predict(X)\n",
        "ret = f1_score(Y, Y_pred, average='binary')\n",
        "print(ret)"
      ],
      "metadata": {
        "colab": {
          "base_uri": "https://localhost:8080/"
        },
        "id": "X7KnCjUIq7qC",
        "outputId": "d76b9f7e-8ce5-4aab-ad9e-4bbad4750872"
      },
      "execution_count": 18,
      "outputs": [
        {
          "output_type": "stream",
          "name": "stdout",
          "text": [
            "[0.99874051 0.99015285]\n",
            "0.9901528512639625\n"
          ]
        }
      ]
    },
    {
      "cell_type": "code",
      "source": [
        "# 100-fold cv for high acc\n",
        "scoring = 'balanced_accuracy'\n",
        "dt6_100f = DecisionTreeClassifier(criterion='entropy', max_depth=15, max_features=100, random_state=0)\n",
        "cv_ret6_100f = cross_validate(dt6_100f, X, Y, scoring=scoring, cv=100)\n",
        "dt_m6_100f = avg_print_cv(cv_ret6_100f, '[DecisionTree]')"
      ],
      "metadata": {
        "colab": {
          "base_uri": "https://localhost:8080/"
        },
        "id": "Bu123ijs6xka",
        "outputId": "a8d9b1c0-c509-4a21-a117-896c08a57fb0"
      },
      "execution_count": 10,
      "outputs": [
        {
          "output_type": "stream",
          "name": "stdout",
          "text": [
            "[DecisionTree]avg_fit_time = 0.7832917451858521s\n",
            "[DecisionTree]avg_pred_time = 0.0018535399436950685s\n",
            "[DecisionTree]avg_test_score = 0.9756082457883337\n",
            "\n"
          ]
        }
      ]
    },
    {
      "cell_type": "code",
      "source": [
        "dt_rt_100f = RandomForestClassifier(n_estimators=100, criterion=\"gini\", max_depth=10, random_state=0)\n",
        "cv_ret_100f = cross_validate(dt_rt_100f, X, Y, scoring=scoring, cv=100)\n",
        "_ = avg_print_cv(cv_ret_100f, '[RandomForest]')"
      ],
      "metadata": {
        "colab": {
          "base_uri": "https://localhost:8080/"
        },
        "id": "wGpdIHYA64p5",
        "outputId": "8b7c1d96-26ec-433b-8a1e-f05287043cf4"
      },
      "execution_count": 13,
      "outputs": [
        {
          "output_type": "stream",
          "name": "stdout",
          "text": [
            "[RandomForest]avg_fit_time = 14.84400509595871s\n",
            "[RandomForest]avg_pred_time = 0.017210323810577393s\n",
            "[RandomForest]avg_test_score = 0.981067851013191\n",
            "\n"
          ]
        }
      ]
    },
    {
      "cell_type": "code",
      "source": [
        "dt_ab_100f = AdaBoostClassifier(n_estimators=100, random_state=0)\n",
        "cv_ret_100f = cross_validate(dt_ab_100f, X, Y, scoring=scoring, cv=100)\n",
        "_ = avg_print_cv(cv_ret_100f, '[AdaBoost]')"
      ],
      "metadata": {
        "id": "Eg86Jp0U65Pk"
      },
      "execution_count": null,
      "outputs": []
    },
    {
      "cell_type": "code",
      "source": [
        "# not used\n",
        "scoring = 'balanced_accuracy'\n",
        "dt = DecisionTreeClassifier(criterion='gini', random_state=0)\n",
        "cv_ret = cross_validate(dt, X, Y, scoring=scoring, cv=10)\n",
        "dt_m = avg_print_cv(cv_ret, '[dt]')\n",
        "\n",
        "dt2 = DecisionTreeClassifier(criterion='entropy', random_state=0)\n",
        "cv_ret2 = cross_validate(dt2, X, Y, scoring=scoring, cv=10)\n",
        "dt_m2 = avg_print_cv(cv_ret2, '[dt2]')\n",
        "\n",
        "dt3 = DecisionTreeClassifier(criterion='gini', max_depth=5, random_state=0)\n",
        "cv_ret3 = cross_validate(dt3, X, Y, scoring=scoring, cv=10)\n",
        "dt_m3 = avg_print_cv(cv_ret3, '[dt3]')\n",
        "\n",
        "dt4 = DecisionTreeClassifier(criterion='gini', max_features=100, random_state=0)\n",
        "cv_ret4 = cross_validate(dt4, X, Y, scoring=scoring, cv=10)\n",
        "dt_m4 = avg_print_cv(cv_ret4, '[dt4]')\n",
        "\n",
        "dt5 = DecisionTreeClassifier(criterion='entropy', max_depth=5, max_features=100, random_state=0)\n",
        "cv_ret5 = cross_validate(dt5, X, Y, scoring=scoring, cv=10)\n",
        "dt_m5 = avg_print_cv(cv_ret5, '[dt5]')"
      ],
      "metadata": {
        "colab": {
          "base_uri": "https://localhost:8080/"
        },
        "id": "nEEtMgkS6zaD",
        "outputId": "7a3b6264-208b-4cfd-cddb-1bcc9fedd2f2"
      },
      "execution_count": null,
      "outputs": [
        {
          "output_type": "stream",
          "name": "stdout",
          "text": [
            "avg_fit_time = 11.022568368911744s\n",
            "avg_pred_time = 0.018310546875s\n",
            "avg_test_score = 0.970967258894969\n",
            "\n",
            "avg_fit_time = 6.388981008529663s\n",
            "avg_pred_time = 0.01839790344238281s\n",
            "avg_test_score = 0.974194181623728\n",
            "\n",
            "avg_fit_time = 5.257892203330994s\n",
            "avg_pred_time = 0.01673116683959961s\n",
            "avg_test_score = 0.9453221077531827\n",
            "\n",
            "avg_fit_time = 1.3845264911651611s\n",
            "avg_pred_time = 0.01750335693359375s\n",
            "avg_test_score = 0.9715808878646449\n",
            "\n",
            "avg_fit_time = 0.7975490093231201s\n",
            "avg_pred_time = 0.017349743843078615s\n",
            "avg_test_score = 0.918030402944764\n",
            "\n"
          ]
        }
      ]
    },
    {
      "cell_type": "code",
      "source": [
        "# not used\n",
        "scoring = 'recall'\n",
        "dt_s = DecisionTreeClassifier(criterion='gini', class_weight=weights, random_state=0)\n",
        "cv_ret_s = cross_validate(dt_s, X, Y, scoring=scoring, cv=10)\n",
        "dt_m_s = avg_print_cv(cv_ret_s)\n",
        "\n",
        "dt_s2 = DecisionTreeClassifier(criterion='entropy', class_weight=weights, random_state=0)\n",
        "cv_ret_s2 = cross_validate(dt_s2, X, Y, scoring=scoring, cv=10)\n",
        "dt_m_s2 = avg_print_cv(cv_ret_s2)\n",
        "\n",
        "dt_s3 = DecisionTreeClassifier(criterion='entropy', max_depth=15, max_features=100, class_weight=weights, random_state=0)\n",
        "cv_ret_s3 = cross_validate(dt_s3, X, Y, scoring=scoring, cv=10)\n",
        "dt_m_s3 = avg_print_cv(cv_ret_s3)"
      ],
      "metadata": {
        "colab": {
          "base_uri": "https://localhost:8080/"
        },
        "id": "TdIbByQz9hLg",
        "outputId": "2f8de0bc-dd0a-42c8-b219-3a17a844d467"
      },
      "execution_count": 23,
      "outputs": [
        {
          "output_type": "stream",
          "name": "stdout",
          "text": [
            "avg_fit_time = 13.343000197410584s\n",
            "avg_pred_time = 0.01958143711090088s\n",
            "avg_test_score = 0.9492735465435764\n",
            "\n",
            "avg_fit_time = 6.760175275802612s\n",
            "avg_pred_time = 0.017557525634765626s\n",
            "avg_test_score = 0.9586178700956148\n",
            "\n",
            "avg_fit_time = 1.0495509862899781s\n",
            "avg_pred_time = 0.017020821571350098s\n",
            "avg_test_score = 0.9608433893834487\n",
            "\n"
          ]
        }
      ]
    },
    {
      "cell_type": "code",
      "source": [
        "scoring = 'balanced_accuracy'\n",
        "dt_b = DecisionTreeClassifier(criterion='gini', class_weight=weights, random_state=0)\n",
        "cv_ret_b = cross_validate(dt_b, X, Y, scoring=scoring, cv=10)\n",
        "dt_m_b = avg_print_cv(cv_ret_b, '[dt_b]')\n",
        "\n",
        "dt_b2 = DecisionTreeClassifier(criterion='entropy', class_weight=weights, random_state=0)\n",
        "cv_ret_b2 = cross_validate(dt_b2, X, Y, scoring=scoring, cv=10)\n",
        "dt_m_b2 = avg_print_cv(cv_ret_b2, '[dt_b2]')\n",
        "\n",
        "dt_b3 = DecisionTreeClassifier(criterion='entropy', max_depth=15, max_features=100, class_weight=weights, random_state=0)\n",
        "cv_ret_b3 = cross_validate(dt_b3, X, Y, scoring=scoring, cv=10)\n",
        "dt_m_b3 = avg_print_cv(cv_ret_b3, '[dt_b3]')"
      ],
      "metadata": {
        "colab": {
          "base_uri": "https://localhost:8080/"
        },
        "id": "P_8Ku7B89cqg",
        "outputId": "e316ca31-95ff-4094-f3ac-7901e01d58e1"
      },
      "execution_count": 24,
      "outputs": [
        {
          "output_type": "stream",
          "name": "stdout",
          "text": [
            "[dt_b]avg_fit_time = 10.717323851585387s\n",
            "[dt_b]avg_pred_time = 0.017659473419189452s\n",
            "[dt_b]avg_test_score = 0.9715574176789747\n",
            "\n",
            "[dt_b2]avg_fit_time = 6.011569666862488s\n",
            "[dt_b2]avg_pred_time = 0.017207241058349608s\n",
            "[dt_b2]avg_test_score = 0.976013636406542\n",
            "\n",
            "[dt_b3]avg_fit_time = 0.9724507093429565s\n",
            "[dt_b3]avg_pred_time = 0.017268991470336913s\n",
            "[dt_b3]avg_test_score = 0.9766851379120677\n",
            "\n"
          ]
        }
      ]
    },
    {
      "cell_type": "code",
      "source": [
        "scoring = 'recall'\n",
        "dt = DecisionTreeClassifier(criterion='gini', random_state=0)\n",
        "cv_ret = cross_validate(dt, X, Y, scoring=scoring, cv=10)\n",
        "dt_m = avg_print_cv(cv_ret)\n",
        "\n",
        "dt2 = DecisionTreeClassifier(criterion='entropy', random_state=0)\n",
        "cv_ret2 = cross_validate(dt2, X, Y, scoring=scoring, cv=10)\n",
        "dt_m2 = avg_print_cv(cv_ret2)\n",
        "\n",
        "dt3 = DecisionTreeClassifier(criterion='gini', max_depth=5, random_state=0)\n",
        "cv_ret3 = cross_validate(dt3, X, Y, scoring=scoring, cv=10)\n",
        "dt_m3 = avg_print_cv(cv_ret3)\n",
        "\n",
        "dt4 = DecisionTreeClassifier(criterion='gini', max_features=100, random_state=0)\n",
        "cv_ret4 = cross_validate(dt4, X, Y, scoring=scoring, cv=10)\n",
        "dt_m4 = avg_print_cv(cv_ret4)\n",
        "\n",
        "dt5 = DecisionTreeClassifier(criterion='entropy', max_depth=5, max_features=100, random_state=0)\n",
        "cv_ret5 = cross_validate(dt5, X, Y, scoring=scoring, cv=10)\n",
        "dt_m5 = avg_print_cv(cv_ret5)"
      ],
      "metadata": {
        "colab": {
          "base_uri": "https://localhost:8080/"
        },
        "id": "OwqlvvRR8PiM",
        "outputId": "9e313a01-5964-49e0-cafb-239875e088b2"
      },
      "execution_count": null,
      "outputs": [
        {
          "output_type": "stream",
          "name": "stdout",
          "text": [
            "avg_fit_time = 14.00842742919922s\n",
            "avg_pred_time = 0.017385292053222656s\n",
            "avg_test_score = 0.9506092977250248\n",
            "\n",
            "avg_fit_time = 7.693921518325806s\n",
            "avg_pred_time = 0.015551567077636719s\n",
            "avg_test_score = 0.9553544345532476\n",
            "\n",
            "avg_fit_time = 6.734702372550965s\n",
            "avg_pred_time = 0.018751811981201173s\n",
            "avg_test_score = 0.9056654577426091\n",
            "\n",
            "avg_fit_time = 1.6619008302688598s\n",
            "avg_pred_time = 0.015767121315002443s\n",
            "avg_test_score = 0.9514986262226618\n",
            "\n",
            "avg_fit_time = 0.9945934295654297s\n",
            "avg_pred_time = 0.018022966384887696s\n",
            "avg_test_score = 0.85628310803385\n",
            "\n"
          ]
        }
      ]
    }
  ],
  "metadata": {
    "colab": {
      "collapsed_sections": [],
      "provenance": [],
      "authorship_tag": "ABX9TyPBoMYjl9oriNf18fa1WuB7",
      "include_colab_link": true
    },
    "gpuClass": "standard",
    "kernelspec": {
      "display_name": "Python 3",
      "name": "python3"
    },
    "language_info": {
      "name": "python"
    },
    "widgets": {
      "application/vnd.jupyter.widget-state+json": {
        "d4199fe50fb04e92a6f0131f5966951e": {
          "model_module": "@jupyter-widgets/controls",
          "model_name": "HBoxModel",
          "model_module_version": "1.5.0",
          "state": {
            "_dom_classes": [],
            "_model_module": "@jupyter-widgets/controls",
            "_model_module_version": "1.5.0",
            "_model_name": "HBoxModel",
            "_view_count": null,
            "_view_module": "@jupyter-widgets/controls",
            "_view_module_version": "1.5.0",
            "_view_name": "HBoxView",
            "box_style": "",
            "children": [
              "IPY_MODEL_c99e33794ed34b7fb57241ec038a54ee",
              "IPY_MODEL_e7d67ecc15c94044810e659c0ee94fbb",
              "IPY_MODEL_6b701a6702b44f72b1a71c309f952392"
            ],
            "layout": "IPY_MODEL_f5eb01f56daa4ff6b5e8ae4ee039af85"
          }
        },
        "c99e33794ed34b7fb57241ec038a54ee": {
          "model_module": "@jupyter-widgets/controls",
          "model_name": "HTMLModel",
          "model_module_version": "1.5.0",
          "state": {
            "_dom_classes": [],
            "_model_module": "@jupyter-widgets/controls",
            "_model_module_version": "1.5.0",
            "_model_name": "HTMLModel",
            "_view_count": null,
            "_view_module": "@jupyter-widgets/controls",
            "_view_module_version": "1.5.0",
            "_view_name": "HTMLView",
            "description": "",
            "description_tooltip": null,
            "layout": "IPY_MODEL_978869effe1c425484ef46eec0932806",
            "placeholder": "​",
            "style": "IPY_MODEL_03d7e7cc3ce94c2abfcdb157769cc9a9",
            "value": "100%"
          }
        },
        "e7d67ecc15c94044810e659c0ee94fbb": {
          "model_module": "@jupyter-widgets/controls",
          "model_name": "FloatProgressModel",
          "model_module_version": "1.5.0",
          "state": {
            "_dom_classes": [],
            "_model_module": "@jupyter-widgets/controls",
            "_model_module_version": "1.5.0",
            "_model_name": "FloatProgressModel",
            "_view_count": null,
            "_view_module": "@jupyter-widgets/controls",
            "_view_module_version": "1.5.0",
            "_view_name": "ProgressView",
            "bar_style": "success",
            "description": "",
            "description_tooltip": null,
            "layout": "IPY_MODEL_0ae4c55968764298b0c9422c3b4addac",
            "max": 9912422,
            "min": 0,
            "orientation": "horizontal",
            "style": "IPY_MODEL_3eeaf0b2266e47a0880b4b6d18fc4cb9",
            "value": 9912422
          }
        },
        "6b701a6702b44f72b1a71c309f952392": {
          "model_module": "@jupyter-widgets/controls",
          "model_name": "HTMLModel",
          "model_module_version": "1.5.0",
          "state": {
            "_dom_classes": [],
            "_model_module": "@jupyter-widgets/controls",
            "_model_module_version": "1.5.0",
            "_model_name": "HTMLModel",
            "_view_count": null,
            "_view_module": "@jupyter-widgets/controls",
            "_view_module_version": "1.5.0",
            "_view_name": "HTMLView",
            "description": "",
            "description_tooltip": null,
            "layout": "IPY_MODEL_19b89761c4b24de6b1236b7276b35ee9",
            "placeholder": "​",
            "style": "IPY_MODEL_72e087a540d84e998b5287a1fa36bf27",
            "value": " 9912422/9912422 [00:00&lt;00:00, 18979665.00it/s]"
          }
        },
        "f5eb01f56daa4ff6b5e8ae4ee039af85": {
          "model_module": "@jupyter-widgets/base",
          "model_name": "LayoutModel",
          "model_module_version": "1.2.0",
          "state": {
            "_model_module": "@jupyter-widgets/base",
            "_model_module_version": "1.2.0",
            "_model_name": "LayoutModel",
            "_view_count": null,
            "_view_module": "@jupyter-widgets/base",
            "_view_module_version": "1.2.0",
            "_view_name": "LayoutView",
            "align_content": null,
            "align_items": null,
            "align_self": null,
            "border": null,
            "bottom": null,
            "display": null,
            "flex": null,
            "flex_flow": null,
            "grid_area": null,
            "grid_auto_columns": null,
            "grid_auto_flow": null,
            "grid_auto_rows": null,
            "grid_column": null,
            "grid_gap": null,
            "grid_row": null,
            "grid_template_areas": null,
            "grid_template_columns": null,
            "grid_template_rows": null,
            "height": null,
            "justify_content": null,
            "justify_items": null,
            "left": null,
            "margin": null,
            "max_height": null,
            "max_width": null,
            "min_height": null,
            "min_width": null,
            "object_fit": null,
            "object_position": null,
            "order": null,
            "overflow": null,
            "overflow_x": null,
            "overflow_y": null,
            "padding": null,
            "right": null,
            "top": null,
            "visibility": null,
            "width": null
          }
        },
        "978869effe1c425484ef46eec0932806": {
          "model_module": "@jupyter-widgets/base",
          "model_name": "LayoutModel",
          "model_module_version": "1.2.0",
          "state": {
            "_model_module": "@jupyter-widgets/base",
            "_model_module_version": "1.2.0",
            "_model_name": "LayoutModel",
            "_view_count": null,
            "_view_module": "@jupyter-widgets/base",
            "_view_module_version": "1.2.0",
            "_view_name": "LayoutView",
            "align_content": null,
            "align_items": null,
            "align_self": null,
            "border": null,
            "bottom": null,
            "display": null,
            "flex": null,
            "flex_flow": null,
            "grid_area": null,
            "grid_auto_columns": null,
            "grid_auto_flow": null,
            "grid_auto_rows": null,
            "grid_column": null,
            "grid_gap": null,
            "grid_row": null,
            "grid_template_areas": null,
            "grid_template_columns": null,
            "grid_template_rows": null,
            "height": null,
            "justify_content": null,
            "justify_items": null,
            "left": null,
            "margin": null,
            "max_height": null,
            "max_width": null,
            "min_height": null,
            "min_width": null,
            "object_fit": null,
            "object_position": null,
            "order": null,
            "overflow": null,
            "overflow_x": null,
            "overflow_y": null,
            "padding": null,
            "right": null,
            "top": null,
            "visibility": null,
            "width": null
          }
        },
        "03d7e7cc3ce94c2abfcdb157769cc9a9": {
          "model_module": "@jupyter-widgets/controls",
          "model_name": "DescriptionStyleModel",
          "model_module_version": "1.5.0",
          "state": {
            "_model_module": "@jupyter-widgets/controls",
            "_model_module_version": "1.5.0",
            "_model_name": "DescriptionStyleModel",
            "_view_count": null,
            "_view_module": "@jupyter-widgets/base",
            "_view_module_version": "1.2.0",
            "_view_name": "StyleView",
            "description_width": ""
          }
        },
        "0ae4c55968764298b0c9422c3b4addac": {
          "model_module": "@jupyter-widgets/base",
          "model_name": "LayoutModel",
          "model_module_version": "1.2.0",
          "state": {
            "_model_module": "@jupyter-widgets/base",
            "_model_module_version": "1.2.0",
            "_model_name": "LayoutModel",
            "_view_count": null,
            "_view_module": "@jupyter-widgets/base",
            "_view_module_version": "1.2.0",
            "_view_name": "LayoutView",
            "align_content": null,
            "align_items": null,
            "align_self": null,
            "border": null,
            "bottom": null,
            "display": null,
            "flex": null,
            "flex_flow": null,
            "grid_area": null,
            "grid_auto_columns": null,
            "grid_auto_flow": null,
            "grid_auto_rows": null,
            "grid_column": null,
            "grid_gap": null,
            "grid_row": null,
            "grid_template_areas": null,
            "grid_template_columns": null,
            "grid_template_rows": null,
            "height": null,
            "justify_content": null,
            "justify_items": null,
            "left": null,
            "margin": null,
            "max_height": null,
            "max_width": null,
            "min_height": null,
            "min_width": null,
            "object_fit": null,
            "object_position": null,
            "order": null,
            "overflow": null,
            "overflow_x": null,
            "overflow_y": null,
            "padding": null,
            "right": null,
            "top": null,
            "visibility": null,
            "width": null
          }
        },
        "3eeaf0b2266e47a0880b4b6d18fc4cb9": {
          "model_module": "@jupyter-widgets/controls",
          "model_name": "ProgressStyleModel",
          "model_module_version": "1.5.0",
          "state": {
            "_model_module": "@jupyter-widgets/controls",
            "_model_module_version": "1.5.0",
            "_model_name": "ProgressStyleModel",
            "_view_count": null,
            "_view_module": "@jupyter-widgets/base",
            "_view_module_version": "1.2.0",
            "_view_name": "StyleView",
            "bar_color": null,
            "description_width": ""
          }
        },
        "19b89761c4b24de6b1236b7276b35ee9": {
          "model_module": "@jupyter-widgets/base",
          "model_name": "LayoutModel",
          "model_module_version": "1.2.0",
          "state": {
            "_model_module": "@jupyter-widgets/base",
            "_model_module_version": "1.2.0",
            "_model_name": "LayoutModel",
            "_view_count": null,
            "_view_module": "@jupyter-widgets/base",
            "_view_module_version": "1.2.0",
            "_view_name": "LayoutView",
            "align_content": null,
            "align_items": null,
            "align_self": null,
            "border": null,
            "bottom": null,
            "display": null,
            "flex": null,
            "flex_flow": null,
            "grid_area": null,
            "grid_auto_columns": null,
            "grid_auto_flow": null,
            "grid_auto_rows": null,
            "grid_column": null,
            "grid_gap": null,
            "grid_row": null,
            "grid_template_areas": null,
            "grid_template_columns": null,
            "grid_template_rows": null,
            "height": null,
            "justify_content": null,
            "justify_items": null,
            "left": null,
            "margin": null,
            "max_height": null,
            "max_width": null,
            "min_height": null,
            "min_width": null,
            "object_fit": null,
            "object_position": null,
            "order": null,
            "overflow": null,
            "overflow_x": null,
            "overflow_y": null,
            "padding": null,
            "right": null,
            "top": null,
            "visibility": null,
            "width": null
          }
        },
        "72e087a540d84e998b5287a1fa36bf27": {
          "model_module": "@jupyter-widgets/controls",
          "model_name": "DescriptionStyleModel",
          "model_module_version": "1.5.0",
          "state": {
            "_model_module": "@jupyter-widgets/controls",
            "_model_module_version": "1.5.0",
            "_model_name": "DescriptionStyleModel",
            "_view_count": null,
            "_view_module": "@jupyter-widgets/base",
            "_view_module_version": "1.2.0",
            "_view_name": "StyleView",
            "description_width": ""
          }
        },
        "41dd42b56f944450a6a0661a124835e8": {
          "model_module": "@jupyter-widgets/controls",
          "model_name": "HBoxModel",
          "model_module_version": "1.5.0",
          "state": {
            "_dom_classes": [],
            "_model_module": "@jupyter-widgets/controls",
            "_model_module_version": "1.5.0",
            "_model_name": "HBoxModel",
            "_view_count": null,
            "_view_module": "@jupyter-widgets/controls",
            "_view_module_version": "1.5.0",
            "_view_name": "HBoxView",
            "box_style": "",
            "children": [
              "IPY_MODEL_88000f216dbe44ceb6d8e6b2ef9e2f12",
              "IPY_MODEL_63f95af8328f4a2296f31f2ce83d9652",
              "IPY_MODEL_a2abb08e4b9e46ca8ac5dfb89a97a9f7"
            ],
            "layout": "IPY_MODEL_c7dc9758facb402bb74058d3f3ffcbd5"
          }
        },
        "88000f216dbe44ceb6d8e6b2ef9e2f12": {
          "model_module": "@jupyter-widgets/controls",
          "model_name": "HTMLModel",
          "model_module_version": "1.5.0",
          "state": {
            "_dom_classes": [],
            "_model_module": "@jupyter-widgets/controls",
            "_model_module_version": "1.5.0",
            "_model_name": "HTMLModel",
            "_view_count": null,
            "_view_module": "@jupyter-widgets/controls",
            "_view_module_version": "1.5.0",
            "_view_name": "HTMLView",
            "description": "",
            "description_tooltip": null,
            "layout": "IPY_MODEL_844f8112de134ec9b00df0ca0b3b921e",
            "placeholder": "​",
            "style": "IPY_MODEL_840f568c1f904decad7c29ae04b2ebd0",
            "value": "100%"
          }
        },
        "63f95af8328f4a2296f31f2ce83d9652": {
          "model_module": "@jupyter-widgets/controls",
          "model_name": "FloatProgressModel",
          "model_module_version": "1.5.0",
          "state": {
            "_dom_classes": [],
            "_model_module": "@jupyter-widgets/controls",
            "_model_module_version": "1.5.0",
            "_model_name": "FloatProgressModel",
            "_view_count": null,
            "_view_module": "@jupyter-widgets/controls",
            "_view_module_version": "1.5.0",
            "_view_name": "ProgressView",
            "bar_style": "success",
            "description": "",
            "description_tooltip": null,
            "layout": "IPY_MODEL_f920d7db02544129b34929b6cacc4b86",
            "max": 28881,
            "min": 0,
            "orientation": "horizontal",
            "style": "IPY_MODEL_8ac612025858480cae4db9ca1b346167",
            "value": 28881
          }
        },
        "a2abb08e4b9e46ca8ac5dfb89a97a9f7": {
          "model_module": "@jupyter-widgets/controls",
          "model_name": "HTMLModel",
          "model_module_version": "1.5.0",
          "state": {
            "_dom_classes": [],
            "_model_module": "@jupyter-widgets/controls",
            "_model_module_version": "1.5.0",
            "_model_name": "HTMLModel",
            "_view_count": null,
            "_view_module": "@jupyter-widgets/controls",
            "_view_module_version": "1.5.0",
            "_view_name": "HTMLView",
            "description": "",
            "description_tooltip": null,
            "layout": "IPY_MODEL_2d7f88ba21d5484d8e63e83c6eb9a3a6",
            "placeholder": "​",
            "style": "IPY_MODEL_8a8a700204224e699ffb4bd1ab13ce09",
            "value": " 28881/28881 [00:00&lt;00:00, 293709.99it/s]"
          }
        },
        "c7dc9758facb402bb74058d3f3ffcbd5": {
          "model_module": "@jupyter-widgets/base",
          "model_name": "LayoutModel",
          "model_module_version": "1.2.0",
          "state": {
            "_model_module": "@jupyter-widgets/base",
            "_model_module_version": "1.2.0",
            "_model_name": "LayoutModel",
            "_view_count": null,
            "_view_module": "@jupyter-widgets/base",
            "_view_module_version": "1.2.0",
            "_view_name": "LayoutView",
            "align_content": null,
            "align_items": null,
            "align_self": null,
            "border": null,
            "bottom": null,
            "display": null,
            "flex": null,
            "flex_flow": null,
            "grid_area": null,
            "grid_auto_columns": null,
            "grid_auto_flow": null,
            "grid_auto_rows": null,
            "grid_column": null,
            "grid_gap": null,
            "grid_row": null,
            "grid_template_areas": null,
            "grid_template_columns": null,
            "grid_template_rows": null,
            "height": null,
            "justify_content": null,
            "justify_items": null,
            "left": null,
            "margin": null,
            "max_height": null,
            "max_width": null,
            "min_height": null,
            "min_width": null,
            "object_fit": null,
            "object_position": null,
            "order": null,
            "overflow": null,
            "overflow_x": null,
            "overflow_y": null,
            "padding": null,
            "right": null,
            "top": null,
            "visibility": null,
            "width": null
          }
        },
        "844f8112de134ec9b00df0ca0b3b921e": {
          "model_module": "@jupyter-widgets/base",
          "model_name": "LayoutModel",
          "model_module_version": "1.2.0",
          "state": {
            "_model_module": "@jupyter-widgets/base",
            "_model_module_version": "1.2.0",
            "_model_name": "LayoutModel",
            "_view_count": null,
            "_view_module": "@jupyter-widgets/base",
            "_view_module_version": "1.2.0",
            "_view_name": "LayoutView",
            "align_content": null,
            "align_items": null,
            "align_self": null,
            "border": null,
            "bottom": null,
            "display": null,
            "flex": null,
            "flex_flow": null,
            "grid_area": null,
            "grid_auto_columns": null,
            "grid_auto_flow": null,
            "grid_auto_rows": null,
            "grid_column": null,
            "grid_gap": null,
            "grid_row": null,
            "grid_template_areas": null,
            "grid_template_columns": null,
            "grid_template_rows": null,
            "height": null,
            "justify_content": null,
            "justify_items": null,
            "left": null,
            "margin": null,
            "max_height": null,
            "max_width": null,
            "min_height": null,
            "min_width": null,
            "object_fit": null,
            "object_position": null,
            "order": null,
            "overflow": null,
            "overflow_x": null,
            "overflow_y": null,
            "padding": null,
            "right": null,
            "top": null,
            "visibility": null,
            "width": null
          }
        },
        "840f568c1f904decad7c29ae04b2ebd0": {
          "model_module": "@jupyter-widgets/controls",
          "model_name": "DescriptionStyleModel",
          "model_module_version": "1.5.0",
          "state": {
            "_model_module": "@jupyter-widgets/controls",
            "_model_module_version": "1.5.0",
            "_model_name": "DescriptionStyleModel",
            "_view_count": null,
            "_view_module": "@jupyter-widgets/base",
            "_view_module_version": "1.2.0",
            "_view_name": "StyleView",
            "description_width": ""
          }
        },
        "f920d7db02544129b34929b6cacc4b86": {
          "model_module": "@jupyter-widgets/base",
          "model_name": "LayoutModel",
          "model_module_version": "1.2.0",
          "state": {
            "_model_module": "@jupyter-widgets/base",
            "_model_module_version": "1.2.0",
            "_model_name": "LayoutModel",
            "_view_count": null,
            "_view_module": "@jupyter-widgets/base",
            "_view_module_version": "1.2.0",
            "_view_name": "LayoutView",
            "align_content": null,
            "align_items": null,
            "align_self": null,
            "border": null,
            "bottom": null,
            "display": null,
            "flex": null,
            "flex_flow": null,
            "grid_area": null,
            "grid_auto_columns": null,
            "grid_auto_flow": null,
            "grid_auto_rows": null,
            "grid_column": null,
            "grid_gap": null,
            "grid_row": null,
            "grid_template_areas": null,
            "grid_template_columns": null,
            "grid_template_rows": null,
            "height": null,
            "justify_content": null,
            "justify_items": null,
            "left": null,
            "margin": null,
            "max_height": null,
            "max_width": null,
            "min_height": null,
            "min_width": null,
            "object_fit": null,
            "object_position": null,
            "order": null,
            "overflow": null,
            "overflow_x": null,
            "overflow_y": null,
            "padding": null,
            "right": null,
            "top": null,
            "visibility": null,
            "width": null
          }
        },
        "8ac612025858480cae4db9ca1b346167": {
          "model_module": "@jupyter-widgets/controls",
          "model_name": "ProgressStyleModel",
          "model_module_version": "1.5.0",
          "state": {
            "_model_module": "@jupyter-widgets/controls",
            "_model_module_version": "1.5.0",
            "_model_name": "ProgressStyleModel",
            "_view_count": null,
            "_view_module": "@jupyter-widgets/base",
            "_view_module_version": "1.2.0",
            "_view_name": "StyleView",
            "bar_color": null,
            "description_width": ""
          }
        },
        "2d7f88ba21d5484d8e63e83c6eb9a3a6": {
          "model_module": "@jupyter-widgets/base",
          "model_name": "LayoutModel",
          "model_module_version": "1.2.0",
          "state": {
            "_model_module": "@jupyter-widgets/base",
            "_model_module_version": "1.2.0",
            "_model_name": "LayoutModel",
            "_view_count": null,
            "_view_module": "@jupyter-widgets/base",
            "_view_module_version": "1.2.0",
            "_view_name": "LayoutView",
            "align_content": null,
            "align_items": null,
            "align_self": null,
            "border": null,
            "bottom": null,
            "display": null,
            "flex": null,
            "flex_flow": null,
            "grid_area": null,
            "grid_auto_columns": null,
            "grid_auto_flow": null,
            "grid_auto_rows": null,
            "grid_column": null,
            "grid_gap": null,
            "grid_row": null,
            "grid_template_areas": null,
            "grid_template_columns": null,
            "grid_template_rows": null,
            "height": null,
            "justify_content": null,
            "justify_items": null,
            "left": null,
            "margin": null,
            "max_height": null,
            "max_width": null,
            "min_height": null,
            "min_width": null,
            "object_fit": null,
            "object_position": null,
            "order": null,
            "overflow": null,
            "overflow_x": null,
            "overflow_y": null,
            "padding": null,
            "right": null,
            "top": null,
            "visibility": null,
            "width": null
          }
        },
        "8a8a700204224e699ffb4bd1ab13ce09": {
          "model_module": "@jupyter-widgets/controls",
          "model_name": "DescriptionStyleModel",
          "model_module_version": "1.5.0",
          "state": {
            "_model_module": "@jupyter-widgets/controls",
            "_model_module_version": "1.5.0",
            "_model_name": "DescriptionStyleModel",
            "_view_count": null,
            "_view_module": "@jupyter-widgets/base",
            "_view_module_version": "1.2.0",
            "_view_name": "StyleView",
            "description_width": ""
          }
        },
        "4365af7e632349228b6e9eecb8bf21c9": {
          "model_module": "@jupyter-widgets/controls",
          "model_name": "HBoxModel",
          "model_module_version": "1.5.0",
          "state": {
            "_dom_classes": [],
            "_model_module": "@jupyter-widgets/controls",
            "_model_module_version": "1.5.0",
            "_model_name": "HBoxModel",
            "_view_count": null,
            "_view_module": "@jupyter-widgets/controls",
            "_view_module_version": "1.5.0",
            "_view_name": "HBoxView",
            "box_style": "",
            "children": [
              "IPY_MODEL_8ef9956545cc40c0ab9c85f5267d1c63",
              "IPY_MODEL_f669fe000328464580749afa23466692",
              "IPY_MODEL_a975462d24f74063ad49e2f7b52bd774"
            ],
            "layout": "IPY_MODEL_5f59a999a38b4209b557f87b9b388cb7"
          }
        },
        "8ef9956545cc40c0ab9c85f5267d1c63": {
          "model_module": "@jupyter-widgets/controls",
          "model_name": "HTMLModel",
          "model_module_version": "1.5.0",
          "state": {
            "_dom_classes": [],
            "_model_module": "@jupyter-widgets/controls",
            "_model_module_version": "1.5.0",
            "_model_name": "HTMLModel",
            "_view_count": null,
            "_view_module": "@jupyter-widgets/controls",
            "_view_module_version": "1.5.0",
            "_view_name": "HTMLView",
            "description": "",
            "description_tooltip": null,
            "layout": "IPY_MODEL_2ee52b345e9b4870a544bf400af921d8",
            "placeholder": "​",
            "style": "IPY_MODEL_01f4b12ba991449891855df8c260ddb7",
            "value": "100%"
          }
        },
        "f669fe000328464580749afa23466692": {
          "model_module": "@jupyter-widgets/controls",
          "model_name": "FloatProgressModel",
          "model_module_version": "1.5.0",
          "state": {
            "_dom_classes": [],
            "_model_module": "@jupyter-widgets/controls",
            "_model_module_version": "1.5.0",
            "_model_name": "FloatProgressModel",
            "_view_count": null,
            "_view_module": "@jupyter-widgets/controls",
            "_view_module_version": "1.5.0",
            "_view_name": "ProgressView",
            "bar_style": "success",
            "description": "",
            "description_tooltip": null,
            "layout": "IPY_MODEL_66f661a6ec7d44b6b6c06fc8fb00887f",
            "max": 1648877,
            "min": 0,
            "orientation": "horizontal",
            "style": "IPY_MODEL_613e155767f7475dae63efc7a6af8272",
            "value": 1648877
          }
        },
        "a975462d24f74063ad49e2f7b52bd774": {
          "model_module": "@jupyter-widgets/controls",
          "model_name": "HTMLModel",
          "model_module_version": "1.5.0",
          "state": {
            "_dom_classes": [],
            "_model_module": "@jupyter-widgets/controls",
            "_model_module_version": "1.5.0",
            "_model_name": "HTMLModel",
            "_view_count": null,
            "_view_module": "@jupyter-widgets/controls",
            "_view_module_version": "1.5.0",
            "_view_name": "HTMLView",
            "description": "",
            "description_tooltip": null,
            "layout": "IPY_MODEL_625d5ace51324654b3360af5c323807e",
            "placeholder": "​",
            "style": "IPY_MODEL_fcb53d65128b4c3cb8d12c754b933cd8",
            "value": " 1648877/1648877 [00:00&lt;00:00, 6207662.45it/s]"
          }
        },
        "5f59a999a38b4209b557f87b9b388cb7": {
          "model_module": "@jupyter-widgets/base",
          "model_name": "LayoutModel",
          "model_module_version": "1.2.0",
          "state": {
            "_model_module": "@jupyter-widgets/base",
            "_model_module_version": "1.2.0",
            "_model_name": "LayoutModel",
            "_view_count": null,
            "_view_module": "@jupyter-widgets/base",
            "_view_module_version": "1.2.0",
            "_view_name": "LayoutView",
            "align_content": null,
            "align_items": null,
            "align_self": null,
            "border": null,
            "bottom": null,
            "display": null,
            "flex": null,
            "flex_flow": null,
            "grid_area": null,
            "grid_auto_columns": null,
            "grid_auto_flow": null,
            "grid_auto_rows": null,
            "grid_column": null,
            "grid_gap": null,
            "grid_row": null,
            "grid_template_areas": null,
            "grid_template_columns": null,
            "grid_template_rows": null,
            "height": null,
            "justify_content": null,
            "justify_items": null,
            "left": null,
            "margin": null,
            "max_height": null,
            "max_width": null,
            "min_height": null,
            "min_width": null,
            "object_fit": null,
            "object_position": null,
            "order": null,
            "overflow": null,
            "overflow_x": null,
            "overflow_y": null,
            "padding": null,
            "right": null,
            "top": null,
            "visibility": null,
            "width": null
          }
        },
        "2ee52b345e9b4870a544bf400af921d8": {
          "model_module": "@jupyter-widgets/base",
          "model_name": "LayoutModel",
          "model_module_version": "1.2.0",
          "state": {
            "_model_module": "@jupyter-widgets/base",
            "_model_module_version": "1.2.0",
            "_model_name": "LayoutModel",
            "_view_count": null,
            "_view_module": "@jupyter-widgets/base",
            "_view_module_version": "1.2.0",
            "_view_name": "LayoutView",
            "align_content": null,
            "align_items": null,
            "align_self": null,
            "border": null,
            "bottom": null,
            "display": null,
            "flex": null,
            "flex_flow": null,
            "grid_area": null,
            "grid_auto_columns": null,
            "grid_auto_flow": null,
            "grid_auto_rows": null,
            "grid_column": null,
            "grid_gap": null,
            "grid_row": null,
            "grid_template_areas": null,
            "grid_template_columns": null,
            "grid_template_rows": null,
            "height": null,
            "justify_content": null,
            "justify_items": null,
            "left": null,
            "margin": null,
            "max_height": null,
            "max_width": null,
            "min_height": null,
            "min_width": null,
            "object_fit": null,
            "object_position": null,
            "order": null,
            "overflow": null,
            "overflow_x": null,
            "overflow_y": null,
            "padding": null,
            "right": null,
            "top": null,
            "visibility": null,
            "width": null
          }
        },
        "01f4b12ba991449891855df8c260ddb7": {
          "model_module": "@jupyter-widgets/controls",
          "model_name": "DescriptionStyleModel",
          "model_module_version": "1.5.0",
          "state": {
            "_model_module": "@jupyter-widgets/controls",
            "_model_module_version": "1.5.0",
            "_model_name": "DescriptionStyleModel",
            "_view_count": null,
            "_view_module": "@jupyter-widgets/base",
            "_view_module_version": "1.2.0",
            "_view_name": "StyleView",
            "description_width": ""
          }
        },
        "66f661a6ec7d44b6b6c06fc8fb00887f": {
          "model_module": "@jupyter-widgets/base",
          "model_name": "LayoutModel",
          "model_module_version": "1.2.0",
          "state": {
            "_model_module": "@jupyter-widgets/base",
            "_model_module_version": "1.2.0",
            "_model_name": "LayoutModel",
            "_view_count": null,
            "_view_module": "@jupyter-widgets/base",
            "_view_module_version": "1.2.0",
            "_view_name": "LayoutView",
            "align_content": null,
            "align_items": null,
            "align_self": null,
            "border": null,
            "bottom": null,
            "display": null,
            "flex": null,
            "flex_flow": null,
            "grid_area": null,
            "grid_auto_columns": null,
            "grid_auto_flow": null,
            "grid_auto_rows": null,
            "grid_column": null,
            "grid_gap": null,
            "grid_row": null,
            "grid_template_areas": null,
            "grid_template_columns": null,
            "grid_template_rows": null,
            "height": null,
            "justify_content": null,
            "justify_items": null,
            "left": null,
            "margin": null,
            "max_height": null,
            "max_width": null,
            "min_height": null,
            "min_width": null,
            "object_fit": null,
            "object_position": null,
            "order": null,
            "overflow": null,
            "overflow_x": null,
            "overflow_y": null,
            "padding": null,
            "right": null,
            "top": null,
            "visibility": null,
            "width": null
          }
        },
        "613e155767f7475dae63efc7a6af8272": {
          "model_module": "@jupyter-widgets/controls",
          "model_name": "ProgressStyleModel",
          "model_module_version": "1.5.0",
          "state": {
            "_model_module": "@jupyter-widgets/controls",
            "_model_module_version": "1.5.0",
            "_model_name": "ProgressStyleModel",
            "_view_count": null,
            "_view_module": "@jupyter-widgets/base",
            "_view_module_version": "1.2.0",
            "_view_name": "StyleView",
            "bar_color": null,
            "description_width": ""
          }
        },
        "625d5ace51324654b3360af5c323807e": {
          "model_module": "@jupyter-widgets/base",
          "model_name": "LayoutModel",
          "model_module_version": "1.2.0",
          "state": {
            "_model_module": "@jupyter-widgets/base",
            "_model_module_version": "1.2.0",
            "_model_name": "LayoutModel",
            "_view_count": null,
            "_view_module": "@jupyter-widgets/base",
            "_view_module_version": "1.2.0",
            "_view_name": "LayoutView",
            "align_content": null,
            "align_items": null,
            "align_self": null,
            "border": null,
            "bottom": null,
            "display": null,
            "flex": null,
            "flex_flow": null,
            "grid_area": null,
            "grid_auto_columns": null,
            "grid_auto_flow": null,
            "grid_auto_rows": null,
            "grid_column": null,
            "grid_gap": null,
            "grid_row": null,
            "grid_template_areas": null,
            "grid_template_columns": null,
            "grid_template_rows": null,
            "height": null,
            "justify_content": null,
            "justify_items": null,
            "left": null,
            "margin": null,
            "max_height": null,
            "max_width": null,
            "min_height": null,
            "min_width": null,
            "object_fit": null,
            "object_position": null,
            "order": null,
            "overflow": null,
            "overflow_x": null,
            "overflow_y": null,
            "padding": null,
            "right": null,
            "top": null,
            "visibility": null,
            "width": null
          }
        },
        "fcb53d65128b4c3cb8d12c754b933cd8": {
          "model_module": "@jupyter-widgets/controls",
          "model_name": "DescriptionStyleModel",
          "model_module_version": "1.5.0",
          "state": {
            "_model_module": "@jupyter-widgets/controls",
            "_model_module_version": "1.5.0",
            "_model_name": "DescriptionStyleModel",
            "_view_count": null,
            "_view_module": "@jupyter-widgets/base",
            "_view_module_version": "1.2.0",
            "_view_name": "StyleView",
            "description_width": ""
          }
        },
        "5364360734544d2581992cd8f2fc74f8": {
          "model_module": "@jupyter-widgets/controls",
          "model_name": "HBoxModel",
          "model_module_version": "1.5.0",
          "state": {
            "_dom_classes": [],
            "_model_module": "@jupyter-widgets/controls",
            "_model_module_version": "1.5.0",
            "_model_name": "HBoxModel",
            "_view_count": null,
            "_view_module": "@jupyter-widgets/controls",
            "_view_module_version": "1.5.0",
            "_view_name": "HBoxView",
            "box_style": "",
            "children": [
              "IPY_MODEL_1ef975dc43f64b0587234e28530a3628",
              "IPY_MODEL_b3daddb0d3ca4651883816c0df409d7f",
              "IPY_MODEL_9d9fc49896d04260bbd60603defec113"
            ],
            "layout": "IPY_MODEL_dc9ec8359d0f413a9af162b04020ac6a"
          }
        },
        "1ef975dc43f64b0587234e28530a3628": {
          "model_module": "@jupyter-widgets/controls",
          "model_name": "HTMLModel",
          "model_module_version": "1.5.0",
          "state": {
            "_dom_classes": [],
            "_model_module": "@jupyter-widgets/controls",
            "_model_module_version": "1.5.0",
            "_model_name": "HTMLModel",
            "_view_count": null,
            "_view_module": "@jupyter-widgets/controls",
            "_view_module_version": "1.5.0",
            "_view_name": "HTMLView",
            "description": "",
            "description_tooltip": null,
            "layout": "IPY_MODEL_6ba255311bb542b2b5b1adcedd2c5efa",
            "placeholder": "​",
            "style": "IPY_MODEL_836682531c614ba991cebad9373d26ab",
            "value": "100%"
          }
        },
        "b3daddb0d3ca4651883816c0df409d7f": {
          "model_module": "@jupyter-widgets/controls",
          "model_name": "FloatProgressModel",
          "model_module_version": "1.5.0",
          "state": {
            "_dom_classes": [],
            "_model_module": "@jupyter-widgets/controls",
            "_model_module_version": "1.5.0",
            "_model_name": "FloatProgressModel",
            "_view_count": null,
            "_view_module": "@jupyter-widgets/controls",
            "_view_module_version": "1.5.0",
            "_view_name": "ProgressView",
            "bar_style": "success",
            "description": "",
            "description_tooltip": null,
            "layout": "IPY_MODEL_e698e0a11a8548529a162efa58025425",
            "max": 4542,
            "min": 0,
            "orientation": "horizontal",
            "style": "IPY_MODEL_6f392cec92fb448ba6e2907bd68bb959",
            "value": 4542
          }
        },
        "9d9fc49896d04260bbd60603defec113": {
          "model_module": "@jupyter-widgets/controls",
          "model_name": "HTMLModel",
          "model_module_version": "1.5.0",
          "state": {
            "_dom_classes": [],
            "_model_module": "@jupyter-widgets/controls",
            "_model_module_version": "1.5.0",
            "_model_name": "HTMLModel",
            "_view_count": null,
            "_view_module": "@jupyter-widgets/controls",
            "_view_module_version": "1.5.0",
            "_view_name": "HTMLView",
            "description": "",
            "description_tooltip": null,
            "layout": "IPY_MODEL_78f61b2a03184ccbae706020a9578a22",
            "placeholder": "​",
            "style": "IPY_MODEL_32feca2d3f8c4638bb93efe8cd5df503",
            "value": " 4542/4542 [00:00&lt;00:00, 69925.85it/s]"
          }
        },
        "dc9ec8359d0f413a9af162b04020ac6a": {
          "model_module": "@jupyter-widgets/base",
          "model_name": "LayoutModel",
          "model_module_version": "1.2.0",
          "state": {
            "_model_module": "@jupyter-widgets/base",
            "_model_module_version": "1.2.0",
            "_model_name": "LayoutModel",
            "_view_count": null,
            "_view_module": "@jupyter-widgets/base",
            "_view_module_version": "1.2.0",
            "_view_name": "LayoutView",
            "align_content": null,
            "align_items": null,
            "align_self": null,
            "border": null,
            "bottom": null,
            "display": null,
            "flex": null,
            "flex_flow": null,
            "grid_area": null,
            "grid_auto_columns": null,
            "grid_auto_flow": null,
            "grid_auto_rows": null,
            "grid_column": null,
            "grid_gap": null,
            "grid_row": null,
            "grid_template_areas": null,
            "grid_template_columns": null,
            "grid_template_rows": null,
            "height": null,
            "justify_content": null,
            "justify_items": null,
            "left": null,
            "margin": null,
            "max_height": null,
            "max_width": null,
            "min_height": null,
            "min_width": null,
            "object_fit": null,
            "object_position": null,
            "order": null,
            "overflow": null,
            "overflow_x": null,
            "overflow_y": null,
            "padding": null,
            "right": null,
            "top": null,
            "visibility": null,
            "width": null
          }
        },
        "6ba255311bb542b2b5b1adcedd2c5efa": {
          "model_module": "@jupyter-widgets/base",
          "model_name": "LayoutModel",
          "model_module_version": "1.2.0",
          "state": {
            "_model_module": "@jupyter-widgets/base",
            "_model_module_version": "1.2.0",
            "_model_name": "LayoutModel",
            "_view_count": null,
            "_view_module": "@jupyter-widgets/base",
            "_view_module_version": "1.2.0",
            "_view_name": "LayoutView",
            "align_content": null,
            "align_items": null,
            "align_self": null,
            "border": null,
            "bottom": null,
            "display": null,
            "flex": null,
            "flex_flow": null,
            "grid_area": null,
            "grid_auto_columns": null,
            "grid_auto_flow": null,
            "grid_auto_rows": null,
            "grid_column": null,
            "grid_gap": null,
            "grid_row": null,
            "grid_template_areas": null,
            "grid_template_columns": null,
            "grid_template_rows": null,
            "height": null,
            "justify_content": null,
            "justify_items": null,
            "left": null,
            "margin": null,
            "max_height": null,
            "max_width": null,
            "min_height": null,
            "min_width": null,
            "object_fit": null,
            "object_position": null,
            "order": null,
            "overflow": null,
            "overflow_x": null,
            "overflow_y": null,
            "padding": null,
            "right": null,
            "top": null,
            "visibility": null,
            "width": null
          }
        },
        "836682531c614ba991cebad9373d26ab": {
          "model_module": "@jupyter-widgets/controls",
          "model_name": "DescriptionStyleModel",
          "model_module_version": "1.5.0",
          "state": {
            "_model_module": "@jupyter-widgets/controls",
            "_model_module_version": "1.5.0",
            "_model_name": "DescriptionStyleModel",
            "_view_count": null,
            "_view_module": "@jupyter-widgets/base",
            "_view_module_version": "1.2.0",
            "_view_name": "StyleView",
            "description_width": ""
          }
        },
        "e698e0a11a8548529a162efa58025425": {
          "model_module": "@jupyter-widgets/base",
          "model_name": "LayoutModel",
          "model_module_version": "1.2.0",
          "state": {
            "_model_module": "@jupyter-widgets/base",
            "_model_module_version": "1.2.0",
            "_model_name": "LayoutModel",
            "_view_count": null,
            "_view_module": "@jupyter-widgets/base",
            "_view_module_version": "1.2.0",
            "_view_name": "LayoutView",
            "align_content": null,
            "align_items": null,
            "align_self": null,
            "border": null,
            "bottom": null,
            "display": null,
            "flex": null,
            "flex_flow": null,
            "grid_area": null,
            "grid_auto_columns": null,
            "grid_auto_flow": null,
            "grid_auto_rows": null,
            "grid_column": null,
            "grid_gap": null,
            "grid_row": null,
            "grid_template_areas": null,
            "grid_template_columns": null,
            "grid_template_rows": null,
            "height": null,
            "justify_content": null,
            "justify_items": null,
            "left": null,
            "margin": null,
            "max_height": null,
            "max_width": null,
            "min_height": null,
            "min_width": null,
            "object_fit": null,
            "object_position": null,
            "order": null,
            "overflow": null,
            "overflow_x": null,
            "overflow_y": null,
            "padding": null,
            "right": null,
            "top": null,
            "visibility": null,
            "width": null
          }
        },
        "6f392cec92fb448ba6e2907bd68bb959": {
          "model_module": "@jupyter-widgets/controls",
          "model_name": "ProgressStyleModel",
          "model_module_version": "1.5.0",
          "state": {
            "_model_module": "@jupyter-widgets/controls",
            "_model_module_version": "1.5.0",
            "_model_name": "ProgressStyleModel",
            "_view_count": null,
            "_view_module": "@jupyter-widgets/base",
            "_view_module_version": "1.2.0",
            "_view_name": "StyleView",
            "bar_color": null,
            "description_width": ""
          }
        },
        "78f61b2a03184ccbae706020a9578a22": {
          "model_module": "@jupyter-widgets/base",
          "model_name": "LayoutModel",
          "model_module_version": "1.2.0",
          "state": {
            "_model_module": "@jupyter-widgets/base",
            "_model_module_version": "1.2.0",
            "_model_name": "LayoutModel",
            "_view_count": null,
            "_view_module": "@jupyter-widgets/base",
            "_view_module_version": "1.2.0",
            "_view_name": "LayoutView",
            "align_content": null,
            "align_items": null,
            "align_self": null,
            "border": null,
            "bottom": null,
            "display": null,
            "flex": null,
            "flex_flow": null,
            "grid_area": null,
            "grid_auto_columns": null,
            "grid_auto_flow": null,
            "grid_auto_rows": null,
            "grid_column": null,
            "grid_gap": null,
            "grid_row": null,
            "grid_template_areas": null,
            "grid_template_columns": null,
            "grid_template_rows": null,
            "height": null,
            "justify_content": null,
            "justify_items": null,
            "left": null,
            "margin": null,
            "max_height": null,
            "max_width": null,
            "min_height": null,
            "min_width": null,
            "object_fit": null,
            "object_position": null,
            "order": null,
            "overflow": null,
            "overflow_x": null,
            "overflow_y": null,
            "padding": null,
            "right": null,
            "top": null,
            "visibility": null,
            "width": null
          }
        },
        "32feca2d3f8c4638bb93efe8cd5df503": {
          "model_module": "@jupyter-widgets/controls",
          "model_name": "DescriptionStyleModel",
          "model_module_version": "1.5.0",
          "state": {
            "_model_module": "@jupyter-widgets/controls",
            "_model_module_version": "1.5.0",
            "_model_name": "DescriptionStyleModel",
            "_view_count": null,
            "_view_module": "@jupyter-widgets/base",
            "_view_module_version": "1.2.0",
            "_view_name": "StyleView",
            "description_width": ""
          }
        }
      }
    }
  },
  "nbformat": 4,
  "nbformat_minor": 0
}
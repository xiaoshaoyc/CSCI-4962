{
  "nbformat": 4,
  "nbformat_minor": 0,
  "metadata": {
    "colab": {
      "provenance": [],
      "collapsed_sections": [],
      "authorship_tag": "ABX9TyOZS7uql9gSxBWnuLhqlwJU",
      "include_colab_link": true
    },
    "kernelspec": {
      "name": "python3",
      "display_name": "Python 3"
    },
    "language_info": {
      "name": "python"
    },
    "accelerator": "GPU",
    "gpuClass": "standard"
  },
  "cells": [
    {
      "cell_type": "markdown",
      "metadata": {
        "id": "view-in-github",
        "colab_type": "text"
      },
      "source": [
        "<a href=\"https://colab.research.google.com/github/xiaoshaoyc/CSCI-4962/blob/main/CSCI4962_HW1V2GPU.ipynb\" target=\"_parent\"><img src=\"https://colab.research.google.com/assets/colab-badge.svg\" alt=\"Open In Colab\"/></a>"
      ]
    },
    {
      "cell_type": "markdown",
      "source": [
        "# Task1\n",
        "\n",
        "We want to determine if a image is letter 1 or not.\n",
        "\n",
        "Since we are trying to predict an category, we should use logistic \n",
        "regression to solve this problem."
      ],
      "metadata": {
        "id": "V4PlxIPiSOfZ"
      }
    },
    {
      "cell_type": "code",
      "source": [
        "# we used GPU to accelerate the training\n",
        "# please make sure the runtime has an available gpu('cuda:0')\n",
        "# if you want to run it.\n",
        "!nvidia-smi"
      ],
      "metadata": {
        "colab": {
          "base_uri": "https://localhost:8080/"
        },
        "id": "lxIK-lXFXDq6",
        "outputId": "e4eac589-bbcb-4f3f-8dde-a6481fd3e3a7"
      },
      "execution_count": null,
      "outputs": [
        {
          "output_type": "stream",
          "name": "stdout",
          "text": [
            "Sat Sep 10 03:38:23 2022       \n",
            "+-----------------------------------------------------------------------------+\n",
            "| NVIDIA-SMI 460.32.03    Driver Version: 460.32.03    CUDA Version: 11.2     |\n",
            "|-------------------------------+----------------------+----------------------+\n",
            "| GPU  Name        Persistence-M| Bus-Id        Disp.A | Volatile Uncorr. ECC |\n",
            "| Fan  Temp  Perf  Pwr:Usage/Cap|         Memory-Usage | GPU-Util  Compute M. |\n",
            "|                               |                      |               MIG M. |\n",
            "|===============================+======================+======================|\n",
            "|   0  Tesla T4            Off  | 00000000:00:04.0 Off |                    0 |\n",
            "| N/A   48C    P0    28W /  70W |   2262MiB / 15109MiB |      0%      Default |\n",
            "|                               |                      |                  N/A |\n",
            "+-------------------------------+----------------------+----------------------+\n",
            "                                                                               \n",
            "+-----------------------------------------------------------------------------+\n",
            "| Processes:                                                                  |\n",
            "|  GPU   GI   CI        PID   Type   Process name                  GPU Memory |\n",
            "|        ID   ID                                                   Usage      |\n",
            "|=============================================================================|\n",
            "+-----------------------------------------------------------------------------+\n"
          ]
        }
      ]
    },
    {
      "cell_type": "code",
      "execution_count": null,
      "metadata": {
        "id": "Mg-SqWWgSNRY"
      },
      "outputs": [],
      "source": [
        "# init\n",
        "import math\n",
        "import pandas as pd\n",
        "import numpy as np\n",
        "from tqdm import tqdm\n",
        "import torch\n",
        "import torchvision\n",
        "from torch.utils.data import DataLoader\n",
        "from matplotlib import pyplot as plt"
      ]
    },
    {
      "cell_type": "markdown",
      "source": [
        "# Task2\n",
        "We used [MNIST](http://yann.lecun.com/exdb/mnist/) dataset.\n",
        "\n",
        "The MNIST train dataset contains clean data, meaning there is **no missing data**. It contains 6742 images of letter $1$ and 53258 images of not letter $1$. Each image has a resolution of 28x28.\n",
        "</br>\n",
        "</br>\n",
        "We can extract features from the images. However, it is also possible to use every pixel as a feature(so we have 784 features). In this case, **outliers** are impossible since every pixel has a data range from 0 to 255.\n",
        "**Principal Component Analysis**, which is used to reduce the correlation of features, is also unnecessary because each pixel is independent. \n",
        "Nevertheless, we need to map the image sample from [0,255] to [0,1] to \n",
        "get a more stable outcome. "
      ],
      "metadata": {
        "id": "nqzP7yWTUSf7"
      }
    },
    {
      "cell_type": "code",
      "source": [
        "def transform1(x):\n",
        "  # transformation for raw image data\n",
        "  return torch.tensor(np.array(x).reshape(-1) / 255)\n",
        "\n",
        "def y_trans(y):\n",
        "  # transformation for label\n",
        "  return (y == 1) * 1.0\n",
        "\n",
        "# Here, we store all the data in memory to accelerate training\n",
        "class Mem_dataset(torch.utils.data.Dataset):\n",
        "  def __init__(self, dataset) -> None:\n",
        "    super().__init__()\n",
        "    self.cache = {}\n",
        "    self.dataset = dataset\n",
        "\n",
        "  def __getitem__(self, index):\n",
        "    if index in self.cache:\n",
        "      return self.cache[index]\n",
        "    else:\n",
        "      item = self.dataset[index]\n",
        "      self.cache[index] = item\n",
        "      return item\n",
        "\n",
        "  def __len__(self):\n",
        "    return len(self.dataset) "
      ],
      "metadata": {
        "id": "nMjW7fKpVCUG"
      },
      "execution_count": null,
      "outputs": []
    },
    {
      "cell_type": "code",
      "source": [
        "# fetch the dataset\n",
        "train_dataset = torchvision.datasets.MNIST(root='', train=True, download=True, transform=transform1, target_transform=y_trans)\n",
        "\n",
        "train_dataset_opt = Mem_dataset(train_dataset)"
      ],
      "metadata": {
        "id": "Mk06vK1ASwGz"
      },
      "execution_count": null,
      "outputs": []
    },
    {
      "cell_type": "code",
      "source": [
        "# sample analyze\n",
        "num1_list = list(filter(lambda x: x[1] == 1, train_dataset_opt))\n",
        "not1_list = list(filter(lambda x: x[1] != 1, train_dataset_opt))\n",
        "\n",
        "print(f'number of 1\\'s = {len(num1_list)}')\n",
        "print(f'number of not 1\\'s = {len(not1_list)}')\n",
        "\n",
        "fig, ax_list0 = plt.subplots(1, 3, figsize=(5, 10), constrained_layout=True)\n",
        "ax_list0[0].imshow(num1_list[0][0].reshape(28, 28), cmap='binary')\n",
        "ax_list0[1].imshow(num1_list[1][0].reshape(28, 28), cmap='binary')\n",
        "ax_list0[2].imshow(num1_list[2][0].reshape(28, 28), cmap='binary')\n",
        "plt.title('is num 1')\n",
        "plt.show()\n",
        "\n",
        "fig, ax_list1 = plt.subplots(1, 3, figsize=(5, 10), constrained_layout=True)\n",
        "ax_list1[0].imshow(not1_list[0][0].reshape(28, 28), cmap='binary')\n",
        "ax_list1[1].imshow(not1_list[1][0].reshape(28, 28), cmap='binary')\n",
        "ax_list1[2].imshow(not1_list[2][0].reshape(28, 28), cmap='binary')\n",
        "plt.title('is not num 1')\n",
        "plt.show()"
      ],
      "metadata": {
        "colab": {
          "base_uri": "https://localhost:8080/",
          "height": 333
        },
        "id": "djWaxc-dRWR4",
        "outputId": "e5fb570a-63ec-4812-9ea5-8b6fecb46e41"
      },
      "execution_count": null,
      "outputs": [
        {
          "output_type": "stream",
          "name": "stdout",
          "text": [
            "number of 1's = 6742\n",
            "number of not 1's = 53258\n"
          ]
        },
        {
          "output_type": "display_data",
          "data": {
            "text/plain": [
              "<Figure size 360x720 with 3 Axes>"
            ],
            "image/png": "[encoded data removed]"
          },
          "metadata": {
            "needs_background": "light"
          }
        },
        {
          "output_type": "display_data",
          "data": {
            "text/plain": [
              "<Figure size 360x720 with 3 Axes>"
            ],
            "image/png": "[encoded data removed]"
          },
          "metadata": {
            "needs_background": "light"
          }
        }
      ]
    },
    {
      "cell_type": "markdown",
      "source": [
        "# Task 3\n",
        "Our cost function is $c^{i}(y^{(i)},\\hat{y}^{(i)})$ = $-(y^{(i)}\\space log\\hat{y}^{(i)} + (1-y^{i}) log(1-\\hat{y}^{(i)}))$, where $\\hat{y}^{i}$ is the predict output for image $i$.\n",
        "\n",
        "We also have this cost for the entire data from `Lecture_2.pynb`\n",
        "$$C(y,\\hat{y}) = \\frac{1}{n} \\sum_{i=1}^{n} c^{i}(y^{(i)},\\hat{y}^{(i)})$$\n",
        "\n",
        ", and the derivative functions, where $X$ is the input, $A$ is the\n",
        "predicted output, $Y$ is the ground truth.\n",
        "$$ \\frac{\\partial L}{\\partial w} = \\frac{1}{n}X(A-Y)^T$$\n",
        "$$ \\frac{\\partial L}{\\partial b} = \\frac{1}{n} \\sum_{i=1}^n (a^{(i)}-y^{(i)})$$\n",
        "\n",
        "\n",
        "\n"
      ],
      "metadata": {
        "id": "zAOQfX_LUyFa"
      }
    },
    {
      "cell_type": "code",
      "source": [
        "def draw_loss(loss_list, title):\n",
        "  plt.plot(loss_list)\n",
        "  plt.title(title)\n",
        "  plt.xlabel('epoch')\n",
        "  plt.ylabel('loss')\n",
        "  last_x = len(loss_list) - 1\n",
        "  last_y = loss_list[-1]\n",
        "  plt.text(last_x*0.95, last_y*1.1, f'{last_y:.4}')\n"
      ],
      "metadata": {
        "id": "K34GE2_dNZWO"
      },
      "execution_count": null,
      "outputs": []
    },
    {
      "cell_type": "code",
      "source": [
        "SMALL_CONSTANT = 0\n",
        "def cost_fn(y, y_pred):\n",
        "  return -1/len(y)*torch.sum(\n",
        "      y * torch.log(y_pred + SMALL_CONSTANT)\n",
        "      + (1-y) * torch.log(1-y_pred - SMALL_CONSTANT)\n",
        "      )\n",
        "\n",
        "def deriv_fn(x, y, y_pred):\n",
        "  dw = (x.T @ (y_pred-y)) / len(y)\n",
        "  db = torch.sum(y_pred-y) / len(y)\n",
        "  return dw, db\n",
        "\n",
        "def sigmoid(x):\n",
        "  return 1 / (1 + torch.exp(-x))\n",
        "\n",
        "\n",
        "class vanilla:\n",
        "  def __init__(self, lr) -> None:\n",
        "    self.lr = lr\n",
        "\n",
        "  def update(self, w, dw, b, db):\n",
        "    w = w - self.lr * dw\n",
        "    b = b - self.lr * db\n",
        "    return w, b"
      ],
      "metadata": {
        "id": "V_cFkU0VUABw"
      },
      "execution_count": null,
      "outputs": []
    },
    {
      "cell_type": "code",
      "source": [
        "GPU = torch.device('cuda:0')"
      ],
      "metadata": {
        "id": "dWqcGdk9Q8-P"
      },
      "execution_count": null,
      "outputs": []
    },
    {
      "cell_type": "code",
      "source": [
        "# init weights\n",
        "shape = train_dataset[0][0].shape\n",
        "W = torch.zeros(shape, dtype=torch.double).reshape(-1, 1).to(GPU)\n",
        "B = 0"
      ],
      "metadata": {
        "id": "upO4N-Fcf0N_"
      },
      "execution_count": null,
      "outputs": []
    },
    {
      "cell_type": "code",
      "source": [
        "optimizer = vanilla(0.001)"
      ],
      "metadata": {
        "id": "WhotiPLXC8eH"
      },
      "execution_count": null,
      "outputs": []
    },
    {
      "cell_type": "code",
      "source": [
        "# batch gradient descent\n",
        "@torch.no_grad()\n",
        "def train_vanilla(epoch, W, B, optimizer):\n",
        "  cost_list = []\n",
        "  cost = None\n",
        "  print('preparing data')\n",
        "  image_list, label_list = zip(*train_dataset)\n",
        "  print(f'start training for {epoch} epoch')\n",
        "  pbar = tqdm(range(epoch))\n",
        "  for i in pbar:\n",
        "    image = torch.stack(image_list).to(GPU)\n",
        "    label = torch.tensor(label_list).reshape(-1, 1).to(GPU)\n",
        "    y_pred = sigmoid(image @ W + B)\n",
        "\n",
        "    cost = cost_fn(label, y_pred).item()\n",
        "    if math.isinf(cost):\n",
        "      cost = 0xFFFF\n",
        "\n",
        "    dw, db = deriv_fn(image, label, y_pred)\n",
        "    W, B = optimizer.update(W, dw, B, db)\n",
        "\n",
        "    pbar.set_description(f'loss={cost}')\n",
        "    cost_list.append(cost)\n",
        "\n",
        "  return cost_list\n",
        "\n",
        "optimizer = vanilla(0.001)\n",
        "batch_loss_list = train_vanilla(50, W, B, optimizer)\n",
        "draw_loss(batch_loss_list, 'batch_loss')"
      ],
      "metadata": {
        "colab": {
          "base_uri": "https://localhost:8080/",
          "height": 350
        },
        "id": "-efj3Hs3iW9-",
        "outputId": "ef2a6c65-0ed3-4188-8194-2e736f104b7e"
      },
      "execution_count": null,
      "outputs": [
        {
          "output_type": "stream",
          "name": "stdout",
          "text": [
            "preparing data\n",
            "start training for 50 epoch\n"
          ]
        },
        {
          "output_type": "stream",
          "name": "stderr",
          "text": [
            "loss=0.48030028055839197: 100%|██████████| 50/50 [00:10<00:00,  4.73it/s]\n"
          ]
        },
        {
          "output_type": "display_data",
          "data": {
            "text/plain": [
              "<Figure size 432x288 with 1 Axes>"
            ],
            "image/png": "[encoded data removed]"
          },
          "metadata": {
            "needs_background": "light"
          }
        }
      ]
    },
    {
      "cell_type": "code",
      "source": [
        "# stochastic gradient descent\n",
        "import random\n",
        "\n",
        "CPU = torch.device('cpu') # IO too slow on gpu...\n",
        "\n",
        "@torch.no_grad()\n",
        "def train_vanilla(epoch, W, B, optimizer):\n",
        "  W = W.to(CPU)\n",
        "\n",
        "  cost_list = []\n",
        "  cost = None\n",
        "  print('preparing data')\n",
        "  t_dataset = list(train_dataset)\n",
        "  print(f'start training for {epoch} epoch')\n",
        "  pbar = tqdm(range(epoch))\n",
        "  for i in pbar:\n",
        "    total_cost = 0\n",
        "    random.shuffle(t_dataset) # shuffle\n",
        "\n",
        "    for sample in t_dataset:\n",
        "      image = [sample[0]]\n",
        "      label = [sample[1]]\n",
        "\n",
        "      image = torch.stack(image).to(CPU)\n",
        "      label = torch.tensor(label).reshape(-1, 1).to(CPU)\n",
        "      y_pred = sigmoid(image @ W + B)\n",
        "\n",
        "      cost = cost_fn(label, y_pred).item()\n",
        "      if math.isinf(cost):\n",
        "        cost = 0xFFFF\n",
        "\n",
        "      dw, db = deriv_fn(image, label, y_pred)\n",
        "      W, B = optimizer.update(W, dw, B, db)\n",
        "      total_cost += cost\n",
        "\n",
        "    total_cost /= len(train_dataset)\n",
        "    pbar.set_description(f'loss={total_cost}')\n",
        "    cost_list.append(total_cost)\n",
        "\n",
        "  return cost_list\n",
        "\n",
        "optimizer = vanilla(0.001)\n",
        "stochastic_loss = train_vanilla(50, W, B, optimizer)\n",
        "draw_loss(stochastic_loss, 'stochastic_loss')"
      ],
      "metadata": {
        "colab": {
          "base_uri": "https://localhost:8080/"
        },
        "id": "fDxIPUy9Av8n",
        "outputId": "62ae0346-76b7-4e46-d0f0-62d913e892a2"
      },
      "execution_count": null,
      "outputs": [
        {
          "output_type": "stream",
          "name": "stdout",
          "text": [
            "preparing data\n",
            "start training for 50 epoch\n"
          ]
        },
        {
          "output_type": "stream",
          "name": "stderr",
          "text": [
            "loss=0.026622752298596883: 100%|██████████| 50/50 [10:50<00:00, 13.00s/it]\n"
          ]
        }
      ]
    },
    {
      "cell_type": "code",
      "source": [
        "# mini-batch gradient descent\n",
        "import random\n",
        "\n",
        "@torch.no_grad()\n",
        "def train_vanilla(epoch, W, B, optimizer):\n",
        "  batch_size = 10000\n",
        "\n",
        "  cost_list = []\n",
        "  cost = None\n",
        "  print('preparing data')\n",
        "  t_dataset = list(train_dataset)\n",
        "  print(f'start training for {epoch} epoch')\n",
        "  pbar = tqdm(range(epoch))\n",
        "  for i in pbar:\n",
        "    index = 0\n",
        "    total_cost = 0\n",
        "    random.shuffle(t_dataset) # shuffle\n",
        "\n",
        "    while index < len(t_dataset):\n",
        "      end = min(index+batch_size, len(t_dataset))\n",
        "      image, label = zip(*t_dataset[index:end])\n",
        "\n",
        "      image = torch.stack(image).to(GPU)\n",
        "      label = torch.tensor(label).reshape(-1, 1).to(GPU)\n",
        "      y_pred = sigmoid(image @ W + B)\n",
        "\n",
        "      cost = cost_fn(label, y_pred).item()\n",
        "      if math.isinf(cost):\n",
        "        cost = 0xFFFF\n",
        "\n",
        "      dw, db = deriv_fn(image, label, y_pred)\n",
        "      W, B = optimizer.update(W, dw, B, db)\n",
        "      total_cost += cost\n",
        "\n",
        "      # go to next mini-batch\n",
        "      index += batch_size\n",
        "\n",
        "    total_cost /= (len(t_dataset) // batch_size)\n",
        "    pbar.set_description(f'loss={total_cost}')\n",
        "    cost_list.append(total_cost)\n",
        "  \n",
        "  return cost_list\n",
        "\n",
        "\n",
        "optimizer = vanilla(0.001)\n",
        "mini_batch_loss = train_vanilla(50, W, B, optimizer)\n",
        "draw_loss(mini_batch_loss, 'mini_batch_loss')"
      ],
      "metadata": {
        "colab": {
          "base_uri": "https://localhost:8080/",
          "height": 350
        },
        "id": "ekX636VoEAH0",
        "outputId": "b5337ddf-3204-44ae-be12-5452c0c6b797"
      },
      "execution_count": null,
      "outputs": [
        {
          "output_type": "stream",
          "name": "stdout",
          "text": [
            "preparing data\n",
            "start training for 50 epoch\n"
          ]
        },
        {
          "output_type": "stream",
          "name": "stderr",
          "text": [
            "loss=0.27573493754895795: 100%|██████████| 50/50 [00:17<00:00,  2.90it/s]\n"
          ]
        },
        {
          "output_type": "display_data",
          "data": {
            "text/plain": [
              "<Figure size 432x288 with 1 Axes>"
            ],
            "image/png": "[encoded data removed]"
          },
          "metadata": {
            "needs_background": "light"
          }
        }
      ]
    },
    {
      "cell_type": "markdown",
      "source": [
        "# Task 4\n",
        "We will use `Adam` and `Rmsprop` to optimize the 'vanilla' gradient descent."
      ],
      "metadata": {
        "id": "q87avY9YhE1B"
      }
    },
    {
      "cell_type": "code",
      "source": [
        "class Adam:\n",
        "  def __init__(self, lr, betas, eps) -> None:\n",
        "    self.m = 0\n",
        "    self.v = 0\n",
        "    self.m_b = 0\n",
        "    self.v_b = 0\n",
        "    self.lr = lr\n",
        "    self.b1, self.b2 = betas\n",
        "    self.eps = eps\n",
        "\n",
        "  def update(self, w, dw, b, db):\n",
        "    self.m = self.b1 * self.m + (1-self.b1) * dw\n",
        "    self.v = self.b2 * self.v + (1-self.b2) * (dw ** 2)\n",
        "    self.m_b = self.b1 * self.m_b + (1-self.b1) * b\n",
        "    self.v_b = self.b2 * self.v_b + (1-self.b2) * (db ** 2)\n",
        "    m_hat = self.m / (1 - self.b1)\n",
        "    v_hat = self.v / (1 - self.b2)\n",
        "    m_hat_b = self.m_b / (1 - self.b1)\n",
        "    v_hat_b = self.v_b / (1 - self.b2)\n",
        "    return (\n",
        "        w - self.lr / (torch.sqrt(v_hat) + self.eps) * m_hat,\n",
        "        b - self.lr / (torch.sqrt(v_hat_b) + self.eps) * m_hat_b\n",
        "    ) \n",
        "\n",
        "\n",
        "class Rmsprop:\n",
        "  def __init__(self, lr, alpha=0.9, eps=1e-8) -> None:\n",
        "    self.prev_w = 0\n",
        "    self.prev_b = 0\n",
        "    self.lr = lr\n",
        "    self.alpha = alpha\n",
        "    self.eps = eps\n",
        "\n",
        "  def update(self, w, dw, b, db):\n",
        "    new_w = self.alpha * self.prev_w + (1-self.alpha) * (dw ** 2)\n",
        "    self.prev_w = new_w\n",
        "    new_b = self.alpha * self.prev_b + (1-self.alpha) * (db ** 2)\n",
        "    self.prev_b = new_b\n",
        "    return (\n",
        "        w - self.lr / torch.sqrt(new_w + self.eps) * dw,\n",
        "        b - self.lr / torch.sqrt(new_b + self.eps) * db\n",
        "    ) "
      ],
      "metadata": {
        "id": "CFOQWDpmhJCv"
      },
      "execution_count": null,
      "outputs": []
    },
    {
      "cell_type": "code",
      "source": [
        "# Rmsprop\n",
        "@torch.no_grad()\n",
        "def train(epoch, W, B, optimizer):\n",
        "  W = W.to(GPU)\n",
        "\n",
        "  cost_list = []\n",
        "  cost = None\n",
        "  print('preparing data')\n",
        "  image_list, label_list = zip(*train_dataset_opt)\n",
        "  print(f'start training for {epoch} epoch')\n",
        "  pbar = tqdm(range(epoch))\n",
        "  for i in pbar:\n",
        "    image = torch.stack(image_list).to(GPU)\n",
        "    label = torch.tensor(label_list).reshape(-1, 1).to(GPU)\n",
        "    y_pred = sigmoid(image @ W + B)\n",
        "\n",
        "    cost = cost_fn(label, y_pred).item()\n",
        "    if math.isinf(cost):\n",
        "      cost = 0xFFFF\n",
        "\n",
        "    dw, db = deriv_fn(image, label, y_pred)\n",
        "    W, B = optimizer.update(W, dw, B, db)\n",
        "\n",
        "    pbar.set_description(f'loss={cost}')\n",
        "    cost_list.append(cost)\n",
        "\n",
        "  return cost_list\n",
        "\n",
        "optimizer = Rmsprop(0.001)\n",
        "rmsprop_loss_list = train(50, W, B, optimizer)\n",
        "draw_loss(rmsprop_loss_list, 'rmsprop_loss')"
      ],
      "metadata": {
        "colab": {
          "base_uri": "https://localhost:8080/",
          "height": 350
        },
        "id": "uRlHcEjcG0Va",
        "outputId": "bc00eddc-bc09-4891-a21b-471c14ea40cc"
      },
      "execution_count": null,
      "outputs": [
        {
          "output_type": "stream",
          "name": "stdout",
          "text": [
            "preparing data\n",
            "start training for 50 epoch\n"
          ]
        },
        {
          "output_type": "stream",
          "name": "stderr",
          "text": [
            "loss=0.17479341421512515: 100%|██████████| 50/50 [00:10<00:00,  4.65it/s]\n"
          ]
        },
        {
          "output_type": "display_data",
          "data": {
            "text/plain": [
              "<Figure size 432x288 with 1 Axes>"
            ],
            "image/png": "[encoded data removed]"
          },
          "metadata": {
            "needs_background": "light"
          }
        }
      ]
    },
    {
      "cell_type": "code",
      "source": [
        "# Adam\n",
        "optimizer = Adam(0.001, (0.9, 0.999), 1e-08)\n",
        "adam_loss_list = train(50, W, B, optimizer)\n",
        "draw_loss(adam_loss_list, 'adam_loss')"
      ],
      "metadata": {
        "colab": {
          "base_uri": "https://localhost:8080/",
          "height": 350
        },
        "id": "Hqhwg-CpK50v",
        "outputId": "1c2c08c1-5e6b-4c15-f513-de5e16023920"
      },
      "execution_count": null,
      "outputs": [
        {
          "output_type": "stream",
          "name": "stdout",
          "text": [
            "preparing data\n",
            "start training for 50 epoch\n"
          ]
        },
        {
          "output_type": "stream",
          "name": "stderr",
          "text": [
            "loss=0.16923103424634423: 100%|██████████| 50/50 [00:10<00:00,  4.63it/s]\n"
          ]
        },
        {
          "output_type": "display_data",
          "data": {
            "text/plain": [
              "<Figure size 432x288 with 1 Axes>"
            ],
            "image/png": "[encoded data removed]"
          },
          "metadata": {
            "needs_background": "light"
          }
        }
      ]
    },
    {
      "cell_type": "code",
      "source": [
        "# vanilla\n",
        "optimizer = vanilla(0.001)\n",
        "vanilla_loss_list = train(50, W, B, optimizer)\n",
        "draw_loss(vanilla_loss_list, 'vanilla_loss')"
      ],
      "metadata": {
        "colab": {
          "base_uri": "https://localhost:8080/",
          "height": 350
        },
        "id": "hag0P2glPB-9",
        "outputId": "a0b02b96-b978-45be-f1d4-6f211f9a45ac"
      },
      "execution_count": null,
      "outputs": [
        {
          "output_type": "stream",
          "name": "stdout",
          "text": [
            "preparing data\n",
            "start training for 50 epoch\n"
          ]
        },
        {
          "output_type": "stream",
          "name": "stderr",
          "text": [
            "loss=0.48030028055839197: 100%|██████████| 50/50 [00:10<00:00,  4.67it/s]\n"
          ]
        },
        {
          "output_type": "display_data",
          "data": {
            "text/plain": [
              "<Figure size 432x288 with 1 Axes>"
            ],
            "image/png": "[encoded data removed]"
          },
          "metadata": {
            "needs_background": "light"
          }
        }
      ]
    },
    {
      "cell_type": "code",
      "source": [
        "# compare different algorithm\n",
        "plt.plot(vanilla_loss_list, label='Vanilla')\n",
        "plt.plot(adam_loss_list, label='Adam')\n",
        "plt.plot(rmsprop_loss_list, label='Rmsprop')\n",
        "plt.title('Vanilla v.s. Adam v.s. Rmsprop')\n",
        "plt.xlabel('epoch')\n",
        "plt.ylabel('loss')\n",
        "plt.legend()"
      ],
      "metadata": {
        "colab": {
          "base_uri": "https://localhost:8080/",
          "height": 313
        },
        "id": "kLLiFzTkPoFQ",
        "outputId": "a4139f93-6da6-41e8-f72a-97849bb708de"
      },
      "execution_count": null,
      "outputs": [
        {
          "output_type": "execute_result",
          "data": {
            "text/plain": [
              "<matplotlib.legend.Legend at 0x7fa87f71c390>"
            ]
          },
          "metadata": {},
          "execution_count": 122
        },
        {
          "output_type": "display_data",
          "data": {
            "text/plain": [
              "<Figure size 432x288 with 1 Axes>"
            ],
            "image/png": "[encoded data removed]"
          },
          "metadata": {
            "needs_background": "light"
          }
        }
      ]
    },
    {
      "cell_type": "markdown",
      "source": [
        "We used each of Vanilla, Adam, and Rmsprop to train our model for 50 epoches. The Vanilla algorithm reaches an in-sample err of `0.480`; the Adam algorithm achieved an in-sample error of `0.169`; the Rmsprop algorithm had an in-sample error of `0.175`. We should use the advanced optimization algorithm since it gives a boost to our learning speed, and the model will converge faster."
      ],
      "metadata": {
        "id": "MFAmXzLgXTXI"
      }
    },
    {
      "cell_type": "markdown",
      "source": [
        "# TEST"
      ],
      "metadata": {
        "id": "FdkrQ0bMe28h"
      }
    },
    {
      "cell_type": "code",
      "source": [
        "# Adam\n",
        "optimizer = Adam(0.001, (0.9, 0.999), 1e-08)\n",
        "adam_loss_list = train(500, W, B, optimizer)\n",
        "draw_loss(adam_loss_list, 'adam_loss')"
      ],
      "metadata": {
        "colab": {
          "base_uri": "https://localhost:8080/",
          "height": 350
        },
        "id": "8Fa8VfY8e2LQ",
        "outputId": "b573fedf-833e-4e95-c4b9-066eeaaf6fd4"
      },
      "execution_count": null,
      "outputs": [
        {
          "output_type": "stream",
          "name": "stdout",
          "text": [
            "preparing data\n",
            "start training for 500 epoch\n"
          ]
        },
        {
          "output_type": "stream",
          "name": "stderr",
          "text": [
            "loss=0.05902452903341372: 100%|██████████| 500/500 [01:48<00:00,  4.60it/s]\n"
          ]
        },
        {
          "output_type": "display_data",
          "data": {
            "text/plain": [
              "<Figure size 432x288 with 1 Axes>"
            ],
            "image/png": "[encoded data removed]"
          },
          "metadata": {
            "needs_background": "light"
          }
        }
      ]
    }
  ]
}